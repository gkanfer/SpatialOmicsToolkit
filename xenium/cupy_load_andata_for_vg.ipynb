{
 "cells": [
  {
   "cell_type": "code",
   "execution_count": 1,
   "id": "16e7f7a0-7d95-4b2e-ab72-e97bad703f89",
   "metadata": {},
   "outputs": [],
   "source": [
    "import cupy as cp\n",
    "import cupyx\n",
    "import scanpy as sc\n",
    "import voyagerpy as vp\n",
    "from cupyx.scipy.sparse import csr_matrix\n",
    "import os"
   ]
  },
  {
   "cell_type": "code",
   "execution_count": 2,
   "id": "9f25dd60-2e30-45d8-8c86-6e3935cae95f",
   "metadata": {},
   "outputs": [],
   "source": [
    "path = \"/data/kanferg/Sptial_Omics/playGround/Data/Xenium/output_temp\"\n",
    "pathout = \"/data/kanferg/Sptial_Omics/SpatialOmicsToolkit/out_1\"\n",
    "FilePrefix = \"_072824\" "
   ]
  },
  {
   "cell_type": "code",
   "execution_count": 3,
   "id": "52f751d3-9898-4947-83bf-50e24794b910",
   "metadata": {},
   "outputs": [],
   "source": [
    "andata = sc.read_h5ad(os.path.join(pathout, \"andata_save.h5ad\"))"
   ]
  },
  {
   "cell_type": "code",
   "execution_count": 4,
   "id": "da8ffb70-6dea-4ff3-b0b2-d49b86ab9630",
   "metadata": {},
   "outputs": [],
   "source": [
    "npzfile = cp.load(os.path.join(pathout, \"obsp_distances.npz\"))\n",
    "data = cp.array(npzfile['data'])\n",
    "indices = cp.array(npzfile['indices'])\n",
    "indptr = cp.array(npzfile['indptr'])\n",
    "shape = tuple(npzfile['shape'])\n",
    "\n",
    "# Reconstruct the sparse matrix\n",
    "sparse_matrix_distances = csr_matrix((data, indices, indptr), shape=shape)\n",
    "\n",
    "\n",
    "npzfile = cp.load(os.path.join(pathout, \"connectivities.npz\"))\n",
    "data = cp.array(npzfile['data'])\n",
    "indices = cp.array(npzfile['indices'])\n",
    "indptr = cp.array(npzfile['indptr'])\n",
    "shape = tuple(npzfile['shape'])\n",
    "\n",
    "# Reconstruct the sparse matrix\n",
    "sparse_matrix_connectivities = csr_matrix((data, indices, indptr), shape=shape)"
   ]
  },
  {
   "cell_type": "code",
   "execution_count": 5,
   "id": "b8226f07-a368-42c8-959b-67061e595753",
   "metadata": {},
   "outputs": [],
   "source": [
    "andata.obsp['distances'] = sparse_matrix_distances.get()\n",
    "andata.obsp['connectivities'] = sparse_matrix_connectivities.get()\n",
    "\n",
    "# andata.obsp['distances'] = sparse_matrix_distances\n",
    "# andata.obsp['connectivities'] = sparse_matrix_connectivities"
   ]
  },
  {
   "cell_type": "code",
   "execution_count": 6,
   "id": "0dd884c3-019f-4767-8522-a1856945299a",
   "metadata": {},
   "outputs": [],
   "source": [
    "sc.pp.subsample(andata,copy=False,n_obs=10_000)"
   ]
  },
  {
   "cell_type": "code",
   "execution_count": 7,
   "id": "851fb864-912f-4002-8ec9-8ebaa5311c1f",
   "metadata": {},
   "outputs": [],
   "source": [
    "dist = andata.obsp['distances']\n",
    "#dist = andata.obsp[f'distances'].copy()\n",
    "epsilon = 1e-10\n",
    "dist.data = 1 / (dist.data + epsilon)\n",
    "dist /= dist.sum(axis=1)"
   ]
  },
  {
   "cell_type": "code",
   "execution_count": 9,
   "id": "6f23c1d2-2d03-416e-98da-7355398d39e2",
   "metadata": {},
   "outputs": [],
   "source": [
    "andata.obsp[\"weights\"] = dist"
   ]
  },
  {
   "cell_type": "code",
   "execution_count": 10,
   "id": "7d2ec896-24e4-4fd6-bf9b-8600324138d8",
   "metadata": {},
   "outputs": [],
   "source": [
    "del dist\n",
    "knn_graph = \"weights\"\n",
    "andata.obsp[f\"connectivities\"] = (andata.obsp[knn_graph] > 0).astype(cp.float32)  "
   ]
  }
 ],
 "metadata": {
  "kernelspec": {
   "display_name": "Python 3 (ipykernel)",
   "language": "python",
   "name": "python3"
  },
  "language_info": {
   "codemirror_mode": {
    "name": "ipython",
    "version": 3
   },
   "file_extension": ".py",
   "mimetype": "text/x-python",
   "name": "python",
   "nbconvert_exporter": "python",
   "pygments_lexer": "ipython3",
   "version": "3.8.19"
  }
 },
 "nbformat": 4,
 "nbformat_minor": 5
}
