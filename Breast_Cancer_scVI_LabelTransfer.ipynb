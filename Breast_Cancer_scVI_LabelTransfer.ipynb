{
 "cells": [
  {
   "cell_type": "markdown",
   "id": "849fb3c8",
   "metadata": {},
   "source": [
    "<center> Advanced Integration and Annotation of scRNA-seq Data Using scVI: Hyperparameter Tuning, Label Transfer, and Custom Reference Creation"
   ]
  },
  {
   "cell_type": "markdown",
   "id": "6188af95",
   "metadata": {},
   "source": [
    "# Introduction\n",
    "\n",
    "In this notebook, data from 10X Genomics will be uploaded following the application of Harmony correction. The scVI model, a preferred integration method for scRNA-seq data, will be tested here. Additionally, scVI and scANVI will be applied to enable label transfer from the CZI scRNA-seq atlas, which contains six RNA-seq samples.\n",
    "\n",
    "The procedure is divided into two parts. First, label transfer and the second will be integration.\n",
    "\n",
    "First, the data will be uploaded. For those interested in exploring alternative label transfer methods, the `celltypist` model can be used. However, this notebook will focus on atlas-based label transfer. [GitHub reference](https://github.com/mousepixels/sanbomics_scripts/blob/main/sc2024/annotation_integration.ipynb)\n"
   ]
  },
  {
   "cell_type": "markdown",
   "id": "3c9e9c5c",
   "metadata": {},
   "source": [
    "### Label Transfer"
   ]
  },
  {
   "cell_type": "code",
   "execution_count": 1,
   "id": "49af7d80",
   "metadata": {},
   "outputs": [],
   "source": [
    "import warnings\n",
    "warnings.simplefilter(\"ignore\", FutureWarning)\n",
    "warnings.simplefilter(\"ignore\", UserWarning)\n",
    "warnings.simplefilter(\"ignore\", RuntimeWarning)"
   ]
  },
  {
   "cell_type": "code",
   "execution_count": 2,
   "id": "2af6c288",
   "metadata": {},
   "outputs": [
    {
     "name": "stdout",
     "output_type": "stream",
     "text": [
      "CUDA available: True\n"
     ]
    },
    {
     "ename": "ModuleNotFoundError",
     "evalue": "Please install ['hyperopt', 'ray.tune'] to use this functionality.",
     "output_type": "error",
     "traceback": [
      "\u001b[0;31m---------------------------------------------------------------------------\u001b[0m",
      "\u001b[0;31mModuleNotFoundError\u001b[0m                       Traceback (most recent call last)",
      "Cell \u001b[0;32mIn[2], line 14\u001b[0m\n\u001b[1;32m     11\u001b[0m \u001b[38;5;28;01mimport\u001b[39;00m \u001b[38;5;21;01mcelltypist\u001b[39;00m\n\u001b[1;32m     12\u001b[0m \u001b[38;5;28;01mfrom\u001b[39;00m \u001b[38;5;21;01mcelltypist\u001b[39;00m \u001b[38;5;28;01mimport\u001b[39;00m models\n\u001b[0;32m---> 14\u001b[0m \u001b[38;5;28;01mfrom\u001b[39;00m \u001b[38;5;21;01mscvi\u001b[39;00m\u001b[38;5;21;01m.\u001b[39;00m\u001b[38;5;21;01mautotune\u001b[39;00m \u001b[38;5;28;01mimport\u001b[39;00m ModelTuner\n\u001b[1;32m     15\u001b[0m \u001b[38;5;28;01mfrom\u001b[39;00m \u001b[38;5;21;01mray\u001b[39;00m \u001b[38;5;28;01mimport\u001b[39;00m tune\n",
      "File \u001b[0;32m/gpfs/gsfs10/users/kanferg/conda/envs/scvi_env/lib/python3.12/site-packages/scvi/autotune/__init__.py:3\u001b[0m\n\u001b[1;32m      1\u001b[0m \u001b[38;5;28;01mfrom\u001b[39;00m \u001b[38;5;21;01mscvi\u001b[39;00m\u001b[38;5;21;01m.\u001b[39;00m\u001b[38;5;21;01mutils\u001b[39;00m \u001b[38;5;28;01mimport\u001b[39;00m error_on_missing_dependencies\n\u001b[0;32m----> 3\u001b[0m \u001b[43merror_on_missing_dependencies\u001b[49m\u001b[43m(\u001b[49m\u001b[38;5;124;43m\"\u001b[39;49m\u001b[38;5;124;43mhyperopt\u001b[39;49m\u001b[38;5;124;43m\"\u001b[39;49m\u001b[43m,\u001b[49m\u001b[43m \u001b[49m\u001b[38;5;124;43m\"\u001b[39;49m\u001b[38;5;124;43mray.tune\u001b[39;49m\u001b[38;5;124;43m\"\u001b[39;49m\u001b[43m,\u001b[49m\u001b[43m \u001b[49m\u001b[38;5;124;43m\"\u001b[39;49m\u001b[38;5;124;43mtensorboard\u001b[39;49m\u001b[38;5;124;43m\"\u001b[39;49m\u001b[43m)\u001b[49m\n\u001b[1;32m      6\u001b[0m \u001b[38;5;28;01mfrom\u001b[39;00m \u001b[38;5;21;01m.\u001b[39;00m\u001b[38;5;21;01m_experiment\u001b[39;00m \u001b[38;5;28;01mimport\u001b[39;00m AutotuneExperiment  \u001b[38;5;66;03m# noqa\u001b[39;00m\n\u001b[1;32m      7\u001b[0m \u001b[38;5;28;01mfrom\u001b[39;00m \u001b[38;5;21;01m.\u001b[39;00m\u001b[38;5;21;01m_tune\u001b[39;00m \u001b[38;5;28;01mimport\u001b[39;00m run_autotune  \u001b[38;5;66;03m# noqa\u001b[39;00m\n",
      "File \u001b[0;32m/gpfs/gsfs10/users/kanferg/conda/envs/scvi_env/lib/python3.12/site-packages/scvi/utils/_dependencies.py:14\u001b[0m, in \u001b[0;36merror_on_missing_dependencies\u001b[0;34m(*modules)\u001b[0m\n\u001b[1;32m     12\u001b[0m         missing_modules\u001b[38;5;241m.\u001b[39mappend(module)\n\u001b[1;32m     13\u001b[0m \u001b[38;5;28;01mif\u001b[39;00m \u001b[38;5;28mlen\u001b[39m(missing_modules) \u001b[38;5;241m>\u001b[39m \u001b[38;5;241m0\u001b[39m:\n\u001b[0;32m---> 14\u001b[0m     \u001b[38;5;28;01mraise\u001b[39;00m \u001b[38;5;167;01mModuleNotFoundError\u001b[39;00m(\u001b[38;5;124mf\u001b[39m\u001b[38;5;124m\"\u001b[39m\u001b[38;5;124mPlease install \u001b[39m\u001b[38;5;132;01m{\u001b[39;00mmissing_modules\u001b[38;5;132;01m}\u001b[39;00m\u001b[38;5;124m to use this functionality.\u001b[39m\u001b[38;5;124m\"\u001b[39m)\n",
      "\u001b[0;31mModuleNotFoundError\u001b[0m: Please install ['hyperopt', 'ray.tune'] to use this functionality."
     ]
    }
   ],
   "source": [
    "import scanpy as sc\n",
    "import os\n",
    "import pandas as pd\n",
    "import numpy as np\n",
    "import matplotlib.pyplot as plt\n",
    "import seaborn as sns\n",
    "import scvi\n",
    "import torch\n",
    "import celltypist\n",
    "from celltypist import models\n",
    "from scvi.autotune import ModelTuner\n",
    "from ray import tune"
   ]
  },
  {
   "cell_type": "code",
   "execution_count": null,
   "id": "4a52bed7",
   "metadata": {},
   "outputs": [],
   "source": [
    "print(\"CUDA available:\", torch.cuda.is_available())"
   ]
  },
  {
   "cell_type": "markdown",
   "id": "7e344f2d",
   "metadata": {},
   "source": [
    "#### Reference from CZI:"
   ]
  },
  {
   "cell_type": "code",
   "execution_count": 3,
   "id": "65f353fb",
   "metadata": {},
   "outputs": [
    {
     "data": {
      "text/plain": [
       "AnnData object with n_obs × n_vars = 34164 × 18626\n",
       "    obs: 'condition', 'replicate', 'nCount_RNA', 'nFeature_RNA', 'percent.mito', 'RNA_snn_res.0.8', 'seurat_clusters', 'labels_score', 'Order', 'Lane', 'Index', 'cancer', 'reference', 'flowcell', 'min_umis', 'min_genes', 'percent_mito', 'expected_cells', 'total_droplets', 'z_dim', 'z_layers', 'channel_id', 'labels_cl_unif_per_channel', 'filt_median_genes', 'filt_median_umi', 'pass', 'ccpm_id', 'htapp', 'sequenced', 'stage_at_diagnosis', 'metastatic_presentation', 'biopsy_days_after_metastasis', 'ER_primary', 'ER_biopsy', 'PR_primary', 'PR_biopsy', 'HER2_primary', 'HER2_biopsy', 'receptors_primary', 'receptors_biopsy', 'site_biopsy', 'histology_breast', 'histology_biopsy', 'sampleid', 'cnv_cors', 'cnv_cors_max', 'cnv_score', 'cnv_ref_score', 'cnv_score_norm', 'cnv_score_norm_norm', 'cnv_condition', 'cnv_score_norm_norm2', 'pam50_Basal_single', 'pam50_Her2_single', 'pam50_LumA_single', 'pam50_LumB_single', 'pam50_Normal_single', 'pam50_mode_single', 'pam50_subtype_prob_single', 'pam50_Basal_cluster', 'pam50_Her2_cluster', 'pam50_LumA_cluster', 'pam50_LumB_cluster', 'pam50_Normal_cluster', 'pam50_mode_cluster', 'pam50_subtype_prob_cluster', 'S.Score', 'G2M.Score', 'Phase', 'n_genes_by_counts', 'total_counts', 'total_counts_mt', 'pct_counts_mt', 'n_counts', 'leiden', 'compartments', 'select_cell', 'author_cell_type', 'cell_type_ontology_term_id', 'tissue_ontology_term_id', 'development_stage_ontology_term_id', 'sex_ontology_term_id', 'self_reported_ethnicity_ontology_term_id', 'disease_ontology_term_id', 'organism_ontology_term_id', 'assay_ontology_term_id', 'is_primary_data', 'suspension_type', 'donor_id', 'tissue_type', 'cell_type', 'assay', 'disease', 'organism', 'sex', 'tissue', 'self_reported_ethnicity', 'development_stage', 'observation_joinid'\n",
       "    var: 'n_cells', 'mt', 'n_cells_by_counts', 'mean_counts', 'pct_dropout_by_counts', 'total_counts', 'feature_is_filtered', 'feature_name', 'feature_reference', 'feature_biotype', 'feature_length', 'feature_type'\n",
       "    uns: 'citation', 'compartments_colors', \"dendrogram_['named_cluster_split']\", 'hvg', 'leiden', 'neighbors', 'pca', 'rank_genes_groups', 'receptors_biopsy_colors', 'schema_reference', 'schema_version', 'site_biopsy_colors', 'title', 'umap'\n",
       "    obsm: 'X_pca', 'X_umap'\n",
       "    obsp: 'connectivities', 'distances'"
      ]
     },
     "execution_count": 3,
     "metadata": {},
     "output_type": "execute_result"
    }
   ],
   "source": [
    "ref_name = \"/data/kanferg/Sptial_Omics/playGround/Data/Breast_Cancer/ref/ccdb972d-6655-43ae-9ad8-f895bd893d8a.h5ad\"\n",
    "adata_ref_init = sc.read_h5ad(ref_name)\n",
    "# select all the breast samples\n",
    "adata_ref_tisueRM = adata_ref_init[adata_ref_init.obs['tissue']=='breast',:].copy()\n",
    "# select all the protein_coding\n",
    "adata_ref = adata_ref_tisueRM[:,adata_ref_tisueRM.var['feature_type']=='protein_coding'].copy()\n",
    "adata_ref.var.index = adata_ref.var[\"feature_name\"].astype(str).values\n",
    "adata_ref"
   ]
  },
  {
   "cell_type": "code",
   "execution_count": 4,
   "id": "81f2b2f3",
   "metadata": {},
   "outputs": [
    {
     "data": {
      "text/plain": [
       "AnnData object with n_obs × n_vars = 34164 × 18626\n",
       "    obs: 'CellType', 'nCount_RNA', 'percent_mito'\n",
       "    var: 'n_cells', 'feature_name'"
      ]
     },
     "execution_count": 4,
     "metadata": {},
     "output_type": "execute_result"
    }
   ],
   "source": [
    "from anndata import AnnData\n",
    "rdata = AnnData(adata_ref.X, obs={\"CellType\": adata_ref.obs[\"cell_type\"].values,\"nCount_RNA\":adata_ref.obs[\"nCount_RNA\"].values,'percent_mito':adata_ref.obs[\"percent_mito\"]} , var ={\"n_cells\":adata_ref.var[\"n_cells\"].values, \"feature_name\":adata_ref.var[\"feature_name\"].astype(str).values} )\n",
    "rdata.var.index = rdata.var[\"feature_name\"].values\n",
    "rdata"
   ]
  },
  {
   "cell_type": "code",
   "execution_count": 5,
   "id": "f8fe2c64",
   "metadata": {},
   "outputs": [
    {
     "data": {
      "text/plain": [
       "CellType\n",
       "fibroblast                               2797\n",
       "blood vessel endothelial cell            2816\n",
       "T cell                                   1274\n",
       "adipocyte                                 595\n",
       "chondrocyte                                 1\n",
       "macrophage                                639\n",
       "plasma cell                                31\n",
       "mature NK T cell                           25\n",
       "malignant cell                          25685\n",
       "blood vessel smooth muscle cell           300\n",
       "endothelial cell of hepatic sinusoid        1\n",
       "dtype: int64"
      ]
     },
     "execution_count": 5,
     "metadata": {},
     "output_type": "execute_result"
    }
   ],
   "source": [
    "rdata.obs.groupby('CellType').size()"
   ]
  },
  {
   "cell_type": "code",
   "execution_count": 6,
   "id": "b7c96796",
   "metadata": {},
   "outputs": [
    {
     "data": {
      "text/plain": [
       "CellType\n",
       "fibroblast                          2797\n",
       "blood vessel endothelial cell       2816\n",
       "T cell                              1274\n",
       "adipocyte                            595\n",
       "macrophage                           639\n",
       "plasma cell                           31\n",
       "mature NK T cell                      25\n",
       "malignant cell                     25685\n",
       "blood vessel smooth muscle cell      300\n",
       "dtype: int64"
      ]
     },
     "execution_count": 6,
     "metadata": {},
     "output_type": "execute_result"
    }
   ],
   "source": [
    "remove_cell = ['endothelial cell of hepatic sinusoid','chondrocyte']\n",
    "rdata = rdata[~rdata.obs['CellType'].isin(remove_cell), :]\n",
    "rdata.obs.groupby('CellType').size()"
   ]
  },
  {
   "cell_type": "code",
   "execution_count": 7,
   "id": "734f9bc9",
   "metadata": {},
   "outputs": [],
   "source": [
    "rdata = rdata[~rdata.obs.CellType.isna()]"
   ]
  },
  {
   "cell_type": "code",
   "execution_count": null,
   "id": "75f81461",
   "metadata": {},
   "outputs": [],
   "source": [
    "# needs row count data and celltype in ref dataset and query data set. also batch\n",
    "rdata.obs['batch'] = 'ref'\n",
    "rdata.obs['sample'] = 'refrance'\n"
   ]
  }
 ],
 "metadata": {
  "kernelspec": {
   "display_name": "Python 3 (ipykernel)",
   "language": "python",
   "name": "python3"
  },
  "language_info": {
   "codemirror_mode": {
    "name": "ipython",
    "version": 3
   },
   "file_extension": ".py",
   "mimetype": "text/x-python",
   "name": "python",
   "nbconvert_exporter": "python",
   "pygments_lexer": "ipython3",
   "version": "3.12.7"
  }
 },
 "nbformat": 4,
 "nbformat_minor": 5
}
