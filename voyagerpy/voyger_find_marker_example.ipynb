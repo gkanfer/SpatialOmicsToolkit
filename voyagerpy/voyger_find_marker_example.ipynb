{
 "cells": [
  {
   "cell_type": "code",
   "execution_count": 1,
   "id": "e8f85176-7778-4839-a244-3fa100b18140",
   "metadata": {},
   "outputs": [],
   "source": [
    "import numpy as np\n",
    "import geopandas as gpd\n",
    "import pandas as pd\n",
    "\n",
    "import scanpy as sc\n",
    "import voyagerpy as vp\n",
    "import seaborn as sns\n",
    "import os\n",
    "import pickle\n",
    "from matplotlib.pyplot import imread\n",
    "from collections import OrderedDict\n",
    "import json\n",
    "\n",
    "from matplotlib import pyplot as plt"
   ]
  },
  {
   "cell_type": "code",
   "execution_count": 2,
   "id": "a59598c1-8c18-40b6-974b-e8f962acb1dc",
   "metadata": {},
   "outputs": [
    {
     "name": "stderr",
     "output_type": "stream",
     "text": [
      "/gpfs/gsfs10/users/kanferg/conda/envs/squidpy-voyagerpy/lib/python3.8/site-packages/anndata/_core/anndata.py:1840: UserWarning: Variable names are not unique. To make them unique, call `.var_names_make_unique`.\n",
      "  utils.warn_names_duplicates(\"var\")\n",
      "/gpfs/gsfs10/users/kanferg/conda/envs/squidpy-voyagerpy/lib/python3.8/site-packages/anndata/_core/anndata.py:1840: UserWarning: Variable names are not unique. To make them unique, call `.var_names_make_unique`.\n",
      "  utils.warn_names_duplicates(\"var\")\n",
      "/gpfs/gsfs10/users/kanferg/conda/envs/squidpy-voyagerpy/lib/python3.8/site-packages/scanpy/readwrite.py:415: DtypeWarning: Columns (1,2,3,4,5) have mixed types. Specify dtype option on import or set low_memory=False.\n",
      "  positions = pd.read_csv(files[\"tissue_positions_file\"], header=None)\n"
     ]
    },
    {
     "data": {
      "text/plain": [
       "AnnData object with n_obs × n_vars = 98917 × 19059\n",
       "    obs: 'in_tissue', 'array_row', 'array_col'\n",
       "    var: 'gene_ids', 'feature_types', 'genome'\n",
       "    uns: 'spatial'\n",
       "    obsm: 'spatial'"
      ]
     },
     "execution_count": 2,
     "metadata": {},
     "output_type": "execute_result"
    }
   ],
   "source": [
    "path_016 = \"/data/kanferg/Sptial_Omics/playGround/Data/Visium_HD_Mouse_Brain_square_example/square_016um\"\n",
    "andata016_ = sc.read_visium(path=path_016)\n",
    "andata016_"
   ]
  },
  {
   "cell_type": "code",
   "execution_count": 3,
   "id": "7c1f74bb-c5a1-4281-abbd-26f71ac4bb27",
   "metadata": {},
   "outputs": [
    {
     "name": "stderr",
     "output_type": "stream",
     "text": [
      "/gpfs/gsfs10/users/kanferg/conda/envs/squidpy-voyagerpy/lib/python3.8/site-packages/anndata/_core/anndata.py:1840: UserWarning: Variable names are not unique. To make them unique, call `.var_names_make_unique`.\n",
      "  utils.warn_names_duplicates(\"var\")\n",
      "/gpfs/gsfs10/users/kanferg/conda/envs/squidpy-voyagerpy/lib/python3.8/site-packages/anndata/_core/anndata.py:1840: UserWarning: Variable names are not unique. To make them unique, call `.var_names_make_unique`.\n",
      "  utils.warn_names_duplicates(\"var\")\n"
     ]
    },
    {
     "data": {
      "text/plain": [
       "AnnData object with n_obs × n_vars = 98244 × 19059\n",
       "    obs: 'in_tissue', 'array_row', 'array_col', 'n_counts', 'n_genes'\n",
       "    var: 'gene_ids', 'feature_types', 'genome'\n",
       "    uns: 'spatial'\n",
       "    obsm: 'spatial'"
      ]
     },
     "execution_count": 3,
     "metadata": {},
     "output_type": "execute_result"
    }
   ],
   "source": [
    "andata016_.obsm['spatial'] = np.array(andata016_.obsm['spatial'], dtype=np.float64)\n",
    "sc.pp.filter_cells(andata016_, min_counts = 100)\n",
    "sc.pp.filter_cells(andata016_, min_genes = 100)\n",
    "andata016_"
   ]
  },
  {
   "cell_type": "code",
   "execution_count": 4,
   "id": "fe75ef76-a646-4934-9c2c-2f66fdfbfb0f",
   "metadata": {},
   "outputs": [
    {
     "data": {
      "text/plain": [
       "AnnData object with n_obs × n_vars = 7000 × 19059\n",
       "    obs: 'in_tissue', 'array_row', 'array_col', 'n_counts', 'n_genes'\n",
       "    var: 'gene_ids', 'feature_types', 'genome'\n",
       "    uns: 'spatial'\n",
       "    obsm: 'spatial'"
      ]
     },
     "execution_count": 4,
     "metadata": {},
     "output_type": "execute_result"
    }
   ],
   "source": [
    "andata016_ = sc.pp.subsample(andata016_, n_obs=7000,copy=True)\n",
    "andata016_"
   ]
  },
  {
   "cell_type": "code",
   "execution_count": 5,
   "id": "c0b0d635-c3a2-4288-b989-05ce37bfb01a",
   "metadata": {},
   "outputs": [],
   "source": [
    "andata016_.uns['config'] = OrderedDict()\n",
    "andata016_.uns[\"config\"][\"secondary_var_names\"] = andata016_.var_names\n",
    "is_mt = andata016_.var_names.str.startswith('mt')\n",
    "vp.utils.add_per_cell_qcmetrics(andata016_, subsets={'mito': is_mt})\n",
    "# The original count data\n",
    "andata016_.layers['counts'] = andata016_.X.copy()\n",
    "# Log-normalize the adata.X matrix\n",
    "vp.utils.log_norm_counts(andata016_, inplace=True)\n",
    "andata016_.layers['logcounts'] = andata016_.X.copy()"
   ]
  },
  {
   "cell_type": "code",
   "execution_count": 6,
   "id": "1c8c7913-9e31-418f-8fac-7a3c2a3563f1",
   "metadata": {},
   "outputs": [],
   "source": [
    "sc.pp.highly_variable_genes(andata016_, n_top_genes=1500,  layer=\"logcounts\")"
   ]
  },
  {
   "cell_type": "code",
   "execution_count": 7,
   "id": "76accf69-1872-4203-8e00-386d23bc047f",
   "metadata": {},
   "outputs": [],
   "source": [
    "andata016_ = andata016_[:, andata016_.var[\"highly_variable\"]]"
   ]
  },
  {
   "cell_type": "code",
   "execution_count": 8,
   "id": "10e112f9-b5f0-40e3-b98c-0f595027c4d6",
   "metadata": {},
   "outputs": [],
   "source": [
    "andata016_.obsm['spatial'] = np.array(andata016_.obsm['spatial'], dtype=np.float64)\n",
    "andata016_.uns['spatial']['img'] = andata016_.uns['spatial']['Visium_HD_Mouse_Brain'].pop(\"images\")\n",
    "andata016_.uns['spatial']['scale'] = andata016_.uns['spatial']['Visium_HD_Mouse_Brain'].pop(\"scalefactors\")\n",
    "andata016_.uns['spatial']['metadata'] = andata016_.uns['spatial']['Visium_HD_Mouse_Brain'].pop(\"metadata\")\n",
    "andata016_.uns['spatial'].pop(\"Visium_HD_Mouse_Brain\")\n",
    "\n",
    "spot_diameter_fullres = andata016_.uns['spatial']['scale'].pop('spot_diameter_fullres')\n",
    "andata016_.uns['spatial']['scale']['spot_diameter_fullres'] = {'pxl_col_in_fullres':spot_diameter_fullres,'pxl_row_in_fullres':spot_diameter_fullres}\n",
    "scale = 1\n",
    "scale_dict = andata016_.uns[\"spatial\"].get(\"scale\", {})\n",
    "spot_diam = scale_dict.get(\"spot_diameter_fullres\")\n",
    "visium_spots = gpd.GeoSeries.from_xy(andata016_.obsm['spatial'][:,0], andata016_.obsm['spatial'][:,1]).scale(scale, scale, origin=(0, 0))\n",
    "_ = vp.spatial.set_geometry(andata016_, geom=\"spot_poly\", values=visium_spots)"
   ]
  },
  {
   "cell_type": "code",
   "execution_count": 9,
   "id": "5739e678-f788-47fe-a2f1-0e2945fcdba8",
   "metadata": {},
   "outputs": [],
   "source": [
    "andata016_.X = vp.utils.scale(andata016_.X, center=True)\n",
    "sc.tl.pca(andata016_, use_highly_variable=True, n_comps=30, random_state=1337)\n",
    "andata016_.X = andata016_.layers['logcounts'].copy()"
   ]
  },
  {
   "cell_type": "code",
   "execution_count": 10,
   "id": "f399545a-40e9-44e8-bc72-f128f5535465",
   "metadata": {},
   "outputs": [],
   "source": [
    "from leidenalg import ModularityVertexPartition\n",
    "sc.pp.neighbors(\n",
    "    andata016_,\n",
    "    n_pcs=9,\n",
    "    use_rep='X_pca',\n",
    "    method='gauss',\n",
    "    n_neighbors=80\n",
    ")\n",
    "sc.tl.leiden(\n",
    "    andata016_,\n",
    "    random_state=29,\n",
    "    resolution=None,\n",
    "    key_added='cluster',\n",
    "    partition_type=ModularityVertexPartition\n",
    ")"
   ]
  },
  {
   "cell_type": "code",
   "execution_count": 11,
   "id": "f4b3b5fd-a3ed-4456-b0e8-7bd31feb86fe",
   "metadata": {},
   "outputs": [
    {
     "data": {
      "text/plain": [
       "AnnData object with n_obs × n_vars = 7000 × 1500\n",
       "    obs: 'in_tissue', 'array_row', 'array_col', 'n_counts', 'n_genes', 'sum', 'detected', 'subsets_mito_sum', 'subsets_mito_detected', 'subsets_mito_percent', 'cluster'\n",
       "    var: 'gene_ids', 'feature_types', 'genome', 'highly_variable', 'means', 'dispersions', 'dispersions_norm'\n",
       "    uns: 'spatial', 'config', 'hvg', 'pca', 'neighbors', 'leiden'\n",
       "    obsm: 'spatial', 'geometry', 'X_pca'\n",
       "    varm: 'PCs'\n",
       "    layers: 'counts', 'logcounts'\n",
       "    obsp: 'distances', 'connectivities'"
      ]
     },
     "execution_count": 11,
     "metadata": {},
     "output_type": "execute_result"
    }
   ],
   "source": [
    "andata016_"
   ]
  },
  {
   "cell_type": "code",
   "execution_count": 12,
   "id": "b5f565e0-647e-421c-a30e-d66495ba3d5c",
   "metadata": {},
   "outputs": [],
   "source": [
    "markers = vp.utils.find_markers(andata016_, hvg = False)"
   ]
  },
  {
   "cell_type": "code",
   "execution_count": 15,
   "id": "24a78bb6-ab06-4fdb-9d35-17ad61f01eb6",
   "metadata": {},
   "outputs": [
    {
     "data": {
      "text/plain": [
       "dict_keys(['cluster_0', 'cluster_1', 'cluster_2', 'cluster_3', 'cluster_4', 'cluster_5', 'cluster_6', 'cluster_7', 'cluster_8', 'cluster_9', 'cluster_10', 'cluster_11'])"
      ]
     },
     "execution_count": 15,
     "metadata": {},
     "output_type": "execute_result"
    }
   ],
   "source": [
    "markers.keys()"
   ]
  },
  {
   "cell_type": "code",
   "execution_count": 16,
   "id": "48399af4-6580-4d41-8e54-60bca1203d2c",
   "metadata": {},
   "outputs": [
    {
     "data": {
      "text/plain": [
       "{'cluster_0':                 p.value       FDR  summary.AUC\n",
       " Hpca       2.860637e-09  0.000004     0.637403\n",
       " Sept3      1.015466e-03  0.761600     0.573147\n",
       " Agtpbp1    4.613767e-03  1.000000     0.559151\n",
       " Gng13      7.554957e-03  1.000000     0.548863\n",
       " Rasd2      1.041066e-02  1.000000     0.548751\n",
       " ...                 ...       ...          ...\n",
       " Ninj2      1.000000e+00  1.000000     0.500000\n",
       " Nme8       1.000000e+00  1.000000     0.500000\n",
       " Olfr263    1.000000e+00  1.000000     0.500000\n",
       " Hist1h2bp  1.000000e+00  1.000000     0.500000\n",
       " Sox17      1.000000e+00  1.000000     0.500000\n",
       " \n",
       " [1500 rows x 3 columns],\n",
       " 'cluster_1':           p.value  FDR  summary.AUC\n",
       " Zc3h7b   0.154008  1.0     0.518234\n",
       " Arrb1    0.191950  1.0     0.515861\n",
       " Pvr      0.227670  1.0     0.504014\n",
       " Zfp747   0.233299  1.0     0.501710\n",
       " Mtbp     0.236802  1.0     0.501372\n",
       " ...           ...  ...          ...\n",
       " Ttyh2    1.000000  1.0     0.444324\n",
       " Cd300c2  1.000000  1.0     0.500000\n",
       " Cyp3a13  1.000000  1.0     0.500000\n",
       " Ppp1r9b  1.000000  1.0     0.361214\n",
       " Slc34a1  1.000000  1.0     0.500000\n",
       " \n",
       " [1500 rows x 3 columns],\n",
       " 'cluster_2':                p.value           FDR  summary.AUC\n",
       " Mt1       4.217391e-13  6.326087e-10     0.685301\n",
       " Mfge8     1.147024e-07  8.602679e-05     0.595849\n",
       " Mt2       1.517937e-06  7.585337e-04     0.610601\n",
       " Gja1      2.022757e-06  7.585337e-04     0.594818\n",
       " Plpp3     4.625303e-06  1.184888e-03     0.597134\n",
       " ...                ...           ...          ...\n",
       " Sec16b    1.000000e+00  1.000000e+00     0.500000\n",
       " Vmn1r201  1.000000e+00  1.000000e+00     0.500000\n",
       " Vmn1r199  1.000000e+00  1.000000e+00     0.500000\n",
       " Kcnt2     1.000000e+00  1.000000e+00     0.414371\n",
       " Pax1      1.000000e+00  1.000000e+00     0.500000\n",
       " \n",
       " [1500 rows x 3 columns],\n",
       " 'cluster_3':               p.value       FDR  summary.AUC\n",
       " Camk2n1  8.151968e-09  0.000012     0.650927\n",
       " Ddn      1.514877e-04  0.113616     0.547515\n",
       " Psd      2.543057e-02  1.000000     0.524603\n",
       " Cabp7    4.703856e-02  1.000000     0.522312\n",
       " Rasl10b  1.140374e-01  1.000000     0.513381\n",
       " ...               ...       ...          ...\n",
       " Gab1     1.000000e+00  1.000000     0.434036\n",
       " Tmbim1   1.000000e+00  1.000000     0.421349\n",
       " Best2    1.000000e+00  1.000000     0.500000\n",
       " Palld    1.000000e+00  1.000000     0.500000\n",
       " Mpzl2    1.000000e+00  1.000000     0.500000\n",
       " \n",
       " [1500 rows x 3 columns],\n",
       " 'cluster_4':                p.value           FDR  summary.AUC\n",
       " Ahnak     3.115928e-12  4.673892e-09     0.640832\n",
       " Igfbp7    1.311767e-10  7.274211e-08     0.627504\n",
       " Igf2      1.454842e-10  7.274211e-08     0.615987\n",
       " Vtn       3.307417e-10  1.240281e-07     0.619411\n",
       " Itm2a     1.820911e-09  5.462734e-07     0.620868\n",
       " ...                ...           ...          ...\n",
       " Hpdl      1.000000e+00  1.000000e+00     0.500000\n",
       " Trim13    1.000000e+00  1.000000e+00     0.500000\n",
       " Mt1       1.000000e+00  1.000000e+00     0.362385\n",
       " Olfr1247  1.000000e+00  1.000000e+00     0.500000\n",
       " Ccl4      1.000000e+00  1.000000e+00     0.500000\n",
       " \n",
       " [1500 rows x 3 columns],\n",
       " 'cluster_5':             p.value  FDR  summary.AUC\n",
       " Cercam     0.070862  1.0     0.507138\n",
       " Ninj2      0.125714  1.0     0.504654\n",
       " Cyp3a13    0.179587  1.0     0.502493\n",
       " Megf10     0.214745  1.0     0.503781\n",
       " Olfr345    0.251160  1.0     0.501605\n",
       " ...             ...  ...          ...\n",
       " Gmnn       1.000000  1.0     0.500000\n",
       " Hist1h2bh  1.000000  1.0     0.500000\n",
       " Vmn1r212   1.000000  1.0     0.500000\n",
       " Il17rc     1.000000  1.0     0.500000\n",
       " Vmn2r12    1.000000  1.0     0.500000\n",
       " \n",
       " [1500 rows x 3 columns],\n",
       " 'cluster_6':           p.value  FDR  summary.AUC\n",
       " Tfap2d   0.059041  1.0     0.508571\n",
       " Ngfr     0.115919  1.0     0.503453\n",
       " Ints13   0.118192  1.0     0.505899\n",
       " Aipl1    0.122890  1.0     0.504762\n",
       " Pcp4     0.131253  1.0     0.519721\n",
       " ...           ...  ...          ...\n",
       " Cd180    1.000000  1.0     0.500000\n",
       " Pla2g2f  1.000000  1.0     0.500000\n",
       " Tmco4    1.000000  1.0     0.500000\n",
       " Lrmda    1.000000  1.0     0.500000\n",
       " Olfr923  1.000000  1.0     0.500000\n",
       " \n",
       " [1500 rows x 3 columns],\n",
       " 'cluster_7':            p.value  FDR  summary.AUC\n",
       " Rgl3      0.055131  1.0     0.508946\n",
       " C1ql1     0.074150  1.0     0.507473\n",
       " Smyd1     0.079873  1.0     0.506958\n",
       " Robo4     0.095960  1.0     0.503805\n",
       " Olfr1215  0.174791  1.0     0.502511\n",
       " ...            ...  ...          ...\n",
       " Snx20     1.000000  1.0     0.500000\n",
       " Mt1       1.000000  1.0     0.336368\n",
       " Pllp      1.000000  1.0     0.359201\n",
       " Lrrc36    1.000000  1.0     0.500000\n",
       " Gins2     1.000000  1.0     0.500000\n",
       " \n",
       " [1500 rows x 3 columns],\n",
       " 'cluster_8':           p.value  FDR  summary.AUC\n",
       " Krt28    0.172846  1.0     0.503158\n",
       " Gimd1    0.221125  1.0     0.502105\n",
       " Colec11  0.221125  1.0     0.502105\n",
       " Vmn2r97  0.294265  1.0     0.501053\n",
       " Defa26   0.294265  1.0     0.501053\n",
       " ...           ...  ...          ...\n",
       " Gypa     1.000000  1.0     0.500000\n",
       " Vmn2r13  1.000000  1.0     0.500000\n",
       " Slc34a1  1.000000  1.0     0.500000\n",
       " Mobp     1.000000  1.0     0.339164\n",
       " Zfp534   1.000000  1.0     0.500000\n",
       " \n",
       " [1500 rows x 3 columns],\n",
       " 'cluster_9':              p.value           FDR  summary.AUC\n",
       " Cldn11  4.974929e-35  7.462393e-32     0.710849\n",
       " Mal     1.489016e-27  8.816025e-25     0.687686\n",
       " Mobp    1.763205e-27  8.816025e-25     0.694849\n",
       " Trf     2.482573e-21  9.309651e-19     0.666035\n",
       " Efnb3   5.471861e-19  1.641558e-16     0.714465\n",
       " ...              ...           ...          ...\n",
       " Rasd2   1.000000e+00  1.000000e+00     0.347574\n",
       " Gypa    1.000000e+00  1.000000e+00     0.500000\n",
       " Snx20   1.000000e+00  1.000000e+00     0.500000\n",
       " Sh2d4a  1.000000e+00  1.000000e+00     0.500000\n",
       " mt-Nd3  1.000000e+00  1.000000e+00     0.377490\n",
       " \n",
       " [1500 rows x 3 columns],\n",
       " 'cluster_10':               p.value       FDR  summary.AUC\n",
       " Rsph1    3.290643e-07  0.000494     0.578488\n",
       " Efcab10  5.598717e-05  0.041990     0.549419\n",
       " Ccdc153  1.934528e-04  0.096726     0.542151\n",
       " Trpc7    1.754820e-03  0.526446     0.529070\n",
       " Pawr     1.754820e-03  0.526446     0.529070\n",
       " ...               ...       ...          ...\n",
       " Olfr263  1.000000e+00  1.000000     0.500000\n",
       " Nme8     1.000000e+00  1.000000     0.500000\n",
       " Tcrg-V7  1.000000e+00  1.000000     0.500000\n",
       " F13a1    1.000000e+00  1.000000     0.500000\n",
       " Sox17    1.000000e+00  1.000000     0.500000\n",
       " \n",
       " [1500 rows x 3 columns],\n",
       " 'cluster_11':                p.value           FDR  summary.AUC\n",
       " Gfpt2     2.171451e-17  3.257176e-14     0.601394\n",
       " Arhgef19  6.886305e-09  5.164729e-06     0.553728\n",
       " Palld     1.420239e-07  7.101197e-05     0.548594\n",
       " Pkd1      1.936992e-05  7.263719e-03     0.548872\n",
       " Il17rc    3.271946e-05  9.815837e-03     0.526977\n",
       " ...                ...           ...          ...\n",
       " Aipl1     1.000000e+00  1.000000e+00     0.500000\n",
       " Asb10     1.000000e+00  1.000000e+00     0.500000\n",
       " P2rx1     1.000000e+00  1.000000e+00     0.500000\n",
       " Obscn     1.000000e+00  1.000000e+00     0.500000\n",
       " Gins2     1.000000e+00  1.000000e+00     0.500000\n",
       " \n",
       " [1500 rows x 3 columns]}"
      ]
     },
     "execution_count": 16,
     "metadata": {},
     "output_type": "execute_result"
    }
   ],
   "source": [
    "markers"
   ]
  },
  {
   "cell_type": "code",
   "execution_count": 17,
   "id": "5cfb8d43-ccb2-407a-be03-7c2b925c20ac",
   "metadata": {},
   "outputs": [
    {
     "data": {
      "text/html": [
       "<div>\n",
       "<style scoped>\n",
       "    .dataframe tbody tr th:only-of-type {\n",
       "        vertical-align: middle;\n",
       "    }\n",
       "\n",
       "    .dataframe tbody tr th {\n",
       "        vertical-align: top;\n",
       "    }\n",
       "\n",
       "    .dataframe thead th {\n",
       "        text-align: right;\n",
       "    }\n",
       "</style>\n",
       "<table border=\"1\" class=\"dataframe\">\n",
       "  <thead>\n",
       "    <tr style=\"text-align: right;\">\n",
       "      <th></th>\n",
       "      <th>p.value</th>\n",
       "      <th>FDR</th>\n",
       "      <th>summary.AUC</th>\n",
       "    </tr>\n",
       "  </thead>\n",
       "  <tbody>\n",
       "    <tr>\n",
       "      <th>Hpca</th>\n",
       "      <td>2.860637e-09</td>\n",
       "      <td>0.000004</td>\n",
       "      <td>0.637403</td>\n",
       "    </tr>\n",
       "    <tr>\n",
       "      <th>Sept3</th>\n",
       "      <td>1.015466e-03</td>\n",
       "      <td>0.761600</td>\n",
       "      <td>0.573147</td>\n",
       "    </tr>\n",
       "    <tr>\n",
       "      <th>Agtpbp1</th>\n",
       "      <td>4.613767e-03</td>\n",
       "      <td>1.000000</td>\n",
       "      <td>0.559151</td>\n",
       "    </tr>\n",
       "    <tr>\n",
       "      <th>Gng13</th>\n",
       "      <td>7.554957e-03</td>\n",
       "      <td>1.000000</td>\n",
       "      <td>0.548863</td>\n",
       "    </tr>\n",
       "    <tr>\n",
       "      <th>Rasd2</th>\n",
       "      <td>1.041066e-02</td>\n",
       "      <td>1.000000</td>\n",
       "      <td>0.548751</td>\n",
       "    </tr>\n",
       "    <tr>\n",
       "      <th>...</th>\n",
       "      <td>...</td>\n",
       "      <td>...</td>\n",
       "      <td>...</td>\n",
       "    </tr>\n",
       "    <tr>\n",
       "      <th>Ninj2</th>\n",
       "      <td>1.000000e+00</td>\n",
       "      <td>1.000000</td>\n",
       "      <td>0.500000</td>\n",
       "    </tr>\n",
       "    <tr>\n",
       "      <th>Nme8</th>\n",
       "      <td>1.000000e+00</td>\n",
       "      <td>1.000000</td>\n",
       "      <td>0.500000</td>\n",
       "    </tr>\n",
       "    <tr>\n",
       "      <th>Olfr263</th>\n",
       "      <td>1.000000e+00</td>\n",
       "      <td>1.000000</td>\n",
       "      <td>0.500000</td>\n",
       "    </tr>\n",
       "    <tr>\n",
       "      <th>Hist1h2bp</th>\n",
       "      <td>1.000000e+00</td>\n",
       "      <td>1.000000</td>\n",
       "      <td>0.500000</td>\n",
       "    </tr>\n",
       "    <tr>\n",
       "      <th>Sox17</th>\n",
       "      <td>1.000000e+00</td>\n",
       "      <td>1.000000</td>\n",
       "      <td>0.500000</td>\n",
       "    </tr>\n",
       "  </tbody>\n",
       "</table>\n",
       "<p>1500 rows × 3 columns</p>\n",
       "</div>"
      ],
      "text/plain": [
       "                p.value       FDR  summary.AUC\n",
       "Hpca       2.860637e-09  0.000004     0.637403\n",
       "Sept3      1.015466e-03  0.761600     0.573147\n",
       "Agtpbp1    4.613767e-03  1.000000     0.559151\n",
       "Gng13      7.554957e-03  1.000000     0.548863\n",
       "Rasd2      1.041066e-02  1.000000     0.548751\n",
       "...                 ...       ...          ...\n",
       "Ninj2      1.000000e+00  1.000000     0.500000\n",
       "Nme8       1.000000e+00  1.000000     0.500000\n",
       "Olfr263    1.000000e+00  1.000000     0.500000\n",
       "Hist1h2bp  1.000000e+00  1.000000     0.500000\n",
       "Sox17      1.000000e+00  1.000000     0.500000\n",
       "\n",
       "[1500 rows x 3 columns]"
      ]
     },
     "execution_count": 17,
     "metadata": {},
     "output_type": "execute_result"
    }
   ],
   "source": [
    "markers['cluster_0']"
   ]
  },
  {
   "cell_type": "code",
   "execution_count": 18,
   "id": "1a312be9-eac6-4bb9-b7d5-7eb26486f77b",
   "metadata": {},
   "outputs": [
    {
     "data": {
      "text/plain": [
       "['Hpca',\n",
       " 'Zc3h7b',\n",
       " 'Rsph1',\n",
       " 'Gfpt2',\n",
       " 'Mt1',\n",
       " 'Camk2n1',\n",
       " 'Ahnak',\n",
       " 'Cercam',\n",
       " 'Tfap2d',\n",
       " 'Rgl3',\n",
       " 'Krt28',\n",
       " 'Cldn11']"
      ]
     },
     "execution_count": 18,
     "metadata": {},
     "output_type": "execute_result"
    }
   ],
   "source": [
    "marker_genes = [\n",
    "    marker.sort_values(by='p.value').iloc[0].name\n",
    "    for _, marker in sorted(markers.items())\n",
    "]\n",
    "marker_genes"
   ]
  },
  {
   "cell_type": "code",
   "execution_count": 20,
   "id": "7d276514-e4c6-4c47-a9ef-20a193b061a6",
   "metadata": {},
   "outputs": [
    {
     "ename": "KeyError",
     "evalue": "'symbol'",
     "output_type": "error",
     "traceback": [
      "\u001b[0;31m---------------------------------------------------------------------------\u001b[0m",
      "\u001b[0;31mKeyError\u001b[0m                                  Traceback (most recent call last)",
      "File \u001b[0;32m/gpfs/gsfs10/users/kanferg/conda/envs/squidpy-voyagerpy/lib/python3.8/site-packages/pandas/core/indexes/base.py:3802\u001b[0m, in \u001b[0;36mIndex.get_loc\u001b[0;34m(self, key, method, tolerance)\u001b[0m\n\u001b[1;32m   3801\u001b[0m \u001b[38;5;28;01mtry\u001b[39;00m:\n\u001b[0;32m-> 3802\u001b[0m     \u001b[38;5;28;01mreturn\u001b[39;00m \u001b[38;5;28;43mself\u001b[39;49m\u001b[38;5;241;43m.\u001b[39;49m\u001b[43m_engine\u001b[49m\u001b[38;5;241;43m.\u001b[39;49m\u001b[43mget_loc\u001b[49m\u001b[43m(\u001b[49m\u001b[43mcasted_key\u001b[49m\u001b[43m)\u001b[49m\n\u001b[1;32m   3803\u001b[0m \u001b[38;5;28;01mexcept\u001b[39;00m \u001b[38;5;167;01mKeyError\u001b[39;00m \u001b[38;5;28;01mas\u001b[39;00m err:\n",
      "File \u001b[0;32m/gpfs/gsfs10/users/kanferg/conda/envs/squidpy-voyagerpy/lib/python3.8/site-packages/pandas/_libs/index.pyx:138\u001b[0m, in \u001b[0;36mpandas._libs.index.IndexEngine.get_loc\u001b[0;34m()\u001b[0m\n",
      "File \u001b[0;32m/gpfs/gsfs10/users/kanferg/conda/envs/squidpy-voyagerpy/lib/python3.8/site-packages/pandas/_libs/index.pyx:165\u001b[0m, in \u001b[0;36mpandas._libs.index.IndexEngine.get_loc\u001b[0;34m()\u001b[0m\n",
      "File \u001b[0;32mpandas/_libs/hashtable_class_helper.pxi:5745\u001b[0m, in \u001b[0;36mpandas._libs.hashtable.PyObjectHashTable.get_item\u001b[0;34m()\u001b[0m\n",
      "File \u001b[0;32mpandas/_libs/hashtable_class_helper.pxi:5753\u001b[0m, in \u001b[0;36mpandas._libs.hashtable.PyObjectHashTable.get_item\u001b[0;34m()\u001b[0m\n",
      "\u001b[0;31mKeyError\u001b[0m: 'symbol'",
      "\nThe above exception was the direct cause of the following exception:\n",
      "\u001b[0;31mKeyError\u001b[0m                                  Traceback (most recent call last)",
      "Cell \u001b[0;32mIn[20], line 1\u001b[0m\n\u001b[0;32m----> 1\u001b[0m marker_genes_symbols \u001b[38;5;241m=\u001b[39m \u001b[43mandata016_\u001b[49m\u001b[38;5;241;43m.\u001b[39;49m\u001b[43mvar\u001b[49m\u001b[38;5;241;43m.\u001b[39;49m\u001b[43mloc\u001b[49m\u001b[43m[\u001b[49m\u001b[43mmarker_genes\u001b[49m\u001b[43m,\u001b[49m\u001b[43m \u001b[49m\u001b[38;5;124;43m\"\u001b[39;49m\u001b[38;5;124;43msymbol\u001b[39;49m\u001b[38;5;124;43m\"\u001b[39;49m\u001b[43m]\u001b[49m\u001b[38;5;241m.\u001b[39mtolist()\n",
      "File \u001b[0;32m/gpfs/gsfs10/users/kanferg/conda/envs/squidpy-voyagerpy/lib/python3.8/site-packages/pandas/core/indexing.py:1067\u001b[0m, in \u001b[0;36m_LocationIndexer.__getitem__\u001b[0;34m(self, key)\u001b[0m\n\u001b[1;32m   1065\u001b[0m     \u001b[38;5;28;01mif\u001b[39;00m \u001b[38;5;28mself\u001b[39m\u001b[38;5;241m.\u001b[39m_is_scalar_access(key):\n\u001b[1;32m   1066\u001b[0m         \u001b[38;5;28;01mreturn\u001b[39;00m \u001b[38;5;28mself\u001b[39m\u001b[38;5;241m.\u001b[39mobj\u001b[38;5;241m.\u001b[39m_get_value(\u001b[38;5;241m*\u001b[39mkey, takeable\u001b[38;5;241m=\u001b[39m\u001b[38;5;28mself\u001b[39m\u001b[38;5;241m.\u001b[39m_takeable)\n\u001b[0;32m-> 1067\u001b[0m     \u001b[38;5;28;01mreturn\u001b[39;00m \u001b[38;5;28;43mself\u001b[39;49m\u001b[38;5;241;43m.\u001b[39;49m\u001b[43m_getitem_tuple\u001b[49m\u001b[43m(\u001b[49m\u001b[43mkey\u001b[49m\u001b[43m)\u001b[49m\n\u001b[1;32m   1068\u001b[0m \u001b[38;5;28;01melse\u001b[39;00m:\n\u001b[1;32m   1069\u001b[0m     \u001b[38;5;66;03m# we by definition only have the 0th axis\u001b[39;00m\n\u001b[1;32m   1070\u001b[0m     axis \u001b[38;5;241m=\u001b[39m \u001b[38;5;28mself\u001b[39m\u001b[38;5;241m.\u001b[39maxis \u001b[38;5;129;01mor\u001b[39;00m \u001b[38;5;241m0\u001b[39m\n",
      "File \u001b[0;32m/gpfs/gsfs10/users/kanferg/conda/envs/squidpy-voyagerpy/lib/python3.8/site-packages/pandas/core/indexing.py:1247\u001b[0m, in \u001b[0;36m_LocIndexer._getitem_tuple\u001b[0;34m(self, tup)\u001b[0m\n\u001b[1;32m   1245\u001b[0m \u001b[38;5;28;01mwith\u001b[39;00m suppress(IndexingError):\n\u001b[1;32m   1246\u001b[0m     tup \u001b[38;5;241m=\u001b[39m \u001b[38;5;28mself\u001b[39m\u001b[38;5;241m.\u001b[39m_expand_ellipsis(tup)\n\u001b[0;32m-> 1247\u001b[0m     \u001b[38;5;28;01mreturn\u001b[39;00m \u001b[38;5;28;43mself\u001b[39;49m\u001b[38;5;241;43m.\u001b[39;49m\u001b[43m_getitem_lowerdim\u001b[49m\u001b[43m(\u001b[49m\u001b[43mtup\u001b[49m\u001b[43m)\u001b[49m\n\u001b[1;32m   1249\u001b[0m \u001b[38;5;66;03m# no multi-index, so validate all of the indexers\u001b[39;00m\n\u001b[1;32m   1250\u001b[0m tup \u001b[38;5;241m=\u001b[39m \u001b[38;5;28mself\u001b[39m\u001b[38;5;241m.\u001b[39m_validate_tuple_indexer(tup)\n",
      "File \u001b[0;32m/gpfs/gsfs10/users/kanferg/conda/envs/squidpy-voyagerpy/lib/python3.8/site-packages/pandas/core/indexing.py:967\u001b[0m, in \u001b[0;36m_LocationIndexer._getitem_lowerdim\u001b[0;34m(self, tup)\u001b[0m\n\u001b[1;32m    963\u001b[0m \u001b[38;5;28;01mfor\u001b[39;00m i, key \u001b[38;5;129;01min\u001b[39;00m \u001b[38;5;28menumerate\u001b[39m(tup):\n\u001b[1;32m    964\u001b[0m     \u001b[38;5;28;01mif\u001b[39;00m is_label_like(key):\n\u001b[1;32m    965\u001b[0m         \u001b[38;5;66;03m# We don't need to check for tuples here because those are\u001b[39;00m\n\u001b[1;32m    966\u001b[0m         \u001b[38;5;66;03m#  caught by the _is_nested_tuple_indexer check above.\u001b[39;00m\n\u001b[0;32m--> 967\u001b[0m         section \u001b[38;5;241m=\u001b[39m \u001b[38;5;28;43mself\u001b[39;49m\u001b[38;5;241;43m.\u001b[39;49m\u001b[43m_getitem_axis\u001b[49m\u001b[43m(\u001b[49m\u001b[43mkey\u001b[49m\u001b[43m,\u001b[49m\u001b[43m \u001b[49m\u001b[43maxis\u001b[49m\u001b[38;5;241;43m=\u001b[39;49m\u001b[43mi\u001b[49m\u001b[43m)\u001b[49m\n\u001b[1;32m    969\u001b[0m         \u001b[38;5;66;03m# We should never have a scalar section here, because\u001b[39;00m\n\u001b[1;32m    970\u001b[0m         \u001b[38;5;66;03m#  _getitem_lowerdim is only called after a check for\u001b[39;00m\n\u001b[1;32m    971\u001b[0m         \u001b[38;5;66;03m#  is_scalar_access, which that would be.\u001b[39;00m\n\u001b[1;32m    972\u001b[0m         \u001b[38;5;28;01mif\u001b[39;00m section\u001b[38;5;241m.\u001b[39mndim \u001b[38;5;241m==\u001b[39m \u001b[38;5;28mself\u001b[39m\u001b[38;5;241m.\u001b[39mndim:\n\u001b[1;32m    973\u001b[0m             \u001b[38;5;66;03m# we're in the middle of slicing through a MultiIndex\u001b[39;00m\n\u001b[1;32m    974\u001b[0m             \u001b[38;5;66;03m# revise the key wrt to `section` by inserting an _NS\u001b[39;00m\n",
      "File \u001b[0;32m/gpfs/gsfs10/users/kanferg/conda/envs/squidpy-voyagerpy/lib/python3.8/site-packages/pandas/core/indexing.py:1312\u001b[0m, in \u001b[0;36m_LocIndexer._getitem_axis\u001b[0;34m(self, key, axis)\u001b[0m\n\u001b[1;32m   1310\u001b[0m \u001b[38;5;66;03m# fall thru to straight lookup\u001b[39;00m\n\u001b[1;32m   1311\u001b[0m \u001b[38;5;28mself\u001b[39m\u001b[38;5;241m.\u001b[39m_validate_key(key, axis)\n\u001b[0;32m-> 1312\u001b[0m \u001b[38;5;28;01mreturn\u001b[39;00m \u001b[38;5;28;43mself\u001b[39;49m\u001b[38;5;241;43m.\u001b[39;49m\u001b[43m_get_label\u001b[49m\u001b[43m(\u001b[49m\u001b[43mkey\u001b[49m\u001b[43m,\u001b[49m\u001b[43m \u001b[49m\u001b[43maxis\u001b[49m\u001b[38;5;241;43m=\u001b[39;49m\u001b[43maxis\u001b[49m\u001b[43m)\u001b[49m\n",
      "File \u001b[0;32m/gpfs/gsfs10/users/kanferg/conda/envs/squidpy-voyagerpy/lib/python3.8/site-packages/pandas/core/indexing.py:1260\u001b[0m, in \u001b[0;36m_LocIndexer._get_label\u001b[0;34m(self, label, axis)\u001b[0m\n\u001b[1;32m   1258\u001b[0m \u001b[38;5;28;01mdef\u001b[39;00m \u001b[38;5;21m_get_label\u001b[39m(\u001b[38;5;28mself\u001b[39m, label, axis: \u001b[38;5;28mint\u001b[39m):\n\u001b[1;32m   1259\u001b[0m     \u001b[38;5;66;03m# GH#5567 this will fail if the label is not present in the axis.\u001b[39;00m\n\u001b[0;32m-> 1260\u001b[0m     \u001b[38;5;28;01mreturn\u001b[39;00m \u001b[38;5;28;43mself\u001b[39;49m\u001b[38;5;241;43m.\u001b[39;49m\u001b[43mobj\u001b[49m\u001b[38;5;241;43m.\u001b[39;49m\u001b[43mxs\u001b[49m\u001b[43m(\u001b[49m\u001b[43mlabel\u001b[49m\u001b[43m,\u001b[49m\u001b[43m \u001b[49m\u001b[43maxis\u001b[49m\u001b[38;5;241;43m=\u001b[39;49m\u001b[43maxis\u001b[49m\u001b[43m)\u001b[49m\n",
      "File \u001b[0;32m/gpfs/gsfs10/users/kanferg/conda/envs/squidpy-voyagerpy/lib/python3.8/site-packages/pandas/core/generic.py:4041\u001b[0m, in \u001b[0;36mNDFrame.xs\u001b[0;34m(self, key, axis, level, drop_level)\u001b[0m\n\u001b[1;32m   4039\u001b[0m \u001b[38;5;28;01mif\u001b[39;00m axis \u001b[38;5;241m==\u001b[39m \u001b[38;5;241m1\u001b[39m:\n\u001b[1;32m   4040\u001b[0m     \u001b[38;5;28;01mif\u001b[39;00m drop_level:\n\u001b[0;32m-> 4041\u001b[0m         \u001b[38;5;28;01mreturn\u001b[39;00m \u001b[38;5;28;43mself\u001b[39;49m\u001b[43m[\u001b[49m\u001b[43mkey\u001b[49m\u001b[43m]\u001b[49m\n\u001b[1;32m   4042\u001b[0m     index \u001b[38;5;241m=\u001b[39m \u001b[38;5;28mself\u001b[39m\u001b[38;5;241m.\u001b[39mcolumns\n\u001b[1;32m   4043\u001b[0m \u001b[38;5;28;01melse\u001b[39;00m:\n",
      "File \u001b[0;32m/gpfs/gsfs10/users/kanferg/conda/envs/squidpy-voyagerpy/lib/python3.8/site-packages/pandas/core/frame.py:3807\u001b[0m, in \u001b[0;36mDataFrame.__getitem__\u001b[0;34m(self, key)\u001b[0m\n\u001b[1;32m   3805\u001b[0m \u001b[38;5;28;01mif\u001b[39;00m \u001b[38;5;28mself\u001b[39m\u001b[38;5;241m.\u001b[39mcolumns\u001b[38;5;241m.\u001b[39mnlevels \u001b[38;5;241m>\u001b[39m \u001b[38;5;241m1\u001b[39m:\n\u001b[1;32m   3806\u001b[0m     \u001b[38;5;28;01mreturn\u001b[39;00m \u001b[38;5;28mself\u001b[39m\u001b[38;5;241m.\u001b[39m_getitem_multilevel(key)\n\u001b[0;32m-> 3807\u001b[0m indexer \u001b[38;5;241m=\u001b[39m \u001b[38;5;28;43mself\u001b[39;49m\u001b[38;5;241;43m.\u001b[39;49m\u001b[43mcolumns\u001b[49m\u001b[38;5;241;43m.\u001b[39;49m\u001b[43mget_loc\u001b[49m\u001b[43m(\u001b[49m\u001b[43mkey\u001b[49m\u001b[43m)\u001b[49m\n\u001b[1;32m   3808\u001b[0m \u001b[38;5;28;01mif\u001b[39;00m is_integer(indexer):\n\u001b[1;32m   3809\u001b[0m     indexer \u001b[38;5;241m=\u001b[39m [indexer]\n",
      "File \u001b[0;32m/gpfs/gsfs10/users/kanferg/conda/envs/squidpy-voyagerpy/lib/python3.8/site-packages/pandas/core/indexes/base.py:3804\u001b[0m, in \u001b[0;36mIndex.get_loc\u001b[0;34m(self, key, method, tolerance)\u001b[0m\n\u001b[1;32m   3802\u001b[0m     \u001b[38;5;28;01mreturn\u001b[39;00m \u001b[38;5;28mself\u001b[39m\u001b[38;5;241m.\u001b[39m_engine\u001b[38;5;241m.\u001b[39mget_loc(casted_key)\n\u001b[1;32m   3803\u001b[0m \u001b[38;5;28;01mexcept\u001b[39;00m \u001b[38;5;167;01mKeyError\u001b[39;00m \u001b[38;5;28;01mas\u001b[39;00m err:\n\u001b[0;32m-> 3804\u001b[0m     \u001b[38;5;28;01mraise\u001b[39;00m \u001b[38;5;167;01mKeyError\u001b[39;00m(key) \u001b[38;5;28;01mfrom\u001b[39;00m \u001b[38;5;21;01merr\u001b[39;00m\n\u001b[1;32m   3805\u001b[0m \u001b[38;5;28;01mexcept\u001b[39;00m \u001b[38;5;167;01mTypeError\u001b[39;00m:\n\u001b[1;32m   3806\u001b[0m     \u001b[38;5;66;03m# If we have a listlike key, _check_indexing_error will raise\u001b[39;00m\n\u001b[1;32m   3807\u001b[0m     \u001b[38;5;66;03m#  InvalidIndexError. Otherwise we fall through and re-raise\u001b[39;00m\n\u001b[1;32m   3808\u001b[0m     \u001b[38;5;66;03m#  the TypeError.\u001b[39;00m\n\u001b[1;32m   3809\u001b[0m     \u001b[38;5;28mself\u001b[39m\u001b[38;5;241m.\u001b[39m_check_indexing_error(key)\n",
      "\u001b[0;31mKeyError\u001b[0m: 'symbol'"
     ]
    }
   ],
   "source": [
    "marker_genes_symbols = andata016_.var.loc[marker_genes, \"symbol\"].tolist()"
   ]
  },
  {
   "cell_type": "code",
   "execution_count": 19,
   "id": "20a96645-15e6-455e-afb0-d62c51dd7eee",
   "metadata": {},
   "outputs": [
    {
     "data": {
      "text/plain": [
       "AnnData object with n_obs × n_vars = 7000 × 1500\n",
       "    obs: 'in_tissue', 'array_row', 'array_col', 'n_counts', 'n_genes', 'sum', 'detected', 'subsets_mito_sum', 'subsets_mito_detected', 'subsets_mito_percent', 'cluster'\n",
       "    var: 'gene_ids', 'feature_types', 'genome', 'highly_variable', 'means', 'dispersions', 'dispersions_norm'\n",
       "    uns: 'spatial', 'config', 'hvg', 'pca', 'neighbors', 'leiden'\n",
       "    obsm: 'spatial', 'geometry', 'X_pca'\n",
       "    varm: 'PCs'\n",
       "    layers: 'counts', 'logcounts'\n",
       "    obsp: 'distances', 'connectivities'"
      ]
     },
     "execution_count": 19,
     "metadata": {},
     "output_type": "execute_result"
    }
   ],
   "source": [
    "andata016_"
   ]
  },
  {
   "cell_type": "code",
   "execution_count": 6,
   "id": "31a70675-8f77-463b-8002-e5ba27f5127c",
   "metadata": {},
   "outputs": [
    {
     "ename": "ValueError",
     "evalue": "shape mismatch: value array of shape (18992,) could not be broadcast to indexing result of shape (19004,)",
     "output_type": "error",
     "traceback": [
      "\u001b[0;31m---------------------------------------------------------------------------\u001b[0m",
      "\u001b[0;31mValueError\u001b[0m                                Traceback (most recent call last)",
      "Cell \u001b[0;32mIn[6], line 1\u001b[0m\n\u001b[0;32m----> 1\u001b[0m gene_var \u001b[38;5;241m=\u001b[39m \u001b[43mvp\u001b[49m\u001b[38;5;241;43m.\u001b[39;49m\u001b[43mutils\u001b[49m\u001b[38;5;241;43m.\u001b[39;49m\u001b[43mmodel_gene_var\u001b[49m\u001b[43m(\u001b[49m\u001b[43mandata016_\u001b[49m\u001b[38;5;241;43m.\u001b[39;49m\u001b[43mlayers\u001b[49m\u001b[43m[\u001b[49m\u001b[38;5;124;43m'\u001b[39;49m\u001b[38;5;124;43mlogcounts\u001b[39;49m\u001b[38;5;124;43m'\u001b[39;49m\u001b[43m]\u001b[49m\u001b[43m,\u001b[49m\u001b[43m \u001b[49m\u001b[43mgene_names\u001b[49m\u001b[38;5;241;43m=\u001b[39;49m\u001b[43mandata016_\u001b[49m\u001b[38;5;241;43m.\u001b[39;49m\u001b[43mvar_names\u001b[49m\u001b[43m)\u001b[49m\n\u001b[1;32m      2\u001b[0m hvgs \u001b[38;5;241m=\u001b[39m vp\u001b[38;5;241m.\u001b[39mutils\u001b[38;5;241m.\u001b[39mget_top_hvgs(gene_var)\n\u001b[1;32m      4\u001b[0m \u001b[38;5;66;03m# Set the 'highly_variable' column for the genes\u001b[39;00m\n",
      "File \u001b[0;32m/gpfs/gsfs10/users/kanferg/conda/envs/squidpy-voyagerpy/lib/python3.8/site-packages/voyagerpy/utils/hvg.py:395\u001b[0m, in \u001b[0;36mmodel_gene_var\u001b[0;34m(***failed resolving arguments***)\u001b[0m\n\u001b[1;32m    392\u001b[0m \u001b[38;5;28;01melse\u001b[39;00m:\n\u001b[1;32m    393\u001b[0m     \u001b[38;5;28;01mreturn\u001b[39;00m \u001b[38;5;28;01mNone\u001b[39;00m\n\u001b[0;32m--> 395\u001b[0m collected \u001b[38;5;241m=\u001b[39m \u001b[43mdecompose_log_exprs\u001b[49m\u001b[43m(\u001b[49m\u001b[43mx_means\u001b[49m\u001b[43m,\u001b[49m\u001b[43m \u001b[49m\u001b[43mx_vars\u001b[49m\u001b[43m,\u001b[49m\u001b[43m \u001b[49m\u001b[43mfit_stats_means\u001b[49m\u001b[43m,\u001b[49m\u001b[43m \u001b[49m\u001b[43mfit_stats_vars\u001b[49m\u001b[43m,\u001b[49m\u001b[43m \u001b[49m\u001b[43mnames\u001b[49m\u001b[38;5;241;43m=\u001b[39;49m\u001b[43mnames\u001b[49m\u001b[43m)\u001b[49m\n\u001b[1;32m    397\u001b[0m \u001b[38;5;28;01mreturn\u001b[39;00m collected\n",
      "File \u001b[0;32m/gpfs/gsfs10/users/kanferg/conda/envs/squidpy-voyagerpy/lib/python3.8/site-packages/voyagerpy/utils/hvg.py:301\u001b[0m, in \u001b[0;36mdecompose_log_exprs\u001b[0;34m(_means, _vars, fit_means, fit_vars, names)\u001b[0m\n\u001b[1;32m    299\u001b[0m \u001b[38;5;66;03m# filt_out[\"FDR\"] = fdrcorrection(filt_out[\"p.value\"])[1]\u001b[39;00m\n\u001b[1;32m    300\u001b[0m _, pval_corr \u001b[38;5;241m=\u001b[39m fdrcorrection(filt_out[\u001b[38;5;124m\"\u001b[39m\u001b[38;5;124mp.value\u001b[39m\u001b[38;5;124m\"\u001b[39m])\n\u001b[0;32m--> 301\u001b[0m \u001b[43moutput\u001b[49m\u001b[38;5;241;43m.\u001b[39;49m\u001b[43mloc\u001b[49m\u001b[43m[\u001b[49m\u001b[43mfilt_out\u001b[49m\u001b[38;5;241;43m.\u001b[39;49m\u001b[43mindex\u001b[49m\u001b[43m,\u001b[49m\u001b[43m \u001b[49m\u001b[38;5;124;43m\"\u001b[39;49m\u001b[38;5;124;43mFDR\u001b[39;49m\u001b[38;5;124;43m\"\u001b[39;49m\u001b[43m]\u001b[49m \u001b[38;5;241m=\u001b[39m pval_corr\n\u001b[1;32m    303\u001b[0m \u001b[38;5;28;01mreturn\u001b[39;00m output\n",
      "File \u001b[0;32m/gpfs/gsfs10/users/kanferg/conda/envs/squidpy-voyagerpy/lib/python3.8/site-packages/pandas/core/indexing.py:818\u001b[0m, in \u001b[0;36m_LocationIndexer.__setitem__\u001b[0;34m(self, key, value)\u001b[0m\n\u001b[1;32m    815\u001b[0m \u001b[38;5;28mself\u001b[39m\u001b[38;5;241m.\u001b[39m_has_valid_setitem_indexer(key)\n\u001b[1;32m    817\u001b[0m iloc \u001b[38;5;241m=\u001b[39m \u001b[38;5;28mself\u001b[39m \u001b[38;5;28;01mif\u001b[39;00m \u001b[38;5;28mself\u001b[39m\u001b[38;5;241m.\u001b[39mname \u001b[38;5;241m==\u001b[39m \u001b[38;5;124m\"\u001b[39m\u001b[38;5;124miloc\u001b[39m\u001b[38;5;124m\"\u001b[39m \u001b[38;5;28;01melse\u001b[39;00m \u001b[38;5;28mself\u001b[39m\u001b[38;5;241m.\u001b[39mobj\u001b[38;5;241m.\u001b[39miloc\n\u001b[0;32m--> 818\u001b[0m \u001b[43miloc\u001b[49m\u001b[38;5;241;43m.\u001b[39;49m\u001b[43m_setitem_with_indexer\u001b[49m\u001b[43m(\u001b[49m\u001b[43mindexer\u001b[49m\u001b[43m,\u001b[49m\u001b[43m \u001b[49m\u001b[43mvalue\u001b[49m\u001b[43m,\u001b[49m\u001b[43m \u001b[49m\u001b[38;5;28;43mself\u001b[39;49m\u001b[38;5;241;43m.\u001b[39;49m\u001b[43mname\u001b[49m\u001b[43m)\u001b[49m\n",
      "File \u001b[0;32m/gpfs/gsfs10/users/kanferg/conda/envs/squidpy-voyagerpy/lib/python3.8/site-packages/pandas/core/indexing.py:1738\u001b[0m, in \u001b[0;36m_iLocIndexer._setitem_with_indexer\u001b[0;34m(self, indexer, value, name)\u001b[0m\n\u001b[1;32m   1734\u001b[0m empty_value \u001b[38;5;241m=\u001b[39m algos\u001b[38;5;241m.\u001b[39mtake_nd(arr, taker)\n\u001b[1;32m   1735\u001b[0m \u001b[38;5;28;01mif\u001b[39;00m \u001b[38;5;129;01mnot\u001b[39;00m \u001b[38;5;28misinstance\u001b[39m(value, ABCSeries):\n\u001b[1;32m   1736\u001b[0m     \u001b[38;5;66;03m# if not Series (in which case we need to align),\u001b[39;00m\n\u001b[1;32m   1737\u001b[0m     \u001b[38;5;66;03m#  we can short-circuit\u001b[39;00m\n\u001b[0;32m-> 1738\u001b[0m     \u001b[43mempty_value\u001b[49m\u001b[43m[\u001b[49m\u001b[43mindexer\u001b[49m\u001b[43m[\u001b[49m\u001b[38;5;241;43m0\u001b[39;49m\u001b[43m]\u001b[49m\u001b[43m]\u001b[49m \u001b[38;5;241m=\u001b[39m arr\n\u001b[1;32m   1739\u001b[0m     \u001b[38;5;28mself\u001b[39m\u001b[38;5;241m.\u001b[39mobj[key] \u001b[38;5;241m=\u001b[39m empty_value\n\u001b[1;32m   1740\u001b[0m     \u001b[38;5;28;01mreturn\u001b[39;00m\n",
      "\u001b[0;31mValueError\u001b[0m: shape mismatch: value array of shape (18992,) could not be broadcast to indexing result of shape (19004,)"
     ]
    }
   ],
   "source": [
    "gene_var = vp.utils.model_gene_var(andata016_.layers['logcounts'], gene_names=andata016_.var_names)\n",
    "hvgs = vp.utils.get_top_hvgs(gene_var)\n",
    "\n",
    "# Set the 'highly_variable' column for the genes\n",
    "adata_tissue.var['highly_variable'] = False\n",
    "adata_tissue.var.loc[hvgs, 'highly_variable'] = True"
   ]
  },
  {
   "cell_type": "code",
   "execution_count": null,
   "id": "4c011d83-b51d-43c5-b06f-74e910ef0da4",
   "metadata": {},
   "outputs": [],
   "source": []
  },
  {
   "cell_type": "code",
   "execution_count": null,
   "id": "35e8cc1f-323d-4338-882c-23dd7178b4f2",
   "metadata": {},
   "outputs": [],
   "source": []
  },
  {
   "cell_type": "code",
   "execution_count": null,
   "id": "75ce2a4c-82e9-464f-b978-fb32f045ce21",
   "metadata": {},
   "outputs": [],
   "source": []
  }
 ],
 "metadata": {
  "kernelspec": {
   "display_name": "Python 3 (ipykernel)",
   "language": "python",
   "name": "python3"
  },
  "language_info": {
   "codemirror_mode": {
    "name": "ipython",
    "version": 3
   },
   "file_extension": ".py",
   "mimetype": "text/x-python",
   "name": "python",
   "nbconvert_exporter": "python",
   "pygments_lexer": "ipython3",
   "version": "3.8.19"
  }
 },
 "nbformat": 4,
 "nbformat_minor": 5
}
