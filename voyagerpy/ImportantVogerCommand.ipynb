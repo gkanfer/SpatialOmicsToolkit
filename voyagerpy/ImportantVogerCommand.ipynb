{
 "cells": [
  {
   "cell_type": "code",
   "execution_count": null,
   "id": "62c61f94-378d-45e9-a89b-c4564ff35dbe",
   "metadata": {},
   "outputs": [],
   "source": [
    "import numpy as np\n",
    "import geopandas as gpd\n",
    "import pandas as pd\n",
    "\n",
    "import scanpy as sc\n",
    "import voyagerpy as vp\n",
    "import seaborn as sns\n",
    "import os\n",
    "import pickle\n",
    "from matplotlib.pyplot import imread\n",
    "import json\n",
    "\n",
    "from matplotlib import pyplot as plt"
   ]
  },
  {
   "cell_type": "code",
   "execution_count": null,
   "id": "302a790a-6c5f-477b-9751-76a1fbef029c",
   "metadata": {},
   "outputs": [],
   "source": [
    "path_016 = \"/data/kanferg/Sptial_Omics/playGround/Data/Visium_HD_Mouse_Brain_square_example/square_016um\"\n",
    "andata016_ = sc.read_visium(path=path_016)\n",
    "andata016_.uns"
   ]
  },
  {
   "cell_type": "code",
   "execution_count": null,
   "id": "255cda58-c6fa-4abd-8ed4-bb8f377d2c71",
   "metadata": {},
   "outputs": [],
   "source": [
    "im = plt.imread(os.path.join(path_016,'spatial/tissue_hires_image.png'))\n",
    "_ = plt.imshow(im, origin='lower')"
   ]
  },
  {
   "cell_type": "code",
   "execution_count": null,
   "id": "ec7ecba0-164b-48aa-96f7-f4873f8548fe",
   "metadata": {},
   "outputs": [],
   "source": [
    "image_lower = plt.imread(os.path.join(path_016,'spatial/tissue_lowres_image.png'))\n",
    "andata016_.uns[\"spatial\"][\"img\"] = {\"lower\": image_lower}"
   ]
  },
  {
   "cell_type": "code",
   "execution_count": null,
   "id": "3558f26c-5a94-4686-b91a-515828abf777",
   "metadata": {},
   "outputs": [],
   "source": [
    "vp.plt.imshow(andata016_)"
   ]
  }
 ],
 "metadata": {
  "kernelspec": {
   "display_name": "Python 3 (ipykernel)",
   "language": "python",
   "name": "python3"
  },
  "language_info": {
   "codemirror_mode": {
    "name": "ipython",
    "version": 3
   },
   "file_extension": ".py",
   "mimetype": "text/x-python",
   "name": "python",
   "nbconvert_exporter": "python",
   "pygments_lexer": "ipython3",
   "version": "3.8.19"
  }
 },
 "nbformat": 4,
 "nbformat_minor": 5
}
