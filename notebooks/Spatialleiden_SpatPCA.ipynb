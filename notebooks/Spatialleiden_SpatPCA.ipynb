{
 "cells": [
  {
   "cell_type": "code",
   "execution_count": null,
   "id": "35399e78-ce17-4ede-b956-31e4fbfd7747",
   "metadata": {},
   "outputs": [],
   "source": [
    "import cupy as cp\n",
    "import cupyx\n",
    "import scanpy as sc\n",
    "import spatialleiden as sl\n",
    "import squidpy as sq\n",
    "import numpy as np\n",
    "from cupyx.scipy.sparse import csr_matrix\n",
    "import os\n",
    "from PIL import Image\n",
    "import matplotlib.pyplot as plt\n",
    "from matplotlib.colors import ListedColormap\n",
    "from matplotlib.colors import LinearSegmentedColormap\n",
    "from matplotlib.backends.backend_pdf import PdfPages\n",
    "import seaborn as sns\n",
    "import random\n",
    "import pandas as pd\n",
    "# from rsc_functions.utility.applyqc import applyqc\n",
    "# from rsc_functions.reports.plot import plot_spatial,plot_spatial_data, plot_dist\n",
    "# from rsc_functions.utility.rank_genes_groups import return_markers,rank_genes_groups\n",
    "# from rsc_functions.reports.plot import plot_expression"
   ]
  },
  {
   "cell_type": "markdown",
   "id": "97a4aca7-505f-4aeb-92ad-3363b360db06",
   "metadata": {},
   "source": [
    "<center><H2>Visium HD colon example </center>"
   ]
  },
  {
   "cell_type": "code",
   "execution_count": null,
   "id": "1bf3d0bc-2fe3-43db-af70-2f85283677fa",
   "metadata": {},
   "outputs": [],
   "source": [
    "path_016 = \"/data/kanferg/Sptial_Omics/playGround/Data/Visium_HD_Human_Colon_Cancer_binned_outputs/binned_outputs/square_016um\"\n",
    "pathout = \"/data/kanferg/Sptial_Omics/SpatialOmicsToolkit/out_2\"\n",
    "andata = sc.read_h5ad(os.path.join(pathout, \"andata_save_colon.h5ad\"))\n",
    "def load_matrix(andata,pathout,npz_file = \"obsp_distances.npz\",mode = 'sparse', mat_name = 'distances'):\n",
    "    npzfile = cp.load(os.path.join(pathout, npz_file))\n",
    "    data = cp.array(npzfile['data'])\n",
    "    indices = cp.array(npzfile['indices'])\n",
    "    indptr = cp.array(npzfile['indptr'])\n",
    "    shape = tuple(npzfile['shape'])\n",
    "    \n",
    "    # Reconstruct the sparse matrix\n",
    "    sparse_matrix_distances = csr_matrix((data, indices, indptr), shape=shape)\n",
    "    if mode== 'sparse':\n",
    "        andata.obsp[mat_name] = sparse_matrix_distances\n",
    "    else:\n",
    "        andata.obsp[mat_name] = sparse_matrix_distances.get()\n",
    "    return andata"
   ]
  },
  {
   "cell_type": "code",
   "execution_count": null,
   "id": "aadd047d-5c2c-4fa1-a10f-3c41b9fe053e",
   "metadata": {},
   "outputs": [],
   "source": [
    "andata.obs[\"imagerow\"] = andata.obsm['spatial'][:,0]\n",
    "andata.obs[\"imagecol\"] = andata.obsm['spatial'][:,1]\n",
    "andata.uns[\"spatial\"] = andata.obsm[\"spatial\"]\n",
    "def make_uns_spatial(adata):\n",
    "    #max_size = np.max([adata.obs[\"imagerow\"].max(), adata.obs[\"imagecol\"].max()])\n",
    "    #max_size = int(max_size + 0.1 * max_size)\n",
    "    #image = Image.new(\"RGBA\", (max_size, max_size), (255, 255, 255, 255))\n",
    "    #imgarr = np.array(image)\n",
    "    adata.uns[\"spatial\"] = {}\n",
    "    adata.uns[\"spatial\"][\"id1\"] = {}\n",
    "    #adata.uns[\"spatial\"][\"id1\"][\"images\"] = {}\n",
    "    #adata.uns[\"spatial\"][\"id1\"][\"images\"][\"lowres\"] = imgarr\n",
    "    adata.uns[\"spatial\"][\"id1\"][\"use_quality\"] = \"lowres\"\n",
    "    adata.uns[\"spatial\"][\"id1\"][\"scalefactors\"] = {}\n",
    "    adata.uns[\"spatial\"][\"id1\"][\"scalefactors\"][\"tissue_low_scalef\" ] = 1\n",
    "    adata.uns[\"spatial\"][\"id1\"][\"scalefactors\"][\"spot_diameter_fullres\"] = 15\n",
    "    adata.uns[\"spatial\"][\"id1\"][\"scalefactors\"][\n",
    "            \"tissue_\" + \"lowres\" + \"_scalef\"\n",
    "        ] = 1\n",
    "    return adata\n",
    "andata = make_uns_spatial(andata)"
   ]
  },
  {
   "cell_type": "code",
   "execution_count": null,
   "id": "e42cddcc-56f6-4caf-9c2b-bb3c39ebba5d",
   "metadata": {},
   "outputs": [],
   "source": [
    "andata = load_matrix(andata,pathout,npz_file = \"obsp_distances_large_colon.npz\", mat_name = 'distances',mode=\"scipy\")\n",
    "andata = load_matrix(andata,pathout,npz_file = \"obsp_connectivities_large_colon.npz\", mat_name = 'connectivities',mode=\"scipy\")"
   ]
  },
  {
   "cell_type": "code",
   "execution_count": null,
   "id": "118af606-09d1-4337-97bf-cb424a7073db",
   "metadata": {},
   "outputs": [],
   "source": [
    "andata"
   ]
  },
  {
   "cell_type": "code",
   "execution_count": null,
   "id": "17df58cc-1c0c-4376-8a5b-7d7c19ce650a",
   "metadata": {},
   "outputs": [],
   "source": [
    "sq.gr.spatial_neighbors(andata, coord_type=\"generic\")"
   ]
  },
  {
   "cell_type": "code",
   "execution_count": null,
   "id": "e0a2ee1a-f009-4e62-80e4-7af93fe94db8",
   "metadata": {},
   "outputs": [],
   "source": [
    "andata"
   ]
  },
  {
   "cell_type": "code",
   "execution_count": null,
   "id": "1cf9033a-ab37-4f28-83e5-f5b1fe1729a6",
   "metadata": {},
   "outputs": [],
   "source": [
    "andata.obsp[\"spatial_connectivities\"] = sl.distance2connectivity(andata.obsp[\"spatial_distances\"])"
   ]
  },
  {
   "cell_type": "code",
   "execution_count": null,
   "id": "3762fae0-a689-4854-86fe-09feaa310846",
   "metadata": {},
   "outputs": [],
   "source": [
    "seed = 42\n",
    "sl.spatialleiden(andata, layer_ratio=1.5, directed=(False, True), seed=seed)"
   ]
  },
  {
   "cell_type": "code",
   "execution_count": null,
   "id": "5b18ad63-017f-445b-a4cb-4f0512672a13",
   "metadata": {},
   "outputs": [],
   "source": [
    "andata"
   ]
  },
  {
   "cell_type": "code",
   "execution_count": null,
   "id": "74df7802-91f1-4778-8004-42cf42fcacba",
   "metadata": {},
   "outputs": [],
   "source": [
    "sc.pl.embedding(andata, basis=\"spatial\", color=[\"spatialleiden\"])"
   ]
  },
  {
   "cell_type": "code",
   "execution_count": null,
   "id": "1e1a456e-cf6c-469e-9bcb-dc275fd36ddb",
   "metadata": {},
   "outputs": [],
   "source": [
    "andata"
   ]
  },
  {
   "cell_type": "code",
   "execution_count": null,
   "id": "4b2b2e92-eb48-47fc-a057-c23bb49dc410",
   "metadata": {},
   "outputs": [],
   "source": [
    "import os\n",
    "import pickle\n",
    "\n",
    "file_path = os.path.join(pathout, \"andata_uns_mtracies__colon.pkl\")\n",
    "\n",
    "if os.path.getsize(file_path) > 0:\n",
    "    with open(file_path, 'rb') as buff:\n",
    "        andata_uns_mtracies = pickle.load(buff)\n",
    "else:\n",
    "    print(\"File is empty. Cannot load data.\")\n",
    "    andata_uns_mtracies = None\n",
    "andata.uns[\"spatial\"] = andata.obsm[\"spatial\"]\n",
    "andata.uns['clusterColorMap'] = andata_uns_mtracies['clusterColorMap']\n",
    "andata.obs[\"imagerow\"] = andata.obsm['spatial'][:,0]\n",
    "andata.obs[\"imagecol\"] = andata.obsm['spatial'][:,1]\n",
    "andata.uns[\"spatial\"] = andata.obsm[\"spatial\"]"
   ]
  },
  {
   "cell_type": "code",
   "execution_count": null,
   "id": "5a23ebea-ccfc-4bb4-be4c-aaba13c0fbfb",
   "metadata": {},
   "outputs": [],
   "source": [
    "df = pd.DataFrame({'cluster':andata.obs['spatialleiden'],'x':andata.obsm['spatial'][:,0],'y':andata.obsm['spatial'][:,1]})\n",
    "color_map = andata.uns['clusterColorMap'].set_index('clusters')['colors'].to_dict()\n",
    "df['color'] = df['cluster'].astype(str).map(color_map)"
   ]
  },
  {
   "cell_type": "code",
   "execution_count": null,
   "id": "14821c6a-bc2b-45a4-82b2-39cd8288db95",
   "metadata": {},
   "outputs": [],
   "source": [
    "sns.set_theme(style=\"whitegrid\", palette=\"pastel\")\n",
    "color_container = []\n",
    "\n",
    "fig, ax = plt.subplots(1, 1, figsize=(15,15))\n",
    "clusters = sorted(np.unique(df['cluster'].values), key=int)\n",
    "for i, cluster in enumerate(clusters):\n",
    "    cluster_data = df[df['cluster'] == cluster]\n",
    "    color_temp = cluster_data['color'][0]\n",
    "    ax.scatter( x=cluster_data['x'], y=cluster_data['y'], color=color_temp, label=f'{cluster}', s=0.1, alpha=1)\n",
    "\n",
    "ax.set_xticks([])\n",
    "ax.set_yticks([])\n",
    "# ax.set_xlabel(xlab)\n",
    "# ax.set_ylabel(ylab)\n",
    "# ax.set_title(title)\n",
    "legend = ax.legend(title='cluster',\n",
    "                    bbox_to_anchor=(1.05, 1),  # Position the legend outside the plot\n",
    "                    loc='upper left',\n",
    "                    fontsize='small',  # Control the font size\n",
    "                    title_fontsize='medium',\n",
    "                     markerscale=30,  # Increase the size of the legend markers\n",
    "                    frameon=False)\n",
    "plt.subplots_adjust(left=0.1, right=0.9, top=0.9, bottom=0.2)"
   ]
  },
  {
   "cell_type": "code",
   "execution_count": null,
   "id": "a99770c7-cf93-4889-a6dd-a1cb6565ef79",
   "metadata": {},
   "outputs": [],
   "source": [
    "range(14"
   ]
  },
  {
   "cell_type": "code",
   "execution_count": null,
   "id": "3709cbbd-4947-4181-b57d-b022a8dbefa8",
   "metadata": {},
   "outputs": [],
   "source": [
    "plt.rcParams['figure.dpi'] = 92\n",
    "plt.rcParams['font.family'] = ['serif']\n",
    "plt.rcParams['font.size'] = 12\n",
    "plt.rcParams['axes.labelsize'] = 12\n",
    "plt.rcParams['axes.titlesize'] = 12\n",
    "plt.rcParams['xtick.labelsize'] = 12\n",
    "plt.rcParams['ytick.labelsize'] = 12\n",
    "fig, ax = plt.subplots(7,2, figsize=(10, 50))\n",
    "ax = ax.ravel()\n",
    "for i in range(14):\n",
    "    cluster_data = df[df['cluster'] == i]\n",
    "    color_temp = cluster_data['color'][0]\n",
    "    ax[i].scatter( x=cluster_data['x'], y=cluster_data['y'], color=color_temp, label='Goblet cells', s=0.5, alpha=1)\n",
    "    ax[i].set_title(str(i))\n",
    "plt.subplots_adjust(left=0.1, right=0.75, top=0.9, bottom=0.2)"
   ]
  },
  {
   "cell_type": "code",
   "execution_count": null,
   "id": "fbde7d49-ee07-40ce-8437-37faa1a04fea",
   "metadata": {},
   "outputs": [],
   "source": [
    "plt.rcParams['figure.dpi'] = 92\n",
    "plt.rcParams['font.family'] = ['serif']\n",
    "plt.rcParams['font.size'] = 12\n",
    "plt.rcParams['axes.labelsize'] = 12\n",
    "plt.rcParams['axes.titlesize'] = 12\n",
    "plt.rcParams['xtick.labelsize'] = 12\n",
    "plt.rcParams['ytick.labelsize'] = 12\n",
    "fig, ax = plt.subplots(1,1, figsize=(7,7))\n",
    "cluster_data = df[df['cluster'] == 14]\n",
    "color_temp = cluster_data['color'][0]\n",
    "ax.scatter( x=cluster_data['x'], y=cluster_data['y'], color=color_temp, label='Goblet cells', s=0.5, alpha=1)\n",
    "ax.set_title(str(14))\n",
    "plt.subplots_adjust(left=0.1, right=0.75, top=0.9, bottom=0.2)"
   ]
  },
  {
   "cell_type": "code",
   "execution_count": null,
   "id": "2f861c67-2f88-4f41-9eda-75d90d6104c7",
   "metadata": {},
   "outputs": [],
   "source": [
    "cluster = np.arange(15).tolist()\n",
    "spatialleiden_seq = [0,1,7,4,10,2,13,11,8,6,10,5,12,3,14]\n"
   ]
  },
  {
   "cell_type": "code",
   "execution_count": null,
   "id": "c61cf521-d1ab-4e8e-bade-ac2d07070026",
   "metadata": {},
   "outputs": [],
   "source": [
    "spatialleiden_map = {spatialleiden_seq.pop(0):i for i in np.arange(15).tolist()}"
   ]
  },
  {
   "cell_type": "code",
   "execution_count": null,
   "id": "4a3aab33-c3db-470b-b56f-77e46f8e1d56",
   "metadata": {},
   "outputs": [],
   "source": [
    "andata.obs['spatialleiden_mapped'] = andata.obs['spatialleiden'].map(spatialleiden_map)"
   ]
  },
  {
   "cell_type": "code",
   "execution_count": null,
   "id": "ca3e13ec-afbb-4b72-9bd7-3b8f1fa3ad49",
   "metadata": {},
   "outputs": [],
   "source": [
    "andata.obs['spatialleiden_mapped']"
   ]
  },
  {
   "cell_type": "code",
   "execution_count": null,
   "id": "1f34735b-eeaa-4603-8fe2-e8df07289c19",
   "metadata": {},
   "outputs": [],
   "source": [
    "df = pd.DataFrame({'cluster':andata.obs['spatialleiden_mapped'],'x':andata.obsm['spatial'][:,0],'y':andata.obsm['spatial'][:,1]})\n",
    "df = df.dropna(subset=['cluster'])\n",
    "df['cluster'] = df['cluster'].astype(int)\n",
    "color_map = andata.uns['clusterColorMap'].set_index('clusters')['colors'].to_dict()\n",
    "df['color'] = df['cluster'].astype(str).map(color_map)"
   ]
  },
  {
   "cell_type": "code",
   "execution_count": null,
   "id": "704d1b6c-ddeb-4662-aaae-f5cb9dfe428f",
   "metadata": {},
   "outputs": [],
   "source": [
    "sns.set_theme(style=\"whitegrid\")\n",
    "plt.rcParams['figure.dpi'] = 800\n",
    "plt.rcParams['font.family'] = ['serif']\n",
    "plt.rcParams['font.size'] = 12\n",
    "plt.rcParams['axes.labelsize'] = 12\n",
    "plt.rcParams['axes.titlesize'] = 12\n",
    "plt.rcParams['xtick.labelsize'] = 12\n",
    "plt.rcParams['ytick.labelsize'] = 12\n",
    "\n",
    "color_container = []\n",
    "fig, ax = plt.subplots(1, 1, figsize=(15,15))\n",
    "clusters = sorted(np.unique(df['cluster'].values), key=int)\n",
    "for i, cluster in enumerate(clusters):\n",
    "    cluster_data = df[df['cluster'] == cluster]\n",
    "    color_temp = cluster_data['color'][0]\n",
    "    ax.scatter( x=cluster_data['x'], y=cluster_data['y'], color=color_temp, label=f'{cluster}', s=0.3, alpha=1)\n",
    "\n",
    "ax.set_xticks([])\n",
    "ax.set_yticks([])\n",
    "# ax.set_xlabel(xlab)\n",
    "# ax.set_ylabel(ylab)\n",
    "# ax.set_title(title)\n",
    "legend = ax.legend(title='cluster',\n",
    "                    bbox_to_anchor=(1.05, 1),  # Position the legend outside the plot\n",
    "                    loc='upper left',\n",
    "                    fontsize='small',  # Control the font size\n",
    "                    title_fontsize='medium',\n",
    "                     markerscale=20,  # Increase the size of the legend markers\n",
    "                    frameon=False)\n",
    "plt.subplots_adjust(left=0.1, right=0.9, top=0.9, bottom=0.2)"
   ]
  },
  {
   "cell_type": "code",
   "execution_count": null,
   "id": "6bea367b-1a5b-41d8-b27c-2fe4269a452e",
   "metadata": {},
   "outputs": [],
   "source": [
    "with PdfPages(os.path.join(pathout, f'Report_spatial_map_plot_colon_spatialleiden.pdf')) as pdf:\n",
    "    plt.rcParams['figure.dpi'] = 600\n",
    "    plt.rcParams['font.family'] = ['serif']\n",
    "    plt.rcParams['font.size'] = 12\n",
    "    plt.rcParams['axes.labelsize'] = 12\n",
    "    plt.rcParams['axes.titlesize'] = 12\n",
    "    plt.rcParams['xtick.labelsize'] = 12\n",
    "    plt.rcParams['ytick.labelsize'] = 12\n",
    "    fig, ax = plt.subplots(1,1, figsize=(15, 15))\n",
    "    color_container = []\n",
    "    clusters = sorted(np.unique(df['cluster'].values), key=int)\n",
    "    for i, cluster in enumerate(clusters):\n",
    "        cluster_data = df[df['cluster'] == cluster]\n",
    "        color_temp = cluster_data['color'][0]\n",
    "        ax.scatter( x=cluster_data['x'], y=cluster_data['y'], color=color_temp, label=f'{cluster}', s=0.5, alpha=1)\n",
    "    \n",
    "    ax.set_xticks([])\n",
    "    ax.set_yticks([])\n",
    "    # ax.set_xlabel(xlab)\n",
    "    # ax.set_ylabel(ylab)\n",
    "    # ax.set_title(title)\n",
    "    legend = ax.legend(title='cluster',\n",
    "                        bbox_to_anchor=(1.05, 1),  # Position the legend outside the plot\n",
    "                        loc='upper left',\n",
    "                        fontsize='small',  # Control the font size\n",
    "                        title_fontsize='medium',\n",
    "                         markerscale=10,  # Increase the size of the legend markers\n",
    "                        frameon=False)\n",
    "    plt.subplots_adjust(left=0.1, right=0.9, top=0.9, bottom=0.2)\n",
    "    pdf.savefig()\n",
    "    plt.close()"
   ]
  },
  {
   "cell_type": "code",
   "execution_count": null,
   "id": "6d001fe8-3364-43a2-9544-83958b38fce5",
   "metadata": {},
   "outputs": [],
   "source": [
    "df[df['cluster'] == cluster]"
   ]
  },
  {
   "cell_type": "code",
   "execution_count": null,
   "id": "2e0a2fe5-4260-490d-8437-333744b83086",
   "metadata": {},
   "outputs": [],
   "source": [
    "sorted(np.unique(df['cluster'].values), key=int)"
   ]
  },
  {
   "cell_type": "code",
   "execution_count": null,
   "id": "740e4296-ae20-427e-a193-477cf25b0a60",
   "metadata": {},
   "outputs": [],
   "source": [
    "df = pd.DataFrame({'cluster':andata.obs['spatialleiden_mapped'],'x':andata.obsm['spatial'][:,0],'y':andata.obsm['spatial'][:,1]})\n",
    "df = df.dropna(subset=['cluster'])\n",
    "df['cluster'] = df['cluster'].astype(int)\n",
    "color_map = andata.uns['clusterColorMap'].set_index('clusters')['colors'].to_dict()\n",
    "df['color'] = df['cluster'].astype(str).map(color_map)"
   ]
  },
  {
   "cell_type": "code",
   "execution_count": null,
   "id": "7a5f4b63-6273-43d4-9869-49ad391b27cc",
   "metadata": {},
   "outputs": [],
   "source": [
    "plt.rcParams['figure.dpi'] = 600\n",
    "plt.rcParams['font.family'] = ['serif']\n",
    "plt.rcParams['font.size'] = 12\n",
    "plt.rcParams['axes.labelsize'] = 12\n",
    "plt.rcParams['axes.titlesize'] = 12\n",
    "plt.rcParams['xtick.labelsize'] = 12\n",
    "plt.rcParams['ytick.labelsize'] = 12\n",
    "fig, ax = plt.subplots(1,1, figsize=(15, 15))\n",
    "clusters = sorted(np.unique(df['cluster'].values), key=int)\n",
    "for i, cluster in enumerate(clusters):\n",
    "    cluster_data = df[df['cluster'] == cluster]\n",
    "    color_temp = cluster_data['color'][0]\n",
    "    if i==6:\n",
    "        ax.scatter( x=cluster_data['x'], y=cluster_data['y'], color=color_temp, label='Goblet cells', s=0.5, alpha=1)\n",
    "    elif i == 10:\n",
    "        ax.scatter( x=cluster_data['x'], y=cluster_data['y'], color=color_temp, label=\"Tumor\", s=0.5, alpha=1)\n",
    "    else:\n",
    "        ax.scatter( x=cluster_data['x'], y=cluster_data['y'], color=color_temp, label=f'{cluster}', s=0.5, alpha=0.05)\n",
    "ax.set_xticks([])\n",
    "ax.set_yticks([])\n",
    "# ax.set_xlabel(xlab)\n",
    "# ax.set_ylabel(ylab)\n",
    "# ax.set_title(title)\n",
    "legend = ax.legend(title='cluster',\n",
    "                    bbox_to_anchor=(1.2, 1),  # Position the legend outside the plot\n",
    "                    loc='upper left',\n",
    "                    fontsize='small',  # Control the font size\n",
    "                    title_fontsize='medium',\n",
    "                     markerscale=10,  # Increase the size of the legend markers\n",
    "                    frameon=False)\n",
    "plt.subplots_adjust(left=0.1, right=0.75, top=0.9, bottom=0.2)"
   ]
  },
  {
   "cell_type": "code",
   "execution_count": null,
   "id": "ea29d4cc-49a1-44c5-a2f8-7d0ce0e001fd",
   "metadata": {},
   "outputs": [],
   "source": [
    "with PdfPages(os.path.join(pathout, f'Report_spatial_map_plot_colon_celltype_tumer_goblet_Spatialleiden.pdf')) as pdf:\n",
    "    plt.rcParams['figure.dpi'] = 600\n",
    "    plt.rcParams['font.family'] = ['serif']\n",
    "    plt.rcParams['font.size'] = 12\n",
    "    plt.rcParams['axes.labelsize'] = 12\n",
    "    plt.rcParams['axes.titlesize'] = 12\n",
    "    plt.rcParams['xtick.labelsize'] = 12\n",
    "    plt.rcParams['ytick.labelsize'] = 12\n",
    "    fig, ax = plt.subplots(1,1, figsize=(15, 15))\n",
    "    clusters = sorted(np.unique(df['cluster'].values), key=int)\n",
    "    for i, cluster in enumerate(clusters):\n",
    "        cluster_data = df[df['cluster'] == cluster]\n",
    "        color_temp = cluster_data['color'][0]\n",
    "        if i==6:\n",
    "            ax.scatter( x=cluster_data['x'], y=cluster_data['y'], color=color_temp, label='Goblet cells', s=0.5, alpha=1)\n",
    "        elif i == 10:\n",
    "            ax.scatter( x=cluster_data['x'], y=cluster_data['y'], color=color_temp, label=\"Tumor\", s=0.5, alpha=1)\n",
    "        else:\n",
    "            ax.scatter( x=cluster_data['x'], y=cluster_data['y'], color=color_temp, label=f'{cluster}', s=0.5, alpha=0.05)\n",
    "    ax.set_xticks([])\n",
    "    ax.set_yticks([])\n",
    "    # ax.set_xlabel(xlab)\n",
    "    # ax.set_ylabel(ylab)\n",
    "    # ax.set_title(title)\n",
    "    legend = ax.legend(title='cluster',\n",
    "                        bbox_to_anchor=(1.2, 1),  # Position the legend outside the plot\n",
    "                        loc='upper left',\n",
    "                        fontsize='small',  # Control the font size\n",
    "                        title_fontsize='medium',\n",
    "                         markerscale=10,  # Increase the size of the legend markers\n",
    "                        frameon=False)\n",
    "    plt.subplots_adjust(left=0.1, right=0.75, top=0.9, bottom=0.2)\n",
    "    pdf.savefig()\n",
    "    plt.close()"
   ]
  },
  {
   "cell_type": "markdown",
   "id": "9723e95b-e2f7-4463-936b-1a3443883a88",
   "metadata": {},
   "source": [
    "<center><H2>multiSPAETI colon visium data</center>"
   ]
  },
  {
   "cell_type": "code",
   "execution_count": null,
   "id": "26612326-f973-479c-a330-e4688e4ee679",
   "metadata": {},
   "outputs": [],
   "source": [
    "from multispaeti import MultispatiPCA\n",
    "import cupy as cp\n",
    "import cupyx\n",
    "import scanpy as sc\n",
    "import spatialleiden as sl\n",
    "import squidpy as sq\n",
    "import numpy as np\n",
    "from cupyx.scipy.sparse import csr_matrix\n",
    "import os\n",
    "from PIL import Image\n",
    "import matplotlib.pyplot as plt\n",
    "from matplotlib.colors import ListedColormap\n",
    "from matplotlib.colors import LinearSegmentedColormap\n",
    "from matplotlib.backends.backend_pdf import PdfPages\n",
    "import seaborn as sns\n",
    "import random\n",
    "import pandas as pd"
   ]
  },
  {
   "cell_type": "code",
   "execution_count": null,
   "id": "311a7cb2-8b9e-40a8-a68b-0c91476804f2",
   "metadata": {},
   "outputs": [],
   "source": [
    "path_016 = \"/data/kanferg/Sptial_Omics/playGround/Data/Visium_HD_Human_Colon_Cancer_binned_outputs/binned_outputs/square_016um\"\n",
    "pathout = \"/data/kanferg/Sptial_Omics/SpatialOmicsToolkit/out_2\"\n",
    "andata = sc.read_h5ad(os.path.join(pathout, \"andata_save_colon.h5ad\"))\n",
    "def load_matrix(andata,pathout,npz_file = \"obsp_distances.npz\",mode = 'sparse', mat_name = 'distances'):\n",
    "    npzfile = cp.load(os.path.join(pathout, npz_file))\n",
    "    data = cp.array(npzfile['data'])\n",
    "    indices = cp.array(npzfile['indices'])\n",
    "    indptr = cp.array(npzfile['indptr'])\n",
    "    shape = tuple(npzfile['shape'])\n",
    "    \n",
    "    # Reconstruct the sparse matrix\n",
    "    sparse_matrix_distances = csr_matrix((data, indices, indptr), shape=shape)\n",
    "    if mode== 'sparse':\n",
    "        andata.obsp[mat_name] = sparse_matrix_distances\n",
    "    else:\n",
    "        andata.obsp[mat_name] = sparse_matrix_distances.get()\n",
    "    return andata"
   ]
  },
  {
   "cell_type": "code",
   "execution_count": null,
   "id": "9591003a-89fe-4032-9b45-b5e1410d3d54",
   "metadata": {},
   "outputs": [],
   "source": [
    "andata.obs[\"imagerow\"] = andata.obsm['spatial'][:,0]\n",
    "andata.obs[\"imagecol\"] = andata.obsm['spatial'][:,1]\n",
    "andata.uns[\"spatial\"] = andata.obsm[\"spatial\"]\n",
    "def make_uns_spatial(adata):\n",
    "    #max_size = np.max([adata.obs[\"imagerow\"].max(), adata.obs[\"imagecol\"].max()])\n",
    "    #max_size = int(max_size + 0.1 * max_size)\n",
    "    #image = Image.new(\"RGBA\", (max_size, max_size), (255, 255, 255, 255))\n",
    "    #imgarr = np.array(image)\n",
    "    adata.uns[\"spatial\"] = {}\n",
    "    adata.uns[\"spatial\"][\"id1\"] = {}\n",
    "    #adata.uns[\"spatial\"][\"id1\"][\"images\"] = {}\n",
    "    #adata.uns[\"spatial\"][\"id1\"][\"images\"][\"lowres\"] = imgarr\n",
    "    adata.uns[\"spatial\"][\"id1\"][\"use_quality\"] = \"lowres\"\n",
    "    adata.uns[\"spatial\"][\"id1\"][\"scalefactors\"] = {}\n",
    "    adata.uns[\"spatial\"][\"id1\"][\"scalefactors\"][\"tissue_low_scalef\" ] = 1\n",
    "    adata.uns[\"spatial\"][\"id1\"][\"scalefactors\"][\"spot_diameter_fullres\"] = 15\n",
    "    adata.uns[\"spatial\"][\"id1\"][\"scalefactors\"][\n",
    "            \"tissue_\" + \"lowres\" + \"_scalef\"\n",
    "        ] = 1\n",
    "    return adata\n",
    "andata = make_uns_spatial(andata)\n",
    "\n",
    "andata = load_matrix(andata,pathout,npz_file = \"obsp_distances_large_colon.npz\", mat_name = 'distances',mode=\"scipy\")\n",
    "andata = load_matrix(andata,pathout,npz_file = \"obsp_connectivities_large_colon.npz\", mat_name = 'connectivities',mode=\"scipy\")\n",
    "\n",
    "sq.gr.spatial_neighbors(andata, coord_type=\"generic\")\n",
    "andata.obsp[\"spatial_connectivities\"] = sl.distance2connectivity(andata.obsp[\"spatial_distances\"])"
   ]
  },
  {
   "cell_type": "code",
   "execution_count": null,
   "id": "8e12d22d-603d-419b-b79b-65b21cd78867",
   "metadata": {},
   "outputs": [],
   "source": [
    "import os\n",
    "import pickle\n",
    "\n",
    "file_path = os.path.join(pathout, \"andata_uns_mtracies__colon.pkl\")\n",
    "\n",
    "if os.path.getsize(file_path) > 0:\n",
    "    with open(file_path, 'rb') as buff:\n",
    "        andata_uns_mtracies = pickle.load(buff)\n",
    "else:\n",
    "    print(\"File is empty. Cannot load data.\")\n",
    "    andata_uns_mtracies = None\n",
    "andata.uns[\"spatial\"] = andata.obsm[\"spatial\"]\n",
    "andata.uns['clusterColorMap'] = andata_uns_mtracies['clusterColorMap']\n",
    "andata.obs[\"imagerow\"] = andata.obsm['spatial'][:,0]\n",
    "andata.obs[\"imagecol\"] = andata.obsm['spatial'][:,1]\n",
    "andata.uns[\"spatial\"] = andata.obsm[\"spatial\"]"
   ]
  },
  {
   "cell_type": "code",
   "execution_count": null,
   "id": "8e5661d5-4060-4653-bb03-09712417b5ff",
   "metadata": {},
   "outputs": [],
   "source": [
    "connectivity = andata.obsp[\"spatial_connectivities\"]"
   ]
  },
  {
   "cell_type": "code",
   "execution_count": null,
   "id": "427e5ba6-5166-47a7-b780-33aafd67b1f5",
   "metadata": {},
   "outputs": [],
   "source": [
    "msPCA = MultispatiPCA(n_components=(30, 5), connectivity=connectivity)"
   ]
  },
  {
   "cell_type": "code",
   "execution_count": null,
   "id": "95a2c847-cc62-436d-809d-c83eab934930",
   "metadata": {},
   "outputs": [],
   "source": [
    "msPCA.fit(andata.X)"
   ]
  },
  {
   "cell_type": "code",
   "execution_count": null,
   "id": "7146b024-01b3-4164-b85c-6cdb785a76d3",
   "metadata": {},
   "outputs": [],
   "source": [
    "X_transformed = msPCA.transform(andata.X)"
   ]
  },
  {
   "cell_type": "code",
   "execution_count": null,
   "id": "fdc7a94c-54c4-41fb-afd8-142a19d75cd1",
   "metadata": {},
   "outputs": [],
   "source": [
    "andata.obsm['X_pca'].shape"
   ]
  },
  {
   "cell_type": "code",
   "execution_count": null,
   "id": "d308c51d-ecb8-4e82-99a0-b977cae9c7dd",
   "metadata": {},
   "outputs": [],
   "source": [
    "andata.obsm['X_pca_spat'] = X_transformed"
   ]
  },
  {
   "cell_type": "code",
   "execution_count": null,
   "id": "d66682e2-7272-4ef3-a12f-728de8770f15",
   "metadata": {},
   "outputs": [],
   "source": [
    "sc.pp.neighbors(andata, n_pcs=15, use_rep='X_pca_spat', n_neighbors=25,key_added = 'pca_spat')\n",
    "andata"
   ]
  },
  {
   "cell_type": "code",
   "execution_count": null,
   "id": "ab42caa3-7d0d-413d-ac25-bf3496e26e29",
   "metadata": {},
   "outputs": [],
   "source": [
    "sc.tl.leiden(andata, random_state=1337, resolution=0.5, key_added='leiden',neighbors_key = 'pca_spat')"
   ]
  },
  {
   "cell_type": "code",
   "execution_count": null,
   "id": "151a336b-6e6e-4172-b49a-5a18cdc25821",
   "metadata": {},
   "outputs": [],
   "source": [
    "andata"
   ]
  },
  {
   "cell_type": "code",
   "execution_count": null,
   "id": "86d416e3-2606-4092-905f-06fbcad02f75",
   "metadata": {},
   "outputs": [],
   "source": [
    "df = pd.DataFrame({'cluster':andata.obs['leiden'],'x':andata.obsm['spatial'][:,0],'y':andata.obsm['spatial'][:,1]})\n",
    "color_map = andata.uns['clusterColorMap'].set_index('clusters')['colors'].to_dict()\n",
    "df['color'] = df['cluster'].astype(str).map(color_map)"
   ]
  },
  {
   "cell_type": "code",
   "execution_count": null,
   "id": "091232e4-d35c-489a-bff4-b8f50930ed56",
   "metadata": {},
   "outputs": [],
   "source": [
    "sns.set_theme(style=\"whitegrid\")\n",
    "plt.rcParams['figure.dpi'] = 800\n",
    "plt.rcParams['font.family'] = ['serif']\n",
    "plt.rcParams['font.size'] = 12\n",
    "plt.rcParams['axes.labelsize'] = 12\n",
    "plt.rcParams['axes.titlesize'] = 12\n",
    "plt.rcParams['xtick.labelsize'] = 12\n",
    "plt.rcParams['ytick.labelsize'] = 12\n",
    "\n",
    "color_container = []\n",
    "fig, ax = plt.subplots(1, 1, figsize=(15,15))\n",
    "clusters = sorted(np.unique(df['cluster'].values), key=int)\n",
    "for i, cluster in enumerate(clusters):\n",
    "    cluster_data = df[df['cluster'] == cluster]\n",
    "    color_temp = cluster_data['color'][0]\n",
    "    ax.scatter( x=cluster_data['x'], y=cluster_data['y'], color=color_temp, label=f'{cluster}', s=0.3, alpha=1)\n",
    "\n",
    "ax.set_xticks([])\n",
    "ax.set_yticks([])\n",
    "# ax.set_xlabel(xlab)\n",
    "# ax.set_ylabel(ylab)\n",
    "# ax.set_title(title)\n",
    "legend = ax.legend(title='cluster',\n",
    "                    bbox_to_anchor=(1.05, 1),  # Position the legend outside the plot\n",
    "                    loc='upper left',\n",
    "                    fontsize='small',  # Control the font size\n",
    "                    title_fontsize='medium',\n",
    "                     markerscale=20,  # Increase the size of the legend markers\n",
    "                    frameon=False)\n",
    "plt.subplots_adjust(left=0.1, right=0.9, top=0.9, bottom=0.2)"
   ]
  },
  {
   "cell_type": "code",
   "execution_count": null,
   "id": "4e51572d-796a-495b-9581-1d5a813f895d",
   "metadata": {},
   "outputs": [],
   "source": [
    "color_map['11']"
   ]
  },
  {
   "cell_type": "code",
   "execution_count": null,
   "id": "c36075c5-b1e8-4db0-8af5-ec54acb8824c",
   "metadata": {},
   "outputs": [],
   "source": [
    "color_temp"
   ]
  },
  {
   "cell_type": "code",
   "execution_count": null,
   "id": "b91b77b1-8082-488e-be6a-697083df9c54",
   "metadata": {},
   "outputs": [],
   "source": [
    "plt.rcParams['figure.dpi'] = 600\n",
    "plt.rcParams['font.family'] = ['serif']\n",
    "plt.rcParams['font.size'] = 12\n",
    "plt.rcParams['axes.labelsize'] = 12\n",
    "plt.rcParams['axes.titlesize'] = 12\n",
    "plt.rcParams['xtick.labelsize'] = 12\n",
    "plt.rcParams['ytick.labelsize'] = 12\n",
    "fig, ax = plt.subplots(1,1, figsize=(15, 15))\n",
    "clusters = sorted(np.unique(df['cluster'].values), key=int)\n",
    "for i, cluster in enumerate(clusters):\n",
    "    cluster_data = df[df['cluster'] == cluster]\n",
    "    color_temp = cluster_data['color'][0]\n",
    "    if i==4:\n",
    "        ax.scatter( x=cluster_data['x'], y=cluster_data['y'], color=color_map['7'], label='Goblet cells', s=0.5, alpha=1)\n",
    "    elif i == 5:\n",
    "        ax.scatter( x=cluster_data['x'], y=cluster_data['y'], color=color_map['11'], label=\"Tumor\", s=0.5, alpha=1)\n",
    "    else:\n",
    "        ax.scatter( x=cluster_data['x'], y=cluster_data['y'], color=color_temp, label=f'{cluster}', s=0.5, alpha=0.05)\n",
    "ax.set_xticks([])\n",
    "ax.set_yticks([])\n",
    "# ax.set_xlabel(xlab)\n",
    "# ax.set_ylabel(ylab)\n",
    "# ax.set_title(title)\n",
    "legend = ax.legend(title='cluster',\n",
    "                    bbox_to_anchor=(1.2, 1),  # Position the legend outside the plot\n",
    "                    loc='upper left',\n",
    "                    fontsize='small',  # Control the font size\n",
    "                    title_fontsize='medium',\n",
    "                     markerscale=10,  # Increase the size of the legend markers\n",
    "                    frameon=False)\n",
    "plt.subplots_adjust(left=0.1, right=0.75, top=0.9, bottom=0.2)"
   ]
  },
  {
   "cell_type": "code",
   "execution_count": null,
   "id": "66e4aa6f-6978-48e4-9a89-33a614bcc655",
   "metadata": {},
   "outputs": [],
   "source": [
    "with PdfPages(os.path.join(pathout, f'Report_spatial_map_plot_colon_celltype_tumer_goblet_SpatPCA.pdf')) as pdf:\n",
    "    plt.rcParams['figure.dpi'] = 600\n",
    "    plt.rcParams['font.family'] = ['serif']\n",
    "    plt.rcParams['font.size'] = 12\n",
    "    plt.rcParams['axes.labelsize'] = 12\n",
    "    plt.rcParams['axes.titlesize'] = 12\n",
    "    plt.rcParams['xtick.labelsize'] = 12\n",
    "    plt.rcParams['ytick.labelsize'] = 12\n",
    "    fig, ax = plt.subplots(1,1, figsize=(15, 15))\n",
    "    clusters = sorted(np.unique(df['cluster'].values), key=int)\n",
    "    for i, cluster in enumerate(clusters):\n",
    "        cluster_data = df[df['cluster'] == cluster]\n",
    "        color_temp = cluster_data['color'][0]\n",
    "        if i==4:\n",
    "            ax.scatter( x=cluster_data['x'], y=cluster_data['y'], color=color_map['7'], label='Goblet cells', s=0.5, alpha=1)\n",
    "        elif i == 5:\n",
    "            ax.scatter( x=cluster_data['x'], y=cluster_data['y'], color=color_map['11'], label=\"Tumor\", s=0.5, alpha=1)\n",
    "        else:\n",
    "            ax.scatter( x=cluster_data['x'], y=cluster_data['y'], color=color_temp, label=f'{cluster}', s=0.5, alpha=0.05)\n",
    "    ax.set_xticks([])\n",
    "    ax.set_yticks([])\n",
    "    # ax.set_xlabel(xlab)\n",
    "    # ax.set_ylabel(ylab)\n",
    "    # ax.set_title(title)\n",
    "    legend = ax.legend(title='cluster',\n",
    "                        bbox_to_anchor=(1.2, 1),  # Position the legend outside the plot\n",
    "                        loc='upper left',\n",
    "                        fontsize='small',  # Control the font size\n",
    "                        title_fontsize='medium',\n",
    "                         markerscale=10,  # Increase the size of the legend markers\n",
    "                        frameon=False)\n",
    "    plt.subplots_adjust(left=0.1, right=0.75, top=0.9, bottom=0.2)\n",
    "    pdf.savefig()\n",
    "    plt.close()"
   ]
  },
  {
   "cell_type": "markdown",
   "id": "0549e7e7-3d9a-430c-a2df-52b00492d601",
   "metadata": {},
   "source": [
    "<center><H2>Xinium 5k lymph nodes example </center>"
   ]
  },
  {
   "cell_type": "code",
   "execution_count": null,
   "id": "5b3993e7-c9cd-47e8-9049-f5d3cd5a8695",
   "metadata": {},
   "outputs": [],
   "source": [
    "path = \"/data/kanferg/Sptial_Omics/playGround/Data/Xenium/output_temp\"\n",
    "pathout = \"/data/kanferg/Sptial_Omics/SpatialOmicsToolkit/out_1\"\n",
    "FilePrefix = \"_072824\" \n",
    "andata = sc.read_h5ad(os.path.join(pathout, \"andata_save.h5ad\"))\n",
    "def load_matrix(andata,pathout,npz_file = \"obsp_distances.npz\",mode = 'sparse', mat_name = 'distances'):\n",
    "    npzfile = cp.load(os.path.join(pathout, npz_file))\n",
    "    data = cp.array(npzfile['data'])\n",
    "    indices = cp.array(npzfile['indices'])\n",
    "    indptr = cp.array(npzfile['indptr'])\n",
    "    shape = tuple(npzfile['shape'])\n",
    "    \n",
    "    # Reconstruct the sparse matrix\n",
    "    sparse_matrix_distances = csr_matrix((data, indices, indptr), shape=shape)\n",
    "    if mode== 'sparse':\n",
    "        andata.obsp[mat_name] = sparse_matrix_distances\n",
    "    else:\n",
    "        andata.obsp[mat_name] = sparse_matrix_distances.get()\n",
    "    return andata"
   ]
  },
  {
   "cell_type": "code",
   "execution_count": null,
   "id": "1a60eb05-93e2-4616-9fba-7707afeeb30c",
   "metadata": {},
   "outputs": [],
   "source": [
    "andata = load_matrix(andata,pathout,npz_file = \"obsp_distances_large.npz\", mat_name = 'distances',mode=\"scipy\")\n",
    "andata = load_matrix(andata,pathout,npz_file =\"obsp_connectivities_large.npz\", mat_name = 'connectivities',mode=\"scipy\")"
   ]
  },
  {
   "cell_type": "code",
   "execution_count": null,
   "id": "0cf79f94-0a29-443b-a653-1199d0f4a3f7",
   "metadata": {},
   "outputs": [],
   "source": [
    "andata.obs[\"imagerow\"] = andata.obs[\"cell_centroid_x\"]\n",
    "andata.obs[\"imagecol\"] = andata.obs[\"cell_centroid_y\"]\n",
    "andata.uns[\"spatial\"] = andata.obsm[\"spatial\"]\n",
    "def make_uns_spatial(adata):\n",
    "    max_size = np.max([adata.obs[\"imagerow\"].max(), adata.obs[\"imagecol\"].max()])\n",
    "    max_size = int(max_size + 0.1 * max_size)\n",
    "    image = Image.new(\"RGBA\", (max_size, max_size), (255, 255, 255, 255))\n",
    "    imgarr = np.array(image)\n",
    "    adata.uns[\"spatial\"] = {}\n",
    "    adata.uns[\"spatial\"][\"id1\"] = {}\n",
    "    adata.uns[\"spatial\"][\"id1\"][\"images\"] = {}\n",
    "    adata.uns[\"spatial\"][\"id1\"][\"images\"][\"lowres\"] = imgarr\n",
    "    adata.uns[\"spatial\"][\"id1\"][\"use_quality\"] = \"lowres\"\n",
    "    adata.uns[\"spatial\"][\"id1\"][\"scalefactors\"] = {}\n",
    "    adata.uns[\"spatial\"][\"id1\"][\"scalefactors\"][\"tissue_low_scalef\" ] = 1\n",
    "    adata.uns[\"spatial\"][\"id1\"][\"scalefactors\"][\"spot_diameter_fullres\"] = 15\n",
    "    adata.uns[\"spatial\"][\"id1\"][\"scalefactors\"][\n",
    "            \"tissue_\" + \"lowres\" + \"_scalef\"\n",
    "        ] = 1\n",
    "    return adata\n",
    "andata = make_uns_spatial(andata)"
   ]
  },
  {
   "cell_type": "code",
   "execution_count": null,
   "id": "7ae03560-2f72-4bba-9833-7e2c2f822a0b",
   "metadata": {},
   "outputs": [],
   "source": [
    "import os\n",
    "import pickle\n",
    "\n",
    "file_path = os.path.join(pathout, \"andata_uns_mtracies.pkl\")\n",
    "\n",
    "if os.path.getsize(file_path) > 0:\n",
    "    with open(file_path, 'rb') as buff:\n",
    "        andata_uns_mtracies = pickle.load(buff)\n",
    "else:\n",
    "    print(\"File is empty. Cannot load data.\")\n",
    "    andata_uns_mtracies = None"
   ]
  },
  {
   "cell_type": "code",
   "execution_count": null,
   "id": "0167edbd-c833-474e-aa09-a142b53911d7",
   "metadata": {},
   "outputs": [],
   "source": [
    "andata.uns['cluster_colors'] = andata_uns_mtracies['cluster_colors']\n",
    "andata.uns['clusterColorMap'] = andata_uns_mtracies['clusterColorMap']"
   ]
  },
  {
   "cell_type": "code",
   "execution_count": null,
   "id": "1772e863-a190-40ac-9468-556ca4f0f011",
   "metadata": {},
   "outputs": [],
   "source": [
    "andata"
   ]
  },
  {
   "cell_type": "code",
   "execution_count": null,
   "id": "f9db1c37-8357-4159-8268-8c4163619692",
   "metadata": {},
   "outputs": [],
   "source": [
    "from scipy.sparse import csr_matrix\n",
    "andata_sub = andata.copy()\n",
    "andata_sub.X = csr_matrix(andata_sub.X)\n",
    "andata_sub = sc.pp.subsample(andata_sub, n_obs=100000,copy=True)"
   ]
  },
  {
   "cell_type": "code",
   "execution_count": null,
   "id": "4f4b1789-8a66-4cc4-bb9f-a91fdb8b59db",
   "metadata": {},
   "outputs": [],
   "source": [
    "# sort colors by cluster from zero to 15\n",
    "andata.uns['clusterColorMap'].index = andata.uns['clusterColorMap']['clusters']\n",
    "# creat a cluster list \n",
    "clusterColorMap = andata.uns['clusterColorMap'].sort_index()['colors'].to_list()"
   ]
  },
  {
   "cell_type": "code",
   "execution_count": null,
   "id": "619fb9de-70ed-4597-a052-b13689e0e024",
   "metadata": {},
   "outputs": [],
   "source": [
    "df = pd.DataFrame({'cluster':andata.obs['cluster'],'x':andata.obsm['spatial'][:,1],'y':andata.obsm['spatial'][:,0]}).reset_index()"
   ]
  },
  {
   "cell_type": "code",
   "execution_count": null,
   "id": "230e44a4-96f7-4610-af9f-8fa8641b8c92",
   "metadata": {},
   "outputs": [],
   "source": [
    "# colors saved from rsc analysis step\n",
    "palette = andata.uns['clusterColorMap'].sort_index()['colors'].to_list()\n",
    "clusters = sorted(np.unique(df['cluster'].values), key=int)\n",
    "sns.set_theme(style=\"whitegrid\")\n",
    "plt.rcParams['figure.dpi'] = 800\n",
    "plt.rcParams['font.family'] = ['serif']\n",
    "plt.rcParams['font.size'] = 12\n",
    "plt.rcParams['axes.labelsize'] = 12\n",
    "plt.rcParams['axes.titlesize'] = 12\n",
    "plt.rcParams['xtick.labelsize'] = 12\n",
    "plt.rcParams['ytick.labelsize'] = 12\n",
    "fig, axes = plt.subplots(1, 1, figsize=(15, 15))\n",
    "for i, cluster in enumerate(clusters):\n",
    "    cluster_grid = df[df['cluster'] == cluster]\n",
    "    axes.scatter(x=cluster_grid['x'], y=cluster_grid['y'], color=palette[i], label=f'{cluster}', s=0.02, alpha=1)\n",
    "axes.set_xticks([])\n",
    "axes.set_yticks([])\n",
    "axes.set_xlabel('')\n",
    "axes.set_ylabel('')\n",
    "axes.set_title(f'Grid cluster dominant spots')\n",
    "legend1 = axes.legend( title=\"Cluster\",\n",
    "                        bbox_to_anchor=(1.05, 1),  # Position the legend outside the plot\n",
    "                        loc='upper left',\n",
    "                        fontsize='small',  # Control the font size\n",
    "                        title_fontsize='medium',\n",
    "                        markerscale=20,  # Increase the size of the legend markers\n",
    "                        frameon=False# Control the title font size\n",
    "                        )\n",
    "plt.subplots_adjust(left=0.1, right=0.9, top=0.9, bottom=0.2)"
   ]
  },
  {
   "cell_type": "code",
   "execution_count": null,
   "id": "797e66b8-a7be-47fa-b44a-73fcfcac128b",
   "metadata": {},
   "outputs": [],
   "source": [
    "andata_sub"
   ]
  },
  {
   "cell_type": "code",
   "execution_count": null,
   "id": "16d9b62b-8d63-4d9d-ae09-4db8539ea4ef",
   "metadata": {},
   "outputs": [],
   "source": [
    "sq.gr.spatial_neighbors(andata_sub, coord_type=\"generic\",delaunay = True)"
   ]
  },
  {
   "cell_type": "code",
   "execution_count": null,
   "id": "a7431665-9cf2-4177-988b-87de86e652d8",
   "metadata": {},
   "outputs": [],
   "source": [
    "andata_sub"
   ]
  },
  {
   "cell_type": "code",
   "execution_count": null,
   "id": "eea7e5d2-46ab-451d-bcf0-f9932a72381d",
   "metadata": {},
   "outputs": [],
   "source": [
    "andata_sub.obsp[\"spatial_connectivities\"] = sl.distance2connectivity(andata_sub.obsp[\"spatial_distances\"])"
   ]
  },
  {
   "cell_type": "code",
   "execution_count": null,
   "id": "41539faa-a3f3-47c9-9a96-bd1887c32a9c",
   "metadata": {},
   "outputs": [],
   "source": [
    "seed = 42\n",
    "sl.spatialleiden(andata_sub, layer_ratio=0.2, directed=(False, True), seed=seed)"
   ]
  },
  {
   "cell_type": "code",
   "execution_count": null,
   "id": "91b5ab6c-426f-4209-89a3-01a92447a2cf",
   "metadata": {},
   "outputs": [],
   "source": [
    "andata_sub"
   ]
  },
  {
   "cell_type": "code",
   "execution_count": null,
   "id": "f3cff32e-75bd-46c7-bd1d-1892e8515f2f",
   "metadata": {},
   "outputs": [],
   "source": [
    "sc.pl.embedding(andata_sub, basis=\"spatial\", color=[\"spatialleiden\"])"
   ]
  },
  {
   "cell_type": "code",
   "execution_count": null,
   "id": "2b96b410-6449-4715-8420-7b786472130a",
   "metadata": {},
   "outputs": [],
   "source": []
  }
 ],
 "metadata": {
  "kernelspec": {
   "display_name": "Python 3 (ipykernel)",
   "language": "python",
   "name": "python3"
  },
  "language_info": {
   "codemirror_mode": {
    "name": "ipython",
    "version": 3
   },
   "file_extension": ".py",
   "mimetype": "text/x-python",
   "name": "python",
   "nbconvert_exporter": "python",
   "pygments_lexer": "ipython3",
   "version": "3.12.6"
  }
 },
 "nbformat": 4,
 "nbformat_minor": 5
}
