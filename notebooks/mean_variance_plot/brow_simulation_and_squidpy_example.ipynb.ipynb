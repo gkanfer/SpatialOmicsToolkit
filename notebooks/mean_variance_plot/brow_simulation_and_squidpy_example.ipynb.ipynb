{
 "cells": [
  {
   "cell_type": "markdown",
   "id": "05e6c524-f9b7-4fe7-89f7-59a3279e8ba8",
   "metadata": {},
   "source": [
    "In this notebook, I begin by implementing a custom simulation inspired by my previous work in Colab. This simulation will serve as a foundational example for understanding stochastic processes. I then proceed to utilize the Squidpy package to simulate spatial transcriptomics data. Finally, I demonstrate how to create and store the resulting data in an AnnData format, a key data structure for handling single-cell genomics data in Python."
   ]
  },
  {
   "cell_type": "code",
   "execution_count": 1,
   "id": "f5498d45-b0f0-4b71-99ff-fc3ec2c1de1b",
   "metadata": {},
   "outputs": [],
   "source": [
    "import numpy as np\n",
    "import matplotlib.pyplot as plt\n",
    "import geopandas as gpd\n",
    "#from shapely.geometry import Point\n",
    "import pymc as pm\n",
    "import pandas as pd\n",
    "\n",
    "# Initialize the random number generator\n",
    "RANDOM_SEED = 8925347\n",
    "rng = np.random.default_rng(RANDOM_SEED)"
   ]
  },
  {
   "cell_type": "code",
   "execution_count": 2,
   "id": "f322b98f-1540-4e03-8151-d5bbb1e42658",
   "metadata": {},
   "outputs": [
    {
     "data": {
      "text/plain": [
       "array([[31, 22, 29, 26, 23, 23],\n",
       "       [24, 17, 52, 25, 45, 23],\n",
       "       [15, 21, 32, 28, 29, 24],\n",
       "       [28, 24, 54, 19, 27, 24]])"
      ]
     },
     "execution_count": 2,
     "metadata": {},
     "output_type": "execute_result"
    }
   ],
   "source": [
    "# 5 gens from diffrent distribution, 1 gene from similar distributions\n",
    "clust_gene_mus = np.concatenate((rng.integers(12,55,(4,5)),rng.integers(23,25,(4,1))),axis =1)\n",
    "clust_gene_mus"
   ]
  },
  {
   "cell_type": "code",
   "execution_count": 3,
   "id": "683cd653-07bb-4abf-ba8e-0be9e53ec80a",
   "metadata": {},
   "outputs": [
    {
     "data": {
      "text/plain": [
       "array([[4.58483659, 6.0198114 , 6.69244485, 9.55787352, 7.25790271,\n",
       "        0.5       ],\n",
       "       [6.21607188, 5.04187114, 9.97955213, 9.98813652, 7.22058204,\n",
       "        0.5       ],\n",
       "       [8.84402576, 4.16907916, 5.73760602, 3.19536571, 3.39762495,\n",
       "        0.5       ],\n",
       "       [5.41679447, 6.96587996, 3.09625146, 5.62762622, 7.33427476,\n",
       "        0.5       ]])"
      ]
     },
     "execution_count": 3,
     "metadata": {},
     "output_type": "execute_result"
    }
   ],
   "source": [
    "clust_gene_sigmas = pm.draw(pm.Uniform.dist(lower=3, upper=10),draws=20, random_seed=RANDOM_SEED).reshape(4,5)\n",
    "clust_gene_sigmas = np.concatenate((clust_gene_sigmas,np.repeat(0.5,4).reshape(4,1)),axis =1)\n",
    "clust_gene_sigmas"
   ]
  },
  {
   "cell_type": "code",
   "execution_count": null,
   "id": "b1425d5e-6828-40e3-b11c-bca30654caf3",
   "metadata": {},
   "outputs": [],
   "source": [
    "clust_gene_mus = np.concatenate((rng.integers(12,55,(4,2)),rng.integers(23,25,(4,1))),axis =1)\n",
    "clust_gene_mus"
   ]
  },
  {
   "cell_type": "code",
   "execution_count": null,
   "id": "80bde254-1cb0-494c-94ac-d30990bc68ed",
   "metadata": {},
   "outputs": [],
   "source": [
    "clust_gene_sigmas = pm.draw(pm.Uniform.dist(lower=3, upper=10),draws=8, random_seed=RANDOM_SEED).reshape(4,2)\n",
    "clust_gene_sigmas = np.concatenate((clust_gene_sigmas,np.repeat(0.5,4).reshape(4,1)),axis =1)"
   ]
  },
  {
   "cell_type": "code",
   "execution_count": 4,
   "id": "97145b49-db1c-4653-a4de-23552e6ab2ca",
   "metadata": {},
   "outputs": [],
   "source": [
    "# Parameters for clusters\n",
    "num_clusters = 4\n",
    "min_obs = 3\n",
    "max_obs = 4\n",
    "\n",
    "# Parameters for multivariate normal distribution\n",
    "a0 = 3.5\n",
    "b1 = 1.5\n",
    "b2 = 2.5\n",
    "b3 = 2.5\n",
    "sigma_a0 = 1.0\n",
    "sigma_b1 = 0.7\n",
    "sigma_b2 = 0.3\n",
    "sigma_b3 = 1.2\n",
    "rhow_0_1 = -0.8\n",
    "rhow_0_2 = 0.6\n",
    "rhow_1_3 = 0.1\n",
    "rhow_2_3 = 0.9\n",
    "\n",
    "def makemvn(mean0, mean1, sigma0, sigma1, rho, size):\n",
    "  mu = [mean0, mean1]\n",
    "  Rho = np.array([[1, rho], [rho, 1]])\n",
    "  sigmas = [sigma0, sigma1]\n",
    "  Sigma = np.diag(sigmas) @ Rho @ np.diag(sigmas)\n",
    "  return rng.multivariate_normal(mean=mu, cov=Sigma, size=size)\n",
    "\n",
    "# simulate spots/genes matrix\n",
    "def spot_gene_sim(num_points,clust_gene_mus,clust_gene_sigmas,prev_arr,ind):\n",
    "  if prev_arr is None:\n",
    "    arr = pm.draw(pm.NegativeBinomial.dist(mu=clust_gene_mus[ind,:], alpha=clust_gene_sigmas[ind,:]),draws=num_points, random_seed=RANDOM_SEED)\n",
    "  else:\n",
    "    temp_arr = pm.draw(pm.NegativeBinomial.dist(mu=clust_gene_mus[ind,:], alpha=clust_gene_sigmas[ind,:]),draws=num_points, random_seed=RANDOM_SEED)\n",
    "    arr = np.concatenate((prev_arr,temp_arr),axis =0)\n",
    "  return arr\n",
    "\n",
    "# Create random coordinates for clusters\n",
    "clusters = []\n",
    "labels = np.arange(num_clusters).tolist()\n",
    "rng.shuffle(labels)\n",
    "label = []\n",
    "prev_arr = None\n",
    "\n",
    "# Generate points for each cluster with associations\n",
    "cluster_points = []\n",
    "for i in range(num_clusters):\n",
    "    num_points = rng.integers(min_obs, max_obs + 1)\n",
    "    cluster_center = (rng.uniform(0, 100), rng.uniform(0, 100))\n",
    "    points = np.round(rng.normal(loc=cluster_center, scale=5, size=(num_points, 2))).astype(int)\n",
    "    cluster_points.append(points)\n",
    "    clusters.append(points)\n",
    "    label.extend([labels[i]] * num_points)\n",
    "    arr = spot_gene_sim(num_points,clust_gene_mus,clust_gene_sigmas,prev_arr = prev_arr,ind=i)\n",
    "    prev_arr = arr\n",
    "\n",
    "# Flatten the list of clusters to get all points\n",
    "all_points = np.vstack(clusters)\n",
    "\n",
    "# Generate values with associations between clusters\n",
    "values = np.zeros(all_points.shape[0])\n",
    "\n",
    "# Generate associated values for each cluster\n",
    "num_points_cluster_0 = len(clusters[0])\n",
    "num_points_cluster_1 = len(clusters[1])\n",
    "num_points_cluster_2 = len(clusters[2])\n",
    "num_points_cluster_3 = len(clusters[3])\n",
    "\n",
    "# Cluster 0 and 1 association\n",
    "cluster_0_1_values = makemvn(a0, b1, sigma_a0, sigma_b1, rhow_0_1, num_points_cluster_0 + num_points_cluster_1)\n",
    "values[:num_points_cluster_0] = cluster_0_1_values[:num_points_cluster_0, 0]\n",
    "values[num_points_cluster_0:num_points_cluster_0 + num_points_cluster_1] = cluster_0_1_values[num_points_cluster_0:, 1]\n",
    "\n",
    "# Cluster 0 and 2 association\n",
    "cluster_0_2_values = makemvn(a0, b2, sigma_a0, sigma_b2, rhow_0_2, num_points_cluster_2)\n",
    "values[num_points_cluster_0 + num_points_cluster_1:num_points_cluster_0 + num_points_cluster_1 + num_points_cluster_2] = cluster_0_2_values[:, 1]\n",
    "\n",
    "# Cluster 1 and 3 association\n",
    "cluster_1_3_values = makemvn(b1, b3, sigma_b1, sigma_b3, rhow_1_3, num_points_cluster_3)\n",
    "values[num_points_cluster_0 + num_points_cluster_1 + num_points_cluster_2:] = cluster_1_3_values[:, 1]\n",
    "\n",
    "# Add associations to the spots gene array.\n",
    "\n",
    "spot_gene_mat = arr*values.reshape(arr.shape[0],1)\n",
    "\n"
   ]
  },
  {
   "cell_type": "code",
   "execution_count": 5,
   "id": "e80f50f7-db24-456e-ae42-844c1f0c7129",
   "metadata": {},
   "outputs": [
    {
     "data": {
      "text/plain": [
       "(16, 6)"
      ]
     },
     "execution_count": 5,
     "metadata": {},
     "output_type": "execute_result"
    }
   ],
   "source": [
    "spot_gene_mat.shape"
   ]
  },
  {
   "cell_type": "code",
   "execution_count": 6,
   "id": "6c4e3eca-b92d-437a-a5f3-920207d6fe11",
   "metadata": {},
   "outputs": [
    {
     "data": {
      "text/plain": [
       "array([[40, 38],\n",
       "       [30, 33],\n",
       "       [26, 42],\n",
       "       [28, 35],\n",
       "       [76, 63],\n",
       "       [84, 71],\n",
       "       [86, 65],\n",
       "       [86, 66],\n",
       "       [23, 86],\n",
       "       [17, 69],\n",
       "       [23, 78],\n",
       "       [17, 78],\n",
       "       [82, 21],\n",
       "       [87, 20],\n",
       "       [82, 22],\n",
       "       [79, 14]])"
      ]
     },
     "execution_count": 6,
     "metadata": {},
     "output_type": "execute_result"
    }
   ],
   "source": [
    "all_points"
   ]
  },
  {
   "cell_type": "code",
   "execution_count": 7,
   "id": "6c2047b2-fb40-4ecb-8c24-1453839f7401",
   "metadata": {},
   "outputs": [],
   "source": [
    "import scanpy as sc\n",
    "import squidpy as sq\n",
    "from anndata import AnnData"
   ]
  },
  {
   "cell_type": "code",
   "execution_count": 8,
   "id": "b0cee76d-67de-4b52-b16f-829df1c1dedf",
   "metadata": {},
   "outputs": [
    {
     "data": {
      "text/plain": [
       "AnnData object with n_obs × n_vars = 16 × 6\n",
       "    obsm: 'spatial'"
      ]
     },
     "execution_count": 8,
     "metadata": {},
     "output_type": "execute_result"
    }
   ],
   "source": [
    "adata = AnnData(spot_gene_mat, obsm={\"spatial\": all_points})\n",
    "adata"
   ]
  },
  {
   "cell_type": "code",
   "execution_count": 9,
   "id": "a755dc6d-fbcb-441e-b35e-84221c2ae4dd",
   "metadata": {},
   "outputs": [],
   "source": [
    "adata.write_h5ad(\"andata_sim_16by6.h5ad\")"
   ]
  },
  {
   "cell_type": "code",
   "execution_count": 46,
   "id": "5a336fb5-1f6b-4837-a90e-6e0a7850e235",
   "metadata": {},
   "outputs": [
    {
     "data": {
      "text/plain": [
       "array([[ 45.1864072 ,  81.33553297,   0.        ],\n",
       "       [ 23.27043373,  90.75469154, 165.22007947],\n",
       "       [143.22886288,  88.66548655, 286.45772577],\n",
       "       [ 50.27888345,  25.95039146,   4.8656984 ],\n",
       "       [134.14267028,  57.86546561,  94.68894373],\n",
       "       [ 46.25787985,  29.73720847,  61.12648409],\n",
       "       [124.37386108,  21.37675737,   1.94334158],\n",
       "       [ 48.33113273,  66.13733953,   7.63123148],\n",
       "       [ 92.54553259, 106.42736248,  60.15459618],\n",
       "       [ 34.15701164, 105.09849736,  31.52954921],\n",
       "       [ 57.75523194,  77.74742761,  17.7708406 ],\n",
       "       [ 45.36160933, 301.03613461,  37.11404399],\n",
       "       [ 33.80454827, 545.09834086, 122.54148748],\n",
       "       [112.40727623, 337.22182869,  78.19636607]])"
      ]
     },
     "execution_count": 46,
     "metadata": {},
     "output_type": "execute_result"
    }
   ],
   "source": [
    "adata.X"
   ]
  },
  {
   "cell_type": "code",
   "execution_count": 47,
   "id": "84b54f71-2f7d-49c3-b5e0-3ca65ac9a60f",
   "metadata": {},
   "outputs": [],
   "source": [
    "# sc.pp.normalize_total(adata)"
   ]
  },
  {
   "cell_type": "code",
   "execution_count": 48,
   "id": "c56f1528-f88e-4493-aeef-c1d41f29d597",
   "metadata": {},
   "outputs": [],
   "source": [
    "# sc.pp.log1p(adata)\n",
    "# sc.pp.scale(adata, max_value=10)"
   ]
  },
  {
   "cell_type": "code",
   "execution_count": 49,
   "id": "d206cb39-abb6-4f66-adf4-f06734b3ef53",
   "metadata": {},
   "outputs": [],
   "source": [
    "# sc.pp.pca(adata)"
   ]
  },
  {
   "cell_type": "code",
   "execution_count": null,
   "id": "e799a6ae-ec15-487f-8de9-3c5a4cf2cedd",
   "metadata": {},
   "outputs": [],
   "source": []
  },
  {
   "cell_type": "code",
   "execution_count": null,
   "id": "974aa137-32c1-40fc-91d4-13b34ba982db",
   "metadata": {},
   "outputs": [],
   "source": []
  },
  {
   "cell_type": "code",
   "execution_count": null,
   "id": "4a3ae10b-ce72-4cde-ad7f-d758ea73e61c",
   "metadata": {},
   "outputs": [],
   "source": []
  },
  {
   "cell_type": "code",
   "execution_count": null,
   "id": "ae271499-4675-476a-bf67-b7395b8bc85e",
   "metadata": {},
   "outputs": [],
   "source": []
  },
  {
   "cell_type": "code",
   "execution_count": null,
   "id": "72c40790-a3e3-43ec-910a-48cf3b7fc7a8",
   "metadata": {},
   "outputs": [],
   "source": []
  },
  {
   "cell_type": "code",
   "execution_count": null,
   "id": "230e8682-00eb-4bdf-a3af-56dc12272f9a",
   "metadata": {},
   "outputs": [],
   "source": []
  },
  {
   "cell_type": "code",
   "execution_count": null,
   "id": "d472bf03-668d-4e47-be11-49f1c20c56f2",
   "metadata": {},
   "outputs": [],
   "source": []
  },
  {
   "cell_type": "code",
   "execution_count": 1,
   "id": "f25255dd-4ed4-4fa1-aa61-f93dc51ebb19",
   "metadata": {},
   "outputs": [],
   "source": [
    "from numpy.random import default_rng\n",
    "\n",
    "import matplotlib.pyplot as plt\n",
    "\n",
    "import scanpy as sc\n",
    "import squidpy as sq\n",
    "from anndata import AnnData\n",
    "\n",
    "\n",
    "import os\n",
    "from PIL import Image\n",
    "import matplotlib.pyplot as plt\n",
    "from matplotlib.colors import ListedColormap\n",
    "from matplotlib.colors import LinearSegmentedColormap\n",
    "from matplotlib.backends.backend_pdf import PdfPages\n",
    "import seaborn as sns\n",
    "import random\n",
    "import pandas as pd"
   ]
  },
  {
   "cell_type": "code",
   "execution_count": null,
   "id": "425dd876-e833-4dc2-a6fe-28376011dcc8",
   "metadata": {},
   "outputs": [],
   "source": []
  },
  {
   "cell_type": "code",
   "execution_count": 2,
   "id": "50dedbb3-e5b0-4caf-828c-2a172dd5d138",
   "metadata": {},
   "outputs": [
    {
     "data": {
      "text/plain": [
       "AnnData object with n_obs × n_vars = 10 × 100\n",
       "    obsm: 'spatial'"
      ]
     },
     "execution_count": 2,
     "metadata": {},
     "output_type": "execute_result"
    }
   ],
   "source": [
    "rng = default_rng(42)\n",
    " RS  # spatial coordinates\n",
    "image = rng.uniform(0, 1, size=(10, 10, 3))\n",
    "adata = AnnData(counts, obsm={\"spatial\": coordinates})\n",
    "adata"
   ]
  },
  {
   "cell_type": "code",
   "execution_count": 3,
   "id": "8dc370e2-7c8b-437c-8558-b52c8727cf28",
   "metadata": {},
   "outputs": [],
   "source": [
    "sc.pp.normalize_total(adata)\n",
    "sc.pp.log1p(adata)\n",
    "sc.pp.pca(adata)\n",
    "sc.pp.neighbors(adata,n_neighbors = 3)"
   ]
  },
  {
   "cell_type": "code",
   "execution_count": 4,
   "id": "28d5d3a6-a01e-407d-90a0-b2c050d1890c",
   "metadata": {},
   "outputs": [
    {
     "data": {
      "text/plain": [
       "AnnData object with n_obs × n_vars = 10 × 100\n",
       "    uns: 'log1p', 'pca', 'neighbors'\n",
       "    obsm: 'spatial', 'X_pca'\n",
       "    varm: 'PCs'\n",
       "    obsp: 'distances', 'connectivities'"
      ]
     },
     "execution_count": 4,
     "metadata": {},
     "output_type": "execute_result"
    }
   ],
   "source": [
    "adata"
   ]
  },
  {
   "cell_type": "code",
   "execution_count": 16,
   "id": "dea68e67-919d-4d04-b610-162259fca4d5",
   "metadata": {},
   "outputs": [
    {
     "data": {
      "image/png": "[encoded data removed]",
      "text/plain": [
       "<Figure size 1000x800 with 2 Axes>"
      ]
     },
     "metadata": {},
     "output_type": "display_data"
    }
   ],
   "source": [
    "plt.figure(figsize=(10, 8))  # You can adjust the figure size\n",
    "sns.heatmap(adata.obsp['connectivities'].toarray(), cmap=\"viridis\")  # You can choose a different colormap\n",
    "\n",
    "plt.title(\"Heatmap of Connectivities\")\n",
    "plt.show()"
   ]
  },
  {
   "cell_type": "code",
   "execution_count": 7,
   "id": "b3456e02-22be-4e77-a83b-8ea3300d2f31",
   "metadata": {},
   "outputs": [
    {
     "data": {
      "image/png": "[encoded data removed]",
      "text/plain": [
       "<Figure size 1000x800 with 2 Axes>"
      ]
     },
     "metadata": {},
     "output_type": "display_data"
    }
   ],
   "source": [
    "plt.figure(figsize=(10, 8))  # You can adjust the figure size\n",
    "sns.heatmap(adata.obsp['distances'].toarray(), cmap=\"viridis\",annot=True, fmt=\".2f\")  # You can choose a different colormap\n",
    "\n",
    "plt.title(\"Heatmap of distances\")\n",
    "plt.show()"
   ]
  },
  {
   "cell_type": "code",
   "execution_count": 22,
   "id": "b11a530f-7d8b-4dd8-9513-842d214e486f",
   "metadata": {},
   "outputs": [],
   "source": [
    "distances = adata.obsp['connectivities'].toarray()\n",
    "import numpy as np\n",
    "focal, neighbors = np.where(adata.obsp['connectivities'].toarray() > 0)\n",
    "idx = adata.obs_names\n",
    "\n",
    "graph_df = pd.DataFrame(\n",
    "    {\n",
    "        \"focal\": idx[focal],\n",
    "        \"neighbor\": idx[neighbors],\n",
    "        \"weight\": distances[focal, neighbors],\n",
    "    }\n",
    ")"
   ]
  },
  {
   "cell_type": "code",
   "execution_count": 23,
   "id": "42639dfb-f124-425d-aa8d-15a9f6127053",
   "metadata": {
    "scrolled": true
   },
   "outputs": [
    {
     "data": {
      "text/html": [
       "<div>\n",
       "<style scoped>\n",
       "    .dataframe tbody tr th:only-of-type {\n",
       "        vertical-align: middle;\n",
       "    }\n",
       "\n",
       "    .dataframe tbody tr th {\n",
       "        vertical-align: top;\n",
       "    }\n",
       "\n",
       "    .dataframe thead th {\n",
       "        text-align: right;\n",
       "    }\n",
       "</style>\n",
       "<table border=\"1\" class=\"dataframe\">\n",
       "  <thead>\n",
       "    <tr style=\"text-align: right;\">\n",
       "      <th></th>\n",
       "      <th>focal</th>\n",
       "      <th>neighbor</th>\n",
       "      <th>weight</th>\n",
       "    </tr>\n",
       "  </thead>\n",
       "  <tbody>\n",
       "    <tr>\n",
       "      <th>0</th>\n",
       "      <td>0</td>\n",
       "      <td>2</td>\n",
       "      <td>1.000000</td>\n",
       "    </tr>\n",
       "    <tr>\n",
       "      <th>1</th>\n",
       "      <td>0</td>\n",
       "      <td>3</td>\n",
       "      <td>0.584953</td>\n",
       "    </tr>\n",
       "    <tr>\n",
       "      <th>2</th>\n",
       "      <td>0</td>\n",
       "      <td>4</td>\n",
       "      <td>1.000000</td>\n",
       "    </tr>\n",
       "    <tr>\n",
       "      <th>3</th>\n",
       "      <td>0</td>\n",
       "      <td>5</td>\n",
       "      <td>0.584962</td>\n",
       "    </tr>\n",
       "    <tr>\n",
       "      <th>4</th>\n",
       "      <td>0</td>\n",
       "      <td>6</td>\n",
       "      <td>1.000000</td>\n",
       "    </tr>\n",
       "    <tr>\n",
       "      <th>5</th>\n",
       "      <td>0</td>\n",
       "      <td>7</td>\n",
       "      <td>0.584958</td>\n",
       "    </tr>\n",
       "    <tr>\n",
       "      <th>6</th>\n",
       "      <td>0</td>\n",
       "      <td>8</td>\n",
       "      <td>0.584957</td>\n",
       "    </tr>\n",
       "    <tr>\n",
       "      <th>7</th>\n",
       "      <td>0</td>\n",
       "      <td>9</td>\n",
       "      <td>1.000000</td>\n",
       "    </tr>\n",
       "    <tr>\n",
       "      <th>8</th>\n",
       "      <td>1</td>\n",
       "      <td>6</td>\n",
       "      <td>1.000000</td>\n",
       "    </tr>\n",
       "    <tr>\n",
       "      <th>9</th>\n",
       "      <td>1</td>\n",
       "      <td>9</td>\n",
       "      <td>0.584967</td>\n",
       "    </tr>\n",
       "    <tr>\n",
       "      <th>10</th>\n",
       "      <td>2</td>\n",
       "      <td>0</td>\n",
       "      <td>1.000000</td>\n",
       "    </tr>\n",
       "    <tr>\n",
       "      <th>11</th>\n",
       "      <td>2</td>\n",
       "      <td>6</td>\n",
       "      <td>0.584963</td>\n",
       "    </tr>\n",
       "    <tr>\n",
       "      <th>12</th>\n",
       "      <td>3</td>\n",
       "      <td>0</td>\n",
       "      <td>0.584953</td>\n",
       "    </tr>\n",
       "    <tr>\n",
       "      <th>13</th>\n",
       "      <td>3</td>\n",
       "      <td>4</td>\n",
       "      <td>0.584967</td>\n",
       "    </tr>\n",
       "    <tr>\n",
       "      <th>14</th>\n",
       "      <td>3</td>\n",
       "      <td>7</td>\n",
       "      <td>1.000000</td>\n",
       "    </tr>\n",
       "    <tr>\n",
       "      <th>15</th>\n",
       "      <td>4</td>\n",
       "      <td>0</td>\n",
       "      <td>1.000000</td>\n",
       "    </tr>\n",
       "    <tr>\n",
       "      <th>16</th>\n",
       "      <td>4</td>\n",
       "      <td>3</td>\n",
       "      <td>0.584967</td>\n",
       "    </tr>\n",
       "    <tr>\n",
       "      <th>17</th>\n",
       "      <td>5</td>\n",
       "      <td>0</td>\n",
       "      <td>0.584962</td>\n",
       "    </tr>\n",
       "    <tr>\n",
       "      <th>18</th>\n",
       "      <td>5</td>\n",
       "      <td>9</td>\n",
       "      <td>1.000000</td>\n",
       "    </tr>\n",
       "    <tr>\n",
       "      <th>19</th>\n",
       "      <td>6</td>\n",
       "      <td>0</td>\n",
       "      <td>1.000000</td>\n",
       "    </tr>\n",
       "    <tr>\n",
       "      <th>20</th>\n",
       "      <td>6</td>\n",
       "      <td>1</td>\n",
       "      <td>1.000000</td>\n",
       "    </tr>\n",
       "    <tr>\n",
       "      <th>21</th>\n",
       "      <td>6</td>\n",
       "      <td>2</td>\n",
       "      <td>0.584963</td>\n",
       "    </tr>\n",
       "    <tr>\n",
       "      <th>22</th>\n",
       "      <td>6</td>\n",
       "      <td>7</td>\n",
       "      <td>1.000000</td>\n",
       "    </tr>\n",
       "    <tr>\n",
       "      <th>23</th>\n",
       "      <td>6</td>\n",
       "      <td>9</td>\n",
       "      <td>0.827746</td>\n",
       "    </tr>\n",
       "    <tr>\n",
       "      <th>24</th>\n",
       "      <td>7</td>\n",
       "      <td>0</td>\n",
       "      <td>0.584958</td>\n",
       "    </tr>\n",
       "    <tr>\n",
       "      <th>25</th>\n",
       "      <td>7</td>\n",
       "      <td>3</td>\n",
       "      <td>1.000000</td>\n",
       "    </tr>\n",
       "    <tr>\n",
       "      <th>26</th>\n",
       "      <td>7</td>\n",
       "      <td>6</td>\n",
       "      <td>1.000000</td>\n",
       "    </tr>\n",
       "    <tr>\n",
       "      <th>27</th>\n",
       "      <td>8</td>\n",
       "      <td>0</td>\n",
       "      <td>0.584957</td>\n",
       "    </tr>\n",
       "    <tr>\n",
       "      <th>28</th>\n",
       "      <td>8</td>\n",
       "      <td>9</td>\n",
       "      <td>1.000000</td>\n",
       "    </tr>\n",
       "    <tr>\n",
       "      <th>29</th>\n",
       "      <td>9</td>\n",
       "      <td>0</td>\n",
       "      <td>1.000000</td>\n",
       "    </tr>\n",
       "    <tr>\n",
       "      <th>30</th>\n",
       "      <td>9</td>\n",
       "      <td>1</td>\n",
       "      <td>0.584967</td>\n",
       "    </tr>\n",
       "    <tr>\n",
       "      <th>31</th>\n",
       "      <td>9</td>\n",
       "      <td>5</td>\n",
       "      <td>1.000000</td>\n",
       "    </tr>\n",
       "    <tr>\n",
       "      <th>32</th>\n",
       "      <td>9</td>\n",
       "      <td>6</td>\n",
       "      <td>0.827746</td>\n",
       "    </tr>\n",
       "    <tr>\n",
       "      <th>33</th>\n",
       "      <td>9</td>\n",
       "      <td>8</td>\n",
       "      <td>1.000000</td>\n",
       "    </tr>\n",
       "  </tbody>\n",
       "</table>\n",
       "</div>"
      ],
      "text/plain": [
       "   focal neighbor    weight\n",
       "0      0        2  1.000000\n",
       "1      0        3  0.584953\n",
       "2      0        4  1.000000\n",
       "3      0        5  0.584962\n",
       "4      0        6  1.000000\n",
       "5      0        7  0.584958\n",
       "6      0        8  0.584957\n",
       "7      0        9  1.000000\n",
       "8      1        6  1.000000\n",
       "9      1        9  0.584967\n",
       "10     2        0  1.000000\n",
       "11     2        6  0.584963\n",
       "12     3        0  0.584953\n",
       "13     3        4  0.584967\n",
       "14     3        7  1.000000\n",
       "15     4        0  1.000000\n",
       "16     4        3  0.584967\n",
       "17     5        0  0.584962\n",
       "18     5        9  1.000000\n",
       "19     6        0  1.000000\n",
       "20     6        1  1.000000\n",
       "21     6        2  0.584963\n",
       "22     6        7  1.000000\n",
       "23     6        9  0.827746\n",
       "24     7        0  0.584958\n",
       "25     7        3  1.000000\n",
       "26     7        6  1.000000\n",
       "27     8        0  0.584957\n",
       "28     8        9  1.000000\n",
       "29     9        0  1.000000\n",
       "30     9        1  0.584967\n",
       "31     9        5  1.000000\n",
       "32     9        6  0.827746\n",
       "33     9        8  1.000000"
      ]
     },
     "execution_count": 23,
     "metadata": {},
     "output_type": "execute_result"
    }
   ],
   "source": [
    "graph_df"
   ]
  },
  {
   "cell_type": "code",
   "execution_count": 6,
   "id": "2a1d11dc-f045-439b-b244-89df371f9661",
   "metadata": {},
   "outputs": [
    {
     "data": {
      "text/html": [
       "<div>\n",
       "<style scoped>\n",
       "    .dataframe tbody tr th:only-of-type {\n",
       "        vertical-align: middle;\n",
       "    }\n",
       "\n",
       "    .dataframe tbody tr th {\n",
       "        vertical-align: top;\n",
       "    }\n",
       "\n",
       "    .dataframe thead th {\n",
       "        text-align: right;\n",
       "    }\n",
       "</style>\n",
       "<table border=\"1\" class=\"dataframe\">\n",
       "  <thead>\n",
       "    <tr style=\"text-align: right;\">\n",
       "      <th></th>\n",
       "      <th>focal</th>\n",
       "      <th>neighbor</th>\n",
       "      <th>weight</th>\n",
       "    </tr>\n",
       "  </thead>\n",
       "  <tbody>\n",
       "    <tr>\n",
       "      <th>0</th>\n",
       "      <td>0</td>\n",
       "      <td>2</td>\n",
       "      <td>9.117372</td>\n",
       "    </tr>\n",
       "    <tr>\n",
       "      <th>1</th>\n",
       "      <td>0</td>\n",
       "      <td>6</td>\n",
       "      <td>9.302170</td>\n",
       "    </tr>\n",
       "    <tr>\n",
       "      <th>2</th>\n",
       "      <td>1</td>\n",
       "      <td>0</td>\n",
       "      <td>9.728170</td>\n",
       "    </tr>\n",
       "    <tr>\n",
       "      <th>3</th>\n",
       "      <td>1</td>\n",
       "      <td>6</td>\n",
       "      <td>9.251448</td>\n",
       "    </tr>\n",
       "    <tr>\n",
       "      <th>4</th>\n",
       "      <td>2</td>\n",
       "      <td>0</td>\n",
       "      <td>9.117372</td>\n",
       "    </tr>\n",
       "    <tr>\n",
       "      <th>5</th>\n",
       "      <td>2</td>\n",
       "      <td>6</td>\n",
       "      <td>9.628993</td>\n",
       "    </tr>\n",
       "    <tr>\n",
       "      <th>6</th>\n",
       "      <td>3</td>\n",
       "      <td>4</td>\n",
       "      <td>10.359506</td>\n",
       "    </tr>\n",
       "    <tr>\n",
       "      <th>7</th>\n",
       "      <td>3</td>\n",
       "      <td>7</td>\n",
       "      <td>9.821766</td>\n",
       "    </tr>\n",
       "    <tr>\n",
       "      <th>8</th>\n",
       "      <td>4</td>\n",
       "      <td>0</td>\n",
       "      <td>9.930584</td>\n",
       "    </tr>\n",
       "    <tr>\n",
       "      <th>9</th>\n",
       "      <td>4</td>\n",
       "      <td>3</td>\n",
       "      <td>10.359506</td>\n",
       "    </tr>\n",
       "    <tr>\n",
       "      <th>10</th>\n",
       "      <td>5</td>\n",
       "      <td>0</td>\n",
       "      <td>10.052822</td>\n",
       "    </tr>\n",
       "    <tr>\n",
       "      <th>11</th>\n",
       "      <td>5</td>\n",
       "      <td>9</td>\n",
       "      <td>9.824166</td>\n",
       "    </tr>\n",
       "    <tr>\n",
       "      <th>12</th>\n",
       "      <td>6</td>\n",
       "      <td>1</td>\n",
       "      <td>9.251448</td>\n",
       "    </tr>\n",
       "    <tr>\n",
       "      <th>13</th>\n",
       "      <td>6</td>\n",
       "      <td>7</td>\n",
       "      <td>8.994113</td>\n",
       "    </tr>\n",
       "    <tr>\n",
       "      <th>14</th>\n",
       "      <td>7</td>\n",
       "      <td>0</td>\n",
       "      <td>9.460050</td>\n",
       "    </tr>\n",
       "    <tr>\n",
       "      <th>15</th>\n",
       "      <td>7</td>\n",
       "      <td>6</td>\n",
       "      <td>8.994113</td>\n",
       "    </tr>\n",
       "    <tr>\n",
       "      <th>16</th>\n",
       "      <td>8</td>\n",
       "      <td>0</td>\n",
       "      <td>10.806920</td>\n",
       "    </tr>\n",
       "    <tr>\n",
       "      <th>17</th>\n",
       "      <td>8</td>\n",
       "      <td>2</td>\n",
       "      <td>10.950275</td>\n",
       "    </tr>\n",
       "    <tr>\n",
       "      <th>18</th>\n",
       "      <td>9</td>\n",
       "      <td>0</td>\n",
       "      <td>9.568451</td>\n",
       "    </tr>\n",
       "    <tr>\n",
       "      <th>19</th>\n",
       "      <td>9</td>\n",
       "      <td>6</td>\n",
       "      <td>9.460134</td>\n",
       "    </tr>\n",
       "  </tbody>\n",
       "</table>\n",
       "</div>"
      ],
      "text/plain": [
       "   focal neighbor     weight\n",
       "0      0        2   9.117372\n",
       "1      0        6   9.302170\n",
       "2      1        0   9.728170\n",
       "3      1        6   9.251448\n",
       "4      2        0   9.117372\n",
       "5      2        6   9.628993\n",
       "6      3        4  10.359506\n",
       "7      3        7   9.821766\n",
       "8      4        0   9.930584\n",
       "9      4        3  10.359506\n",
       "10     5        0  10.052822\n",
       "11     5        9   9.824166\n",
       "12     6        1   9.251448\n",
       "13     6        7   8.994113\n",
       "14     7        0   9.460050\n",
       "15     7        6   8.994113\n",
       "16     8        0  10.806920\n",
       "17     8        2  10.950275\n",
       "18     9        0   9.568451\n",
       "19     9        6   9.460134"
      ]
     },
     "execution_count": 6,
     "metadata": {},
     "output_type": "execute_result"
    }
   ],
   "source": [
    "distances = adata.obsp['distances'].toarray()\n",
    "import numpy as np\n",
    "focal, neighbors = np.where(adata.obsp['distances'].toarray() > 0)\n",
    "idx = adata.obs_names\n",
    "\n",
    "graph_df = pd.DataFrame(\n",
    "    {\n",
    "        \"focal\": idx[focal],\n",
    "        \"neighbor\": idx[neighbors],\n",
    "        \"weight\": distances[focal, neighbors],\n",
    "    }\n",
    ")\n",
    "graph_df"
   ]
  },
  {
   "cell_type": "markdown",
   "id": "81d4f5fd-e1c2-4012-894a-faf28ac09c43",
   "metadata": {},
   "source": [
    "Dealing with sparse matrix"
   ]
  },
  {
   "cell_type": "code",
   "execution_count": 18,
   "id": "681ec652-5e94-4918-a89d-1b79b320ddb5",
   "metadata": {},
   "outputs": [
    {
     "data": {
      "image/png": "[encoded data removed]",
      "text/plain": [
       "<Figure size 1000x800 with 2 Axes>"
      ]
     },
     "metadata": {},
     "output_type": "display_data"
    }
   ],
   "source": [
    "distances = adata.obsp['distances'].toarray()\n",
    "distances[distances>0] = 1/(distances[distances>0])\n",
    "\n",
    "plt.figure(figsize=(10, 8))  # You can adjust the figure size\n",
    "sns.heatmap(distances, cmap=\"viridis\",annot=True, fmt=\".2f\")  # You can choose a different colormap\n",
    "\n",
    "plt.title(\"Heatmap of distances\")\n",
    "plt.show()"
   ]
  },
  {
   "cell_type": "code",
   "execution_count": 30,
   "id": "8ec5a4eb-3d70-4d61-a38b-6402781b796b",
   "metadata": {},
   "outputs": [],
   "source": [
    "sparse_dist_matrix = adata.obsp['distances']\n",
    "sparse_inv_matrix = sparse_dist_matrix.copy()\n",
    "sparse_inv_matrix.data = 1 / sparse_inv_matrix.data\n",
    "sparse_inv_matrix.data[sparse_inv_matrix.data == float('inf')] = 0"
   ]
  },
  {
   "cell_type": "code",
   "execution_count": 31,
   "id": "87d8d687-6cd2-421a-af78-c1e13bc76614",
   "metadata": {},
   "outputs": [
    {
     "data": {
      "text/plain": [
       "array([0, 0, 1, 1, 2, 2, 3, 3, 4, 4, 5, 5, 6, 6, 7, 7, 8, 8, 9, 9],\n",
       "      dtype=int32)"
      ]
     },
     "execution_count": 31,
     "metadata": {},
     "output_type": "execute_result"
    }
   ],
   "source": [
    "sparse_inv_matrix = sparse_inv_matrix.tocoo()\n",
    "sparse_inv_matrix.row"
   ]
  },
  {
   "cell_type": "code",
   "execution_count": 20,
   "id": "1f962870-052a-4681-91c0-2d86c97a04b7",
   "metadata": {},
   "outputs": [],
   "source": [
    "from scipy.sparse import csr_matrix\n",
    "data = [1, 2, 3]\n",
    "row_indices = [0, 1, 2]\n",
    "column_indices = [1, 0, 2]\n",
    "sparse_matrix = csr_matrix((data, (row_indices, column_indices)), shape=(3, 3))"
   ]
  },
  {
   "cell_type": "code",
   "execution_count": 24,
   "id": "e2e02cdd-5f2b-494f-9587-769952075507",
   "metadata": {},
   "outputs": [
    {
     "data": {
      "text/plain": [
       "array([[0, 1, 0],\n",
       "       [2, 0, 0],\n",
       "       [0, 0, 3]])"
      ]
     },
     "execution_count": 24,
     "metadata": {},
     "output_type": "execute_result"
    }
   ],
   "source": [
    "sparse_matrix.toarray()"
   ]
  },
  {
   "cell_type": "code",
   "execution_count": 28,
   "id": "61f04e54-f059-4d21-b4ce-4eb017652c1c",
   "metadata": {},
   "outputs": [
    {
     "data": {
      "text/plain": [
       "<3x3 sparse matrix of type '<class 'numpy.int64'>'\n",
       "\twith 3 stored elements in Compressed Sparse Row format>"
      ]
     },
     "execution_count": 28,
     "metadata": {},
     "output_type": "execute_result"
    }
   ],
   "source": [
    "sparse_matrix"
   ]
  },
  {
   "cell_type": "code",
   "execution_count": 29,
   "id": "5af16bb6-7294-4f6f-a033-42da7c1b45b8",
   "metadata": {},
   "outputs": [
    {
     "data": {
      "text/plain": [
       "<3x3 sparse matrix of type '<class 'numpy.int64'>'\n",
       "\twith 4 stored elements in Compressed Sparse Row format>"
      ]
     },
     "execution_count": 29,
     "metadata": {},
     "output_type": "execute_result"
    }
   ],
   "source": [
    "arr = ([[0,1,2],[2,0,0],[0,0,3]])\n",
    "sparse_matrix = csr_matrix(arr)"
   ]
  },
  {
   "cell_type": "code",
   "execution_count": 34,
   "id": "4a12688e-a92c-493f-ac58-d9ef95b3d6b0",
   "metadata": {},
   "outputs": [],
   "source": [
    "x = [1,23,56,7]"
   ]
  },
  {
   "cell_type": "code",
   "execution_count": null,
   "id": "4bb3ae84-b0a7-4255-bc1c-ac63ba3bf05e",
   "metadata": {},
   "outputs": [],
   "source": []
  },
  {
   "cell_type": "code",
   "execution_count": null,
   "id": "4708cc0b-6a8e-4a3c-8f3a-8b200afd98b7",
   "metadata": {},
   "outputs": [],
   "source": []
  },
  {
   "cell_type": "code",
   "execution_count": 26,
   "id": "20eb840d-4be6-45a7-b31c-44a86268ccfe",
   "metadata": {},
   "outputs": [],
   "source": [
    "import esda\n",
    "import pandas as pd\n",
    "import geopandas as gpd\n",
    "from geopandas import GeoDataFrame\n",
    "import libpysal as lps\n",
    "import numpy as np\n",
    "import matplotlib.pyplot as plt\n",
    "from shapely.geometry import Point\n",
    "import os\n",
    "%matplotlib inline"
   ]
  },
  {
   "cell_type": "code",
   "execution_count": 28,
   "id": "155dcd76-7908-4865-880f-704c9faf83cb",
   "metadata": {},
   "outputs": [],
   "source": [
    "W = lps.weights.W.from_adjlist(graph_df)\n",
    "W.set_transform(\"r\")"
   ]
  },
  {
   "cell_type": "code",
   "execution_count": null,
   "id": "b884ec45-6c46-4d8e-becf-a467b73e6621",
   "metadata": {},
   "outputs": [],
   "source": [
    "adata.uns.setdefault(\"spatial\", {})\n",
    "adata.uns[\"spatial\"][graph_name] = W"
   ]
  },
  {
   "cell_type": "code",
   "execution_count": null,
   "id": "751091f4-315d-4423-a061-b259a154990a",
   "metadata": {},
   "outputs": [],
   "source": []
  },
  {
   "cell_type": "code",
   "execution_count": null,
   "id": "f7867617-cc51-4264-9a1b-e7c24babaebb",
   "metadata": {},
   "outputs": [],
   "source": []
  },
  {
   "cell_type": "code",
   "execution_count": null,
   "id": "b3e495ca-8f6c-4e5e-b9ac-dcffe0c324b3",
   "metadata": {},
   "outputs": [],
   "source": []
  },
  {
   "cell_type": "code",
   "execution_count": null,
   "id": "3fe53222-abf5-4e87-a823-b04215fc7def",
   "metadata": {},
   "outputs": [],
   "source": []
  },
  {
   "cell_type": "code",
   "execution_count": 4,
   "id": "911bb443-9944-40c5-a356-4eecc3a2c95d",
   "metadata": {},
   "outputs": [
    {
     "data": {
      "text/plain": [
       "AnnData object with n_obs × n_vars = 10000 × 1500\n",
       "    obs: 'n_genes_by_counts', 'total_counts', 'log1p_n_genes_by_counts', 'log1p_total_counts', 'total_counts_MT', 'pct_counts_MT', 'log1p_total_counts_MT', 'cluster'\n",
       "    var: 'gene_ids', 'feature_types', 'genome', 'MT', 'n_cells_by_counts', 'total_counts', 'mean_counts', 'pct_dropout_by_counts', 'log1p_total_counts', 'log1p_mean_counts', 'highly_variable', 'highly_variable_rank', 'means', 'variances', 'variances_norm', 'mean', 'std'\n",
       "    uns: 'pca'\n",
       "    obsm: 'X_pca', 'spatial', 'geometry'\n",
       "    varm: 'PCs'\n",
       "    layers: 'counts', 'log', 'scale'"
      ]
     },
     "execution_count": 4,
     "metadata": {},
     "output_type": "execute_result"
    }
   ],
   "source": [
    "import cupy as cp\n",
    "import cupyx\n",
    "import scanpy as sc\n",
    "import scanpy as sc\n",
    "import numpy as np\n",
    "from cupyx.scipy.sparse import csr_matrix\n",
    "import os\n",
    "from PIL import Image\n",
    "import matplotlib.pyplot as plt\n",
    "from matplotlib.colors import ListedColormap\n",
    "from matplotlib.colors import LinearSegmentedColormap\n",
    "from matplotlib.backends.backend_pdf import PdfPages\n",
    "import seaborn as sns\n",
    "import random\n",
    "import pandas as pd\n",
    "import voyagerpy as vp\n",
    "import geopandas as gpd\n",
    "from collections import OrderedDict\n",
    "from anndata import AnnData\n",
    "path_016 = \"/data/kanferg/Sptial_Omics/playGround/Data/Visium_HD_Human_Colon_Cancer_binned_outputs/binned_outputs/square_016um\"\n",
    "pathout = \"/data/kanferg/Sptial_Omics/SpatialOmicsToolkit/out_2\"\n",
    "andata = sc.read_h5ad(os.path.join(pathout, \"andata_save_colon.h5ad\"))\n",
    "from scipy.sparse import csr_matrix\n",
    "andata = andata.copy()\n",
    "andata.X = csr_matrix(andata.X)\n",
    "andata = sc.pp.subsample(andata, n_obs=10_000,copy=True)\n",
    "andata.layers['scale'] = andata.X\n",
    "andata.layers['log'] = andata.layers['log']\n",
    "scale = 1\n",
    "visium_spots = gpd.GeoSeries.from_xy(andata.obsm['spatial'][:,0], andata.obsm['spatial'][:,1]).scale(scale, scale, origin=(0, 0))\n",
    "_ = vp.spatial.set_geometry(andata, geom=\"spot_poly\", values=visium_spots)\n",
    "andata.X = andata.layers['log']\n",
    "sc.pp.scale(andata, max_value=10)\n",
    "sc.pp.pca(andata, n_comps=15)\n",
    "andata"
   ]
  },
  {
   "cell_type": "code",
   "execution_count": null,
   "id": "1304d226-e9af-47ca-8aba-f60bffa6bbfd",
   "metadata": {},
   "outputs": [],
   "source": [
    "_eigen_values = None\n",
    "_eigen_basis = None\n",
    "n_dcs = None #  Number of diffusion components to use.\n",
    "_rp_forest = None\n",
    "n_neighbors = 25"
   ]
  },
  {
   "cell_type": "code",
   "execution_count": 7,
   "id": "74834cad-1b14-447c-bef2-f6b09c07453d",
   "metadata": {},
   "outputs": [],
   "source": [
    "def _get_indices_distances_from_dense_matrix(D, n_neighbors: int):\n",
    "    sample_range = np.arange(D.shape[0])[:, None]\n",
    "    indices = np.argpartition(D, n_neighbors - 1, axis=1)[:, :n_neighbors]\n",
    "    indices = indices[sample_range, np.argsort(D[sample_range, indices])]\n",
    "    distances = D[sample_range, indices]\n",
    "    return indices, distances"
   ]
  },
  {
   "cell_type": "code",
   "execution_count": 9,
   "id": "228b76c4-fe63-4544-a9c5-3dbcef2e8bfc",
   "metadata": {},
   "outputs": [],
   "source": [
    "from sklearn.metrics import pairwise_distances\n",
    "_distances = pairwise_distances(andata.obsm['X_pca'], metric='euclidean')\n",
    "knn_indices, knn_distances = _get_indices_distances_from_dense_matrix(_distances, n_neighbors = 25)"
   ]
  },
  {
   "cell_type": "code",
   "execution_count": 15,
   "id": "36eac83a-e789-4dfa-9827-936f942ab3a5",
   "metadata": {},
   "outputs": [],
   "source": [
    "def _get_sparse_matrix_from_indices_distances_numpy(\n",
    "    indices, distances, n_obs, n_neighbors\n",
    "):\n",
    "    n_nonzero = n_obs * n_neighbors\n",
    "    indptr = np.arange(0, n_nonzero + 1, n_neighbors)\n",
    "    D = csr_matrix(\n",
    "        (\n",
    "            distances.copy().ravel(),  # copy the data, otherwise strange behavior here\n",
    "            indices.copy().ravel(),\n",
    "            indptr,\n",
    "        ),\n",
    "        shape=(n_obs, n_obs),\n",
    "    )\n",
    "    D.eliminate_zeros()\n",
    "    return D"
   ]
  },
  {
   "cell_type": "code",
   "execution_count": 16,
   "id": "bea50b80-8e1d-4b4a-a0a9-4fb47b1dd68c",
   "metadata": {},
   "outputs": [
    {
     "data": {
      "text/plain": [
       "<10000x10000 sparse matrix of type '<class 'numpy.float32'>'\n",
       "\twith 239444 stored elements in Compressed Sparse Row format>"
      ]
     },
     "execution_count": 16,
     "metadata": {},
     "output_type": "execute_result"
    }
   ],
   "source": [
    "_distances = _get_sparse_matrix_from_indices_distances_numpy(indices = knn_indices, distances = knn_distances, n_obs = andata.X.shape[0], n_neighbors =25)\n",
    "_distances"
   ]
  },
  {
   "cell_type": "code",
   "execution_count": 18,
   "id": "f66f5198-f054-4192-ac90-11e885816131",
   "metadata": {},
   "outputs": [
    {
     "data": {
      "text/plain": [
       "<10000x10000 sparse matrix of type '<class 'numpy.float32'>'\n",
       "\twith 239444 stored elements in Compressed Sparse Row format>"
      ]
     },
     "execution_count": 18,
     "metadata": {},
     "output_type": "execute_result"
    }
   ],
   "source": [
    "Dsq = _distances.power(2)\n",
    "Dsq"
   ]
  },
  {
   "cell_type": "code",
   "execution_count": 20,
   "id": "8c51db03-567b-485f-a276-09c4f2b7e45b",
   "metadata": {},
   "outputs": [],
   "source": [
    "def _ind_dist_slow(D,n_neighbors):\n",
    "    indices = np.zeros((D.shape[0], n_neighbors), dtype=int)\n",
    "    distances = np.zeros((D.shape[0], n_neighbors), dtype=D.dtype)\n",
    "    n_neighbors_m1 = n_neighbors - 1\n",
    "    for i in range(indices.shape[0]):\n",
    "        neighbors = D[i].nonzero()  # 'true' and 'spurious' zeros\n",
    "        indices[i, 0] = i\n",
    "        distances[i, 0] = 0\n",
    "        # account for the fact that there might be more than n_neighbors\n",
    "        # due to an approximate search\n",
    "        # [the point itself was not detected as its own neighbor during the search]\n",
    "        if len(neighbors[1]) > n_neighbors_m1:\n",
    "            sorted_indices = np.argsort(D[i][neighbors].A1)[:n_neighbors_m1]\n",
    "            indices[i, 1:] = neighbors[1][sorted_indices]\n",
    "            distances[i, 1:] = D[i][\n",
    "                neighbors[0][sorted_indices], neighbors[1][sorted_indices]\n",
    "            ]\n",
    "        else:\n",
    "            indices[i, 1:] = neighbors[1]\n",
    "            distances[i, 1:] = D[i][neighbors]\n",
    "    return indices, distances"
   ]
  },
  {
   "cell_type": "code",
   "execution_count": 26,
   "id": "af011e40-e173-45ad-a549-19f29cff5bcd",
   "metadata": {},
   "outputs": [],
   "source": [
    "n_neighbors = 25\n",
    "indices = np.zeros((Dsq.shape[0], n_neighbors), dtype=int)\n",
    "distances = np.zeros((Dsq.shape[0], n_neighbors), dtype=Dsq.dtype)\n",
    "n_neighbors_m1 = n_neighbors - 1"
   ]
  },
  {
   "cell_type": "code",
   "execution_count": 27,
   "id": "7e8596fb-3c1a-4a05-86f4-a1ba5af28870",
   "metadata": {},
   "outputs": [
    {
     "data": {
      "text/plain": [
       "10000"
      ]
     },
     "execution_count": 27,
     "metadata": {},
     "output_type": "execute_result"
    }
   ],
   "source": [
    "indices.shape[0]"
   ]
  },
  {
   "cell_type": "code",
   "execution_count": 28,
   "id": "6aed7396-1441-4fd7-90a6-e720c161a973",
   "metadata": {},
   "outputs": [
    {
     "data": {
      "text/plain": [
       "(array([0, 0, 0, 0, 0, 0, 0, 0, 0, 0, 0, 0, 0, 0, 0, 0, 0, 0, 0, 0, 0, 0,\n",
       "        0, 0], dtype=int32),\n",
       " array([  20,   84,  275, 1292, 1837, 1849, 2073, 2750, 2948, 3004, 3218,\n",
       "        3693, 3966, 4366, 4445, 4884, 5032, 5389, 5542, 5767, 5896, 7240,\n",
       "        8445, 9482], dtype=int32))"
      ]
     },
     "execution_count": 28,
     "metadata": {},
     "output_type": "execute_result"
    }
   ],
   "source": [
    "Dsq[0].nonzero()"
   ]
  },
  {
   "cell_type": "code",
   "execution_count": 32,
   "id": "8de4f25a-78c9-401e-b823-e20b22e46521",
   "metadata": {},
   "outputs": [
    {
     "data": {
      "text/plain": [
       "24"
      ]
     },
     "execution_count": 32,
     "metadata": {},
     "output_type": "execute_result"
    }
   ],
   "source": [
    "n_neighbors_m1"
   ]
  },
  {
   "cell_type": "code",
   "execution_count": 33,
   "id": "8ac431aa-5bc2-4f32-9fe7-5dfc2c9bbbe4",
   "metadata": {},
   "outputs": [
    {
     "ename": "ValueError",
     "evalue": "could not broadcast input array from shape (23,) into shape (24,)",
     "output_type": "error",
     "traceback": [
      "\u001b[0;31m---------------------------------------------------------------------------\u001b[0m",
      "\u001b[0;31mValueError\u001b[0m                                Traceback (most recent call last)",
      "Cell \u001b[0;32mIn[33], line 16\u001b[0m\n\u001b[1;32m     12\u001b[0m     distances[i, \u001b[38;5;241m1\u001b[39m:] \u001b[38;5;241m=\u001b[39m D[i][\n\u001b[1;32m     13\u001b[0m         neighbors[\u001b[38;5;241m0\u001b[39m][sorted_indices], neighbors[\u001b[38;5;241m1\u001b[39m][sorted_indices]\n\u001b[1;32m     14\u001b[0m     ]\n\u001b[1;32m     15\u001b[0m \u001b[38;5;28;01melse\u001b[39;00m:\n\u001b[0;32m---> 16\u001b[0m     \u001b[43mindices\u001b[49m\u001b[43m[\u001b[49m\u001b[43mi\u001b[49m\u001b[43m,\u001b[49m\u001b[43m \u001b[49m\u001b[38;5;241;43m1\u001b[39;49m\u001b[43m:\u001b[49m\u001b[43m]\u001b[49m \u001b[38;5;241m=\u001b[39m neighbors[\u001b[38;5;241m1\u001b[39m]\n\u001b[1;32m     17\u001b[0m     distances[i, \u001b[38;5;241m1\u001b[39m:] \u001b[38;5;241m=\u001b[39m D[i][neighbors]\n",
      "\u001b[0;31mValueError\u001b[0m: could not broadcast input array from shape (23,) into shape (24,)"
     ]
    }
   ],
   "source": [
    "D = Dsq\n",
    "for i in range(indices.shape[0]):\n",
    "    neighbors = D[i].nonzero()  # 'true' and 'spurious' zeros\n",
    "    indices[i, 0] = i\n",
    "    distances[i, 0] = 0\n",
    "    # account for the fact that there might be more than n_neighbors\n",
    "    # due to an approximate search\n",
    "    # [the point itself was not detected as its own neighbor during the search]\n",
    "    if len(neighbors[1]) > n_neighbors_m1:\n",
    "        sorted_indices = np.argsort(D[i][neighbors].A1)[:n_neighbors_m1]\n",
    "        indices[i, 1:] = neighbors[1][sorted_indices]\n",
    "        distances[i, 1:] = D[i][\n",
    "            neighbors[0][sorted_indices], neighbors[1][sorted_indices]\n",
    "        ]\n",
    "    else:\n",
    "        indices[i, 1:] = neighbors[1]\n",
    "        distances[i, 1:] = D[i][neighbors]"
   ]
  },
  {
   "cell_type": "code",
   "execution_count": 38,
   "id": "9ce417e2-f9e5-46e6-bb5e-186f7dfc6902",
   "metadata": {},
   "outputs": [
    {
     "data": {
      "text/plain": [
       "(24,)"
      ]
     },
     "execution_count": 38,
     "metadata": {},
     "output_type": "execute_result"
    }
   ],
   "source": [
    "indices[i, 1:].shape"
   ]
  },
  {
   "cell_type": "code",
   "execution_count": 21,
   "id": "a844ae49-763b-47a9-994e-a9935d85f619",
   "metadata": {},
   "outputs": [
    {
     "ename": "ValueError",
     "evalue": "could not broadcast input array from shape (23,) into shape (24,)",
     "output_type": "error",
     "traceback": [
      "\u001b[0;31m---------------------------------------------------------------------------\u001b[0m",
      "\u001b[0;31mValueError\u001b[0m                                Traceback (most recent call last)",
      "Cell \u001b[0;32mIn[21], line 1\u001b[0m\n\u001b[0;32m----> 1\u001b[0m indices, distances \u001b[38;5;241m=\u001b[39m \u001b[43m_ind_dist_slow\u001b[49m\u001b[43m(\u001b[49m\u001b[43mDsq\u001b[49m\u001b[43m,\u001b[49m\u001b[43m \u001b[49m\u001b[43mn_neighbors\u001b[49m\u001b[38;5;241;43m=\u001b[39;49m\u001b[38;5;241;43m25\u001b[39;49m\u001b[43m)\u001b[49m\n",
      "Cell \u001b[0;32mIn[20], line 19\u001b[0m, in \u001b[0;36m_ind_dist_slow\u001b[0;34m(D, n_neighbors)\u001b[0m\n\u001b[1;32m     15\u001b[0m         distances[i, \u001b[38;5;241m1\u001b[39m:] \u001b[38;5;241m=\u001b[39m D[i][\n\u001b[1;32m     16\u001b[0m             neighbors[\u001b[38;5;241m0\u001b[39m][sorted_indices], neighbors[\u001b[38;5;241m1\u001b[39m][sorted_indices]\n\u001b[1;32m     17\u001b[0m         ]\n\u001b[1;32m     18\u001b[0m     \u001b[38;5;28;01melse\u001b[39;00m:\n\u001b[0;32m---> 19\u001b[0m         \u001b[43mindices\u001b[49m\u001b[43m[\u001b[49m\u001b[43mi\u001b[49m\u001b[43m,\u001b[49m\u001b[43m \u001b[49m\u001b[38;5;241;43m1\u001b[39;49m\u001b[43m:\u001b[49m\u001b[43m]\u001b[49m \u001b[38;5;241m=\u001b[39m neighbors[\u001b[38;5;241m1\u001b[39m]\n\u001b[1;32m     20\u001b[0m         distances[i, \u001b[38;5;241m1\u001b[39m:] \u001b[38;5;241m=\u001b[39m D[i][neighbors]\n\u001b[1;32m     21\u001b[0m \u001b[38;5;28;01mreturn\u001b[39;00m indices, distances\n",
      "\u001b[0;31mValueError\u001b[0m: could not broadcast input array from shape (23,) into shape (24,)"
     ]
    }
   ],
   "source": [
    "indices, distances = _ind_dist_slow(Dsq, n_neighbors=25)"
   ]
  },
  {
   "cell_type": "code",
   "execution_count": null,
   "id": "190be336-d8ac-4aa8-bdc4-94f4b8ae33f4",
   "metadata": {},
   "outputs": [],
   "source": []
  }
 ],
 "metadata": {
  "kernelspec": {
   "display_name": "Python 3 (ipykernel)",
   "language": "python",
   "name": "python3"
  },
  "language_info": {
   "codemirror_mode": {
    "name": "ipython",
    "version": 3
   },
   "file_extension": ".py",
   "mimetype": "text/x-python",
   "name": "python",
   "nbconvert_exporter": "python",
   "pygments_lexer": "ipython3",
   "version": "3.11.9"
  }
 },
 "nbformat": 4,
 "nbformat_minor": 5
}
