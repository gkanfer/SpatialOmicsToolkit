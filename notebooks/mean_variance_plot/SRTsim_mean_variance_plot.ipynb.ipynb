{
 "cells": [
  {
   "cell_type": "markdown",
   "id": "2739c843-a619-4bf2-ace4-27d1cb132a32",
   "metadata": {},
   "source": [
    "This notebook focuses on generating spatial transcriptomics plots using the R library SRTsim. I begin by uploading count and coordinate CSV files, which represent gene expression and spatial coordinates, respectively. Using these inputs, I visualize the mean-variance relationship, an important step in understanding variability across spatially resolved transcriptomic data."
   ]
  },
  {
   "cell_type": "code",
   "execution_count": null,
   "id": "21c29b7c-0ce6-4825-ad43-10ab0dfa3f79",
   "metadata": {},
   "outputs": [],
   "source": [
    "import matplotlib.pyplot as plt\n",
    "from matplotlib.backends.backend_pdf import PdfPages\n",
    "from matplotlib.colors import ListedColormap\n",
    "import matplotlib.ticker as ticker\n",
    "import matplotlib.pyplot as plt\n",
    "import pandas as pd\n",
    "from matplotlib.ticker import MaxNLocator\n",
    "import seaborn as sns\n",
    "import os\n",
    "import gzip\n",
    "import numpy as np\n",
    "import scanpy as sc\n",
    "import squidpy as sq\n",
    "import cupy as cp\n",
    "import cupyx\n",
    "from cupyx.scipy.sparse import csr_matrix \n",
    "import os\n",
    "import time\n",
    "import rapids_singlecell as rsc\n",
    "import numpy as np\n",
    "import rmm\n",
    "from rmm.allocators.cupy import rmm_cupy_allocator\n",
    "import cupy\n",
    "\n",
    "rmm.reinitialize(\n",
    "    managed_memory=False,  # Allows oversubscription\n",
    "    pool_allocator=False,  # default is False\n",
    "    devices=0,  # GPU device IDs to register. By default registers only GPU 0.\n",
    ")\n",
    "cp.cuda.set_allocator(rmm_cupy_allocator)\n",
    "import zarr\n",
    "import pickle\n",
    "from collections import OrderedDict\n",
    "from scipy.sparse import csr_matrix\n",
    "import pandas as pd\n",
    "import scipy.stats as stats\n",
    "from statsmodels.stats.multitest import multipletests\n",
    "from scipy.sparse import csr_matrix\n",
    "import scipy\n",
    "from anndata import AnnData\n",
    "from collections import OrderedDict\n",
    "from rsc_functions.utility.applyqc import applyqc\n",
    "from rsc_functions.reports.plot import plot_spatial,plot_spatial_data, plot_dist\n",
    "from rsc_functions.utility.rank_genes_groups import return_markers,rank_genes_groups\n",
    "from rsc_functions.reports.plot import plot_expression"
   ]
  },
  {
   "cell_type": "code",
   "execution_count": null,
   "id": "05cce334-f7bf-4ba0-b6dc-221f35325cff",
   "metadata": {},
   "outputs": [],
   "source": [
    "counts = pd.read_csv('Rsim_count.csv')"
   ]
  },
  {
   "cell_type": "code",
   "execution_count": null,
   "id": "fce84576-e285-42b9-bcfb-aed87b684c9c",
   "metadata": {},
   "outputs": [],
   "source": [
    "adata = AnnData(counts.iloc[:,1:].to_numpy(), obsm={\"spatial\": pd.read_csv('Rsim_centroids.csv').loc[:,['x','y']].to_numpy()})"
   ]
  },
  {
   "cell_type": "code",
   "execution_count": null,
   "id": "353a517c-4677-42f2-a4a1-2b1d833fc49c",
   "metadata": {},
   "outputs": [],
   "source": [
    "mean = np.mean(adata.X,axis=1)\n",
    "var = np.var(adata.X,axis=1)\n",
    "covar = var + var/mean\n",
    "df_var = pd.DataFrame({'mean':mean,'variance':var,'covariance':covar})"
   ]
  },
  {
   "cell_type": "code",
   "execution_count": null,
   "id": "22adf71f-dc94-4589-8b81-93e0b6c7278b",
   "metadata": {},
   "outputs": [],
   "source": [
    "ax = sns.scatterplot(\n",
    "    data=df_var, x='mean', y=\"variance\", s=5\n",
    ")"
   ]
  },
  {
   "cell_type": "code",
   "execution_count": null,
   "id": "bfde2477-ba79-4be2-9eec-6ca4ae804b07",
   "metadata": {},
   "outputs": [],
   "source": [
    "from skmisc.loess import loess"
   ]
  },
  {
   "cell_type": "code",
   "execution_count": null,
   "id": "613ba710-0234-4acd-ae3e-16ae70a741e5",
   "metadata": {},
   "outputs": [],
   "source": [
    "estimat_var = cp.zeros(adata.shape[0], dtype=np.float64)\n",
    "not_const = var > 0"
   ]
  },
  {
   "cell_type": "code",
   "execution_count": null,
   "id": "11f2ffd0-927f-46a4-be6c-7501c3780573",
   "metadata": {},
   "outputs": [],
   "source": [
    "model = loess(mean, var, span=0.3, degree=2)\n",
    "model.fit()\n",
    "estimat_var[not_const] = model.outputs.fitted_values"
   ]
  },
  {
   "cell_type": "code",
   "execution_count": null,
   "id": "a49a2191-a946-4925-a35d-7377167b6cbc",
   "metadata": {},
   "outputs": [],
   "source": [
    "reg_std = cp.sqrt(10**estimat_var)"
   ]
  }
 ],
 "metadata": {
  "kernelspec": {
   "display_name": "Python 3 (ipykernel)",
   "language": "python",
   "name": "python3"
  },
  "language_info": {
   "codemirror_mode": {
    "name": "ipython",
    "version": 3
   },
   "file_extension": ".py",
   "mimetype": "text/x-python",
   "name": "python",
   "nbconvert_exporter": "python",
   "pygments_lexer": "ipython3",
   "version": "3.11.9"
  }
 },
 "nbformat": 4,
 "nbformat_minor": 5
}
