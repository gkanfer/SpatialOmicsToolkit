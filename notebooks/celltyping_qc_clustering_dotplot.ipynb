{
 "cells": [
  {
   "cell_type": "code",
   "execution_count": null,
   "id": "e21ac3d0",
   "metadata": {},
   "outputs": [],
   "source": [
    "from skimage import io\n",
    "import numpy as np\n",
    "import os\n",
    "import scanpy as sc\n",
    "import squidpy as sq\n",
    "import pandas as pd\n",
    "import matplotlib.pyplot as plt\n",
    "from matplotlib.backends.backend_pdf import PdfPages\n",
    "import seaborn as sns\n",
    "import os\n",
    "import gzip\n",
    "import numpy as np\n",
    "import celltypist\n",
    "from celltypist import models\n",
    "\n",
    "\n",
    "plt.rcParams['figure.dpi'] = 150\n",
    "plt.rcParams['font.family'] = ['serif']\n",
    "plt.rcParams['font.size'] = 12\n",
    "plt.rcParams['axes.labelsize'] = 12\n",
    "plt.rcParams['axes.titlesize'] = 12\n",
    "plt.rcParams['xtick.labelsize'] = 12\n",
    "plt.rcParams['ytick.labelsize'] = 12"
   ]
  },
  {
   "cell_type": "code",
   "execution_count": null,
   "id": "1ad32a8f",
   "metadata": {},
   "outputs": [],
   "source": [
    "def calcQCmat(andata):\n",
    "    andata.var_names_make_unique()\n",
    "    andata.var[\"mt\"] = andata.var_names.str.startswith(\"mt-\")\n",
    "    andata.var[\"ribo\"] = andata.var_names.str.startswith((\"RPS\", \"RPL\"))\n",
    "    andata.var[\"hb\"] = andata.var_names.str.contains(\"^HB[^(P)]\")\n",
    "    sc.pp.calculate_qc_metrics(andata, qc_vars=[\"mt\", \"ribo\", \"hb\"], inplace=True, log1p=True)\n",
    "    return andata\n",
    "path_016 = \"/data/kanferg/Sptial_Omics/playGround/Data/Visium_HD_Mouse_Brain_square_example/square_016um\"\n",
    "andata016_ = sc.read_visium(path=path_016)\n",
    "andata016 = calcQCmat(andata016_)\n",
    "print(f\"{np.shape(andata016.X.todense())}\")\n",
    "sc.pp.filter_cells(andata016, min_counts = 50)\n",
    "sc.pp.filter_cells(andata016, min_genes = 80)"
   ]
  },
  {
   "cell_type": "code",
   "execution_count": null,
   "id": "b7243eaa",
   "metadata": {},
   "outputs": [],
   "source": [
    "plt.rcParams['font.size'] = 12\n",
    "fig, axs = plt.subplots(1, 2, figsize=(7, 3))  # Adjusted figsize for better readability\n",
    "axs[0].set_title('Number of Cells with Detected \\n Gene Expression')\n",
    "axs[1].set_title('Number of Cells with Detected \\n Gene Expression')\n",
    "sns.histplot(andata016.var['n_cells_by_counts'], kde=False, ax=axs[0],bins = 50)\n",
    "sns.histplot(andata016.var['n_cells_by_counts'][andata016.var['n_cells_by_counts'] < 50], kde=False, ax=axs[1])\n",
    "plt.subplots_adjust(wspace=0.5)\n",
    "plt.suptitle(\"Number of Cells with Detected Gene Expression\", y=1.10)"
   ]
  },
  {
   "cell_type": "code",
   "execution_count": null,
   "id": "e4312837",
   "metadata": {},
   "outputs": [],
   "source": [
    "andata016 = andata016[:,andata016.var.n_cells_by_counts > 50]\n",
    "print(f'{andata016}')"
   ]
  },
  {
   "cell_type": "code",
   "execution_count": null,
   "id": "391b133f",
   "metadata": {},
   "outputs": [],
   "source": [
    "print(f\"{np.shape(andata016.X.todense())}\")\n",
    "andata016 = andata016[andata016.obs[\"pct_counts_mt\"] < 20]\n",
    "print(f\"{np.shape(andata016.X.todense())}\")"
   ]
  },
  {
   "cell_type": "code",
   "execution_count": null,
   "id": "ce3a0292",
   "metadata": {},
   "outputs": [],
   "source": [
    "sc.pp.normalize_total(andata016)\n",
    "sc.pp.log1p(andata016)\n",
    "log1p_data = andata016.X.todense()\n",
    "sc.pp.highly_variable_genes(andata016)\n",
    "sc.pp.scale(andata016)\n",
    "andata016.obsm['spatial'] = np.array(andata016.obsm['spatial'], dtype=np.float64)\n",
    "sc.pp.pca(andata016, n_comps=20)\n",
    "sc.pp.neighbors(andata016)\n",
    "sc.tl.umap(andata016)\n",
    "sc.tl.leiden(andata016, key_added=\"clusters\", flavor=\"igraph\", directed=False, n_iterations=2)"
   ]
  },
  {
   "cell_type": "code",
   "execution_count": null,
   "id": "88087365",
   "metadata": {},
   "outputs": [],
   "source": [
    "from matplotlib.colors import ListedColormap\n",
    "\n",
    "# Combine multiple palettes to create a larger custom palette\n",
    "palette = sns.color_palette(\"tab20\") + sns.color_palette(\"tab20b\") + sns.color_palette(\"tab20c\")\n",
    "\n",
    "# Convert the combined palette to a ListedColormap\n",
    "listed_cmap = ListedColormap(palette)\n",
    "\n",
    "# Create the figure and axis\n",
    "fig, ax = plt.subplots(1, 1, figsize=(4, 3))\n",
    "\n",
    "# Plot the spatial scatter plot on the specified axis\n",
    "sq.pl.spatial_scatter(andata016, color=\"clusters\", ax=ax, palette=listed_cmap)"
   ]
  },
  {
   "cell_type": "markdown",
   "id": "db971c7d",
   "metadata": {},
   "source": [
    "# From cluster differentially expressed genes to cluster annotation"
   ]
  },
  {
   "cell_type": "code",
   "execution_count": null,
   "id": "a136c850",
   "metadata": {},
   "outputs": [],
   "source": [
    "sc.tl.rank_genes_groups(\n",
    "    andata016, groupby=\"clusters\", method=\"wilcoxon\", key_added=\"dea_clusters\"\n",
    ")"
   ]
  },
  {
   "cell_type": "code",
   "execution_count": null,
   "id": "0decc2a4",
   "metadata": {},
   "outputs": [],
   "source": [
    "sc.pl.rank_genes_groups_dotplot(\n",
    "    andata016, groupby=\"clusters\", standard_scale=\"var\", n_genes=5, key=\"dea_clusters\"\n",
    ")"
   ]
  },
  {
   "cell_type": "markdown",
   "id": "2071f317",
   "metadata": {},
   "source": [
    "## Refining Differential Gene Expression Analysis with Filter Parameters "
   ]
  },
  {
   "cell_type": "markdown",
   "id": "a7005c71",
   "metadata": {},
   "source": [
    "In Scanpy, the sc.tl.filter_rank_genes_groups function is used to filter the results of differential expression analysis. The parameters min_in_group_fraction and max_out_group_fraction help refine the selection of marker genes based on their expression patterns across groups.\n",
    "\n",
    "Here's what these parameters mean:\n",
    "\n",
    "min_in_group_fraction: This parameter specifies the minimum fraction of cells within a group (cluster) that must express a gene for it to be considered as a marker gene for that group. For example, if min_in_group_fraction=0.2, it means that at least 20% of the cells in the group must express the gene for it to be considered.\n",
    "\n",
    "max_out_group_fraction: This parameter specifies the maximum fraction of cells outside the group that can express the gene for it to be considered a marker gene. For example, if max_out_group_fraction=0.2, it means that no more than 20% of the cells outside the group can express the gene for it to be considered specific to the group.\n",
    "\n",
    "Here’s how you might explain this in your presentation:\n",
    "\n",
    "\"Refining Differential Gene Expression Analysis with Filter Parameters\"\n",
    "\n",
    "When performing differential gene expression analysis, we can apply additional filters to refine our selection of marker genes:\n",
    "\n",
    "min_in_group_fraction: Ensures that a gene is expressed in a minimum fraction of cells within the target cluster (e.g., at least 20%).\n",
    "max_out_group_fraction: Limits the fraction of cells outside the target cluster that can express the gene (e.g., no more than 20%).\n",
    "This approach helps in identifying more specific and relevant marker genes for each cluster, leading to more accurate biological insights."
   ]
  },
  {
   "cell_type": "code",
   "execution_count": null,
   "id": "2b2cdf8c",
   "metadata": {},
   "outputs": [],
   "source": [
    "sc.tl.filter_rank_genes_groups(\n",
    "    andata016,\n",
    "    min_in_group_fraction=0.01,\n",
    "    max_out_group_fraction=0.01,\n",
    "    key=\"dea_clusters\",\n",
    "    key_added=\"dea_clusters_filtered\",\n",
    ")"
   ]
  },
  {
   "cell_type": "code",
   "execution_count": null,
   "id": "d80d615a",
   "metadata": {},
   "outputs": [],
   "source": [
    "andata016.uns['dea_clusters']['logfoldchanges']"
   ]
  },
  {
   "cell_type": "code",
   "execution_count": null,
   "id": "9626bfc9",
   "metadata": {},
   "outputs": [],
   "source": [
    "# Visualize the filtered genes:\n",
    "sc.pl.rank_genes_groups_dotplot(\n",
    "    andata016,\n",
    "    groupby=\"clusters\",\n",
    "    standard_scale=\"var\",\n",
    "    n_genes=5,\n",
    "    key=\"dea_clusters_filtered\",\n",
    ")"
   ]
  },
  {
   "cell_type": "markdown",
   "id": "4e2fb9bd",
   "metadata": {},
   "source": [
    "## Optimizing Cluster Granularity \n",
    "\n",
    "To reduce the number of clusters in your Leiden clustering results, you can adjust the resolution parameter in the sc.tl.leiden function. The resolution parameter controls the granularity of the clustering: higher values lead to more clusters, and lower values lead to fewer clusters.\n",
    "\n",
    "ou can experiment with different values of the resolution parameter to find the optimal number of clusters for your analysis. For example, you might try resolution=0.1 for fewer clusters or resolution=1.0 for more clusters. Adjust the resolution until you achieve a satisfactory number of clusters."
   ]
  },
  {
   "cell_type": "code",
   "execution_count": null,
   "id": "5c891fe9",
   "metadata": {},
   "outputs": [],
   "source": [
    "from matplotlib.colors import ListedColormap\n",
    "\n",
    "# Combine multiple palettes to create a larger custom palette\n",
    "palette = sns.color_palette(\"tab20\") + sns.color_palette(\"tab20b\") + sns.color_palette(\"tab20c\")\n",
    "\n",
    "# Convert the combined palette to a ListedColormap\n",
    "listed_cmap = ListedColormap(palette)\n"
   ]
  },
  {
   "cell_type": "code",
   "execution_count": null,
   "id": "74062980",
   "metadata": {},
   "outputs": [],
   "source": [
    "sns.set_context(\"paper\", font_scale=1)\n",
    "\n",
    "resolutions = [0.1, 0.5, 1.0, 2.0]\n",
    "\n",
    "res = resolutions[0]\n",
    "\n",
    "fig, ax = plt.subplots(1, 1, figsize=(4, 3))\n",
    "\n",
    "sc.tl.leiden(andata016, key_added=f'clusters_res_{res}', flavor=\"igraph\", directed=False, resolution=res, n_iterations=2)\n",
    "sq.pl.spatial_scatter(andata016, color=f'clusters_res_{res}', ax=ax, palette=listed_cmap)\n",
    "ax.set_title(f'Leiden Clustering (resolution={res})')\n"
   ]
  },
  {
   "cell_type": "code",
   "execution_count": null,
   "id": "3b055ed6",
   "metadata": {},
   "outputs": [],
   "source": [
    "sns.set_context(\"paper\", font_scale=1)\n",
    "\n",
    "resolutions = [0.1, 0.5, 1.0, 2.0]\n",
    "\n",
    "res = resolutions[1]\n",
    "\n",
    "fig, ax = plt.subplots(1, 1, figsize=(4, 3))\n",
    "\n",
    "sc.tl.leiden(andata016, key_added=f'clusters_res_{res}', flavor=\"igraph\", directed=False, resolution=res, n_iterations=2)\n",
    "sq.pl.spatial_scatter(andata016, color=f'clusters_res_{res}', ax=ax, palette=listed_cmap)\n",
    "ax.set_title(f'Leiden Clustering (resolution={res})')\n"
   ]
  },
  {
   "cell_type": "code",
   "execution_count": null,
   "id": "e6eba782",
   "metadata": {},
   "outputs": [],
   "source": [
    "sns.set_context(\"paper\", font_scale=1)\n",
    "\n",
    "resolutions = [0.1, 0.5, 1.0, 2.0]\n",
    "\n",
    "res = resolutions[2]\n",
    "\n",
    "fig, ax = plt.subplots(1, 1, figsize=(4, 3))\n",
    "\n",
    "sc.tl.leiden(andata016, key_added=f'clusters_res_{res}', flavor=\"igraph\", directed=False, resolution=res, n_iterations=2)\n",
    "sq.pl.spatial_scatter(andata016, color=f'clusters_res_{res}', ax=ax, palette=listed_cmap)\n",
    "ax.set_title(f'Leiden Clustering (resolution={res})')"
   ]
  },
  {
   "cell_type": "markdown",
   "id": "9b7f9fd6",
   "metadata": {},
   "source": [
    "The selected leiden resolution would be  resolutions = 0.5."
   ]
  },
  {
   "cell_type": "code",
   "execution_count": null,
   "id": "7f563c82",
   "metadata": {},
   "outputs": [],
   "source": [
    "sns.set_context(\"paper\", font_scale=1)\n",
    "\n",
    "resolutions = [0.1, 0.5, 1.0, 2.0]\n",
    "\n",
    "res = resolutions[1]\n",
    "\n",
    "fig, ax = plt.subplots(1, 1, figsize=(4, 3))\n",
    "\n",
    "sc.tl.leiden(andata016, key_added=f'clusters_res_{res}', flavor=\"igraph\", directed=False, resolution=res, n_iterations=2)\n",
    "sq.pl.spatial_scatter(andata016, color=f'clusters_res_{res}', ax=ax, palette=listed_cmap)\n",
    "ax.set_title(f'Leiden Clustering (resolution={res})')\n"
   ]
  },
  {
   "cell_type": "markdown",
   "id": "118291b6",
   "metadata": {},
   "source": [
    "to incorporate spatial information into your clustering analysis in Squidpy and test different parameters for building spatial neighbors, you can use the sq.gr.spatial_neighbors function. This will allow you to leverage spatial proximity in addition to gene expression data.\n",
    "\n"
   ]
  },
  {
   "cell_type": "code",
   "execution_count": null,
   "id": "edb8ab9b",
   "metadata": {
    "scrolled": true
   },
   "outputs": [],
   "source": [
    "sc.pl.rank_genes_groups_dotplot(\n",
    "    andata016, groupby=\"clusters_res_0.5\", standard_scale=\"var\", n_genes=2, key=\"dea_clusters\"\n",
    ")"
   ]
  },
  {
   "cell_type": "code",
   "execution_count": null,
   "id": "d9379574",
   "metadata": {},
   "outputs": [],
   "source": [
    "andata016.obsm['spatial']"
   ]
  },
  {
   "cell_type": "code",
   "execution_count": null,
   "id": "0fd3d06b",
   "metadata": {},
   "outputs": [],
   "source": [
    "sq.gr.spatial_neighbors(andata016,coord_type=\"grid\", key_added='spatial_neighbors')"
   ]
  },
  {
   "cell_type": "code",
   "execution_count": null,
   "id": "088be8bc",
   "metadata": {},
   "outputs": [],
   "source": [
    "andata016.obs['clusters_spatial']"
   ]
  },
  {
   "cell_type": "code",
   "execution_count": null,
   "id": "c3ce9cb6",
   "metadata": {},
   "outputs": [],
   "source": [
    "sc.tl.leiden(andata016, key_added=f'clusters_spatial', neighbors_key=andata016.obsp['spatial_neighbors_connectivities'])"
   ]
  },
  {
   "cell_type": "code",
   "execution_count": null,
   "id": "e32aaa16",
   "metadata": {},
   "outputs": [],
   "source": [
    "fig, ax = plt.subplots(1, 1, figsize=(4, 3))\n",
    "sq.pl.spatial_scatter(andata016, color=f'clusters_spatial', ax=ax, palette=listed_cmap)\n",
    "ax.set_title(f'')"
   ]
  },
  {
   "cell_type": "code",
   "execution_count": null,
   "id": "49b6a292",
   "metadata": {},
   "outputs": [],
   "source": [
    "andata016.obsm['spatial'] = np.array(andata016.obsm['spatial'], dtype=np.float64)\n",
    "\n",
    "sq.gr.spatial_neighbors(andata016,coord_type=\"grid\", n_neighs=6, n_rings=8, key_added='spatial_neighbors')\n",
    "# Perform clustering using the spatial neighbors graph\n",
    "sc.tl.leiden(andata016, key_added=f'clusters_spatial', adjacency=andata016.obsp['spatial_neighbors_connectivities'])\n",
    "\n",
    "fig, ax = plt.subplots(1, 1, figsize=(4, 3))\n",
    "sq.pl.spatial_scatter(andata016, color=f'clusters_spatial', ax=ax, palette=listed_cmap)\n",
    "ax.set_title(f'')\n"
   ]
  },
  {
   "cell_type": "code",
   "execution_count": null,
   "id": "ee6b058a",
   "metadata": {},
   "outputs": [],
   "source": [
    "def calcQCmat(andata):\n",
    "    andata.var_names_make_unique()\n",
    "    andata.var[\"mt\"] = andata.var_names.str.startswith(\"mt-\")\n",
    "    andata.var[\"ribo\"] = andata.var_names.str.startswith((\"RPS\", \"RPL\"))\n",
    "    andata.var[\"hb\"] = andata.var_names.str.contains(\"^HB[^(P)]\")\n",
    "    sc.pp.calculate_qc_metrics(andata, qc_vars=[\"mt\", \"ribo\", \"hb\"], inplace=True, log1p=True)\n",
    "    return andata\n",
    "path_016 = \"/data/kanferg/Sptial_Omics/playGround/Data/Visium_HD_Mouse_Brain_square_example/square_016um\"\n",
    "andata016_ = sc.read_visium(path=path_016)\n",
    "andata016 = calcQCmat(andata016_)\n",
    "print(f\"{np.shape(andata016.X.todense())}\")\n",
    "sc.pp.filter_cells(andata016, min_counts = 50)\n",
    "sc.pp.filter_cells(andata016, min_genes = 80)"
   ]
  }
 ],
 "metadata": {
  "kernelspec": {
   "display_name": "Python 3 (ipykernel)",
   "language": "python",
   "name": "python3"
  },
  "language_info": {
   "codemirror_mode": {
    "name": "ipython",
    "version": 3
   },
   "file_extension": ".py",
   "mimetype": "text/x-python",
   "name": "python",
   "nbconvert_exporter": "python",
   "pygments_lexer": "ipython3",
   "version": "3.10.12"
  }
 },
 "nbformat": 4,
 "nbformat_minor": 5
}
