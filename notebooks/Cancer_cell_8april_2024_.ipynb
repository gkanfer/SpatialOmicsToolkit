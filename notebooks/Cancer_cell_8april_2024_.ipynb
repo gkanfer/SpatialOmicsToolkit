{
 "cells": [
  {
   "cell_type": "markdown",
   "id": "0a4b5d71",
   "metadata": {},
   "source": [
    "https://www.sciencedirect.com/science/article/pii/S1535610824000461?via%3Dihub#app2\n",
    "https://www.ncbi.nlm.nih.gov/geo/query/acc.cgi?acc=GSE247629"
   ]
  },
  {
   "cell_type": "code",
   "execution_count": 1,
   "id": "f4343954",
   "metadata": {},
   "outputs": [],
   "source": [
    "import scanpy as sc\n",
    "import squidpy as sq\n",
    "import pandas as pd\n",
    "import matplotlib.pyplot as plt\n",
    "import seaborn as sns\n",
    "import os\n",
    "import gzip\n",
    "import numpy as np"
   ]
  },
  {
   "cell_type": "code",
   "execution_count": 2,
   "id": "9e7b6bd5",
   "metadata": {},
   "outputs": [
    {
     "data": {
      "text/plain": [
       "['GSM7898160_P4_barcodes.tsv.gz',\n",
       " 'GSM7898159_P3_features.tsv.gz',\n",
       " 'GSM7898159_P3_matrix.mtx.gz',\n",
       " 'GSM7898157_P1_features.tsv.gz',\n",
       " 'GSE247629_RAW.tar',\n",
       " 'GSM7898158_P2_barcodes.tsv.gz',\n",
       " 'GSM7898158_P2_matrix.mtx.gz',\n",
       " 'GSM7898157_P1_barcodes.tsv.gz',\n",
       " 'GSM7898157_P1_matrix.mtx.gz',\n",
       " 'GSM7898160_P4_features.tsv.gz',\n",
       " 'GSM7898159_P3_barcodes.tsv.gz',\n",
       " 'GSM7898158_P2_features.tsv.gz',\n",
       " 'unzip_script.sh',\n",
       " 'GSM7898160_P4_matrix.mtx.gz']"
      ]
     },
     "execution_count": 2,
     "metadata": {},
     "output_type": "execute_result"
    }
   ],
   "source": [
    "path = '/data/kanferg/Sptial_Omics/playGround/Data/GSE247629_RAW'\n",
    "os.listdir('/data/kanferg/Sptial_Omics/playGround/Data/GSE247629_RAW')"
   ]
  },
  {
   "cell_type": "code",
   "execution_count": 3,
   "id": "f09cc299",
   "metadata": {},
   "outputs": [],
   "source": [
    "andatap1 = sc.read_10x_mtx(path = path,prefix = 'GSM7898157_P1_')\n",
    "andatap2 = sc.read_10x_mtx(path = path,prefix = 'GSM7898158_P2_')\n",
    "andatap3 = sc.read_10x_mtx(path = path,prefix = 'GSM7898159_P3_')\n",
    "andatap4 = sc.read_10x_mtx(path = path,prefix = 'GSM7898160_P4_')"
   ]
  },
  {
   "cell_type": "code",
   "execution_count": 10,
   "id": "8b546e47",
   "metadata": {},
   "outputs": [
    {
     "name": "stdout",
     "output_type": "stream",
     "text": [
      "spots: 4992 genes: 18050\n",
      "spots: 3313 genes: 18050\n",
      "spots: 4680 genes: 18050\n",
      "spots: 2621 genes: 18050\n"
     ]
    }
   ],
   "source": [
    "def print_matrix(andata):\n",
    "    print(f'spots: {andata.n_obs} genes: {andata.n_vars}')\n",
    "print_matrix(andatap1)\n",
    "print_matrix(andatap2)\n",
    "print_matrix(andatap3)\n",
    "print_matrix(andatap4)"
   ]
  },
  {
   "cell_type": "markdown",
   "id": "dadc12c3",
   "metadata": {},
   "source": [
    "Content of the barcodes.tsv.gz and features.tsv"
   ]
  },
  {
   "cell_type": "code",
   "execution_count": 19,
   "id": "7197edc1",
   "metadata": {},
   "outputs": [
    {
     "name": "stdout",
     "output_type": "stream",
     "text": [
      "barcode Rows number: 4991 Columns number 1\n",
      "features Rows number: 18049 Columns number 3\n"
     ]
    }
   ],
   "source": [
    "def read_barcode_features(path,bc_file,ft_file):\n",
    "    bc = os.path.join(path,bc_file)\n",
    "    ft = os.path.join(path,ft_file)\n",
    "    def unzip_read(file_path):\n",
    "        with gzip.open(file_path, 'rt') as f:\n",
    "            df = pd.read_csv(f, sep='\\t')\n",
    "        return df\n",
    "    def report_df(df,text_table_type):\n",
    "        print(f'{str(text_table_type)} Rows number: {len(df)} Columns number {len(df.columns)}')\n",
    "    df_bc = unzip_read(bc)\n",
    "    report_df(df_bc,\"barcode\")\n",
    "    df_ft = unzip_read(ft)\n",
    "    report_df(df_ft,\"features\")\n",
    "    return df_bc, df_ft\n",
    "\n",
    "path = path\n",
    "bc_file = 'GSM7898157_P1_barcodes.tsv.gz'\n",
    "ft_file = 'GSM7898159_P3_features.tsv.gz'\n",
    "df_bc, df_ft = read_barcode_features(path,bc_file,ft_file)"
   ]
  },
  {
   "cell_type": "markdown",
   "id": "9bc82771",
   "metadata": {},
   "source": [
    "1) Matrix.mtx.gz: This file contains the sparse matrix of gene expression data in the Market Matrix (MTX) format. Each entry in this matrix corresponds to a count of transcripts (or expression level) of a specific gene in a specific spatial barcode. The rows typically correspond to genes, and the columns correspond to the barcodes (cells or spots). The values in the matrix are the number of reads (or UMIs - Unique Molecular Identifiers) that have been mapped to each gene for each barcode. This is essentially where the actual data on gene expression is stored in quantitative form.\n",
    "\n",
    "2) Gene count information: The gene count data is stored in the matrix.mtx.gz file. Each entry in this matrix is a gene count, indicating how many times a particular gene's RNA transcript was detected in a particular spatial barcode (spot on the tissue section). The matrix is used in conjunction with the features.tsv.gz and barcodes.tsv.gz files to interpret which gene and which spatial barcode each count corresponds to.\n",
    "\n",
    "Regarding the barcode sequence (e.g., AACACGTGCATCGCAC-1), the sequence itself (before the dash) represents the unique identifier for a particular spot on the tissue sample where the gene expression is being measured. The \"-1\" at the end typically indicates a unique identifier for a specific sample or replicate in experiments where multiple samples or replicates are processed together. It helps differentiate barcodes that otherwise might be identical across different samples or sections."
   ]
  },
  {
   "cell_type": "code",
   "execution_count": 25,
   "id": "7e38b3dc",
   "metadata": {},
   "outputs": [],
   "source": [
    "from scipy.io import mmread"
   ]
  },
  {
   "cell_type": "code",
   "execution_count": 28,
   "id": "6d10d2f0",
   "metadata": {},
   "outputs": [
    {
     "data": {
      "text/html": [
       "<div>\n",
       "<style scoped>\n",
       "    .dataframe tbody tr th:only-of-type {\n",
       "        vertical-align: middle;\n",
       "    }\n",
       "\n",
       "    .dataframe tbody tr th {\n",
       "        vertical-align: top;\n",
       "    }\n",
       "\n",
       "    .dataframe thead th {\n",
       "        text-align: right;\n",
       "    }\n",
       "</style>\n",
       "<table border=\"1\" class=\"dataframe\">\n",
       "  <thead>\n",
       "    <tr style=\"text-align: right;\">\n",
       "      <th></th>\n",
       "      <th>0</th>\n",
       "      <th>1</th>\n",
       "      <th>2</th>\n",
       "      <th>3</th>\n",
       "      <th>4</th>\n",
       "      <th>5</th>\n",
       "      <th>6</th>\n",
       "      <th>7</th>\n",
       "      <th>8</th>\n",
       "      <th>9</th>\n",
       "      <th>...</th>\n",
       "      <th>4982</th>\n",
       "      <th>4983</th>\n",
       "      <th>4984</th>\n",
       "      <th>4985</th>\n",
       "      <th>4986</th>\n",
       "      <th>4987</th>\n",
       "      <th>4988</th>\n",
       "      <th>4989</th>\n",
       "      <th>4990</th>\n",
       "      <th>4991</th>\n",
       "    </tr>\n",
       "  </thead>\n",
       "  <tbody>\n",
       "    <tr>\n",
       "      <th>0</th>\n",
       "      <td>1</td>\n",
       "      <td>1</td>\n",
       "      <td>0</td>\n",
       "      <td>0</td>\n",
       "      <td>0</td>\n",
       "      <td>0</td>\n",
       "      <td>0</td>\n",
       "      <td>1</td>\n",
       "      <td>0</td>\n",
       "      <td>0</td>\n",
       "      <td>...</td>\n",
       "      <td>0</td>\n",
       "      <td>0</td>\n",
       "      <td>0</td>\n",
       "      <td>0</td>\n",
       "      <td>0</td>\n",
       "      <td>0</td>\n",
       "      <td>0</td>\n",
       "      <td>0</td>\n",
       "      <td>1</td>\n",
       "      <td>0</td>\n",
       "    </tr>\n",
       "    <tr>\n",
       "      <th>1</th>\n",
       "      <td>0</td>\n",
       "      <td>2</td>\n",
       "      <td>0</td>\n",
       "      <td>0</td>\n",
       "      <td>0</td>\n",
       "      <td>0</td>\n",
       "      <td>1</td>\n",
       "      <td>1</td>\n",
       "      <td>0</td>\n",
       "      <td>0</td>\n",
       "      <td>...</td>\n",
       "      <td>1</td>\n",
       "      <td>0</td>\n",
       "      <td>0</td>\n",
       "      <td>0</td>\n",
       "      <td>1</td>\n",
       "      <td>1</td>\n",
       "      <td>0</td>\n",
       "      <td>0</td>\n",
       "      <td>0</td>\n",
       "      <td>0</td>\n",
       "    </tr>\n",
       "    <tr>\n",
       "      <th>2</th>\n",
       "      <td>0</td>\n",
       "      <td>0</td>\n",
       "      <td>0</td>\n",
       "      <td>0</td>\n",
       "      <td>0</td>\n",
       "      <td>0</td>\n",
       "      <td>0</td>\n",
       "      <td>0</td>\n",
       "      <td>0</td>\n",
       "      <td>3</td>\n",
       "      <td>...</td>\n",
       "      <td>0</td>\n",
       "      <td>0</td>\n",
       "      <td>0</td>\n",
       "      <td>1</td>\n",
       "      <td>2</td>\n",
       "      <td>1</td>\n",
       "      <td>0</td>\n",
       "      <td>0</td>\n",
       "      <td>1</td>\n",
       "      <td>0</td>\n",
       "    </tr>\n",
       "    <tr>\n",
       "      <th>3</th>\n",
       "      <td>0</td>\n",
       "      <td>0</td>\n",
       "      <td>0</td>\n",
       "      <td>0</td>\n",
       "      <td>0</td>\n",
       "      <td>0</td>\n",
       "      <td>0</td>\n",
       "      <td>0</td>\n",
       "      <td>0</td>\n",
       "      <td>0</td>\n",
       "      <td>...</td>\n",
       "      <td>0</td>\n",
       "      <td>0</td>\n",
       "      <td>0</td>\n",
       "      <td>2</td>\n",
       "      <td>1</td>\n",
       "      <td>1</td>\n",
       "      <td>0</td>\n",
       "      <td>0</td>\n",
       "      <td>0</td>\n",
       "      <td>0</td>\n",
       "    </tr>\n",
       "    <tr>\n",
       "      <th>4</th>\n",
       "      <td>0</td>\n",
       "      <td>0</td>\n",
       "      <td>0</td>\n",
       "      <td>0</td>\n",
       "      <td>0</td>\n",
       "      <td>0</td>\n",
       "      <td>0</td>\n",
       "      <td>0</td>\n",
       "      <td>0</td>\n",
       "      <td>0</td>\n",
       "      <td>...</td>\n",
       "      <td>0</td>\n",
       "      <td>0</td>\n",
       "      <td>0</td>\n",
       "      <td>0</td>\n",
       "      <td>1</td>\n",
       "      <td>0</td>\n",
       "      <td>0</td>\n",
       "      <td>0</td>\n",
       "      <td>1</td>\n",
       "      <td>0</td>\n",
       "    </tr>\n",
       "    <tr>\n",
       "      <th>...</th>\n",
       "      <td>...</td>\n",
       "      <td>...</td>\n",
       "      <td>...</td>\n",
       "      <td>...</td>\n",
       "      <td>...</td>\n",
       "      <td>...</td>\n",
       "      <td>...</td>\n",
       "      <td>...</td>\n",
       "      <td>...</td>\n",
       "      <td>...</td>\n",
       "      <td>...</td>\n",
       "      <td>...</td>\n",
       "      <td>...</td>\n",
       "      <td>...</td>\n",
       "      <td>...</td>\n",
       "      <td>...</td>\n",
       "      <td>...</td>\n",
       "      <td>...</td>\n",
       "      <td>...</td>\n",
       "      <td>...</td>\n",
       "      <td>...</td>\n",
       "    </tr>\n",
       "    <tr>\n",
       "      <th>18045</th>\n",
       "      <td>44</td>\n",
       "      <td>64</td>\n",
       "      <td>80</td>\n",
       "      <td>71</td>\n",
       "      <td>75</td>\n",
       "      <td>2</td>\n",
       "      <td>50</td>\n",
       "      <td>89</td>\n",
       "      <td>59</td>\n",
       "      <td>73</td>\n",
       "      <td>...</td>\n",
       "      <td>85</td>\n",
       "      <td>31</td>\n",
       "      <td>55</td>\n",
       "      <td>49</td>\n",
       "      <td>99</td>\n",
       "      <td>39</td>\n",
       "      <td>5</td>\n",
       "      <td>82</td>\n",
       "      <td>46</td>\n",
       "      <td>3</td>\n",
       "    </tr>\n",
       "    <tr>\n",
       "      <th>18046</th>\n",
       "      <td>58</td>\n",
       "      <td>46</td>\n",
       "      <td>42</td>\n",
       "      <td>66</td>\n",
       "      <td>77</td>\n",
       "      <td>3</td>\n",
       "      <td>32</td>\n",
       "      <td>69</td>\n",
       "      <td>42</td>\n",
       "      <td>42</td>\n",
       "      <td>...</td>\n",
       "      <td>72</td>\n",
       "      <td>20</td>\n",
       "      <td>37</td>\n",
       "      <td>52</td>\n",
       "      <td>74</td>\n",
       "      <td>36</td>\n",
       "      <td>3</td>\n",
       "      <td>80</td>\n",
       "      <td>29</td>\n",
       "      <td>1</td>\n",
       "    </tr>\n",
       "    <tr>\n",
       "      <th>18047</th>\n",
       "      <td>67</td>\n",
       "      <td>49</td>\n",
       "      <td>55</td>\n",
       "      <td>77</td>\n",
       "      <td>72</td>\n",
       "      <td>4</td>\n",
       "      <td>36</td>\n",
       "      <td>69</td>\n",
       "      <td>33</td>\n",
       "      <td>52</td>\n",
       "      <td>...</td>\n",
       "      <td>116</td>\n",
       "      <td>28</td>\n",
       "      <td>72</td>\n",
       "      <td>64</td>\n",
       "      <td>93</td>\n",
       "      <td>40</td>\n",
       "      <td>7</td>\n",
       "      <td>89</td>\n",
       "      <td>33</td>\n",
       "      <td>4</td>\n",
       "    </tr>\n",
       "    <tr>\n",
       "      <th>18048</th>\n",
       "      <td>47</td>\n",
       "      <td>59</td>\n",
       "      <td>40</td>\n",
       "      <td>61</td>\n",
       "      <td>62</td>\n",
       "      <td>4</td>\n",
       "      <td>51</td>\n",
       "      <td>52</td>\n",
       "      <td>40</td>\n",
       "      <td>69</td>\n",
       "      <td>...</td>\n",
       "      <td>83</td>\n",
       "      <td>22</td>\n",
       "      <td>45</td>\n",
       "      <td>45</td>\n",
       "      <td>62</td>\n",
       "      <td>36</td>\n",
       "      <td>12</td>\n",
       "      <td>84</td>\n",
       "      <td>43</td>\n",
       "      <td>0</td>\n",
       "    </tr>\n",
       "    <tr>\n",
       "      <th>18049</th>\n",
       "      <td>63</td>\n",
       "      <td>83</td>\n",
       "      <td>88</td>\n",
       "      <td>94</td>\n",
       "      <td>125</td>\n",
       "      <td>4</td>\n",
       "      <td>45</td>\n",
       "      <td>93</td>\n",
       "      <td>63</td>\n",
       "      <td>100</td>\n",
       "      <td>...</td>\n",
       "      <td>129</td>\n",
       "      <td>54</td>\n",
       "      <td>77</td>\n",
       "      <td>77</td>\n",
       "      <td>133</td>\n",
       "      <td>53</td>\n",
       "      <td>10</td>\n",
       "      <td>122</td>\n",
       "      <td>106</td>\n",
       "      <td>3</td>\n",
       "    </tr>\n",
       "  </tbody>\n",
       "</table>\n",
       "<p>18050 rows × 4992 columns</p>\n",
       "</div>"
      ],
      "text/plain": [
       "       0     1     2     3     4     5     6     7     8     9     ...  4982  \\\n",
       "0         1     1     0     0     0     0     0     1     0     0  ...     0   \n",
       "1         0     2     0     0     0     0     1     1     0     0  ...     1   \n",
       "2         0     0     0     0     0     0     0     0     0     3  ...     0   \n",
       "3         0     0     0     0     0     0     0     0     0     0  ...     0   \n",
       "4         0     0     0     0     0     0     0     0     0     0  ...     0   \n",
       "...     ...   ...   ...   ...   ...   ...   ...   ...   ...   ...  ...   ...   \n",
       "18045    44    64    80    71    75     2    50    89    59    73  ...    85   \n",
       "18046    58    46    42    66    77     3    32    69    42    42  ...    72   \n",
       "18047    67    49    55    77    72     4    36    69    33    52  ...   116   \n",
       "18048    47    59    40    61    62     4    51    52    40    69  ...    83   \n",
       "18049    63    83    88    94   125     4    45    93    63   100  ...   129   \n",
       "\n",
       "       4983  4984  4985  4986  4987  4988  4989  4990  4991  \n",
       "0         0     0     0     0     0     0     0     1     0  \n",
       "1         0     0     0     1     1     0     0     0     0  \n",
       "2         0     0     1     2     1     0     0     1     0  \n",
       "3         0     0     2     1     1     0     0     0     0  \n",
       "4         0     0     0     1     0     0     0     1     0  \n",
       "...     ...   ...   ...   ...   ...   ...   ...   ...   ...  \n",
       "18045    31    55    49    99    39     5    82    46     3  \n",
       "18046    20    37    52    74    36     3    80    29     1  \n",
       "18047    28    72    64    93    40     7    89    33     4  \n",
       "18048    22    45    45    62    36    12    84    43     0  \n",
       "18049    54    77    77   133    53    10   122   106     3  \n",
       "\n",
       "[18050 rows x 4992 columns]"
      ]
     },
     "execution_count": 28,
     "metadata": {},
     "output_type": "execute_result"
    }
   ],
   "source": [
    "matrix_path = os.path.join(path,'GSM7898157_P1_matrix.mtx.gz')\n",
    "matrix = mmread(matrix_path)\n",
    "dense_matrix = matrix.todense()\n",
    "df = pd.DataFrame(dense_matrix)\n",
    "df"
   ]
  },
  {
   "cell_type": "markdown",
   "id": "40fbc3a3",
   "metadata": {},
   "source": [
    "<center> Spatial transcriptomic analysis of Nf1+/- mouse brain\n",
    "    \n",
    "I couldn't find the article of this work but the GEO link:\n",
    "https://www.ncbi.nlm.nih.gov/geo/query/acc.cgi?acc=GSE263303"
   ]
  },
  {
   "cell_type": "code",
   "execution_count": 29,
   "id": "ac33875e",
   "metadata": {},
   "outputs": [
    {
     "data": {
      "text/plain": [
       "['GSM8189356_K73-6-FMFC-features.tsv.gz',\n",
       " 'GSM8189356_K73-6-FMFC-barcodes.tsv.gz',\n",
       " 'GSM8189357_K73-8-FMFC-features.tsv.gz',\n",
       " 'GSM8189358_K75-1-FMFC-matrix.mtx.gz',\n",
       " 'GSM8189358_K75-1-FMFC-features.tsv.gz',\n",
       " 'GSM8189357_K73-8-FMFC.tif.gz',\n",
       " 'GSM8189356_K73-6-FMFC-matrix.mtx.gz',\n",
       " 'GSM8189359_K75-2-FMFC-matrix.mtx.gz',\n",
       " 'GSM8189359_K75-2-FMFC-barcodes.tsv.gz',\n",
       " 'GSM8189359_K75-2-FMFC-features.tsv.gz',\n",
       " 'GSM8189356_K73-6-FMFC.tif.gz',\n",
       " 'GSE263303_RAW.tar',\n",
       " 'GSM8189358_K75-1-FMFC-barcodes.tsv.gz',\n",
       " 'GSM8189357_K73-8-FMFC-barcodes.tsv.gz',\n",
       " 'GSM8189357_K73-8-FMFC-matrix.mtx.gz',\n",
       " 'GSM8189359_K75-2-FMFC.tif.gz',\n",
       " 'GSM8189358_K75-1-FMFC.tif.gz']"
      ]
     },
     "execution_count": 29,
     "metadata": {},
     "output_type": "execute_result"
    }
   ],
   "source": [
    "path = '/data/kanferg/Sptial_Omics/playGround/Data/GSE263303_RAW'\n",
    "os.listdir('/data/kanferg/Sptial_Omics/playGround/Data/GSE263303_RAW')"
   ]
  },
  {
   "cell_type": "code",
   "execution_count": 30,
   "id": "6f864c8b",
   "metadata": {},
   "outputs": [
    {
     "name": "stdout",
     "output_type": "stream",
     "text": [
      "barcode Rows number: 2319 Columns number 1\n",
      "features Rows number: 32284 Columns number 3\n"
     ]
    }
   ],
   "source": [
    "def read_barcode_features(path,bc_file,ft_file):\n",
    "    bc = os.path.join(path,bc_file)\n",
    "    ft = os.path.join(path,ft_file)\n",
    "    def unzip_read(file_path):\n",
    "        with gzip.open(file_path, 'rt') as f:\n",
    "            df = pd.read_csv(f, sep='\\t')\n",
    "        return df\n",
    "    def report_df(df,text_table_type):\n",
    "        print(f'{str(text_table_type)} Rows number: {len(df)} Columns number {len(df.columns)}')\n",
    "    df_bc = unzip_read(bc)\n",
    "    report_df(df_bc,\"barcode\")\n",
    "    df_ft = unzip_read(ft)\n",
    "    report_df(df_ft,\"features\")\n",
    "    return df_bc, df_ft\n",
    "\n",
    "path = path\n",
    "bc_file = 'GSM8189358_K75-1-FMFC-barcodes.tsv.gz'\n",
    "ft_file = 'GSM8189359_K75-2-FMFC-features.tsv.gz'\n",
    "df_bc, df_ft = read_barcode_features(path,bc_file,ft_file)"
   ]
  },
  {
   "cell_type": "code",
   "execution_count": 32,
   "id": "685e9c46",
   "metadata": {},
   "outputs": [
    {
     "data": {
      "text/html": [
       "<div>\n",
       "<style scoped>\n",
       "    .dataframe tbody tr th:only-of-type {\n",
       "        vertical-align: middle;\n",
       "    }\n",
       "\n",
       "    .dataframe tbody tr th {\n",
       "        vertical-align: top;\n",
       "    }\n",
       "\n",
       "    .dataframe thead th {\n",
       "        text-align: right;\n",
       "    }\n",
       "</style>\n",
       "<table border=\"1\" class=\"dataframe\">\n",
       "  <thead>\n",
       "    <tr style=\"text-align: right;\">\n",
       "      <th></th>\n",
       "      <th>ENSMUSG00000051951</th>\n",
       "      <th>Xkr4</th>\n",
       "      <th>Gene Expression</th>\n",
       "    </tr>\n",
       "  </thead>\n",
       "  <tbody>\n",
       "    <tr>\n",
       "      <th>0</th>\n",
       "      <td>ENSMUSG00000089699</td>\n",
       "      <td>Gm1992</td>\n",
       "      <td>Gene Expression</td>\n",
       "    </tr>\n",
       "    <tr>\n",
       "      <th>1</th>\n",
       "      <td>ENSMUSG00000102331</td>\n",
       "      <td>Gm19938</td>\n",
       "      <td>Gene Expression</td>\n",
       "    </tr>\n",
       "    <tr>\n",
       "      <th>2</th>\n",
       "      <td>ENSMUSG00000102343</td>\n",
       "      <td>Gm37381</td>\n",
       "      <td>Gene Expression</td>\n",
       "    </tr>\n",
       "    <tr>\n",
       "      <th>3</th>\n",
       "      <td>ENSMUSG00000025900</td>\n",
       "      <td>Rp1</td>\n",
       "      <td>Gene Expression</td>\n",
       "    </tr>\n",
       "    <tr>\n",
       "      <th>4</th>\n",
       "      <td>ENSMUSG00000025902</td>\n",
       "      <td>Sox17</td>\n",
       "      <td>Gene Expression</td>\n",
       "    </tr>\n",
       "    <tr>\n",
       "      <th>...</th>\n",
       "      <td>...</td>\n",
       "      <td>...</td>\n",
       "      <td>...</td>\n",
       "    </tr>\n",
       "    <tr>\n",
       "      <th>32279</th>\n",
       "      <td>ENSMUSG00000095523</td>\n",
       "      <td>AC124606.1</td>\n",
       "      <td>Gene Expression</td>\n",
       "    </tr>\n",
       "    <tr>\n",
       "      <th>32280</th>\n",
       "      <td>ENSMUSG00000095475</td>\n",
       "      <td>AC133095.2</td>\n",
       "      <td>Gene Expression</td>\n",
       "    </tr>\n",
       "    <tr>\n",
       "      <th>32281</th>\n",
       "      <td>ENSMUSG00000094855</td>\n",
       "      <td>AC133095.1</td>\n",
       "      <td>Gene Expression</td>\n",
       "    </tr>\n",
       "    <tr>\n",
       "      <th>32282</th>\n",
       "      <td>ENSMUSG00000095019</td>\n",
       "      <td>AC234645.1</td>\n",
       "      <td>Gene Expression</td>\n",
       "    </tr>\n",
       "    <tr>\n",
       "      <th>32283</th>\n",
       "      <td>ENSMUSG00000095041</td>\n",
       "      <td>AC149090.1</td>\n",
       "      <td>Gene Expression</td>\n",
       "    </tr>\n",
       "  </tbody>\n",
       "</table>\n",
       "<p>32284 rows × 3 columns</p>\n",
       "</div>"
      ],
      "text/plain": [
       "       ENSMUSG00000051951        Xkr4  Gene Expression\n",
       "0      ENSMUSG00000089699      Gm1992  Gene Expression\n",
       "1      ENSMUSG00000102331     Gm19938  Gene Expression\n",
       "2      ENSMUSG00000102343     Gm37381  Gene Expression\n",
       "3      ENSMUSG00000025900         Rp1  Gene Expression\n",
       "4      ENSMUSG00000025902       Sox17  Gene Expression\n",
       "...                   ...         ...              ...\n",
       "32279  ENSMUSG00000095523  AC124606.1  Gene Expression\n",
       "32280  ENSMUSG00000095475  AC133095.2  Gene Expression\n",
       "32281  ENSMUSG00000094855  AC133095.1  Gene Expression\n",
       "32282  ENSMUSG00000095019  AC234645.1  Gene Expression\n",
       "32283  ENSMUSG00000095041  AC149090.1  Gene Expression\n",
       "\n",
       "[32284 rows x 3 columns]"
      ]
     },
     "execution_count": 32,
     "metadata": {},
     "output_type": "execute_result"
    }
   ],
   "source": [
    "df_ft"
   ]
  },
  {
   "cell_type": "code",
   "execution_count": 33,
   "id": "aad72d72",
   "metadata": {},
   "outputs": [],
   "source": [
    "andatap1 = sc.read_10x_mtx(path = path,prefix = 'GSM8189358_K75-1-FMFC-')"
   ]
  },
  {
   "cell_type": "code",
   "execution_count": 34,
   "id": "e9eab6b3",
   "metadata": {},
   "outputs": [
    {
     "data": {
      "text/plain": [
       "AnnData object with n_obs × n_vars = 2320 × 32285\n",
       "    var: 'gene_ids', 'feature_types'"
      ]
     },
     "execution_count": 34,
     "metadata": {},
     "output_type": "execute_result"
    }
   ],
   "source": [
    "andatap1"
   ]
  },
  {
   "cell_type": "markdown",
   "id": "6020d3cf",
   "metadata": {},
   "source": [
    "<center><B><h3> Netrin-1 blockade inhibits tumour growth and EMT features in endometrial cancer\n",
    "\n",
    "https://pubmed.ncbi.nlm.nih.gov/37532934/\n",
    "    \n",
    "https://www.ncbi.nlm.nih.gov/geo/query/acc.cgi?acc=GSE225691    "
   ]
  },
  {
   "cell_type": "code",
   "execution_count": 4,
   "id": "0e7e9895",
   "metadata": {},
   "outputs": [],
   "source": [
    "path_034_C1d1 = '/data/kanferg/Sptial_Omics/playGround/Data/GSE225691_RAW/01_034_C1d1/outs'\n",
    "path_039_C1d1 = '/data/kanferg/Sptial_Omics/playGround/Data/GSE225691_RAW/01_039_C1d1/outs'\n",
    "path_034_C3d1 = '/data/kanferg/Sptial_Omics/playGround/Data/GSE225691_RAW/01_034_C3d1/outs'\n",
    "path_039_C3d1 = '/data/kanferg/Sptial_Omics/playGround/Data/GSE225691_RAW/01_039_C3d1/outs'"
   ]
  },
  {
   "cell_type": "code",
   "execution_count": 5,
   "id": "3f75b505",
   "metadata": {},
   "outputs": [
    {
     "name": "stdout",
     "output_type": "stream",
     "text": [
      "spots: 539 genes: 17943\n",
      "spots: 1091 genes: 17943\n",
      "spots: 755 genes: 17943\n",
      "spots: 2141 genes: 17943\n"
     ]
    }
   ],
   "source": [
    "import warnings\n",
    "warnings.filterwarnings('ignore')\n",
    "def read_nature_files(path):\n",
    "    andata = sc.read_visium(path = path)\n",
    "    print(f'spots: {andata.n_obs} genes: {andata.n_vars}')\n",
    "    return andata\n",
    "adata_034_c1d1 = read_nature_files(path_034_C1d1)\n",
    "adata_039_C1d1 = read_nature_files(path_039_C1d1)\n",
    "adata_034_C3d1 = read_nature_files(path_034_C3d1)\n",
    "adata_039_C3d1 = read_nature_files(path_039_C3d1)"
   ]
  },
  {
   "cell_type": "code",
   "execution_count": 4,
   "id": "49222f98",
   "metadata": {},
   "outputs": [],
   "source": [
    "warnings.filterwarnings('default')"
   ]
  },
  {
   "cell_type": "markdown",
   "id": "5f420390",
   "metadata": {},
   "source": [
    "adata_034_c1d1"
   ]
  },
  {
   "cell_type": "markdown",
   "id": "8407038d",
   "metadata": {},
   "source": [
    "### Squidpy Analysis"
   ]
  },
  {
   "cell_type": "code",
   "execution_count": 20,
   "id": "28dfd206",
   "metadata": {},
   "outputs": [
    {
     "data": {
      "text/plain": [
       "(539, 2)"
      ]
     },
     "execution_count": 20,
     "metadata": {},
     "output_type": "execute_result"
    }
   ],
   "source": [
    "np.shape(adata_034_c1d1.obsm['spatial'])"
   ]
  },
  {
   "cell_type": "code",
   "execution_count": 5,
   "id": "0bb0c720",
   "metadata": {},
   "outputs": [
    {
     "data": {
      "text/plain": [
       "array([[1216,  722],\n",
       "       [1526, 1391],\n",
       "       [1896, 2563],\n",
       "       ...,\n",
       "       [1702, 2161],\n",
       "       [1082, 1024],\n",
       "       [1664, 2295]])"
      ]
     },
     "execution_count": 5,
     "metadata": {},
     "output_type": "execute_result"
    }
   ],
   "source": [
    "adata_034_c1d1.obsm['spatial']"
   ]
  },
  {
   "cell_type": "markdown",
   "id": "5a309c02",
   "metadata": {},
   "source": [
    "<h2> Save squidepy data to spot-gene-count tabel"
   ]
  },
  {
   "cell_type": "code",
   "execution_count": 25,
   "id": "b3562e75",
   "metadata": {},
   "outputs": [
    {
     "data": {
      "image/png": "[encoded data removed]",
      "text/plain": [
       "<Figure size 1000x600 with 1 Axes>"
      ]
     },
     "metadata": {},
     "output_type": "display_data"
    }
   ],
   "source": [
    "df = adata_034_c1d1.to_df()\n",
    "row_sums = df.sum(axis=1)\n",
    "\n",
    "# Plotting the histogram of the row sums\n",
    "plt.figure(figsize=(10, 6))\n",
    "plt.hist(row_sums, bins=50, alpha=0.75, color='blue')\n",
    "plt.title('Histogram of Total Counts per Spot')\n",
    "plt.xlabel('Total Counts')\n",
    "plt.ylabel('Frequency')\n",
    "plt.grid(True)\n",
    "plt.show()"
   ]
  },
  {
   "cell_type": "code",
   "execution_count": 9,
   "id": "a6e707ec",
   "metadata": {},
   "outputs": [
    {
     "data": {
      "text/plain": [
       "(2000, 1954, 3)"
      ]
     },
     "execution_count": 9,
     "metadata": {},
     "output_type": "execute_result"
    }
   ],
   "source": [
    "np.shape(adata_034_c1d1.uns['spatial']['01_034_C1d1']['images']['hires'])"
   ]
  },
  {
   "cell_type": "code",
   "execution_count": 32,
   "id": "e5cb252e",
   "metadata": {},
   "outputs": [],
   "source": [
    "df[\"x\"] = adata_034_c1d1.obsm['spatial'][:,0]\n",
    "df[\"y\"] = adata_034_c1d1.obsm['spatial'][:,1]\n",
    "df.insert(0,\"CellID\",np.arange(len(df)))"
   ]
  },
  {
   "cell_type": "code",
   "execution_count": 33,
   "id": "59129725",
   "metadata": {},
   "outputs": [],
   "source": [
    "df.to_csv(\"adata_034_c1d1.csv\",index=False)\n"
   ]
  },
  {
   "cell_type": "code",
   "execution_count": 30,
   "id": "1977e8ed",
   "metadata": {},
   "outputs": [
    {
     "data": {
      "text/html": [
       "<div>\n",
       "<style scoped>\n",
       "    .dataframe tbody tr th:only-of-type {\n",
       "        vertical-align: middle;\n",
       "    }\n",
       "\n",
       "    .dataframe tbody tr th {\n",
       "        vertical-align: top;\n",
       "    }\n",
       "\n",
       "    .dataframe thead th {\n",
       "        text-align: right;\n",
       "    }\n",
       "</style>\n",
       "<table border=\"1\" class=\"dataframe\">\n",
       "  <thead>\n",
       "    <tr style=\"text-align: right;\">\n",
       "      <th></th>\n",
       "      <th>SAMD11</th>\n",
       "      <th>NOC2L</th>\n",
       "      <th>KLHL17</th>\n",
       "      <th>PLEKHN1</th>\n",
       "      <th>PERM1</th>\n",
       "      <th>HES4</th>\n",
       "      <th>ISG15</th>\n",
       "      <th>AGRN</th>\n",
       "      <th>RNF223</th>\n",
       "      <th>C1orf159</th>\n",
       "      <th>...</th>\n",
       "      <th>PCDH11Y</th>\n",
       "      <th>AMELY</th>\n",
       "      <th>TBL1Y</th>\n",
       "      <th>TSPY1</th>\n",
       "      <th>USP9Y</th>\n",
       "      <th>DDX3Y</th>\n",
       "      <th>TMSB4Y</th>\n",
       "      <th>KDM5D</th>\n",
       "      <th>x</th>\n",
       "      <th>y</th>\n",
       "    </tr>\n",
       "  </thead>\n",
       "  <tbody>\n",
       "    <tr>\n",
       "      <th>AAACCTAAGCAGCCGG-1</th>\n",
       "      <td>0.0</td>\n",
       "      <td>0.0</td>\n",
       "      <td>0.0</td>\n",
       "      <td>0.0</td>\n",
       "      <td>0.0</td>\n",
       "      <td>0.0</td>\n",
       "      <td>0.0</td>\n",
       "      <td>0.0</td>\n",
       "      <td>0.0</td>\n",
       "      <td>0.0</td>\n",
       "      <td>...</td>\n",
       "      <td>0.0</td>\n",
       "      <td>0.0</td>\n",
       "      <td>0.0</td>\n",
       "      <td>0.0</td>\n",
       "      <td>0.0</td>\n",
       "      <td>0.0</td>\n",
       "      <td>0.0</td>\n",
       "      <td>0.0</td>\n",
       "      <td>1216</td>\n",
       "      <td>722</td>\n",
       "    </tr>\n",
       "    <tr>\n",
       "      <th>AAACTGCTGGCTCCAA-1</th>\n",
       "      <td>0.0</td>\n",
       "      <td>0.0</td>\n",
       "      <td>0.0</td>\n",
       "      <td>0.0</td>\n",
       "      <td>0.0</td>\n",
       "      <td>0.0</td>\n",
       "      <td>0.0</td>\n",
       "      <td>0.0</td>\n",
       "      <td>0.0</td>\n",
       "      <td>0.0</td>\n",
       "      <td>...</td>\n",
       "      <td>0.0</td>\n",
       "      <td>0.0</td>\n",
       "      <td>0.0</td>\n",
       "      <td>0.0</td>\n",
       "      <td>0.0</td>\n",
       "      <td>0.0</td>\n",
       "      <td>0.0</td>\n",
       "      <td>0.0</td>\n",
       "      <td>1526</td>\n",
       "      <td>1391</td>\n",
       "    </tr>\n",
       "    <tr>\n",
       "      <th>AAAGACCCAAGTCGCG-1</th>\n",
       "      <td>0.0</td>\n",
       "      <td>0.0</td>\n",
       "      <td>0.0</td>\n",
       "      <td>1.0</td>\n",
       "      <td>0.0</td>\n",
       "      <td>0.0</td>\n",
       "      <td>0.0</td>\n",
       "      <td>0.0</td>\n",
       "      <td>0.0</td>\n",
       "      <td>0.0</td>\n",
       "      <td>...</td>\n",
       "      <td>0.0</td>\n",
       "      <td>0.0</td>\n",
       "      <td>0.0</td>\n",
       "      <td>0.0</td>\n",
       "      <td>0.0</td>\n",
       "      <td>0.0</td>\n",
       "      <td>0.0</td>\n",
       "      <td>0.0</td>\n",
       "      <td>1896</td>\n",
       "      <td>2563</td>\n",
       "    </tr>\n",
       "    <tr>\n",
       "      <th>AAAGGGATGTAGCAAG-1</th>\n",
       "      <td>0.0</td>\n",
       "      <td>0.0</td>\n",
       "      <td>0.0</td>\n",
       "      <td>0.0</td>\n",
       "      <td>0.0</td>\n",
       "      <td>0.0</td>\n",
       "      <td>0.0</td>\n",
       "      <td>2.0</td>\n",
       "      <td>0.0</td>\n",
       "      <td>0.0</td>\n",
       "      <td>...</td>\n",
       "      <td>0.0</td>\n",
       "      <td>0.0</td>\n",
       "      <td>0.0</td>\n",
       "      <td>0.0</td>\n",
       "      <td>0.0</td>\n",
       "      <td>0.0</td>\n",
       "      <td>0.0</td>\n",
       "      <td>0.0</td>\n",
       "      <td>1625</td>\n",
       "      <td>2094</td>\n",
       "    </tr>\n",
       "    <tr>\n",
       "      <th>AAAGTCACTGATGTAA-1</th>\n",
       "      <td>0.0</td>\n",
       "      <td>0.0</td>\n",
       "      <td>0.0</td>\n",
       "      <td>1.0</td>\n",
       "      <td>0.0</td>\n",
       "      <td>1.0</td>\n",
       "      <td>0.0</td>\n",
       "      <td>0.0</td>\n",
       "      <td>0.0</td>\n",
       "      <td>1.0</td>\n",
       "      <td>...</td>\n",
       "      <td>0.0</td>\n",
       "      <td>0.0</td>\n",
       "      <td>0.0</td>\n",
       "      <td>0.0</td>\n",
       "      <td>0.0</td>\n",
       "      <td>0.0</td>\n",
       "      <td>0.0</td>\n",
       "      <td>0.0</td>\n",
       "      <td>1819</td>\n",
       "      <td>2563</td>\n",
       "    </tr>\n",
       "  </tbody>\n",
       "</table>\n",
       "<p>5 rows × 17945 columns</p>\n",
       "</div>"
      ],
      "text/plain": [
       "                    SAMD11  NOC2L  KLHL17  PLEKHN1  PERM1  HES4  ISG15  AGRN  \\\n",
       "AAACCTAAGCAGCCGG-1     0.0    0.0     0.0      0.0    0.0   0.0    0.0   0.0   \n",
       "AAACTGCTGGCTCCAA-1     0.0    0.0     0.0      0.0    0.0   0.0    0.0   0.0   \n",
       "AAAGACCCAAGTCGCG-1     0.0    0.0     0.0      1.0    0.0   0.0    0.0   0.0   \n",
       "AAAGGGATGTAGCAAG-1     0.0    0.0     0.0      0.0    0.0   0.0    0.0   2.0   \n",
       "AAAGTCACTGATGTAA-1     0.0    0.0     0.0      1.0    0.0   1.0    0.0   0.0   \n",
       "\n",
       "                    RNF223  C1orf159  ...  PCDH11Y  AMELY  TBL1Y  TSPY1  \\\n",
       "AAACCTAAGCAGCCGG-1     0.0       0.0  ...      0.0    0.0    0.0    0.0   \n",
       "AAACTGCTGGCTCCAA-1     0.0       0.0  ...      0.0    0.0    0.0    0.0   \n",
       "AAAGACCCAAGTCGCG-1     0.0       0.0  ...      0.0    0.0    0.0    0.0   \n",
       "AAAGGGATGTAGCAAG-1     0.0       0.0  ...      0.0    0.0    0.0    0.0   \n",
       "AAAGTCACTGATGTAA-1     0.0       1.0  ...      0.0    0.0    0.0    0.0   \n",
       "\n",
       "                    USP9Y  DDX3Y  TMSB4Y  KDM5D     x     y  \n",
       "AAACCTAAGCAGCCGG-1    0.0    0.0     0.0    0.0  1216   722  \n",
       "AAACTGCTGGCTCCAA-1    0.0    0.0     0.0    0.0  1526  1391  \n",
       "AAAGACCCAAGTCGCG-1    0.0    0.0     0.0    0.0  1896  2563  \n",
       "AAAGGGATGTAGCAAG-1    0.0    0.0     0.0    0.0  1625  2094  \n",
       "AAAGTCACTGATGTAA-1    0.0    0.0     0.0    0.0  1819  2563  \n",
       "\n",
       "[5 rows x 17945 columns]"
      ]
     },
     "execution_count": 30,
     "metadata": {},
     "output_type": "execute_result"
    }
   ],
   "source": [
    "df.head()"
   ]
  },
  {
   "cell_type": "markdown",
   "id": "b2d1b2b1",
   "metadata": {},
   "source": [
    "[youtube](https://www.youtube.com/watch?v=btqPgui8gpg&t=4665s)"
   ]
  },
  {
   "cell_type": "markdown",
   "id": "9a2358a1",
   "metadata": {},
   "source": [
    "<h3>Image Container<h3>"
   ]
  },
  {
   "cell_type": "markdown",
   "id": "a973140c",
   "metadata": {},
   "source": [
    "Creats ```ImageContainer``` object from high-resolution image. "
   ]
  },
  {
   "cell_type": "code",
   "execution_count": null,
   "id": "90f017c2",
   "metadata": {},
   "outputs": [],
   "source": [
    "img034_c1d1 = sq.im.ImageContainer(\n",
    "    adata_034_c1d1.uns['spatial']['01_034_C1d1']['images']['hires'],\n",
    "    scale=adata_034_c1d1.uns['spatial']['01_034_C1d1']['images']['hires']\n",
    ")"
   ]
  },
  {
   "cell_type": "markdown",
   "id": "e9b9b736",
   "metadata": {},
   "source": [
    "<h3> Image features <h3>"
   ]
  },
  {
   "cell_type": "code",
   "execution_count": null,
   "id": "1b26dbb3",
   "metadata": {},
   "outputs": [],
   "source": []
  },
  {
   "cell_type": "code",
   "execution_count": 6,
   "id": "c52ced6c",
   "metadata": {
    "collapsed": true
   },
   "outputs": [
    {
     "data": {
      "text/plain": [
       "array([[[1.        , 1.        , 1.        ],\n",
       "        [1.        , 1.        , 1.        ],\n",
       "        [1.        , 1.        , 1.        ],\n",
       "        ...,\n",
       "        [1.        , 1.        , 1.        ],\n",
       "        [1.        , 1.        , 1.        ],\n",
       "        [1.        , 1.        , 1.        ]],\n",
       "\n",
       "       [[1.        , 1.        , 1.        ],\n",
       "        [1.        , 1.        , 1.        ],\n",
       "        [1.        , 1.        , 1.        ],\n",
       "        ...,\n",
       "        [1.        , 1.        , 1.        ],\n",
       "        [1.        , 1.        , 1.        ],\n",
       "        [1.        , 1.        , 1.        ]],\n",
       "\n",
       "       [[1.        , 1.        , 1.        ],\n",
       "        [1.        , 1.        , 1.        ],\n",
       "        [1.        , 1.        , 1.        ],\n",
       "        ...,\n",
       "        [1.        , 1.        , 1.        ],\n",
       "        [1.        , 1.        , 1.        ],\n",
       "        [1.        , 1.        , 1.        ]],\n",
       "\n",
       "       ...,\n",
       "\n",
       "       [[0.99607843, 0.99607843, 0.99607843],\n",
       "        [0.99215686, 0.99215686, 0.99215686],\n",
       "        [0.99607843, 0.99607843, 0.99607843],\n",
       "        ...,\n",
       "        [1.        , 1.        , 1.        ],\n",
       "        [1.        , 1.        , 1.        ],\n",
       "        [1.        , 1.        , 1.        ]],\n",
       "\n",
       "       [[0.99215686, 0.99215686, 0.99215686],\n",
       "        [0.99215686, 0.99215686, 0.99215686],\n",
       "        [0.99607843, 0.99607843, 0.99607843],\n",
       "        ...,\n",
       "        [1.        , 1.        , 1.        ],\n",
       "        [1.        , 1.        , 1.        ],\n",
       "        [1.        , 1.        , 1.        ]],\n",
       "\n",
       "       [[0.99215686, 0.99215686, 0.99215686],\n",
       "        [0.99215686, 0.99215686, 0.99215686],\n",
       "        [0.99607843, 0.99607843, 0.99607843],\n",
       "        ...,\n",
       "        [1.        , 1.        , 1.        ],\n",
       "        [1.        , 1.        , 1.        ],\n",
       "        [1.        , 1.        , 1.        ]]], dtype=float32)"
      ]
     },
     "execution_count": 6,
     "metadata": {},
     "output_type": "execute_result"
    }
   ],
   "source": [
    "adata_034_c1d1.uns['spatial']['01_034_C1d1']['images']['hires']"
   ]
  },
  {
   "cell_type": "code",
   "execution_count": 7,
   "id": "ce8aa58e",
   "metadata": {},
   "outputs": [
    {
     "data": {
      "text/plain": [
       "{'images': {'hires': array([[[1.        , 1.        , 1.        ],\n",
       "          [1.        , 1.        , 1.        ],\n",
       "          [1.        , 1.        , 1.        ],\n",
       "          ...,\n",
       "          [1.        , 1.        , 1.        ],\n",
       "          [1.        , 1.        , 1.        ],\n",
       "          [1.        , 1.        , 1.        ]],\n",
       "  \n",
       "         [[1.        , 1.        , 1.        ],\n",
       "          [1.        , 1.        , 1.        ],\n",
       "          [1.        , 1.        , 1.        ],\n",
       "          ...,\n",
       "          [1.        , 1.        , 1.        ],\n",
       "          [1.        , 1.        , 1.        ],\n",
       "          [1.        , 1.        , 1.        ]],\n",
       "  \n",
       "         [[1.        , 1.        , 1.        ],\n",
       "          [1.        , 1.        , 1.        ],\n",
       "          [1.        , 1.        , 1.        ],\n",
       "          ...,\n",
       "          [1.        , 1.        , 1.        ],\n",
       "          [1.        , 1.        , 1.        ],\n",
       "          [1.        , 1.        , 1.        ]],\n",
       "  \n",
       "         ...,\n",
       "  \n",
       "         [[0.99607843, 0.99607843, 0.99607843],\n",
       "          [0.99215686, 0.99215686, 0.99215686],\n",
       "          [0.99607843, 0.99607843, 0.99607843],\n",
       "          ...,\n",
       "          [1.        , 1.        , 1.        ],\n",
       "          [1.        , 1.        , 1.        ],\n",
       "          [1.        , 1.        , 1.        ]],\n",
       "  \n",
       "         [[0.99215686, 0.99215686, 0.99215686],\n",
       "          [0.99215686, 0.99215686, 0.99215686],\n",
       "          [0.99607843, 0.99607843, 0.99607843],\n",
       "          ...,\n",
       "          [1.        , 1.        , 1.        ],\n",
       "          [1.        , 1.        , 1.        ],\n",
       "          [1.        , 1.        , 1.        ]],\n",
       "  \n",
       "         [[0.99215686, 0.99215686, 0.99215686],\n",
       "          [0.99215686, 0.99215686, 0.99215686],\n",
       "          [0.99607843, 0.99607843, 0.99607843],\n",
       "          ...,\n",
       "          [1.        , 1.        , 1.        ],\n",
       "          [1.        , 1.        , 1.        ],\n",
       "          [1.        , 1.        , 1.        ]]], dtype=float32),\n",
       "  'lowres': array([[[1.        , 1.        , 1.        ],\n",
       "          [1.        , 1.        , 1.        ],\n",
       "          [1.        , 1.        , 1.        ],\n",
       "          ...,\n",
       "          [0.99607843, 0.99607843, 0.99607843],\n",
       "          [0.99607843, 0.99607843, 0.99607843],\n",
       "          [1.        , 1.        , 1.        ]],\n",
       "  \n",
       "         [[1.        , 1.        , 1.        ],\n",
       "          [1.        , 1.        , 1.        ],\n",
       "          [1.        , 1.        , 1.        ],\n",
       "          ...,\n",
       "          [0.99607843, 0.99607843, 0.99607843],\n",
       "          [0.99607843, 0.99607843, 0.99607843],\n",
       "          [1.        , 1.        , 1.        ]],\n",
       "  \n",
       "         [[1.        , 1.        , 1.        ],\n",
       "          [1.        , 1.        , 1.        ],\n",
       "          [1.        , 1.        , 1.        ],\n",
       "          ...,\n",
       "          [0.99607843, 0.99607843, 0.99607843],\n",
       "          [1.        , 1.        , 1.        ],\n",
       "          [1.        , 1.        , 1.        ]],\n",
       "  \n",
       "         ...,\n",
       "  \n",
       "         [[1.        , 1.        , 1.        ],\n",
       "          [1.        , 1.        , 1.        ],\n",
       "          [1.        , 1.        , 1.        ],\n",
       "          ...,\n",
       "          [1.        , 1.        , 1.        ],\n",
       "          [1.        , 1.        , 1.        ],\n",
       "          [1.        , 1.        , 1.        ]],\n",
       "  \n",
       "         [[0.99607843, 0.99607843, 0.99607843],\n",
       "          [0.99607843, 0.99607843, 0.99607843],\n",
       "          [1.        , 1.        , 1.        ],\n",
       "          ...,\n",
       "          [1.        , 1.        , 1.        ],\n",
       "          [1.        , 1.        , 1.        ],\n",
       "          [1.        , 1.        , 1.        ]],\n",
       "  \n",
       "         [[0.99607843, 0.99607843, 0.99607843],\n",
       "          [0.99607843, 0.99607843, 0.99607843],\n",
       "          [1.        , 1.        , 1.        ],\n",
       "          ...,\n",
       "          [1.        , 1.        , 1.        ],\n",
       "          [1.        , 1.        , 1.        ],\n",
       "          [1.        , 1.        , 1.        ]]], dtype=float32)},\n",
       " 'scalefactors': {'tissue_hires_scalef': 0.60259116,\n",
       "  'tissue_lowres_scalef': 0.18077734,\n",
       "  'fiducial_diameter_fullres': 40.453324234467175,\n",
       "  'spot_diameter_fullres': 25.04253404990825},\n",
       " 'metadata': {'chemistry_description': \"Spatial 3' v1\",\n",
       "  'software_version': 'spaceranger-1.3.0'}}"
      ]
     },
     "execution_count": 7,
     "metadata": {},
     "output_type": "execute_result"
    }
   ],
   "source": [
    "adata_034_c1d1.uns['spatial']['01_034_C1d1']"
   ]
  },
  {
   "cell_type": "code",
   "execution_count": 13,
   "id": "36babca4",
   "metadata": {},
   "outputs": [
    {
     "data": {
      "text/plain": [
       "<bound method Mapping.values of AxisArrays with keys: spatial>"
      ]
     },
     "execution_count": 13,
     "metadata": {},
     "output_type": "execute_result"
    }
   ],
   "source": []
  },
  {
   "cell_type": "code",
   "execution_count": null,
   "id": "7789b923",
   "metadata": {},
   "outputs": [],
   "source": []
  }
 ],
 "metadata": {
  "kernelspec": {
   "display_name": "Python 3 (ipykernel)",
   "language": "python",
   "name": "python3"
  },
  "language_info": {
   "codemirror_mode": {
    "name": "ipython",
    "version": 3
   },
   "file_extension": ".py",
   "mimetype": "text/x-python",
   "name": "python",
   "nbconvert_exporter": "python",
   "pygments_lexer": "ipython3",
   "version": "3.10.12"
  }
 },
 "nbformat": 4,
 "nbformat_minor": 5
}
