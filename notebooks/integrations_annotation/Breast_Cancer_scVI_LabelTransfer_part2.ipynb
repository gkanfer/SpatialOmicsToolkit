{
 "cells": [
  {
   "cell_type": "markdown",
   "id": "084e8a57",
   "metadata": {},
   "source": [
    "<center> Advanced Integration and Annotation of scRNA-seq Data Using scVI: Hyperparameter Tuning, Label Transfer, and Custom Reference Creation - Part 2\n",
    "\n",
    "# Label Transfer and Hyperparameter Tuning\n",
    "\n",
    "Following successful integration and label transfer, the scVI model requires fine-tuning to optimize its performance. The `ModelTuner` function from the `scvi` module will be employed to adjust the neural network hyperparameters, ensuring accurate label transfer and robust integration.\n",
    "\n",
    "This step focuses on:\n",
    "\n",
    "- Improving classification accuracy of transferred labels.\n",
    "- Reducing batch effect noise while preserving biological signal.\n",
    "- Enhancing model generalizability for downstream analyses.\n",
    "\n",
    "Hyperparameter tuning will be performed using the `tune_hyperparameters()` method, enabling automatic selection of the best parameters based on a predefined metric (e.g., log-likelihood or classification accuracy). Once tuned, the model will be retrained on the full dataset. [GitHub reference](https://github.com/mousepixels/sanbomics_scripts/blob/main/sc2024/annotation_integration.ipynb)\n",
    "\n",
    "Next, we proceed with the implementation.\n"
   ]
  },
  {
   "cell_type": "markdown",
   "id": "d7d7d3f2",
   "metadata": {},
   "source": [
    "# Integration\n",
    "\n",
    "In this step, we will perform batch integration. It is essential to fine-tune the network for optimal predictions. The goal is to predict the latent space (hidden layer) of the network, and then perform K-Nearest Neighbors (KNN) and Leiden clustering on this layer.\n"
   ]
  },
  {
   "cell_type": "markdown",
   "id": "744ec1fc",
   "metadata": {},
   "source": [
    "<div class=\"alert alert-block alert-danger\">\n",
    "<b>bash file:</b> Breast_Cancer_scVI_LabelTransfer.py\n",
    "</div>"
   ]
  },
  {
   "cell_type": "markdown",
   "id": "29bcdd8d",
   "metadata": {},
   "source": [
    "```python\n",
    "\n",
    "# This code uses the scvitools/1.2.0.gpu module on the Biowulf cluster with 3 GPUs (A100).\n",
    "# On average, one training epoch takes 30 seconds when using this module.\n",
    "# However, it does not perform well with the version of scVI installed manually.\n",
    "# With the manually installed scVI, one training epoch takes only 0.5 seconds.\n",
    "\n",
    "# The tuning process is recommended for 100 samples (`num_samples`), \n",
    "# which involves training 100 different models, each with varying parameters.\n",
    "# If tuning is done at maximum capacity (100 models, 100 epochs each), \n",
    "# the total time required would be:\n",
    "# (0.5 seconds/epoch * 100 epochs/model * 100 models) / 60 = 83 hours.\n",
    "\n",
    "# This duration is too long to be practical. \n",
    "# It is advisable to reduce the number of samples to 20, which would result in:\n",
    "# (0.5 seconds/epoch * 100 epochs/model * 20 models) / 60 = 16 hours.\n",
    "# This is a more reasonable runtime for tuning.\n",
    "\n",
    "# For more details on the tuning process, refer to the official scVI documentation:\n",
    "# https://docs.scvi-tools.org/en/1.2.0/tutorials/notebooks/tuning/autotune_scvi.html\n",
    "\n",
    "import ray\n",
    "import scanpy as sc\n",
    "import scvi\n",
    "import seaborn as sns\n",
    "import torch\n",
    "from ray import tune\n",
    "from scvi import autotune\n",
    "import os\n",
    "\n",
    "scvi.settings.seed = 0\n",
    "print(\"Last run with scvi-tools version:\", scvi.__version__)\n",
    "\n",
    "sc.set_figure_params(figsize=(6, 6), frameon=False)\n",
    "sns.set_theme()\n",
    "torch.set_float32_matmul_precision(\"high\")\n",
    "\n",
    "pathout = \"/data/kanferg/Sptial_Omics/SpatialOmicsToolkit/out_4\"\n",
    "andata_combined = sc.read_h5ad(os.path.join(pathout, \"adata_concat_BreastCancer_harmony_scVI_scANVI_unintigrated.h5ad\"))\n",
    "andata_bc = andata_combined[andata_combined.obs['sample']=='ST'].copy()\n",
    "\n",
    "model_cls = scvi.model.SCVI\n",
    "model_cls.setup_anndata(andata_bc, categorical_covariate_keys = ['batch'])\n",
    "\n",
    "\n",
    "search_space = {\n",
    "    \"model_params\": {\"n_hidden\": tune.choice([92, 128]),\n",
    "        \"n_latent\": tune.choice([10, 20, 30, 40, 50, 60]),\n",
    "        \"n_layers\": tune.choice([1, 2, 3]),\n",
    "        #\"lr\": tune.loguniform(1e-4, 1e-2),\n",
    "        \"gene_likelihood\": tune.choice([\"nb\", \"zinb\"])},\n",
    "    \"train_params\": {\"max_epochs\": 100},\n",
    "}\n",
    "\n",
    "ray.init(log_to_driver=False)\n",
    "results = autotune.run_autotune(\n",
    "    model_cls,\n",
    "    data=andata_bc,\n",
    "    mode=\"min\",\n",
    "    metrics=\"validation_loss\",\n",
    "    search_space=search_space,\n",
    "    num_samples=20,\n",
    "    resources={\"gpu\": 3})\n",
    "\n",
    "df = results.result_grid.get_dataframe(filter_metric=\"accuracy\", filter_mode=\"max\")\n",
    "df.to_csv(os.path.join(pathout,\"tune_hyper_scVI.csv\"))\n",
    "```"
   ]
  },
  {
   "cell_type": "code",
   "execution_count": 1,
   "id": "c638109f",
   "metadata": {},
   "outputs": [],
   "source": [
    "import warnings\n",
    "warnings.simplefilter(\"ignore\", FutureWarning)\n",
    "warnings.simplefilter(\"ignore\", UserWarning)\n",
    "warnings.simplefilter(\"ignore\", RuntimeWarning)\n"
   ]
  },
  {
   "cell_type": "code",
   "execution_count": 2,
   "id": "dafb215c",
   "metadata": {},
   "outputs": [
    {
     "name": "stdout",
     "output_type": "stream",
     "text": [
      "scvi-tools version: 1.1.6.post2\n"
     ]
    }
   ],
   "source": [
    "import scanpy as sc\n",
    "import os\n",
    "import pandas as pd\n",
    "import numpy as np\n",
    "import matplotlib.pyplot as plt\n",
    "import seaborn as sns\n",
    "import scvi\n",
    "import torch\n",
    "#import celltypist\n",
    "#from celltypist import models\n",
    "from scvi.autotune import ModelTuner\n",
    "from ray import tune\n",
    "import ray\n",
    "\n",
    "torch.set_float32_matmul_precision(\"high\")\n",
    "print(\"scvi-tools version:\", scvi.__version__)"
   ]
  },
  {
   "cell_type": "code",
   "execution_count": 3,
   "id": "e5e7db2c",
   "metadata": {},
   "outputs": [],
   "source": [
    "pathout = \"/data/kanferg/Sptial_Omics/SpatialOmicsToolkit/out_4\"\n",
    "andata_combined = sc.read_h5ad(os.path.join(pathout, \"adata_concat_BreastCancer_harmony_scVI_scANVI_unintigrated.h5ad\"))\n",
    "andata_bc = andata_combined[andata_combined.obs['sample']=='ST'].copy()"
   ]
  },
  {
   "cell_type": "markdown",
   "id": "5098a8a4",
   "metadata": {},
   "source": [
    "Data frame summaries the model hyperparameters search."
   ]
  },
  {
   "cell_type": "code",
   "execution_count": 5,
   "id": "7b44e6aa",
   "metadata": {},
   "outputs": [],
   "source": [
    "df = pd.read_csv(os.path.join(pathout,\"tune_hyper.csv\"))"
   ]
  },
  {
   "cell_type": "code",
   "execution_count": 12,
   "id": "cebadc01",
   "metadata": {},
   "outputs": [
    {
     "data": {
      "text/html": [
       "<div>\n",
       "<style scoped>\n",
       "    .dataframe tbody tr th:only-of-type {\n",
       "        vertical-align: middle;\n",
       "    }\n",
       "\n",
       "    .dataframe tbody tr th {\n",
       "        vertical-align: top;\n",
       "    }\n",
       "\n",
       "    .dataframe thead th {\n",
       "        text-align: right;\n",
       "    }\n",
       "</style>\n",
       "<table border=\"1\" class=\"dataframe\">\n",
       "  <thead>\n",
       "    <tr style=\"text-align: right;\">\n",
       "      <th></th>\n",
       "      <th>Unnamed: 0</th>\n",
       "      <th>validation_loss</th>\n",
       "      <th>timestamp</th>\n",
       "      <th>checkpoint_dir_name</th>\n",
       "      <th>done</th>\n",
       "      <th>training_iteration</th>\n",
       "      <th>trial_id</th>\n",
       "      <th>date</th>\n",
       "      <th>time_this_iter_s</th>\n",
       "      <th>time_total_s</th>\n",
       "      <th>...</th>\n",
       "      <th>hostname</th>\n",
       "      <th>node_ip</th>\n",
       "      <th>time_since_restore</th>\n",
       "      <th>iterations_since_restore</th>\n",
       "      <th>config/model_params/n_hidden</th>\n",
       "      <th>config/model_params/n_latent</th>\n",
       "      <th>config/model_params/n_layers</th>\n",
       "      <th>config/model_params/gene_likelihood</th>\n",
       "      <th>config/train_params/max_epochs</th>\n",
       "      <th>logdir</th>\n",
       "    </tr>\n",
       "  </thead>\n",
       "  <tbody>\n",
       "    <tr>\n",
       "      <th>6</th>\n",
       "      <td>6</td>\n",
       "      <td>151.369537</td>\n",
       "      <td>1732569046</td>\n",
       "      <td>NaN</td>\n",
       "      <td>False</td>\n",
       "      <td>10</td>\n",
       "      <td>a2bfad78</td>\n",
       "      <td>2024-11-25_16-10-46</td>\n",
       "      <td>28.163898</td>\n",
       "      <td>283.204799</td>\n",
       "      <td>...</td>\n",
       "      <td>cn0798</td>\n",
       "      <td>10.2.23.30</td>\n",
       "      <td>283.204799</td>\n",
       "      <td>10</td>\n",
       "      <td>92</td>\n",
       "      <td>50</td>\n",
       "      <td>1</td>\n",
       "      <td>nb</td>\n",
       "      <td>10</td>\n",
       "      <td>a2bfad78</td>\n",
       "    </tr>\n",
       "  </tbody>\n",
       "</table>\n",
       "<p>1 rows × 21 columns</p>\n",
       "</div>"
      ],
      "text/plain": [
       "   Unnamed: 0  validation_loss   timestamp  checkpoint_dir_name   done  \\\n",
       "6           6       151.369537  1732569046                  NaN  False   \n",
       "\n",
       "   training_iteration  trial_id                 date  time_this_iter_s  \\\n",
       "6                  10  a2bfad78  2024-11-25_16-10-46         28.163898   \n",
       "\n",
       "   time_total_s  ...  hostname     node_ip time_since_restore  \\\n",
       "6    283.204799  ...    cn0798  10.2.23.30         283.204799   \n",
       "\n",
       "   iterations_since_restore  config/model_params/n_hidden  \\\n",
       "6                        10                            92   \n",
       "\n",
       "   config/model_params/n_latent  config/model_params/n_layers  \\\n",
       "6                            50                             1   \n",
       "\n",
       "   config/model_params/gene_likelihood config/train_params/max_epochs  \\\n",
       "6                                   nb                             10   \n",
       "\n",
       "     logdir  \n",
       "6  a2bfad78  \n",
       "\n",
       "[1 rows x 21 columns]"
      ]
     },
     "execution_count": 12,
     "metadata": {},
     "output_type": "execute_result"
    }
   ],
   "source": [
    "df.sort_values(by='validation_loss').head(1)"
   ]
  },
  {
   "cell_type": "code",
   "execution_count": 13,
   "id": "87daabec",
   "metadata": {},
   "outputs": [],
   "source": [
    "model = scvi.model.SCVI\n",
    "model.setup_anndata(andata_bc, categorical_covariate_keys = ['batch'])"
   ]
  },
  {
   "cell_type": "code",
   "execution_count": 15,
   "id": "b8d5014e",
   "metadata": {},
   "outputs": [],
   "source": [
    "model = scvi.model.SCVI(andata_bc, n_hidden = 92, n_latent = 50, n_layers = 1, gene_likelihood = 'nb')"
   ]
  },
  {
   "cell_type": "code",
   "execution_count": 16,
   "id": "fa75b746",
   "metadata": {},
   "outputs": [
    {
     "name": "stderr",
     "output_type": "stream",
     "text": [
      "GPU available: True (cuda), used: True\n",
      "TPU available: False, using: 0 TPU cores\n",
      "IPU available: False, using: 0 IPUs\n",
      "HPU available: False, using: 0 HPUs\n",
      "LOCAL_RANK: 0 - CUDA_VISIBLE_DEVICES: [0,1,2]\n"
     ]
    },
    {
     "name": "stdout",
     "output_type": "stream",
     "text": [
      "Epoch 200/200: 100%|████████| 200/200 [1:05:38<00:00, 19.78s/it, v_num=1, train_loss_step=161, train_loss_epoch=168]"
     ]
    },
    {
     "name": "stderr",
     "output_type": "stream",
     "text": [
      "`Trainer.fit` stopped: `max_epochs=200` reached.\n"
     ]
    },
    {
     "name": "stdout",
     "output_type": "stream",
     "text": [
      "Epoch 200/200: 100%|████████| 200/200 [1:05:38<00:00, 19.69s/it, v_num=1, train_loss_step=161, train_loss_epoch=168]\n"
     ]
    }
   ],
   "source": [
    "model.train(max_epochs = 200, early_stopping = True)"
   ]
  },
  {
   "cell_type": "code",
   "execution_count": 17,
   "id": "32d9e9ad",
   "metadata": {},
   "outputs": [],
   "source": [
    "model.save('the_model')"
   ]
  },
  {
   "cell_type": "code",
   "execution_count": 19,
   "id": "50ec4faa",
   "metadata": {},
   "outputs": [
    {
     "data": {
      "text/plain": [
       "dict_keys(['kl_weight', 'train_loss_step', 'validation_loss', 'elbo_validation', 'reconstruction_loss_validation', 'kl_local_validation', 'kl_global_validation', 'train_loss_epoch', 'elbo_train', 'reconstruction_loss_train', 'kl_local_train', 'kl_global_train'])"
      ]
     },
     "execution_count": 19,
     "metadata": {},
     "output_type": "execute_result"
    }
   ],
   "source": [
    "model.history.keys()"
   ]
  },
  {
   "cell_type": "code",
   "execution_count": 31,
   "id": "97729281",
   "metadata": {},
   "outputs": [],
   "source": [
    "y = model.history['reconstruction_loss_validation'].values.min()"
   ]
  },
  {
   "cell_type": "code",
   "execution_count": 24,
   "id": "d0d33952",
   "metadata": {},
   "outputs": [
    {
     "data": {
      "text/html": [
       "<div>\n",
       "<style scoped>\n",
       "    .dataframe tbody tr th:only-of-type {\n",
       "        vertical-align: middle;\n",
       "    }\n",
       "\n",
       "    .dataframe tbody tr th {\n",
       "        vertical-align: top;\n",
       "    }\n",
       "\n",
       "    .dataframe thead th {\n",
       "        text-align: right;\n",
       "    }\n",
       "</style>\n",
       "<table border=\"1\" class=\"dataframe\">\n",
       "  <thead>\n",
       "    <tr style=\"text-align: right;\">\n",
       "      <th></th>\n",
       "      <th>reconstruction_loss_validation</th>\n",
       "    </tr>\n",
       "    <tr>\n",
       "      <th>epoch</th>\n",
       "      <th></th>\n",
       "    </tr>\n",
       "  </thead>\n",
       "  <tbody>\n",
       "    <tr>\n",
       "      <th>0</th>\n",
       "      <td>154.643524</td>\n",
       "    </tr>\n",
       "    <tr>\n",
       "      <th>1</th>\n",
       "      <td>151.685059</td>\n",
       "    </tr>\n",
       "    <tr>\n",
       "      <th>2</th>\n",
       "      <td>150.432053</td>\n",
       "    </tr>\n",
       "    <tr>\n",
       "      <th>3</th>\n",
       "      <td>149.861618</td>\n",
       "    </tr>\n",
       "    <tr>\n",
       "      <th>4</th>\n",
       "      <td>149.349365</td>\n",
       "    </tr>\n",
       "    <tr>\n",
       "      <th>...</th>\n",
       "      <td>...</td>\n",
       "    </tr>\n",
       "    <tr>\n",
       "      <th>195</th>\n",
       "      <td>159.545761</td>\n",
       "    </tr>\n",
       "    <tr>\n",
       "      <th>196</th>\n",
       "      <td>159.546814</td>\n",
       "    </tr>\n",
       "    <tr>\n",
       "      <th>197</th>\n",
       "      <td>159.694626</td>\n",
       "    </tr>\n",
       "    <tr>\n",
       "      <th>198</th>\n",
       "      <td>159.748795</td>\n",
       "    </tr>\n",
       "    <tr>\n",
       "      <th>199</th>\n",
       "      <td>159.824402</td>\n",
       "    </tr>\n",
       "  </tbody>\n",
       "</table>\n",
       "<p>200 rows × 1 columns</p>\n",
       "</div>"
      ],
      "text/plain": [
       "      reconstruction_loss_validation\n",
       "epoch                               \n",
       "0                         154.643524\n",
       "1                         151.685059\n",
       "2                         150.432053\n",
       "3                         149.861618\n",
       "4                         149.349365\n",
       "...                              ...\n",
       "195                       159.545761\n",
       "196                       159.546814\n",
       "197                       159.694626\n",
       "198                       159.748795\n",
       "199                       159.824402\n",
       "\n",
       "[200 rows x 1 columns]"
      ]
     },
     "execution_count": 24,
     "metadata": {},
     "output_type": "execute_result"
    }
   ],
   "source": [
    "model.history['reconstruction_loss_validation']"
   ]
  },
  {
   "cell_type": "code",
   "execution_count": 32,
   "id": "cd4d2187",
   "metadata": {},
   "outputs": [
    {
     "data": {
      "image/png": "[encoded data removed]",
      "text/plain": [
       "<Figure size 640x480 with 1 Axes>"
      ]
     },
     "metadata": {},
     "output_type": "display_data"
    }
   ],
   "source": [
    "plt.plot(model.history['reconstruction_loss_train'], label='train')\n",
    "plt.plot(model.history['reconstruction_loss_validation'], label='validation')\n",
    "\n",
    "plt.axhline(y, c = 'k')\n",
    "\n",
    "plt.legend()\n",
    "plt.show()"
   ]
  },
  {
   "cell_type": "code",
   "execution_count": null,
   "id": "d464e1a7",
   "metadata": {},
   "outputs": [],
   "source": [
    "andata_bc.obsm['X_scVI'] = model.get_latent_representation()"
   ]
  }
 ],
 "metadata": {
  "kernelspec": {
   "display_name": "Python 3 (ipykernel)",
   "language": "python",
   "name": "python3"
  },
  "language_info": {
   "codemirror_mode": {
    "name": "ipython",
    "version": 3
   },
   "file_extension": ".py",
   "mimetype": "text/x-python",
   "name": "python",
   "nbconvert_exporter": "python",
   "pygments_lexer": "ipython3",
   "version": "3.12.7"
  }
 },
 "nbformat": 4,
 "nbformat_minor": 5
}
