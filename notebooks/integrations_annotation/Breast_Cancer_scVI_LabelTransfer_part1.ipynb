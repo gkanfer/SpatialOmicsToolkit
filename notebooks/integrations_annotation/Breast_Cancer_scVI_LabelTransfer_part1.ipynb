{
 "cells": [
  {
   "cell_type": "markdown",
   "id": "849fb3c8",
   "metadata": {},
   "source": [
    "<center> Advanced Integration and Annotation of scRNA-seq Data Using scVI: Hyperparameter Tuning, Label Transfer, and Custom Reference Creation"
   ]
  },
  {
   "cell_type": "markdown",
   "id": "6188af95",
   "metadata": {},
   "source": [
    "# Introduction\n",
    "\n",
    "In this notebook, data from 10X Genomics will be uploaded following the application of Harmony correction. The scVI model, a preferred integration method for scRNA-seq data, will be tested here. Additionally, scVI and scANVI will be applied to enable label transfer from the CZI scRNA-seq atlas, which contains six RNA-seq samples.\n",
    "\n",
    "The procedure is divided into two parts. First, label transfer and the second will be integration.\n",
    "\n",
    "First, the data will be uploaded. For those interested in exploring alternative label transfer methods, the `celltypist` model can be used. However, this notebook will focus on atlas-based label transfer. [GitHub reference](https://github.com/mousepixels/sanbomics_scripts/blob/main/sc2024/annotation_integration.ipynb)\n"
   ]
  },
  {
   "cell_type": "markdown",
   "id": "3c9e9c5c",
   "metadata": {},
   "source": [
    "### Label Transfer"
   ]
  },
  {
   "cell_type": "code",
   "execution_count": 1,
   "id": "49af7d80",
   "metadata": {},
   "outputs": [],
   "source": [
    "import warnings\n",
    "warnings.simplefilter(\"ignore\", FutureWarning)\n",
    "warnings.simplefilter(\"ignore\", UserWarning)\n",
    "warnings.simplefilter(\"ignore\", RuntimeWarning)"
   ]
  },
  {
   "cell_type": "code",
   "execution_count": 2,
   "id": "2af6c288",
   "metadata": {},
   "outputs": [],
   "source": [
    "import scanpy as sc\n",
    "import os\n",
    "import pandas as pd\n",
    "import numpy as np\n",
    "import matplotlib.pyplot as plt\n",
    "import seaborn as sns\n",
    "import scvi\n",
    "import torch\n",
    "#import celltypist\n",
    "#from celltypist import models\n",
    "from scvi.autotune import ModelTuner\n",
    "from ray import tune\n",
    "import ray"
   ]
  },
  {
   "cell_type": "code",
   "execution_count": 3,
   "id": "e2c6d1aa",
   "metadata": {},
   "outputs": [],
   "source": [
    "torch.set_float32_matmul_precision(\"high\")"
   ]
  },
  {
   "cell_type": "code",
   "execution_count": 4,
   "id": "6c395cb2",
   "metadata": {},
   "outputs": [
    {
     "name": "stdout",
     "output_type": "stream",
     "text": [
      "scvi-tools version: 1.1.6.post2\n"
     ]
    }
   ],
   "source": [
    "print(\"scvi-tools version:\", scvi.__version__)"
   ]
  },
  {
   "cell_type": "code",
   "execution_count": 5,
   "id": "4a52bed7",
   "metadata": {},
   "outputs": [
    {
     "name": "stdout",
     "output_type": "stream",
     "text": [
      "CUDA available: True\n"
     ]
    }
   ],
   "source": [
    "print(\"CUDA available:\", torch.cuda.is_available())"
   ]
  },
  {
   "cell_type": "code",
   "execution_count": 6,
   "id": "b0ad588a",
   "metadata": {},
   "outputs": [],
   "source": [
    "pathout = \"/data/kanferg/Sptial_Omics/SpatialOmicsToolkit/out_4\""
   ]
  },
  {
   "cell_type": "markdown",
   "id": "7e344f2d",
   "metadata": {},
   "source": [
    "#### Reference from CZI:"
   ]
  },
  {
   "cell_type": "code",
   "execution_count": 7,
   "id": "65f353fb",
   "metadata": {},
   "outputs": [
    {
     "data": {
      "text/plain": [
       "AnnData object with n_obs × n_vars = 34164 × 18626\n",
       "    obs: 'condition', 'replicate', 'nCount_RNA', 'nFeature_RNA', 'percent.mito', 'RNA_snn_res.0.8', 'seurat_clusters', 'labels_score', 'Order', 'Lane', 'Index', 'cancer', 'reference', 'flowcell', 'min_umis', 'min_genes', 'percent_mito', 'expected_cells', 'total_droplets', 'z_dim', 'z_layers', 'channel_id', 'labels_cl_unif_per_channel', 'filt_median_genes', 'filt_median_umi', 'pass', 'ccpm_id', 'htapp', 'sequenced', 'stage_at_diagnosis', 'metastatic_presentation', 'biopsy_days_after_metastasis', 'ER_primary', 'ER_biopsy', 'PR_primary', 'PR_biopsy', 'HER2_primary', 'HER2_biopsy', 'receptors_primary', 'receptors_biopsy', 'site_biopsy', 'histology_breast', 'histology_biopsy', 'sampleid', 'cnv_cors', 'cnv_cors_max', 'cnv_score', 'cnv_ref_score', 'cnv_score_norm', 'cnv_score_norm_norm', 'cnv_condition', 'cnv_score_norm_norm2', 'pam50_Basal_single', 'pam50_Her2_single', 'pam50_LumA_single', 'pam50_LumB_single', 'pam50_Normal_single', 'pam50_mode_single', 'pam50_subtype_prob_single', 'pam50_Basal_cluster', 'pam50_Her2_cluster', 'pam50_LumA_cluster', 'pam50_LumB_cluster', 'pam50_Normal_cluster', 'pam50_mode_cluster', 'pam50_subtype_prob_cluster', 'S.Score', 'G2M.Score', 'Phase', 'n_genes_by_counts', 'total_counts', 'total_counts_mt', 'pct_counts_mt', 'n_counts', 'leiden', 'compartments', 'select_cell', 'author_cell_type', 'cell_type_ontology_term_id', 'tissue_ontology_term_id', 'development_stage_ontology_term_id', 'sex_ontology_term_id', 'self_reported_ethnicity_ontology_term_id', 'disease_ontology_term_id', 'organism_ontology_term_id', 'assay_ontology_term_id', 'is_primary_data', 'suspension_type', 'donor_id', 'tissue_type', 'cell_type', 'assay', 'disease', 'organism', 'sex', 'tissue', 'self_reported_ethnicity', 'development_stage', 'observation_joinid'\n",
       "    var: 'n_cells', 'mt', 'n_cells_by_counts', 'mean_counts', 'pct_dropout_by_counts', 'total_counts', 'feature_is_filtered', 'feature_name', 'feature_reference', 'feature_biotype', 'feature_length', 'feature_type'\n",
       "    uns: 'citation', 'compartments_colors', \"dendrogram_['named_cluster_split']\", 'hvg', 'leiden', 'neighbors', 'pca', 'rank_genes_groups', 'receptors_biopsy_colors', 'schema_reference', 'schema_version', 'site_biopsy_colors', 'title', 'umap'\n",
       "    obsm: 'X_pca', 'X_umap'\n",
       "    obsp: 'connectivities', 'distances'"
      ]
     },
     "execution_count": 7,
     "metadata": {},
     "output_type": "execute_result"
    }
   ],
   "source": [
    "ref_name = \"/data/kanferg/Sptial_Omics/playGround/Data/Breast_Cancer/ref/breast_cancer_sc_czi.h5ad\"\n",
    "adata_ref_init = sc.read_h5ad(ref_name)\n",
    "# select all the breast samples\n",
    "adata_ref_tisueRM = adata_ref_init[adata_ref_init.obs['tissue']=='breast',:].copy()\n",
    "# select all the protein_coding\n",
    "adata_ref = adata_ref_tisueRM[:,adata_ref_tisueRM.var['feature_type']=='protein_coding'].copy()\n",
    "adata_ref.var.index = adata_ref.var[\"feature_name\"].astype(str).values\n",
    "adata_ref"
   ]
  },
  {
   "cell_type": "code",
   "execution_count": 8,
   "id": "81f2b2f3",
   "metadata": {},
   "outputs": [
    {
     "data": {
      "text/plain": [
       "AnnData object with n_obs × n_vars = 34164 × 18626\n",
       "    obs: 'CellType', 'nCount_RNA', 'percent_mito'\n",
       "    var: 'n_cells', 'feature_name'"
      ]
     },
     "execution_count": 8,
     "metadata": {},
     "output_type": "execute_result"
    }
   ],
   "source": [
    "from anndata import AnnData\n",
    "rdata = AnnData(adata_ref.X, obs={\"CellType\": adata_ref.obs[\"cell_type\"].values,\"nCount_RNA\":adata_ref.obs[\"nCount_RNA\"].values,'percent_mito':adata_ref.obs[\"percent_mito\"]} , var ={\"n_cells\":adata_ref.var[\"n_cells\"].values, \"feature_name\":adata_ref.var[\"feature_name\"].astype(str).values} )\n",
    "rdata.var.index = rdata.var[\"feature_name\"].values\n",
    "rdata"
   ]
  },
  {
   "cell_type": "code",
   "execution_count": 9,
   "id": "f8fe2c64",
   "metadata": {},
   "outputs": [
    {
     "data": {
      "text/plain": [
       "CellType\n",
       "fibroblast                               2797\n",
       "blood vessel endothelial cell            2816\n",
       "T cell                                   1274\n",
       "adipocyte                                 595\n",
       "chondrocyte                                 1\n",
       "macrophage                                639\n",
       "plasma cell                                31\n",
       "mature NK T cell                           25\n",
       "malignant cell                          25685\n",
       "blood vessel smooth muscle cell           300\n",
       "endothelial cell of hepatic sinusoid        1\n",
       "dtype: int64"
      ]
     },
     "execution_count": 9,
     "metadata": {},
     "output_type": "execute_result"
    }
   ],
   "source": [
    "rdata.obs.groupby('CellType').size()"
   ]
  },
  {
   "cell_type": "code",
   "execution_count": 10,
   "id": "b7c96796",
   "metadata": {},
   "outputs": [
    {
     "data": {
      "text/plain": [
       "CellType\n",
       "fibroblast                          2797\n",
       "blood vessel endothelial cell       2816\n",
       "T cell                              1274\n",
       "adipocyte                            595\n",
       "macrophage                           639\n",
       "plasma cell                           31\n",
       "mature NK T cell                      25\n",
       "malignant cell                     25685\n",
       "blood vessel smooth muscle cell      300\n",
       "dtype: int64"
      ]
     },
     "execution_count": 10,
     "metadata": {},
     "output_type": "execute_result"
    }
   ],
   "source": [
    "remove_cell = ['endothelial cell of hepatic sinusoid','chondrocyte']\n",
    "rdata = rdata[~rdata.obs['CellType'].isin(remove_cell), :]\n",
    "rdata.obs.groupby('CellType').size()"
   ]
  },
  {
   "cell_type": "code",
   "execution_count": 11,
   "id": "734f9bc9",
   "metadata": {},
   "outputs": [],
   "source": [
    "rdata = rdata[~rdata.obs.CellType.isna()]"
   ]
  },
  {
   "cell_type": "code",
   "execution_count": 12,
   "id": "75f81461",
   "metadata": {},
   "outputs": [],
   "source": [
    "# needs row count data and celltype in ref dataset and query data set. also batch\n",
    "rdata.obs['batch'] = 'ref'\n",
    "rdata.obs['sample'] = 'refrance'\n"
   ]
  },
  {
   "cell_type": "markdown",
   "id": "a5a0cb98",
   "metadata": {},
   "source": [
    "After preparing the reference data for label transfer, make sure to add batch and sample keys for the breast cancer data. These keys should include relevant batch and sample identifiers. Additionally, a CellType key should be added and labeled as ‘Unknown’. This column will be used to identify cell types based on the reference data.\n",
    "\n",
    "> **Note:** For scVI, use raw (unnormalized) and unlogged counts.\n"
   ]
  },
  {
   "cell_type": "code",
   "execution_count": 13,
   "id": "8ec9a6d4",
   "metadata": {},
   "outputs": [],
   "source": [
    "pathout = \"/data/kanferg/Sptial_Omics/SpatialOmicsToolkit/out_4\"\n",
    "bcdata_init = sc.read_h5ad(os.path.join(pathout, \"adata_concat_BreastCancer_harmony.h5ad\"))\n",
    "bcdata_init.X = bcdata_init.layers['counts']"
   ]
  },
  {
   "cell_type": "code",
   "execution_count": 14,
   "id": "3cfdb043",
   "metadata": {},
   "outputs": [],
   "source": [
    "# Rename mitochodria percent will be usfull for integration\n",
    "bcdata_init.obs['percent_mito'] = bcdata_init.obs['pct_counts_MT'].values\n",
    "bcdata_init.obs['CellType'] = 'Unknown'\n",
    "bcdata_init.obs['sample'] = 'ST'\n",
    "\n",
    "andata_combined = sc.concat((bcdata_init,rdata))"
   ]
  },
  {
   "cell_type": "code",
   "execution_count": 15,
   "id": "85826846",
   "metadata": {},
   "outputs": [
    {
     "name": "stderr",
     "output_type": "stream",
     "text": [
      "GPU available: True (cuda), used: True\n",
      "TPU available: False, using: 0 TPU cores\n",
      "IPU available: False, using: 0 IPUs\n",
      "HPU available: False, using: 0 HPUs\n",
      "LOCAL_RANK: 0 - CUDA_VISIBLE_DEVICES: [0,1,2]\n"
     ]
    },
    {
     "name": "stdout",
     "output_type": "stream",
     "text": [
      "Epoch 27/27: 100%|██████████████| 27/27 [12:16<00:00, 27.27s/it, v_num=1, train_loss_step=160, train_loss_epoch=167]"
     ]
    },
    {
     "name": "stderr",
     "output_type": "stream",
     "text": [
      "`Trainer.fit` stopped: `max_epochs=27` reached.\n"
     ]
    },
    {
     "name": "stdout",
     "output_type": "stream",
     "text": [
      "Epoch 27/27: 100%|██████████████| 27/27 [12:16<00:00, 27.28s/it, v_num=1, train_loss_step=160, train_loss_epoch=167]\n"
     ]
    }
   ],
   "source": [
    "scvi.model.SCVI.setup_anndata(andata_combined, batch_key='batch', categorical_covariate_keys = ['sample'])\n",
    "model_scvi = scvi.model.SCVI(andata_combined)\n",
    "max_epochs_scvi = np.min([round((20000 / andata_combined.n_obs) * 100), 100])\n",
    "model_scvi.train(max_epochs=27)"
   ]
  },
  {
   "cell_type": "code",
   "execution_count": 16,
   "id": "1382ead9",
   "metadata": {},
   "outputs": [
    {
     "name": "stdout",
     "output_type": "stream",
     "text": [
      "\u001b[34mINFO    \u001b[0m Training for \u001b[1;36m20\u001b[0m epochs.                                                                                   \n"
     ]
    },
    {
     "name": "stderr",
     "output_type": "stream",
     "text": [
      "GPU available: True (cuda), used: True\n",
      "TPU available: False, using: 0 TPU cores\n",
      "IPU available: False, using: 0 IPUs\n",
      "HPU available: False, using: 0 HPUs\n",
      "LOCAL_RANK: 0 - CUDA_VISIBLE_DEVICES: [0,1,2]\n"
     ]
    },
    {
     "name": "stdout",
     "output_type": "stream",
     "text": [
      "Epoch 20/20: 100%|██████████████| 20/20 [19:08<00:00, 57.21s/it, v_num=1, train_loss_step=158, train_loss_epoch=157]"
     ]
    },
    {
     "name": "stderr",
     "output_type": "stream",
     "text": [
      "`Trainer.fit` stopped: `max_epochs=20` reached.\n"
     ]
    },
    {
     "name": "stdout",
     "output_type": "stream",
     "text": [
      "Epoch 20/20: 100%|██████████████| 20/20 [19:08<00:00, 57.40s/it, v_num=1, train_loss_step=158, train_loss_epoch=157]\n"
     ]
    }
   ],
   "source": [
    "model_scANvi = scvi.model.SCANVI.from_scvi_model(model_scvi, adata = andata_combined, unlabeled_category = 'Unknown',labels_key = 'CellType')\n",
    "max_epochs_scanvi = int(np.min([10, np.max([2, round(max_epochs_scvi / 3.0)])]))\n",
    "#model_scANvi.train(max_epochs=max_epochs_scanvi, n_samples_per_label=100)\n",
    "model_scANvi.train(max_epochs=20, n_samples_per_label=100)"
   ]
  },
  {
   "cell_type": "code",
   "execution_count": 22,
   "id": "e7858ef0",
   "metadata": {},
   "outputs": [],
   "source": [
    "model_scvi.save(os.path.join(pathout,'the_model_scvi'))\n",
    "model_scANvi.save(os.path.join(pathout,'the_model_scANvi'))"
   ]
  },
  {
   "cell_type": "code",
   "execution_count": 18,
   "id": "72b09bb1",
   "metadata": {},
   "outputs": [],
   "source": [
    "andata_combined.obs['predicted'] = model_scANvi.predict(andata_combined)\n",
    "andata_combined.obs['transfer_score'] = model_scANvi.predict(soft = True).max(axis = 1)\n",
    "andata_save = andata_combined.copy()\n",
    "#andata_save.write_h5ad(os.path.join(pathout, \"adata_concat_BreastCancer_harmony_scVI_scANVI_unintigrated.h5ad\"))"
   ]
  },
  {
   "cell_type": "code",
   "execution_count": 19,
   "id": "b823d060",
   "metadata": {},
   "outputs": [
    {
     "data": {
      "text/plain": [
       "AnnData object with n_obs × n_vars = 328122 × 1066\n",
       "    obs: 'batch', 'percent_mito', 'CellType', 'sample', '_scvi_batch', '_scvi_labels', 'predicted', 'transfer_score'\n",
       "    uns: '_scvi_uuid', '_scvi_manager_uuid'\n",
       "    obsm: '_scvi_extra_categorical_covs'"
      ]
     },
     "execution_count": 19,
     "metadata": {},
     "output_type": "execute_result"
    }
   ],
   "source": [
    "andata_combined"
   ]
  },
  {
   "cell_type": "markdown",
   "id": "f6a90a40",
   "metadata": {},
   "source": [
    "Compute the latent representation of the data.\n",
    "\n",
    "This is typically denoted as $\\text{Z}_n$ from the scVI paper. [see scVI api](https://docs.scvi-tools.org/en/stable/api/reference/scvi.model.SCVI.html#scvi.model.SCVI.get_latent_representation)"
   ]
  },
  {
   "cell_type": "code",
   "execution_count": 21,
   "id": "af0a5e38",
   "metadata": {},
   "outputs": [
    {
     "data": {
      "text/plain": [
       "AnnData object with n_obs × n_vars = 328122 × 1066\n",
       "    obs: 'batch', 'percent_mito', 'CellType', 'sample', '_scvi_batch', '_scvi_labels', 'predicted', 'transfer_score'\n",
       "    uns: '_scvi_uuid', '_scvi_manager_uuid'\n",
       "    obsm: '_scvi_extra_categorical_covs', 'X_scVI'"
      ]
     },
     "execution_count": 21,
     "metadata": {},
     "output_type": "execute_result"
    }
   ],
   "source": [
    "andata_combined.obsm['X_scVI'] = model_scvi.get_latent_representation()\n",
    "andata_combined"
   ]
  },
  {
   "cell_type": "code",
   "execution_count": 25,
   "id": "5725194e",
   "metadata": {},
   "outputs": [
    {
     "data": {
      "text/plain": [
       "AnnData object with n_obs × n_vars = 328122 × 1066\n",
       "    obs: 'batch', 'percent_mito', 'CellType', 'sample', '_scvi_batch', '_scvi_labels', 'predicted', 'transfer_score'\n",
       "    uns: '_scvi_uuid', '_scvi_manager_uuid'\n",
       "    obsm: '_scvi_extra_categorical_covs', 'X_scVI'\n",
       "    layers: 'Norm_exp_scVI'"
      ]
     },
     "execution_count": 25,
     "metadata": {},
     "output_type": "execute_result"
    }
   ],
   "source": [
    "andata_combined.layers['Norm_exp_scVI'] = model_scvi.get_normalized_expression()\n",
    "andata_combined"
   ]
  },
  {
   "cell_type": "code",
   "execution_count": 27,
   "id": "16309011",
   "metadata": {},
   "outputs": [
    {
     "data": {
      "text/plain": [
       "(328122, 1066)"
      ]
     },
     "execution_count": 27,
     "metadata": {},
     "output_type": "execute_result"
    }
   ],
   "source": [
    "andata_combined.layers['Norm_exp_scVI'].shape"
   ]
  },
  {
   "cell_type": "code",
   "execution_count": 28,
   "id": "c7cacc76",
   "metadata": {},
   "outputs": [],
   "source": [
    "andata_bc = andata_combined[andata_combined.obs['sample']=='ST'].copy()"
   ]
  },
  {
   "cell_type": "code",
   "execution_count": 29,
   "id": "1659e17f",
   "metadata": {},
   "outputs": [],
   "source": [
    "andata_save = andata_bc.copy()\n",
    "andata_save.write_h5ad(os.path.join(pathout, \"andata_bc_BreastCancer_harmony_scVI_scANVI_unintigrated_untuned.h5ad\"))"
   ]
  }
 ],
 "metadata": {
  "kernelspec": {
   "display_name": "Python 3 (ipykernel)",
   "language": "python",
   "name": "python3"
  },
  "language_info": {
   "codemirror_mode": {
    "name": "ipython",
    "version": 3
   },
   "file_extension": ".py",
   "mimetype": "text/x-python",
   "name": "python",
   "nbconvert_exporter": "python",
   "pygments_lexer": "ipython3",
   "version": "3.12.7"
  }
 },
 "nbformat": 4,
 "nbformat_minor": 5
}
