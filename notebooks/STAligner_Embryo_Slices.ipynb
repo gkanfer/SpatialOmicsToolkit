{
 "cells": [
  {
   "cell_type": "code",
   "execution_count": 2,
   "id": "efd3bc50-aa33-4395-bd42-dc1e933c3105",
   "metadata": {},
   "outputs": [
    {
     "name": "stderr",
     "output_type": "stream",
     "text": [
      "<frozen importlib._bootstrap>:219: RuntimeWarning: scipy._lib.messagestream.MessageStream size changed, may indicate binary incompatibility. Expected 56 from C header, got 64 from PyObject\n"
     ]
    },
    {
     "name": "stdout",
     "output_type": "stream",
     "text": [
      "1\n"
     ]
    }
   ],
   "source": [
    "import STAligner\n",
    "\n",
    "# the location of R (used for the mclust clustering)\n",
    "import os\n",
    "# os.environ['R_HOME'] = \"/data/kanferg/conda/envs/env_STAligner/lib\"\n",
    "# os.environ['R_USER'] = \"/data/kanferg/conda/envs/env_STAligner/lib/python3.8/site-packages/rpy2\"\n",
    "# import rpy2.robjects as robjects\n",
    "# import rpy2.robjects.numpy2ri\n",
    "\n",
    "import anndata as ad\n",
    "import scanpy as sc\n",
    "import pandas as pd\n",
    "import numpy as np\n",
    "import scipy.sparse as sp\n",
    "import scipy.linalg\n",
    "\n",
    "import torch\n",
    "print(torch.cuda.device_count())"
   ]
  },
  {
   "cell_type": "code",
   "execution_count": 3,
   "id": "8eca3cbf-0020-44b2-b1f1-5b4c34a69380",
   "metadata": {},
   "outputs": [],
   "source": [
    "used_device = torch.device('cuda')"
   ]
  },
  {
   "cell_type": "code",
   "execution_count": 4,
   "id": "b5d356ef",
   "metadata": {},
   "outputs": [
    {
     "name": "stdout",
     "output_type": "stream",
     "text": [
      "SciPy version: 1.10.1\n",
      "NetworkX version: 2.8.4\n"
     ]
    }
   ],
   "source": [
    "import scipy\n",
    "import networkx\n",
    "\n",
    "print(\"SciPy version:\", scipy.__version__)\n",
    "print(\"NetworkX version:\", networkx.__version__)"
   ]
  },
  {
   "cell_type": "code",
   "execution_count": 5,
   "id": "4307fbcf-0192-411d-91bc-e141f95efed3",
   "metadata": {},
   "outputs": [],
   "source": [
    "path =  \"/data/kanferg/Sptial_Omics/playGround/Data/embryo_slices/\""
   ]
  },
  {
   "cell_type": "code",
   "execution_count": 6,
   "id": "82e8b676-b570-4a74-86e5-71a703ff4375",
   "metadata": {},
   "outputs": [
    {
     "name": "stdout",
     "output_type": "stream",
     "text": [
      "E9.5_E1S1\n",
      "------Calculating spatial graph...\n"
     ]
    },
    {
     "name": "stderr",
     "output_type": "stream",
     "text": [
      "/gpfs/gsfs10/users/kanferg/Sptial_Omics/playGround/STAligner/STAligner/ST_utils.py:83: SettingWithCopyWarning: \n",
      "A value is trying to be set on a copy of a slice from a DataFrame.\n",
      "Try using .loc[row_indexer,col_indexer] = value instead\n",
      "\n",
      "See the caveats in the documentation: https://pandas.pydata.org/pandas-docs/stable/user_guide/indexing.html#returning-a-view-versus-a-copy\n",
      "  Spatial_Net['Cell1'] = Spatial_Net['Cell1'].map(id_cell_trans)\n",
      "/gpfs/gsfs10/users/kanferg/Sptial_Omics/playGround/STAligner/STAligner/ST_utils.py:84: SettingWithCopyWarning: \n",
      "A value is trying to be set on a copy of a slice from a DataFrame.\n",
      "Try using .loc[row_indexer,col_indexer] = value instead\n",
      "\n",
      "See the caveats in the documentation: https://pandas.pydata.org/pandas-docs/stable/user_guide/indexing.html#returning-a-view-versus-a-copy\n",
      "  Spatial_Net['Cell2'] = Spatial_Net['Cell2'].map(id_cell_trans)\n"
     ]
    },
    {
     "name": "stdout",
     "output_type": "stream",
     "text": [
      "The graph contains 23166 edges, 5913 cells.\n",
      "3.9178 neighbors per cell on average.\n",
      "E10.5_E1S1\n",
      "------Calculating spatial graph...\n"
     ]
    },
    {
     "name": "stderr",
     "output_type": "stream",
     "text": [
      "/gpfs/gsfs10/users/kanferg/Sptial_Omics/playGround/STAligner/STAligner/ST_utils.py:83: SettingWithCopyWarning: \n",
      "A value is trying to be set on a copy of a slice from a DataFrame.\n",
      "Try using .loc[row_indexer,col_indexer] = value instead\n",
      "\n",
      "See the caveats in the documentation: https://pandas.pydata.org/pandas-docs/stable/user_guide/indexing.html#returning-a-view-versus-a-copy\n",
      "  Spatial_Net['Cell1'] = Spatial_Net['Cell1'].map(id_cell_trans)\n",
      "/gpfs/gsfs10/users/kanferg/Sptial_Omics/playGround/STAligner/STAligner/ST_utils.py:84: SettingWithCopyWarning: \n",
      "A value is trying to be set on a copy of a slice from a DataFrame.\n",
      "Try using .loc[row_indexer,col_indexer] = value instead\n",
      "\n",
      "See the caveats in the documentation: https://pandas.pydata.org/pandas-docs/stable/user_guide/indexing.html#returning-a-view-versus-a-copy\n",
      "  Spatial_Net['Cell2'] = Spatial_Net['Cell2'].map(id_cell_trans)\n"
     ]
    },
    {
     "name": "stdout",
     "output_type": "stream",
     "text": [
      "The graph contains 72822 edges, 18408 cells.\n",
      "3.9560 neighbors per cell on average.\n",
      "E11.5_E1S1\n",
      "------Calculating spatial graph...\n"
     ]
    },
    {
     "name": "stderr",
     "output_type": "stream",
     "text": [
      "/gpfs/gsfs10/users/kanferg/Sptial_Omics/playGround/STAligner/STAligner/ST_utils.py:83: SettingWithCopyWarning: \n",
      "A value is trying to be set on a copy of a slice from a DataFrame.\n",
      "Try using .loc[row_indexer,col_indexer] = value instead\n",
      "\n",
      "See the caveats in the documentation: https://pandas.pydata.org/pandas-docs/stable/user_guide/indexing.html#returning-a-view-versus-a-copy\n",
      "  Spatial_Net['Cell1'] = Spatial_Net['Cell1'].map(id_cell_trans)\n",
      "/gpfs/gsfs10/users/kanferg/Sptial_Omics/playGround/STAligner/STAligner/ST_utils.py:84: SettingWithCopyWarning: \n",
      "A value is trying to be set on a copy of a slice from a DataFrame.\n",
      "Try using .loc[row_indexer,col_indexer] = value instead\n",
      "\n",
      "See the caveats in the documentation: https://pandas.pydata.org/pandas-docs/stable/user_guide/indexing.html#returning-a-view-versus-a-copy\n",
      "  Spatial_Net['Cell2'] = Spatial_Net['Cell2'].map(id_cell_trans)\n"
     ]
    },
    {
     "name": "stdout",
     "output_type": "stream",
     "text": [
      "The graph contains 119204 edges, 30124 cells.\n",
      "3.9571 neighbors per cell on average.\n"
     ]
    }
   ],
   "source": [
    "Batch_list = []\n",
    "adj_list = []\n",
    "\n",
    "section_ids = ['E9.5_E1S1', 'E10.5_E1S1', 'E11.5_E1S1']\n",
    "for section_id in section_ids:\n",
    "    print(section_id)\n",
    "    adata = sc.read_h5ad(os.path.join(path + section_id + \".MOSTA.h5ad\"))\n",
    "    adata.X = adata.layers['count']\n",
    "\n",
    "    # make spot name unique\n",
    "    adata.obs_names = [x + '_' + section_id for x in adata.obs_names]\n",
    "\n",
    "    STAligner.Cal_Spatial_Net(adata, rad_cutoff=1.3)\n",
    "\n",
    "    # Normalization\n",
    "    sc.pp.normalize_total(adata, target_sum=1e4)\n",
    "    sc.pp.log1p(adata)\n",
    "    sc.pp.highly_variable_genes(adata,  n_top_genes=5000) #ensure enough common HVGs in the combined matrix\n",
    "    adata = adata[:, adata.var['highly_variable']]\n",
    "\n",
    "    adj_list.append(adata.uns['adj'])\n",
    "    Batch_list.append(adata)"
   ]
  },
  {
   "cell_type": "code",
   "execution_count": 7,
   "id": "d647c5a6-8046-4b2c-ad7b-dcba95961c16",
   "metadata": {},
   "outputs": [
    {
     "name": "stdout",
     "output_type": "stream",
     "text": [
      "adata_concat.shape:  (54445, 436)\n"
     ]
    }
   ],
   "source": [
    "adata_concat = ad.concat(Batch_list, label=\"slice_name\", keys=section_ids)\n",
    "adata_concat.obs[\"batch_name\"] = adata_concat.obs[\"slice_name\"].astype('category')\n",
    "print('adata_concat.shape: ', adata_concat.shape)"
   ]
  },
  {
   "cell_type": "code",
   "execution_count": 8,
   "id": "7e5c9e64-851b-4c5e-b9d2-29d1f091cb51",
   "metadata": {},
   "outputs": [
    {
     "data": {
      "text/plain": [
       "array([[1., 1., 0., ..., 0., 0., 0.],\n",
       "       [1., 1., 1., ..., 0., 0., 0.],\n",
       "       [0., 1., 1., ..., 0., 0., 0.],\n",
       "       ...,\n",
       "       [0., 0., 0., ..., 1., 1., 0.],\n",
       "       [0., 0., 0., ..., 1., 1., 1.],\n",
       "       [0., 0., 0., ..., 0., 1., 1.]])"
      ]
     },
     "execution_count": 8,
     "metadata": {},
     "output_type": "execute_result"
    }
   ],
   "source": [
    "np.asarray(adj_list[0].todense())"
   ]
  },
  {
   "cell_type": "code",
   "execution_count": 9,
   "id": "6b071b9d-7ee1-48da-8d41-c6feaa2814de",
   "metadata": {},
   "outputs": [],
   "source": [
    "# adj_concat = np.asarray(adj_list[0].todense())\n",
    "# for batch_id in range(1,len(section_ids)):\n",
    "#     adj_concat = scipy.linalg.block_diag(adj_concat, np.asarray(adj_list[batch_id].todense()))\n",
    "# adata_concat.uns['edgeList'] = np.nonzero(adj_concat)"
   ]
  },
  {
   "cell_type": "code",
   "execution_count": 10,
   "id": "8b270b94-bb48-47df-87d5-7f829fab0e0c",
   "metadata": {},
   "outputs": [],
   "source": [
    "adj_concat = np.asarray(adj_list[0].todense())\n",
    "adj_concat = scipy.linalg.block_diag(adj_concat, np.asarray(adj_list[1].todense()))"
   ]
  },
  {
   "cell_type": "code",
   "execution_count": 11,
   "id": "1b4fac20-b546-4f13-8f64-1f3cb5885c77",
   "metadata": {},
   "outputs": [],
   "source": [
    "adj_concat = scipy.linalg.block_diag(adj_concat, np.asarray(adj_list[2].todense()))"
   ]
  },
  {
   "cell_type": "code",
   "execution_count": 12,
   "id": "ca23d580-158e-42dd-9a4e-9df96ed47e2e",
   "metadata": {},
   "outputs": [],
   "source": [
    "#adj_concat = scipy.linalg.block_diag(adj_concat, np.asarray(adj_list[3].todense()))"
   ]
  },
  {
   "cell_type": "code",
   "execution_count": 13,
   "id": "471258b4-07bb-48a8-b992-e2b65a00ae90",
   "metadata": {},
   "outputs": [],
   "source": [
    "adata_concat.uns['edgeList'] = np.nonzero(adj_concat) "
   ]
  },
  {
   "cell_type": "code",
   "execution_count": 14,
   "id": "383c1413-5b39-45d7-84aa-db31f29d0070",
   "metadata": {},
   "outputs": [
    {
     "name": "stdout",
     "output_type": "stream",
     "text": [
      "STAligner(\n",
      "  (conv1): GATConv(436, 512, heads=1)\n",
      "  (conv2): GATConv(512, 30, heads=1)\n",
      "  (conv3): GATConv(30, 512, heads=1)\n",
      "  (conv4): GATConv(512, 436, heads=1)\n",
      ")\n",
      "Pretrain with STAGATE...\n"
     ]
    },
    {
     "name": "stderr",
     "output_type": "stream",
     "text": [
      "100%|██████████████████████████████████████████████████████████| 500/500 [00:22<00:00, 21.90it/s]\n"
     ]
    },
    {
     "name": "stdout",
     "output_type": "stream",
     "text": [
      "Train with STAligner...\n"
     ]
    },
    {
     "name": "stderr",
     "output_type": "stream",
     "text": [
      "\r",
      "  0%|                                                                    | 0/500 [00:00<?, ?it/s]"
     ]
    },
    {
     "name": "stdout",
     "output_type": "stream",
     "text": [
      "Update spot triplets at epoch 500\n"
     ]
    },
    {
     "name": "stderr",
     "output_type": "stream",
     "text": [
      "/gpfs/gsfs10/users/kanferg/Sptial_Omics/playGround/STAligner/STAligner/mnn_utils.py:51: FutureWarning: adjacency_matrix will return a scipy.sparse array instead of a matrix in Networkx 3.0.\n",
      "  adj = nx.adjacency_matrix(G)\n",
      " 20%|███████████▌                                              | 100/500 [00:18<00:17, 22.30it/s]"
     ]
    },
    {
     "name": "stdout",
     "output_type": "stream",
     "text": [
      "Update spot triplets at epoch 600\n"
     ]
    },
    {
     "name": "stderr",
     "output_type": "stream",
     "text": [
      " 40%|███████████████████████                                   | 199/500 [00:39<00:13, 21.93it/s]"
     ]
    },
    {
     "name": "stdout",
     "output_type": "stream",
     "text": [
      "Update spot triplets at epoch 700\n"
     ]
    },
    {
     "name": "stderr",
     "output_type": "stream",
     "text": [
      " 60%|██████████████████████████████████▊                       | 300/500 [01:02<00:09, 21.99it/s]"
     ]
    },
    {
     "name": "stdout",
     "output_type": "stream",
     "text": [
      "Update spot triplets at epoch 800\n"
     ]
    },
    {
     "name": "stderr",
     "output_type": "stream",
     "text": [
      " 80%|██████████████████████████████████████████████▍           | 400/500 [01:25<00:04, 21.99it/s]"
     ]
    },
    {
     "name": "stdout",
     "output_type": "stream",
     "text": [
      "Update spot triplets at epoch 900\n"
     ]
    },
    {
     "name": "stderr",
     "output_type": "stream",
     "text": [
      "100%|██████████████████████████████████████████████████████████| 500/500 [01:48<00:00,  4.59it/s]\n"
     ]
    }
   ],
   "source": [
    "iter_comb = [(1, 0), (2, 0)] ## Fix slice 0 as reference to align\n",
    "adata_concat = STAligner.train_STAligner(adata_concat, verbose=True, knn_neigh = 100, iter_comb = iter_comb,\n",
    "                                                        margin=2.5,  device=used_device)"
   ]
  },
  {
   "cell_type": "code",
   "execution_count": 21,
   "id": "30c339f1",
   "metadata": {},
   "outputs": [
    {
     "data": {
      "text/plain": [
       "OverloadedDict, wrapping:\n",
       "\tOrderedDict([('edgeList', (array([    0,     0,     0, ..., 54444, 54444, 54444]), array([    0,     1,    28, ..., 54421, 54443, 54444])))])\n",
       "With overloaded keys:\n",
       "\t['neighbors']."
      ]
     },
     "execution_count": 21,
     "metadata": {},
     "output_type": "execute_result"
    }
   ],
   "source": [
    "adata_concat.uns"
   ]
  },
  {
   "cell_type": "code",
   "execution_count": 23,
   "id": "09e7d1aa",
   "metadata": {},
   "outputs": [],
   "source": [
    "adata_concat_temp = adata_concat.copy()"
   ]
  },
  {
   "cell_type": "code",
   "execution_count": 24,
   "id": "bfb84aff",
   "metadata": {},
   "outputs": [],
   "source": [
    "del adata_concat_temp.obs"
   ]
  },
  {
   "cell_type": "code",
   "execution_count": 28,
   "id": "1d657e19",
   "metadata": {},
   "outputs": [
    {
     "data": {
      "text/plain": [
       "(54445, 436)"
      ]
     },
     "execution_count": 28,
     "metadata": {},
     "output_type": "execute_result"
    }
   ],
   "source": [
    "adata_concat_temp.shape"
   ]
  },
  {
   "cell_type": "code",
   "execution_count": 27,
   "id": "42da6a8f",
   "metadata": {},
   "outputs": [
    {
     "data": {
      "text/plain": [
       "(54445, 30)"
      ]
     },
     "execution_count": 27,
     "metadata": {},
     "output_type": "execute_result"
    }
   ],
   "source": [
    "adata_concat_temp.obsm['STAligner'].shape"
   ]
  },
  {
   "cell_type": "code",
   "execution_count": null,
   "id": "f7fd8f28-7260-47a2-bd47-78acbd900498",
   "metadata": {},
   "outputs": [],
   "source": [
    "sc.pp.neighbors(adata_concat, use_rep='STAligner', random_state=666)\n",
    "sc.tl.louvain(adata_concat, random_state=666, key_added=\"louvain\", resolution=0.4)"
   ]
  }
 ],
 "metadata": {
  "kernelspec": {
   "display_name": "Python 3 (ipykernel)",
   "language": "python",
   "name": "python3"
  },
  "language_info": {
   "codemirror_mode": {
    "name": "ipython",
    "version": 3
   },
   "file_extension": ".py",
   "mimetype": "text/x-python",
   "name": "python",
   "nbconvert_exporter": "python",
   "pygments_lexer": "ipython3",
   "version": "3.8.19"
  }
 },
 "nbformat": 4,
 "nbformat_minor": 5
}
