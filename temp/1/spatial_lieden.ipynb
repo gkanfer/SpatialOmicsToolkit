{
 "cells": [
  {
   "cell_type": "code",
   "execution_count": 1,
   "id": "a987a000-fbb0-4b45-85fe-bcef5c03c8d1",
   "metadata": {},
   "outputs": [],
   "source": [
    "import cupy as cp\n",
    "import cupyx\n",
    "import scanpy as sc\n",
    "import spatialleiden as sl\n",
    "import squidpy as sq\n",
    "import numpy as np\n",
    "from cupyx.scipy.sparse import csr_matrix\n",
    "import os\n",
    "from PIL import Image\n",
    "import matplotlib.pyplot as plt\n",
    "from matplotlib.colors import ListedColormap\n",
    "from matplotlib.colors import LinearSegmentedColormap\n",
    "from matplotlib.backends.backend_pdf import PdfPages\n",
    "import seaborn as sns\n",
    "import random\n",
    "import pandas as pd"
   ]
  },
  {
   "cell_type": "code",
   "execution_count": 11,
   "id": "bb413a1e-e84d-4c03-8e78-61a7c0493a4f",
   "metadata": {},
   "outputs": [],
   "source": [
    "pathout = '/data/kanferg/Sptial_Omics/projects/NguyenLab/spatialomicstoolkit/out_1'\n",
    "adata_concat = sc.read_h5ad(os.path.join(pathout, \"andata_filter_logNorm_hvg_leiden_harmony_scvi_con_mouse_cov_umap.h5ad\"))"
   ]
  },
  {
   "cell_type": "code",
   "execution_count": 18,
   "id": "a2e7d51e-0467-459e-b739-bd38f714e749",
   "metadata": {},
   "outputs": [],
   "source": [
    "del_obs = [ 'transcript_counts', 'control_probe_counts', 'genomic_control_counts', 'control_codeword_counts', 'unassigned_codeword_counts', 'deprecated_codeword_counts','segmentation_method', 'region', 'z_level', 'cell_labels','n_genes_by_counts', 'log1p_n_genes_by_counts', 'log1p_total_counts', 'outlier', 'cluster', '_scvi_batch', '_scvi_labels', 'cluster_scVI', 'cluster_cell2loc']\n",
    "del_var = [ 'total_counts', 'mean_counts', 'pct_dropout_by_counts', 'log1p_total_counts', 'log1p_mean_counts', 'highly_variable', 'highly_variable_rank', 'means', 'variances', 'variances_norm']\n",
    "del_uns = [ '_scvi_manager_uuid', '_scvi_uuid', 'before_int', 'cell2locNigb', 'hvg', 'leiden', 'log1p', 'neighbors', 'pca', 'q05_cell_abundance_w_sf', 'scVInigb', 'umap']\n",
    "del_obsm = ['Unintegrated_umap', 'X_cell2loc', 'X_pca','X_pca_before', 'X_scVI', '_scvi_extra_categorical_covs', 'cell2lo_umap', 'harmony_umap', 'scVI_umap']\n",
    "del_obsp = ['before_int_connectivities', 'before_int_distances', 'cell2locNigb_connectivities', 'cell2locNigb_distances', 'connectivities', 'distances', 'scVInigb_connectivities', 'scVInigb_distances']\n",
    "for rem in del_obs:\n",
    "    if rem in adata_concat.obs:  # Ensure the key exists before deleting\n",
    "        del adata_concat.obs[rem]\n",
    "\n",
    "# Deleting items from adata_concat.var\n",
    "for rem in del_var:\n",
    "    if rem in adata_concat.var:  # Ensure the key exists before deleting\n",
    "        del adata_concat.var[rem]\n",
    "\n",
    "# Deleting items from adata_concat.uns\n",
    "for rem in del_uns:\n",
    "    if rem in adata_concat.uns:  # Ensure the key exists before deleting\n",
    "        del adata_concat.uns[rem]\n",
    "\n",
    "# Deleting items from adata_concat.obsm\n",
    "for rem in del_obsm:\n",
    "    if rem in adata_concat.obsm:  # Ensure the key exists before deleting\n",
    "        del adata_concat.obsm[rem]\n",
    "\n",
    "# Deleting items from adata_concat.obsp\n",
    "for rem in del_obsp:\n",
    "    if rem in adata_concat.obsp:  # Ensure the key exists before deleting\n",
    "        del adata_concat.obsp[rem]"
   ]
  },
  {
   "cell_type": "code",
   "execution_count": 20,
   "id": "087d6fb5-cc7f-4b35-87aa-110e69125d6e",
   "metadata": {},
   "outputs": [],
   "source": [
    "adata_concat.X = adata_concat.layers['log']"
   ]
  },
  {
   "cell_type": "code",
   "execution_count": 26,
   "id": "2023c16c-9ead-462b-914f-ec4259713ae7",
   "metadata": {},
   "outputs": [
    {
     "data": {
      "text/plain": [
       "AnnData object with n_obs × n_vars = 664093 × 2000\n",
       "    obs: 'cell_id', 'total_counts', 'cell_area', 'nucleus_area', 'nucleus_count', 'batch', 'cluster_Harmony'\n",
       "    var: 'n_cells_by_counts'\n",
       "    uns: 'HarmonyNigb', 'spatial_neighbors'\n",
       "    obsm: 'X_pca_Harmony', 'spatial'\n",
       "    varm: 'PCs'\n",
       "    layers: 'counts', 'log', 'scvi_normalized'\n",
       "    obsp: 'HarmonyNigb_connectivities', 'HarmonyNigb_distances', 'spatial_connectivities', 'spatial_distances'"
      ]
     },
     "execution_count": 26,
     "metadata": {},
     "output_type": "execute_result"
    }
   ],
   "source": [
    "adata_concat"
   ]
  },
  {
   "cell_type": "code",
   "execution_count": 27,
   "id": "e2dd66c9-e182-46ba-86ae-49e37b4b8144",
   "metadata": {},
   "outputs": [],
   "source": [
    "adata_concat.obsp['connectivities'] = adata_concat.obsp['HarmonyNigb_connectivities']\n",
    "adata_concat.obsp['distances'] = adata_concat.obsp['HarmonyNigb_distances']"
   ]
  },
  {
   "cell_type": "code",
   "execution_count": 22,
   "id": "12ee18cd-715b-493c-883a-69e12bd1c896",
   "metadata": {},
   "outputs": [],
   "source": [
    "sq.gr.spatial_neighbors(adata_concat, coord_type=\"generic\")"
   ]
  },
  {
   "cell_type": "code",
   "execution_count": 28,
   "id": "a6a30229-60d0-427a-91fe-e3378a1fd7ac",
   "metadata": {},
   "outputs": [],
   "source": [
    "adata_concat.obsp[\"spatial_connectivities\"] = sl.distance2connectivity(adata_concat.obsp[\"spatial_distances\"])"
   ]
  },
  {
   "cell_type": "code",
   "execution_count": 29,
   "id": "70d51aa7-3d96-465a-8fb2-b177cf99c77f",
   "metadata": {},
   "outputs": [],
   "source": [
    "seed = 42\n",
    "sl.spatialleiden(adata_concat, layer_ratio=1.5, directed=(False, True), seed=seed)"
   ]
  },
  {
   "cell_type": "code",
   "execution_count": 30,
   "id": "3c6d3d31-0d36-45ef-9462-ede6beea6c5e",
   "metadata": {},
   "outputs": [
    {
     "data": {
      "text/plain": [
       "AnnData object with n_obs × n_vars = 664093 × 2000\n",
       "    obs: 'cell_id', 'total_counts', 'cell_area', 'nucleus_area', 'nucleus_count', 'batch', 'cluster_Harmony', 'spatialleiden'\n",
       "    var: 'n_cells_by_counts'\n",
       "    uns: 'HarmonyNigb', 'spatial_neighbors'\n",
       "    obsm: 'X_pca_Harmony', 'spatial'\n",
       "    varm: 'PCs'\n",
       "    layers: 'counts', 'log', 'scvi_normalized'\n",
       "    obsp: 'HarmonyNigb_connectivities', 'HarmonyNigb_distances', 'spatial_connectivities', 'spatial_distances', 'connectivities', 'distances'"
      ]
     },
     "execution_count": 30,
     "metadata": {},
     "output_type": "execute_result"
    }
   ],
   "source": [
    "adata_concat"
   ]
  },
  {
   "cell_type": "code",
   "execution_count": 31,
   "id": "8d458803-0a4c-4e5f-a8d9-445a6a2c2380",
   "metadata": {},
   "outputs": [],
   "source": [
    "andata_save = adata_concat.copy()\n",
    "andata_save.write_h5ad(os.path.join(pathout, \"andata_filter_logNorm_hvg_leiden_harmony_spatialleiden.h5ad\"))"
   ]
  }
 ],
 "metadata": {
  "kernelspec": {
   "display_name": "Python 3 (ipykernel)",
   "language": "python",
   "name": "python3"
  },
  "language_info": {
   "codemirror_mode": {
    "name": "ipython",
    "version": 3
   },
   "file_extension": ".py",
   "mimetype": "text/x-python",
   "name": "python",
   "nbconvert_exporter": "python",
   "pygments_lexer": "ipython3",
   "version": "3.11.9"
  }
 },
 "nbformat": 4,
 "nbformat_minor": 5
}
