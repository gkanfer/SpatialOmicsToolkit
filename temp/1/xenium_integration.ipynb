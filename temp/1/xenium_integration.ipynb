{
 "cells": [
  {
   "cell_type": "markdown",
   "id": "cbb51e33-d474-41e1-8f63-59071ac1d20e",
   "metadata": {},
   "source": [
    "Harmony\n",
    "```bash\n",
    "source mycond\n",
    "mamba activate stlearn-env\n",
    "jupyter notebook --ip localhost --port $PORT1 --no-browser\n",
    "```"
   ]
  },
  {
   "cell_type": "code",
   "execution_count": 1,
   "id": "5562c33e-6497-414c-9974-4fb064f8f6fc",
   "metadata": {},
   "outputs": [],
   "source": [
    "import warnings\n",
    "warnings.simplefilter(\"ignore\", FutureWarning)\n",
    "warnings.simplefilter(\"ignore\", UserWarning)\n",
    "warnings.simplefilter(\"ignore\", RuntimeWarning)"
   ]
  },
  {
   "cell_type": "code",
   "execution_count": 3,
   "id": "c79e9028-6332-42a1-bac1-8f0c726f4da0",
   "metadata": {},
   "outputs": [],
   "source": [
    "import cupy as cp\n",
    "import cupyx\n",
    "import scanpy as sc\n",
    "import stlearn as st\n",
    "import scanpy as sc\n",
    "import numpy as np\n",
    "from cupyx.scipy.sparse import csr_matrix\n",
    "import os\n",
    "from PIL import Image\n",
    "import matplotlib.pyplot as plt\n",
    "from matplotlib.colors import ListedColormap\n",
    "from matplotlib.colors import LinearSegmentedColormap\n",
    "from matplotlib.backends.backend_pdf import PdfPages\n",
    "import seaborn as sns\n",
    "import random\n",
    "import pandas as pd"
   ]
  },
  {
   "cell_type": "code",
   "execution_count": 2,
   "id": "cf55c3fb-e9cc-4304-954b-3f036ecb0b23",
   "metadata": {},
   "outputs": [],
   "source": [
    "pathout = '/data/kanferg/Sptial_Omics/projects/NguyenLab/spatialomicstoolkit/out_1'\n",
    "adata_concat = sc.read_h5ad(os.path.join(pathout, \"andata_filter_logNorm_hvg_leiden.h5ad\"))"
   ]
  },
  {
   "cell_type": "code",
   "execution_count": 6,
   "id": "e8258b44-6e77-4c1d-b569-f942e4c1ffcc",
   "metadata": {},
   "outputs": [],
   "source": [
    "meta_data = adata_concat.obs\n",
    "data_mat = adata_concat.obsm[\"X_pca\"]"
   ]
  },
  {
   "cell_type": "code",
   "execution_count": 7,
   "id": "b7ea1ddc-2057-4856-b1f1-11fdd8798c36",
   "metadata": {},
   "outputs": [
    {
     "name": "stderr",
     "output_type": "stream",
     "text": [
      "2024-12-03 17:49:20,534 - harmonypy - INFO - Computing initial centroids with sklearn.KMeans...\n",
      "2024-12-03 17:52:58,428 - harmonypy - INFO - sklearn.KMeans initialization complete.\n",
      "2024-12-03 17:53:01,771 - harmonypy - INFO - Iteration 1 of 10\n",
      "2024-12-03 17:59:59,080 - harmonypy - INFO - Iteration 2 of 10\n",
      "2024-12-03 18:07:19,455 - harmonypy - INFO - Converged after 2 iterations\n"
     ]
    }
   ],
   "source": [
    "import harmonypy as hm\n",
    "ho = hm.run_harmony(data_mat, meta_data, \"batch\")"
   ]
  },
  {
   "cell_type": "code",
   "execution_count": 8,
   "id": "977a463f-6f0f-417a-ae84-d379dffa4abc",
   "metadata": {},
   "outputs": [],
   "source": [
    "adata_concat.obsm[\"X_pca_before\"] = adata_concat.obsm[\"X_pca\"]"
   ]
  },
  {
   "cell_type": "code",
   "execution_count": 9,
   "id": "91b9df54-d09e-48c4-87de-4ebf7b4a828a",
   "metadata": {},
   "outputs": [],
   "source": [
    "adata_concat.obsm[\"X_pca_Harmony\"] = ho.Z_corr.T"
   ]
  },
  {
   "cell_type": "code",
   "execution_count": 10,
   "id": "570fb9af-fc74-412b-abfc-12df830c09af",
   "metadata": {},
   "outputs": [],
   "source": [
    "andata_save = adata_concat.copy()"
   ]
  },
  {
   "cell_type": "code",
   "execution_count": 12,
   "id": "cb20401d-9152-4c8c-b685-bb3345bd1529",
   "metadata": {},
   "outputs": [],
   "source": [
    "andata_save.write_h5ad(os.path.join(pathout, \"andata_filter_logNorm_hvg_leiden_harmony.h5ad\"))"
   ]
  },
  {
   "cell_type": "markdown",
   "id": "8f0418a4",
   "metadata": {},
   "source": [
    "## scvi"
   ]
  },
  {
   "cell_type": "markdown",
   "id": "8314b8e9",
   "metadata": {},
   "source": [
    "```bash\n",
    "source myconda  \n",
    "mamba activate scvi_env \n",
    "jupyter notebook --ip localhost --port $PORT1 --no-browser\n",
    "```"
   ]
  },
  {
   "cell_type": "code",
   "execution_count": 1,
   "id": "28f8a19e",
   "metadata": {},
   "outputs": [],
   "source": [
    "import warnings\n",
    "warnings.simplefilter(\"ignore\", FutureWarning)\n",
    "warnings.simplefilter(\"ignore\", UserWarning)\n",
    "warnings.simplefilter(\"ignore\", RuntimeWarning)\n",
    "\n"
   ]
  },
  {
   "cell_type": "code",
   "execution_count": 2,
   "id": "8eaf416e",
   "metadata": {},
   "outputs": [],
   "source": [
    "import scanpy as sc\n",
    "import os\n",
    "import pandas as pd\n",
    "import numpy as np\n",
    "import matplotlib.pyplot as plt\n",
    "import seaborn as sns\n",
    "import scvi\n",
    "import torch\n",
    "#import celltypist\n",
    "#from celltypist import models\n",
    "from scvi.autotune import ModelTuner\n",
    "from ray import tune\n",
    "import ray"
   ]
  },
  {
   "cell_type": "code",
   "execution_count": 3,
   "id": "f674db78",
   "metadata": {},
   "outputs": [],
   "source": [
    "torch.set_float32_matmul_precision(\"high\")"
   ]
  },
  {
   "cell_type": "code",
   "execution_count": 4,
   "id": "5a9ea30a",
   "metadata": {},
   "outputs": [
    {
     "name": "stdout",
     "output_type": "stream",
     "text": [
      "scvi-tools version: 1.1.6.post2\n"
     ]
    }
   ],
   "source": [
    "print(\"scvi-tools version:\", scvi.__version__)"
   ]
  },
  {
   "cell_type": "code",
   "execution_count": 5,
   "id": "d27bbbfc",
   "metadata": {},
   "outputs": [
    {
     "name": "stdout",
     "output_type": "stream",
     "text": [
      "CUDA available: True\n"
     ]
    }
   ],
   "source": [
    "print(\"CUDA available:\", torch.cuda.is_available())"
   ]
  },
  {
   "cell_type": "code",
   "execution_count": 6,
   "id": "3dd45542",
   "metadata": {},
   "outputs": [],
   "source": [
    "pathout = '/data/kanferg/Sptial_Omics/projects/NguyenLab/spatialomicstoolkit/out_1'\n",
    "andtata_in = sc.read_h5ad(os.path.join(pathout, \"andata_filter_logNorm_hvg_leiden_harmony.h5ad\"))"
   ]
  },
  {
   "cell_type": "markdown",
   "id": "6f7c2c0a",
   "metadata": {},
   "source": [
    "The Experimental Design table contains the covariates that need to be included in the scVI model."
   ]
  },
  {
   "cell_type": "code",
   "execution_count": 7,
   "id": "796f23f8",
   "metadata": {},
   "outputs": [
    {
     "data": {
      "text/html": [
       "<div>\n",
       "<style scoped>\n",
       "    .dataframe tbody tr th:only-of-type {\n",
       "        vertical-align: middle;\n",
       "    }\n",
       "\n",
       "    .dataframe tbody tr th {\n",
       "        vertical-align: top;\n",
       "    }\n",
       "\n",
       "    .dataframe thead th {\n",
       "        text-align: right;\n",
       "    }\n",
       "</style>\n",
       "<table border=\"1\" class=\"dataframe\">\n",
       "  <thead>\n",
       "    <tr style=\"text-align: right;\">\n",
       "      <th></th>\n",
       "      <th>#</th>\n",
       "      <th>Polygon</th>\n",
       "      <th>Sample_ID</th>\n",
       "      <th>Condition</th>\n",
       "      <th>Thy</th>\n",
       "      <th>Technical_repeat</th>\n",
       "      <th>Mouse_ID</th>\n",
       "      <th>Harvest_Day</th>\n",
       "      <th>Harvest_Date</th>\n",
       "      <th>Size</th>\n",
       "      <th>Immune_Cell</th>\n",
       "      <th>Comment</th>\n",
       "    </tr>\n",
       "  </thead>\n",
       "  <tbody>\n",
       "    <tr>\n",
       "      <th>0</th>\n",
       "      <td>1</td>\n",
       "      <td>58</td>\n",
       "      <td>4_M-3</td>\n",
       "      <td>Mock</td>\n",
       "      <td>1.38</td>\n",
       "      <td>3</td>\n",
       "      <td>790</td>\n",
       "      <td>4</td>\n",
       "      <td>6/28/24</td>\n",
       "      <td>&lt;3mm</td>\n",
       "      <td>minimal</td>\n",
       "      <td>NaN</td>\n",
       "    </tr>\n",
       "    <tr>\n",
       "      <th>1</th>\n",
       "      <td>2</td>\n",
       "      <td>54</td>\n",
       "      <td>4_M-2</td>\n",
       "      <td>Mock</td>\n",
       "      <td>2.22</td>\n",
       "      <td>2</td>\n",
       "      <td>789</td>\n",
       "      <td>4</td>\n",
       "      <td>6/28/24</td>\n",
       "      <td>&lt;3mm</td>\n",
       "      <td>minimal</td>\n",
       "      <td>NaN</td>\n",
       "    </tr>\n",
       "    <tr>\n",
       "      <th>2</th>\n",
       "      <td>3</td>\n",
       "      <td>26</td>\n",
       "      <td>4_M-1</td>\n",
       "      <td>Mock</td>\n",
       "      <td>0.43</td>\n",
       "      <td>1</td>\n",
       "      <td>762</td>\n",
       "      <td>4</td>\n",
       "      <td>6/28/24</td>\n",
       "      <td>3-5mm</td>\n",
       "      <td>minimal</td>\n",
       "      <td>NaN</td>\n",
       "    </tr>\n",
       "  </tbody>\n",
       "</table>\n",
       "</div>"
      ],
      "text/plain": [
       "   #  Polygon Sample_ID Condition    Thy  Technical_repeat  Mouse_ID  \\\n",
       "0  1       58     4_M-3      Mock   1.38                 3       790   \n",
       "1  2       54     4_M-2      Mock   2.22                 2       789   \n",
       "2  3       26     4_M-1      Mock   0.43                 1       762   \n",
       "\n",
       "   Harvest_Day Harvest_Date   Size Immune_Cell Comment  \n",
       "0            4      6/28/24   <3mm     minimal     NaN  \n",
       "1            4      6/28/24  <3mm      minimal     NaN  \n",
       "2            4      6/28/24  3-5mm     minimal     NaN  "
      ]
     },
     "execution_count": 7,
     "metadata": {},
     "output_type": "execute_result"
    }
   ],
   "source": [
    "Experimental_design_file = '/data/kanferg/Sptial_Omics/projects/NguyenLab/spatialomicstoolkit/Experimental_design/Experimental_Design.csv'\n",
    "ed = pd.read_csv(Experimental_design_file)\n",
    "ed.head(3)"
   ]
  },
  {
   "cell_type": "markdown",
   "id": "0d6a2592",
   "metadata": {},
   "source": [
    "The categorical covariate information will be stored in a hash map for easier management. This hash map will later be used to analyze the effects of different covariates on each other."
   ]
  },
  {
   "cell_type": "code",
   "execution_count": 8,
   "id": "a3ebc3aa",
   "metadata": {},
   "outputs": [
    {
     "data": {
      "text/plain": [
       "array(['6/28/24', '7/2/24'], dtype=object)"
      ]
     },
     "execution_count": 8,
     "metadata": {},
     "output_type": "execute_result"
    }
   ],
   "source": [
    "pd.unique(ed[\"Harvest_Date\"].values)"
   ]
  },
  {
   "cell_type": "code",
   "execution_count": 9,
   "id": "98a84cb3",
   "metadata": {},
   "outputs": [
    {
     "data": {
      "text/plain": [
       "['Sample_ID',\n",
       " 'Condition ',\n",
       " 'Technical_repeat',\n",
       " 'Mouse_ID',\n",
       " 'Harvest_Day',\n",
       " 'Harvest_Date',\n",
       " 'Size',\n",
       " 'Immune_Cell']"
      ]
     },
     "execution_count": 9,
     "metadata": {},
     "output_type": "execute_result"
    }
   ],
   "source": [
    "column_sel = ed.columns[2:4].tolist()+ed.columns[5:11].tolist()\n",
    "column_sel"
   ]
  },
  {
   "cell_type": "code",
   "execution_count": 10,
   "id": "bb785a0d",
   "metadata": {},
   "outputs": [],
   "source": [
    "covariateTOnum = {}\n",
    "numTOcovariate = {}\n",
    "for column in column_sel:\n",
    "    un_name_temp = pd.unique(ed[column].values)\n",
    "    covariateTOnum[column] = {c:i for i,c in enumerate(un_name_temp)}\n",
    "    numTOcovariate[column] = {i:c for i,c in enumerate(un_name_temp)}"
   ]
  },
  {
   "cell_type": "code",
   "execution_count": 11,
   "id": "a1f7354c",
   "metadata": {},
   "outputs": [],
   "source": [
    "for column in column_sel:\n",
    "    dict_temp = covariateTOnum[column]\n",
    "    list_temp = [dict_temp[i] for i in ed[column].values]\n",
    "    ed[column] = list_temp"
   ]
  },
  {
   "cell_type": "code",
   "execution_count": 12,
   "id": "bc34e0de",
   "metadata": {},
   "outputs": [
    {
     "data": {
      "text/html": [
       "<div>\n",
       "<style scoped>\n",
       "    .dataframe tbody tr th:only-of-type {\n",
       "        vertical-align: middle;\n",
       "    }\n",
       "\n",
       "    .dataframe tbody tr th {\n",
       "        vertical-align: top;\n",
       "    }\n",
       "\n",
       "    .dataframe thead th {\n",
       "        text-align: right;\n",
       "    }\n",
       "</style>\n",
       "<table border=\"1\" class=\"dataframe\">\n",
       "  <thead>\n",
       "    <tr style=\"text-align: right;\">\n",
       "      <th></th>\n",
       "      <th>#</th>\n",
       "      <th>Polygon</th>\n",
       "      <th>Sample_ID</th>\n",
       "      <th>Condition</th>\n",
       "      <th>Thy</th>\n",
       "      <th>Technical_repeat</th>\n",
       "      <th>Mouse_ID</th>\n",
       "      <th>Harvest_Day</th>\n",
       "      <th>Harvest_Date</th>\n",
       "      <th>Size</th>\n",
       "      <th>Immune_Cell</th>\n",
       "      <th>Comment</th>\n",
       "    </tr>\n",
       "  </thead>\n",
       "  <tbody>\n",
       "    <tr>\n",
       "      <th>0</th>\n",
       "      <td>1</td>\n",
       "      <td>58</td>\n",
       "      <td>0</td>\n",
       "      <td>0</td>\n",
       "      <td>1.38</td>\n",
       "      <td>0</td>\n",
       "      <td>0</td>\n",
       "      <td>0</td>\n",
       "      <td>0</td>\n",
       "      <td>0</td>\n",
       "      <td>0</td>\n",
       "      <td>NaN</td>\n",
       "    </tr>\n",
       "    <tr>\n",
       "      <th>1</th>\n",
       "      <td>2</td>\n",
       "      <td>54</td>\n",
       "      <td>1</td>\n",
       "      <td>0</td>\n",
       "      <td>2.22</td>\n",
       "      <td>1</td>\n",
       "      <td>1</td>\n",
       "      <td>0</td>\n",
       "      <td>0</td>\n",
       "      <td>1</td>\n",
       "      <td>0</td>\n",
       "      <td>NaN</td>\n",
       "    </tr>\n",
       "    <tr>\n",
       "      <th>2</th>\n",
       "      <td>3</td>\n",
       "      <td>26</td>\n",
       "      <td>2</td>\n",
       "      <td>0</td>\n",
       "      <td>0.43</td>\n",
       "      <td>2</td>\n",
       "      <td>2</td>\n",
       "      <td>0</td>\n",
       "      <td>0</td>\n",
       "      <td>2</td>\n",
       "      <td>0</td>\n",
       "      <td>NaN</td>\n",
       "    </tr>\n",
       "    <tr>\n",
       "      <th>3</th>\n",
       "      <td>3</td>\n",
       "      <td>50</td>\n",
       "      <td>2</td>\n",
       "      <td>0</td>\n",
       "      <td>0.43</td>\n",
       "      <td>2</td>\n",
       "      <td>2</td>\n",
       "      <td>0</td>\n",
       "      <td>0</td>\n",
       "      <td>2</td>\n",
       "      <td>0</td>\n",
       "      <td>NaN</td>\n",
       "    </tr>\n",
       "    <tr>\n",
       "      <th>4</th>\n",
       "      <td>4</td>\n",
       "      <td>46</td>\n",
       "      <td>3</td>\n",
       "      <td>1</td>\n",
       "      <td>3.01</td>\n",
       "      <td>0</td>\n",
       "      <td>3</td>\n",
       "      <td>0</td>\n",
       "      <td>0</td>\n",
       "      <td>1</td>\n",
       "      <td>1</td>\n",
       "      <td>tumor necrosis</td>\n",
       "    </tr>\n",
       "    <tr>\n",
       "      <th>...</th>\n",
       "      <td>...</td>\n",
       "      <td>...</td>\n",
       "      <td>...</td>\n",
       "      <td>...</td>\n",
       "      <td>...</td>\n",
       "      <td>...</td>\n",
       "      <td>...</td>\n",
       "      <td>...</td>\n",
       "      <td>...</td>\n",
       "      <td>...</td>\n",
       "      <td>...</td>\n",
       "      <td>...</td>\n",
       "    </tr>\n",
       "    <tr>\n",
       "      <th>57</th>\n",
       "      <td>45</td>\n",
       "      <td>0</td>\n",
       "      <td>44</td>\n",
       "      <td>2</td>\n",
       "      <td>7.79</td>\n",
       "      <td>6</td>\n",
       "      <td>44</td>\n",
       "      <td>1</td>\n",
       "      <td>1</td>\n",
       "      <td>2</td>\n",
       "      <td>1</td>\n",
       "      <td>tumor necrosis</td>\n",
       "    </tr>\n",
       "    <tr>\n",
       "      <th>58</th>\n",
       "      <td>46</td>\n",
       "      <td>25</td>\n",
       "      <td>45</td>\n",
       "      <td>4</td>\n",
       "      <td>4.11</td>\n",
       "      <td>2</td>\n",
       "      <td>45</td>\n",
       "      <td>1</td>\n",
       "      <td>1</td>\n",
       "      <td>0</td>\n",
       "      <td>1</td>\n",
       "      <td>NaN</td>\n",
       "    </tr>\n",
       "    <tr>\n",
       "      <th>59</th>\n",
       "      <td>47</td>\n",
       "      <td>21</td>\n",
       "      <td>46</td>\n",
       "      <td>4</td>\n",
       "      <td>4.95</td>\n",
       "      <td>5</td>\n",
       "      <td>46</td>\n",
       "      <td>1</td>\n",
       "      <td>1</td>\n",
       "      <td>2</td>\n",
       "      <td>2</td>\n",
       "      <td>NaN</td>\n",
       "    </tr>\n",
       "    <tr>\n",
       "      <th>60</th>\n",
       "      <td>48</td>\n",
       "      <td>17</td>\n",
       "      <td>47</td>\n",
       "      <td>4</td>\n",
       "      <td>1.47</td>\n",
       "      <td>6</td>\n",
       "      <td>47</td>\n",
       "      <td>1</td>\n",
       "      <td>1</td>\n",
       "      <td>0</td>\n",
       "      <td>1</td>\n",
       "      <td>NaN</td>\n",
       "    </tr>\n",
       "    <tr>\n",
       "      <th>61</th>\n",
       "      <td>49</td>\n",
       "      <td>13</td>\n",
       "      <td>48</td>\n",
       "      <td>4</td>\n",
       "      <td>2.98</td>\n",
       "      <td>7</td>\n",
       "      <td>48</td>\n",
       "      <td>1</td>\n",
       "      <td>1</td>\n",
       "      <td>4</td>\n",
       "      <td>3</td>\n",
       "      <td>NaN</td>\n",
       "    </tr>\n",
       "  </tbody>\n",
       "</table>\n",
       "<p>62 rows × 12 columns</p>\n",
       "</div>"
      ],
      "text/plain": [
       "     #  Polygon  Sample_ID  Condition    Thy  Technical_repeat  Mouse_ID  \\\n",
       "0    1       58          0           0  1.38                 0         0   \n",
       "1    2       54          1           0  2.22                 1         1   \n",
       "2    3       26          2           0  0.43                 2         2   \n",
       "3    3       50          2           0  0.43                 2         2   \n",
       "4    4       46          3           1  3.01                 0         3   \n",
       "..  ..      ...        ...         ...   ...               ...       ...   \n",
       "57  45        0         44           2  7.79                 6        44   \n",
       "58  46       25         45           4  4.11                 2        45   \n",
       "59  47       21         46           4  4.95                 5        46   \n",
       "60  48       17         47           4  1.47                 6        47   \n",
       "61  49       13         48           4  2.98                 7        48   \n",
       "\n",
       "    Harvest_Day  Harvest_Date  Size  Immune_Cell         Comment  \n",
       "0             0             0     0            0             NaN  \n",
       "1             0             0     1            0             NaN  \n",
       "2             0             0     2            0             NaN  \n",
       "3             0             0     2            0             NaN  \n",
       "4             0             0     1            1  tumor necrosis  \n",
       "..          ...           ...   ...          ...             ...  \n",
       "57            1             1     2            1  tumor necrosis  \n",
       "58            1             1     0            1             NaN  \n",
       "59            1             1     2            2             NaN  \n",
       "60            1             1     0            1             NaN  \n",
       "61            1             1     4            3             NaN  \n",
       "\n",
       "[62 rows x 12 columns]"
      ]
     },
     "execution_count": 12,
     "metadata": {},
     "output_type": "execute_result"
    }
   ],
   "source": [
    "ed"
   ]
  },
  {
   "cell_type": "code",
   "execution_count": 13,
   "id": "b2584889",
   "metadata": {},
   "outputs": [
    {
     "ename": "NameError",
     "evalue": "name 'batch' is not defined",
     "output_type": "error",
     "traceback": [
      "\u001b[0;31m---------------------------------------------------------------------------\u001b[0m",
      "\u001b[0;31mNameError\u001b[0m                                 Traceback (most recent call last)",
      "Cell \u001b[0;32mIn[13], line 1\u001b[0m\n\u001b[0;32m----> 1\u001b[0m ed\u001b[38;5;241m.\u001b[39mloc[ed[\u001b[38;5;124m\"\u001b[39m\u001b[38;5;124mPolygon\u001b[39m\u001b[38;5;124m\"\u001b[39m]\u001b[38;5;241m==\u001b[39m\u001b[43mbatch\u001b[49m,column]\u001b[38;5;241m.\u001b[39mvalues\u001b[38;5;241m.\u001b[39mtolist()\n",
      "\u001b[0;31mNameError\u001b[0m: name 'batch' is not defined"
     ]
    }
   ],
   "source": [
    "ed.loc[ed[\"Polygon\"]==batch,column].values.tolist()"
   ]
  },
  {
   "cell_type": "code",
   "execution_count": null,
   "id": "202b5f25",
   "metadata": {},
   "outputs": [],
   "source": [
    "andtata_in.obs[\"batch\"]"
   ]
  },
  {
   "cell_type": "code",
   "execution_count": null,
   "id": "20c8ef47",
   "metadata": {},
   "outputs": [],
   "source": [
    "andtata_in.obs.loc[andtata_in.obs[\"batch\"]==str(batch)]"
   ]
  },
  {
   "cell_type": "code",
   "execution_count": null,
   "id": "cb38bd5a",
   "metadata": {},
   "outputs": [],
   "source": [
    "batch"
   ]
  },
  {
   "cell_type": "code",
   "execution_count": null,
   "id": "023f2899",
   "metadata": {},
   "outputs": [],
   "source": [
    "ed.loc[ed[\"Polygon\"]==batch,column]"
   ]
  },
  {
   "cell_type": "code",
   "execution_count": 14,
   "id": "95ced684",
   "metadata": {},
   "outputs": [
    {
     "name": "stderr",
     "output_type": "stream",
     "text": [
      "100%|█████████████████████████████████████████████████████████████████████████████| 62/62 [00:00<00:00, 275.60it/s]\n",
      "100%|█████████████████████████████████████████████████████████████████████████████| 62/62 [00:00<00:00, 280.78it/s]\n",
      "100%|█████████████████████████████████████████████████████████████████████████████| 62/62 [00:00<00:00, 282.93it/s]\n",
      "100%|█████████████████████████████████████████████████████████████████████████████| 62/62 [00:00<00:00, 274.58it/s]\n",
      "100%|█████████████████████████████████████████████████████████████████████████████| 62/62 [00:00<00:00, 273.00it/s]\n",
      "100%|█████████████████████████████████████████████████████████████████████████████| 62/62 [00:00<00:00, 274.33it/s]\n",
      "100%|█████████████████████████████████████████████████████████████████████████████| 62/62 [00:00<00:00, 275.79it/s]\n",
      "100%|█████████████████████████████████████████████████████████████████████████████| 62/62 [00:00<00:00, 273.60it/s]\n"
     ]
    }
   ],
   "source": [
    "from tqdm import tqdm\n",
    "# adding covrites per batch to andata\n",
    "for column in column_sel:\n",
    "    andtata_in.obs[column] = None\n",
    "    for batch in tqdm(ed['Polygon']):\n",
    "        covraite_temp = ed.loc[ed[\"Polygon\"]==batch,column].values.tolist()*len(andtata_in.obs.loc[andtata_in.obs[\"batch\"]==str(batch),column])\n",
    "        andtata_in.obs.loc[andtata_in.obs[\"batch\"]==str(batch),column] = covraite_temp\n"
   ]
  },
  {
   "cell_type": "code",
   "execution_count": null,
   "id": "b773393a",
   "metadata": {},
   "outputs": [],
   "source": [
    "andtata_in.obs.columns"
   ]
  },
  {
   "cell_type": "code",
   "execution_count": null,
   "id": "3f520ca8",
   "metadata": {},
   "outputs": [],
   "source": [
    "# andtata_in.X = andtata_in.layers['counts']"
   ]
  },
  {
   "cell_type": "code",
   "execution_count": 15,
   "id": "03118432",
   "metadata": {},
   "outputs": [],
   "source": [
    "# scvi.model.SCVI.setup_anndata(andtata_in, layer = \"counts\",batch_key='batch',\n",
    "#                              categorical_covariate_keys=['Sample_ID','Condition ','Technical_repeat','Mouse_ID', 'Harvest_Day', 'Size', 'Immune_Cell' ])\n",
    "scvi.model.SCVI.setup_anndata(andtata_in, layer = \"counts\",batch_key='batch',\n",
    "                             categorical_covariate_keys=['Condition ','Mouse_ID'])\n",
    "model_scvi = scvi.model.SCVI(andtata_in)                            "
   ]
  },
  {
   "cell_type": "code",
   "execution_count": 16,
   "id": "242bb373",
   "metadata": {},
   "outputs": [
    {
     "data": {
      "text/plain": [
       "3"
      ]
     },
     "execution_count": 16,
     "metadata": {},
     "output_type": "execute_result"
    }
   ],
   "source": [
    "np.min([round((20000 / andtata_in.n_obs) * 100), 100])"
   ]
  },
  {
   "cell_type": "code",
   "execution_count": 17,
   "id": "1c1870c2",
   "metadata": {},
   "outputs": [
    {
     "name": "stderr",
     "output_type": "stream",
     "text": [
      "GPU available: True (cuda), used: True\n",
      "TPU available: False, using: 0 TPU cores\n",
      "IPU available: False, using: 0 IPUs\n",
      "HPU available: False, using: 0 HPUs\n",
      "LOCAL_RANK: 0 - CUDA_VISIBLE_DEVICES: [0,1,2]\n"
     ]
    },
    {
     "name": "stdout",
     "output_type": "stream",
     "text": [
      "Epoch 12/12: 100%|█████████████| 12/12 [06:22<00:00, 31.10s/it, v_num=1, train_loss_step=250, train_loss_epoch=253]"
     ]
    },
    {
     "name": "stderr",
     "output_type": "stream",
     "text": [
      "`Trainer.fit` stopped: `max_epochs=12` reached.\n"
     ]
    },
    {
     "name": "stdout",
     "output_type": "stream",
     "text": [
      "Epoch 12/12: 100%|█████████████| 12/12 [06:22<00:00, 31.91s/it, v_num=1, train_loss_step=250, train_loss_epoch=253]\n"
     ]
    }
   ],
   "source": [
    "model_scvi.train(max_epochs=12)"
   ]
  },
  {
   "cell_type": "code",
   "execution_count": 18,
   "id": "cae89b8c",
   "metadata": {},
   "outputs": [],
   "source": [
    "andtata_in.obsm['X_scVI'] = model_scvi.get_latent_representation()\n",
    "andtata_in.layers['scvi_normalized'] = model_scvi.get_normalized_expression(library_size = 1e4)"
   ]
  },
  {
   "cell_type": "code",
   "execution_count": 19,
   "id": "eff41a68",
   "metadata": {},
   "outputs": [
    {
     "name": "stdout",
     "output_type": "stream",
     "text": [
      "Column 'cell_id' has data type: category\n",
      "Column 'transcript_counts' has data type: int64\n",
      "Column 'control_probe_counts' has data type: int64\n",
      "Column 'genomic_control_counts' has data type: int64\n",
      "Column 'control_codeword_counts' has data type: int64\n",
      "Column 'unassigned_codeword_counts' has data type: int64\n",
      "Column 'deprecated_codeword_counts' has data type: int64\n",
      "Column 'total_counts' has data type: float32\n",
      "Column 'cell_area' has data type: float64\n",
      "Column 'nucleus_area' has data type: float64\n",
      "Column 'nucleus_count' has data type: float64\n",
      "Column 'segmentation_method' has data type: category\n",
      "Column 'region' has data type: category\n",
      "Column 'z_level' has data type: float64\n",
      "Column 'cell_labels' has data type: int64\n",
      "Column 'batch' has data type: category\n",
      "Column 'n_genes_by_counts' has data type: int32\n",
      "Column 'log1p_n_genes_by_counts' has data type: float64\n",
      "Column 'log1p_total_counts' has data type: float32\n",
      "Column 'outlier' has data type: bool\n",
      "Column 'cluster' has data type: category\n",
      "Column 'Sample_ID' has data type: object\n",
      "Column 'Condition ' has data type: object\n",
      "Column 'Technical_repeat' has data type: object\n",
      "Column 'Mouse_ID' has data type: object\n",
      "Column 'Harvest_Day' has data type: object\n",
      "Column 'Harvest_Date' has data type: object\n",
      "Column 'Size' has data type: object\n",
      "Column 'Immune_Cell' has data type: object\n",
      "Column '_scvi_batch' has data type: int8\n",
      "Column '_scvi_labels' has data type: int8\n"
     ]
    }
   ],
   "source": [
    "andata_save = andtata_in.copy()\n",
    "for column in andata_save.obs.columns:\n",
    "    print(f\"Column '{column}' has data type: {andata_save.obs[column].dtype}\")"
   ]
  },
  {
   "cell_type": "code",
   "execution_count": 22,
   "id": "37b952db",
   "metadata": {},
   "outputs": [],
   "source": [
    "# del andata_save.obs['Sample_ID']\n",
    "# del andata_save.obs['Condition ']\n",
    "# del andata_save.obs['Technical_repeat']\n",
    "# del andata_save.obs['Mouse_ID']\n",
    "# del andata_save.obs['Harvest_Day']\n",
    "# del andata_save.obs['Harvest_Date']\n",
    "# del andata_save.obs['Size']\n",
    "# del andata_save.obs['Immune_Cell']"
   ]
  },
  {
   "cell_type": "code",
   "execution_count": 23,
   "id": "4bdb3e82",
   "metadata": {},
   "outputs": [],
   "source": [
    "#andata_save.write_h5ad(os.path.join(pathout, \"andata_filter_logNorm_hvg_leiden_harmony_scvi.h5ad\"))\n",
    "andata_save.write_h5ad(os.path.join(pathout, \"andata_filter_logNorm_hvg_leiden_harmony_scvi_con_mouse_cov.h5ad\"))"
   ]
  },
  {
   "cell_type": "code",
   "execution_count": 152,
   "id": "4c377765",
   "metadata": {},
   "outputs": [],
   "source": [
    "dict_covraite = {\"dict_covraite\":[covariateTOnum,numTOcovariate]}"
   ]
  },
  {
   "cell_type": "code",
   "execution_count": 153,
   "id": "aeeaa2cc",
   "metadata": {},
   "outputs": [],
   "source": [
    "path_covraite = '/data/kanferg/Sptial_Omics/projects/NguyenLab/spatialomicstoolkit/Experimental_design'"
   ]
  },
  {
   "cell_type": "code",
   "execution_count": 154,
   "id": "c34824d1",
   "metadata": {},
   "outputs": [],
   "source": [
    "import pickle\n",
    "with open(os.path.join(path_covraite,\"dict_covraite.pkl\"), 'wb') as file:\n",
    "    pickle.dump(dict_covraite, file)\n",
    "\n",
    "# Load dictionary from the file\n",
    "# with open(os.path.join(path_covraite,\"dict_covraite.pkl\"), 'rb') as file:\n",
    "#     loaded_dict = pickle.load(file)\n",
    "# print(loaded_dict)"
   ]
  },
  {
   "cell_type": "markdown",
   "id": "e9753a90",
   "metadata": {},
   "source": [
    "tune data"
   ]
  },
  {
   "cell_type": "code",
   "execution_count": null,
   "id": "9ca72950",
   "metadata": {},
   "outputs": [],
   "source": [
    "model_cls = scvi.model.SCVI\n",
    "model_cls.setup_anndata(andata_bc, categorical_covariate_keys = ['batch'])"
   ]
  },
  {
   "cell_type": "code",
   "execution_count": null,
   "id": "364bae50",
   "metadata": {},
   "outputs": [],
   "source": [
    "scvi.settings.seed = 0\n",
    "print(\"Last run with scvi-tools version:\", scvi.__version__)"
   ]
  },
  {
   "cell_type": "code",
   "execution_count": 156,
   "id": "bf7f1f68",
   "metadata": {},
   "outputs": [],
   "source": [
    "import ray\n",
    "import scanpy as sc\n",
    "import scvi\n",
    "import seaborn as sns\n",
    "import torch\n",
    "from ray import tune\n",
    "from scvi import autotune\n",
    "import os"
   ]
  },
  {
   "cell_type": "code",
   "execution_count": 155,
   "id": "ed4acd5d",
   "metadata": {},
   "outputs": [],
   "source": [
    "model_cls = scvi.model.SCVI\n",
    "\n",
    "model_cls.setup_anndata(andtata_in, layer = \"counts\",batch_key='batch',categorical_covariate_keys=['Sample_ID','Condition ','Technical_repeat','Mouse_ID', 'Harvest_Day', 'Size', 'Immune_Cell' ])"
   ]
  },
  {
   "cell_type": "code",
   "execution_count": null,
   "id": "13a038cd",
   "metadata": {},
   "outputs": [
    {
     "name": "stderr",
     "output_type": "stream",
     "text": [
      "2024-12-04 13:45:33,675\tINFO worker.py:1819 -- Started a local Ray instance.\n"
     ]
    }
   ],
   "source": [
    "search_space = {\n",
    "    \"model_params\": {\"n_hidden\": tune.choice([92, 128]),\n",
    "        \"n_latent\": tune.choice([10, 20, 30, 40, 50, 60]),\n",
    "        \"n_layers\": tune.choice([1, 2, 3]),\n",
    "        #\"lr\": tune.loguniform(1e-4, 1e-2),\n",
    "        \"gene_likelihood\": tune.choice([\"nb\", \"zinb\"])},\n",
    "    \"train_params\": {\"max_epochs\": 100},\n",
    "}\n",
    "\n",
    "ray.init(log_to_driver=False)\n",
    "results = autotune.run_autotune(\n",
    "    model_cls,\n",
    "    data=andata_bc,\n",
    "    mode=\"min\",\n",
    "    metrics=\"validation_loss\",\n",
    "    search_space=search_space,\n",
    "    num_samples=10,\n",
    "    resources={\"gpu\": 3})\n",
    "\n",
    "df = results.result_grid.get_dataframe(filter_metric=\"accuracy\", filter_mode=\"max\")\n",
    "df.to_csv(os.path.join(pathout,\"tune_hyper_scVI.csv\"))"
   ]
  },
  {
   "cell_type": "markdown",
   "id": "d5a89827",
   "metadata": {},
   "source": [
    "<center><h1>Label Transfer"
   ]
  },
  {
   "cell_type": "markdown",
   "id": "b41c63fb",
   "metadata": {},
   "source": [
    "The data is from CZI [Guimarães et al. (2024) Nat Commun](https://cellxgene.cziscience.com/collections/3f7c572c-cd73-4b51-a313-207c7f20f188)  and the skin section of the [Tabula Muris](https://docs.scvi-tools.org/en/stable/tutorials/notebooks/scrna/tabula_muris.html)."
   ]
  },
  {
   "cell_type": "code",
   "execution_count": 1,
   "id": "48a5a839",
   "metadata": {},
   "outputs": [],
   "source": [
    "import scanpy as sc\n",
    "import os\n",
    "import pandas as pd\n",
    "import numpy as np\n",
    "import matplotlib.pyplot as plt\n",
    "import seaborn as sns\n",
    "import celltypist\n",
    "from celltypist import models\n"
   ]
  },
  {
   "cell_type": "code",
   "execution_count": 2,
   "id": "4c93ee5b",
   "metadata": {},
   "outputs": [],
   "source": [
    "import warnings\n",
    "warnings.simplefilter(\"ignore\", FutureWarning)\n",
    "warnings.simplefilter(\"ignore\", UserWarning)\n",
    "warnings.simplefilter(\"ignore\", RuntimeWarning)"
   ]
  },
  {
   "cell_type": "markdown",
   "id": "ef41db74",
   "metadata": {},
   "source": [
    "The [Tabula Muris](https://docs.scvi-tools.org/en/stable/tutorials/notebooks/scrna/tabula_muris.html) was downloded using this bash file:\n",
    "```bash\n",
    "sbatch download_tubala_muris.sh\n",
    "```\n",
    "then should select skin sample by using:\n",
    "```Python\n",
    "pd.uniqe(tm_droplet.obs.tissue)\n",
    "pd.uniqe(tm_facs.obs.tissue)\n",
    "```\n",
    "from website do:\n",
    "```Python\n",
    "tm_droplet = tm_droplet[\n",
    "    (tm_droplet.obs.tissue == \"Marrow\")\n",
    "    & (~tm_droplet.obs.cell_ontology_class.isna())\n",
    "    & (tm_droplet.obs.sex == \"female\")\n",
    "].copy()\n",
    "tm_facs = tm_facs[\n",
    "    (tm_facs.obs.tissue == \"Marrow\")\n",
    "    & (~tm_facs.obs.cell_ontology_class.isna())\n",
    "    & (tm_facs.obs.sex == \"female\")\n",
    "].copy()\n",
    "\n",
    "tm_droplet.obs[\"tech\"] = \"10x\"\n",
    "tm_facs.obs[\"tech\"] = \"SS2\"\n",
    "```"
   ]
  },
  {
   "cell_type": "code",
   "execution_count": 3,
   "id": "81558c5a",
   "metadata": {},
   "outputs": [
    {
     "data": {
      "text/plain": [
       "AnnData object with n_obs × n_vars = 391989 × 45575\n",
       "    obs: 'nCount_RNA', 'nFeature_RNA', 'harm_study', 'harm_healthy.tissue', 'harm_tumor.site', 'harm_sample.type', 'harm_condition', 'harm_tumor.type', 'harm_cd45pos', 'harm_healthy.pat', 'percent.mt', 'ratio_nCount_nFeature', 'batch', 'X_scvi_batch', 'X_scvi_labels', 'X_scvi_local_l_mean', 'X_scvi_local_l_var', 'leiden_0.2', 'leiden_0.4', 'leiden_0.6', 'leiden_0.8', 'leiden_1', 'leiden_1.2', 'leiden_1.4', 'author_first_cell_type', 'author_cell_type', 'cnv_score', 'organism_ontology_term_id', 'donor_id', 'development_stage_ontology_term_id', 'sex_ontology_term_id', 'self_reported_ethnicity_ontology_term_id', 'disease_ontology_term_id', 'tissue_ontology_term_id', 'cell_type_ontology_term_id', 'suspension_type', 'assay_ontology_term_id', 'is_primary_data', 'tissue_type', 'cell_type', 'assay', 'disease', 'organism', 'sex', 'tissue', 'self_reported_ethnicity', 'development_stage', 'observation_joinid'\n",
       "    var: 'external_gene_name', 'gene_biotype', 'feature_is_filtered', 'feature_name', 'feature_reference', 'feature_biotype', 'feature_length', 'feature_type'\n",
       "    uns: 'citation', 'schema_reference', 'schema_version', 'title'\n",
       "    obsm: 'X_pca', 'X_scVI', 'X_umap'"
      ]
     },
     "execution_count": 3,
     "metadata": {},
     "output_type": "execute_result"
    }
   ],
   "source": [
    "rdata = sc.read_h5ad(\"/data/kanferg/Sptial_Omics/projects/NguyenLab/data/czi/Guimaraes_et_al.h5ad\")\n",
    "rdata"
   ]
  },
  {
   "cell_type": "markdown",
   "id": "dc9bf9cb",
   "metadata": {},
   "source": [
    "MONDO:0006486 = uveal melanoma\n",
    "MONDO:0005105 = melanoma\n"
   ]
  },
  {
   "cell_type": "code",
   "execution_count": 4,
   "id": "38a71d7f",
   "metadata": {},
   "outputs": [
    {
     "data": {
      "text/plain": [
       "AnnData object with n_obs × n_vars = 55560 × 45575\n",
       "    obs: 'nCount_RNA', 'nFeature_RNA', 'harm_study', 'harm_healthy.tissue', 'harm_tumor.site', 'harm_sample.type', 'harm_condition', 'harm_tumor.type', 'harm_cd45pos', 'harm_healthy.pat', 'percent.mt', 'ratio_nCount_nFeature', 'batch', 'X_scvi_batch', 'X_scvi_labels', 'X_scvi_local_l_mean', 'X_scvi_local_l_var', 'leiden_0.2', 'leiden_0.4', 'leiden_0.6', 'leiden_0.8', 'leiden_1', 'leiden_1.2', 'leiden_1.4', 'author_first_cell_type', 'author_cell_type', 'cnv_score', 'organism_ontology_term_id', 'donor_id', 'development_stage_ontology_term_id', 'sex_ontology_term_id', 'self_reported_ethnicity_ontology_term_id', 'disease_ontology_term_id', 'tissue_ontology_term_id', 'cell_type_ontology_term_id', 'suspension_type', 'assay_ontology_term_id', 'is_primary_data', 'tissue_type', 'cell_type', 'assay', 'disease', 'organism', 'sex', 'tissue', 'self_reported_ethnicity', 'development_stage', 'observation_joinid'\n",
       "    obsm: 'X_pca', 'X_scVI', 'X_umap'"
      ]
     },
     "execution_count": 4,
     "metadata": {},
     "output_type": "execute_result"
    }
   ],
   "source": [
    "import anndata as ad\n",
    "list_rdata = []\n",
    "list_rdata.append(rdata[(rdata.obs['disease_ontology_term_id']=='MONDO:0005105')])\n",
    "list_rdata.append(rdata[(rdata.obs['disease_ontology_term_id']=='MONDO:0006486')])\n",
    "rdata_concat = ad.concat(list_rdata)\n",
    "rdata_concat"
   ]
  },
  {
   "cell_type": "code",
   "execution_count": 13,
   "id": "a76021e0",
   "metadata": {},
   "outputs": [
    {
     "name": "stdout",
     "output_type": "stream",
     "text": [
      "                        Dataset                              Description\n",
      "0           nvison_gene_ensembl          American mink genes (NNQGG.v01)\n",
      "1   aplatyrhynchos_gene_ensembl              Mallard genes (ASM874695v1)\n",
      "2     sslargewhite_gene_ensembl  Pig - Largewhite genes (Large_White_v1)\n",
      "3         hburtoni_gene_ensembl  Burton's mouthbrooder genes (AstBur1.0)\n",
      "4  abrachyrhynchus_gene_ensembl    Pink-footed goose genes (ASM259213v1)\n"
     ]
    }
   ],
   "source": [
    "from gseapy import Biomart\n",
    "# Initialize Biomart with a specific host\n",
    "try:\n",
    "    bm = Biomart(host=\"useast.ensembl.org\")\n",
    "    datasets = bm.get_datasets()\n",
    "    print(datasets.head())\n",
    "except Exception as e:\n",
    "    print(\"An error occurred while fetching data from BioMart:\", e)"
   ]
  },
  {
   "cell_type": "code",
   "execution_count": 11,
   "id": "7eb99d81",
   "metadata": {
    "collapsed": true,
    "jupyter": {
     "outputs_hidden": true
    }
   },
   "outputs": [
    {
     "ename": "ParseError",
     "evalue": "mismatched tag: line 62, column 2 (<string>)",
     "output_type": "error",
     "traceback": [
      "Traceback \u001b[0;36m(most recent call last)\u001b[0m:\n",
      "\u001b[0m  File \u001b[1;32m/gpfs/gsfs10/users/kanferg/conda/envs/scvi_env/lib/python3.12/site-packages/IPython/core/interactiveshell.py:3577\u001b[0m in \u001b[1;35mrun_code\u001b[0m\n    exec(code_obj, self.user_global_ns, self.user_ns)\u001b[0m\n",
      "\u001b[0m  Cell \u001b[1;32mIn[11], line 2\u001b[0m\n    bm = Biomart()\u001b[0m\n",
      "\u001b[0m  File \u001b[1;32m/gpfs/gsfs10/users/kanferg/conda/envs/scvi_env/lib/python3.12/site-packages/gseapy/biomart.py:76\u001b[0m in \u001b[1;35m__init__\u001b[0m\n    self._marts = self.get_marts()[\"Mart\"].to_list()\u001b[0m\n",
      "\u001b[0m  File \u001b[1;32m/gpfs/gsfs10/users/kanferg/conda/envs/scvi_env/lib/python3.12/site-packages/gseapy/biomart.py:157\u001b[0m in \u001b[1;35mget_marts\u001b[0m\n    marts = [e.attrib for e in ET.XML(resp.text)]\u001b[0m\n",
      "\u001b[0;36m  File \u001b[0;32m/gpfs/gsfs10/users/kanferg/conda/envs/scvi_env/lib/python3.12/xml/etree/ElementTree.py:1335\u001b[0;36m in \u001b[0;35mXML\u001b[0;36m\n\u001b[0;31m    parser.feed(text)\u001b[0;36m\n",
      "\u001b[0;36m  File \u001b[0;32m<string>\u001b[0;36m\u001b[0m\n\u001b[0;31mParseError\u001b[0m\u001b[0;31m:\u001b[0m mismatched tag: line 62, column 2\n"
     ]
    }
   ],
   "source": [
    "from gseapy import Biomart\n",
    "bm = Biomart()"
   ]
  },
  {
   "cell_type": "code",
   "execution_count": 14,
   "id": "adf8aa56",
   "metadata": {},
   "outputs": [],
   "source": [
    "h2m =  bm.query(dataset='hsapiens_gene_ensembl',\n",
    "               attributes=['ensembl_gene_id','external_gene_name',\n",
    "                           'mmusculus_homolog_ensembl_gene',\n",
    "                           'mmusculus_homolog_associated_gene_name'])"
   ]
  },
  {
   "cell_type": "code",
   "execution_count": 15,
   "id": "88469ad0",
   "metadata": {},
   "outputs": [
    {
     "data": {
      "text/plain": [
       "array([nan, nan, nan, ..., nan, nan, nan], dtype=object)"
      ]
     },
     "execution_count": 15,
     "metadata": {},
     "output_type": "execute_result"
    }
   ],
   "source": [
    "h2m[\"mmusculus_homolog_associated_gene_name\"].values"
   ]
  },
  {
   "cell_type": "code",
   "execution_count": 16,
   "id": "845f6feb",
   "metadata": {},
   "outputs": [
    {
     "data": {
      "text/html": [
       "<div>\n",
       "<style scoped>\n",
       "    .dataframe tbody tr th:only-of-type {\n",
       "        vertical-align: middle;\n",
       "    }\n",
       "\n",
       "    .dataframe tbody tr th {\n",
       "        vertical-align: top;\n",
       "    }\n",
       "\n",
       "    .dataframe thead th {\n",
       "        text-align: right;\n",
       "    }\n",
       "</style>\n",
       "<table border=\"1\" class=\"dataframe\">\n",
       "  <thead>\n",
       "    <tr style=\"text-align: right;\">\n",
       "      <th></th>\n",
       "      <th>ensembl_gene_id</th>\n",
       "      <th>external_gene_name</th>\n",
       "      <th>mmusculus_homolog_ensembl_gene</th>\n",
       "      <th>mmusculus_homolog_associated_gene_name</th>\n",
       "    </tr>\n",
       "  </thead>\n",
       "  <tbody>\n",
       "    <tr>\n",
       "      <th>5</th>\n",
       "      <td>ENSG00000198888</td>\n",
       "      <td>MT-ND1</td>\n",
       "      <td>ENSMUSG00000064341</td>\n",
       "      <td>mt-Nd1</td>\n",
       "    </tr>\n",
       "    <tr>\n",
       "      <th>9</th>\n",
       "      <td>ENSG00000198763</td>\n",
       "      <td>MT-ND2</td>\n",
       "      <td>ENSMUSG00000064345</td>\n",
       "      <td>mt-Nd2</td>\n",
       "    </tr>\n",
       "    <tr>\n",
       "      <th>15</th>\n",
       "      <td>ENSG00000198804</td>\n",
       "      <td>MT-CO1</td>\n",
       "      <td>ENSMUSG00000064351</td>\n",
       "      <td>mt-Co1</td>\n",
       "    </tr>\n",
       "    <tr>\n",
       "      <th>18</th>\n",
       "      <td>ENSG00000198712</td>\n",
       "      <td>MT-CO2</td>\n",
       "      <td>ENSMUSG00000064354</td>\n",
       "      <td>mt-Co2</td>\n",
       "    </tr>\n",
       "    <tr>\n",
       "      <th>20</th>\n",
       "      <td>ENSG00000228253</td>\n",
       "      <td>MT-ATP8</td>\n",
       "      <td>ENSMUSG00000064356</td>\n",
       "      <td>mt-Atp8</td>\n",
       "    </tr>\n",
       "  </tbody>\n",
       "</table>\n",
       "</div>"
      ],
      "text/plain": [
       "    ensembl_gene_id external_gene_name mmusculus_homolog_ensembl_gene  \\\n",
       "5   ENSG00000198888             MT-ND1             ENSMUSG00000064341   \n",
       "9   ENSG00000198763             MT-ND2             ENSMUSG00000064345   \n",
       "15  ENSG00000198804             MT-CO1             ENSMUSG00000064351   \n",
       "18  ENSG00000198712             MT-CO2             ENSMUSG00000064354   \n",
       "20  ENSG00000228253            MT-ATP8             ENSMUSG00000064356   \n",
       "\n",
       "   mmusculus_homolog_associated_gene_name  \n",
       "5                                  mt-Nd1  \n",
       "9                                  mt-Nd2  \n",
       "15                                 mt-Co1  \n",
       "18                                 mt-Co2  \n",
       "20                                mt-Atp8  "
      ]
     },
     "execution_count": 16,
     "metadata": {},
     "output_type": "execute_result"
    }
   ],
   "source": [
    "h2m = h2m.dropna(subset=['mmusculus_homolog_associated_gene_name'])\n",
    "h2m.head()"
   ]
  },
  {
   "cell_type": "code",
   "execution_count": 17,
   "id": "6365462a",
   "metadata": {},
   "outputs": [],
   "source": [
    "h2m_dict = {h:m for h,m in zip(h2m['ensembl_gene_id'].values,h2m['mmusculus_homolog_associated_gene_name'].values)}"
   ]
  },
  {
   "cell_type": "code",
   "execution_count": 18,
   "id": "e0f548a7",
   "metadata": {},
   "outputs": [
    {
     "data": {
      "text/plain": [
       "'ENSG00000000003'"
      ]
     },
     "execution_count": 18,
     "metadata": {},
     "output_type": "execute_result"
    }
   ],
   "source": [
    "rdata_concat.var_names.values[0]"
   ]
  },
  {
   "cell_type": "code",
   "execution_count": 19,
   "id": "65fe9706",
   "metadata": {},
   "outputs": [
    {
     "data": {
      "text/plain": [
       "True"
      ]
     },
     "execution_count": 19,
     "metadata": {},
     "output_type": "execute_result"
    }
   ],
   "source": [
    "rdata_concat.var_names.values[0] in list(h2m_dict.keys())"
   ]
  },
  {
   "cell_type": "code",
   "execution_count": 20,
   "id": "1bb754cd",
   "metadata": {},
   "outputs": [],
   "source": [
    "rdata_concat.var['mouse_id'] = \"0\"\n",
    "var_in = [h2m_dict[ens] if ens in list(h2m_dict.keys()) else \"0\" for ens in rdata_concat.var_names.values ]"
   ]
  },
  {
   "cell_type": "code",
   "execution_count": 21,
   "id": "8fd43357",
   "metadata": {},
   "outputs": [],
   "source": [
    "rdata_concat.var['mouse_id'] = var_in"
   ]
  },
  {
   "cell_type": "code",
   "execution_count": 22,
   "id": "0b2f933a",
   "metadata": {},
   "outputs": [
    {
     "data": {
      "text/plain": [
       "AnnData object with n_obs × n_vars = 55560 × 45575\n",
       "    obs: 'nCount_RNA', 'nFeature_RNA', 'harm_study', 'harm_healthy.tissue', 'harm_tumor.site', 'harm_sample.type', 'harm_condition', 'harm_tumor.type', 'harm_cd45pos', 'harm_healthy.pat', 'percent.mt', 'ratio_nCount_nFeature', 'batch', 'X_scvi_batch', 'X_scvi_labels', 'X_scvi_local_l_mean', 'X_scvi_local_l_var', 'leiden_0.2', 'leiden_0.4', 'leiden_0.6', 'leiden_0.8', 'leiden_1', 'leiden_1.2', 'leiden_1.4', 'author_first_cell_type', 'author_cell_type', 'cnv_score', 'organism_ontology_term_id', 'donor_id', 'development_stage_ontology_term_id', 'sex_ontology_term_id', 'self_reported_ethnicity_ontology_term_id', 'disease_ontology_term_id', 'tissue_ontology_term_id', 'cell_type_ontology_term_id', 'suspension_type', 'assay_ontology_term_id', 'is_primary_data', 'tissue_type', 'cell_type', 'assay', 'disease', 'organism', 'sex', 'tissue', 'self_reported_ethnicity', 'development_stage', 'observation_joinid'\n",
       "    var: 'mouse_id'\n",
       "    obsm: 'X_pca', 'X_scVI', 'X_umap'"
      ]
     },
     "execution_count": 22,
     "metadata": {},
     "output_type": "execute_result"
    }
   ],
   "source": [
    "rdata_concat"
   ]
  },
  {
   "cell_type": "code",
   "execution_count": 23,
   "id": "0d5c91aa",
   "metadata": {},
   "outputs": [],
   "source": [
    "rdata_concat_mouse_symb = rdata_concat[:,rdata_concat.var['mouse_id']!=\"0\"].copy()\n",
    "del rdata_concat"
   ]
  },
  {
   "cell_type": "code",
   "execution_count": 24,
   "id": "d00e6b1c",
   "metadata": {},
   "outputs": [],
   "source": [
    "rdata_concat_mouse_symb.var_names = rdata_concat_mouse_symb.var[\"mouse_id\"].values"
   ]
  },
  {
   "cell_type": "code",
   "execution_count": 25,
   "id": "198d521b",
   "metadata": {},
   "outputs": [
    {
     "name": "stdout",
     "output_type": "stream",
     "text": [
      "Max value in .X: 3134.0\n",
      "Min value in .X: 0.0\n"
     ]
    }
   ],
   "source": [
    "print(\"Max value in .X:\", np.max(rdata_concat_mouse_symb.X))\n",
    "print(\"Min value in .X:\", np.min(rdata_concat_mouse_symb.X))\n"
   ]
  },
  {
   "cell_type": "code",
   "execution_count": 26,
   "id": "318773f8",
   "metadata": {},
   "outputs": [
    {
     "data": {
      "text/plain": [
       "Index(['cy04.3_CD45pos_S70-0', 'cy04.3_CD45pos_S75-0', 'cy04.3_CD45pos_S31-0',\n",
       "       'cy04.3_CD45pos_S66-0', 'cy04.3_CD45pos_S17-0', 'cy04.3_CD45pos_S55-0',\n",
       "       'cy04.3_CD45pos_S1-0', 'cy04.3_CD45pos_S57-0', 'cy04.3_CD45pos_S26-0',\n",
       "       'cy04.3_CD45pos_S53-0',\n",
       "       ...\n",
       "       'TCGGGACTCTCAACCC-1', 'TCTCAGCTCTGCAGCG-1', 'TCTGCCACAATCTCGA-1',\n",
       "       'TGATGCAGTGCATACT-1', 'TGATGGTCACGATAGG-1', 'TGTACAGCATCGGCCA-1',\n",
       "       'TGTCCACTCTGTCGTC-1', 'TGTTGAGAGCTAATGA-1', 'TGTTTGTTCGGTCAGC-1',\n",
       "       'TTTAGTCTCTCTATGT-1'],\n",
       "      dtype='object', length=55560)"
      ]
     },
     "execution_count": 26,
     "metadata": {},
     "output_type": "execute_result"
    }
   ],
   "source": [
    "# cannot reindex on an axis with duplicate labels\n",
    "rdata_concat_mouse_symb.obs_names"
   ]
  },
  {
   "cell_type": "code",
   "execution_count": 27,
   "id": "075dd22a",
   "metadata": {},
   "outputs": [],
   "source": [
    "rdata_concat_mouse_symb_a = rdata_concat_mouse_symb[:, ~rdata_concat_mouse_symb.var_names.duplicated()].copy()  # For genes\n",
    "rdata_concat_mouse_symb_b = rdata_concat_mouse_symb_a[~rdata_concat_mouse_symb_a.obs_names.duplicated(), :].copy()\n",
    "rdata_concat_mouse_symb_b.var_names_make_unique()"
   ]
  },
  {
   "cell_type": "markdown",
   "id": "0ba81ad2",
   "metadata": {},
   "source": [
    "upload the  Tabula Muris data"
   ]
  },
  {
   "cell_type": "code",
   "execution_count": 28,
   "id": "32c2c69d",
   "metadata": {},
   "outputs": [],
   "source": [
    "tm_droplet = sc.read_h5ad('/data/kanferg/Sptial_Omics/projects/NguyenLab/data/czi/TM_droplet.h5ad')\n",
    "tm_facs = sc.read_h5ad('/data/kanferg/Sptial_Omics/projects/NguyenLab/data/czi/TM_facs.h5ad')"
   ]
  },
  {
   "cell_type": "code",
   "execution_count": 29,
   "id": "52d22efb",
   "metadata": {},
   "outputs": [],
   "source": [
    "tm_droplet = tm_droplet[tm_droplet.obs.tissue==\"Skin\"].copy()\n",
    "tm_facs = tm_facs[tm_facs.obs.tissue==\"Skin\"].copy()"
   ]
  },
  {
   "cell_type": "code",
   "execution_count": 30,
   "id": "0f996a65",
   "metadata": {},
   "outputs": [
    {
     "data": {
      "text/html": [
       "<div>\n",
       "<style scoped>\n",
       "    .dataframe tbody tr th:only-of-type {\n",
       "        vertical-align: middle;\n",
       "    }\n",
       "\n",
       "    .dataframe tbody tr th {\n",
       "        vertical-align: top;\n",
       "    }\n",
       "\n",
       "    .dataframe thead th {\n",
       "        text-align: right;\n",
       "    }\n",
       "</style>\n",
       "<table border=\"1\" class=\"dataframe\">\n",
       "  <thead>\n",
       "    <tr style=\"text-align: right;\">\n",
       "      <th></th>\n",
       "      <th>1</th>\n",
       "    </tr>\n",
       "    <tr>\n",
       "      <th>0</th>\n",
       "      <th></th>\n",
       "    </tr>\n",
       "  </thead>\n",
       "  <tbody>\n",
       "    <tr>\n",
       "      <th>0610007C21Rik</th>\n",
       "      <td>94.571429</td>\n",
       "    </tr>\n",
       "    <tr>\n",
       "      <th>0610007L01Rik</th>\n",
       "      <td>156.000000</td>\n",
       "    </tr>\n",
       "    <tr>\n",
       "      <th>0610007P08Rik</th>\n",
       "      <td>202.272727</td>\n",
       "    </tr>\n",
       "    <tr>\n",
       "      <th>0610007P14Rik</th>\n",
       "      <td>104.000000</td>\n",
       "    </tr>\n",
       "    <tr>\n",
       "      <th>0610007P22Rik</th>\n",
       "      <td>158.750000</td>\n",
       "    </tr>\n",
       "  </tbody>\n",
       "</table>\n",
       "</div>"
      ],
      "text/plain": [
       "                        1\n",
       "0                        \n",
       "0610007C21Rik   94.571429\n",
       "0610007L01Rik  156.000000\n",
       "0610007P08Rik  202.272727\n",
       "0610007P14Rik  104.000000\n",
       "0610007P22Rik  158.750000"
      ]
     },
     "execution_count": 30,
     "metadata": {},
     "output_type": "execute_result"
    }
   ],
   "source": [
    "gene_len = pd.read_csv(\n",
    "    \"https://raw.githubusercontent.com/chenlingantelope/HarmonizationSCANVI/master/data/gene_len.txt\",\n",
    "    delimiter=\" \",\n",
    "    header=None,\n",
    "    index_col=0,\n",
    ")\n",
    "gene_len.head()"
   ]
  },
  {
   "cell_type": "code",
   "execution_count": 31,
   "id": "654c8f02",
   "metadata": {},
   "outputs": [],
   "source": [
    "tm_droplet.obs['CellType'] = tm_droplet.obs['cell_ontology_class']\n",
    "tm_facs.obs['CellType'] = tm_facs.obs['cell_ontology_class']\n",
    "rdata_concat_mouse_symb_b.obs['CellType'] = rdata_concat_mouse_symb_b.obs['author_cell_type']"
   ]
  },
  {
   "cell_type": "code",
   "execution_count": 32,
   "id": "7f139dba",
   "metadata": {},
   "outputs": [
    {
     "data": {
      "text/plain": [
       "AnnData object with n_obs × n_vars = 55560 × 17752\n",
       "    obs: 'nCount_RNA', 'nFeature_RNA', 'harm_study', 'harm_healthy.tissue', 'harm_tumor.site', 'harm_sample.type', 'harm_condition', 'harm_tumor.type', 'harm_cd45pos', 'harm_healthy.pat', 'percent.mt', 'ratio_nCount_nFeature', 'batch', 'X_scvi_batch', 'X_scvi_labels', 'X_scvi_local_l_mean', 'X_scvi_local_l_var', 'leiden_0.2', 'leiden_0.4', 'leiden_0.6', 'leiden_0.8', 'leiden_1', 'leiden_1.2', 'leiden_1.4', 'author_first_cell_type', 'author_cell_type', 'cnv_score', 'organism_ontology_term_id', 'donor_id', 'development_stage_ontology_term_id', 'sex_ontology_term_id', 'self_reported_ethnicity_ontology_term_id', 'disease_ontology_term_id', 'tissue_ontology_term_id', 'cell_type_ontology_term_id', 'suspension_type', 'assay_ontology_term_id', 'is_primary_data', 'tissue_type', 'cell_type', 'assay', 'disease', 'organism', 'sex', 'tissue', 'self_reported_ethnicity', 'development_stage', 'observation_joinid', 'CellType'\n",
       "    var: 'mouse_id'\n",
       "    obsm: 'X_pca', 'X_scVI', 'X_umap'"
      ]
     },
     "execution_count": 32,
     "metadata": {},
     "output_type": "execute_result"
    }
   ],
   "source": [
    "rdata_concat_mouse_symb_b"
   ]
  },
  {
   "cell_type": "code",
   "execution_count": 33,
   "id": "4a49ebe5",
   "metadata": {},
   "outputs": [
    {
     "data": {
      "text/plain": [
       "cy04.3_CD45pos_S70-0      TCD4_reg\n",
       "cy04.3_CD45pos_S75-0       TCD8_ex\n",
       "cy04.3_CD45pos_S31-0      TCD4_reg\n",
       "cy04.3_CD45pos_S66-0       TCD8_ex\n",
       "cy04.3_CD45pos_S17-0    TCD4_naive\n",
       "                           ...    \n",
       "TGTACAGCATCGGCCA-1         TCD8_ex\n",
       "TGTCCACTCTGTCGTC-1         TCD8_em\n",
       "TGTTGAGAGCTAATGA-1          RTM_IM\n",
       "TGTTTGTTCGGTCAGC-1         RTM_IFN\n",
       "TTTAGTCTCTCTATGT-1         TCD8_em\n",
       "Name: author_cell_type, Length: 55560, dtype: category\n",
       "Categories (48, object): ['B_cells', 'Endothelial', 'Fibroblasts', 'Mac_AgPres', ..., 'melanoma_tumor', 'pDC', 'uveal melanoma_normal', 'uveal melanoma_tumor']"
      ]
     },
     "execution_count": 33,
     "metadata": {},
     "output_type": "execute_result"
    }
   ],
   "source": [
    "rdata_concat_mouse_symb_b.obs['author_cell_type']"
   ]
  },
  {
   "cell_type": "code",
   "execution_count": 34,
   "id": "c39f8eda",
   "metadata": {},
   "outputs": [
    {
     "data": {
      "text/plain": [
       "index\n",
       "AAAGATGTCGGATGTT-1-40-0-0    basal cell of epidermis\n",
       "AAATGCCTCAAGAAGT-1-40-0-0    basal cell of epidermis\n",
       "AACTCAGAGGCAATTA-1-40-0-0    basal cell of epidermis\n",
       "AAGCCGCCATCGGACC-1-40-0-0     keratinocyte stem cell\n",
       "ACGAGGAAGGTGATAT-1-40-0-0    basal cell of epidermis\n",
       "                                      ...           \n",
       "TTTGGTTCAGTCTTCC-1-62-0-0    basal cell of epidermis\n",
       "TTTGGTTGTTACCGAT-1-62-0-0    basal cell of epidermis\n",
       "TTTGTCAAGACAGAGA-1-62-0-0             epidermal cell\n",
       "TTTGTCAAGCTGCCCA-1-62-0-0    basal cell of epidermis\n",
       "TTTGTCATCTTGTTTG-1-62-0-0             epidermal cell\n",
       "Name: cell_ontology_class, Length: 4454, dtype: category\n",
       "Categories (5, object): ['T cell', 'basal cell of epidermis', 'epidermal cell', 'keratinocyte stem cell', 'stem cell of epidermis']"
      ]
     },
     "execution_count": 34,
     "metadata": {},
     "output_type": "execute_result"
    }
   ],
   "source": [
    "tm_droplet.obs['cell_ontology_class']"
   ]
  },
  {
   "cell_type": "code",
   "execution_count": null,
   "id": "3a9dce6d",
   "metadata": {},
   "outputs": [],
   "source": [
    "gene_len = gene_len.reindex(tm_facs.var.index).dropna()\n",
    "tm_facs = tm_facs[:, gene_len.index]\n",
    "assert (tm_facs.var.index == gene_len.index).sum() == tm_facs.shape[1]\n",
    "tm_facs.X = tm_facs.X / gene_len[1].values * np.median(gene_len[1].values)\n",
    "# round to integer\n",
    "tm_facs.X = np.rint(tm_facs.X)"
   ]
  },
  {
   "cell_type": "code",
   "execution_count": 89,
   "id": "c1f83a73",
   "metadata": {},
   "outputs": [],
   "source": [
    "adata = ad.concat([tm_droplet, tm_facs,rdata_concat_mouse_symb_b],join='inner', merge='same')\n",
    "adata.layers[\"counts\"] = adata.X.copy()\n",
    "sc.pp.normalize_total(adata, target_sum=1e4)\n",
    "sc.pp.log1p(adata)"
   ]
  },
  {
   "cell_type": "code",
   "execution_count": 90,
   "id": "38c4d682",
   "metadata": {},
   "outputs": [],
   "source": [
    "pathout = '/data/kanferg/Sptial_Omics/projects/NguyenLab/spatialomicstoolkit/out_1'\n",
    "andata_save = adata.copy()\n",
    "andata_save.write_h5ad(os.path.join(pathout, \"reff_scData_melanoma_skin_log_norm.h5ad\"))\n"
   ]
  },
  {
   "cell_type": "markdown",
   "id": "f5f2b31e",
   "metadata": {},
   "source": [
    "# celltypist"
   ]
  },
  {
   "cell_type": "code",
   "execution_count": 1,
   "id": "b3b4755c",
   "metadata": {},
   "outputs": [],
   "source": [
    "import scanpy as sc\n",
    "import os\n",
    "import pandas as pd\n",
    "import numpy as np\n",
    "import matplotlib.pyplot as plt\n",
    "import seaborn as sns\n",
    "import celltypist\n",
    "from celltypist import models\n"
   ]
  },
  {
   "cell_type": "code",
   "execution_count": 4,
   "id": "86f09562",
   "metadata": {},
   "outputs": [],
   "source": [
    "pathout = '/data/kanferg/Sptial_Omics/projects/NguyenLab/spatialomicstoolkit/out_1'\n",
    "rdata = sc.read_h5ad(os.path.join(pathout, \"reff_scData_melanoma_skin_log_norm.h5ad\"))"
   ]
  },
  {
   "cell_type": "code",
   "execution_count": 5,
   "id": "c502b2ab",
   "metadata": {},
   "outputs": [
    {
     "data": {
      "text/plain": [
       "(64874, 14234)"
      ]
     },
     "execution_count": 5,
     "metadata": {},
     "output_type": "execute_result"
    }
   ],
   "source": [
    "rdata.shape"
   ]
  },
  {
   "cell_type": "code",
   "execution_count": 6,
   "id": "659d7958",
   "metadata": {},
   "outputs": [],
   "source": [
    "rdata = rdata[~rdata.obs.CellType.isna()]"
   ]
  },
  {
   "cell_type": "code",
   "execution_count": 7,
   "id": "a13ed35d",
   "metadata": {},
   "outputs": [],
   "source": [
    "sc.pp.filter_genes(rdata, min_cells = 50)"
   ]
  },
  {
   "cell_type": "code",
   "execution_count": 8,
   "id": "1222bf05",
   "metadata": {},
   "outputs": [
    {
     "data": {
      "text/plain": [
       "(64874, 13229)"
      ]
     },
     "execution_count": 8,
     "metadata": {},
     "output_type": "execute_result"
    }
   ],
   "source": [
    "rdata.shape"
   ]
  },
  {
   "cell_type": "code",
   "execution_count": 13,
   "id": "8f39e8a4",
   "metadata": {
    "collapsed": true,
    "jupyter": {
     "outputs_hidden": true
    }
   },
   "outputs": [
    {
     "name": "stderr",
     "output_type": "stream",
     "text": [
      "🍳 Preparing data before training\n",
      "🔬 Input data has 64874 cells and 13229 genes\n",
      "⚖️ Scaling input data\n",
      "🏋️ Training data using SGD logistic regression\n",
      "🔎 Selecting features\n",
      "🧬 6903 features are selected\n",
      "🏋️ Starting the second round of training\n",
      "🏋️ Training data using logistic regression\n"
     ]
    },
    {
     "ename": "KeyboardInterrupt",
     "evalue": "",
     "output_type": "error",
     "traceback": [
      "\u001b[0;31m---------------------------------------------------------------------------\u001b[0m",
      "\u001b[0;31mKeyboardInterrupt\u001b[0m                         Traceback (most recent call last)",
      "Cell \u001b[0;32mIn[13], line 1\u001b[0m\n\u001b[0;32m----> 1\u001b[0m ref_model \u001b[38;5;241m=\u001b[39m \u001b[43mcelltypist\u001b[49m\u001b[38;5;241;43m.\u001b[39;49m\u001b[43mtrain\u001b[49m\u001b[43m(\u001b[49m\u001b[43mrdata\u001b[49m\u001b[43m,\u001b[49m\u001b[43m \u001b[49m\u001b[43mlabels\u001b[49m\u001b[43m \u001b[49m\u001b[38;5;241;43m=\u001b[39;49m\u001b[43m \u001b[49m\u001b[38;5;124;43m'\u001b[39;49m\u001b[38;5;124;43mCellType\u001b[39;49m\u001b[38;5;124;43m'\u001b[39;49m\u001b[43m,\u001b[49m\u001b[43m \u001b[49m\u001b[43mn_jobs\u001b[49m\u001b[43m \u001b[49m\u001b[38;5;241;43m=\u001b[39;49m\u001b[43m \u001b[49m\u001b[38;5;241;43m22\u001b[39;49m\u001b[43m,\u001b[49m\n\u001b[1;32m      2\u001b[0m \u001b[43m                            \u001b[49m\u001b[43muse_SGD\u001b[49m\u001b[43m \u001b[49m\u001b[38;5;241;43m=\u001b[39;49m\u001b[43m \u001b[49m\u001b[38;5;28;43;01mFalse\u001b[39;49;00m\u001b[43m,\u001b[49m\n\u001b[1;32m      3\u001b[0m \u001b[43m                            \u001b[49m\u001b[43mfeature_selection\u001b[49m\u001b[43m \u001b[49m\u001b[38;5;241;43m=\u001b[39;49m\u001b[43m \u001b[49m\u001b[38;5;28;43;01mTrue\u001b[39;49;00m\u001b[43m,\u001b[49m\u001b[43m \u001b[49m\u001b[43mtop_genes\u001b[49m\u001b[43m \u001b[49m\u001b[38;5;241;43m=\u001b[39;49m\u001b[43m \u001b[49m\u001b[38;5;241;43m300\u001b[39;49m\u001b[43m)\u001b[49m\n",
      "File \u001b[0;32m/gpfs/gsfs10/users/kanferg/conda/envs/scvi_env/lib/python3.12/site-packages/celltypist/train.py:390\u001b[0m, in \u001b[0;36mtrain\u001b[0;34m(X, labels, genes, transpose_input, with_mean, check_expression, C, solver, max_iter, n_jobs, use_SGD, alpha, use_GPU, mini_batch, batch_number, batch_size, epochs, balance_cell_type, feature_selection, top_genes, date, details, url, source, version, **kwargs)\u001b[0m\n\u001b[1;32m    388\u001b[0m     classifier \u001b[38;5;241m=\u001b[39m _cuLRClassifier(indata \u001b[38;5;241m=\u001b[39m indata[:, gene_index], labels \u001b[38;5;241m=\u001b[39m labels, C \u001b[38;5;241m=\u001b[39m C, solver \u001b[38;5;241m=\u001b[39m solver, max_iter \u001b[38;5;241m=\u001b[39m max_iter, \u001b[38;5;241m*\u001b[39m\u001b[38;5;241m*\u001b[39mkwargs)\n\u001b[1;32m    389\u001b[0m \u001b[38;5;28;01melse\u001b[39;00m:\n\u001b[0;32m--> 390\u001b[0m     classifier \u001b[38;5;241m=\u001b[39m \u001b[43m_LRClassifier\u001b[49m\u001b[43m(\u001b[49m\u001b[43mindata\u001b[49m\u001b[43m \u001b[49m\u001b[38;5;241;43m=\u001b[39;49m\u001b[43m \u001b[49m\u001b[43mindata\u001b[49m\u001b[43m[\u001b[49m\u001b[43m:\u001b[49m\u001b[43m,\u001b[49m\u001b[43m \u001b[49m\u001b[43mgene_index\u001b[49m\u001b[43m]\u001b[49m\u001b[43m,\u001b[49m\u001b[43m \u001b[49m\u001b[43mlabels\u001b[49m\u001b[43m \u001b[49m\u001b[38;5;241;43m=\u001b[39;49m\u001b[43m \u001b[49m\u001b[43mlabels\u001b[49m\u001b[43m,\u001b[49m\u001b[43m \u001b[49m\u001b[43mC\u001b[49m\u001b[43m \u001b[49m\u001b[38;5;241;43m=\u001b[39;49m\u001b[43m \u001b[49m\u001b[43mC\u001b[49m\u001b[43m,\u001b[49m\u001b[43m \u001b[49m\u001b[43msolver\u001b[49m\u001b[43m \u001b[49m\u001b[38;5;241;43m=\u001b[39;49m\u001b[43m \u001b[49m\u001b[43msolver\u001b[49m\u001b[43m,\u001b[49m\u001b[43m \u001b[49m\u001b[43mmax_iter\u001b[49m\u001b[43m \u001b[49m\u001b[38;5;241;43m=\u001b[39;49m\u001b[43m \u001b[49m\u001b[43mmax_iter\u001b[49m\u001b[43m,\u001b[49m\u001b[43m \u001b[49m\u001b[43mn_jobs\u001b[49m\u001b[43m \u001b[49m\u001b[38;5;241;43m=\u001b[39;49m\u001b[43m \u001b[49m\u001b[43mn_jobs\u001b[49m\u001b[43m,\u001b[49m\u001b[43m \u001b[49m\u001b[38;5;241;43m*\u001b[39;49m\u001b[38;5;241;43m*\u001b[39;49m\u001b[43mkwargs\u001b[49m\u001b[43m)\u001b[49m\n\u001b[1;32m    391\u001b[0m scaler\u001b[38;5;241m.\u001b[39mmean_ \u001b[38;5;241m=\u001b[39m scaler\u001b[38;5;241m.\u001b[39mmean_[gene_index]\n\u001b[1;32m    392\u001b[0m scaler\u001b[38;5;241m.\u001b[39mvar_ \u001b[38;5;241m=\u001b[39m scaler\u001b[38;5;241m.\u001b[39mvar_[gene_index]\n",
      "File \u001b[0;32m/gpfs/gsfs10/users/kanferg/conda/envs/scvi_env/lib/python3.12/site-packages/celltypist/train.py:127\u001b[0m, in \u001b[0;36m_LRClassifier\u001b[0;34m(indata, labels, C, solver, max_iter, n_jobs, **kwargs)\u001b[0m\n\u001b[1;32m    125\u001b[0m     logger\u001b[38;5;241m.\u001b[39mwarn(\u001b[38;5;124mf\u001b[39m\u001b[38;5;124m\"\u001b[39m\u001b[38;5;124m⚠️ Warning: it may take a long time to train this dataset with \u001b[39m\u001b[38;5;132;01m{\u001b[39;00mno_cells\u001b[38;5;132;01m}\u001b[39;00m\u001b[38;5;124m cells and \u001b[39m\u001b[38;5;132;01m{\u001b[39;00mindata\u001b[38;5;241m.\u001b[39mshape[\u001b[38;5;241m1\u001b[39m]\u001b[38;5;132;01m}\u001b[39;00m\u001b[38;5;124m genes, try to downsample cells and/or restrict genes to a subset (e.g., hvgs)\u001b[39m\u001b[38;5;124m\"\u001b[39m)\n\u001b[1;32m    126\u001b[0m classifier \u001b[38;5;241m=\u001b[39m LogisticRegression(C \u001b[38;5;241m=\u001b[39m C, solver \u001b[38;5;241m=\u001b[39m solver, max_iter \u001b[38;5;241m=\u001b[39m max_iter, multi_class \u001b[38;5;241m=\u001b[39m \u001b[38;5;124m'\u001b[39m\u001b[38;5;124movr\u001b[39m\u001b[38;5;124m'\u001b[39m, n_jobs \u001b[38;5;241m=\u001b[39m n_jobs, \u001b[38;5;241m*\u001b[39m\u001b[38;5;241m*\u001b[39mkwargs)\n\u001b[0;32m--> 127\u001b[0m \u001b[43mclassifier\u001b[49m\u001b[38;5;241;43m.\u001b[39;49m\u001b[43mfit\u001b[49m\u001b[43m(\u001b[49m\u001b[43mindata\u001b[49m\u001b[43m,\u001b[49m\u001b[43m \u001b[49m\u001b[43mlabels\u001b[49m\u001b[43m)\u001b[49m\n\u001b[1;32m    128\u001b[0m \u001b[38;5;28;01mreturn\u001b[39;00m classifier\n",
      "File \u001b[0;32m/gpfs/gsfs10/users/kanferg/conda/envs/scvi_env/lib/python3.12/site-packages/sklearn/base.py:1473\u001b[0m, in \u001b[0;36m_fit_context.<locals>.decorator.<locals>.wrapper\u001b[0;34m(estimator, *args, **kwargs)\u001b[0m\n\u001b[1;32m   1466\u001b[0m     estimator\u001b[38;5;241m.\u001b[39m_validate_params()\n\u001b[1;32m   1468\u001b[0m \u001b[38;5;28;01mwith\u001b[39;00m config_context(\n\u001b[1;32m   1469\u001b[0m     skip_parameter_validation\u001b[38;5;241m=\u001b[39m(\n\u001b[1;32m   1470\u001b[0m         prefer_skip_nested_validation \u001b[38;5;129;01mor\u001b[39;00m global_skip_validation\n\u001b[1;32m   1471\u001b[0m     )\n\u001b[1;32m   1472\u001b[0m ):\n\u001b[0;32m-> 1473\u001b[0m     \u001b[38;5;28;01mreturn\u001b[39;00m \u001b[43mfit_method\u001b[49m\u001b[43m(\u001b[49m\u001b[43mestimator\u001b[49m\u001b[43m,\u001b[49m\u001b[43m \u001b[49m\u001b[38;5;241;43m*\u001b[39;49m\u001b[43margs\u001b[49m\u001b[43m,\u001b[49m\u001b[43m \u001b[49m\u001b[38;5;241;43m*\u001b[39;49m\u001b[38;5;241;43m*\u001b[39;49m\u001b[43mkwargs\u001b[49m\u001b[43m)\u001b[49m\n",
      "File \u001b[0;32m/gpfs/gsfs10/users/kanferg/conda/envs/scvi_env/lib/python3.12/site-packages/sklearn/linear_model/_logistic.py:1350\u001b[0m, in \u001b[0;36mLogisticRegression.fit\u001b[0;34m(self, X, y, sample_weight)\u001b[0m\n\u001b[1;32m   1347\u001b[0m \u001b[38;5;28;01melse\u001b[39;00m:\n\u001b[1;32m   1348\u001b[0m     n_threads \u001b[38;5;241m=\u001b[39m \u001b[38;5;241m1\u001b[39m\n\u001b[0;32m-> 1350\u001b[0m fold_coefs_ \u001b[38;5;241m=\u001b[39m \u001b[43mParallel\u001b[49m\u001b[43m(\u001b[49m\u001b[43mn_jobs\u001b[49m\u001b[38;5;241;43m=\u001b[39;49m\u001b[38;5;28;43mself\u001b[39;49m\u001b[38;5;241;43m.\u001b[39;49m\u001b[43mn_jobs\u001b[49m\u001b[43m,\u001b[49m\u001b[43m \u001b[49m\u001b[43mverbose\u001b[49m\u001b[38;5;241;43m=\u001b[39;49m\u001b[38;5;28;43mself\u001b[39;49m\u001b[38;5;241;43m.\u001b[39;49m\u001b[43mverbose\u001b[49m\u001b[43m,\u001b[49m\u001b[43m \u001b[49m\u001b[43mprefer\u001b[49m\u001b[38;5;241;43m=\u001b[39;49m\u001b[43mprefer\u001b[49m\u001b[43m)\u001b[49m\u001b[43m(\u001b[49m\n\u001b[1;32m   1351\u001b[0m \u001b[43m    \u001b[49m\u001b[43mpath_func\u001b[49m\u001b[43m(\u001b[49m\n\u001b[1;32m   1352\u001b[0m \u001b[43m        \u001b[49m\u001b[43mX\u001b[49m\u001b[43m,\u001b[49m\n\u001b[1;32m   1353\u001b[0m \u001b[43m        \u001b[49m\u001b[43my\u001b[49m\u001b[43m,\u001b[49m\n\u001b[1;32m   1354\u001b[0m \u001b[43m        \u001b[49m\u001b[43mpos_class\u001b[49m\u001b[38;5;241;43m=\u001b[39;49m\u001b[43mclass_\u001b[49m\u001b[43m,\u001b[49m\n\u001b[1;32m   1355\u001b[0m \u001b[43m        \u001b[49m\u001b[43mCs\u001b[49m\u001b[38;5;241;43m=\u001b[39;49m\u001b[43m[\u001b[49m\u001b[43mC_\u001b[49m\u001b[43m]\u001b[49m\u001b[43m,\u001b[49m\n\u001b[1;32m   1356\u001b[0m \u001b[43m        \u001b[49m\u001b[43ml1_ratio\u001b[49m\u001b[38;5;241;43m=\u001b[39;49m\u001b[38;5;28;43mself\u001b[39;49m\u001b[38;5;241;43m.\u001b[39;49m\u001b[43ml1_ratio\u001b[49m\u001b[43m,\u001b[49m\n\u001b[1;32m   1357\u001b[0m \u001b[43m        \u001b[49m\u001b[43mfit_intercept\u001b[49m\u001b[38;5;241;43m=\u001b[39;49m\u001b[38;5;28;43mself\u001b[39;49m\u001b[38;5;241;43m.\u001b[39;49m\u001b[43mfit_intercept\u001b[49m\u001b[43m,\u001b[49m\n\u001b[1;32m   1358\u001b[0m \u001b[43m        \u001b[49m\u001b[43mtol\u001b[49m\u001b[38;5;241;43m=\u001b[39;49m\u001b[38;5;28;43mself\u001b[39;49m\u001b[38;5;241;43m.\u001b[39;49m\u001b[43mtol\u001b[49m\u001b[43m,\u001b[49m\n\u001b[1;32m   1359\u001b[0m \u001b[43m        \u001b[49m\u001b[43mverbose\u001b[49m\u001b[38;5;241;43m=\u001b[39;49m\u001b[38;5;28;43mself\u001b[39;49m\u001b[38;5;241;43m.\u001b[39;49m\u001b[43mverbose\u001b[49m\u001b[43m,\u001b[49m\n\u001b[1;32m   1360\u001b[0m \u001b[43m        \u001b[49m\u001b[43msolver\u001b[49m\u001b[38;5;241;43m=\u001b[39;49m\u001b[43msolver\u001b[49m\u001b[43m,\u001b[49m\n\u001b[1;32m   1361\u001b[0m \u001b[43m        \u001b[49m\u001b[43mmulti_class\u001b[49m\u001b[38;5;241;43m=\u001b[39;49m\u001b[43mmulti_class\u001b[49m\u001b[43m,\u001b[49m\n\u001b[1;32m   1362\u001b[0m \u001b[43m        \u001b[49m\u001b[43mmax_iter\u001b[49m\u001b[38;5;241;43m=\u001b[39;49m\u001b[38;5;28;43mself\u001b[39;49m\u001b[38;5;241;43m.\u001b[39;49m\u001b[43mmax_iter\u001b[49m\u001b[43m,\u001b[49m\n\u001b[1;32m   1363\u001b[0m \u001b[43m        \u001b[49m\u001b[43mclass_weight\u001b[49m\u001b[38;5;241;43m=\u001b[39;49m\u001b[38;5;28;43mself\u001b[39;49m\u001b[38;5;241;43m.\u001b[39;49m\u001b[43mclass_weight\u001b[49m\u001b[43m,\u001b[49m\n\u001b[1;32m   1364\u001b[0m \u001b[43m        \u001b[49m\u001b[43mcheck_input\u001b[49m\u001b[38;5;241;43m=\u001b[39;49m\u001b[38;5;28;43;01mFalse\u001b[39;49;00m\u001b[43m,\u001b[49m\n\u001b[1;32m   1365\u001b[0m \u001b[43m        \u001b[49m\u001b[43mrandom_state\u001b[49m\u001b[38;5;241;43m=\u001b[39;49m\u001b[38;5;28;43mself\u001b[39;49m\u001b[38;5;241;43m.\u001b[39;49m\u001b[43mrandom_state\u001b[49m\u001b[43m,\u001b[49m\n\u001b[1;32m   1366\u001b[0m \u001b[43m        \u001b[49m\u001b[43mcoef\u001b[49m\u001b[38;5;241;43m=\u001b[39;49m\u001b[43mwarm_start_coef_\u001b[49m\u001b[43m,\u001b[49m\n\u001b[1;32m   1367\u001b[0m \u001b[43m        \u001b[49m\u001b[43mpenalty\u001b[49m\u001b[38;5;241;43m=\u001b[39;49m\u001b[43mpenalty\u001b[49m\u001b[43m,\u001b[49m\n\u001b[1;32m   1368\u001b[0m \u001b[43m        \u001b[49m\u001b[43mmax_squared_sum\u001b[49m\u001b[38;5;241;43m=\u001b[39;49m\u001b[43mmax_squared_sum\u001b[49m\u001b[43m,\u001b[49m\n\u001b[1;32m   1369\u001b[0m \u001b[43m        \u001b[49m\u001b[43msample_weight\u001b[49m\u001b[38;5;241;43m=\u001b[39;49m\u001b[43msample_weight\u001b[49m\u001b[43m,\u001b[49m\n\u001b[1;32m   1370\u001b[0m \u001b[43m        \u001b[49m\u001b[43mn_threads\u001b[49m\u001b[38;5;241;43m=\u001b[39;49m\u001b[43mn_threads\u001b[49m\u001b[43m,\u001b[49m\n\u001b[1;32m   1371\u001b[0m \u001b[43m    \u001b[49m\u001b[43m)\u001b[49m\n\u001b[1;32m   1372\u001b[0m \u001b[43m    \u001b[49m\u001b[38;5;28;43;01mfor\u001b[39;49;00m\u001b[43m \u001b[49m\u001b[43mclass_\u001b[49m\u001b[43m,\u001b[49m\u001b[43m \u001b[49m\u001b[43mwarm_start_coef_\u001b[49m\u001b[43m \u001b[49m\u001b[38;5;129;43;01min\u001b[39;49;00m\u001b[43m \u001b[49m\u001b[38;5;28;43mzip\u001b[39;49m\u001b[43m(\u001b[49m\u001b[43mclasses_\u001b[49m\u001b[43m,\u001b[49m\u001b[43m \u001b[49m\u001b[43mwarm_start_coef\u001b[49m\u001b[43m)\u001b[49m\n\u001b[1;32m   1373\u001b[0m \u001b[43m\u001b[49m\u001b[43m)\u001b[49m\n\u001b[1;32m   1375\u001b[0m fold_coefs_, _, n_iter_ \u001b[38;5;241m=\u001b[39m \u001b[38;5;28mzip\u001b[39m(\u001b[38;5;241m*\u001b[39mfold_coefs_)\n\u001b[1;32m   1376\u001b[0m \u001b[38;5;28mself\u001b[39m\u001b[38;5;241m.\u001b[39mn_iter_ \u001b[38;5;241m=\u001b[39m np\u001b[38;5;241m.\u001b[39masarray(n_iter_, dtype\u001b[38;5;241m=\u001b[39mnp\u001b[38;5;241m.\u001b[39mint32)[:, \u001b[38;5;241m0\u001b[39m]\n",
      "File \u001b[0;32m/gpfs/gsfs10/users/kanferg/conda/envs/scvi_env/lib/python3.12/site-packages/sklearn/utils/parallel.py:74\u001b[0m, in \u001b[0;36mParallel.__call__\u001b[0;34m(self, iterable)\u001b[0m\n\u001b[1;32m     69\u001b[0m config \u001b[38;5;241m=\u001b[39m get_config()\n\u001b[1;32m     70\u001b[0m iterable_with_config \u001b[38;5;241m=\u001b[39m (\n\u001b[1;32m     71\u001b[0m     (_with_config(delayed_func, config), args, kwargs)\n\u001b[1;32m     72\u001b[0m     \u001b[38;5;28;01mfor\u001b[39;00m delayed_func, args, kwargs \u001b[38;5;129;01min\u001b[39;00m iterable\n\u001b[1;32m     73\u001b[0m )\n\u001b[0;32m---> 74\u001b[0m \u001b[38;5;28;01mreturn\u001b[39;00m \u001b[38;5;28;43msuper\u001b[39;49m\u001b[43m(\u001b[49m\u001b[43m)\u001b[49m\u001b[38;5;241;43m.\u001b[39;49m\u001b[38;5;21;43m__call__\u001b[39;49m\u001b[43m(\u001b[49m\u001b[43miterable_with_config\u001b[49m\u001b[43m)\u001b[49m\n",
      "File \u001b[0;32m/gpfs/gsfs10/users/kanferg/conda/envs/scvi_env/lib/python3.12/site-packages/joblib/parallel.py:2007\u001b[0m, in \u001b[0;36mParallel.__call__\u001b[0;34m(self, iterable)\u001b[0m\n\u001b[1;32m   2001\u001b[0m \u001b[38;5;66;03m# The first item from the output is blank, but it makes the interpreter\u001b[39;00m\n\u001b[1;32m   2002\u001b[0m \u001b[38;5;66;03m# progress until it enters the Try/Except block of the generator and\u001b[39;00m\n\u001b[1;32m   2003\u001b[0m \u001b[38;5;66;03m# reaches the first `yield` statement. This starts the asynchronous\u001b[39;00m\n\u001b[1;32m   2004\u001b[0m \u001b[38;5;66;03m# dispatch of the tasks to the workers.\u001b[39;00m\n\u001b[1;32m   2005\u001b[0m \u001b[38;5;28mnext\u001b[39m(output)\n\u001b[0;32m-> 2007\u001b[0m \u001b[38;5;28;01mreturn\u001b[39;00m output \u001b[38;5;28;01mif\u001b[39;00m \u001b[38;5;28mself\u001b[39m\u001b[38;5;241m.\u001b[39mreturn_generator \u001b[38;5;28;01melse\u001b[39;00m \u001b[38;5;28;43mlist\u001b[39;49m\u001b[43m(\u001b[49m\u001b[43moutput\u001b[49m\u001b[43m)\u001b[49m\n",
      "File \u001b[0;32m/gpfs/gsfs10/users/kanferg/conda/envs/scvi_env/lib/python3.12/site-packages/joblib/parallel.py:1650\u001b[0m, in \u001b[0;36mParallel._get_outputs\u001b[0;34m(self, iterator, pre_dispatch)\u001b[0m\n\u001b[1;32m   1647\u001b[0m     \u001b[38;5;28;01myield\u001b[39;00m\n\u001b[1;32m   1649\u001b[0m     \u001b[38;5;28;01mwith\u001b[39;00m \u001b[38;5;28mself\u001b[39m\u001b[38;5;241m.\u001b[39m_backend\u001b[38;5;241m.\u001b[39mretrieval_context():\n\u001b[0;32m-> 1650\u001b[0m         \u001b[38;5;28;01myield from\u001b[39;00m \u001b[38;5;28mself\u001b[39m\u001b[38;5;241m.\u001b[39m_retrieve()\n\u001b[1;32m   1652\u001b[0m \u001b[38;5;28;01mexcept\u001b[39;00m \u001b[38;5;167;01mGeneratorExit\u001b[39;00m:\n\u001b[1;32m   1653\u001b[0m     \u001b[38;5;66;03m# The generator has been garbage collected before being fully\u001b[39;00m\n\u001b[1;32m   1654\u001b[0m     \u001b[38;5;66;03m# consumed. This aborts the remaining tasks if possible and warn\u001b[39;00m\n\u001b[1;32m   1655\u001b[0m     \u001b[38;5;66;03m# the user if necessary.\u001b[39;00m\n\u001b[1;32m   1656\u001b[0m     \u001b[38;5;28mself\u001b[39m\u001b[38;5;241m.\u001b[39m_exception \u001b[38;5;241m=\u001b[39m \u001b[38;5;28;01mTrue\u001b[39;00m\n",
      "File \u001b[0;32m/gpfs/gsfs10/users/kanferg/conda/envs/scvi_env/lib/python3.12/site-packages/joblib/parallel.py:1762\u001b[0m, in \u001b[0;36mParallel._retrieve\u001b[0;34m(self)\u001b[0m\n\u001b[1;32m   1757\u001b[0m \u001b[38;5;66;03m# If the next job is not ready for retrieval yet, we just wait for\u001b[39;00m\n\u001b[1;32m   1758\u001b[0m \u001b[38;5;66;03m# async callbacks to progress.\u001b[39;00m\n\u001b[1;32m   1759\u001b[0m \u001b[38;5;28;01mif\u001b[39;00m ((\u001b[38;5;28mlen\u001b[39m(\u001b[38;5;28mself\u001b[39m\u001b[38;5;241m.\u001b[39m_jobs) \u001b[38;5;241m==\u001b[39m \u001b[38;5;241m0\u001b[39m) \u001b[38;5;129;01mor\u001b[39;00m\n\u001b[1;32m   1760\u001b[0m     (\u001b[38;5;28mself\u001b[39m\u001b[38;5;241m.\u001b[39m_jobs[\u001b[38;5;241m0\u001b[39m]\u001b[38;5;241m.\u001b[39mget_status(\n\u001b[1;32m   1761\u001b[0m         timeout\u001b[38;5;241m=\u001b[39m\u001b[38;5;28mself\u001b[39m\u001b[38;5;241m.\u001b[39mtimeout) \u001b[38;5;241m==\u001b[39m TASK_PENDING)):\n\u001b[0;32m-> 1762\u001b[0m     \u001b[43mtime\u001b[49m\u001b[38;5;241;43m.\u001b[39;49m\u001b[43msleep\u001b[49m\u001b[43m(\u001b[49m\u001b[38;5;241;43m0.01\u001b[39;49m\u001b[43m)\u001b[49m\n\u001b[1;32m   1763\u001b[0m     \u001b[38;5;28;01mcontinue\u001b[39;00m\n\u001b[1;32m   1765\u001b[0m \u001b[38;5;66;03m# We need to be careful: the job list can be filling up as\u001b[39;00m\n\u001b[1;32m   1766\u001b[0m \u001b[38;5;66;03m# we empty it and Python list are not thread-safe by\u001b[39;00m\n\u001b[1;32m   1767\u001b[0m \u001b[38;5;66;03m# default hence the use of the lock\u001b[39;00m\n",
      "\u001b[0;31mKeyboardInterrupt\u001b[0m: "
     ]
    }
   ],
   "source": [
    "ref_model = celltypist.train(rdata, labels = 'CellType', n_jobs = 22,\n",
    "                            use_SGD = False,\n",
    "                            feature_selection = True, top_genes = 300)"
   ]
  },
  {
   "cell_type": "code",
   "execution_count": null,
   "id": "4ff807b8",
   "metadata": {},
   "outputs": [],
   "source": [
    "ref_model.write(os.path.join(pathout,'ref.pkl'))"
   ]
  },
  {
   "cell_type": "code",
   "execution_count": null,
   "id": "7ad70929",
   "metadata": {},
   "outputs": [],
   "source": [
    "model_Immuno_low = models.Model.load(model=\"Immune_All_Low.pkl\")"
   ]
  },
  {
   "cell_type": "code",
   "execution_count": null,
   "id": "baf630a6",
   "metadata": {},
   "outputs": [],
   "source": [
    "ref_model.write(os.path.join(pathout,'ref_immuno_low.pkl'))"
   ]
  },
  {
   "cell_type": "markdown",
   "id": "20573fba",
   "metadata": {},
   "source": [
    "Load the data after runing:\n",
    "```bash\n",
    "sbatch xenium_celltypist.sh\n",
    "```"
   ]
  },
  {
   "cell_type": "code",
   "execution_count": 3,
   "id": "fe3ec27c",
   "metadata": {},
   "outputs": [],
   "source": [
    "pathout = '/data/kanferg/Sptial_Omics/projects/NguyenLab/spatialomicstoolkit/out_1'"
   ]
  },
  {
   "cell_type": "code",
   "execution_count": 4,
   "id": "0e34202e",
   "metadata": {},
   "outputs": [],
   "source": [
    "ref_model = models.Model.load(model=pathout + \"/ref.pkl\")\n",
    "#model_low = models.Model.load(model=pathout + \"/Immune_All_Low.pkl\")"
   ]
  },
  {
   "cell_type": "code",
   "execution_count": 5,
   "id": "13d53d49",
   "metadata": {},
   "outputs": [],
   "source": [
    "model_Immuno_low = models.Model.load(model=\"Immune_All_Low.pkl\")"
   ]
  },
  {
   "cell_type": "code",
   "execution_count": 33,
   "id": "22badb4b",
   "metadata": {},
   "outputs": [],
   "source": [
    "andata = sc.read_h5ad(os.path.join(pathout,'andata_filter_logNorm_hvg_leiden_harmony_scvi.h5ad'))"
   ]
  },
  {
   "cell_type": "code",
   "execution_count": 34,
   "id": "ea8db555",
   "metadata": {},
   "outputs": [
    {
     "data": {
      "text/plain": [
       "AnnData object with n_obs × n_vars = 664093 × 2000\n",
       "    obs: 'cell_id', 'transcript_counts', 'control_probe_counts', 'genomic_control_counts', 'control_codeword_counts', 'unassigned_codeword_counts', 'deprecated_codeword_counts', 'total_counts', 'cell_area', 'nucleus_area', 'nucleus_count', 'segmentation_method', 'region', 'z_level', 'cell_labels', 'batch', 'n_genes_by_counts', 'log1p_n_genes_by_counts', 'log1p_total_counts', 'outlier', 'cluster', '_scvi_batch', '_scvi_labels'\n",
       "    var: 'n_cells_by_counts', 'total_counts', 'mean_counts', 'pct_dropout_by_counts', 'log1p_total_counts', 'log1p_mean_counts', 'highly_variable', 'highly_variable_rank', 'means', 'variances', 'variances_norm'\n",
       "    uns: '_scvi_manager_uuid', '_scvi_uuid', 'hvg', 'leiden', 'log1p', 'neighbors', 'pca'\n",
       "    obsm: 'X_pca', 'X_pca_Harmony', 'X_pca_before', 'X_scVI', '_scvi_extra_categorical_covs', 'spatial'\n",
       "    varm: 'PCs'\n",
       "    layers: 'counts', 'log', 'scvi_normalized'\n",
       "    obsp: 'connectivities', 'distances'"
      ]
     },
     "execution_count": 34,
     "metadata": {},
     "output_type": "execute_result"
    }
   ],
   "source": [
    "andata"
   ]
  },
  {
   "cell_type": "code",
   "execution_count": 8,
   "id": "87c8b4a3",
   "metadata": {},
   "outputs": [],
   "source": [
    "andata.X = andata.layers['counts']"
   ]
  },
  {
   "cell_type": "code",
   "execution_count": 9,
   "id": "ec0a0dfc",
   "metadata": {},
   "outputs": [],
   "source": [
    "def predict_cells(adata):\n",
    "    adata.X = adata.X.toarray()\n",
    "    sc.pp.normalize_total(adata, target_sum=1e4) #not recommended for typical pp\n",
    "    sc.pp.log1p(adata)\n",
    "    predictions = celltypist.annotate(adata, model=model_Immuno_low, majority_voting=False)\n",
    "    predictions_adata = predictions.to_adata()\n",
    "    adata.obs[\"low_label\"] = predictions_adata.obs.loc[adata.obs.index, \"predicted_labels\"]\n",
    "    adata.obs[\"low_score\"] = predictions_adata.obs.loc[adata.obs.index, \"conf_score\"]\n",
    "\n",
    "    predictions = celltypist.annotate(adata, model=ref_model, majority_voting=False)\n",
    "    predictions_adata = predictions.to_adata()\n",
    "    adata.obs[\"ref_label\"] = predictions_adata.obs.loc[adata.obs.index, \"predicted_labels\"]\n",
    "    adata.obs[\"ref_score\"] = predictions_adata.obs.loc[adata.obs.index, \"conf_score\"]\n",
    "    return adata.obs"
   ]
  },
  {
   "cell_type": "code",
   "execution_count": 10,
   "id": "8bd7f8da",
   "metadata": {},
   "outputs": [
    {
     "name": "stdout",
     "output_type": "stream",
     "text": [
      "WARNING: adata.X seems to be already log-transformed.\n"
     ]
    },
    {
     "name": "stderr",
     "output_type": "stream",
     "text": [
      "🔬 Input data has 664093 cells and 2000 genes\n",
      "🔗 Matching reference genes in the model\n",
      "🧬 2 features used for prediction\n",
      "⚖️ Scaling input data\n",
      "🖋️ Predicting labels\n",
      "✅ Prediction done!\n",
      "🔬 Input data has 664093 cells and 2000 genes\n",
      "🔗 Matching reference genes in the model\n",
      "🧬 829 features used for prediction\n",
      "⚖️ Scaling input data\n",
      "🖋️ Predicting labels\n",
      "✅ Prediction done!\n"
     ]
    }
   ],
   "source": [
    "predictions = predict_cells(andata)"
   ]
  },
  {
   "cell_type": "code",
   "execution_count": 31,
   "id": "874f4e5a",
   "metadata": {},
   "outputs": [],
   "source": [
    "predictions = predictions[['low_label', 'low_score', 'ref_label', 'ref_score']]"
   ]
  },
  {
   "cell_type": "code",
   "execution_count": 32,
   "id": "1d118d71",
   "metadata": {},
   "outputs": [
    {
     "data": {
      "text/html": [
       "<div>\n",
       "<style scoped>\n",
       "    .dataframe tbody tr th:only-of-type {\n",
       "        vertical-align: middle;\n",
       "    }\n",
       "\n",
       "    .dataframe tbody tr th {\n",
       "        vertical-align: top;\n",
       "    }\n",
       "\n",
       "    .dataframe thead th {\n",
       "        text-align: right;\n",
       "    }\n",
       "</style>\n",
       "<table border=\"1\" class=\"dataframe\">\n",
       "  <thead>\n",
       "    <tr style=\"text-align: right;\">\n",
       "      <th></th>\n",
       "      <th>low_label</th>\n",
       "      <th>low_score</th>\n",
       "      <th>ref_label</th>\n",
       "      <th>ref_score</th>\n",
       "    </tr>\n",
       "  </thead>\n",
       "  <tbody>\n",
       "    <tr>\n",
       "      <th>24707_41</th>\n",
       "      <td>Double-positive thymocytes</td>\n",
       "      <td>0.002553</td>\n",
       "      <td>RTM_IM</td>\n",
       "      <td>0.407453</td>\n",
       "    </tr>\n",
       "    <tr>\n",
       "      <th>24708_41</th>\n",
       "      <td>Double-positive thymocytes</td>\n",
       "      <td>0.002553</td>\n",
       "      <td>uveal melanoma_normal</td>\n",
       "      <td>0.143927</td>\n",
       "    </tr>\n",
       "    <tr>\n",
       "      <th>24709_41</th>\n",
       "      <td>Double-positive thymocytes</td>\n",
       "      <td>0.002553</td>\n",
       "      <td>uveal melanoma_normal</td>\n",
       "      <td>0.143116</td>\n",
       "    </tr>\n",
       "    <tr>\n",
       "      <th>24710_41</th>\n",
       "      <td>Double-positive thymocytes</td>\n",
       "      <td>0.001862</td>\n",
       "      <td>uveal melanoma_normal</td>\n",
       "      <td>0.105713</td>\n",
       "    </tr>\n",
       "    <tr>\n",
       "      <th>24711_41</th>\n",
       "      <td>Double-positive thymocytes</td>\n",
       "      <td>0.002553</td>\n",
       "      <td>uveal melanoma_tumor</td>\n",
       "      <td>0.335867</td>\n",
       "    </tr>\n",
       "    <tr>\n",
       "      <th>...</th>\n",
       "      <td>...</td>\n",
       "      <td>...</td>\n",
       "      <td>...</td>\n",
       "      <td>...</td>\n",
       "    </tr>\n",
       "    <tr>\n",
       "      <th>357876_42</th>\n",
       "      <td>Double-positive thymocytes</td>\n",
       "      <td>0.002553</td>\n",
       "      <td>uveal melanoma_normal</td>\n",
       "      <td>0.337258</td>\n",
       "    </tr>\n",
       "    <tr>\n",
       "      <th>358191_42</th>\n",
       "      <td>Double-positive thymocytes</td>\n",
       "      <td>0.002553</td>\n",
       "      <td>TCD8_naive</td>\n",
       "      <td>0.070820</td>\n",
       "    </tr>\n",
       "    <tr>\n",
       "      <th>358196_42</th>\n",
       "      <td>Double-positive thymocytes</td>\n",
       "      <td>0.002553</td>\n",
       "      <td>uveal melanoma_normal</td>\n",
       "      <td>0.091170</td>\n",
       "    </tr>\n",
       "    <tr>\n",
       "      <th>358211_42</th>\n",
       "      <td>Double-positive thymocytes</td>\n",
       "      <td>0.002553</td>\n",
       "      <td>uveal melanoma_normal</td>\n",
       "      <td>0.078045</td>\n",
       "    </tr>\n",
       "    <tr>\n",
       "      <th>358213_42</th>\n",
       "      <td>Double-positive thymocytes</td>\n",
       "      <td>0.001862</td>\n",
       "      <td>uveal melanoma_normal</td>\n",
       "      <td>0.184076</td>\n",
       "    </tr>\n",
       "  </tbody>\n",
       "</table>\n",
       "<p>664093 rows × 4 columns</p>\n",
       "</div>"
      ],
      "text/plain": [
       "                            low_label  low_score              ref_label  \\\n",
       "24707_41   Double-positive thymocytes   0.002553                 RTM_IM   \n",
       "24708_41   Double-positive thymocytes   0.002553  uveal melanoma_normal   \n",
       "24709_41   Double-positive thymocytes   0.002553  uveal melanoma_normal   \n",
       "24710_41   Double-positive thymocytes   0.001862  uveal melanoma_normal   \n",
       "24711_41   Double-positive thymocytes   0.002553   uveal melanoma_tumor   \n",
       "...                               ...        ...                    ...   \n",
       "357876_42  Double-positive thymocytes   0.002553  uveal melanoma_normal   \n",
       "358191_42  Double-positive thymocytes   0.002553             TCD8_naive   \n",
       "358196_42  Double-positive thymocytes   0.002553  uveal melanoma_normal   \n",
       "358211_42  Double-positive thymocytes   0.002553  uveal melanoma_normal   \n",
       "358213_42  Double-positive thymocytes   0.001862  uveal melanoma_normal   \n",
       "\n",
       "           ref_score  \n",
       "24707_41    0.407453  \n",
       "24708_41    0.143927  \n",
       "24709_41    0.143116  \n",
       "24710_41    0.105713  \n",
       "24711_41    0.335867  \n",
       "...              ...  \n",
       "357876_42   0.337258  \n",
       "358191_42   0.070820  \n",
       "358196_42   0.091170  \n",
       "358211_42   0.078045  \n",
       "358213_42   0.184076  \n",
       "\n",
       "[664093 rows x 4 columns]"
      ]
     },
     "execution_count": 32,
     "metadata": {},
     "output_type": "execute_result"
    }
   ],
   "source": [
    "predictions"
   ]
  },
  {
   "cell_type": "code",
   "execution_count": 46,
   "id": "e18624b9",
   "metadata": {},
   "outputs": [],
   "source": [
    "predictions.to_csv(os.path.join(pathout,'PREDICTIONS.csv'))"
   ]
  },
  {
   "cell_type": "code",
   "execution_count": 38,
   "id": "958e2ac1",
   "metadata": {},
   "outputs": [],
   "source": [
    "andata.obs = andata.obs.merge(right = predictions, left_index=True, right_index=True)"
   ]
  },
  {
   "cell_type": "code",
   "execution_count": 40,
   "id": "7f5cb648",
   "metadata": {},
   "outputs": [
    {
     "data": {
      "text/plain": [
       "24707_41                    RTM_IM\n",
       "24708_41     uveal melanoma_normal\n",
       "24709_41     uveal melanoma_normal\n",
       "24710_41     uveal melanoma_normal\n",
       "24711_41      uveal melanoma_tumor\n",
       "                     ...          \n",
       "357876_42    uveal melanoma_normal\n",
       "358191_42               TCD8_naive\n",
       "358196_42    uveal melanoma_normal\n",
       "358211_42    uveal melanoma_normal\n",
       "358213_42    uveal melanoma_normal\n",
       "Name: ref_label, Length: 664093, dtype: category\n",
       "Categories (47, object): ['B_cells', 'Endothelial', 'Fibroblasts', 'Mac_AgPres', ..., 'pDC', 'stem cell of epidermis', 'uveal melanoma_normal', 'uveal melanoma_tumor']"
      ]
     },
     "execution_count": 40,
     "metadata": {},
     "output_type": "execute_result"
    }
   ],
   "source": [
    "andata.obs['ref_label']"
   ]
  },
  {
   "cell_type": "code",
   "execution_count": 42,
   "id": "18cd9497",
   "metadata": {},
   "outputs": [],
   "source": [
    "andata.obs['low_major'] = andata.obs.groupby('cluster')['low_label'].transform(lambda x: x.mode()[0])\n",
    "andata.obs['ref_major'] = andata.obs.groupby('cluster')['ref_label'].transform(lambda x: x.mode()[0])"
   ]
  },
  {
   "cell_type": "code",
   "execution_count": 45,
   "id": "99d6d9b6",
   "metadata": {},
   "outputs": [
    {
     "data": {
      "text/plain": [
       "array(['uveal melanoma_normal', 'uveal melanoma_tumor'], dtype=object)"
      ]
     },
     "execution_count": 45,
     "metadata": {},
     "output_type": "execute_result"
    }
   ],
   "source": [
    "pd.unique(andata.obs['ref_major'])"
   ]
  },
  {
   "cell_type": "code",
   "execution_count": 1,
   "id": "d9138220",
   "metadata": {},
   "outputs": [],
   "source": [
    "#for cluster, group in andata.obs.groupby('cluster'):\n",
    "    #print(f\"Cluster: {cluster}\")\n",
    "    #print(f\"Labels: {group['ref_label'].value_counts()}\")\n",
    "    #print(f\"Mode: {group['ref_label'].mode()}\")"
   ]
  },
  {
   "cell_type": "code",
   "execution_count": 21,
   "id": "4093d1b6",
   "metadata": {},
   "outputs": [
    {
     "name": "stdout",
     "output_type": "stream",
     "text": [
      "WARNING: .obsp[\"connectivities\"] have not been computed using umap\n"
     ]
    }
   ],
   "source": [
    "sc.tl.umap(andata)"
   ]
  },
  {
   "cell_type": "code",
   "execution_count": 22,
   "id": "966665b8",
   "metadata": {},
   "outputs": [
    {
     "data": {
      "text/plain": [
       "AnnData object with n_obs × n_vars = 664093 × 2000\n",
       "    obs: 'cell_id', 'transcript_counts', 'control_probe_counts', 'genomic_control_counts', 'control_codeword_counts', 'unassigned_codeword_counts', 'deprecated_codeword_counts', 'total_counts', 'cell_area', 'nucleus_area', 'nucleus_count', 'segmentation_method', 'region', 'z_level', 'cell_labels', 'batch', 'n_genes_by_counts', 'log1p_n_genes_by_counts', 'log1p_total_counts', 'outlier', 'cluster', '_scvi_batch', '_scvi_labels', 'predicted_labels', 'conf_score', 'low_label_x', 'low_score_x', 'ref_label_x', 'ref_score_x', 'low_label_y', 'low_score_y', 'ref_label_y', 'ref_score_y', 'low_major', 'ref_major'\n",
       "    var: 'n_cells_by_counts', 'total_counts', 'mean_counts', 'pct_dropout_by_counts', 'log1p_total_counts', 'log1p_mean_counts', 'highly_variable', 'highly_variable_rank', 'means', 'variances', 'variances_norm'\n",
       "    uns: '_scvi_manager_uuid', '_scvi_uuid', 'hvg', 'leiden', 'log1p', 'neighbors', 'pca', 'umap'\n",
       "    obsm: 'X_pca', 'X_pca_Harmony', 'X_pca_before', 'X_scVI', '_scvi_extra_categorical_covs', 'spatial', 'X_umap'\n",
       "    varm: 'PCs'\n",
       "    layers: 'counts', 'log', 'scvi_normalized'\n",
       "    obsp: 'connectivities', 'distances'"
      ]
     },
     "execution_count": 22,
     "metadata": {},
     "output_type": "execute_result"
    }
   ],
   "source": [
    "andata"
   ]
  },
  {
   "cell_type": "code",
   "execution_count": 30,
   "id": "c3ea37b6",
   "metadata": {},
   "outputs": [
    {
     "data": {
      "text/plain": [
       "array([0.4074534 , 0.1439271 , 0.14311641, ..., 0.09117025, 0.07804468,\n",
       "       0.18407641])"
      ]
     },
     "execution_count": 30,
     "metadata": {},
     "output_type": "execute_result"
    }
   ],
   "source": [
    "pd.unique(andata.obs['conf_score'])"
   ]
  },
  {
   "cell_type": "code",
   "execution_count": 23,
   "id": "f41f84e2",
   "metadata": {},
   "outputs": [],
   "source": [
    "def plot_umap(andata,X_umap_label,column,ax,s = 0.005,paletteSel = None, specColor = None, colorbar = True):\n",
    "    umap_coords = andata.obsm[X_umap_label]  # assuming UMAP coordinates are stored under 'X_umap'\n",
    "    seurat_clusters = andata.obs[column].astype('category')  # cluster labels under obs\n",
    "    \n",
    "    # Convert the categorical clusters to numeric codes for plotting\n",
    "    cluster_codes = seurat_clusters.cat.codes\n",
    "    \n",
    "    # Generate a Seaborn categorical color palette with distinct colors\n",
    "    num_clusters = len(seurat_clusters.cat.categories)\n",
    "    if paletteSel:\n",
    "        palette = plt.cm.get_cmap('Set2', num_clusters)\n",
    "    else:\n",
    "        palette = plt.cm.get_cmap('tab20', num_clusters)  # Ensure it's a discrete palette\n",
    "\n",
    "    # Create a scatter plot with categorical coloring\n",
    "    if specColor:\n",
    "        scatter = ax.scatter(umap_coords[:, 0], umap_coords[:, 1], color=specColor, s=s)\n",
    "    else:\n",
    "        scatter = ax.scatter(umap_coords[:, 0], umap_coords[:, 1], c=cluster_codes, cmap=palette, s=s)\n",
    "\n",
    "    #scatter = ax.scatter(umap_coords[:, 0], umap_coords[:, 1], c=cluster_codes, cmap=palette, s=s)\n",
    "    ax.set_xlabel('UMAP 1')\n",
    "    ax.set_ylabel('UMAP 2')\n",
    "    ax.set_xticks([])\n",
    "    ax.set_yticks([])\n",
    "    ax.set_xticklabels([])\n",
    "    ax.set_yticklabels([])\n",
    "    \n",
    "    # Add a colorbar with category labels\n",
    "    if colorbar:\n",
    "        cbar = plt.colorbar(scatter, ticks=range(num_clusters))\n",
    "        cbar.set_ticklabels(seurat_clusters.cat.categories)"
   ]
  },
  {
   "cell_type": "code",
   "execution_count": 48,
   "id": "d9d473a3",
   "metadata": {},
   "outputs": [
    {
     "ename": "KeyError",
     "evalue": "'X_umap'",
     "output_type": "error",
     "traceback": [
      "\u001b[0;31m---------------------------------------------------------------------------\u001b[0m",
      "\u001b[0;31mKeyError\u001b[0m                                  Traceback (most recent call last)",
      "Cell \u001b[0;32mIn[48], line 9\u001b[0m\n\u001b[1;32m      7\u001b[0m plt\u001b[38;5;241m.\u001b[39mrcParams[\u001b[38;5;124m'\u001b[39m\u001b[38;5;124mxtick.labelsize\u001b[39m\u001b[38;5;124m'\u001b[39m] \u001b[38;5;241m=\u001b[39m \u001b[38;5;241m12\u001b[39m\n\u001b[1;32m      8\u001b[0m plt\u001b[38;5;241m.\u001b[39mrcParams[\u001b[38;5;124m'\u001b[39m\u001b[38;5;124mytick.labelsize\u001b[39m\u001b[38;5;124m'\u001b[39m] \u001b[38;5;241m=\u001b[39m \u001b[38;5;241m12\u001b[39m\n\u001b[0;32m----> 9\u001b[0m \u001b[43mplot_umap\u001b[49m\u001b[43m(\u001b[49m\u001b[43mandata\u001b[49m\u001b[43m,\u001b[49m\u001b[43mX_umap_label\u001b[49m\u001b[43m \u001b[49m\u001b[38;5;241;43m=\u001b[39;49m\u001b[43m \u001b[49m\u001b[38;5;124;43m\"\u001b[39;49m\u001b[38;5;124;43mX_umap\u001b[39;49m\u001b[38;5;124;43m\"\u001b[39;49m\u001b[43m,\u001b[49m\u001b[43m \u001b[49m\u001b[43mcolumn\u001b[49m\u001b[43m \u001b[49m\u001b[38;5;241;43m=\u001b[39;49m\u001b[43m \u001b[49m\u001b[38;5;124;43m\"\u001b[39;49m\u001b[38;5;124;43mcluster\u001b[39;49m\u001b[38;5;124;43m\"\u001b[39;49m\u001b[43m,\u001b[49m\u001b[43max\u001b[49m\u001b[43m \u001b[49m\u001b[38;5;241;43m=\u001b[39;49m\u001b[43m \u001b[49m\u001b[43max\u001b[49m\u001b[43m[\u001b[49m\u001b[38;5;241;43m0\u001b[39;49m\u001b[43m]\u001b[49m\u001b[43m,\u001b[49m\u001b[43ms\u001b[49m\u001b[43m \u001b[49m\u001b[38;5;241;43m=\u001b[39;49m\u001b[43m \u001b[49m\u001b[38;5;241;43m0.01\u001b[39;49m\u001b[43m)\u001b[49m\n\u001b[1;32m     10\u001b[0m plot_umap(andata,X_umap_label \u001b[38;5;241m=\u001b[39m \u001b[38;5;124m\"\u001b[39m\u001b[38;5;124mX_umap\u001b[39m\u001b[38;5;124m\"\u001b[39m, column \u001b[38;5;241m=\u001b[39m \u001b[38;5;124m\"\u001b[39m\u001b[38;5;124mbatch\u001b[39m\u001b[38;5;124m\"\u001b[39m,paletteSel \u001b[38;5;241m=\u001b[39m \u001b[38;5;124m'\u001b[39m\u001b[38;5;124mSet2\u001b[39m\u001b[38;5;124m'\u001b[39m,ax \u001b[38;5;241m=\u001b[39m ax[\u001b[38;5;241m1\u001b[39m],s \u001b[38;5;241m=\u001b[39m \u001b[38;5;241m0.01\u001b[39m,colorbar \u001b[38;5;241m=\u001b[39m \u001b[38;5;28;01mFalse\u001b[39;00m)\n\u001b[1;32m     11\u001b[0m plt\u001b[38;5;241m.\u001b[39msubplots_adjust(left\u001b[38;5;241m=\u001b[39m\u001b[38;5;241m0.1\u001b[39m, right\u001b[38;5;241m=\u001b[39m\u001b[38;5;241m0.9\u001b[39m, top\u001b[38;5;241m=\u001b[39m\u001b[38;5;241m0.9\u001b[39m, bottom\u001b[38;5;241m=\u001b[39m\u001b[38;5;241m0.2\u001b[39m)\n",
      "Cell \u001b[0;32mIn[23], line 2\u001b[0m, in \u001b[0;36mplot_umap\u001b[0;34m(andata, X_umap_label, column, ax, s, paletteSel, specColor, colorbar)\u001b[0m\n\u001b[1;32m      1\u001b[0m \u001b[38;5;28;01mdef\u001b[39;00m \u001b[38;5;21mplot_umap\u001b[39m(andata,X_umap_label,column,ax,s \u001b[38;5;241m=\u001b[39m \u001b[38;5;241m0.005\u001b[39m,paletteSel \u001b[38;5;241m=\u001b[39m \u001b[38;5;28;01mNone\u001b[39;00m, specColor \u001b[38;5;241m=\u001b[39m \u001b[38;5;28;01mNone\u001b[39;00m, colorbar \u001b[38;5;241m=\u001b[39m \u001b[38;5;28;01mTrue\u001b[39;00m):\n\u001b[0;32m----> 2\u001b[0m     umap_coords \u001b[38;5;241m=\u001b[39m \u001b[43mandata\u001b[49m\u001b[38;5;241;43m.\u001b[39;49m\u001b[43mobsm\u001b[49m\u001b[43m[\u001b[49m\u001b[43mX_umap_label\u001b[49m\u001b[43m]\u001b[49m  \u001b[38;5;66;03m# assuming UMAP coordinates are stored under 'X_umap'\u001b[39;00m\n\u001b[1;32m      3\u001b[0m     seurat_clusters \u001b[38;5;241m=\u001b[39m andata\u001b[38;5;241m.\u001b[39mobs[column]\u001b[38;5;241m.\u001b[39mastype(\u001b[38;5;124m'\u001b[39m\u001b[38;5;124mcategory\u001b[39m\u001b[38;5;124m'\u001b[39m)  \u001b[38;5;66;03m# cluster labels under obs\u001b[39;00m\n\u001b[1;32m      5\u001b[0m     \u001b[38;5;66;03m# Convert the categorical clusters to numeric codes for plotting\u001b[39;00m\n",
      "File \u001b[0;32m/gpfs/gsfs10/users/kanferg/conda/envs/scvi_env/lib/python3.12/site-packages/anndata/_core/aligned_mapping.py:196\u001b[0m, in \u001b[0;36mAlignedActualMixin.__getitem__\u001b[0;34m(self, key)\u001b[0m\n\u001b[1;32m    195\u001b[0m \u001b[38;5;28;01mdef\u001b[39;00m \u001b[38;5;21m__getitem__\u001b[39m(\u001b[38;5;28mself\u001b[39m, key: \u001b[38;5;28mstr\u001b[39m) \u001b[38;5;241m-\u001b[39m\u001b[38;5;241m>\u001b[39m V:\n\u001b[0;32m--> 196\u001b[0m     \u001b[38;5;28;01mreturn\u001b[39;00m \u001b[38;5;28;43mself\u001b[39;49m\u001b[38;5;241;43m.\u001b[39;49m\u001b[43m_data\u001b[49m\u001b[43m[\u001b[49m\u001b[43mkey\u001b[49m\u001b[43m]\u001b[49m\n",
      "\u001b[0;31mKeyError\u001b[0m: 'X_umap'"
     ]
    },
    {
     "data": {
      "image/png": "[encoded data removed]",
      "text/plain": [
       "<Figure size 920x460 with 2 Axes>"
      ]
     },
     "metadata": {},
     "output_type": "display_data"
    }
   ],
   "source": [
    "fig, ax = plt.subplots(1, 2, figsize=(10,5))\n",
    "plt.rcParams['figure.dpi'] = 92\n",
    "plt.rcParams['font.family'] = ['serif']\n",
    "plt.rcParams['font.size'] = 12\n",
    "plt.rcParams['axes.labelsize'] = 12\n",
    "plt.rcParams['axes.titlesize'] = 12\n",
    "plt.rcParams['xtick.labelsize'] = 12\n",
    "plt.rcParams['ytick.labelsize'] = 12\n",
    "plot_umap(andata,X_umap_label = \"X_umap\", column = \"cluster\",ax = ax[0],s = 0.01)\n",
    "plot_umap(andata,X_umap_label = \"X_umap\", column = \"batch\",paletteSel = 'Set2',ax = ax[1],s = 0.01,colorbar = False)\n",
    "plt.subplots_adjust(left=0.1, right=0.9, top=0.9, bottom=0.2)\n"
   ]
  },
  {
   "cell_type": "code",
   "execution_count": null,
   "id": "3d77d155",
   "metadata": {},
   "outputs": [],
   "source": []
  },
  {
   "cell_type": "code",
   "execution_count": null,
   "id": "a7510fd1",
   "metadata": {},
   "outputs": [],
   "source": []
  },
  {
   "cell_type": "code",
   "execution_count": null,
   "id": "b15e0f7f",
   "metadata": {},
   "outputs": [],
   "source": []
  },
  {
   "cell_type": "code",
   "execution_count": null,
   "id": "35996694",
   "metadata": {},
   "outputs": [],
   "source": []
  },
  {
   "cell_type": "code",
   "execution_count": 20,
   "id": "d14a22b0",
   "metadata": {},
   "outputs": [
    {
     "name": "stderr",
     "output_type": "stream",
     "text": [
      "... storing 'low_major' as categorical\n",
      "... storing 'ref_major' as categorical\n"
     ]
    }
   ],
   "source": [
    "pathout = '/data/kanferg/Sptial_Omics/projects/NguyenLab/spatialomicstoolkit/out_1'\n",
    "andata_save = andata.copy()\n",
    "andata_save.write_h5ad(os.path.join(pathout, \"andata_filter_logNorm_hvg_leiden_harmony_scvi_celltyping.h5ad\"))"
   ]
  },
  {
   "cell_type": "markdown",
   "id": "5f1ce1d2",
   "metadata": {},
   "source": [
    "### cell2location"
   ]
  },
  {
   "cell_type": "markdown",
   "id": "b4cf74eb",
   "metadata": {},
   "source": [
    "\n",
    "```bash\n",
    "module load cell2location/0.1.4 \n",
    "/usr/local/apps/cell2location/0.1.4/bin/jupyter notebook --ip localhost --port $PORT1 --no-browser \n",
    "```"
   ]
  },
  {
   "cell_type": "code",
   "execution_count": 2,
   "id": "bb6d41ec",
   "metadata": {},
   "outputs": [],
   "source": [
    "import scanpy as sc\n",
    "import pandas as pd\n",
    "import matplotlib.pyplot as plt\n",
    "from matplotlib.backends.backend_pdf import PdfPages\n",
    "from matplotlib.colors import ListedColormap\n",
    "from matplotlib.colors import LinearSegmentedColormap\n",
    "import seaborn as sns\n",
    "import os\n",
    "import gzip\n",
    "import numpy as np\n",
    "import cell2location\n",
    "from cell2location.utils.filtering import filter_genes\n",
    "from cell2location.models import RegressionModel"
   ]
  },
  {
   "cell_type": "code",
   "execution_count": 4,
   "id": "e1639ff9",
   "metadata": {},
   "outputs": [],
   "source": [
    "pathout  = '/data/kanferg/Sptial_Omics/projects/NguyenLab/spatialomicstoolkit/out_1'\n",
    "results_folder = '/data/kanferg/Sptial_Omics/projects/NguyenLab/spatialomicstoolkit/results_spec/cell2loc'"
   ]
  },
  {
   "cell_type": "code",
   "execution_count": 3,
   "id": "c2dc1040",
   "metadata": {},
   "outputs": [
    {
     "name": "stderr",
     "output_type": "stream",
     "text": [
      "/usr/local/apps/cell2location/conda/envs/0.1.4/lib/python3.9/site-packages/pandas/core/arraylike.py:399: RuntimeWarning: divide by zero encountered in log10\n",
      "  result = getattr(ufunc, method)(*inputs, **kwargs)\n"
     ]
    },
    {
     "data": {
      "image/png": "[encoded data removed]",
      "text/plain": [
       "<Figure size 640x480 with 1 Axes>"
      ]
     },
     "metadata": {},
     "output_type": "display_data"
    }
   ],
   "source": [
    "adata_ref = sc.read_h5ad(os.path.join(pathout, \"reff_scData_melanoma_skin_log_norm.h5ad\"))\n",
    "selected = filter_genes(adata_ref, cell_count_cutoff=5, cell_percentage_cutoff2=0.03, nonz_mean_cutoff=1.12)"
   ]
  },
  {
   "cell_type": "code",
   "execution_count": 4,
   "id": "e4fd6b46",
   "metadata": {},
   "outputs": [
    {
     "data": {
      "text/plain": [
       "AnnData object with n_obs × n_vars = 64874 × 12265\n",
       "    obs: 'sex', 'tissue', 'CellType'\n",
       "    var: 'n_cells', 'nonz_mean'\n",
       "    uns: 'log1p'\n",
       "    layers: 'counts'"
      ]
     },
     "execution_count": 4,
     "metadata": {},
     "output_type": "execute_result"
    }
   ],
   "source": [
    "adata_ref = adata_ref[:, selected].copy()\n",
    "adata_ref"
   ]
  },
  {
   "cell_type": "code",
   "execution_count": 5,
   "id": "6a31bfaf-ca97-4fcd-803d-10131339f7ee",
   "metadata": {},
   "outputs": [],
   "source": [
    "adata_ref.X = adata_ref.layers['counts']"
   ]
  },
  {
   "cell_type": "code",
   "execution_count": 6,
   "id": "77e231d9-a486-46c9-af63-6eac8fa3632f",
   "metadata": {},
   "outputs": [
    {
     "name": "stderr",
     "output_type": "stream",
     "text": [
      "An NVIDIA GPU may be present on this machine, but a CUDA-enabled jaxlib is not installed. Falling back to cpu.\n",
      "/usr/local/apps/cell2location/conda/envs/0.1.4/lib/python3.9/site-packages/scvi/data/fields/_dataframe_field.py:186: UserWarning: Category 22 in adata.obs['_scvi_labels'] has fewer than 3 cells. Models may not train properly.\n",
      "  categorical_mapping = _make_column_categorical(\n"
     ]
    }
   ],
   "source": [
    "cell2location.models.RegressionModel.setup_anndata(adata=adata_ref,\n",
    "                        # 10X reaction / sample / batch\n",
    "                        batch_key='tissue',\n",
    "                        # cell type, covariate used for constructing signatures\n",
    "                        labels_key='CellType',\n",
    "                        # multiplicative technical effects (platform, 3' vs 5', donor effect)\n",
    "                        categorical_covariate_keys=['sex'])"
   ]
  },
  {
   "cell_type": "code",
   "execution_count": 7,
   "id": "d8c0b329-af98-4c35-ac71-fb5ba23041a2",
   "metadata": {},
   "outputs": [],
   "source": [
    "mod = RegressionModel(adata_ref)"
   ]
  },
  {
   "cell_type": "code",
   "execution_count": 8,
   "id": "7592e7f6-2d9a-4a29-854e-74a1ec1f4ba4",
   "metadata": {},
   "outputs": [
    {
     "name": "stderr",
     "output_type": "stream",
     "text": [
      "Trainer will use only 1 of 3 GPUs because it is running inside an interactive / notebook environment. You may try to set `Trainer(devices=3)` but please note that multi-GPU inside interactive / notebook environments is considered experimental and unstable. Your mileage may vary.\n",
      "/usr/local/apps/cell2location/conda/envs/0.1.4/lib/python3.9/site-packages/lightning/fabric/plugins/environments/slurm.py:204: The `srun` command is available on your system but is not used. HINT: If your intention is to run Lightning on SLURM, prepend your python command with `srun` like so: srun python /usr/local/apps/cell2location/conda/envs/0.1.4/lib/p ...\n",
      "GPU available: True (cuda), used: True\n",
      "TPU available: False, using: 0 TPU cores\n",
      "HPU available: False, using: 0 HPUs\n",
      "/usr/local/apps/cell2location/conda/envs/0.1.4/lib/python3.9/site-packages/lightning/fabric/plugins/environments/slurm.py:204: The `srun` command is available on your system but is not used. HINT: If your intention is to run Lightning on SLURM, prepend your python command with `srun` like so: srun python /usr/local/apps/cell2location/conda/envs/0.1.4/lib/p ...\n",
      "/usr/local/apps/cell2location/conda/envs/0.1.4/lib/python3.9/site-packages/lightning/pytorch/trainer/configuration_validator.py:68: You passed in a `val_dataloader` but have no `validation_step`. Skipping val loop.\n",
      "LOCAL_RANK: 0 - CUDA_VISIBLE_DEVICES: [0,1,2]\n",
      "/usr/local/apps/cell2location/conda/envs/0.1.4/lib/python3.9/site-packages/lightning/pytorch/trainer/connectors/data_connector.py:424: The 'train_dataloader' does not have many workers which may be a bottleneck. Consider increasing the value of the `num_workers` argument` to `num_workers=19` in the `DataLoader` to improve performance.\n"
     ]
    },
    {
     "name": "stdout",
     "output_type": "stream",
     "text": [
      "Epoch 250/250: 100%|█████████████████████████████████| 250/250 [18:27<00:00,  4.59s/it, v_num=1, elbo_train=3.7e+8]"
     ]
    },
    {
     "name": "stderr",
     "output_type": "stream",
     "text": [
      "`Trainer.fit` stopped: `max_epochs=250` reached.\n"
     ]
    },
    {
     "name": "stdout",
     "output_type": "stream",
     "text": [
      "Epoch 250/250: 100%|█████████████████████████████████| 250/250 [18:27<00:00,  4.43s/it, v_num=1, elbo_train=3.7e+8]\n"
     ]
    }
   ],
   "source": [
    "mod.train(max_epochs=250)"
   ]
  },
  {
   "cell_type": "code",
   "execution_count": 9,
   "id": "b08f3703-0f6b-47fb-adbf-bc3bb3655f5b",
   "metadata": {},
   "outputs": [
    {
     "name": "stderr",
     "output_type": "stream",
     "text": [
      "/tmp/ipykernel_2405538/94219018.py:2: MatplotlibDeprecationWarning: Keeping empty pdf files is deprecated since 3.8 and support will be removed in 3.10.\n",
      "  mod.plot_history(20)\n"
     ]
    },
    {
     "data": {
      "image/png": "[encoded data removed]",
      "text/plain": [
       "<Figure size 640x480 with 1 Axes>"
      ]
     },
     "metadata": {},
     "output_type": "display_data"
    }
   ],
   "source": [
    "with PdfPages(os.path.join(results_folder, f'ELBO_loss_history.pdf')) as pdf:\n",
    "    mod.plot_history(20)"
   ]
  },
  {
   "cell_type": "code",
   "execution_count": 10,
   "id": "0e2f9093-5dd5-40b1-b6aa-654901b14252",
   "metadata": {},
   "outputs": [
    {
     "name": "stderr",
     "output_type": "stream",
     "text": [
      "Trainer will use only 1 of 3 GPUs because it is running inside an interactive / notebook environment. You may try to set `Trainer(devices=3)` but please note that multi-GPU inside interactive / notebook environments is considered experimental and unstable. Your mileage may vary.\n",
      "/usr/local/apps/cell2location/conda/envs/0.1.4/lib/python3.9/site-packages/lightning/fabric/plugins/environments/slurm.py:204: The `srun` command is available on your system but is not used. HINT: If your intention is to run Lightning on SLURM, prepend your python command with `srun` like so: srun python /usr/local/apps/cell2location/conda/envs/0.1.4/lib/p ...\n"
     ]
    },
    {
     "name": "stdout",
     "output_type": "stream",
     "text": [
      "Sampling local variables, batch:   0%|                                                      | 0/26 [00:00<?, ?it/s]\n",
      "Sampling global variables, sample: 100%|█████████████████████████████████████████| 999/999 [00:12<00:00, 77.92it/s]\n"
     ]
    }
   ],
   "source": [
    "adata_ref = mod.export_posterior(\n",
    "    adata_ref, sample_kwargs={'num_samples': 1000,'batch_size': 2500})\n",
    "\n"
   ]
  },
  {
   "cell_type": "code",
   "execution_count": 11,
   "id": "b39f8ecd-e993-4474-9d03-82941a69ce70",
   "metadata": {},
   "outputs": [
    {
     "data": {
      "image/png": "[encoded data removed]",
      "text/plain": [
       "<Figure size 640x480 with 1 Axes>"
      ]
     },
     "metadata": {},
     "output_type": "display_data"
    },
    {
     "data": {
      "image/png": "[encoded data removed]",
      "text/plain": [
       "<Figure size 640x480 with 1 Axes>"
      ]
     },
     "metadata": {},
     "output_type": "display_data"
    },
    {
     "name": "stderr",
     "output_type": "stream",
     "text": [
      "/tmp/ipykernel_2405538/1131898005.py:2: MatplotlibDeprecationWarning: Keeping empty pdf files is deprecated since 3.8 and support will be removed in 3.10.\n",
      "  mod.plot_QC()\n"
     ]
    }
   ],
   "source": [
    "with PdfPages(os.path.join(results_folder, f'adata_ref_QC_plots.pdf')) as pdf:\n",
    "    mod.plot_QC()"
   ]
  },
  {
   "cell_type": "code",
   "execution_count": 12,
   "id": "c8745d42-71bd-430e-a8f0-610077e9b398",
   "metadata": {},
   "outputs": [],
   "source": [
    "# mod.save(f\"{ref_run_name}\", overwrite=True)\n",
    "inf_aver = adata_ref.varm['means_per_cluster_mu_fg'][[f'means_per_cluster_mu_fg_{i}'\n",
    "                                    for i in adata_ref.uns['mod']['factor_names']]].copy()\n",
    "inf_aver.columns = adata_ref.uns['mod']['factor_names']\n"
   ]
  },
  {
   "cell_type": "code",
   "execution_count": 62,
   "id": "b6da4e7a-0369-469b-b861-df0162f6105f",
   "metadata": {},
   "outputs": [],
   "source": [
    "# load target data:\n",
    "andtata_in = sc.read_h5ad(os.path.join(pathout, \"andata_filter_logNorm_hvg_leiden_harmony_scvi_con_mouse_cov.h5ad\"))\n",
    "andtata_in.X = andtata_in.layers['counts']\n",
    "#sc.pp.normalize_total(andtata_in)\n",
    "#sc.pp.log1p(andtata_in)"
   ]
  },
  {
   "cell_type": "code",
   "execution_count": 66,
   "id": "f4f015dc-a0b8-4002-ab94-5ddf575b4504",
   "metadata": {},
   "outputs": [
    {
     "data": {
      "text/plain": [
       "AnnData object with n_obs × n_vars = 664093 × 2000\n",
       "    obs: 'cell_id', 'transcript_counts', 'control_probe_counts', 'genomic_control_counts', 'control_codeword_counts', 'unassigned_codeword_counts', 'deprecated_codeword_counts', 'total_counts', 'cell_area', 'nucleus_area', 'nucleus_count', 'segmentation_method', 'region', 'z_level', 'cell_labels', 'batch', 'n_genes_by_counts', 'log1p_n_genes_by_counts', 'log1p_total_counts', 'outlier', 'cluster', '_scvi_batch', '_scvi_labels'\n",
       "    var: 'n_cells_by_counts', 'total_counts', 'mean_counts', 'pct_dropout_by_counts', 'log1p_total_counts', 'log1p_mean_counts', 'highly_variable', 'highly_variable_rank', 'means', 'variances', 'variances_norm'\n",
       "    uns: '_scvi_manager_uuid', '_scvi_uuid', 'hvg', 'leiden', 'log1p', 'neighbors', 'pca'\n",
       "    obsm: 'X_pca', 'X_pca_Harmony', 'X_pca_before', 'X_scVI', '_scvi_extra_categorical_covs', 'spatial'\n",
       "    varm: 'PCs'\n",
       "    layers: 'counts', 'log', 'scvi_normalized'\n",
       "    obsp: 'connectivities', 'distances'"
      ]
     },
     "execution_count": 66,
     "metadata": {},
     "output_type": "execute_result"
    }
   ],
   "source": [
    "andtata_in = sc.read_h5ad(os.path.join(pathout, \"andata_filter_logNorm_hvg_leiden_harmony_scvi_con_mouse_cov.h5ad\"))\n",
    "andtata_in"
   ]
  },
  {
   "cell_type": "code",
   "execution_count": 14,
   "id": "31536ad4-865a-4a0d-b166-f63b7d1d29cd",
   "metadata": {},
   "outputs": [
    {
     "name": "stderr",
     "output_type": "stream",
     "text": [
      "100%|█████████████████████████████████████████████████████████████████████████████| 62/62 [00:00<00:00, 251.56it/s]\n",
      "100%|█████████████████████████████████████████████████████████████████████████████| 62/62 [00:00<00:00, 245.79it/s]\n",
      "100%|█████████████████████████████████████████████████████████████████████████████| 62/62 [00:00<00:00, 256.54it/s]\n",
      "100%|█████████████████████████████████████████████████████████████████████████████| 62/62 [00:00<00:00, 256.69it/s]\n",
      "100%|█████████████████████████████████████████████████████████████████████████████| 62/62 [00:00<00:00, 250.65it/s]\n",
      "100%|█████████████████████████████████████████████████████████████████████████████| 62/62 [00:00<00:00, 253.64it/s]\n",
      "100%|█████████████████████████████████████████████████████████████████████████████| 62/62 [00:00<00:00, 253.90it/s]\n",
      "100%|█████████████████████████████████████████████████████████████████████████████| 62/62 [00:00<00:00, 254.07it/s]\n"
     ]
    }
   ],
   "source": [
    "Experimental_design_file = '/data/kanferg/Sptial_Omics/projects/NguyenLab/spatialomicstoolkit/Experimental_design/Experimental_Design.csv'\n",
    "ed = pd.read_csv(Experimental_design_file)\n",
    "\n",
    "\n",
    "column_sel = ed.columns[2:4].tolist()+ed.columns[5:11].tolist()\n",
    "covariateTOnum = {}\n",
    "numTOcovariate = {}\n",
    "for column in column_sel:\n",
    "    un_name_temp = pd.unique(ed[column].values)\n",
    "    covariateTOnum[column] = {c:i for i,c in enumerate(un_name_temp)}\n",
    "    numTOcovariate[column] = {i:c for i,c in enumerate(un_name_temp)}\n",
    "for column in column_sel:\n",
    "    dict_temp = covariateTOnum[column]\n",
    "    list_temp = [dict_temp[i] for i in ed[column].values]\n",
    "    ed[column] = list_temp\n",
    "\n",
    "from tqdm import tqdm\n",
    "# adding covrites per batch to andata\n",
    "for column in column_sel:\n",
    "    andtata_in.obs[column] = None\n",
    "    for batch in tqdm(ed['Polygon']):\n",
    "        covraite_temp = ed.loc[ed[\"Polygon\"]==batch,column].values.tolist()*len(andtata_in.obs.loc[andtata_in.obs[\"batch\"]==str(batch),column])\n",
    "        andtata_in.obs.loc[andtata_in.obs[\"batch\"]==str(batch),column] = covraite_temp"
   ]
  },
  {
   "cell_type": "code",
   "execution_count": 15,
   "id": "916ca567-7f51-444c-abf7-7fa171032038",
   "metadata": {},
   "outputs": [],
   "source": [
    "intersect = np.intersect1d(andtata_in.var_names, inf_aver.index)\n",
    "adata_vis = andtata_in[:, intersect].copy()\n",
    "inf_aver = inf_aver.loc[intersect, :].copy()\n",
    "\n",
    "#cell2location.models.Cell2location.setup_anndata(adata=adata_vis, batch_key='batch',categorical_covariate_keys = ['Sample_ID','Condition ','Technical_repeat','Mouse_ID', 'Harvest_Day', 'Size', 'Immune_Cell' ])\n",
    "cell2location.models.Cell2location.setup_anndata(adata=adata_vis, batch_key='batch',categorical_covariate_keys = ['Condition ','Mouse_ID'])\n",
    "\n",
    "mod = cell2location.models.Cell2location(\n",
    "    adata_vis, cell_state_df=inf_aver,\n",
    "    # the expected average cell abundance: tissue-dependent\n",
    "    # hyper-prior which can be estimated from paired histology:\n",
    "    N_cells_per_location=25,\n",
    "    # hyperparameter controlling normalisation of\n",
    "    # within-experiment variation in RNA detection:\n",
    "    detection_alpha=200\n",
    ")"
   ]
  },
  {
   "cell_type": "code",
   "execution_count": 16,
   "id": "00d2c73a-9b08-44d1-b708-f8b2c8618506",
   "metadata": {},
   "outputs": [],
   "source": [
    "#mod.train(max_epochs=100,batch_size=3000,train_size=1)\n",
    "\n",
    "#with PdfPages(os.path.join(results_folder, f'cell2loc_model.pdf')) as pdf:\n",
    "    #mod.plot_history(1000)\n",
    "    #plt.legend(labels=['full data training'])\n",
    "    "
   ]
  },
  {
   "cell_type": "code",
   "execution_count": 17,
   "id": "6943111c-e0b6-4a32-a73d-1dfef7b5cdea",
   "metadata": {},
   "outputs": [
    {
     "name": "stderr",
     "output_type": "stream",
     "text": [
      "Trainer will use only 1 of 3 GPUs because it is running inside an interactive / notebook environment. You may try to set `Trainer(devices=3)` but please note that multi-GPU inside interactive / notebook environments is considered experimental and unstable. Your mileage may vary.\n",
      "/usr/local/apps/cell2location/conda/envs/0.1.4/lib/python3.9/site-packages/lightning/fabric/plugins/environments/slurm.py:204: The `srun` command is available on your system but is not used. HINT: If your intention is to run Lightning on SLURM, prepend your python command with `srun` like so: srun python /usr/local/apps/cell2location/conda/envs/0.1.4/lib/p ...\n",
      "GPU available: True (cuda), used: True\n",
      "TPU available: False, using: 0 TPU cores\n",
      "HPU available: False, using: 0 HPUs\n",
      "/usr/local/apps/cell2location/conda/envs/0.1.4/lib/python3.9/site-packages/lightning/fabric/plugins/environments/slurm.py:204: The `srun` command is available on your system but is not used. HINT: If your intention is to run Lightning on SLURM, prepend your python command with `srun` like so: srun python /usr/local/apps/cell2location/conda/envs/0.1.4/lib/p ...\n",
      "/usr/local/apps/cell2location/conda/envs/0.1.4/lib/python3.9/site-packages/lightning/pytorch/trainer/configuration_validator.py:68: You passed in a `val_dataloader` but have no `validation_step`. Skipping val loop.\n",
      "LOCAL_RANK: 0 - CUDA_VISIBLE_DEVICES: [0,1,2]\n",
      "/usr/local/apps/cell2location/conda/envs/0.1.4/lib/python3.9/site-packages/lightning/pytorch/trainer/connectors/data_connector.py:424: The 'train_dataloader' does not have many workers which may be a bottleneck. Consider increasing the value of the `num_workers` argument` to `num_workers=19` in the `DataLoader` to improve performance.\n"
     ]
    },
    {
     "name": "stdout",
     "output_type": "stream",
     "text": [
      "Epoch 1000/1000: 100%|██████████████████████████| 1000/1000 [4:24:02<00:00, 15.42s/it, v_num=1, elbo_train=9.24e+8]"
     ]
    },
    {
     "name": "stderr",
     "output_type": "stream",
     "text": [
      "`Trainer.fit` stopped: `max_epochs=1000` reached.\n"
     ]
    },
    {
     "name": "stdout",
     "output_type": "stream",
     "text": [
      "Epoch 1000/1000: 100%|██████████████████████████| 1000/1000 [4:24:02<00:00, 15.84s/it, v_num=1, elbo_train=9.24e+8]\n"
     ]
    },
    {
     "name": "stderr",
     "output_type": "stream",
     "text": [
      "/tmp/ipykernel_2405538/4159452259.py:5: MatplotlibDeprecationWarning: Keeping empty pdf files is deprecated since 3.8 and support will be removed in 3.10.\n",
      "  plt.legend(labels=['full data training'])\n"
     ]
    },
    {
     "data": {
      "image/png": "[encoded data removed]",
      "text/plain": [
       "<Figure size 640x480 with 1 Axes>"
      ]
     },
     "metadata": {},
     "output_type": "display_data"
    }
   ],
   "source": [
    "mod.train(max_epochs=1000,batch_size=3000,train_size=1)\n",
    "\n",
    "with PdfPages(os.path.join(results_folder, f'cell2loc_model.pdf')) as pdf:\n",
    "    mod.plot_history(1000)\n",
    "    plt.legend(labels=['full data training'])\n",
    "    \n"
   ]
  },
  {
   "cell_type": "code",
   "execution_count": 20,
   "id": "74266725-69f5-492e-b6b0-df132021be6c",
   "metadata": {},
   "outputs": [
    {
     "data": {
      "image/png": "[encoded data removed]",
      "text/plain": [
       "<Figure size 640x480 with 1 Axes>"
      ]
     },
     "metadata": {},
     "output_type": "display_data"
    }
   ],
   "source": [
    "mod.plot_history()"
   ]
  },
  {
   "cell_type": "code",
   "execution_count": null,
   "id": "4a035897-4b63-428f-87f5-e1a6cf6b7abd",
   "metadata": {},
   "outputs": [],
   "source": [
    "adata_vis"
   ]
  },
  {
   "cell_type": "code",
   "execution_count": 31,
   "id": "32ce4ace-0a85-4246-a073-818d4b237273",
   "metadata": {},
   "outputs": [
    {
     "data": {
      "text/plain": [
       "'/data/kanferg/Sptial_Omics/projects/NguyenLab/spatialomicstoolkit/results_spec/cell2loc'"
      ]
     },
     "execution_count": 31,
     "metadata": {},
     "output_type": "execute_result"
    }
   ],
   "source": [
    "results_folder"
   ]
  },
  {
   "cell_type": "code",
   "execution_count": 22,
   "id": "5dc9312d-7502-4029-8960-a10000503be1",
   "metadata": {},
   "outputs": [
    {
     "name": "stderr",
     "output_type": "stream",
     "text": [
      "Trainer will use only 1 of 3 GPUs because it is running inside an interactive / notebook environment. You may try to set `Trainer(devices=3)` but please note that multi-GPU inside interactive / notebook environments is considered experimental and unstable. Your mileage may vary.\n",
      "/usr/local/apps/cell2location/conda/envs/0.1.4/lib/python3.9/site-packages/lightning/fabric/plugins/environments/slurm.py:204: The `srun` command is available on your system but is not used. HINT: If your intention is to run Lightning on SLURM, prepend your python command with `srun` like so: srun python /usr/local/apps/cell2location/conda/envs/0.1.4/lib/p ...\n",
      "Trainer will use only 1 of 3 GPUs because it is running inside an interactive / notebook environment. You may try to set `Trainer(devices=3)` but please note that multi-GPU inside interactive / notebook environments is considered experimental and unstable. Your mileage may vary.\n"
     ]
    }
   ],
   "source": [
    "adata_vis = mod.export_posterior(\n",
    "    adata_vis,\n",
    "    use_quantiles = True,\n",
    ")\n"
   ]
  },
  {
   "cell_type": "code",
   "execution_count": 39,
   "id": "1879ac52-607a-4136-85e1-7ff132d76e0d",
   "metadata": {},
   "outputs": [],
   "source": [
    "mod.save(f\"{results_folder}\", overwrite=True)"
   ]
  },
  {
   "cell_type": "code",
   "execution_count": 32,
   "id": "fbcf5a51-40e0-4d39-9b62-917ac821e3fc",
   "metadata": {},
   "outputs": [],
   "source": [
    "adata_save = adata_vis.copy()"
   ]
  },
  {
   "cell_type": "code",
   "execution_count": 34,
   "id": "7ef1e32f-446e-4d91-818f-08b87ba764aa",
   "metadata": {},
   "outputs": [],
   "source": [
    "del andata_save.obs['Sample_ID']\n",
    "del adata_save.obs['Condition ']\n",
    "del adata_save.obs['Technical_repeat']\n",
    "del adata_save.obs['Mouse_ID']\n",
    "del adata_save.obs['Harvest_Day']\n",
    "del adata_save.obs['Harvest_Date']\n",
    "del adata_save.obs['Size']\n",
    "del adata_save.obs['Immune_Cell']"
   ]
  },
  {
   "cell_type": "code",
   "execution_count": 38,
   "id": "050b6fb9-28bf-4d83-a291-12706b6925b6",
   "metadata": {},
   "outputs": [],
   "source": [
    "adata_save.write(os.path.join(results_folder, \"adata_vis.h5ad\"))"
   ]
  },
  {
   "cell_type": "markdown",
   "id": "abcee226-a86f-4dfd-8fe9-7d38d0e6edf6",
   "metadata": {},
   "source": [
    "<center><h3>Spatial mapping of cell types across Batches </h3>"
   ]
  },
  {
   "cell_type": "markdown",
   "id": "660454f4-fe31-47f7-a410-d0003bee4326",
   "metadata": {},
   "source": [
    "https://cell2location.readthedocs.io/en/latest/notebooks/cell2location_short_demo_downstream.html?highlight=heatmap"
   ]
  },
  {
   "cell_type": "code",
   "execution_count": 5,
   "id": "93f07034-78f3-4ecb-b992-b1f0d5e78ee6",
   "metadata": {},
   "outputs": [],
   "source": [
    "adata_vis = sc.read_h5ad(os.path.join(results_folder, \"adata_vis.h5ad\"))"
   ]
  },
  {
   "cell_type": "code",
   "execution_count": 12,
   "id": "63b844b9-9ea2-402c-86fe-375892c0ac7c",
   "metadata": {},
   "outputs": [],
   "source": [
    "adata_vis.uns['spatial'] = adata_vis.obsm['spatial']"
   ]
  },
  {
   "cell_type": "code",
   "execution_count": 15,
   "id": "7ba1b5f5-a77f-46f1-ba90-851e43c23071",
   "metadata": {},
   "outputs": [
    {
     "data": {
      "text/plain": [
       "array([8879.53808594, 6808.59716797])"
      ]
     },
     "execution_count": 15,
     "metadata": {},
     "output_type": "execute_result"
    }
   ],
   "source": [
    "# create a spatial keys for coll2location\n",
    "adata_vis.uns['spatial'][0]"
   ]
  },
  {
   "cell_type": "code",
   "execution_count": 47,
   "id": "45f43109-5286-4f97-9387-3e3660a8d874",
   "metadata": {},
   "outputs": [],
   "source": [
    "from cell2location.plt.mapping_video import plot_spatial"
   ]
  },
  {
   "cell_type": "code",
   "execution_count": 19,
   "id": "95c7e87c-4834-4c33-9c80-63b879da468f",
   "metadata": {},
   "outputs": [],
   "source": [
    "def select_slide(adata, s, s_col='sample'):\n",
    "    r\"\"\" Select data for one slide from the spatial anndata object.\n",
    "\n",
    "    :param adata: Anndata object with multiple spatial samples\n",
    "    :param s: name of selected sample\n",
    "    :param s_col: column in adata.obs listing sample name for each location\n",
    "    \"\"\"\n",
    "    slide = adata[s in adata.obs[s_col],:].copy()\n",
    "    return slide"
   ]
  },
  {
   "cell_type": "code",
   "execution_count": 20,
   "id": "679a6bf8-8725-4c67-a755-ae9998789eed",
   "metadata": {},
   "outputs": [
    {
     "data": {
      "text/plain": [
       "['41', '16', '46', '59', '34', ..., '31', '0', '43', '44', '42']\n",
       "Length: 62\n",
       "Categories (62, object): ['41', '16', '46', '59', ..., '0', '43', '44', '42']"
      ]
     },
     "execution_count": 20,
     "metadata": {},
     "output_type": "execute_result"
    }
   ],
   "source": [
    "pd.unique(adata_vis.obs['batch'])"
   ]
  },
  {
   "cell_type": "code",
   "execution_count": 22,
   "id": "fb629c88-e67a-469b-b1bc-66bf86d28c9b",
   "metadata": {},
   "outputs": [],
   "source": [
    "sel_clust = adata_vis.uns['mod']['factor_names']\n",
    "sel_clust_col = ['q05_spot_factors' + str(i) for i in sel_clust]\n",
    "#slide = select_slide(adata_vis, s = '58',s_col = 'batch')\n",
    "slide = select_slide(adata_vis, s = '58',s_col = 'batch')"
   ]
  },
  {
   "cell_type": "code",
   "execution_count": 26,
   "id": "2bb11240-97d7-4b3e-80c8-fbe610714cd4",
   "metadata": {},
   "outputs": [
    {
     "data": {
      "text/plain": [
       "Index(['cell_id', 'transcript_counts', 'control_probe_counts',\n",
       "       'genomic_control_counts', 'control_codeword_counts',\n",
       "       'unassigned_codeword_counts', 'deprecated_codeword_counts',\n",
       "       'total_counts', 'cell_area', 'nucleus_area', 'nucleus_count',\n",
       "       'segmentation_method', 'region', 'z_level', 'cell_labels', 'batch',\n",
       "       'n_genes_by_counts', 'log1p_n_genes_by_counts', 'log1p_total_counts',\n",
       "       'outlier', 'cluster', '_indices', '_scvi_batch', '_scvi_labels'],\n",
       "      dtype='object')"
      ]
     },
     "execution_count": 26,
     "metadata": {},
     "output_type": "execute_result"
    }
   ],
   "source": [
    "slide.obs.columns"
   ]
  },
  {
   "cell_type": "code",
   "execution_count": 30,
   "id": "dc56dcbd-4845-4e70-be66-19bf76ab391a",
   "metadata": {},
   "outputs": [
    {
     "data": {
      "text/plain": [
       "AnnData object with n_obs × n_vars = 664093 × 1446\n",
       "    obs: 'cell_id', 'transcript_counts', 'control_probe_counts', 'genomic_control_counts', 'control_codeword_counts', 'unassigned_codeword_counts', 'deprecated_codeword_counts', 'total_counts', 'cell_area', 'nucleus_area', 'nucleus_count', 'segmentation_method', 'region', 'z_level', 'cell_labels', 'batch', 'n_genes_by_counts', 'log1p_n_genes_by_counts', 'log1p_total_counts', 'outlier', 'cluster', '_indices', '_scvi_batch', '_scvi_labels'\n",
       "    var: 'n_cells_by_counts', 'total_counts', 'mean_counts', 'pct_dropout_by_counts', 'log1p_total_counts', 'log1p_mean_counts', 'highly_variable', 'highly_variable_rank', 'means', 'variances', 'variances_norm'\n",
       "    uns: '_scvi_manager_uuid', '_scvi_uuid', 'hvg', 'leiden', 'log1p', 'mod', 'neighbors', 'pca', 'spatial'\n",
       "    obsm: 'X_pca', 'X_pca_Harmony', 'X_pca_before', '_scvi_extra_categorical_covs', 'q05_cell_abundance_w_sf', 'q95_cell_abundance_w_sf', 'spatial'\n",
       "    varm: 'PCs'\n",
       "    layers: 'counts', 'log'\n",
       "    obsp: 'connectivities', 'distances'"
      ]
     },
     "execution_count": 30,
     "metadata": {},
     "output_type": "execute_result"
    }
   ],
   "source": [
    "adata_vis"
   ]
  },
  {
   "cell_type": "code",
   "execution_count": 10,
   "id": "3777dad4-6c92-4233-82cc-ef32d1305389",
   "metadata": {},
   "outputs": [],
   "source": [
    "adata_vis.obsm['X_cell2loc'] = adata_vis.obsm['q05_cell_abundance_w_sf'].to_numpy()"
   ]
  },
  {
   "cell_type": "code",
   "execution_count": null,
   "id": "fc19dfd7-bb75-4394-bed1-41588b3dfbcf",
   "metadata": {},
   "outputs": [],
   "source": [
    "adata_vis.obsm['X_cell2loc'].shape"
   ]
  },
  {
   "cell_type": "code",
   "execution_count": null,
   "id": "4d3aabd6-ff12-48b2-9fd5-739bd2c602cb",
   "metadata": {},
   "outputs": [],
   "source": [
    "sc.pp.neighbors(adata_vis, n_pcs = 56, use_rep =  'X_cell2loc',key_added = 'cell2locNigb')"
   ]
  },
  {
   "cell_type": "code",
   "execution_count": null,
   "id": "609c463b-cd4a-42ca-b9df-a72db72eb4ba",
   "metadata": {},
   "outputs": [],
   "source": [
    "sc.tl.leiden(adata_concat, random_state=1337, resolution=0.667, key_added='cluster_cell2loc', neighbors_key='cell2locNigb')"
   ]
  },
  {
   "cell_type": "code",
   "execution_count": null,
   "id": "88543884-d254-42a2-884f-be92f9020ee7",
   "metadata": {},
   "outputs": [],
   "source": [
    "def plot_spatial(andata,ax, cluster = 'cluster', features = None,title = '',xlab = '',ylab ='',size = 2,alpha = 0.6, markerscale = 5, cluster_name = 'cluster'):\n",
    "    palette = sns.color_palette(\"tab20\") + sns.color_palette(\"tab20b\") + sns.color_palette(\"tab20c\")\n",
    "    df = pd.DataFrame({'cluster':andata.obs[cluster],'x':andata.obsm['spatial'][:,0],'y':andata.obsm['spatial'][:,1]})\n",
    "    if features:\n",
    "        df[df['cluster'].isin([features])]\n",
    "    num_classes = len(df['cluster'].unique())\n",
    "    if num_classes==1:\n",
    "        listed_cmap = ListedColormap(palette)\n",
    "    else:\n",
    "        num_classes = len(np.unique(df['cluster'].values))\n",
    "        extended_palette = palette * (num_classes // len(palette) + 1)\n",
    "        extended_palette = extended_palette[:num_classes]\n",
    "        listed_cmap = ListedColormap(extended_palette)\n",
    "    color_container = []\n",
    "    \n",
    "    clusters = sorted(np.unique(df['cluster'].values), key=int)\n",
    "    for i, cluster in enumerate(clusters):\n",
    "        cluster_data = df[df['cluster'] == cluster]\n",
    "        ax.scatter( x=cluster_data['x'], y=cluster_data['y'], color=listed_cmap(i), label=f'{cluster}', s=size, alpha=alpha)\n",
    "        color_container.append(listed_cmap(i))\n",
    "    ax.set_xticks([])\n",
    "    ax.set_yticks([])\n",
    "    ax.set_xlabel(xlab)\n",
    "    ax.set_ylabel(ylab)\n",
    "    ax.set_title(title)\n",
    "    legend = ax.legend( title=cluster_name,\n",
    "                        bbox_to_anchor=(1.05, 1),  # Position the legend outside the plot\n",
    "                        loc='upper left',\n",
    "                        fontsize='small',  # Control the font size\n",
    "                        title_fontsize='medium',\n",
    "                        markerscale=markerscale,  # Increase the size of the legend markers\n",
    "                        frameon=False# Control the title font size\n",
    "                        )\n",
    "    df_color = pd.DataFrame({\"clusters\":df['cluster'].unique(),\"colors\":color_container})\n",
    "    return df_color"
   ]
  },
  {
   "cell_type": "code",
   "execution_count": null,
   "id": "82b663f9-1ce8-4e59-941e-4c26a4c84043",
   "metadata": {},
   "outputs": [],
   "source": [
    "fig, ax = plt.subplots(1, 1, figsize=(15,15))\n",
    "plt.rcParams['figure.dpi'] = 800\n",
    "plt.rcParams['font.family'] = ['serif']\n",
    "plt.rcParams['font.size'] = 12\n",
    "plt.rcParams['axes.labelsize'] = 12\n",
    "plt.rcParams['axes.titlesize'] = 12\n",
    "plt.rcParams['xtick.labelsize'] = 12\n",
    "plt.rcParams['ytick.labelsize'] = 12\n",
    "clusterColorMap = plot_spatial(andata,ax = ax,cluster = 'spatialleiden', features = None, title = '',markerscale = 30, xlab = '',ylab ='',size = 0.1)\n",
    "plt.subplots_adjust(left=0.1, right=0.9, top=0.9, bottom=0.2)"
   ]
  },
  {
   "cell_type": "markdown",
   "id": "3537ab2f",
   "metadata": {},
   "source": [
    "### STAligner\n",
    "\n",
    "source myconda  \n",
    "mamba activate STAligner_env \n",
    "jupyter notebook --ip localhost --port $PORT1 --no-browser "
   ]
  },
  {
   "cell_type": "code",
   "execution_count": 4,
   "id": "e54be4a7",
   "metadata": {},
   "outputs": [],
   "source": [
    "import STAligner\n",
    "import os\n",
    "\n",
    "import anndata as ad\n",
    "import scanpy as sc\n",
    "import pandas as pd\n",
    "import numpy as np\n",
    "import scipy.sparse as sp\n",
    "import scipy.linalg\n",
    "\n",
    "import scipy\n",
    "import networkx\n",
    "\n",
    "import torch\n",
    "\n",
    "used_device = torch.device('cuda')"
   ]
  },
  {
   "cell_type": "code",
   "execution_count": 5,
   "id": "f75e9755",
   "metadata": {},
   "outputs": [
    {
     "name": "stdout",
     "output_type": "stream",
     "text": [
      "1.9.1\n"
     ]
    }
   ],
   "source": [
    "import scanpy as sc\n",
    "print(sc.__version__)"
   ]
  },
  {
   "cell_type": "code",
   "execution_count": 6,
   "id": "4b60ff3f",
   "metadata": {},
   "outputs": [],
   "source": [
    "import warnings\n",
    "warnings.simplefilter(\"ignore\", FutureWarning)\n",
    "warnings.simplefilter(\"ignore\", UserWarning)\n",
    "warnings.simplefilter(\"ignore\", RuntimeWarning)"
   ]
  },
  {
   "cell_type": "code",
   "execution_count": 26,
   "id": "6ec6a433",
   "metadata": {},
   "outputs": [],
   "source": [
    "pathout = '/data/kanferg/Sptial_Omics/projects/NguyenLab/spatialomicstoolkit/out_1'\n",
    "andtata_in = sc.read_h5ad(os.path.join(pathout, \"andata_minimum_forSTAligner.h5ad\"))"
   ]
  },
  {
   "cell_type": "code",
   "execution_count": 27,
   "id": "f1ad93fe",
   "metadata": {},
   "outputs": [],
   "source": [
    "unique_batch = pd.unique(andtata_in.obs[\"batch\"].astype(str))"
   ]
  },
  {
   "cell_type": "code",
   "execution_count": 28,
   "id": "c879ae39",
   "metadata": {},
   "outputs": [
    {
     "name": "stdout",
     "output_type": "stream",
     "text": [
      "------Calculating spatial graph...\n",
      "The graph contains 0 edges, 17758 cells.\n",
      "0.0000 neighbors per cell on average.\n",
      "------Calculating spatial graph...\n",
      "The graph contains 0 edges, 15588 cells.\n",
      "0.0000 neighbors per cell on average.\n",
      "------Calculating spatial graph...\n",
      "The graph contains 0 edges, 12590 cells.\n",
      "0.0000 neighbors per cell on average.\n",
      "------Calculating spatial graph...\n",
      "The graph contains 0 edges, 8973 cells.\n",
      "0.0000 neighbors per cell on average.\n",
      "------Calculating spatial graph...\n",
      "The graph contains 0 edges, 14779 cells.\n",
      "0.0000 neighbors per cell on average.\n",
      "------Calculating spatial graph...\n",
      "The graph contains 0 edges, 10714 cells.\n",
      "0.0000 neighbors per cell on average.\n",
      "------Calculating spatial graph...\n",
      "The graph contains 0 edges, 3867 cells.\n",
      "0.0000 neighbors per cell on average.\n",
      "------Calculating spatial graph...\n",
      "The graph contains 0 edges, 13808 cells.\n",
      "0.0000 neighbors per cell on average.\n",
      "------Calculating spatial graph...\n",
      "The graph contains 0 edges, 8831 cells.\n",
      "0.0000 neighbors per cell on average.\n",
      "------Calculating spatial graph...\n",
      "The graph contains 0 edges, 8042 cells.\n",
      "0.0000 neighbors per cell on average.\n",
      "------Calculating spatial graph...\n",
      "The graph contains 0 edges, 11244 cells.\n",
      "0.0000 neighbors per cell on average.\n",
      "------Calculating spatial graph...\n",
      "The graph contains 0 edges, 7785 cells.\n",
      "0.0000 neighbors per cell on average.\n",
      "------Calculating spatial graph...\n",
      "The graph contains 0 edges, 5525 cells.\n",
      "0.0000 neighbors per cell on average.\n",
      "------Calculating spatial graph...\n",
      "The graph contains 0 edges, 15288 cells.\n",
      "0.0000 neighbors per cell on average.\n",
      "------Calculating spatial graph...\n",
      "The graph contains 0 edges, 10291 cells.\n",
      "0.0000 neighbors per cell on average.\n",
      "------Calculating spatial graph...\n",
      "The graph contains 0 edges, 11397 cells.\n",
      "0.0000 neighbors per cell on average.\n",
      "------Calculating spatial graph...\n",
      "The graph contains 0 edges, 6215 cells.\n",
      "0.0000 neighbors per cell on average.\n",
      "------Calculating spatial graph...\n",
      "The graph contains 0 edges, 7954 cells.\n",
      "0.0000 neighbors per cell on average.\n",
      "------Calculating spatial graph...\n",
      "The graph contains 0 edges, 7437 cells.\n",
      "0.0000 neighbors per cell on average.\n",
      "------Calculating spatial graph...\n",
      "The graph contains 0 edges, 6552 cells.\n",
      "0.0000 neighbors per cell on average.\n",
      "------Calculating spatial graph...\n",
      "The graph contains 0 edges, 8855 cells.\n",
      "0.0000 neighbors per cell on average.\n",
      "------Calculating spatial graph...\n",
      "The graph contains 0 edges, 6214 cells.\n",
      "0.0000 neighbors per cell on average.\n",
      "------Calculating spatial graph...\n",
      "The graph contains 0 edges, 5573 cells.\n",
      "0.0000 neighbors per cell on average.\n",
      "------Calculating spatial graph...\n",
      "The graph contains 0 edges, 9619 cells.\n",
      "0.0000 neighbors per cell on average.\n",
      "------Calculating spatial graph...\n",
      "The graph contains 0 edges, 3410 cells.\n",
      "0.0000 neighbors per cell on average.\n",
      "------Calculating spatial graph...\n",
      "The graph contains 0 edges, 14207 cells.\n",
      "0.0000 neighbors per cell on average.\n",
      "------Calculating spatial graph...\n",
      "The graph contains 0 edges, 14621 cells.\n",
      "0.0000 neighbors per cell on average.\n",
      "------Calculating spatial graph...\n",
      "The graph contains 0 edges, 5591 cells.\n",
      "0.0000 neighbors per cell on average.\n",
      "------Calculating spatial graph...\n",
      "The graph contains 0 edges, 15402 cells.\n",
      "0.0000 neighbors per cell on average.\n",
      "------Calculating spatial graph...\n",
      "The graph contains 0 edges, 15415 cells.\n",
      "0.0000 neighbors per cell on average.\n",
      "------Calculating spatial graph...\n",
      "The graph contains 0 edges, 11363 cells.\n",
      "0.0000 neighbors per cell on average.\n",
      "------Calculating spatial graph...\n",
      "The graph contains 0 edges, 8116 cells.\n",
      "0.0000 neighbors per cell on average.\n",
      "------Calculating spatial graph...\n",
      "The graph contains 0 edges, 11571 cells.\n",
      "0.0000 neighbors per cell on average.\n",
      "------Calculating spatial graph...\n",
      "The graph contains 0 edges, 7758 cells.\n",
      "0.0000 neighbors per cell on average.\n",
      "------Calculating spatial graph...\n",
      "The graph contains 0 edges, 9599 cells.\n",
      "0.0000 neighbors per cell on average.\n",
      "------Calculating spatial graph...\n",
      "The graph contains 0 edges, 7583 cells.\n",
      "0.0000 neighbors per cell on average.\n",
      "------Calculating spatial graph...\n",
      "The graph contains 0 edges, 12227 cells.\n",
      "0.0000 neighbors per cell on average.\n",
      "------Calculating spatial graph...\n",
      "The graph contains 0 edges, 13183 cells.\n",
      "0.0000 neighbors per cell on average.\n",
      "------Calculating spatial graph...\n",
      "The graph contains 0 edges, 10460 cells.\n",
      "0.0000 neighbors per cell on average.\n",
      "------Calculating spatial graph...\n",
      "The graph contains 0 edges, 12680 cells.\n",
      "0.0000 neighbors per cell on average.\n",
      "------Calculating spatial graph...\n",
      "The graph contains 0 edges, 13253 cells.\n",
      "0.0000 neighbors per cell on average.\n",
      "------Calculating spatial graph...\n",
      "The graph contains 0 edges, 21798 cells.\n",
      "0.0000 neighbors per cell on average.\n",
      "------Calculating spatial graph...\n",
      "The graph contains 0 edges, 16387 cells.\n",
      "0.0000 neighbors per cell on average.\n",
      "------Calculating spatial graph...\n",
      "The graph contains 0 edges, 13275 cells.\n",
      "0.0000 neighbors per cell on average.\n",
      "------Calculating spatial graph...\n",
      "The graph contains 0 edges, 13832 cells.\n",
      "0.0000 neighbors per cell on average.\n",
      "------Calculating spatial graph...\n",
      "The graph contains 0 edges, 7931 cells.\n",
      "0.0000 neighbors per cell on average.\n",
      "------Calculating spatial graph...\n",
      "The graph contains 0 edges, 5100 cells.\n",
      "0.0000 neighbors per cell on average.\n",
      "------Calculating spatial graph...\n",
      "The graph contains 0 edges, 9579 cells.\n",
      "0.0000 neighbors per cell on average.\n",
      "------Calculating spatial graph...\n",
      "The graph contains 0 edges, 9702 cells.\n",
      "0.0000 neighbors per cell on average.\n",
      "------Calculating spatial graph...\n",
      "The graph contains 0 edges, 7340 cells.\n",
      "0.0000 neighbors per cell on average.\n",
      "------Calculating spatial graph...\n",
      "The graph contains 0 edges, 16156 cells.\n",
      "0.0000 neighbors per cell on average.\n",
      "------Calculating spatial graph...\n",
      "The graph contains 0 edges, 5920 cells.\n",
      "0.0000 neighbors per cell on average.\n",
      "------Calculating spatial graph...\n",
      "The graph contains 0 edges, 12697 cells.\n",
      "0.0000 neighbors per cell on average.\n",
      "------Calculating spatial graph...\n",
      "The graph contains 0 edges, 7294 cells.\n",
      "0.0000 neighbors per cell on average.\n",
      "------Calculating spatial graph...\n",
      "The graph contains 0 edges, 13009 cells.\n",
      "0.0000 neighbors per cell on average.\n",
      "------Calculating spatial graph...\n",
      "The graph contains 0 edges, 6739 cells.\n",
      "0.0000 neighbors per cell on average.\n",
      "------Calculating spatial graph...\n",
      "The graph contains 0 edges, 9888 cells.\n",
      "0.0000 neighbors per cell on average.\n",
      "------Calculating spatial graph...\n",
      "The graph contains 0 edges, 18001 cells.\n",
      "0.0000 neighbors per cell on average.\n",
      "------Calculating spatial graph...\n",
      "The graph contains 0 edges, 14619 cells.\n",
      "0.0000 neighbors per cell on average.\n",
      "------Calculating spatial graph...\n",
      "The graph contains 0 edges, 3839 cells.\n",
      "0.0000 neighbors per cell on average.\n",
      "------Calculating spatial graph...\n",
      "The graph contains 0 edges, 19669 cells.\n",
      "0.0000 neighbors per cell on average.\n",
      "------Calculating spatial graph...\n",
      "The graph contains 0 edges, 9980 cells.\n",
      "0.0000 neighbors per cell on average.\n"
     ]
    }
   ],
   "source": [
    "Batch_list = []\n",
    "adj_list = []\n",
    "\n",
    "for i,p in enumerate(unique_batch):\n",
    "    adata = andtata_in[andtata_in.obs[\"batch\"]==p,:]\n",
    "    STAligner.Cal_Spatial_Net(adata)  \n",
    "    \n",
    "    adj_list.append(adata.uns['adj'])\n",
    "    Batch_list.append(adata)\n",
    "    del adata "
   ]
  },
  {
   "cell_type": "code",
   "execution_count": 29,
   "id": "e9cf1607",
   "metadata": {},
   "outputs": [],
   "source": [
    "adata_concat = ad.concat(Batch_list, label=\"batch\", keys=unique_batch.tolist())\n",
    "adata_concat.obs[\"batch_name\"] = adata_concat.obs[\"batch\"].astype('category')"
   ]
  },
  {
   "cell_type": "code",
   "execution_count": 31,
   "id": "beab34d8",
   "metadata": {},
   "outputs": [],
   "source": [
    "path_temp = \"/data/kanferg/Sptial_Omics/projects/NguyenLab/spatialomicstoolkit/staligner_temp\"\n",
    "andata_save = adata_concat.copy()\n",
    "andata_save.write_h5ad(os.path.join(path_temp, \"andata_stalignTemp.h5ad\"))"
   ]
  },
  {
   "cell_type": "code",
   "execution_count": 18,
   "id": "d17da717",
   "metadata": {},
   "outputs": [],
   "source": [
    "def memory_efficient_block_diag(adj_list):\n",
    "    \"\"\"\n",
    "    Constructs a block diagonal matrix from a list of sparse adjacency matrices in a memory-efficient way.\n",
    "    \n",
    "    Parameters:\n",
    "        adj_list (list): A list of sparse matrices (scipy.sparse).\n",
    "\n",
    "    Returns:\n",
    "        scipy.sparse.csr_matrix: Block diagonal sparse matrix.\n",
    "    \"\"\"\n",
    "    # Calculate the total size of the final matrix\n",
    "    total_rows = sum(adj.shape[0] for adj in adj_list)\n",
    "    total_cols = sum(adj.shape[1] for adj in adj_list)\n",
    "\n",
    "    # Initialize sparse matrices for the data, row indices, and column indices\n",
    "    data = []\n",
    "    row_indices = []\n",
    "    col_indices = []\n",
    "\n",
    "    row_offset = 0\n",
    "    col_offset = 0\n",
    "\n",
    "    for adj in adj_list:\n",
    "        # Convert sparse matrix to COO format for efficient indexing\n",
    "        adj_coo = adj.tocoo()\n",
    "\n",
    "        # Append the data and adjusted indices\n",
    "        data.append(adj_coo.data)\n",
    "        row_indices.append(adj_coo.row + row_offset)\n",
    "        col_indices.append(adj_coo.col + col_offset)\n",
    "\n",
    "        # Update offsets for the next block\n",
    "        row_offset += adj.shape[0]\n",
    "        col_offset += adj.shape[1]\n",
    "\n",
    "    # Concatenate data and indices from all blocks\n",
    "    data = np.concatenate(data)\n",
    "    row_indices = np.concatenate(row_indices)\n",
    "    col_indices = np.concatenate(col_indices)\n",
    "\n",
    "    # Construct the final sparse matrix\n",
    "    block_diag_matrix = sp.csr_matrix((data, (row_indices, col_indices)), shape=(total_rows, total_cols))\n",
    "    return block_diag_matrix"
   ]
  },
  {
   "cell_type": "code",
   "execution_count": 19,
   "id": "169e3d83",
   "metadata": {},
   "outputs": [],
   "source": [
    "adj_concat = memory_efficient_block_diag(adj_list)\n",
    "adata_concat.uns['edgeList'] = np.nonzero(adj_concat)"
   ]
  },
  {
   "cell_type": "code",
   "execution_count": 25,
   "id": "229dbb3f",
   "metadata": {
    "collapsed": true,
    "jupyter": {
     "outputs_hidden": true
    }
   },
   "outputs": [
    {
     "ename": "IORegistryError",
     "evalue": "No method registered for writing <class 'tuple'> into <class 'h5py._hl.group.Group'>\n\nAbove error raised while writing key 'edgeList' of <class 'h5py._hl.group.Group'> to /",
     "output_type": "error",
     "traceback": [
      "\u001b[0;31m---------------------------------------------------------------------------\u001b[0m",
      "\u001b[0;31mIORegistryError\u001b[0m                           Traceback (most recent call last)",
      "File \u001b[0;32m/gpfs/gsfs10/users/kanferg/conda/envs/STAligner_env/lib/python3.8/site-packages/anndata/_io/utils.py:246\u001b[0m, in \u001b[0;36mreport_write_key_on_error.<locals>.func_wrapper\u001b[0;34m(*args, **kwargs)\u001b[0m\n\u001b[1;32m    245\u001b[0m \u001b[38;5;28;01mtry\u001b[39;00m:\n\u001b[0;32m--> 246\u001b[0m     \u001b[38;5;28;01mreturn\u001b[39;00m \u001b[43mfunc\u001b[49m\u001b[43m(\u001b[49m\u001b[38;5;241;43m*\u001b[39;49m\u001b[43margs\u001b[49m\u001b[43m,\u001b[49m\u001b[43m \u001b[49m\u001b[38;5;241;43m*\u001b[39;49m\u001b[38;5;241;43m*\u001b[39;49m\u001b[43mkwargs\u001b[49m\u001b[43m)\u001b[49m\n\u001b[1;32m    247\u001b[0m \u001b[38;5;28;01mexcept\u001b[39;00m \u001b[38;5;167;01mException\u001b[39;00m \u001b[38;5;28;01mas\u001b[39;00m e:\n",
      "File \u001b[0;32m/gpfs/gsfs10/users/kanferg/conda/envs/STAligner_env/lib/python3.8/site-packages/anndata/_io/specs/registry.py:297\u001b[0m, in \u001b[0;36mWriter.write_elem\u001b[0;34m(self, store, k, elem, dataset_kwargs, modifiers)\u001b[0m\n\u001b[1;32m    295\u001b[0m \u001b[38;5;28;01melse\u001b[39;00m:\n\u001b[1;32m    296\u001b[0m     write_func \u001b[38;5;241m=\u001b[39m partial(\n\u001b[0;32m--> 297\u001b[0m         \u001b[38;5;28;43mself\u001b[39;49m\u001b[38;5;241;43m.\u001b[39;49m\u001b[43mregistry\u001b[49m\u001b[38;5;241;43m.\u001b[39;49m\u001b[43mget_writer\u001b[49m\u001b[43m(\u001b[49m\u001b[43mdest_type\u001b[49m\u001b[43m,\u001b[49m\u001b[43m \u001b[49m\u001b[43mt\u001b[49m\u001b[43m,\u001b[49m\u001b[43m \u001b[49m\u001b[43mmodifiers\u001b[49m\u001b[43m)\u001b[49m,\n\u001b[1;32m    298\u001b[0m         _writer\u001b[38;5;241m=\u001b[39m\u001b[38;5;28mself\u001b[39m,\n\u001b[1;32m    299\u001b[0m     )\n\u001b[1;32m    301\u001b[0m \u001b[38;5;28;01mif\u001b[39;00m \u001b[38;5;28mself\u001b[39m\u001b[38;5;241m.\u001b[39mcallback \u001b[38;5;129;01mis\u001b[39;00m \u001b[38;5;129;01mnot\u001b[39;00m \u001b[38;5;28;01mNone\u001b[39;00m:\n",
      "File \u001b[0;32m/gpfs/gsfs10/users/kanferg/conda/envs/STAligner_env/lib/python3.8/site-packages/anndata/_io/specs/registry.py:112\u001b[0m, in \u001b[0;36mIORegistry.get_writer\u001b[0;34m(self, dest_type, src_type, modifiers)\u001b[0m\n\u001b[1;32m    111\u001b[0m \u001b[38;5;28;01melse\u001b[39;00m:\n\u001b[0;32m--> 112\u001b[0m     \u001b[38;5;28;01mraise\u001b[39;00m IORegistryError\u001b[38;5;241m.\u001b[39m_from_write_parts(dest_type, src_type, modifiers)\n",
      "\u001b[0;31mIORegistryError\u001b[0m: No method registered for writing <class 'tuple'> into <class 'h5py._hl.group.Group'>",
      "\nThe above exception was the direct cause of the following exception:\n",
      "\u001b[0;31mIORegistryError\u001b[0m                           Traceback (most recent call last)",
      "Cell \u001b[0;32mIn[25], line 2\u001b[0m\n\u001b[1;32m      1\u001b[0m andata_save \u001b[38;5;241m=\u001b[39m adata_concat\u001b[38;5;241m.\u001b[39mcopy()\n\u001b[0;32m----> 2\u001b[0m \u001b[43mandata_save\u001b[49m\u001b[38;5;241;43m.\u001b[39;49m\u001b[43mwrite_h5ad\u001b[49m\u001b[43m(\u001b[49m\u001b[43mos\u001b[49m\u001b[38;5;241;43m.\u001b[39;49m\u001b[43mpath\u001b[49m\u001b[38;5;241;43m.\u001b[39;49m\u001b[43mjoin\u001b[49m\u001b[43m(\u001b[49m\u001b[43mpath_temp\u001b[49m\u001b[43m,\u001b[49m\u001b[43m \u001b[49m\u001b[38;5;124;43m\"\u001b[39;49m\u001b[38;5;124;43mandata_stalignTemp.h5ad\u001b[39;49m\u001b[38;5;124;43m\"\u001b[39;49m\u001b[43m)\u001b[49m\u001b[43m)\u001b[49m\n",
      "File \u001b[0;32m/gpfs/gsfs10/users/kanferg/conda/envs/STAligner_env/lib/python3.8/site-packages/anndata/_core/anndata.py:1959\u001b[0m, in \u001b[0;36mAnnData.write_h5ad\u001b[0;34m(self, filename, compression, compression_opts, as_dense)\u001b[0m\n\u001b[1;32m   1956\u001b[0m \u001b[38;5;28;01mif\u001b[39;00m filename \u001b[38;5;129;01mis\u001b[39;00m \u001b[38;5;28;01mNone\u001b[39;00m:\n\u001b[1;32m   1957\u001b[0m     filename \u001b[38;5;241m=\u001b[39m \u001b[38;5;28mself\u001b[39m\u001b[38;5;241m.\u001b[39mfilename\n\u001b[0;32m-> 1959\u001b[0m \u001b[43m_write_h5ad\u001b[49m\u001b[43m(\u001b[49m\n\u001b[1;32m   1960\u001b[0m \u001b[43m    \u001b[49m\u001b[43mPath\u001b[49m\u001b[43m(\u001b[49m\u001b[43mfilename\u001b[49m\u001b[43m)\u001b[49m\u001b[43m,\u001b[49m\n\u001b[1;32m   1961\u001b[0m \u001b[43m    \u001b[49m\u001b[38;5;28;43mself\u001b[39;49m\u001b[43m,\u001b[49m\n\u001b[1;32m   1962\u001b[0m \u001b[43m    \u001b[49m\u001b[43mcompression\u001b[49m\u001b[38;5;241;43m=\u001b[39;49m\u001b[43mcompression\u001b[49m\u001b[43m,\u001b[49m\n\u001b[1;32m   1963\u001b[0m \u001b[43m    \u001b[49m\u001b[43mcompression_opts\u001b[49m\u001b[38;5;241;43m=\u001b[39;49m\u001b[43mcompression_opts\u001b[49m\u001b[43m,\u001b[49m\n\u001b[1;32m   1964\u001b[0m \u001b[43m    \u001b[49m\u001b[43mas_dense\u001b[49m\u001b[38;5;241;43m=\u001b[39;49m\u001b[43mas_dense\u001b[49m\u001b[43m,\u001b[49m\n\u001b[1;32m   1965\u001b[0m \u001b[43m\u001b[49m\u001b[43m)\u001b[49m\n\u001b[1;32m   1967\u001b[0m \u001b[38;5;28;01mif\u001b[39;00m \u001b[38;5;28mself\u001b[39m\u001b[38;5;241m.\u001b[39misbacked:\n\u001b[1;32m   1968\u001b[0m     \u001b[38;5;28mself\u001b[39m\u001b[38;5;241m.\u001b[39mfile\u001b[38;5;241m.\u001b[39mfilename \u001b[38;5;241m=\u001b[39m filename\n",
      "File \u001b[0;32m/gpfs/gsfs10/users/kanferg/conda/envs/STAligner_env/lib/python3.8/site-packages/anndata/_io/h5ad.py:99\u001b[0m, in \u001b[0;36mwrite_h5ad\u001b[0;34m(filepath, adata, as_dense, dataset_kwargs, **kwargs)\u001b[0m\n\u001b[1;32m     97\u001b[0m write_elem(f, \u001b[38;5;124m\"\u001b[39m\u001b[38;5;124mvarp\u001b[39m\u001b[38;5;124m\"\u001b[39m, \u001b[38;5;28mdict\u001b[39m(adata\u001b[38;5;241m.\u001b[39mvarp), dataset_kwargs\u001b[38;5;241m=\u001b[39mdataset_kwargs)\n\u001b[1;32m     98\u001b[0m write_elem(f, \u001b[38;5;124m\"\u001b[39m\u001b[38;5;124mlayers\u001b[39m\u001b[38;5;124m\"\u001b[39m, \u001b[38;5;28mdict\u001b[39m(adata\u001b[38;5;241m.\u001b[39mlayers), dataset_kwargs\u001b[38;5;241m=\u001b[39mdataset_kwargs)\n\u001b[0;32m---> 99\u001b[0m \u001b[43mwrite_elem\u001b[49m\u001b[43m(\u001b[49m\u001b[43mf\u001b[49m\u001b[43m,\u001b[49m\u001b[43m \u001b[49m\u001b[38;5;124;43m\"\u001b[39;49m\u001b[38;5;124;43muns\u001b[39;49m\u001b[38;5;124;43m\"\u001b[39;49m\u001b[43m,\u001b[49m\u001b[43m \u001b[49m\u001b[38;5;28;43mdict\u001b[39;49m\u001b[43m(\u001b[49m\u001b[43madata\u001b[49m\u001b[38;5;241;43m.\u001b[39;49m\u001b[43muns\u001b[49m\u001b[43m)\u001b[49m\u001b[43m,\u001b[49m\u001b[43m \u001b[49m\u001b[43mdataset_kwargs\u001b[49m\u001b[38;5;241;43m=\u001b[39;49m\u001b[43mdataset_kwargs\u001b[49m\u001b[43m)\u001b[49m\n",
      "File \u001b[0;32m/gpfs/gsfs10/users/kanferg/conda/envs/STAligner_env/lib/python3.8/site-packages/anndata/_io/specs/registry.py:353\u001b[0m, in \u001b[0;36mwrite_elem\u001b[0;34m(store, k, elem, dataset_kwargs)\u001b[0m\n\u001b[1;32m    329\u001b[0m \u001b[38;5;28;01mdef\u001b[39;00m \u001b[38;5;21mwrite_elem\u001b[39m(\n\u001b[1;32m    330\u001b[0m     store: GroupStorageType,\n\u001b[1;32m    331\u001b[0m     k: \u001b[38;5;28mstr\u001b[39m,\n\u001b[0;32m   (...)\u001b[0m\n\u001b[1;32m    334\u001b[0m     dataset_kwargs: Mapping \u001b[38;5;241m=\u001b[39m MappingProxyType({}),\n\u001b[1;32m    335\u001b[0m ) \u001b[38;5;241m-\u001b[39m\u001b[38;5;241m>\u001b[39m \u001b[38;5;28;01mNone\u001b[39;00m:\n\u001b[1;32m    336\u001b[0m \u001b[38;5;250m    \u001b[39m\u001b[38;5;124;03m\"\"\"\u001b[39;00m\n\u001b[1;32m    337\u001b[0m \u001b[38;5;124;03m    Write an element to a storage group using anndata encoding.\u001b[39;00m\n\u001b[1;32m    338\u001b[0m \n\u001b[0;32m   (...)\u001b[0m\n\u001b[1;32m    351\u001b[0m \u001b[38;5;124;03m        E.g. for zarr this would be `chunks`, `compressor`.\u001b[39;00m\n\u001b[1;32m    352\u001b[0m \u001b[38;5;124;03m    \"\"\"\u001b[39;00m\n\u001b[0;32m--> 353\u001b[0m     \u001b[43mWriter\u001b[49m\u001b[43m(\u001b[49m\u001b[43m_REGISTRY\u001b[49m\u001b[43m)\u001b[49m\u001b[38;5;241;43m.\u001b[39;49m\u001b[43mwrite_elem\u001b[49m\u001b[43m(\u001b[49m\u001b[43mstore\u001b[49m\u001b[43m,\u001b[49m\u001b[43m \u001b[49m\u001b[43mk\u001b[49m\u001b[43m,\u001b[49m\u001b[43m \u001b[49m\u001b[43melem\u001b[49m\u001b[43m,\u001b[49m\u001b[43m \u001b[49m\u001b[43mdataset_kwargs\u001b[49m\u001b[38;5;241;43m=\u001b[39;49m\u001b[43mdataset_kwargs\u001b[49m\u001b[43m)\u001b[49m\n",
      "File \u001b[0;32m/gpfs/gsfs10/users/kanferg/conda/envs/STAligner_env/lib/python3.8/site-packages/anndata/_io/utils.py:248\u001b[0m, in \u001b[0;36mreport_write_key_on_error.<locals>.func_wrapper\u001b[0;34m(*args, **kwargs)\u001b[0m\n\u001b[1;32m    246\u001b[0m     \u001b[38;5;28;01mreturn\u001b[39;00m func(\u001b[38;5;241m*\u001b[39margs, \u001b[38;5;241m*\u001b[39m\u001b[38;5;241m*\u001b[39mkwargs)\n\u001b[1;32m    247\u001b[0m \u001b[38;5;28;01mexcept\u001b[39;00m \u001b[38;5;167;01mException\u001b[39;00m \u001b[38;5;28;01mas\u001b[39;00m e:\n\u001b[0;32m--> 248\u001b[0m     \u001b[43mre_raise_error\u001b[49m\u001b[43m(\u001b[49m\u001b[43me\u001b[49m\u001b[43m,\u001b[49m\u001b[43m \u001b[49m\u001b[43melem\u001b[49m\u001b[43m,\u001b[49m\u001b[43m \u001b[49m\u001b[43mkey\u001b[49m\u001b[43m)\u001b[49m\n",
      "File \u001b[0;32m/gpfs/gsfs10/users/kanferg/conda/envs/STAligner_env/lib/python3.8/site-packages/anndata/_io/utils.py:246\u001b[0m, in \u001b[0;36mreport_write_key_on_error.<locals>.func_wrapper\u001b[0;34m(*args, **kwargs)\u001b[0m\n\u001b[1;32m    244\u001b[0m         \u001b[38;5;28;01mbreak\u001b[39;00m\n\u001b[1;32m    245\u001b[0m \u001b[38;5;28;01mtry\u001b[39;00m:\n\u001b[0;32m--> 246\u001b[0m     \u001b[38;5;28;01mreturn\u001b[39;00m \u001b[43mfunc\u001b[49m\u001b[43m(\u001b[49m\u001b[38;5;241;43m*\u001b[39;49m\u001b[43margs\u001b[49m\u001b[43m,\u001b[49m\u001b[43m \u001b[49m\u001b[38;5;241;43m*\u001b[39;49m\u001b[38;5;241;43m*\u001b[39;49m\u001b[43mkwargs\u001b[49m\u001b[43m)\u001b[49m\n\u001b[1;32m    247\u001b[0m \u001b[38;5;28;01mexcept\u001b[39;00m \u001b[38;5;167;01mException\u001b[39;00m \u001b[38;5;28;01mas\u001b[39;00m e:\n\u001b[1;32m    248\u001b[0m     re_raise_error(e, elem, key)\n",
      "File \u001b[0;32m/gpfs/gsfs10/users/kanferg/conda/envs/STAligner_env/lib/python3.8/site-packages/anndata/_io/specs/registry.py:311\u001b[0m, in \u001b[0;36mWriter.write_elem\u001b[0;34m(self, store, k, elem, dataset_kwargs, modifiers)\u001b[0m\n\u001b[1;32m    302\u001b[0m     \u001b[38;5;28;01mreturn\u001b[39;00m \u001b[38;5;28mself\u001b[39m\u001b[38;5;241m.\u001b[39mcallback(\n\u001b[1;32m    303\u001b[0m         write_func,\n\u001b[1;32m    304\u001b[0m         store,\n\u001b[0;32m   (...)\u001b[0m\n\u001b[1;32m    308\u001b[0m         iospec\u001b[38;5;241m=\u001b[39m\u001b[38;5;28mself\u001b[39m\u001b[38;5;241m.\u001b[39mregistry\u001b[38;5;241m.\u001b[39mget_spec(elem),\n\u001b[1;32m    309\u001b[0m     )\n\u001b[1;32m    310\u001b[0m \u001b[38;5;28;01melse\u001b[39;00m:\n\u001b[0;32m--> 311\u001b[0m     \u001b[38;5;28;01mreturn\u001b[39;00m \u001b[43mwrite_func\u001b[49m\u001b[43m(\u001b[49m\u001b[43mstore\u001b[49m\u001b[43m,\u001b[49m\u001b[43m \u001b[49m\u001b[43mk\u001b[49m\u001b[43m,\u001b[49m\u001b[43m \u001b[49m\u001b[43melem\u001b[49m\u001b[43m,\u001b[49m\u001b[43m \u001b[49m\u001b[43mdataset_kwargs\u001b[49m\u001b[38;5;241;43m=\u001b[39;49m\u001b[43mdataset_kwargs\u001b[49m\u001b[43m)\u001b[49m\n",
      "File \u001b[0;32m/gpfs/gsfs10/users/kanferg/conda/envs/STAligner_env/lib/python3.8/site-packages/anndata/_io/specs/registry.py:52\u001b[0m, in \u001b[0;36mwrite_spec.<locals>.decorator.<locals>.wrapper\u001b[0;34m(g, k, *args, **kwargs)\u001b[0m\n\u001b[1;32m     50\u001b[0m \u001b[38;5;129m@wraps\u001b[39m(func)\n\u001b[1;32m     51\u001b[0m \u001b[38;5;28;01mdef\u001b[39;00m \u001b[38;5;21mwrapper\u001b[39m(g, k, \u001b[38;5;241m*\u001b[39margs, \u001b[38;5;241m*\u001b[39m\u001b[38;5;241m*\u001b[39mkwargs):\n\u001b[0;32m---> 52\u001b[0m     result \u001b[38;5;241m=\u001b[39m \u001b[43mfunc\u001b[49m\u001b[43m(\u001b[49m\u001b[43mg\u001b[49m\u001b[43m,\u001b[49m\u001b[43m \u001b[49m\u001b[43mk\u001b[49m\u001b[43m,\u001b[49m\u001b[43m \u001b[49m\u001b[38;5;241;43m*\u001b[39;49m\u001b[43margs\u001b[49m\u001b[43m,\u001b[49m\u001b[43m \u001b[49m\u001b[38;5;241;43m*\u001b[39;49m\u001b[38;5;241;43m*\u001b[39;49m\u001b[43mkwargs\u001b[49m\u001b[43m)\u001b[49m\n\u001b[1;32m     53\u001b[0m     g[k]\u001b[38;5;241m.\u001b[39mattrs\u001b[38;5;241m.\u001b[39msetdefault(\u001b[38;5;124m\"\u001b[39m\u001b[38;5;124mencoding-type\u001b[39m\u001b[38;5;124m\"\u001b[39m, spec\u001b[38;5;241m.\u001b[39mencoding_type)\n\u001b[1;32m     54\u001b[0m     g[k]\u001b[38;5;241m.\u001b[39mattrs\u001b[38;5;241m.\u001b[39msetdefault(\u001b[38;5;124m\"\u001b[39m\u001b[38;5;124mencoding-version\u001b[39m\u001b[38;5;124m\"\u001b[39m, spec\u001b[38;5;241m.\u001b[39mencoding_version)\n",
      "File \u001b[0;32m/gpfs/gsfs10/users/kanferg/conda/envs/STAligner_env/lib/python3.8/site-packages/anndata/_io/specs/methods.py:281\u001b[0m, in \u001b[0;36mwrite_mapping\u001b[0;34m(f, k, v, _writer, dataset_kwargs)\u001b[0m\n\u001b[1;32m    279\u001b[0m g \u001b[38;5;241m=\u001b[39m f\u001b[38;5;241m.\u001b[39mcreate_group(k)\n\u001b[1;32m    280\u001b[0m \u001b[38;5;28;01mfor\u001b[39;00m sub_k, sub_v \u001b[38;5;129;01min\u001b[39;00m v\u001b[38;5;241m.\u001b[39mitems():\n\u001b[0;32m--> 281\u001b[0m     \u001b[43m_writer\u001b[49m\u001b[38;5;241;43m.\u001b[39;49m\u001b[43mwrite_elem\u001b[49m\u001b[43m(\u001b[49m\u001b[43mg\u001b[49m\u001b[43m,\u001b[49m\u001b[43m \u001b[49m\u001b[43msub_k\u001b[49m\u001b[43m,\u001b[49m\u001b[43m \u001b[49m\u001b[43msub_v\u001b[49m\u001b[43m,\u001b[49m\u001b[43m \u001b[49m\u001b[43mdataset_kwargs\u001b[49m\u001b[38;5;241;43m=\u001b[39;49m\u001b[43mdataset_kwargs\u001b[49m\u001b[43m)\u001b[49m\n",
      "File \u001b[0;32m/gpfs/gsfs10/users/kanferg/conda/envs/STAligner_env/lib/python3.8/site-packages/anndata/_io/utils.py:248\u001b[0m, in \u001b[0;36mreport_write_key_on_error.<locals>.func_wrapper\u001b[0;34m(*args, **kwargs)\u001b[0m\n\u001b[1;32m    246\u001b[0m     \u001b[38;5;28;01mreturn\u001b[39;00m func(\u001b[38;5;241m*\u001b[39margs, \u001b[38;5;241m*\u001b[39m\u001b[38;5;241m*\u001b[39mkwargs)\n\u001b[1;32m    247\u001b[0m \u001b[38;5;28;01mexcept\u001b[39;00m \u001b[38;5;167;01mException\u001b[39;00m \u001b[38;5;28;01mas\u001b[39;00m e:\n\u001b[0;32m--> 248\u001b[0m     \u001b[43mre_raise_error\u001b[49m\u001b[43m(\u001b[49m\u001b[43me\u001b[49m\u001b[43m,\u001b[49m\u001b[43m \u001b[49m\u001b[43melem\u001b[49m\u001b[43m,\u001b[49m\u001b[43m \u001b[49m\u001b[43mkey\u001b[49m\u001b[43m)\u001b[49m\n",
      "File \u001b[0;32m/gpfs/gsfs10/users/kanferg/conda/envs/STAligner_env/lib/python3.8/site-packages/anndata/_io/utils.py:229\u001b[0m, in \u001b[0;36mreport_write_key_on_error.<locals>.re_raise_error\u001b[0;34m(e, elem, key)\u001b[0m\n\u001b[1;32m    227\u001b[0m \u001b[38;5;28;01melse\u001b[39;00m:\n\u001b[1;32m    228\u001b[0m     parent \u001b[38;5;241m=\u001b[39m _get_parent(elem)\n\u001b[0;32m--> 229\u001b[0m     \u001b[38;5;28;01mraise\u001b[39;00m \u001b[38;5;28mtype\u001b[39m(e)(\n\u001b[1;32m    230\u001b[0m         \u001b[38;5;124mf\u001b[39m\u001b[38;5;124m\"\u001b[39m\u001b[38;5;132;01m{\u001b[39;00me\u001b[38;5;132;01m}\u001b[39;00m\u001b[38;5;130;01m\\n\u001b[39;00m\u001b[38;5;130;01m\\n\u001b[39;00m\u001b[38;5;124m\"\u001b[39m\n\u001b[1;32m    231\u001b[0m         \u001b[38;5;124mf\u001b[39m\u001b[38;5;124m\"\u001b[39m\u001b[38;5;124mAbove error raised while writing key \u001b[39m\u001b[38;5;132;01m{\u001b[39;00mkey\u001b[38;5;132;01m!r}\u001b[39;00m\u001b[38;5;124m of \u001b[39m\u001b[38;5;132;01m{\u001b[39;00m\u001b[38;5;28mtype\u001b[39m(elem)\u001b[38;5;132;01m}\u001b[39;00m\u001b[38;5;124m \u001b[39m\u001b[38;5;124m\"\u001b[39m\n\u001b[1;32m    232\u001b[0m         \u001b[38;5;124mf\u001b[39m\u001b[38;5;124m\"\u001b[39m\u001b[38;5;124mto \u001b[39m\u001b[38;5;132;01m{\u001b[39;00mparent\u001b[38;5;132;01m}\u001b[39;00m\u001b[38;5;124m\"\u001b[39m\n\u001b[1;32m    233\u001b[0m     ) \u001b[38;5;28;01mfrom\u001b[39;00m \u001b[38;5;21;01me\u001b[39;00m\n",
      "\u001b[0;31mIORegistryError\u001b[0m: No method registered for writing <class 'tuple'> into <class 'h5py._hl.group.Group'>\n\nAbove error raised while writing key 'edgeList' of <class 'h5py._hl.group.Group'> to /"
     ]
    }
   ],
   "source": [
    "path_temp = \"/data/kanferg/Sptial_Omics/projects/NguyenLab/spatialomicstoolkit/staligner_temp\"\n",
    "andata_save = adata_concat.copy()\n",
    "andata_save.write_h5ad(os.path.join(path_temp, \"andata_stalignTemp.h5ad\"))"
   ]
  },
  {
   "cell_type": "code",
   "execution_count": 22,
   "id": "70feeaa3",
   "metadata": {},
   "outputs": [
    {
     "name": "stdout",
     "output_type": "stream",
     "text": [
      "STAligner(\n",
      "  (conv1): GATConv(2000, 512, heads=1)\n",
      "  (conv2): GATConv(512, 30, heads=1)\n",
      "  (conv3): GATConv(30, 512, heads=1)\n",
      "  (conv4): GATConv(512, 2000, heads=1)\n",
      ")\n",
      "Pretrain with STAGATE...\n"
     ]
    },
    {
     "name": "stderr",
     "output_type": "stream",
     "text": [
      "  0%|                                                                                      | 0/500 [00:00<?, ?it/s]\n"
     ]
    },
    {
     "ename": "RuntimeError",
     "evalue": "CUDA error: CUBLAS_STATUS_EXECUTION_FAILED when calling `cublasSgemm( handle, opa, opb, m, n, k, &alpha, a, lda, b, ldb, &beta, c, ldc)`",
     "output_type": "error",
     "traceback": [
      "\u001b[0;31m---------------------------------------------------------------------------\u001b[0m",
      "\u001b[0;31mRuntimeError\u001b[0m                              Traceback (most recent call last)",
      "Cell \u001b[0;32mIn[22], line 1\u001b[0m\n\u001b[0;32m----> 1\u001b[0m adata_concat \u001b[38;5;241m=\u001b[39m \u001b[43mSTAligner\u001b[49m\u001b[38;5;241;43m.\u001b[39;49m\u001b[43mtrain_STAligner\u001b[49m\u001b[43m(\u001b[49m\u001b[43madata_concat\u001b[49m\u001b[43m,\u001b[49m\u001b[43m \u001b[49m\u001b[43mverbose\u001b[49m\u001b[38;5;241;43m=\u001b[39;49m\u001b[38;5;28;43;01mTrue\u001b[39;49;00m\u001b[43m,\u001b[49m\u001b[43m \u001b[49m\u001b[43mknn_neigh\u001b[49m\u001b[43m \u001b[49m\u001b[38;5;241;43m=\u001b[39;49m\u001b[43m \u001b[49m\u001b[38;5;241;43m10\u001b[39;49m\u001b[43m,\u001b[49m\u001b[43mmargin\u001b[49m\u001b[38;5;241;43m=\u001b[39;49m\u001b[38;5;241;43m1\u001b[39;49m\u001b[43m,\u001b[49m\u001b[43m \u001b[49m\u001b[43miter_comb\u001b[49m\u001b[43m \u001b[49m\u001b[38;5;241;43m=\u001b[39;49m\u001b[43m \u001b[49m\u001b[38;5;28;43;01mNone\u001b[39;49;00m\u001b[43m,\u001b[49m\u001b[43m  \u001b[49m\u001b[43mdevice\u001b[49m\u001b[38;5;241;43m=\u001b[39;49m\u001b[43mused_device\u001b[49m\u001b[43m)\u001b[49m\n",
      "File \u001b[0;32m/gpfs/gsfs10/users/kanferg/conda/envs/STAligner_env/lib/python3.8/site-packages/STAligner-1.0.0-py3.8.egg/STAligner/train_STAligner.py:168\u001b[0m, in \u001b[0;36mtrain_STAligner\u001b[0;34m(adata, hidden_dims, n_epochs, lr, key_added, gradient_clipping, weight_decay, margin, verbose, random_seed, iter_comb, knn_neigh, device)\u001b[0m\n\u001b[1;32m    166\u001b[0m model\u001b[38;5;241m.\u001b[39mtrain()\n\u001b[1;32m    167\u001b[0m optimizer\u001b[38;5;241m.\u001b[39mzero_grad()\n\u001b[0;32m--> 168\u001b[0m z, out \u001b[38;5;241m=\u001b[39m \u001b[43mmodel\u001b[49m\u001b[43m(\u001b[49m\u001b[43mdata\u001b[49m\u001b[38;5;241;43m.\u001b[39;49m\u001b[43mx\u001b[49m\u001b[43m,\u001b[49m\u001b[43m \u001b[49m\u001b[43mdata\u001b[49m\u001b[38;5;241;43m.\u001b[39;49m\u001b[43medge_index\u001b[49m\u001b[43m)\u001b[49m\n\u001b[1;32m    170\u001b[0m loss \u001b[38;5;241m=\u001b[39m F\u001b[38;5;241m.\u001b[39mmse_loss(data\u001b[38;5;241m.\u001b[39mx, out)\n\u001b[1;32m    171\u001b[0m loss\u001b[38;5;241m.\u001b[39mbackward()\n",
      "File \u001b[0;32m/gpfs/gsfs10/users/kanferg/conda/envs/STAligner_env/lib/python3.8/site-packages/torch/nn/modules/module.py:1051\u001b[0m, in \u001b[0;36mModule._call_impl\u001b[0;34m(self, *input, **kwargs)\u001b[0m\n\u001b[1;32m   1047\u001b[0m \u001b[38;5;66;03m# If we don't have any hooks, we want to skip the rest of the logic in\u001b[39;00m\n\u001b[1;32m   1048\u001b[0m \u001b[38;5;66;03m# this function, and just call forward.\u001b[39;00m\n\u001b[1;32m   1049\u001b[0m \u001b[38;5;28;01mif\u001b[39;00m \u001b[38;5;129;01mnot\u001b[39;00m (\u001b[38;5;28mself\u001b[39m\u001b[38;5;241m.\u001b[39m_backward_hooks \u001b[38;5;129;01mor\u001b[39;00m \u001b[38;5;28mself\u001b[39m\u001b[38;5;241m.\u001b[39m_forward_hooks \u001b[38;5;129;01mor\u001b[39;00m \u001b[38;5;28mself\u001b[39m\u001b[38;5;241m.\u001b[39m_forward_pre_hooks \u001b[38;5;129;01mor\u001b[39;00m _global_backward_hooks\n\u001b[1;32m   1050\u001b[0m         \u001b[38;5;129;01mor\u001b[39;00m _global_forward_hooks \u001b[38;5;129;01mor\u001b[39;00m _global_forward_pre_hooks):\n\u001b[0;32m-> 1051\u001b[0m     \u001b[38;5;28;01mreturn\u001b[39;00m \u001b[43mforward_call\u001b[49m\u001b[43m(\u001b[49m\u001b[38;5;241;43m*\u001b[39;49m\u001b[38;5;28;43minput\u001b[39;49m\u001b[43m,\u001b[49m\u001b[43m \u001b[49m\u001b[38;5;241;43m*\u001b[39;49m\u001b[38;5;241;43m*\u001b[39;49m\u001b[43mkwargs\u001b[49m\u001b[43m)\u001b[49m\n\u001b[1;32m   1052\u001b[0m \u001b[38;5;66;03m# Do not call functions when jit is used\u001b[39;00m\n\u001b[1;32m   1053\u001b[0m full_backward_hooks, non_full_backward_hooks \u001b[38;5;241m=\u001b[39m [], []\n",
      "File \u001b[0;32m/gpfs/gsfs10/users/kanferg/conda/envs/STAligner_env/lib/python3.8/site-packages/STAligner-1.0.0-py3.8.egg/STAligner/STALIGNER.py:27\u001b[0m, in \u001b[0;36mSTAligner.forward\u001b[0;34m(self, features, edge_index)\u001b[0m\n\u001b[1;32m     25\u001b[0m \u001b[38;5;28;01mdef\u001b[39;00m \u001b[38;5;21mforward\u001b[39m(\u001b[38;5;28mself\u001b[39m, features, edge_index):\n\u001b[0;32m---> 27\u001b[0m     h1 \u001b[38;5;241m=\u001b[39m F\u001b[38;5;241m.\u001b[39melu(\u001b[38;5;28;43mself\u001b[39;49m\u001b[38;5;241;43m.\u001b[39;49m\u001b[43mconv1\u001b[49m\u001b[43m(\u001b[49m\u001b[43mfeatures\u001b[49m\u001b[43m,\u001b[49m\u001b[43m \u001b[49m\u001b[43medge_index\u001b[49m\u001b[43m)\u001b[49m)\n\u001b[1;32m     28\u001b[0m     h2 \u001b[38;5;241m=\u001b[39m \u001b[38;5;28mself\u001b[39m\u001b[38;5;241m.\u001b[39mconv2(h1, edge_index, attention\u001b[38;5;241m=\u001b[39m\u001b[38;5;28;01mFalse\u001b[39;00m)\n\u001b[1;32m     29\u001b[0m     \u001b[38;5;28mself\u001b[39m\u001b[38;5;241m.\u001b[39mconv3\u001b[38;5;241m.\u001b[39mlin_src\u001b[38;5;241m.\u001b[39mdata \u001b[38;5;241m=\u001b[39m \u001b[38;5;28mself\u001b[39m\u001b[38;5;241m.\u001b[39mconv2\u001b[38;5;241m.\u001b[39mlin_src\u001b[38;5;241m.\u001b[39mtranspose(\u001b[38;5;241m0\u001b[39m, \u001b[38;5;241m1\u001b[39m)\n",
      "File \u001b[0;32m/gpfs/gsfs10/users/kanferg/conda/envs/STAligner_env/lib/python3.8/site-packages/torch/nn/modules/module.py:1051\u001b[0m, in \u001b[0;36mModule._call_impl\u001b[0;34m(self, *input, **kwargs)\u001b[0m\n\u001b[1;32m   1047\u001b[0m \u001b[38;5;66;03m# If we don't have any hooks, we want to skip the rest of the logic in\u001b[39;00m\n\u001b[1;32m   1048\u001b[0m \u001b[38;5;66;03m# this function, and just call forward.\u001b[39;00m\n\u001b[1;32m   1049\u001b[0m \u001b[38;5;28;01mif\u001b[39;00m \u001b[38;5;129;01mnot\u001b[39;00m (\u001b[38;5;28mself\u001b[39m\u001b[38;5;241m.\u001b[39m_backward_hooks \u001b[38;5;129;01mor\u001b[39;00m \u001b[38;5;28mself\u001b[39m\u001b[38;5;241m.\u001b[39m_forward_hooks \u001b[38;5;129;01mor\u001b[39;00m \u001b[38;5;28mself\u001b[39m\u001b[38;5;241m.\u001b[39m_forward_pre_hooks \u001b[38;5;129;01mor\u001b[39;00m _global_backward_hooks\n\u001b[1;32m   1050\u001b[0m         \u001b[38;5;129;01mor\u001b[39;00m _global_forward_hooks \u001b[38;5;129;01mor\u001b[39;00m _global_forward_pre_hooks):\n\u001b[0;32m-> 1051\u001b[0m     \u001b[38;5;28;01mreturn\u001b[39;00m \u001b[43mforward_call\u001b[49m\u001b[43m(\u001b[49m\u001b[38;5;241;43m*\u001b[39;49m\u001b[38;5;28;43minput\u001b[39;49m\u001b[43m,\u001b[49m\u001b[43m \u001b[49m\u001b[38;5;241;43m*\u001b[39;49m\u001b[38;5;241;43m*\u001b[39;49m\u001b[43mkwargs\u001b[49m\u001b[43m)\u001b[49m\n\u001b[1;32m   1052\u001b[0m \u001b[38;5;66;03m# Do not call functions when jit is used\u001b[39;00m\n\u001b[1;32m   1053\u001b[0m full_backward_hooks, non_full_backward_hooks \u001b[38;5;241m=\u001b[39m [], []\n",
      "File \u001b[0;32m/gpfs/gsfs10/users/kanferg/conda/envs/STAligner_env/lib/python3.8/site-packages/STAligner-1.0.0-py3.8.egg/STAligner/gat_conv.py:141\u001b[0m, in \u001b[0;36mGATConv.forward\u001b[0;34m(self, x, edge_index, prune_edge_index, size, return_attention_weights, attention, tied_attention)\u001b[0m\n\u001b[1;32m    139\u001b[0m     \u001b[38;5;28;01massert\u001b[39;00m x\u001b[38;5;241m.\u001b[39mdim() \u001b[38;5;241m==\u001b[39m \u001b[38;5;241m2\u001b[39m, \u001b[38;5;124m\"\u001b[39m\u001b[38;5;124mStatic graphs not supported in \u001b[39m\u001b[38;5;124m'\u001b[39m\u001b[38;5;124mGATConv\u001b[39m\u001b[38;5;124m'\u001b[39m\u001b[38;5;124m\"\u001b[39m\n\u001b[1;32m    140\u001b[0m     \u001b[38;5;66;03m# x_src = x_dst = self.lin_src(x).view(-1, H, C)\u001b[39;00m\n\u001b[0;32m--> 141\u001b[0m     x_src \u001b[38;5;241m=\u001b[39m x_dst \u001b[38;5;241m=\u001b[39m \u001b[43mtorch\u001b[49m\u001b[38;5;241;43m.\u001b[39;49m\u001b[43mmm\u001b[49m\u001b[43m(\u001b[49m\u001b[43mx\u001b[49m\u001b[43m,\u001b[49m\u001b[43m \u001b[49m\u001b[38;5;28;43mself\u001b[39;49m\u001b[38;5;241;43m.\u001b[39;49m\u001b[43mlin_src\u001b[49m\u001b[43m)\u001b[49m\u001b[38;5;241m.\u001b[39mview(\u001b[38;5;241m-\u001b[39m\u001b[38;5;241m1\u001b[39m, H, C)\n\u001b[1;32m    142\u001b[0m \u001b[38;5;28;01melse\u001b[39;00m:  \u001b[38;5;66;03m# Tuple of source and target node features:\u001b[39;00m\n\u001b[1;32m    143\u001b[0m     x_src, x_dst \u001b[38;5;241m=\u001b[39m x\n",
      "\u001b[0;31mRuntimeError\u001b[0m: CUDA error: CUBLAS_STATUS_EXECUTION_FAILED when calling `cublasSgemm( handle, opa, opb, m, n, k, &alpha, a, lda, b, ldb, &beta, c, ldc)`"
     ]
    }
   ],
   "source": [
    "adata_concat = STAligner.train_STAligner(adata_concat, verbose=True, knn_neigh = 10,margin=1, iter_comb = None,  device=used_device)"
   ]
  },
  {
   "cell_type": "code",
   "execution_count": null,
   "id": "84b51b1d",
   "metadata": {},
   "outputs": [],
   "source": []
  }
 ],
 "metadata": {
  "kernelspec": {
   "display_name": "Python 3 (ipykernel)",
   "language": "python",
   "name": "python3"
  },
  "language_info": {
   "codemirror_mode": {
    "name": "ipython",
    "version": 3
   },
   "file_extension": ".py",
   "mimetype": "text/x-python",
   "name": "python",
   "nbconvert_exporter": "python",
   "pygments_lexer": "ipython3",
   "version": "3.11.9"
  }
 },
 "nbformat": 4,
 "nbformat_minor": 5
}
