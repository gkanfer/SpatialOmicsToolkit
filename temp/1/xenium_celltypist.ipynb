{
 "cells": [
  {
   "cell_type": "markdown",
   "id": "b53a713b",
   "metadata": {},
   "source": [
    "The [Tabula Muris](https://docs.scvi-tools.org/en/stable/tutorials/notebooks/scrna/tabula_muris.html) was downloded using this bash file:\n",
    "```bash\n",
    "sbatch download_tubala_muris.sh\n",
    "```\n",
    "then should select skin sample by using:\n",
    "```Python\n",
    "pd.uniqe(tm_droplet.obs.tissue)\n",
    "pd.uniqe(tm_facs.obs.tissue)\n",
    "```"
   ]
  },
  {
   "cell_type": "code",
   "execution_count": 3,
   "id": "000b44ee",
   "metadata": {},
   "outputs": [],
   "source": [
    "import scanpy as sc\n",
    "import os\n",
    "import pandas as pd\n",
    "import numpy as np\n",
    "import matplotlib.pyplot as plt\n",
    "import seaborn as sns\n",
    "import celltypist\n",
    "from celltypist import models\n",
    "import anndata as ad"
   ]
  },
  {
   "cell_type": "code",
   "execution_count": 4,
   "id": "0a72b765",
   "metadata": {},
   "outputs": [],
   "source": [
    "import warnings\n",
    "warnings.simplefilter(\"ignore\", FutureWarning)\n",
    "warnings.simplefilter(\"ignore\", UserWarning)\n",
    "warnings.simplefilter(\"ignore\", RuntimeWarning)"
   ]
  },
  {
   "cell_type": "code",
   "execution_count": 5,
   "id": "b853fe9f",
   "metadata": {},
   "outputs": [],
   "source": [
    "rdata = sc.read_h5ad(\"/data/kanferg/Sptial_Omics/projects/NguyenLab/data/czi/Guimaraes_et_al.h5ad\")\n",
    "list_rdata = []\n",
    "list_rdata.append(rdata[(rdata.obs['disease_ontology_term_id']=='MONDO:0005105')])\n",
    "list_rdata.append(rdata[(rdata.obs['disease_ontology_term_id']=='MONDO:0006486')])\n",
    "rdata_concat = ad.concat(list_rdata)"
   ]
  },
  {
   "cell_type": "code",
   "execution_count": 6,
   "id": "c06eb97d",
   "metadata": {},
   "outputs": [
    {
     "name": "stdout",
     "output_type": "stream",
     "text": [
      "                      Dataset                               Description\n",
      "0   llaticaudata_gene_ensembl  Blue-ringed sea krait genes (latLat_1.0)\n",
      "1  tnigroviridis_gene_ensembl           Tetraodon genes (TETRAODON 8.0)\n",
      "2    nleucogenys_gene_ensembl                   Gibbon genes (Nleu_3.0)\n",
      "3        bbbison_gene_ensembl       American bison genes (Bison_UMD1.0)\n",
      "4        vvulpes_gene_ensembl                 Red fox genes (VulVul2.2)\n"
     ]
    }
   ],
   "source": [
    "from gseapy import Biomart\n",
    "# Initialize Biomart with a specific host\n",
    "try:\n",
    "    bm = Biomart(host=\"useast.ensembl.org\")\n",
    "    datasets = bm.get_datasets()\n",
    "    print(datasets.head())\n",
    "except Exception as e:\n",
    "    print(\"An error occurred while fetching data from BioMart:\", e)"
   ]
  },
  {
   "cell_type": "code",
   "execution_count": 7,
   "id": "a3ffe55d",
   "metadata": {},
   "outputs": [],
   "source": [
    "h2m =  bm.query(dataset='hsapiens_gene_ensembl',\n",
    "               attributes=['ensembl_gene_id','external_gene_name',\n",
    "                           'mmusculus_homolog_ensembl_gene',\n",
    "                           'mmusculus_homolog_associated_gene_name'])\n",
    "h2m = h2m.dropna(subset=['mmusculus_homolog_associated_gene_name'])\n",
    "h2m_dict = {h:m for h,m in zip(h2m['ensembl_gene_id'].values,h2m['mmusculus_homolog_associated_gene_name'].values)}\n",
    "rdata_concat.var['mouse_id'] = \"0\"\n",
    "var_in = [h2m_dict[ens] if ens in list(h2m_dict.keys()) else \"0\" for ens in rdata_concat.var_names.values ]\n",
    "rdata_concat.var['mouse_id'] = var_in\n",
    "rdata_concat_mouse_symb = rdata_concat[:,rdata_concat.var['mouse_id']!=\"0\"].copy()\n",
    "del rdata_concat\n",
    "rdata_concat_mouse_symb.var_names = rdata_concat_mouse_symb.var[\"mouse_id\"].values\n",
    "rdata_concat_mouse_symb_a = rdata_concat_mouse_symb[:, ~rdata_concat_mouse_symb.var_names.duplicated()].copy()  # For genes\n",
    "rdata_concat_mouse_symb_b = rdata_concat_mouse_symb_a[~rdata_concat_mouse_symb_a.obs_names.duplicated(), :].copy()\n",
    "rdata_concat_mouse_symb_b.var_names_make_unique()"
   ]
  },
  {
   "cell_type": "code",
   "execution_count": 10,
   "id": "223db7bd",
   "metadata": {},
   "outputs": [
    {
     "data": {
      "text/plain": [
       "['Smart-seq2', '10x 5' v2', '10x 3' v2', '10x 3' v3']\n",
       "Categories (4, object): ['10x 3' v2', '10x 3' v3', '10x 5' v2', 'Smart-seq2']"
      ]
     },
     "execution_count": 10,
     "metadata": {},
     "output_type": "execute_result"
    }
   ],
   "source": [
    "pd.unique(rdata_concat_mouse_symb_b.obs['assay'])"
   ]
  },
  {
   "cell_type": "code",
   "execution_count": null,
   "id": "629e1ec0",
   "metadata": {},
   "outputs": [],
   "source": [
    "tm_droplet = sc.read_h5ad('/data/kanferg/Sptial_Omics/projects/NguyenLab/data/czi/TM_droplet.h5ad')\n",
    "tm_facs = sc.read_h5ad('/data/kanferg/Sptial_Omics/projects/NguyenLab/data/czi/TM_facs.h5ad')\n",
    "gene_len = pd.read_csv(\n",
    "    \"https://raw.githubusercontent.com/chenlingantelope/HarmonizationSCANVI/master/data/gene_len.txt\",\n",
    "    delimiter=\" \",\n",
    "    header=None,\n",
    "    index_col=0,\n",
    ")\n",
    "tm_droplet.obs['CellType'] = tm_droplet.obs['cell_ontology_class']\n",
    "tm_facs.obs['CellType'] = tm_facs.obs['cell_ontology_class']\n",
    "rdata_concat_mouse_symb_b.obs['CellType'] = rdata_concat_mouse_symb_b.obs['author_cell_type']\n",
    "gene_len = gene_len.reindex(tm_facs.var.index).dropna()\n",
    "tm_facs = tm_facs[:, gene_len.index]\n",
    "assert (tm_facs.var.index == gene_len.index).sum() == tm_facs.shape[1]\n",
    "tm_facs.X = tm_facs.X / gene_len[1].values * np.median(gene_len[1].values)\n",
    "# round to integer\n",
    "tm_facs.X = np.rint(tm_facs.X)"
   ]
  },
  {
   "cell_type": "code",
   "execution_count": null,
   "id": "b0466255",
   "metadata": {},
   "outputs": [],
   "source": []
  },
  {
   "cell_type": "code",
   "execution_count": null,
   "id": "1ebe6086",
   "metadata": {},
   "outputs": [],
   "source": []
  },
  {
   "cell_type": "code",
   "execution_count": null,
   "id": "3d199cb2",
   "metadata": {},
   "outputs": [],
   "source": []
  }
 ],
 "metadata": {
  "kernelspec": {
   "display_name": "Python 3 (ipykernel)",
   "language": "python",
   "name": "python3"
  },
  "language_info": {
   "codemirror_mode": {
    "name": "ipython",
    "version": 3
   },
   "file_extension": ".py",
   "mimetype": "text/x-python",
   "name": "python",
   "nbconvert_exporter": "python",
   "pygments_lexer": "ipython3",
   "version": "3.12.7"
  }
 },
 "nbformat": 4,
 "nbformat_minor": 5
}
