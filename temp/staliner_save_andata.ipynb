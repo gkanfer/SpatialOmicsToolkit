{
 "cells": [
  {
   "cell_type": "markdown",
   "id": "04369c8c-907d-4589-8b64-77d712a4ee33",
   "metadata": {},
   "source": [
    "Anndata read in staligner module is not working. Save minimum Anndata for stagliner  "
   ]
  },
  {
   "cell_type": "code",
   "execution_count": 1,
   "id": "081b50e8-a4a8-43b2-84d5-e6c7022f2d2b",
   "metadata": {},
   "outputs": [
    {
     "name": "stderr",
     "output_type": "stream",
     "text": [
      "/gpfs/gsfs10/users/kanferg/conda/envs/stlearn-env/lib/python3.8/site-packages/stlearn/tools/microenv/cci/het.py:192: NumbaDeprecationWarning: \u001b[1mThe keyword argument 'nopython=False' was supplied. From Numba 0.59.0 the default is being changed to True and use of 'nopython=False' will raise a warning as the argument will have no effect. See https://numba.readthedocs.io/en/stable/reference/deprecation.html#deprecation-of-object-mode-fall-back-behaviour-when-using-jit for details.\u001b[0m\n",
      "  @jit(parallel=True, nopython=False)\n"
     ]
    }
   ],
   "source": [
    "import cupy as cp\n",
    "import cupyx\n",
    "import scanpy as sc\n",
    "import stlearn as st\n",
    "import scanpy as sc\n",
    "import numpy as np\n",
    "from cupyx.scipy.sparse import csr_matrix\n",
    "import os\n",
    "from PIL import Image\n",
    "import matplotlib.pyplot as plt\n",
    "from matplotlib.colors import ListedColormap\n",
    "from matplotlib.colors import LinearSegmentedColormap\n",
    "from matplotlib.backends.backend_pdf import PdfPages\n",
    "import seaborn as sns\n",
    "import random\n",
    "import pandas as pd"
   ]
  },
  {
   "cell_type": "code",
   "execution_count": 30,
   "id": "4a1ad2d6-cf2b-4d95-9edd-7144baa280e5",
   "metadata": {},
   "outputs": [],
   "source": [
    "pathout = '/data/kanferg/Sptial_Omics/projects/NguyenLab/spatialomicstoolkit/out_1'"
   ]
  },
  {
   "cell_type": "code",
   "execution_count": 31,
   "id": "0d4e4bb2-7366-4fc7-8b41-d98162ffabb6",
   "metadata": {},
   "outputs": [
    {
     "data": {
      "text/plain": [
       "AnnData object with n_obs × n_vars = 664093 × 2000\n",
       "    obs: 'cell_id', 'transcript_counts', 'control_probe_counts', 'genomic_control_counts', 'control_codeword_counts', 'unassigned_codeword_counts', 'deprecated_codeword_counts', 'total_counts', 'cell_area', 'nucleus_area', 'nucleus_count', 'segmentation_method', 'region', 'z_level', 'cell_labels', 'batch', 'n_genes_by_counts', 'log1p_n_genes_by_counts', 'log1p_total_counts', 'outlier'\n",
       "    var: 'n_cells_by_counts', 'total_counts', 'mean_counts', 'pct_dropout_by_counts', 'log1p_total_counts', 'log1p_mean_counts', 'highly_variable', 'highly_variable_rank', 'means', 'variances', 'variances_norm'\n",
       "    uns: 'hvg', 'log1p'\n",
       "    obsm: 'spatial'\n",
       "    layers: 'counts', 'log'"
      ]
     },
     "execution_count": 31,
     "metadata": {},
     "output_type": "execute_result"
    }
   ],
   "source": [
    "adata_concat = sc.read_h5ad(os.path.join(pathout, \"andata_filter_logNorm_hvg.h5ad\"))\n",
    "adata_concat"
   ]
  },
  {
   "cell_type": "code",
   "execution_count": 32,
   "id": "84982f65-fd19-4aef-b631-e374dcc8a099",
   "metadata": {},
   "outputs": [],
   "source": [
    "del adata_concat.layers \n",
    "del adata_concat.uns "
   ]
  },
  {
   "cell_type": "code",
   "execution_count": 33,
   "id": "5dcacefc-e177-4501-9c0c-52ecf764cd7c",
   "metadata": {},
   "outputs": [],
   "source": [
    "obs_column = ['transcript_counts', 'control_probe_counts', 'genomic_control_counts', 'control_codeword_counts', 'unassigned_codeword_counts', 'deprecated_codeword_counts', 'total_counts', 'cell_area', 'nucleus_area', 'nucleus_count', 'segmentation_method', 'region', 'z_level', 'cell_labels','n_genes_by_counts', 'log1p_n_genes_by_counts', 'log1p_total_counts', 'outlier']\n",
    "for o in obs_column:\n",
    "    del adata_concat.obs[o]"
   ]
  },
  {
   "cell_type": "code",
   "execution_count": 34,
   "id": "f96cdb2c-8bc5-49a2-82e6-be3e2ba1c565",
   "metadata": {},
   "outputs": [
    {
     "data": {
      "text/plain": [
       "AnnData object with n_obs × n_vars = 664093 × 2000\n",
       "    obs: 'cell_id', 'batch'\n",
       "    var: 'n_cells_by_counts', 'total_counts', 'mean_counts', 'pct_dropout_by_counts', 'log1p_total_counts', 'log1p_mean_counts', 'highly_variable', 'highly_variable_rank', 'means', 'variances', 'variances_norm'\n",
       "    obsm: 'spatial'"
      ]
     },
     "execution_count": 34,
     "metadata": {},
     "output_type": "execute_result"
    }
   ],
   "source": [
    "adata_concat"
   ]
  },
  {
   "cell_type": "code",
   "execution_count": 35,
   "id": "da7aa885-5ac1-4caa-8ae6-ee13313d3635",
   "metadata": {},
   "outputs": [],
   "source": [
    "var_column = ['mean_counts', 'pct_dropout_by_counts', 'log1p_total_counts', 'log1p_mean_counts', 'highly_variable', 'highly_variable_rank', 'means', 'variances', 'variances_norm']\n",
    "for v in var_column:\n",
    "    del adata_concat.var[v]"
   ]
  },
  {
   "cell_type": "code",
   "execution_count": 36,
   "id": "4864fd35-8b92-415d-b494-48c7122cc79e",
   "metadata": {},
   "outputs": [
    {
     "name": "stdout",
     "output_type": "stream",
     "text": [
      "Column 'n_cells_by_counts' has data type: int32\n",
      "Column 'total_counts' has data type: float32\n"
     ]
    }
   ],
   "source": [
    "for column in adata_concat.var.columns:\n",
    "    print(f\"Column '{column}' has data type: {adata_concat.var[column].dtype}\")"
   ]
  },
  {
   "cell_type": "code",
   "execution_count": 37,
   "id": "3bf8c2f7-150b-4925-a304-170a62dbfe94",
   "metadata": {},
   "outputs": [
    {
     "data": {
      "text/plain": [
       "24707_41     41\n",
       "24708_41     41\n",
       "24709_41     41\n",
       "24710_41     41\n",
       "24711_41     41\n",
       "             ..\n",
       "357876_42    42\n",
       "358191_42    42\n",
       "358196_42    42\n",
       "358211_42    42\n",
       "358213_42    42\n",
       "Name: batch, Length: 664093, dtype: object"
      ]
     },
     "execution_count": 37,
     "metadata": {},
     "output_type": "execute_result"
    }
   ],
   "source": [
    "adata_concat.obs['batch'].astype(str)"
   ]
  },
  {
   "cell_type": "code",
   "execution_count": 38,
   "id": "82b48d3e-0019-411a-abd1-657e3d6a638e",
   "metadata": {},
   "outputs": [],
   "source": [
    "adata_concat.obs['cell_id'] = adata_concat.obs['cell_id'].astype(str)\n",
    "adata_concat.obs['batch'] = adata_concat.obs['batch'].astype(str)"
   ]
  },
  {
   "cell_type": "code",
   "execution_count": 39,
   "id": "61131609-9048-4b7a-afea-20f7dbe0b787",
   "metadata": {},
   "outputs": [],
   "source": [
    "andata_save = adata_concat.copy()\n",
    "andata_save.write_h5ad(os.path.join(pathout, \"andata_minimum_forSTAligner.h5ad\"))"
   ]
  },
  {
   "cell_type": "code",
   "execution_count": null,
   "id": "8f3c3b35-2dc8-4a50-bf0a-4539b9c54caf",
   "metadata": {},
   "outputs": [],
   "source": []
  }
 ],
 "metadata": {
  "kernelspec": {
   "display_name": "Python 3 (ipykernel)",
   "language": "python",
   "name": "python3"
  },
  "language_info": {
   "codemirror_mode": {
    "name": "ipython",
    "version": 3
   },
   "file_extension": ".py",
   "mimetype": "text/x-python",
   "name": "python",
   "nbconvert_exporter": "python",
   "pygments_lexer": "ipython3",
   "version": "3.8.19"
  }
 },
 "nbformat": 4,
 "nbformat_minor": 5
}
