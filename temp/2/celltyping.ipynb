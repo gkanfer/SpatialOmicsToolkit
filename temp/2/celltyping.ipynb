{
 "cells": [
  {
   "cell_type": "code",
   "execution_count": 1,
   "id": "56c57c2a",
   "metadata": {},
   "outputs": [],
   "source": [
    "import scanpy as sc\n",
    "import os\n",
    "import pandas as pd\n",
    "import numpy as np\n",
    "import matplotlib.pyplot as plt\n",
    "import seaborn as sns\n",
    "import celltypist\n",
    "from celltypist import models\n",
    "import anndata as ad\n",
    "import warnings\n",
    "warnings.simplefilter(\"ignore\", FutureWarning)\n",
    "warnings.simplefilter(\"ignore\", UserWarning)\n",
    "warnings.simplefilter(\"ignore\", RuntimeWarning)"
   ]
  },
  {
   "cell_type": "code",
   "execution_count": 6,
   "id": "1ac986cc",
   "metadata": {},
   "outputs": [],
   "source": [
    "tm_droplet = sc.read_h5ad('/data/kanferg/Sptial_Omics/projects/NguyenLab/data/czi/TM_droplet.h5ad')\n",
    "tm_facs = sc.read_h5ad('/data/kanferg/Sptial_Omics/projects/NguyenLab/data/czi/TM_facs.h5ad')"
   ]
  },
  {
   "cell_type": "code",
   "execution_count": 7,
   "id": "afd46876",
   "metadata": {},
   "outputs": [],
   "source": [
    "tm_droplet = tm_droplet[tm_droplet.obs.tissue==\"Liver\"].copy()\n",
    "tm_facs = tm_facs[tm_facs.obs.tissue==\"Liver\"].copy()\n",
    "\n",
    "gene_len = pd.read_csv(\n",
    "    \"https://raw.githubusercontent.com/chenlingantelope/HarmonizationSCANVI/master/data/gene_len.txt\",\n",
    "    delimiter=\" \",\n",
    "    header=None,\n",
    "    index_col=0,\n",
    ")"
   ]
  },
  {
   "cell_type": "code",
   "execution_count": 9,
   "id": "ff3bb75d",
   "metadata": {},
   "outputs": [],
   "source": [
    "tm_droplet.obs['CellType'] = tm_droplet.obs['cell_ontology_class']\n",
    "tm_facs.obs['CellType'] = tm_facs.obs['cell_ontology_class']\n",
    "gene_len = gene_len.reindex(tm_facs.var.index).dropna()\n",
    "tm_facs = tm_facs[:, gene_len.index]\n",
    "assert (tm_facs.var.index == gene_len.index).sum() == tm_facs.shape[1]\n",
    "tm_facs.X = tm_facs.X / gene_len[1].values * np.median(gene_len[1].values)\n",
    "# round to integer\n",
    "tm_facs.X = np.rint(tm_facs.X)"
   ]
  },
  {
   "cell_type": "code",
   "execution_count": 14,
   "id": "bca88edf",
   "metadata": {},
   "outputs": [],
   "source": [
    "adata = ad.concat([tm_droplet, tm_facs],join='inner', merge='same')"
   ]
  },
  {
   "cell_type": "code",
   "execution_count": 15,
   "id": "9fe09983",
   "metadata": {},
   "outputs": [
    {
     "data": {
      "text/plain": [
       "AnnData object with n_obs × n_vars = 10153 × 18244\n",
       "    obs: 'age', 'cell', 'cell_ontology_class', 'cell_ontology_id', 'free_annotation', 'method', 'mouse.id', 'n_genes', 'sex', 'subtissue', 'tissue', 'CellType'"
      ]
     },
     "execution_count": 15,
     "metadata": {},
     "output_type": "execute_result"
    }
   ],
   "source": [
    "adata"
   ]
  },
  {
   "cell_type": "code",
   "execution_count": 16,
   "id": "76d88c81",
   "metadata": {},
   "outputs": [],
   "source": [
    "adata.layers[\"counts\"] = adata.X.copy()\n",
    "sc.pp.normalize_total(adata, target_sum=1e4)\n",
    "sc.pp.log1p(adata)"
   ]
  },
  {
   "cell_type": "code",
   "execution_count": 17,
   "id": "ac8756eb",
   "metadata": {},
   "outputs": [
    {
     "data": {
      "text/plain": [
       "AnnData object with n_obs × n_vars = 10153 × 13185\n",
       "    obs: 'age', 'cell', 'cell_ontology_class', 'cell_ontology_id', 'free_annotation', 'method', 'mouse.id', 'n_genes', 'sex', 'subtissue', 'tissue', 'CellType'\n",
       "    var: 'n_cells'\n",
       "    uns: 'log1p'\n",
       "    layers: 'counts'"
      ]
     },
     "execution_count": 17,
     "metadata": {},
     "output_type": "execute_result"
    }
   ],
   "source": [
    "sc.pp.filter_genes(adata, min_cells = 50)\n",
    "adata"
   ]
  },
  {
   "cell_type": "code",
   "execution_count": 18,
   "id": "8f601b77",
   "metadata": {},
   "outputs": [
    {
     "name": "stderr",
     "output_type": "stream",
     "text": [
      "🍳 Preparing data before training\n",
      "🔬 Input data has 10153 cells and 13185 genes\n",
      "⚖️ Scaling input data\n",
      "🏋️ Training data using SGD logistic regression\n",
      "🔎 Selecting features\n",
      "🧬 3303 features are selected\n",
      "🏋️ Starting the second round of training\n",
      "🏋️ Training data using logistic regression\n",
      "✅ Model training done!\n"
     ]
    }
   ],
   "source": [
    "ref_model = celltypist.train(adata, labels = 'CellType', n_jobs = 22,\n",
    "                            use_SGD = False,\n",
    "                            feature_selection = True, top_genes = 300)"
   ]
  },
  {
   "cell_type": "code",
   "execution_count": 29,
   "id": "9d55c4ea",
   "metadata": {},
   "outputs": [],
   "source": [
    "# del adata"
   ]
  },
  {
   "cell_type": "code",
   "execution_count": 21,
   "id": "4ac16e5f",
   "metadata": {},
   "outputs": [],
   "source": [
    "pathout = \"/data/kanferg/Sptial_Omics/projects/NatalieLab/liver_cancer/spatialomicstoolkit/out_1\"\n",
    "andata = sc.read_h5ad(os.path.join(pathout, \"andata_filter_logNorm_hvg_spatialleiden.h5ad\"))"
   ]
  },
  {
   "cell_type": "code",
   "execution_count": 22,
   "id": "2c332c3e",
   "metadata": {},
   "outputs": [],
   "source": [
    "andata.X = andata.layers['counts']\n",
    "sc.pp.normalize_total(andata, target_sum=1e4)\n",
    "sc.pp.log1p(andata)"
   ]
  },
  {
   "cell_type": "code",
   "execution_count": 24,
   "id": "76efceb3",
   "metadata": {},
   "outputs": [],
   "source": [
    "def predict_cells(adata):\n",
    "    predictions = celltypist.annotate(adata, model=ref_model, majority_voting=False)\n",
    "    predictions_adata = predictions.to_adata()\n",
    "    adata.obs[\"ref_label\"] = predictions_adata.obs.loc[adata.obs.index, \"predicted_labels\"]\n",
    "    adata.obs[\"ref_score\"] = predictions_adata.obs.loc[adata.obs.index, \"conf_score\"]\n",
    "    return adata.obs"
   ]
  },
  {
   "cell_type": "code",
   "execution_count": 25,
   "id": "ff8839a3",
   "metadata": {},
   "outputs": [
    {
     "name": "stderr",
     "output_type": "stream",
     "text": [
      "🔬 Input data has 447727 cells and 5000 genes\n",
      "🔗 Matching reference genes in the model\n",
      "🧬 878 features used for prediction\n",
      "⚖️ Scaling input data\n",
      "🖋️ Predicting labels\n",
      "✅ Prediction done!\n"
     ]
    }
   ],
   "source": [
    "predictions = predict_cells(andata)"
   ]
  },
  {
   "cell_type": "code",
   "execution_count": 26,
   "id": "6859c68e",
   "metadata": {},
   "outputs": [
    {
     "data": {
      "text/html": [
       "<div>\n",
       "<style scoped>\n",
       "    .dataframe tbody tr th:only-of-type {\n",
       "        vertical-align: middle;\n",
       "    }\n",
       "\n",
       "    .dataframe tbody tr th {\n",
       "        vertical-align: top;\n",
       "    }\n",
       "\n",
       "    .dataframe thead th {\n",
       "        text-align: right;\n",
       "    }\n",
       "</style>\n",
       "<table border=\"1\" class=\"dataframe\">\n",
       "  <thead>\n",
       "    <tr style=\"text-align: right;\">\n",
       "      <th></th>\n",
       "      <th>n_genes_by_counts</th>\n",
       "      <th>total_counts</th>\n",
       "      <th>log1p_n_genes_by_counts</th>\n",
       "      <th>log1p_total_counts</th>\n",
       "      <th>total_counts_MT</th>\n",
       "      <th>pct_counts_MT</th>\n",
       "      <th>log1p_total_counts_MT</th>\n",
       "      <th>cluster</th>\n",
       "      <th>spatialleiden</th>\n",
       "      <th>predicted_labels</th>\n",
       "      <th>conf_score</th>\n",
       "      <th>ref_label</th>\n",
       "      <th>ref_score</th>\n",
       "    </tr>\n",
       "  </thead>\n",
       "  <tbody>\n",
       "    <tr>\n",
       "      <th>s_008um_00269_00526-1</th>\n",
       "      <td>499</td>\n",
       "      <td>995.0</td>\n",
       "      <td>6.214608</td>\n",
       "      <td>6.903747</td>\n",
       "      <td>0.0</td>\n",
       "      <td>0.0</td>\n",
       "      <td>0.0</td>\n",
       "      <td>8</td>\n",
       "      <td>1</td>\n",
       "      <td>hepatocyte</td>\n",
       "      <td>0.978664</td>\n",
       "      <td>hepatocyte</td>\n",
       "      <td>0.978664</td>\n",
       "    </tr>\n",
       "    <tr>\n",
       "      <th>s_008um_00484_00168-1</th>\n",
       "      <td>262</td>\n",
       "      <td>412.0</td>\n",
       "      <td>5.572154</td>\n",
       "      <td>6.023448</td>\n",
       "      <td>0.0</td>\n",
       "      <td>0.0</td>\n",
       "      <td>0.0</td>\n",
       "      <td>3</td>\n",
       "      <td>8</td>\n",
       "      <td>hepatocyte</td>\n",
       "      <td>0.993176</td>\n",
       "      <td>hepatocyte</td>\n",
       "      <td>0.993176</td>\n",
       "    </tr>\n",
       "    <tr>\n",
       "      <th>s_008um_00547_00611-1</th>\n",
       "      <td>359</td>\n",
       "      <td>744.0</td>\n",
       "      <td>5.886104</td>\n",
       "      <td>6.613384</td>\n",
       "      <td>0.0</td>\n",
       "      <td>0.0</td>\n",
       "      <td>0.0</td>\n",
       "      <td>4</td>\n",
       "      <td>3</td>\n",
       "      <td>hepatocyte</td>\n",
       "      <td>0.998166</td>\n",
       "      <td>hepatocyte</td>\n",
       "      <td>0.998166</td>\n",
       "    </tr>\n",
       "  </tbody>\n",
       "</table>\n",
       "</div>"
      ],
      "text/plain": [
       "                       n_genes_by_counts  total_counts  \\\n",
       "s_008um_00269_00526-1                499         995.0   \n",
       "s_008um_00484_00168-1                262         412.0   \n",
       "s_008um_00547_00611-1                359         744.0   \n",
       "\n",
       "                       log1p_n_genes_by_counts  log1p_total_counts  \\\n",
       "s_008um_00269_00526-1                 6.214608            6.903747   \n",
       "s_008um_00484_00168-1                 5.572154            6.023448   \n",
       "s_008um_00547_00611-1                 5.886104            6.613384   \n",
       "\n",
       "                       total_counts_MT  pct_counts_MT  log1p_total_counts_MT  \\\n",
       "s_008um_00269_00526-1              0.0            0.0                    0.0   \n",
       "s_008um_00484_00168-1              0.0            0.0                    0.0   \n",
       "s_008um_00547_00611-1              0.0            0.0                    0.0   \n",
       "\n",
       "                      cluster spatialleiden predicted_labels  conf_score  \\\n",
       "s_008um_00269_00526-1       8             1       hepatocyte    0.978664   \n",
       "s_008um_00484_00168-1       3             8       hepatocyte    0.993176   \n",
       "s_008um_00547_00611-1       4             3       hepatocyte    0.998166   \n",
       "\n",
       "                        ref_label  ref_score  \n",
       "s_008um_00269_00526-1  hepatocyte   0.978664  \n",
       "s_008um_00484_00168-1  hepatocyte   0.993176  \n",
       "s_008um_00547_00611-1  hepatocyte   0.998166  "
      ]
     },
     "execution_count": 26,
     "metadata": {},
     "output_type": "execute_result"
    }
   ],
   "source": [
    "predictions.head(3)"
   ]
  },
  {
   "cell_type": "code",
   "execution_count": 27,
   "id": "0a783467",
   "metadata": {},
   "outputs": [
    {
     "data": {
      "text/plain": [
       "s_008um_00269_00526-1    hepatocyte\n",
       "s_008um_00484_00168-1    hepatocyte\n",
       "s_008um_00547_00611-1    hepatocyte\n",
       "s_008um_00693_00628-1    hepatocyte\n",
       "s_008um_00260_00253-1    hepatocyte\n",
       "                            ...    \n",
       "s_008um_00610_00321-1    hepatocyte\n",
       "s_008um_00565_00596-1    hepatocyte\n",
       "s_008um_00307_00022-1    hepatocyte\n",
       "s_008um_00172_00448-1    hepatocyte\n",
       "s_008um_00247_00283-1    hepatocyte\n",
       "Name: ref_label, Length: 447727, dtype: category\n",
       "Categories (5, object): ['Kupffer cell', 'NK cell', 'endothelial cell of hepatic sinusoid', 'hepatocyte', 'myeloid leukocyte']"
      ]
     },
     "execution_count": 27,
     "metadata": {},
     "output_type": "execute_result"
    }
   ],
   "source": [
    "andata.obs['ref_label']"
   ]
  },
  {
   "cell_type": "code",
   "execution_count": 28,
   "id": "7d9e2f3c",
   "metadata": {},
   "outputs": [],
   "source": [
    "# andata.obs = andata.obs.merge(right = predictions, left_index=True, right_index=True)\n",
    "# andata.obs "
   ]
  },
  {
   "cell_type": "code",
   "execution_count": 33,
   "id": "45e54e50",
   "metadata": {},
   "outputs": [
    {
     "name": "stdout",
     "output_type": "stream",
     "text": [
      "\u001b[H\u001b[2JCluster: 0\n",
      "Labels: ref_label\n",
      "hepatocyte                              76557\n",
      "endothelial cell of hepatic sinusoid      108\n",
      "Kupffer cell                                4\n",
      "NK cell                                     1\n",
      "myeloid leukocyte                           0\n",
      "Name: count, dtype: int64\n",
      "Mode: 0    hepatocyte\n",
      "Name: ref_label, dtype: category\n",
      "Categories (5, object): ['Kupffer cell', 'NK cell', 'endothelial cell of hepatic sinusoid', 'hepatocyte', 'myeloid leukocyte']\n",
      "\n",
      "Press Enter to continue to the next cluster...\n",
      "\u001b[H\u001b[2JCluster: 1\n",
      "Labels: ref_label\n",
      "hepatocyte                              64462\n",
      "Kupffer cell                              250\n",
      "endothelial cell of hepatic sinusoid       26\n",
      "NK cell                                     1\n",
      "myeloid leukocyte                           0\n",
      "Name: count, dtype: int64\n",
      "Mode: 0    hepatocyte\n",
      "Name: ref_label, dtype: category\n",
      "Categories (5, object): ['Kupffer cell', 'NK cell', 'endothelial cell of hepatic sinusoid', 'hepatocyte', 'myeloid leukocyte']\n",
      "\n",
      "Press Enter to continue to the next cluster...\n",
      "\u001b[H\u001b[2JCluster: 2\n",
      "Labels: ref_label\n",
      "hepatocyte                              54913\n",
      "endothelial cell of hepatic sinusoid       98\n",
      "Kupffer cell                               20\n",
      "myeloid leukocyte                          15\n",
      "NK cell                                     8\n",
      "Name: count, dtype: int64\n",
      "Mode: 0    hepatocyte\n",
      "Name: ref_label, dtype: category\n",
      "Categories (5, object): ['Kupffer cell', 'NK cell', 'endothelial cell of hepatic sinusoid', 'hepatocyte', 'myeloid leukocyte']\n",
      "\n",
      "Press Enter to continue to the next cluster...q\n",
      "\u001b[H\u001b[2JCluster: 3\n",
      "Labels: ref_label\n",
      "hepatocyte                              52904\n",
      "Kupffer cell                                3\n",
      "NK cell                                     0\n",
      "endothelial cell of hepatic sinusoid        0\n",
      "myeloid leukocyte                           0\n",
      "Name: count, dtype: int64\n",
      "Mode: 0    hepatocyte\n",
      "Name: ref_label, dtype: category\n",
      "Categories (5, object): ['Kupffer cell', 'NK cell', 'endothelial cell of hepatic sinusoid', 'hepatocyte', 'myeloid leukocyte']\n",
      "\n",
      "Press Enter to continue to the next cluster...qq\n",
      "\u001b[H\u001b[2JCluster: 4\n",
      "Labels: ref_label\n",
      "hepatocyte                              50883\n",
      "Kupffer cell                                1\n",
      "NK cell                                     0\n",
      "endothelial cell of hepatic sinusoid        0\n",
      "myeloid leukocyte                           0\n",
      "Name: count, dtype: int64\n",
      "Mode: 0    hepatocyte\n",
      "Name: ref_label, dtype: category\n",
      "Categories (5, object): ['Kupffer cell', 'NK cell', 'endothelial cell of hepatic sinusoid', 'hepatocyte', 'myeloid leukocyte']\n",
      "\n",
      "Press Enter to continue to the next cluster...q()\n",
      "\u001b[H\u001b[2JCluster: 5\n",
      "Labels: ref_label\n",
      "hepatocyte                              47112\n",
      "endothelial cell of hepatic sinusoid      293\n",
      "Kupffer cell                                7\n",
      "NK cell                                     0\n",
      "myeloid leukocyte                           0\n",
      "Name: count, dtype: int64\n",
      "Mode: 0    hepatocyte\n",
      "Name: ref_label, dtype: category\n",
      "Categories (5, object): ['Kupffer cell', 'NK cell', 'endothelial cell of hepatic sinusoid', 'hepatocyte', 'myeloid leukocyte']\n",
      "\n",
      "Press Enter to continue to the next cluster...\n",
      "\u001b[H\u001b[2JCluster: 6\n",
      "Labels: ref_label\n",
      "hepatocyte                              46555\n",
      "Kupffer cell                                1\n",
      "NK cell                                     0\n",
      "endothelial cell of hepatic sinusoid        0\n",
      "myeloid leukocyte                           0\n",
      "Name: count, dtype: int64\n",
      "Mode: 0    hepatocyte\n",
      "Name: ref_label, dtype: category\n",
      "Categories (5, object): ['Kupffer cell', 'NK cell', 'endothelial cell of hepatic sinusoid', 'hepatocyte', 'myeloid leukocyte']\n",
      "\n",
      "Press Enter to continue to the next cluster...\n",
      "\u001b[H\u001b[2JCluster: 7\n",
      "Labels: ref_label\n",
      "hepatocyte                              32304\n",
      "endothelial cell of hepatic sinusoid       55\n",
      "Kupffer cell                                6\n",
      "NK cell                                     0\n",
      "myeloid leukocyte                           0\n",
      "Name: count, dtype: int64\n",
      "Mode: 0    hepatocyte\n",
      "Name: ref_label, dtype: category\n",
      "Categories (5, object): ['Kupffer cell', 'NK cell', 'endothelial cell of hepatic sinusoid', 'hepatocyte', 'myeloid leukocyte']\n",
      "\n",
      "Press Enter to continue to the next cluster...\n",
      "\u001b[H\u001b[2JCluster: 8\n",
      "Labels: ref_label\n",
      "hepatocyte                              13518\n",
      "Kupffer cell                                0\n",
      "NK cell                                     0\n",
      "endothelial cell of hepatic sinusoid        0\n",
      "myeloid leukocyte                           0\n",
      "Name: count, dtype: int64\n",
      "Mode: 0    hepatocyte\n",
      "Name: ref_label, dtype: category\n",
      "Categories (5, object): ['Kupffer cell', 'NK cell', 'endothelial cell of hepatic sinusoid', 'hepatocyte', 'myeloid leukocyte']\n",
      "\n",
      "Press Enter to continue to the next cluster...\n",
      "\u001b[H\u001b[2JCluster: 9\n",
      "Labels: ref_label\n",
      "hepatocyte                              4675\n",
      "Kupffer cell                               5\n",
      "endothelial cell of hepatic sinusoid       2\n",
      "NK cell                                    0\n",
      "myeloid leukocyte                          0\n",
      "Name: count, dtype: int64\n",
      "Mode: 0    hepatocyte\n",
      "Name: ref_label, dtype: category\n",
      "Categories (5, object): ['Kupffer cell', 'NK cell', 'endothelial cell of hepatic sinusoid', 'hepatocyte', 'myeloid leukocyte']\n",
      "\n",
      "Press Enter to continue to the next cluster...\n",
      "\u001b[H\u001b[2JCluster: 10\n",
      "Labels: ref_label\n",
      "hepatocyte                              2386\n",
      "Kupffer cell                               0\n",
      "NK cell                                    0\n",
      "endothelial cell of hepatic sinusoid       0\n",
      "myeloid leukocyte                          0\n",
      "Name: count, dtype: int64\n",
      "Mode: 0    hepatocyte\n",
      "Name: ref_label, dtype: category\n",
      "Categories (5, object): ['Kupffer cell', 'NK cell', 'endothelial cell of hepatic sinusoid', 'hepatocyte', 'myeloid leukocyte']\n",
      "\n",
      "Press Enter to continue to the next cluster...\n",
      "\u001b[H\u001b[2JCluster: 11\n",
      "Labels: ref_label\n",
      "hepatocyte                              554\n",
      "Kupffer cell                              0\n",
      "NK cell                                   0\n",
      "endothelial cell of hepatic sinusoid      0\n",
      "myeloid leukocyte                         0\n",
      "Name: count, dtype: int64\n",
      "Mode: 0    hepatocyte\n",
      "Name: ref_label, dtype: category\n",
      "Categories (5, object): ['Kupffer cell', 'NK cell', 'endothelial cell of hepatic sinusoid', 'hepatocyte', 'myeloid leukocyte']\n",
      "\n",
      "Press Enter to continue to the next cluster...\n"
     ]
    }
   ],
   "source": [
    "import sys\n",
    "for cluster, group in andata.obs.groupby('spatialleiden'):\n",
    "    # Clear the console\n",
    "    os.system('cls' if os.name == 'nt' else 'clear')\n",
    "    print(f\"Cluster: {cluster}\")\n",
    "    print(f\"Labels: {group['ref_label'].value_counts()}\")\n",
    "    print(f\"Mode: {group['ref_label'].mode()}\")\n",
    "    # Wait for user response\n",
    "    \n",
    "    input(\"\\nPress Enter to continue to the next cluster...\")"
   ]
  },
  {
   "cell_type": "code",
   "execution_count": null,
   "id": "b2d14896",
   "metadata": {},
   "outputs": [],
   "source": []
  }
 ],
 "metadata": {
  "kernelspec": {
   "display_name": "Python 3 (ipykernel)",
   "language": "python",
   "name": "python3"
  },
  "language_info": {
   "codemirror_mode": {
    "name": "ipython",
    "version": 3
   },
   "file_extension": ".py",
   "mimetype": "text/x-python",
   "name": "python",
   "nbconvert_exporter": "python",
   "pygments_lexer": "ipython3",
   "version": "3.11.9"
  }
 },
 "nbformat": 4,
 "nbformat_minor": 5
}
