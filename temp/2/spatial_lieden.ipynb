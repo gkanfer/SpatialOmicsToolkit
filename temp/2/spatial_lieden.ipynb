{
 "cells": [
  {
   "cell_type": "code",
   "execution_count": 1,
   "id": "197d94ea-836e-4bf4-bb94-1ff57937e998",
   "metadata": {},
   "outputs": [],
   "source": [
    "import cupy as cp\n",
    "import cupyx\n",
    "import scanpy as sc\n",
    "import spatialleiden as sl\n",
    "import squidpy as sq\n",
    "import numpy as np\n",
    "from cupyx.scipy.sparse import csr_matrix\n",
    "import os\n",
    "from PIL import Image\n",
    "import matplotlib.pyplot as plt\n",
    "from matplotlib.colors import ListedColormap\n",
    "from matplotlib.colors import LinearSegmentedColormap\n",
    "from matplotlib.backends.backend_pdf import PdfPages\n",
    "import seaborn as sns\n",
    "import random\n",
    "import pandas as pd"
   ]
  },
  {
   "cell_type": "code",
   "execution_count": 2,
   "id": "f7e2b79e-3643-445e-b8f3-776152752545",
   "metadata": {},
   "outputs": [
    {
     "data": {
      "text/plain": [
       "AnnData object with n_obs × n_vars = 431525 × 5000\n",
       "    obs: 'n_genes_by_counts', 'total_counts', 'log1p_n_genes_by_counts', 'log1p_total_counts', 'total_counts_MT', 'pct_counts_MT', 'log1p_total_counts_MT', 'cluster'\n",
       "    var: 'gene_ids', 'feature_types', 'genome', 'MT', 'n_cells_by_counts', 'total_counts', 'mean_counts', 'pct_dropout_by_counts', 'log1p_total_counts', 'log1p_mean_counts', 'highly_variable', 'highly_variable_rank', 'means', 'variances', 'variances_norm', 'mean', 'std'\n",
       "    obsm: 'X_pca', 'spatial'\n",
       "    layers: 'counts', 'log'"
      ]
     },
     "execution_count": 2,
     "metadata": {},
     "output_type": "execute_result"
    }
   ],
   "source": [
    "pathout = \"/data/kanferg/Sptial_Omics/projects/NatalieLab/liver_cancer/spatialomicstoolkit/out_1\"\n",
    "andata = sc.read_h5ad(os.path.join(pathout, \"andata_filter_logNorm_hvg.h5ad\"))\n",
    "andata"
   ]
  },
  {
   "cell_type": "code",
   "execution_count": 3,
   "id": "4d9499c7-feb4-4e0c-8a95-413ed9f437ee",
   "metadata": {},
   "outputs": [],
   "source": [
    "def load_matrix(andata,pathout,npz_file = \"obsp_distances.npz\",mode = 'sparse', mat_name = 'distances'):\n",
    "    npzfile = cp.load(os.path.join(pathout, npz_file))\n",
    "    data = cp.array(npzfile['data'])\n",
    "    indices = cp.array(npzfile['indices'])\n",
    "    indptr = cp.array(npzfile['indptr'])\n",
    "    shape = tuple(npzfile['shape'])\n",
    "    \n",
    "    # Reconstruct the sparse matrix\n",
    "    sparse_matrix_distances = csr_matrix((data, indices, indptr), shape=shape)\n",
    "    if mode== 'sparse':\n",
    "        andata.obsp[mat_name] = sparse_matrix_distances\n",
    "    else:\n",
    "        andata.obsp[mat_name] = sparse_matrix_distances.get()\n",
    "    return andata"
   ]
  },
  {
   "cell_type": "code",
   "execution_count": 4,
   "id": "cb5d7d86-545a-4ee1-b047-839dbeb1f5cf",
   "metadata": {},
   "outputs": [],
   "source": [
    "andata = load_matrix(andata,pathout,npz_file = \"obsp_distances_SCAF4331_24008101_A1_VHD.npz\", mat_name = 'distances',mode=\"scipy\")\n",
    "andata = load_matrix(andata,pathout,npz_file = \"obsp_connectivities_SCAF4331_24008101_A1_VHD.npz\", mat_name = 'connectivities',mode=\"scipy\")"
   ]
  },
  {
   "cell_type": "code",
   "execution_count": 5,
   "id": "5391ca8c-ae06-44e7-bc0d-87df31f4cad2",
   "metadata": {},
   "outputs": [],
   "source": [
    "sq.gr.spatial_neighbors(andata, coord_type=\"generic\")"
   ]
  },
  {
   "cell_type": "code",
   "execution_count": 6,
   "id": "1f62186c-c023-410e-9c92-a4a97ce26c6e",
   "metadata": {},
   "outputs": [
    {
     "data": {
      "text/plain": [
       "AnnData object with n_obs × n_vars = 431525 × 5000\n",
       "    obs: 'n_genes_by_counts', 'total_counts', 'log1p_n_genes_by_counts', 'log1p_total_counts', 'total_counts_MT', 'pct_counts_MT', 'log1p_total_counts_MT', 'cluster'\n",
       "    var: 'gene_ids', 'feature_types', 'genome', 'MT', 'n_cells_by_counts', 'total_counts', 'mean_counts', 'pct_dropout_by_counts', 'log1p_total_counts', 'log1p_mean_counts', 'highly_variable', 'highly_variable_rank', 'means', 'variances', 'variances_norm', 'mean', 'std'\n",
       "    uns: 'spatial_neighbors'\n",
       "    obsm: 'X_pca', 'spatial'\n",
       "    layers: 'counts', 'log'\n",
       "    obsp: 'distances', 'connectivities', 'spatial_connectivities', 'spatial_distances'"
      ]
     },
     "execution_count": 6,
     "metadata": {},
     "output_type": "execute_result"
    }
   ],
   "source": [
    "andata"
   ]
  },
  {
   "cell_type": "code",
   "execution_count": 7,
   "id": "a8a6b235-5ded-40f5-98ba-9c2bb4719fbb",
   "metadata": {},
   "outputs": [],
   "source": [
    "pathout_spatlied = \"/data/kanferg/Sptial_Omics/projects/NatalieLab/liver_cancer/spatialomicstoolkit/out_1/spatialleiden\""
   ]
  },
  {
   "cell_type": "code",
   "execution_count": 8,
   "id": "2f2752ad-21c5-4b5a-903d-9220d3aacdeb",
   "metadata": {},
   "outputs": [],
   "source": [
    "seed = 42\n",
    "sl.spatialleiden(andata, layer_ratio=1.6, directed=(False, True), seed=seed)"
   ]
  },
  {
   "cell_type": "code",
   "execution_count": 10,
   "id": "2403ef62-a808-4abb-a372-927ea1c5b620",
   "metadata": {},
   "outputs": [],
   "source": [
    "def plot_spatial(andata,ax, cluster = 'cluster', features = None,title = '',xlab = '',ylab ='',size = 2,alpha = 0.6, markerscale = 5, cluster_name = 'cluster'):\n",
    "    palette = sns.color_palette(\"tab20\") + sns.color_palette(\"tab20b\") + sns.color_palette(\"tab20c\")\n",
    "    df = pd.DataFrame({'cluster':andata.obs[cluster],'x':andata.obsm['spatial'][:,0],'y':andata.obsm['spatial'][:,1]})\n",
    "    if features:\n",
    "        df[df['cluster'].isin([features])]\n",
    "    num_classes = len(df['cluster'].unique())\n",
    "    if num_classes==1:\n",
    "        listed_cmap = ListedColormap(palette)\n",
    "    else:\n",
    "        num_classes = len(np.unique(df['cluster'].values))\n",
    "        extended_palette = palette * (num_classes // len(palette) + 1)\n",
    "        extended_palette = extended_palette[:num_classes]\n",
    "        listed_cmap = ListedColormap(extended_palette)\n",
    "    color_container = []\n",
    "    \n",
    "    clusters = sorted(np.unique(df['cluster'].values), key=int)\n",
    "    for i, cluster in enumerate(clusters):\n",
    "        cluster_data = df[df['cluster'] == cluster]\n",
    "        ax.scatter( x=cluster_data['x'], y=cluster_data['y'], color=listed_cmap(i), label=f'{cluster}', s=size, alpha=alpha)\n",
    "        color_container.append(listed_cmap(i))\n",
    "    ax.set_xticks([])\n",
    "    ax.set_yticks([])\n",
    "    ax.set_xlabel(xlab)\n",
    "    ax.set_ylabel(ylab)\n",
    "    ax.set_title(title)\n",
    "    legend = ax.legend( title=cluster_name,\n",
    "                        bbox_to_anchor=(1.05, 1),  # Position the legend outside the plot\n",
    "                        loc='upper left',\n",
    "                        fontsize='small',  # Control the font size\n",
    "                        title_fontsize='medium',\n",
    "                        markerscale=markerscale,  # Increase the size of the legend markers\n",
    "                        frameon=False# Control the title font size\n",
    "                        )\n",
    "    df_color = pd.DataFrame({\"clusters\":df['cluster'].unique(),\"colors\":color_container})\n",
    "    return df_color"
   ]
  },
  {
   "cell_type": "code",
   "execution_count": null,
   "id": "235bab5f-ac02-4c09-ab7d-db257b6a475d",
   "metadata": {},
   "outputs": [],
   "source": [
    "fig, ax = plt.subplots(1, 1, figsize=(15,15))\n",
    "plt.rcParams['figure.dpi'] = 800\n",
    "plt.rcParams['font.family'] = ['serif']\n",
    "plt.rcParams['font.size'] = 12\n",
    "plt.rcParams['axes.labelsize'] = 12\n",
    "plt.rcParams['axes.titlesize'] = 12\n",
    "plt.rcParams['xtick.labelsize'] = 12\n",
    "plt.rcParams['ytick.labelsize'] = 12\n",
    "clusterColorMap = plot_spatial(andata,ax = ax,cluster = 'spatialleiden', features = None, title = '',markerscale = 30, xlab = '',ylab ='',size = 0.1)\n",
    "plt.subplots_adjust(left=0.1, right=0.9, top=0.9, bottom=0.5)"
   ]
  },
  {
   "cell_type": "code",
   "execution_count": 12,
   "id": "ba869bac-66d2-424a-afa3-c897fa155304",
   "metadata": {},
   "outputs": [],
   "source": [
    "andata_save = andata.copy()\n",
    "andata_save.write_h5ad(os.path.join(pathout, \"andata_filter_logNorm_hvg_spatialleiden.h5ad\"))"
   ]
  },
  {
   "cell_type": "code",
   "execution_count": null,
   "id": "8c54d274-051d-4aa7-9784-21ccc947d7e9",
   "metadata": {},
   "outputs": [],
   "source": []
  }
 ],
 "metadata": {
  "kernelspec": {
   "display_name": "Python 3 (ipykernel)",
   "language": "python",
   "name": "python3"
  },
  "language_info": {
   "codemirror_mode": {
    "name": "ipython",
    "version": 3
   },
   "file_extension": ".py",
   "mimetype": "text/x-python",
   "name": "python",
   "nbconvert_exporter": "python",
   "pygments_lexer": "ipython3",
   "version": "3.11.9"
  }
 },
 "nbformat": 4,
 "nbformat_minor": 5
}
