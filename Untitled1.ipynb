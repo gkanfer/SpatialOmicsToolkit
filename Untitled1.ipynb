{
 "cells": [
  {
   "cell_type": "code",
   "execution_count": 1,
   "id": "0e910e39-290a-471c-beb5-d3fca38cbb53",
   "metadata": {},
   "outputs": [],
   "source": [
    "import matplotlib.pyplot as plt\n",
    "from matplotlib.backends.backend_pdf import PdfPages\n",
    "from matplotlib.colors import ListedColormap\n",
    "import matplotlib.ticker as ticker\n",
    "import matplotlib.pyplot as plt\n",
    "import pandas as pd\n",
    "from matplotlib.ticker import MaxNLocator\n",
    "import seaborn as sns\n",
    "import os\n",
    "import gzip\n",
    "import numpy as np\n",
    "import scanpy as sc\n",
    "import squidpy as sq\n",
    "import cupy as cp\n",
    "import cupyx\n",
    "from cupyx.scipy.sparse import csr_matrix \n",
    "import os\n",
    "import time\n",
    "import rapids_singlecell as rsc\n",
    "import numpy as np\n",
    "import rmm\n",
    "from rmm.allocators.cupy import rmm_cupy_allocator\n",
    "import cupy\n",
    "\n",
    "rmm.reinitialize(\n",
    "    managed_memory=False,  # Allows oversubscription\n",
    "    pool_allocator=False,  # default is False\n",
    "    devices=0,  # GPU device IDs to register. By default registers only GPU 0.\n",
    ")\n",
    "cp.cuda.set_allocator(rmm_cupy_allocator)\n",
    "import zarr\n",
    "import pickle\n",
    "from collections import OrderedDict\n",
    "from scipy.sparse import csr_matrix\n",
    "import pandas as pd\n",
    "import scipy.stats as stats\n",
    "from statsmodels.stats.multitest import multipletests\n",
    "from scipy.sparse import csr_matrix\n",
    "import scipy\n",
    "import anndata\n",
    "from collections import OrderedDict\n",
    "from rsc_functions.utility.applyqc import applyqc\n",
    "from rsc_functions.reports.plot import plot_spatial,plot_spatial_data, plot_dist\n",
    "from rsc_functions.utility.rank_genes_groups import return_markers,rank_genes_groups\n",
    "from rsc_functions.reports.plot import plot_expression"
   ]
  },
  {
   "cell_type": "code",
   "execution_count": 8,
   "id": "fccc6f82-8a6a-47c1-ac68-aa5f41448b00",
   "metadata": {},
   "outputs": [],
   "source": [
    "from matplotlib.image import imread"
   ]
  },
  {
   "cell_type": "code",
   "execution_count": 18,
   "id": "9f3efe3c-01bd-4799-b1ea-27229bb7bf4d",
   "metadata": {},
   "outputs": [],
   "source": [
    "path_016 = \"/data/kanferg/Sptial_Omics/playGround/Data/Tonsil/if/binned_outputs/square_016um\"\n",
    "pathout = \"/data/kanferg/Sptial_Omics/SpatialOmicsToolkit/out_3\""
   ]
  },
  {
   "cell_type": "code",
   "execution_count": 19,
   "id": "cb2ef0df-c9bc-4215-b8d7-0b6a1c508de7",
   "metadata": {},
   "outputs": [],
   "source": [
    "def parquet_to_csv(path):\n",
    "    '''\n",
    "    Converts a Parquet file to a CSV file if the CSV file does not already exist.\n",
    "    '''\n",
    "    file_path = os.path.join(path,'spatial/tissue_positions_list.csv')\n",
    "    if not os.path.exists(file_path):\n",
    "        df = pd.read_parquet(os.path.join(path,'spatial/tissue_positions.parquet'))\n",
    "        # Write to a CSV file\n",
    "        df.to_csv(os.path.join(path,'spatial/tissue_positions_list.csv'), index=False)\n",
    "    return\n",
    "parquet_to_csv(path_016)"
   ]
  },
  {
   "cell_type": "code",
   "execution_count": 20,
   "id": "185f7edd-647c-45cb-9fb6-9d7983966d6b",
   "metadata": {},
   "outputs": [
    {
     "name": "stderr",
     "output_type": "stream",
     "text": [
      "/usr/local/apps/rapids-singlecell/mamba/envs/rapids_singlecell/lib/python3.11/site-packages/anndata/_core/anndata.py:1820: UserWarning: Variable names are not unique. To make them unique, call `.var_names_make_unique`.\n",
      "  utils.warn_names_duplicates(\"var\")\n",
      "/usr/local/apps/rapids-singlecell/mamba/envs/rapids_singlecell/lib/python3.11/site-packages/anndata/_core/anndata.py:1820: UserWarning: Variable names are not unique. To make them unique, call `.var_names_make_unique`.\n",
      "  utils.warn_names_duplicates(\"var\")\n"
     ]
    },
    {
     "data": {
      "text/plain": [
       "AnnData object with n_obs × n_vars = 170034 × 18085\n",
       "    var: 'gene_ids', 'feature_types', 'genome'\n",
       "    uns: 'spatial'"
      ]
     },
     "execution_count": 20,
     "metadata": {},
     "output_type": "execute_result"
    }
   ],
   "source": [
    "andata = sc.read_visium(path=path_016,load_images=False)\n",
    "andata"
   ]
  },
  {
   "cell_type": "code",
   "execution_count": 21,
   "id": "db702f8a-3de6-4039-9ec7-3f46c84e937f",
   "metadata": {},
   "outputs": [
    {
     "data": {
      "text/html": [
       "<div>\n",
       "<style scoped>\n",
       "    .dataframe tbody tr th:only-of-type {\n",
       "        vertical-align: middle;\n",
       "    }\n",
       "\n",
       "    .dataframe tbody tr th {\n",
       "        vertical-align: top;\n",
       "    }\n",
       "\n",
       "    .dataframe thead th {\n",
       "        text-align: right;\n",
       "    }\n",
       "</style>\n",
       "<table border=\"1\" class=\"dataframe\">\n",
       "  <thead>\n",
       "    <tr style=\"text-align: right;\">\n",
       "      <th></th>\n",
       "      <th>in_tissue</th>\n",
       "      <th>array_row</th>\n",
       "      <th>array_col</th>\n",
       "      <th>pxl_row_in_fullres</th>\n",
       "      <th>pxl_col_in_fullres</th>\n",
       "    </tr>\n",
       "    <tr>\n",
       "      <th>barcode</th>\n",
       "      <th></th>\n",
       "      <th></th>\n",
       "      <th></th>\n",
       "      <th></th>\n",
       "      <th></th>\n",
       "    </tr>\n",
       "  </thead>\n",
       "  <tbody>\n",
       "    <tr>\n",
       "      <th>s_016um_00000_00000-1</th>\n",
       "      <td>0</td>\n",
       "      <td>0</td>\n",
       "      <td>0</td>\n",
       "      <td>23266.883272</td>\n",
       "      <td>3852.445964</td>\n",
       "    </tr>\n",
       "    <tr>\n",
       "      <th>s_016um_00000_00001-1</th>\n",
       "      <td>0</td>\n",
       "      <td>0</td>\n",
       "      <td>1</td>\n",
       "      <td>23266.567743</td>\n",
       "      <td>3901.675854</td>\n",
       "    </tr>\n",
       "    <tr>\n",
       "      <th>s_016um_00000_00002-1</th>\n",
       "      <td>0</td>\n",
       "      <td>0</td>\n",
       "      <td>2</td>\n",
       "      <td>23266.252214</td>\n",
       "      <td>3950.905763</td>\n",
       "    </tr>\n",
       "    <tr>\n",
       "      <th>s_016um_00000_00003-1</th>\n",
       "      <td>0</td>\n",
       "      <td>0</td>\n",
       "      <td>3</td>\n",
       "      <td>23265.936685</td>\n",
       "      <td>4000.135691</td>\n",
       "    </tr>\n",
       "    <tr>\n",
       "      <th>s_016um_00000_00004-1</th>\n",
       "      <td>0</td>\n",
       "      <td>0</td>\n",
       "      <td>4</td>\n",
       "      <td>23265.621156</td>\n",
       "      <td>4049.365638</td>\n",
       "    </tr>\n",
       "    <tr>\n",
       "      <th>...</th>\n",
       "      <td>...</td>\n",
       "      <td>...</td>\n",
       "      <td>...</td>\n",
       "      <td>...</td>\n",
       "      <td>...</td>\n",
       "    </tr>\n",
       "    <tr>\n",
       "      <th>s_016um_00418_00414-1</th>\n",
       "      <td>1</td>\n",
       "      <td>418</td>\n",
       "      <td>414</td>\n",
       "      <td>2578.256205</td>\n",
       "      <td>24113.895011</td>\n",
       "    </tr>\n",
       "    <tr>\n",
       "      <th>s_016um_00418_00415-1</th>\n",
       "      <td>1</td>\n",
       "      <td>418</td>\n",
       "      <td>415</td>\n",
       "      <td>2577.936705</td>\n",
       "      <td>24163.134879</td>\n",
       "    </tr>\n",
       "    <tr>\n",
       "      <th>s_016um_00418_00416-1</th>\n",
       "      <td>1</td>\n",
       "      <td>418</td>\n",
       "      <td>416</td>\n",
       "      <td>2577.617206</td>\n",
       "      <td>24212.374766</td>\n",
       "    </tr>\n",
       "    <tr>\n",
       "      <th>s_016um_00418_00417-1</th>\n",
       "      <td>1</td>\n",
       "      <td>418</td>\n",
       "      <td>417</td>\n",
       "      <td>2577.297706</td>\n",
       "      <td>24261.614671</td>\n",
       "    </tr>\n",
       "    <tr>\n",
       "      <th>s_016um_00418_00418-1</th>\n",
       "      <td>1</td>\n",
       "      <td>418</td>\n",
       "      <td>418</td>\n",
       "      <td>2576.978205</td>\n",
       "      <td>24310.854596</td>\n",
       "    </tr>\n",
       "  </tbody>\n",
       "</table>\n",
       "<p>175561 rows × 5 columns</p>\n",
       "</div>"
      ],
      "text/plain": [
       "                       in_tissue  array_row  array_col  pxl_row_in_fullres  \\\n",
       "barcode                                                                      \n",
       "s_016um_00000_00000-1          0          0          0        23266.883272   \n",
       "s_016um_00000_00001-1          0          0          1        23266.567743   \n",
       "s_016um_00000_00002-1          0          0          2        23266.252214   \n",
       "s_016um_00000_00003-1          0          0          3        23265.936685   \n",
       "s_016um_00000_00004-1          0          0          4        23265.621156   \n",
       "...                          ...        ...        ...                 ...   \n",
       "s_016um_00418_00414-1          1        418        414         2578.256205   \n",
       "s_016um_00418_00415-1          1        418        415         2577.936705   \n",
       "s_016um_00418_00416-1          1        418        416         2577.617206   \n",
       "s_016um_00418_00417-1          1        418        417         2577.297706   \n",
       "s_016um_00418_00418-1          1        418        418         2576.978205   \n",
       "\n",
       "                       pxl_col_in_fullres  \n",
       "barcode                                    \n",
       "s_016um_00000_00000-1         3852.445964  \n",
       "s_016um_00000_00001-1         3901.675854  \n",
       "s_016um_00000_00002-1         3950.905763  \n",
       "s_016um_00000_00003-1         4000.135691  \n",
       "s_016um_00000_00004-1         4049.365638  \n",
       "...                                   ...  \n",
       "s_016um_00418_00414-1        24113.895011  \n",
       "s_016um_00418_00415-1        24163.134879  \n",
       "s_016um_00418_00416-1        24212.374766  \n",
       "s_016um_00418_00417-1        24261.614671  \n",
       "s_016um_00418_00418-1        24310.854596  \n",
       "\n",
       "[175561 rows x 5 columns]"
      ]
     },
     "execution_count": 21,
     "metadata": {},
     "output_type": "execute_result"
    }
   ],
   "source": [
    "positions = pd.read_csv(os.path.join(path_016,'spatial/tissue_positions_list.csv'),index_col=0,)\n",
    "positions"
   ]
  },
  {
   "cell_type": "code",
   "execution_count": 22,
   "id": "9b32e2c8-bcea-4f3c-ba1f-cda23053a526",
   "metadata": {},
   "outputs": [],
   "source": [
    "positions.columns = [\n",
    "            \"in_tissue\",\n",
    "            \"array_row\",\n",
    "            \"array_col\",\n",
    "            \"pxl_col_in_fullres\",\n",
    "            \"pxl_row_in_fullres\",\n",
    "        ]"
   ]
  },
  {
   "cell_type": "code",
   "execution_count": 24,
   "id": "f7e5db78-673b-4aba-b65b-c3ca1a456ae6",
   "metadata": {},
   "outputs": [],
   "source": [
    "andata.obs = andata.obs.join(positions, how=\"left\")"
   ]
  },
  {
   "cell_type": "code",
   "execution_count": 25,
   "id": "66cb0821-b145-4054-a765-4433b1fef234",
   "metadata": {},
   "outputs": [
    {
     "data": {
      "text/plain": [
       "AnnData object with n_obs × n_vars = 170034 × 18085\n",
       "    obs: 'in_tissue', 'array_row', 'array_col', 'pxl_col_in_fullres', 'pxl_row_in_fullres'\n",
       "    var: 'gene_ids', 'feature_types', 'genome'\n",
       "    uns: 'spatial'"
      ]
     },
     "execution_count": 25,
     "metadata": {},
     "output_type": "execute_result"
    }
   ],
   "source": [
    "andata"
   ]
  },
  {
   "cell_type": "code",
   "execution_count": 27,
   "id": "76bdf42e-238e-47f2-a4ba-6ad45ab3b931",
   "metadata": {},
   "outputs": [
    {
     "data": {
      "text/plain": [
       "AnnData object with n_obs × n_vars = 170034 × 18085\n",
       "    obs: 'in_tissue', 'array_row', 'array_col'\n",
       "    var: 'gene_ids', 'feature_types', 'genome'\n",
       "    uns: 'spatial'\n",
       "    obsm: 'spatial'"
      ]
     },
     "execution_count": 27,
     "metadata": {},
     "output_type": "execute_result"
    }
   ],
   "source": [
    "andata.obsm[\"spatial\"] = andata.obs[\n",
    "            [\"pxl_row_in_fullres\", \"pxl_col_in_fullres\"]\n",
    "        ].to_numpy()\n",
    "andata.obs.drop(\n",
    "    columns=[\"pxl_row_in_fullres\", \"pxl_col_in_fullres\"],\n",
    "    inplace=True,\n",
    ")\n",
    "andata"
   ]
  },
  {
   "cell_type": "code",
   "execution_count": 31,
   "id": "abad5822-1904-44c5-8bfc-2e36cf82f89d",
   "metadata": {},
   "outputs": [
    {
     "data": {
      "text/plain": [
       "array([[ 7070.40426219, 17984.1352022 ],\n",
       "       [24189.36170884, 15365.74266934],\n",
       "       [14302.12934485, 17003.20323626],\n",
       "       ...,\n",
       "       [23426.28085875,  2877.83245297],\n",
       "       [13101.24928479,  5453.17414488],\n",
       "       [10181.88223332, 11324.74466868]])"
      ]
     },
     "execution_count": 31,
     "metadata": {},
     "output_type": "execute_result"
    }
   ],
   "source": [
    "andata.obsm['spatial']"
   ]
  },
  {
   "cell_type": "code",
   "execution_count": 32,
   "id": "57d4f3c8-d436-4d8c-962f-50786d8a6295",
   "metadata": {},
   "outputs": [],
   "source": [
    "rsc.get.anndata_to_GPU(andata)\n",
    "andata.obsm['spatial'] = np.array(andata.obsm['spatial'], dtype=np.float64)\n",
    "andata.var_names_make_unique()\n",
    "andata.uns['config'] = OrderedDict()\n",
    "andata.uns[\"config\"][\"secondary_var_names\"] = andata.var_names\n",
    "rsc.pp.flag_gene_family(andata, gene_family_name=\"MT\", gene_family_prefix=\"MT-\")\n",
    "rsc.pp.calculate_qc_metrics(andata, qc_vars=[\"MT\"])"
   ]
  },
  {
   "cell_type": "code",
   "execution_count": 33,
   "id": "f883f172-a4d2-49ba-a5c2-69affa065f16",
   "metadata": {},
   "outputs": [],
   "source": [
    "plt.rcParams['figure.dpi'] = 600\n",
    "plt.rcParams['font.family'] = ['serif']\n",
    "plt.rcParams['font.size'] = 12\n",
    "plt.rcParams['axes.labelsize'] = 12\n",
    "plt.rcParams['axes.titlesize'] = 12\n",
    "plt.rcParams['xtick.labelsize'] = 12\n",
    "plt.rcParams['ytick.labelsize'] = 12\n",
    "fig, ax = plt.subplots(1,1, figsize=(15, 15))\n",
    "with PdfPages(os.path.join(pathout, 'Tonsil_IF_Report_spatial_map_plot_total_count.pdf')) as pdf:\n",
    "    plot_spatial_data(andata, 'total_counts', fig = fig , ax = ax ,set_xlabel_cbar = 'Total Count',size = 1)\n",
    "    plt.subplots_adjust(left=0.1, right=0.9, top=0.9, bottom=0.2)\n",
    "    pdf.savefig()\n",
    "    plt.close()   "
   ]
  },
  {
   "cell_type": "code",
   "execution_count": 34,
   "id": "34bfbb5d-bd73-4561-a48e-e88f50a777f5",
   "metadata": {},
   "outputs": [
    {
     "name": "stdout",
     "output_type": "stream",
     "text": [
      "filtered out 7386 cells\n",
      "filtered out 3400 genes based on total_counts\n",
      "filtered out 298 genes based on n_cells_by_counts\n"
     ]
    },
    {
     "name": "stderr",
     "output_type": "stream",
     "text": [
      "/usr/local/apps/rapids-singlecell/mamba/envs/rapids_singlecell/lib/python3.11/site-packages/rapids_singlecell/preprocessing/_hvg.py:517: UserWarning: `flavor='seurat_v3'` expects raw count data, but non-integers were found.\n",
      "  warnings.warn(\n",
      "/usr/local/apps/rapids-singlecell/mamba/envs/rapids_singlecell/lib/python3.11/site-packages/rapids_singlecell/preprocessing/_scale.py:71: UserWarning: Received a view of an AnnData. Making a copy.\n",
      "  view_to_actual(adata)\n",
      "/usr/local/apps/rapids-singlecell/mamba/envs/rapids_singlecell/lib/python3.11/site-packages/scanpy/preprocessing/_pca.py:374: FutureWarning: Argument `use_highly_variable` is deprecated, consider using the mask argument. Use_highly_variable=True can be called through mask_var=\"highly_variable\". Use_highly_variable=False can be called through mask_var=None\n",
      "  warn(msg, FutureWarning)\n"
     ]
    }
   ],
   "source": [
    "rsc.pp.filter_cells(andata, min_count=50,qc_var = 'total_counts')\n",
    "rsc.pp.filter_genes(andata, min_count=50,qc_var = 'total_counts')\n",
    "rsc.pp.filter_genes(andata, max_count=50_000)\n",
    "andata.layers['counts'] = andata.X.copy()\n",
    "rsc.pp.normalize_total(andata)\n",
    "rsc.pp.log1p(andata)\n",
    "andata.layers['log'] = andata.X.copy()\n",
    "rsc.pp.highly_variable_genes(andata, n_top_genes=1000, flavor=\"seurat_v3\", layer=\"log\")\n",
    "andata = andata[:, andata.var[\"highly_variable\"]]\n",
    "rsc.pp.scale(andata, max_value=10)\n",
    "rsc.pp.pca(andata, n_comps=30,random_state=1337, use_highly_variable=False)"
   ]
  },
  {
   "cell_type": "code",
   "execution_count": 35,
   "id": "0e3bdd36-f2a1-4e22-bb22-0f17028e04f5",
   "metadata": {},
   "outputs": [],
   "source": [
    "rsc.pp.neighbors(andata, n_pcs=15, use_rep='X_pca', n_neighbors=25)"
   ]
  },
  {
   "cell_type": "code",
   "execution_count": 36,
   "id": "bde53d80-ccfd-41b6-b80f-d49278f3d1ae",
   "metadata": {},
   "outputs": [
    {
     "name": "stdout",
     "output_type": "stream",
     "text": [
      "0.5\n",
      "0.8\n",
      "1\n",
      "2\n"
     ]
    }
   ],
   "source": [
    "resolutions = [0.5,0.8,1,2]\n",
    "for res in resolutions:\n",
    "    rsc.tl.leiden(andata, random_state=1337, resolution=res, key_added='cluster')\n",
    "    with PdfPages(os.path.join(pathout, f'Tonsil_IF_Report_spatial_map_plot_{res}.pdf')) as pdf:\n",
    "        fig, ax = plt.subplots(1, 1, figsize=(15,15))\n",
    "        plt.rcParams['figure.dpi'] = 600\n",
    "        plt.rcParams['font.family'] = ['serif']\n",
    "        plt.rcParams['font.size'] = 12\n",
    "        plt.rcParams['axes.labelsize'] = 12\n",
    "        plt.rcParams['axes.titlesize'] = 12\n",
    "        plt.rcParams['xtick.labelsize'] = 12\n",
    "        plt.rcParams['ytick.labelsize'] = 12\n",
    "        clusterColorMap = plot_spatial(andata,ax = ax, features = None, title = f'resolution: {res}',markerscale = 5, xlab = '',ylab ='',size = 0.1)\n",
    "        plt.subplots_adjust(left=0.1, right=0.9, top=0.9, bottom=0.2)\n",
    "        pdf.savefig()\n",
    "        plt.close()\n",
    "    print(f'{res}')"
   ]
  },
  {
   "cell_type": "code",
   "execution_count": null,
   "id": "875fbfaf-54d5-4e33-84f0-63e8f4a48991",
   "metadata": {},
   "outputs": [],
   "source": []
  }
 ],
 "metadata": {
  "kernelspec": {
   "display_name": "Python 3 (ipykernel)",
   "language": "python",
   "name": "python3"
  },
  "language_info": {
   "codemirror_mode": {
    "name": "ipython",
    "version": 3
   },
   "file_extension": ".py",
   "mimetype": "text/x-python",
   "name": "python",
   "nbconvert_exporter": "python",
   "pygments_lexer": "ipython3",
   "version": "3.11.9"
  }
 },
 "nbformat": 4,
 "nbformat_minor": 5
}
