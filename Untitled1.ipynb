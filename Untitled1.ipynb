{
 "cells": [
  {
   "cell_type": "code",
   "execution_count": 1,
   "id": "9434c3ee-c11a-479f-93f6-9298f2ac1392",
   "metadata": {},
   "outputs": [],
   "source": [
    "import cupy as cp\n",
    "import cupyx\n",
    "import scanpy as sc\n",
    "import spatialleiden as sl\n",
    "import squidpy as sq\n",
    "import numpy as np\n",
    "from cupyx.scipy.sparse import csr_matrix\n",
    "import os\n",
    "from PIL import Image\n",
    "import matplotlib.pyplot as plt\n",
    "from matplotlib.colors import ListedColormap\n",
    "from matplotlib.colors import LinearSegmentedColormap\n",
    "from matplotlib.backends.backend_pdf import PdfPages\n",
    "import seaborn as sns\n",
    "import random\n",
    "import pandas as pd\n",
    "# from rsc_functions.utility.applyqc import applyqc\n",
    "# from rsc_functions.reports.plot import plot_spatial,plot_spatial_data, plot_dist\n",
    "# from rsc_functions.utility.rank_genes_groups import return_markers,rank_genes_groups\n",
    "# from rsc_functions.reports.plot import plot_expression\n"
   ]
  },
  {
   "cell_type": "code",
   "execution_count": 4,
   "id": "e608f83f-1e2e-4da4-935f-01439b5b95d2",
   "metadata": {},
   "outputs": [],
   "source": [
    "path_016 = \"/data/kanferg/Sptial_Omics/playGround/Data/Pancreatic_Cancer_paper_2024\""
   ]
  },
  {
   "cell_type": "code",
   "execution_count": 7,
   "id": "ee317b34-478c-4cc4-a8b2-db9fe79d92c7",
   "metadata": {},
   "outputs": [],
   "source": [
    "files = [file for file in os.listdir(path_016) if \".csv\" in file]\n",
    "files_row_counts = [file for file in files if \"_raw_counts\" in file]"
   ]
  },
  {
   "cell_type": "code",
   "execution_count": 20,
   "id": "cd982187-a9c0-4a29-9d83-7bef7ad976dd",
   "metadata": {},
   "outputs": [
    {
     "data": {
      "text/plain": [
       "30"
      ]
     },
     "execution_count": 20,
     "metadata": {},
     "output_type": "execute_result"
    }
   ],
   "source": [
    "len(files_row_counts)"
   ]
  },
  {
   "cell_type": "code",
   "execution_count": 17,
   "id": "eae06eed-5d61-43c3-a4cd-b0666ca08a35",
   "metadata": {},
   "outputs": [
    {
     "data": {
      "text/plain": [
       "{'S22': 0, 'S18': 0, 'S21': 0, 'S14': 0, 'S20': 0, 'S13': 0, 'S17': 0}"
      ]
     },
     "execution_count": 17,
     "metadata": {},
     "output_type": "execute_result"
    }
   ],
   "source": [
    "start_file_id = [file.split(\"-\")[0] for file in files_row_counts]\n",
    "start_file_id_unique = set(start_file_id)\n",
    "start_file_id_unique_dict = {file:0 for file in start_file_id_unique}\n",
    "start_file_id_unique_dict"
   ]
  },
  {
   "cell_type": "code",
   "execution_count": 18,
   "id": "d82f8ab7-25f0-4b5e-a767-219fe266c8b5",
   "metadata": {},
   "outputs": [],
   "source": [
    "for file in files_row_counts:\n",
    "    start_file_id_unique_dict[file.split(\"-\")[0]] += 1"
   ]
  },
  {
   "cell_type": "code",
   "execution_count": 19,
   "id": "40922357-2c40-4c2d-9e36-b38268daaecc",
   "metadata": {},
   "outputs": [
    {
     "data": {
      "text/plain": [
       "{'S22': 1, 'S18': 5, 'S21': 10, 'S14': 2, 'S20': 5, 'S13': 5, 'S17': 2}"
      ]
     },
     "execution_count": 19,
     "metadata": {},
     "output_type": "execute_result"
    }
   ],
   "source": [
    "start_file_id_unique_dict"
   ]
  },
  {
   "cell_type": "markdown",
   "id": "2c4a2c99-3153-4c76-b384-94a08f4f4cf5",
   "metadata": {},
   "source": [
    "# Sample Quality Control\n",
    "\n",
    "| Patient   | Sample Name   | Origin           | Spot before QC | Spots after QC | % Spots retained post QC |\n",
    "|-----------|---------------|------------------|----------------|----------------|--------------------------|\n",
    "| IU_PT1    | IU_PDA_T1     | Pancreas          | 3610           | 3530           | 97.78393352               |\n",
    "| IU_PT2    | IU_PDA_HM2_2  | Liver             | 963            | 959            | 99.58463136               |\n",
    "| IU_PT2    | IU_PDA_HM2    | Liver             | 2481           | 2478           | 99.87908102               |\n",
    "| IU_PT2    | IU_PDA_T2     | Pancreas          | 4121           | 4118           | 99.92720214               |\n",
    "| IU_PT2    | IU_PDA_NP2    | Normal Pancreas   | 2996           | 2995           | 99.96662216               |\n",
    "| IU_PT3    | IU_PDA_T3     | Pancreas          | 4409           | 4354           | 98.7525516                |\n",
    "| IU_PT3    | IU_PDA_HM3    | Liver             | 1185           | 1176           | 99.24050633               |\n",
    "| IU_PT4    | IU_PDA_T4     | Pancreas          | 3864           | 3621           | 93.71118012               |\n",
    "| IU_PT4    | IU_PDA_HM4    | Liver             | 1857           | 1841           | 99.13839526               |\n",
    "| IU_PT5    | IU_PDA_HM5    | Liver             | 3042           | 3038           | 99.86850756               |\n",
    "| IU_PT6    | IU_PDA_HM6    | Liver             | 3555           | 1666           | 46.86357243               |\n",
    "| IU_PT6    | IU_PDA_T6     | Pancreas          | 3792           | 3397           | 89.58333333               |\n",
    "| IU_PT6    | IU_PDA_LNM6   | Lymph node        | 3748           | 3745           | 99.91995731               |\n",
    "| IU_PT7    | IU_PDA_LNM7   | Lymph node        | 3191           | 3186           | 99.84330931               |\n",
    "| IU_PT8    | IU_PDA_T8     | Pancreas          | 3891           | 3779           | 97.12156258               |\n",
    "| IU_PT8    | IU_PDA_LNM8   | Lymph node        | 3435           | 3407           | 99.18486172               |\n",
    "| IU_PT8    | IU_PDA_HM8    | Liver             | 4044           | 4032           | 99.70326409               |\n",
    "| IU_PT9    | IU_PDA_HM9    | Liver             | 2365           | 1908           | 80.67653277               |\n",
    "| IU_PT9    | IU_PDA_T9     | Pancreas          | 3529           | 3526           | 99.91499008               |\n",
    "| IU_PT10   | IU_PDA_HM10   | Liver             | 2978           | 2348           | 78.84486232               |\n",
    "| IU_PT10   | IU_PDA_T10    | Pancreas          | 2793           | 2714           | 97.17150018               |\n",
    "| IU_PT10   | IU_PDA_NP10   | Normal Pancreas   | 3010           | 2966           | 98.53820598               |\n",
    "| IU_PT10   | IU_PDA_LNM10  | Lymph node        | 4173           | 4147           | 99.37694704               |\n",
    "| IU_PT11   | IU_PDA_T11    | Pancreas          | 2841           | 2777           | 97.74727209               |\n",
    "| IU_PT11   | IU_PDA_NP11   | Normal Pancreas   | 3913           | 3859           | 98.61998467               |\n",
    "| IU_PT11   | IU_PDA_HM11   | Liver             | 3979           | 3931           | 98.79366675               |\n",
    "| IU_PT12   | IU_PDA_LNM12  | Lymph node        | 3293           | 3213           | 97.57060431               |\n",
    "| IU_PT12   | IU_PDA_T12    | Pancreas          | 3657           | 3642           | 99.58982773               |\n",
    "| IU_PT12   | IU_PDA_HM12   | Liver             | 2962           | 2961           | 99.96623903               |\n",
    "| IU_PT13   | IU_PDA_HM13   | Liver             | 3343           | 2182           | 65.27071493               |\n",
    "| **Total** |               |                  | **97020**       | **91496**       | **94.30632859**            |\n"
   ]
  },
  {
   "cell_type": "markdown",
   "id": "2ef67b64-5f23-46d5-990d-fea25c48b544",
   "metadata": {},
   "source": [
    "<center><h3>Tina expirment</center>\n",
    "To analyze Tina's experiment, which investigates molecular changes in the tumor microenvironment (TME) across different treatments and time points in a B16 melanoma mouse model, I recommend a statistical approach that accounts for both fixed and random effects. Specifically, use a linear mixed-effects model with gene expression as the response variable. The fixed effects should include the treatment groups (mock, IL-15, IL-21, IL-15/IL-21 transduced T cells) and time points (Day 4 and Day 8), along with their interaction to assess whether the effect of treatment varies over time. The random effects should account for variability between individual mice by including random intercepts for each mouse, specified as (1 | mouse_id) in the model. This approach adjusts for the hierarchical structure of the data, where observations are nested within mice, and captures individual differences that could influence gene expression levels.\n",
    "\n",
    "For the high-dimensional gene expression data, use specialized tools like DESeq2 or edgeR that are designed for RNA-seq analysis and can handle the count-based nature of the data. Apply appropriate normalization and multiple testing correction methods to control the false discovery rate. Integrate clinical data such as tumor volume, survival rates, and toxicity levels by performing correlation analyses or incorporating them into the model as covariates to explore their relationship with gene expression patterns.\n",
    "\n",
    "This statistical strategy allows for robust identification of differentially expressed genes and pathways associated with the treatments while accounting for both the experimental design and biological variability. It provides a framework to uncover molecular insights into how different cytokine treatments affect the TME and correlate with tumor response, aligning with the primary objectives of Tina's research."
   ]
  },
  {
   "cell_type": "markdown",
   "id": "d0c6d8df-af3a-43bd-aa0b-c014bc10a6dc",
   "metadata": {},
   "source": [
    "<center>Example from Nature Gentics 2024, Khaliq et al"
   ]
  },
  {
   "cell_type": "markdown",
   "id": "f9fae877-ad5b-4c38-a733-bc616b963604",
   "metadata": {},
   "source": [
    "To compare gene expression between two clusters, CC1 and CC3, across primary and secondary tumors, I will refer to the analysis approach described in the paper \"Spatial transcriptomic analysis of primary and metastatic pancreatic cancers highlights tumor microenvironmental heterogeneity\" (https://doi.org/10.1038/s41588-024-01914-4).\n",
    "\n",
    "Goal:\n",
    "The objective is to assess the differential gene expression between the two clusters (CC1 and CC3) in both the primary tumor and the metastatic (secondary) tumor environments. This comparison aims to uncover potential differences in the tumor microenvironment (TME) that contribute to cancer progression or metastasis.\n",
    "\n",
    "By comparing the gene expression profiles of clusters CC1 and CC3 in primary and secondary tumors, this analysis can provide a detailed understanding of how the tumor microenvironment varies between these clusters and across different stages of cancer."
   ]
  },
  {
   "cell_type": "code",
   "execution_count": 40,
   "id": "d660fa1c-4135-45e0-a63a-32f32b57bf48",
   "metadata": {},
   "outputs": [],
   "source": [
    "import re\n",
    "import scanpy as sc\n",
    "import squidpy as sq\n",
    "from anndata import AnnData\n",
    "import scipy.sparse as sp"
   ]
  },
  {
   "cell_type": "code",
   "execution_count": 17,
   "id": "c2bb5ea6-a95e-4c35-a3d6-6bb53d2d344f",
   "metadata": {},
   "outputs": [
    {
     "data": {
      "text/plain": [
       "['IU_PDA_T11_raw_counts.csv',\n",
       " 'IU_PDA_T2_raw_counts.csv',\n",
       " 'IU_PDA_LNM8_raw_counts.csv',\n",
       " 'IU_PDA_LNM6_raw_counts.csv',\n",
       " 'IU_PDA_HM8_raw_counts.csv',\n",
       " 'IU_PDA_NP10_raw_counts.csv',\n",
       " 'IU_PDA_HM10_raw_counts.csv',\n",
       " 'IU_PDA_HM12_raw_counts.csv',\n",
       " 'IU_PDA_LNM7_raw_counts.csv',\n",
       " 'IU_PDA_HM9_raw_counts.csv',\n",
       " 'IU_PDA_HM2_raw_counts.csv',\n",
       " 'IU_PDA_NP2_raw_counts.csv',\n",
       " 'IU_PDA_HM4_raw_counts.csv',\n",
       " 'IU_PDA_LNM10_raw_counts.csv',\n",
       " 'IU_PDA_T10_raw_counts.csv',\n",
       " 'IU_PDA_HM3_raw_counts.csv',\n",
       " 'IU_PDA_T3_raw_counts.csv',\n",
       " 'IU_PDA_T6_raw_counts.csv',\n",
       " 'IU_PDA_T4_raw_counts.csv',\n",
       " 'IU_PDA_T12_raw_counts.csv',\n",
       " 'IU_PDA_NP11_raw_counts.csv',\n",
       " 'IU_PDA_HM2_2_raw_counts.csv',\n",
       " 'IU_PDA_HM11_raw_counts.csv',\n",
       " 'IU_PDA_T9_raw_counts.csv',\n",
       " 'IU_PDA_T8_raw_counts.csv',\n",
       " 'IU_PDA_HM13_raw_counts.csv',\n",
       " 'IU_PDA_HM5_raw_counts.csv',\n",
       " 'IU_PDA_T1_raw_counts.csv',\n",
       " 'IU_PDA_LNM12_raw_counts.csv',\n",
       " 'IU_PDA_HM6_raw_counts.csv']"
      ]
     },
     "execution_count": 17,
     "metadata": {},
     "output_type": "execute_result"
    }
   ],
   "source": [
    "path_016 = \"/data/kanferg/Sptial_Omics/playGround/Data/Pancreatic_Cancer_paper_2024\"\n",
    "files = [file for file in os.listdir(path_016) if \".csv\" in file]\n",
    "files_row_counts = [file for file in files if \"_raw_counts\" in file]\n",
    "files_row_counts"
   ]
  },
  {
   "cell_type": "code",
   "execution_count": 4,
   "id": "3711ee60-e85f-4568-9ef9-af26398f4b65",
   "metadata": {},
   "outputs": [
    {
     "data": {
      "text/plain": [
       "['HM4',\n",
       " 'HM11',\n",
       " 'HM6',\n",
       " 'HM10',\n",
       " 'HM3',\n",
       " 'HM9',\n",
       " 'HM5',\n",
       " 'HM2',\n",
       " 'HM2_2',\n",
       " 'HM13',\n",
       " 'HM8',\n",
       " 'HM12']"
      ]
     },
     "execution_count": 4,
     "metadata": {},
     "output_type": "execute_result"
    }
   ],
   "source": [
    "files_with_HM = [file for file in files_row_counts if 'HM' in file]\n",
    "hm_identifiers = set()\n",
    "for file in files:\n",
    "    match = re.search(r'HM\\d+(_\\d+)?', file)  # Regex to match 'HM' followed by digits (and optionally _digits)\n",
    "    if match:\n",
    "        hm_identifiers.add(match.group())  # Add the matched HM identifier to the set\n",
    "hm_identifiers = [hm for hm in hm_identifiers]\n",
    "hm_identifiers"
   ]
  },
  {
   "cell_type": "code",
   "execution_count": 41,
   "id": "881f8bf5-1163-4a2e-9409-0acc6fe705fb",
   "metadata": {},
   "outputs": [],
   "source": [
    "def agrrData(tissue_name = hm_identifiers[0]):\n",
    "    file_sel = [file for file in files if tissue_name in file]\n",
    "    def get_file(attrib,file_sel):\n",
    "        file_ind = [file for file in file_sel if attrib in file]\n",
    "        return file_ind[0]\n",
    "    raw_counts_ind =  get_file(attrib = 'raw_counts',file_sel = file_sel)   \n",
    "    xy_coordinates_ind = get_file(attrib = 'xy_coordinates',file_sel =file_sel)\n",
    "    var_ind = get_file(attrib = 'var',file_sel =file_sel)\n",
    "    cell_type_ind = get_file(attrib = 'cell_type',file_sel =file_sel)\n",
    "    clusters_ind = get_file(attrib = 'clusters',file_sel =file_sel)\n",
    "    # read data\n",
    "    counts_df = pd.read_csv(os.path.join(path_016,raw_counts_ind),index_col=None)\n",
    "    counts = counts_df.iloc[:,1:].to_numpy()\n",
    "    del counts_df\n",
    "    xy_coordinates = pd.read_csv(os.path.join(path_016,xy_coordinates_ind),index_col=None).iloc[:,1:].to_numpy()\n",
    "    var = pd.read_csv(os.path.join(path_016,var_ind),index_col=None).iloc[:,1:].rename(columns = {\"x\":'id'})\n",
    "    obs = pd.read_csv(os.path.join(path_016,cell_type_ind),index_col=None).iloc[:,1:].rename(columns = {'seurat_subset$first_type':'cell_type'})\n",
    "    obs['clusters'] = pd.read_csv(os.path.join(path_016,clusters_ind),index_col=None).iloc[:,1:].rename(columns = {'seurat_subset$CompositionCluster_CC':'clusters'})\n",
    "    andata = AnnData(counts.T,var = var ,obsm={\"spatial\": xy_coordinates}, obs = obs)\n",
    "    andata.obsm['spatial'] = np.array(andata.obsm['spatial'], dtype=np.float64)\n",
    "    andata.var = andata.var.set_index('id')\n",
    "    andata.var.index.name = None\n",
    "    andata.X = sp.csr_matrix(andata.X)\n",
    "    return andata"
   ]
  },
  {
   "cell_type": "code",
   "execution_count": 42,
   "id": "759fcc77-d9b7-4832-b1ac-90e5d9b4201f",
   "metadata": {},
   "outputs": [
    {
     "name": "stderr",
     "output_type": "stream",
     "text": [
      "/gpfs/gsfs10/users/kanferg/conda/envs/spatialleiden-cupy/lib/python3.12/site-packages/anndata/_core/aligned_df.py:68: ImplicitModificationWarning: Transforming to str index.\n",
      "  warnings.warn(\"Transforming to str index.\", ImplicitModificationWarning)\n",
      "/gpfs/gsfs10/users/kanferg/conda/envs/spatialleiden-cupy/lib/python3.12/site-packages/anndata/_core/aligned_df.py:68: ImplicitModificationWarning: Transforming to str index.\n",
      "  warnings.warn(\"Transforming to str index.\", ImplicitModificationWarning)\n"
     ]
    },
    {
     "data": {
      "text/plain": [
       "AnnData object with n_obs × n_vars = 1841 × 17893\n",
       "    obs: 'cell_type', 'clusters'\n",
       "    obsm: 'spatial'"
      ]
     },
     "execution_count": 42,
     "metadata": {},
     "output_type": "execute_result"
    }
   ],
   "source": [
    "andata_h0 = agrrData(tissue_name = hm_identifiers[0])\n",
    "andata_h0"
   ]
  },
  {
   "cell_type": "code",
   "execution_count": 47,
   "id": "a8a594ce-5aed-4a7a-8fb6-658afb69a778",
   "metadata": {},
   "outputs": [],
   "source": [
    "import warnings\n",
    "warnings.filterwarnings('ignore')\n",
    "andata_h0 = agrrData(tissue_name = hm_identifiers[0])\n",
    "andata_h1 = agrrData(tissue_name = hm_identifiers[1])\n",
    "andata_h2 = agrrData(tissue_name = hm_identifiers[2])\n",
    "andata_h3 = agrrData(tissue_name = hm_identifiers[3])\n",
    "andata_h4 = agrrData(tissue_name = hm_identifiers[4])\n",
    "andata_h5 = agrrData(tissue_name = hm_identifiers[5])\n",
    "andata_h6 = agrrData(tissue_name = hm_identifiers[6])\n",
    "#andata_h7 = agrrData(tissue_name = hm_identifiers[7])\n",
    "andata_h8 = agrrData(tissue_name = hm_identifiers[8])\n",
    "andata_h9 = agrrData(tissue_name = hm_identifiers[9])\n",
    "andata_h10 = agrrData(tissue_name = hm_identifiers[10])\n",
    "andata_h11 = agrrData(tissue_name = hm_identifiers[11])"
   ]
  },
  {
   "cell_type": "code",
   "execution_count": 48,
   "id": "3957c9d5-bef2-4482-a721-896d25ee353e",
   "metadata": {},
   "outputs": [],
   "source": [
    "adata_concat = andata_h0.concatenate(andata_h1)"
   ]
  },
  {
   "cell_type": "code",
   "execution_count": 49,
   "id": "d2f6556b-e090-4737-9dc3-888ad88f990c",
   "metadata": {},
   "outputs": [
    {
     "data": {
      "text/plain": [
       "AnnData object with n_obs × n_vars = 5772 × 17893\n",
       "    obs: 'cell_type', 'clusters', 'batch'\n",
       "    obsm: 'spatial'"
      ]
     },
     "execution_count": 49,
     "metadata": {},
     "output_type": "execute_result"
    }
   ],
   "source": [
    "adata_concat"
   ]
  },
  {
   "cell_type": "code",
   "execution_count": null,
   "id": "fae68ebd-153b-4ba1-95cc-95ebbb79d0f5",
   "metadata": {},
   "outputs": [],
   "source": []
  }
 ],
 "metadata": {
  "kernelspec": {
   "display_name": "Python 3 (ipykernel)",
   "language": "python",
   "name": "python3"
  },
  "language_info": {
   "codemirror_mode": {
    "name": "ipython",
    "version": 3
   },
   "file_extension": ".py",
   "mimetype": "text/x-python",
   "name": "python",
   "nbconvert_exporter": "python",
   "pygments_lexer": "ipython3",
   "version": "3.12.6"
  }
 },
 "nbformat": 4,
 "nbformat_minor": 5
}
