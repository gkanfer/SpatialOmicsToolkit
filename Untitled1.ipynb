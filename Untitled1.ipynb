{
 "cells": [
  {
   "cell_type": "markdown",
   "id": "b3822efb-30c5-42e6-8747-dc55163e9905",
   "metadata": {},
   "source": [
    "<center><h1>spatialdata - xenium analysis</center>"
   ]
  },
  {
   "cell_type": "markdown",
   "id": "06bceca2-9203-4f56-b2ce-9cc7485c43aa",
   "metadata": {},
   "source": [
    "In this notebook, I will explore how to use [spatialdata](https://spatialdata.scverse.org/en/stable/tutorials/notebooks/notebooks/examples/technology_xenium.html) for reading and analyzing Xenium data. Specifically, I will work with two [breast cancer datasets](https://spatialdata.scverse.org/en/latest/tutorials/notebooks/datasets/README.html#id15). These datasets are provided by [10x Genomics](https://www.10xgenomics.com/products/xenium-in-situ/preview-dataset-human-breast).\n"
   ]
  },
  {
   "cell_type": "markdown",
   "id": "37994f93-814d-471e-b526-d93faa01ce6e",
   "metadata": {},
   "source": []
  }
 ],
 "metadata": {
  "kernelspec": {
   "display_name": "Python 3 (ipykernel)",
   "language": "python",
   "name": "python3"
  },
  "language_info": {
   "codemirror_mode": {
    "name": "ipython",
    "version": 3
   },
   "file_extension": ".py",
   "mimetype": "text/x-python",
   "name": "python",
   "nbconvert_exporter": "python",
   "pygments_lexer": "ipython3",
   "version": "3.9.20"
  }
 },
 "nbformat": 4,
 "nbformat_minor": 5
}
