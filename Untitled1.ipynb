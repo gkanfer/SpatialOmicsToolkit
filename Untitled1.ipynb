{
 "cells": [
  {
   "cell_type": "code",
   "execution_count": 2,
   "id": "9434c3ee-c11a-479f-93f6-9298f2ac1392",
   "metadata": {},
   "outputs": [],
   "source": [
    "import cupy as cp\n",
    "import cupyx\n",
    "import scanpy as sc\n",
    "import spatialleiden as sl\n",
    "import squidpy as sq\n",
    "import numpy as np\n",
    "from cupyx.scipy.sparse import csr_matrix\n",
    "import os\n",
    "from PIL import Image\n",
    "import matplotlib.pyplot as plt\n",
    "from matplotlib.colors import ListedColormap\n",
    "from matplotlib.colors import LinearSegmentedColormap\n",
    "from matplotlib.backends.backend_pdf import PdfPages\n",
    "import seaborn as sns\n",
    "import random\n",
    "import pandas as pd\n",
    "# from rsc_functions.utility.applyqc import applyqc\n",
    "# from rsc_functions.reports.plot import plot_spatial,plot_spatial_data, plot_dist\n",
    "# from rsc_functions.utility.rank_genes_groups import return_markers,rank_genes_groups\n",
    "# from rsc_functions.reports.plot import plot_expression\n",
    "\n",
    "\n",
    "import re\n",
    "import scanpy as sc\n",
    "import squidpy as sq\n",
    "from anndata import AnnData\n",
    "import scipy.sparse as sp\n",
    "\n",
    "import matplotlib.pyplot as plt\n",
    "from matplotlib.backends.backend_pdf import PdfPages\n",
    "from matplotlib.colors import ListedColormap,Normalize\n",
    "from matplotlib.cm import ScalarMappable\n",
    "import matplotlib.ticker as ticker\n",
    "import seaborn as sns\n",
    "import os\n",
    "import gzip\n",
    "import numpy as np\n",
    "import pandas as pd\n",
    "import random\n",
    "from sklearn.linear_model import LinearRegression\n",
    "from sklearn.metrics import r2_score\n",
    "from scipy.stats import gaussian_kde\n",
    "from scipy.interpolate import griddata"
   ]
  },
  {
   "cell_type": "markdown",
   "id": "2c4a2c99-3153-4c76-b384-94a08f4f4cf5",
   "metadata": {},
   "source": [
    "# Sample Quality Control\n",
    "\n",
    "| Patient   | Sample Name   | Origin           | Spot before QC | Spots after QC | % Spots retained post QC |\n",
    "|-----------|---------------|------------------|----------------|----------------|--------------------------|\n",
    "| IU_PT1    | IU_PDA_T1     | Pancreas          | 3610           | 3530           | 97.78393352               |\n",
    "| IU_PT2    | IU_PDA_HM2_2  | Liver             | 963            | 959            | 99.58463136               |\n",
    "| IU_PT2    | IU_PDA_HM2    | Liver             | 2481           | 2478           | 99.87908102               |\n",
    "| IU_PT2    | IU_PDA_T2     | Pancreas          | 4121           | 4118           | 99.92720214               |\n",
    "| IU_PT2    | IU_PDA_NP2    | Normal Pancreas   | 2996           | 2995           | 99.96662216               |\n",
    "| IU_PT3    | IU_PDA_T3     | Pancreas          | 4409           | 4354           | 98.7525516                |\n",
    "| IU_PT3    | IU_PDA_HM3    | Liver             | 1185           | 1176           | 99.24050633               |\n",
    "| IU_PT4    | IU_PDA_T4     | Pancreas          | 3864           | 3621           | 93.71118012               |\n",
    "| IU_PT4    | IU_PDA_HM4    | Liver             | 1857           | 1841           | 99.13839526               |\n",
    "| IU_PT5    | IU_PDA_HM5    | Liver             | 3042           | 3038           | 99.86850756               |\n",
    "| IU_PT6    | IU_PDA_HM6    | Liver             | 3555           | 1666           | 46.86357243               |\n",
    "| IU_PT6    | IU_PDA_T6     | Pancreas          | 3792           | 3397           | 89.58333333               |\n",
    "| IU_PT6    | IU_PDA_LNM6   | Lymph node        | 3748           | 3745           | 99.91995731               |\n",
    "| IU_PT7    | IU_PDA_LNM7   | Lymph node        | 3191           | 3186           | 99.84330931               |\n",
    "| IU_PT8    | IU_PDA_T8     | Pancreas          | 3891           | 3779           | 97.12156258               |\n",
    "| IU_PT8    | IU_PDA_LNM8   | Lymph node        | 3435           | 3407           | 99.18486172               |\n",
    "| IU_PT8    | IU_PDA_HM8    | Liver             | 4044           | 4032           | 99.70326409               |\n",
    "| IU_PT9    | IU_PDA_HM9    | Liver             | 2365           | 1908           | 80.67653277               |\n",
    "| IU_PT9    | IU_PDA_T9     | Pancreas          | 3529           | 3526           | 99.91499008               |\n",
    "| IU_PT10   | IU_PDA_HM10   | Liver             | 2978           | 2348           | 78.84486232               |\n",
    "| IU_PT10   | IU_PDA_T10    | Pancreas          | 2793           | 2714           | 97.17150018               |\n",
    "| IU_PT10   | IU_PDA_NP10   | Normal Pancreas   | 3010           | 2966           | 98.53820598               |\n",
    "| IU_PT10   | IU_PDA_LNM10  | Lymph node        | 4173           | 4147           | 99.37694704               |\n",
    "| IU_PT11   | IU_PDA_T11    | Pancreas          | 2841           | 2777           | 97.74727209               |\n",
    "| IU_PT11   | IU_PDA_NP11   | Normal Pancreas   | 3913           | 3859           | 98.61998467               |\n",
    "| IU_PT11   | IU_PDA_HM11   | Liver             | 3979           | 3931           | 98.79366675               |\n",
    "| IU_PT12   | IU_PDA_LNM12  | Lymph node        | 3293           | 3213           | 97.57060431               |\n",
    "| IU_PT12   | IU_PDA_T12    | Pancreas          | 3657           | 3642           | 99.58982773               |\n",
    "| IU_PT12   | IU_PDA_HM12   | Liver             | 2962           | 2961           | 99.96623903               |\n",
    "| IU_PT13   | IU_PDA_HM13   | Liver             | 3343           | 2182           | 65.27071493               |\n",
    "| **Total** |               |                  | **97020**       | **91496**       | **94.30632859**            |\n"
   ]
  },
  {
   "cell_type": "markdown",
   "id": "2ef67b64-5f23-46d5-990d-fea25c48b544",
   "metadata": {},
   "source": [
    "<center><h3>Tina expirment</center>\n",
    "To analyze Tina's experiment, which investigates molecular changes in the tumor microenvironment (TME) across different treatments and time points in a B16 melanoma mouse model, I recommend a statistical approach that accounts for both fixed and random effects. Specifically, use a linear mixed-effects model with gene expression as the response variable. The fixed effects should include the treatment groups (mock, IL-15, IL-21, IL-15/IL-21 transduced T cells) and time points (Day 4 and Day 8), along with their interaction to assess whether the effect of treatment varies over time. The random effects should account for variability between individual mice by including random intercepts for each mouse, specified as (1 | mouse_id) in the model. This approach adjusts for the hierarchical structure of the data, where observations are nested within mice, and captures individual differences that could influence gene expression levels.\n",
    "\n",
    "For the high-dimensional gene expression data, use specialized tools like DESeq2 or edgeR that are designed for RNA-seq analysis and can handle the count-based nature of the data. Apply appropriate normalization and multiple testing correction methods to control the false discovery rate. Integrate clinical data such as tumor volume, survival rates, and toxicity levels by performing correlation analyses or incorporating them into the model as covariates to explore their relationship with gene expression patterns.\n",
    "\n",
    "This statistical strategy allows for robust identification of differentially expressed genes and pathways associated with the treatments while accounting for both the experimental design and biological variability. It provides a framework to uncover molecular insights into how different cytokine treatments affect the TME and correlate with tumor response, aligning with the primary objectives of Tina's research."
   ]
  },
  {
   "cell_type": "markdown",
   "id": "d0c6d8df-af3a-43bd-aa0b-c014bc10a6dc",
   "metadata": {},
   "source": [
    "<center>Example from Nature Gentics 2024, Khaliq et al"
   ]
  },
  {
   "cell_type": "markdown",
   "id": "f9fae877-ad5b-4c38-a733-bc616b963604",
   "metadata": {},
   "source": [
    "To compare gene expression between two clusters, CC1 and CC3, across primary and secondary tumors, I will refer to the analysis approach described in the paper \"Spatial transcriptomic analysis of primary and metastatic pancreatic cancers highlights tumor microenvironmental heterogeneity\" (https://doi.org/10.1038/s41588-024-01914-4).\n",
    "\n",
    "Goal:\n",
    "The objective is to assess the differential gene expression between the two clusters (CC1 and CC3) in both the primary tumor and the metastatic (secondary) tumor environments. This comparison aims to uncover potential differences in the tumor microenvironment (TME) that contribute to cancer progression or metastasis.\n",
    "\n",
    "By comparing the gene expression profiles of clusters CC1 and CC3 in primary and secondary tumors, this analysis can provide a detailed understanding of how the tumor microenvironment varies between these clusters and across different stages of cancer."
   ]
  },
  {
   "cell_type": "code",
   "execution_count": 4,
   "id": "c2bb5ea6-a95e-4c35-a3d6-6bb53d2d344f",
   "metadata": {},
   "outputs": [
    {
     "data": {
      "text/plain": [
       "['IU_PDA_T11_raw_counts.csv',\n",
       " 'IU_PDA_T2_raw_counts.csv',\n",
       " 'IU_PDA_LNM8_raw_counts.csv',\n",
       " 'IU_PDA_LNM6_raw_counts.csv',\n",
       " 'IU_PDA_HM8_raw_counts.csv',\n",
       " 'IU_PDA_NP10_raw_counts.csv',\n",
       " 'IU_PDA_HM10_raw_counts.csv',\n",
       " 'IU_PDA_HM12_raw_counts.csv',\n",
       " 'IU_PDA_LNM7_raw_counts.csv',\n",
       " 'IU_PDA_HM9_raw_counts.csv',\n",
       " 'IU_PDA_HM2_raw_counts.csv',\n",
       " 'IU_PDA_NP2_raw_counts.csv',\n",
       " 'IU_PDA_HM4_raw_counts.csv',\n",
       " 'IU_PDA_LNM10_raw_counts.csv',\n",
       " 'IU_PDA_T10_raw_counts.csv',\n",
       " 'IU_PDA_HM3_raw_counts.csv',\n",
       " 'IU_PDA_T3_raw_counts.csv',\n",
       " 'IU_PDA_T6_raw_counts.csv',\n",
       " 'IU_PDA_T4_raw_counts.csv',\n",
       " 'IU_PDA_T12_raw_counts.csv',\n",
       " 'IU_PDA_NP11_raw_counts.csv',\n",
       " 'IU_PDA_HM2_2_raw_counts.csv',\n",
       " 'IU_PDA_HM11_raw_counts.csv',\n",
       " 'IU_PDA_T9_raw_counts.csv',\n",
       " 'IU_PDA_T8_raw_counts.csv',\n",
       " 'IU_PDA_HM13_raw_counts.csv',\n",
       " 'IU_PDA_HM5_raw_counts.csv',\n",
       " 'IU_PDA_T1_raw_counts.csv',\n",
       " 'IU_PDA_LNM12_raw_counts.csv',\n",
       " 'IU_PDA_HM6_raw_counts.csv']"
      ]
     },
     "execution_count": 4,
     "metadata": {},
     "output_type": "execute_result"
    }
   ],
   "source": [
    "path_016 = \"/data/kanferg/Sptial_Omics/playGround/Data/Pancreatic_Cancer_paper_2024\"\n",
    "files = [file for file in os.listdir(path_016) if \".csv\" in file]\n",
    "files_row_counts = [file for file in files if \"_raw_counts\" in file]\n",
    "files_row_counts"
   ]
  },
  {
   "cell_type": "code",
   "execution_count": 5,
   "id": "3711ee60-e85f-4568-9ef9-af26398f4b65",
   "metadata": {},
   "outputs": [
    {
     "data": {
      "text/plain": [
       "['HM9',\n",
       " 'HM11',\n",
       " 'HM8',\n",
       " 'HM12',\n",
       " 'HM13',\n",
       " 'HM10',\n",
       " 'HM2',\n",
       " 'HM6',\n",
       " 'HM5',\n",
       " 'HM2_2',\n",
       " 'HM3',\n",
       " 'HM4']"
      ]
     },
     "execution_count": 5,
     "metadata": {},
     "output_type": "execute_result"
    }
   ],
   "source": [
    "files_with_HM = [file for file in files_row_counts if 'HM' in file]\n",
    "hm_identifiers = set()\n",
    "for file in files:\n",
    "    match = re.search(r'HM\\d+(_\\d+)?', file)  # Regex to match 'HM' followed by digits (and optionally _digits)\n",
    "    if match:\n",
    "        hm_identifiers.add(match.group())  # Add the matched HM identifier to the set\n",
    "hm_identifiers = [hm for hm in hm_identifiers]\n",
    "hm_identifiers"
   ]
  },
  {
   "cell_type": "code",
   "execution_count": 6,
   "id": "881f8bf5-1163-4a2e-9409-0acc6fe705fb",
   "metadata": {},
   "outputs": [],
   "source": [
    "def agrrData(tissue_name = hm_identifiers[0]):\n",
    "    file_sel = [file for file in files if tissue_name in file]\n",
    "    def get_file(attrib,file_sel):\n",
    "        file_ind = [file for file in file_sel if attrib in file]\n",
    "        return file_ind[0]\n",
    "    raw_counts_ind =  get_file(attrib = 'raw_counts',file_sel = file_sel)   \n",
    "    xy_coordinates_ind = get_file(attrib = 'xy_coordinates',file_sel =file_sel)\n",
    "    var_ind = get_file(attrib = 'var',file_sel =file_sel)\n",
    "    cell_type_ind = get_file(attrib = 'cell_type',file_sel =file_sel)\n",
    "    clusters_ind = get_file(attrib = 'clusters',file_sel =file_sel)\n",
    "    # read data\n",
    "    counts_df = pd.read_csv(os.path.join(path_016,raw_counts_ind),index_col=None)\n",
    "    counts = counts_df.iloc[:,1:].to_numpy()\n",
    "    del counts_df\n",
    "    xy_coordinates = pd.read_csv(os.path.join(path_016,xy_coordinates_ind),index_col=None).iloc[:,1:].to_numpy()\n",
    "    var = pd.read_csv(os.path.join(path_016,var_ind),index_col=None).iloc[:,1:].rename(columns = {\"x\":'id'})\n",
    "    obs = pd.read_csv(os.path.join(path_016,cell_type_ind),index_col=None).iloc[:,1:].rename(columns = {'seurat_subset$first_type':'cell_type'})\n",
    "    obs['clusters'] = pd.read_csv(os.path.join(path_016,clusters_ind),index_col=None).iloc[:,1:].rename(columns = {'seurat_subset$CompositionCluster_CC':'clusters'})\n",
    "    andata = AnnData(counts.T,var = var ,obsm={\"spatial\": xy_coordinates}, obs = obs, uns = {\"sample_name\":tissue_name})\n",
    "    andata.obsm['spatial'] = np.array(andata.obsm['spatial'], dtype=np.float64)\n",
    "    andata.var = andata.var.set_index('id')\n",
    "    andata.var.index.name = None\n",
    "    andata.X = sp.csr_matrix(andata.X)\n",
    "    return andata"
   ]
  },
  {
   "cell_type": "code",
   "execution_count": 7,
   "id": "759fcc77-d9b7-4832-b1ac-90e5d9b4201f",
   "metadata": {},
   "outputs": [
    {
     "name": "stderr",
     "output_type": "stream",
     "text": [
      "/gpfs/gsfs10/users/kanferg/conda/envs/spatialleiden-cupy/lib/python3.12/site-packages/anndata/_core/aligned_df.py:68: ImplicitModificationWarning: Transforming to str index.\n",
      "  warnings.warn(\"Transforming to str index.\", ImplicitModificationWarning)\n",
      "/gpfs/gsfs10/users/kanferg/conda/envs/spatialleiden-cupy/lib/python3.12/site-packages/anndata/_core/aligned_df.py:68: ImplicitModificationWarning: Transforming to str index.\n",
      "  warnings.warn(\"Transforming to str index.\", ImplicitModificationWarning)\n"
     ]
    },
    {
     "data": {
      "text/plain": [
       "AnnData object with n_obs × n_vars = 1908 × 17893\n",
       "    obs: 'cell_type', 'clusters'\n",
       "    uns: 'sample_name'\n",
       "    obsm: 'spatial'"
      ]
     },
     "execution_count": 7,
     "metadata": {},
     "output_type": "execute_result"
    }
   ],
   "source": [
    "andata_h0 = agrrData(tissue_name = hm_identifiers[0])\n",
    "andata_h0"
   ]
  },
  {
   "cell_type": "code",
   "execution_count": 23,
   "id": "66d1fbdf-576c-420e-8707-e199a062ea6c",
   "metadata": {},
   "outputs": [
    {
     "data": {
      "text/plain": [
       "17893"
      ]
     },
     "execution_count": 23,
     "metadata": {},
     "output_type": "execute_result"
    }
   ],
   "source": [
    "andata_h0.shape[1]"
   ]
  },
  {
   "cell_type": "code",
   "execution_count": 11,
   "id": "a8a594ce-5aed-4a7a-8fb6-658afb69a778",
   "metadata": {},
   "outputs": [],
   "source": [
    "import warnings\n",
    "warnings.filterwarnings('ignore')\n",
    "andata_h0 = agrrData(tissue_name = hm_identifiers[0])\n",
    "andata_h1 = agrrData(tissue_name = hm_identifiers[1])\n",
    "andata_h2 = agrrData(tissue_name = hm_identifiers[2])\n",
    "andata_h3 = agrrData(tissue_name = hm_identifiers[3])\n",
    "andata_h4 = agrrData(tissue_name = hm_identifiers[4])\n",
    "andata_h5 = agrrData(tissue_name = hm_identifiers[5])\n",
    "#andata_h6 = agrrData(tissue_name = hm_identifiers[6])\n",
    "andata_h7 = agrrData(tissue_name = hm_identifiers[7])\n",
    "andata_h8 = agrrData(tissue_name = hm_identifiers[8])\n",
    "andata_h9 = agrrData(tissue_name = hm_identifiers[9])\n",
    "andata_h10 = agrrData(tissue_name = hm_identifiers[10])\n",
    "andata_h11 = agrrData(tissue_name = hm_identifiers[11])"
   ]
  },
  {
   "cell_type": "code",
   "execution_count": 13,
   "id": "3957c9d5-bef2-4482-a721-896d25ee353e",
   "metadata": {},
   "outputs": [],
   "source": [
    "#adata_concat = andata_h0.concatenate(andata_h1)\n",
    "# Step 1: Find the union of all features (genes)\n",
    "all_features = set(andata_h0.var_names)  # Start with the features of the first object\n",
    "\n",
    "for andata in [andata_h0,andata_h2, andata_h3, andata_h4, andata_h5,andata_h7,  andata_h8, andata_h9, andata_h10, andata_h11]:\n",
    "    all_features = all_features.union(set(andata.var_names))\n",
    "\n",
    "# Convert the set of features to a sorted list for consistency\n",
    "all_features = sorted(list(all_features))"
   ]
  },
  {
   "cell_type": "code",
   "execution_count": 16,
   "id": "d2f6556b-e090-4737-9dc3-888ad88f990c",
   "metadata": {},
   "outputs": [],
   "source": [
    "# Step 2: Align the features for each AnnData object\n",
    "def align_features(andata, all_features):\n",
    "    # Create a DataFrame with all features, filling missing values with zeros\n",
    "    full_var_df = pd.DataFrame(index=all_features)\n",
    "    andata.obs['sample_name'] = andata.uns['sample_name']\n",
    "    # Align the current object's features to the union set\n",
    "    aligned_counts = pd.DataFrame(andata.X.toarray(), columns=andata.var_names, index=andata.obs_names).reindex(columns=all_features, fill_value=0)\n",
    "    \n",
    "    # Update the AnnData object with aligned counts and full var information\n",
    "    aligned_andata = AnnData(sp.csr_matrix(aligned_counts), obs=andata.obs, var=full_var_df.loc[aligned_counts.columns], obsm=andata.obsm, uns=andata.uns)\n",
    "    return aligned_andata\n",
    "\n",
    "# Apply feature alignment to each andata\n",
    "andata_h0_aligned = align_features(andata_h0, all_features)\n",
    "andata_h1_aligned = align_features(andata_h1, all_features)\n",
    "andata_h2_aligned = align_features(andata_h2, all_features)\n",
    "andata_h3_aligned = align_features(andata_h3, all_features)\n",
    "andata_h4_aligned = align_features(andata_h4, all_features)\n",
    "andata_h5_aligned = align_features(andata_h5, all_features)\n",
    "#andata_h6_aligned = align_features(andata_h6, all_features)\n",
    "andata_h7_aligned = align_features(andata_h7, all_features)\n",
    "andata_h8_aligned = align_features(andata_h8, all_features)\n",
    "andata_h9_aligned = align_features(andata_h9, all_features)\n",
    "andata_h10_aligned = align_features(andata_h10, all_features)\n",
    "andata_h11_aligned = align_features(andata_h11, all_features)"
   ]
  },
  {
   "cell_type": "code",
   "execution_count": 17,
   "id": "fae68ebd-153b-4ba1-95cc-95ebbb79d0f5",
   "metadata": {},
   "outputs": [],
   "source": [
    "# Step 3: Concatenate the aligned AnnData objects\n",
    "andata_concat = andata_h0_aligned.concatenate(\n",
    "    andata_h0_aligned,andata_h1_aligned,andata_h2_aligned, andata_h3_aligned, andata_h4_aligned, andata_h5_aligned,\n",
    "    andata_h7_aligned, andata_h8_aligned, andata_h9_aligned, andata_h10_aligned,\n",
    "    andata_h11_aligned, join='outer', batch_key='batch',\n",
    ")\n",
    "sample_name = np.unique(andata_concat.obs['sample_name'])"
   ]
  },
  {
   "cell_type": "code",
   "execution_count": null,
   "id": "8b188b97-e989-42c1-8fdd-f1745e03cfc3",
   "metadata": {},
   "outputs": [],
   "source": [
    "andata_concat"
   ]
  },
  {
   "cell_type": "code",
   "execution_count": null,
   "id": "d6ef1ad2-9d15-41ad-8ce4-55c954f2131d",
   "metadata": {},
   "outputs": [],
   "source": [
    "test = andata_concat[andata_concat.obs['sample_name']==sample_name[0],:]\n",
    "sc.pp.calculate_qc_metrics(test, inplace =True)\n",
    "#del test"
   ]
  },
  {
   "cell_type": "code",
   "execution_count": null,
   "id": "cf7d82ac-cbf5-421e-b637-7a3199483c13",
   "metadata": {},
   "outputs": [],
   "source": [
    "def plot_dist(andata,column,ax,sample_name,type = 'obs', bins = 'auto',title = '',xlab = '',ylab =''):\n",
    "    '''\n",
    "    You can replace 'auto' with any other method (e.g., 'fd', 'doane', 'scott', 'rice', 'sturges', or 'sqrt')\n",
    "    '''\n",
    "    palette1 = sns.color_palette(\"colorblind\",9)\n",
    "    andata = andata[andata.obs['sample_name']==sample_name,:]\n",
    "    sc.pp.calculate_qc_metrics(andata,inplace =True)\n",
    "    if type == 'obs':\n",
    "        arr = andata.obs[column].values\n",
    "    else:\n",
    "        arr = andata.var[column].values\n",
    "    bin_edges = np.histogram_bin_edges(arr, bins='auto')\n",
    "    # Calculate bin edges using NumPy's 'auto' method\n",
    "    # Calculate bin width\n",
    "    bin_width = bin_edges[1] - bin_edges[0]\n",
    "    sns.histplot(arr, binwidth=bin_width,color = 'black',palette=palette1,ax = ax, kde=True, line_kws={\"color\": \"black\"})\n",
    "    ax.set_ylabel(ylab)\n",
    "    ax.set_xlabel(xlab)\n",
    "    ax.set_title(title)"
   ]
  },
  {
   "cell_type": "code",
   "execution_count": null,
   "id": "b83f5add-5636-49d5-a782-a883801b5d74",
   "metadata": {},
   "outputs": [],
   "source": [
    "fig, ax = plt.subplots(4, 3, figsize=(10, 10))\n",
    "ax = ax.ravel()\n",
    "plot_dist(andata_concat,column = 'total_counts',ax = ax[0],sample_name = sample_name[0],xlab = sample_name[0])\n",
    "plot_dist(andata_concat,column = 'total_counts',ax = ax[1],sample_name = sample_name[1],xlab = sample_name[1])\n",
    "plot_dist(andata_concat,column = 'total_counts',ax = ax[2],sample_name = sample_name[2],xlab = sample_name[2])\n",
    "plot_dist(andata_concat,column = 'total_counts',ax = ax[3],sample_name = sample_name[3],xlab = sample_name[3])\n",
    "plot_dist(andata_concat,column = 'total_counts',ax = ax[4],sample_name = sample_name[4],xlab = sample_name[4])\n",
    "plot_dist(andata_concat,column = 'total_counts',ax = ax[5],sample_name = sample_name[5],xlab = sample_name[5])\n",
    "plot_dist(andata_concat,column = 'total_counts',ax = ax[6],sample_name = sample_name[6],xlab = sample_name[6])\n",
    "plot_dist(andata_concat,column = 'total_counts',ax = ax[7],sample_name = sample_name[7],xlab = sample_name[7])\n",
    "plot_dist(andata_concat,column = 'total_counts',ax = ax[8],sample_name = sample_name[8],xlab = sample_name[8])\n",
    "plot_dist(andata_concat,column = 'total_counts',ax = ax[9],sample_name = sample_name[9],xlab = sample_name[9])\n",
    "ax[10].axis('off')\n",
    "ax[11].axis('off')\n",
    "plt.subplots_adjust(wspace = 0.5, hspace=0.5)"
   ]
  },
  {
   "cell_type": "code",
   "execution_count": null,
   "id": "e7849a02-9ec3-4eab-8656-51514d7c1aa5",
   "metadata": {},
   "outputs": [],
   "source": [
    "files_with_HM = [file for file in files_row_counts if 'HM' in file]\n",
    "hm_identifiers = set()\n",
    "for file in files:\n",
    "    match = re.search(r'HM\\d+(_\\d+)?', file)  # Regex to match 'HM' followed by digits (and optionally _digits)\n",
    "    if match:\n",
    "        hm_identifiers.add(match.group())  # Add the matched HM identifier to the set\n",
    "hm_identifiers = [hm for hm in hm_identifiers]"
   ]
  },
  {
   "cell_type": "code",
   "execution_count": null,
   "id": "66248ce2-e9bb-47ed-be34-cc92ca2fef80",
   "metadata": {},
   "outputs": [],
   "source": []
  }
 ],
 "metadata": {
  "kernelspec": {
   "display_name": "Python 3 (ipykernel)",
   "language": "python",
   "name": "python3"
  },
  "language_info": {
   "codemirror_mode": {
    "name": "ipython",
    "version": 3
   },
   "file_extension": ".py",
   "mimetype": "text/x-python",
   "name": "python",
   "nbconvert_exporter": "python",
   "pygments_lexer": "ipython3",
   "version": "3.12.6"
  }
 },
 "nbformat": 4,
 "nbformat_minor": 5
}
