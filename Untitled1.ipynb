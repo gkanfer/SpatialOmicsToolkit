{
 "cells": [
  {
   "cell_type": "code",
   "execution_count": 1,
   "id": "1f3843af",
   "metadata": {},
   "outputs": [],
   "source": [
    "import warnings\n",
    "warnings.simplefilter(\"ignore\", FutureWarning)\n",
    "warnings.simplefilter(\"ignore\", UserWarning)\n",
    "warnings.simplefilter(\"ignore\", RuntimeWarning)"
   ]
  },
  {
   "cell_type": "code",
   "execution_count": 2,
   "id": "5cbd297f",
   "metadata": {},
   "outputs": [],
   "source": [
    "import scanpy as sc\n",
    "import os\n",
    "import pandas as pd\n",
    "import numpy as np\n",
    "import matplotlib.pyplot as plt\n",
    "import seaborn as sns\n",
    "import scvi"
   ]
  },
  {
   "cell_type": "code",
   "execution_count": null,
   "id": "a0beabcb",
   "metadata": {},
   "outputs": [],
   "source": [
    "import torch\n",
    "print(\"CUDA available:\", torch.cuda.is_available())"
   ]
  },
  {
   "cell_type": "code",
   "execution_count": 3,
   "id": "692d2eaf",
   "metadata": {},
   "outputs": [],
   "source": [
    "import celltypist\n",
    "from celltypist import models"
   ]
  },
  {
   "cell_type": "markdown",
   "id": "da109de1",
   "metadata": {},
   "source": [
    "Data from [czi](https://cellxgene.cziscience.com/datasets) collection of breast cancer 6 samples."
   ]
  },
  {
   "cell_type": "code",
   "execution_count": 4,
   "id": "9dba6222",
   "metadata": {},
   "outputs": [],
   "source": [
    "ref_name = \"/data/kanferg/Sptial_Omics/playGround/Data/Breast_Cancer/ref/ccdb972d-6655-43ae-9ad8-f895bd893d8a.h5ad\"\n",
    "adata_ref_init = sc.read_h5ad(ref_name)"
   ]
  },
  {
   "cell_type": "code",
   "execution_count": 5,
   "id": "087430d5",
   "metadata": {},
   "outputs": [
    {
     "data": {
      "text/plain": [
       "['breast', 'liver', 'brain', 'chest wall', 'skin epidermis', 'axilla', 'bone spine']\n",
       "Categories (7, object): ['breast', 'brain', 'skin epidermis', 'liver', 'axilla', 'bone spine', 'chest wall']"
      ]
     },
     "execution_count": 5,
     "metadata": {},
     "output_type": "execute_result"
    }
   ],
   "source": [
    "pd.unique(adata_ref_init.obs['tissue'])"
   ]
  },
  {
   "cell_type": "code",
   "execution_count": 6,
   "id": "f417cfc2",
   "metadata": {},
   "outputs": [
    {
     "data": {
      "text/plain": [
       "AnnData object with n_obs × n_vars = 34164 × 18626\n",
       "    obs: 'condition', 'replicate', 'nCount_RNA', 'nFeature_RNA', 'percent.mito', 'RNA_snn_res.0.8', 'seurat_clusters', 'labels_score', 'Order', 'Lane', 'Index', 'cancer', 'reference', 'flowcell', 'min_umis', 'min_genes', 'percent_mito', 'expected_cells', 'total_droplets', 'z_dim', 'z_layers', 'channel_id', 'labels_cl_unif_per_channel', 'filt_median_genes', 'filt_median_umi', 'pass', 'ccpm_id', 'htapp', 'sequenced', 'stage_at_diagnosis', 'metastatic_presentation', 'biopsy_days_after_metastasis', 'ER_primary', 'ER_biopsy', 'PR_primary', 'PR_biopsy', 'HER2_primary', 'HER2_biopsy', 'receptors_primary', 'receptors_biopsy', 'site_biopsy', 'histology_breast', 'histology_biopsy', 'sampleid', 'cnv_cors', 'cnv_cors_max', 'cnv_score', 'cnv_ref_score', 'cnv_score_norm', 'cnv_score_norm_norm', 'cnv_condition', 'cnv_score_norm_norm2', 'pam50_Basal_single', 'pam50_Her2_single', 'pam50_LumA_single', 'pam50_LumB_single', 'pam50_Normal_single', 'pam50_mode_single', 'pam50_subtype_prob_single', 'pam50_Basal_cluster', 'pam50_Her2_cluster', 'pam50_LumA_cluster', 'pam50_LumB_cluster', 'pam50_Normal_cluster', 'pam50_mode_cluster', 'pam50_subtype_prob_cluster', 'S.Score', 'G2M.Score', 'Phase', 'n_genes_by_counts', 'total_counts', 'total_counts_mt', 'pct_counts_mt', 'n_counts', 'leiden', 'compartments', 'select_cell', 'author_cell_type', 'cell_type_ontology_term_id', 'tissue_ontology_term_id', 'development_stage_ontology_term_id', 'sex_ontology_term_id', 'self_reported_ethnicity_ontology_term_id', 'disease_ontology_term_id', 'organism_ontology_term_id', 'assay_ontology_term_id', 'is_primary_data', 'suspension_type', 'donor_id', 'tissue_type', 'cell_type', 'assay', 'disease', 'organism', 'sex', 'tissue', 'self_reported_ethnicity', 'development_stage', 'observation_joinid'\n",
       "    var: 'n_cells', 'mt', 'n_cells_by_counts', 'mean_counts', 'pct_dropout_by_counts', 'total_counts', 'feature_is_filtered', 'feature_name', 'feature_reference', 'feature_biotype', 'feature_length', 'feature_type'\n",
       "    uns: 'citation', 'compartments_colors', \"dendrogram_['named_cluster_split']\", 'hvg', 'leiden', 'neighbors', 'pca', 'rank_genes_groups', 'receptors_biopsy_colors', 'schema_reference', 'schema_version', 'site_biopsy_colors', 'title', 'umap'\n",
       "    obsm: 'X_pca', 'X_umap'\n",
       "    obsp: 'connectivities', 'distances'"
      ]
     },
     "execution_count": 6,
     "metadata": {},
     "output_type": "execute_result"
    }
   ],
   "source": [
    "# select all the breast samples\n",
    "adata_ref_tisueRM = adata_ref_init[adata_ref_init.obs['tissue']=='breast',:].copy()\n",
    "# select all the protein_coding\n",
    "adata_ref = adata_ref_tisueRM[:,adata_ref_tisueRM.var['feature_type']=='protein_coding'].copy()\n",
    "adata_ref"
   ]
  },
  {
   "cell_type": "code",
   "execution_count": 7,
   "id": "ff9c74a3",
   "metadata": {},
   "outputs": [
    {
     "data": {
      "text/plain": [
       "['SAMD11', 'NOC2L', 'KLHL17', 'PLEKHN1', 'PERM1', ..., 'ENSG00000278633.1', 'ENSG00000276345.1', 'ENSG00000275063.1', 'ENSG00000271254.7', 'ENSG00000268674.2']\n",
       "Length: 18626\n",
       "Categories (18626, object): ['A1BG', 'A1CF', 'A2M', 'A2ML1', ..., 'ZYG11B', 'ZYX', 'ZZEF1', 'ZZZ3']"
      ]
     },
     "execution_count": 7,
     "metadata": {},
     "output_type": "execute_result"
    }
   ],
   "source": [
    "pd.unique(adata_ref.var['feature_name'])"
   ]
  },
  {
   "cell_type": "code",
   "execution_count": 8,
   "id": "f81cc0c1",
   "metadata": {},
   "outputs": [
    {
     "data": {
      "text/plain": [
       "['malignant cell', 'blood vessel endothelial cell', 'adipocyte', 'fibroblast', 'T cell', ..., 'macrophage', 'blood vessel smooth muscle cell', 'mature NK T cell', 'endothelial cell of hepatic sinusoid', 'chondrocyte']\n",
       "Length: 11\n",
       "Categories (11, object): ['fibroblast', 'blood vessel endothelial cell', 'T cell', 'adipocyte', ..., 'mature NK T cell', 'malignant cell', 'blood vessel smooth muscle cell', 'endothelial cell of hepatic sinusoid']"
      ]
     },
     "execution_count": 8,
     "metadata": {},
     "output_type": "execute_result"
    }
   ],
   "source": [
    "pd.unique(adata_ref.obs['cell_type'])"
   ]
  },
  {
   "cell_type": "code",
   "execution_count": 9,
   "id": "dbd04ed9",
   "metadata": {},
   "outputs": [
    {
     "data": {
      "text/plain": [
       "['5', '4', '3']\n",
       "Categories (3, object): ['3', '4', '5']"
      ]
     },
     "execution_count": 9,
     "metadata": {},
     "output_type": "execute_result"
    }
   ],
   "source": [
    "pd.unique(adata_ref.obs['Lane'])"
   ]
  },
  {
   "cell_type": "code",
   "execution_count": 10,
   "id": "dfe2f7c1",
   "metadata": {},
   "outputs": [
    {
     "data": {
      "text/plain": [
       "['breast']\n",
       "Categories (1, object): ['breast']"
      ]
     },
     "execution_count": 10,
     "metadata": {},
     "output_type": "execute_result"
    }
   ],
   "source": [
    "pd.unique(adata_ref.obs['tissue'])"
   ]
  },
  {
   "cell_type": "code",
   "execution_count": 11,
   "id": "883d3524",
   "metadata": {},
   "outputs": [
    {
     "data": {
      "text/plain": [
       "cellid\n",
       "HTAPP-225-SMP-6756-TST-channel1_TGCATCCAGTTGCTGT-1                   malignant cell\n",
       "HTAPP-225-SMP-6756-TST-channel1_TGCAGTATCCTGCCAT-1    blood vessel endothelial cell\n",
       "HTAPP-225-SMP-6756-TST-channel1_TCACGCTAGCATGTTC-1                   malignant cell\n",
       "HTAPP-225-SMP-6756-TST-channel1_GGAGGATTCCCTCAAC-1                   malignant cell\n",
       "HTAPP-225-SMP-6756-TST-channel1_ATCACAGTCTTGGTCC-1                        adipocyte\n",
       "                                                                  ...              \n",
       "HTAPP-806-SMP-6789-TST-channel2_ATGCCTCTCTAGGCCG-1                       macrophage\n",
       "HTAPP-806-SMP-6789-TST-channel2_TGAACGTCAGCTACTA-1                       macrophage\n",
       "HTAPP-806-SMP-6789-TST-channel2_GGGACCTAGGTAATCA-1                           T cell\n",
       "HTAPP-806-SMP-6789-TST-channel2_AGACACTCACCTGTCT-1                           T cell\n",
       "HTAPP-806-SMP-6789-TST-channel2_AATGAAGTCCGAGTGC-1                           T cell\n",
       "Name: cell_type, Length: 34164, dtype: category\n",
       "Categories (11, object): ['fibroblast', 'blood vessel endothelial cell', 'T cell', 'adipocyte', ..., 'mature NK T cell', 'malignant cell', 'blood vessel smooth muscle cell', 'endothelial cell of hepatic sinusoid']"
      ]
     },
     "execution_count": 11,
     "metadata": {},
     "output_type": "execute_result"
    }
   ],
   "source": [
    "adata_ref.obs[\"cell_type\"]"
   ]
  },
  {
   "cell_type": "code",
   "execution_count": 12,
   "id": "c4947d3e",
   "metadata": {},
   "outputs": [
    {
     "data": {
      "text/html": [
       "<div>\n",
       "<style scoped>\n",
       "    .dataframe tbody tr th:only-of-type {\n",
       "        vertical-align: middle;\n",
       "    }\n",
       "\n",
       "    .dataframe tbody tr th {\n",
       "        vertical-align: top;\n",
       "    }\n",
       "\n",
       "    .dataframe thead th {\n",
       "        text-align: right;\n",
       "    }\n",
       "</style>\n",
       "<table border=\"1\" class=\"dataframe\">\n",
       "  <thead>\n",
       "    <tr style=\"text-align: right;\">\n",
       "      <th></th>\n",
       "      <th>n_cells</th>\n",
       "      <th>mt</th>\n",
       "      <th>n_cells_by_counts</th>\n",
       "      <th>mean_counts</th>\n",
       "      <th>pct_dropout_by_counts</th>\n",
       "      <th>total_counts</th>\n",
       "      <th>feature_is_filtered</th>\n",
       "      <th>feature_name</th>\n",
       "      <th>feature_reference</th>\n",
       "      <th>feature_biotype</th>\n",
       "      <th>feature_length</th>\n",
       "      <th>feature_type</th>\n",
       "    </tr>\n",
       "  </thead>\n",
       "  <tbody>\n",
       "    <tr>\n",
       "      <th>ENSG00000187634</th>\n",
       "      <td>19705</td>\n",
       "      <td>False</td>\n",
       "      <td>19705</td>\n",
       "      <td>0.047509</td>\n",
       "      <td>95.281856</td>\n",
       "      <td>19842.0</td>\n",
       "      <td>False</td>\n",
       "      <td>SAMD11</td>\n",
       "      <td>NCBITaxon:9606</td>\n",
       "      <td>gene</td>\n",
       "      <td>1731</td>\n",
       "      <td>protein_coding</td>\n",
       "    </tr>\n",
       "    <tr>\n",
       "      <th>ENSG00000188976</th>\n",
       "      <td>50223</td>\n",
       "      <td>False</td>\n",
       "      <td>50223</td>\n",
       "      <td>0.123550</td>\n",
       "      <td>87.974658</td>\n",
       "      <td>51600.0</td>\n",
       "      <td>False</td>\n",
       "      <td>NOC2L</td>\n",
       "      <td>NCBITaxon:9606</td>\n",
       "      <td>gene</td>\n",
       "      <td>1244</td>\n",
       "      <td>protein_coding</td>\n",
       "    </tr>\n",
       "    <tr>\n",
       "      <th>ENSG00000187961</th>\n",
       "      <td>8648</td>\n",
       "      <td>False</td>\n",
       "      <td>8648</td>\n",
       "      <td>0.020752</td>\n",
       "      <td>97.929332</td>\n",
       "      <td>8667.0</td>\n",
       "      <td>False</td>\n",
       "      <td>KLHL17</td>\n",
       "      <td>NCBITaxon:9606</td>\n",
       "      <td>gene</td>\n",
       "      <td>934</td>\n",
       "      <td>protein_coding</td>\n",
       "    </tr>\n",
       "  </tbody>\n",
       "</table>\n",
       "</div>"
      ],
      "text/plain": [
       "                 n_cells     mt  n_cells_by_counts  mean_counts  \\\n",
       "ENSG00000187634    19705  False              19705     0.047509   \n",
       "ENSG00000188976    50223  False              50223     0.123550   \n",
       "ENSG00000187961     8648  False               8648     0.020752   \n",
       "\n",
       "                 pct_dropout_by_counts  total_counts  feature_is_filtered  \\\n",
       "ENSG00000187634              95.281856       19842.0                False   \n",
       "ENSG00000188976              87.974658       51600.0                False   \n",
       "ENSG00000187961              97.929332        8667.0                False   \n",
       "\n",
       "                feature_name feature_reference feature_biotype feature_length  \\\n",
       "ENSG00000187634       SAMD11    NCBITaxon:9606            gene           1731   \n",
       "ENSG00000188976        NOC2L    NCBITaxon:9606            gene           1244   \n",
       "ENSG00000187961       KLHL17    NCBITaxon:9606            gene            934   \n",
       "\n",
       "                   feature_type  \n",
       "ENSG00000187634  protein_coding  \n",
       "ENSG00000188976  protein_coding  \n",
       "ENSG00000187961  protein_coding  "
      ]
     },
     "execution_count": 12,
     "metadata": {},
     "output_type": "execute_result"
    }
   ],
   "source": [
    "adata_ref.var.head(3)"
   ]
  },
  {
   "cell_type": "code",
   "execution_count": 21,
   "id": "3bb22116",
   "metadata": {},
   "outputs": [],
   "source": [
    "adata_ref.var.index = adata_ref.var[\"feature_name\"].astype(str).values"
   ]
  },
  {
   "cell_type": "code",
   "execution_count": 26,
   "id": "fee082e5",
   "metadata": {},
   "outputs": [
    {
     "data": {
      "text/plain": [
       "SAMD11               19705\n",
       "NOC2L                50223\n",
       "KLHL17                8648\n",
       "PLEKHN1              12560\n",
       "PERM1                 1881\n",
       "                     ...  \n",
       "ENSG00000278633.1       29\n",
       "ENSG00000276345.1      701\n",
       "ENSG00000275063.1       11\n",
       "ENSG00000271254.7     5541\n",
       "ENSG00000268674.2       10\n",
       "Name: n_cells, Length: 18626, dtype: int64"
      ]
     },
     "execution_count": 26,
     "metadata": {},
     "output_type": "execute_result"
    }
   ],
   "source": [
    "adata_ref.var[\"n_cells\"]"
   ]
  },
  {
   "cell_type": "code",
   "execution_count": 27,
   "id": "844477b7",
   "metadata": {},
   "outputs": [
    {
     "data": {
      "text/plain": [
       "AnnData object with n_obs × n_vars = 34164 × 18626\n",
       "    obs: 'CellType', 'nCount_RNA'\n",
       "    var: 'n_cells', 'feature_name'"
      ]
     },
     "execution_count": 27,
     "metadata": {},
     "output_type": "execute_result"
    }
   ],
   "source": [
    "from anndata import AnnData\n",
    "adata = AnnData(adata_ref.X, obs={\"CellType\": adata_ref.obs[\"cell_type\"].values,\"nCount_RNA\":adata_ref.obs[\"nCount_RNA\"].values} , var ={\"n_cells\":adata_ref.var[\"n_cells\"].values, \"feature_name\":adata_ref.var[\"feature_name\"].astype(str).values} )\n",
    "adata"
   ]
  },
  {
   "cell_type": "code",
   "execution_count": 30,
   "id": "94581ba3",
   "metadata": {},
   "outputs": [],
   "source": [
    "# convertig to none catagorical data: adata.var['feature_name'].categories.tolist()\n",
    "adata.var.index = adata.var[\"feature_name\"].values"
   ]
  },
  {
   "cell_type": "code",
   "execution_count": 35,
   "id": "953c49a4",
   "metadata": {},
   "outputs": [
    {
     "data": {
      "text/plain": [
       "CellType\n",
       "fibroblast                               2797\n",
       "blood vessel endothelial cell            2816\n",
       "T cell                                   1274\n",
       "adipocyte                                 595\n",
       "chondrocyte                                 1\n",
       "macrophage                                639\n",
       "plasma cell                                31\n",
       "mature NK T cell                           25\n",
       "malignant cell                          25685\n",
       "blood vessel smooth muscle cell           300\n",
       "endothelial cell of hepatic sinusoid        1\n",
       "dtype: int64"
      ]
     },
     "execution_count": 35,
     "metadata": {},
     "output_type": "execute_result"
    }
   ],
   "source": [
    "adata.obs.groupby('CellType').size()"
   ]
  },
  {
   "cell_type": "code",
   "execution_count": 36,
   "id": "6451ae83",
   "metadata": {},
   "outputs": [
    {
     "data": {
      "text/plain": [
       "34164"
      ]
     },
     "execution_count": 36,
     "metadata": {},
     "output_type": "execute_result"
    }
   ],
   "source": [
    "len(adata)"
   ]
  },
  {
   "cell_type": "code",
   "execution_count": 37,
   "id": "872a32f9",
   "metadata": {},
   "outputs": [
    {
     "data": {
      "text/plain": [
       "CellType\n",
       "fibroblast                          2797\n",
       "blood vessel endothelial cell       2816\n",
       "T cell                              1274\n",
       "adipocyte                            595\n",
       "macrophage                           639\n",
       "plasma cell                           31\n",
       "mature NK T cell                      25\n",
       "malignant cell                     25685\n",
       "blood vessel smooth muscle cell      300\n",
       "dtype: int64"
      ]
     },
     "execution_count": 37,
     "metadata": {},
     "output_type": "execute_result"
    }
   ],
   "source": [
    "remove_cell = ['endothelial cell of hepatic sinusoid','chondrocyte']\n",
    "adata = adata[~adata.obs['CellType'].isin(remove_cell), :]\n",
    "adata.obs.groupby('CellType').size()"
   ]
  },
  {
   "cell_type": "code",
   "execution_count": 38,
   "id": "0295f389",
   "metadata": {},
   "outputs": [
    {
     "data": {
      "text/plain": [
       "array([[4524.5474],\n",
       "       [5261.9346],\n",
       "       [4531.005 ],\n",
       "       ...,\n",
       "       [1107.055 ],\n",
       "       [1050.8928],\n",
       "       [ 991.8363]], dtype=float32)"
      ]
     },
     "execution_count": 38,
     "metadata": {},
     "output_type": "execute_result"
    }
   ],
   "source": [
    "np.sort(np.array(adata.X.sum(axis=1)))"
   ]
  },
  {
   "cell_type": "code",
   "execution_count": 47,
   "id": "6e42ddd2",
   "metadata": {},
   "outputs": [],
   "source": [
    "def plot_dist(andata,column,ax,type = 'obs', bins = 'auto',title = '',xlab = '',ylab =''):\n",
    "    '''\n",
    "    You can replace 'auto' with any other method (e.g., 'fd', 'doane', 'scott', 'rice', 'sturges', or 'sqrt')\n",
    "    '''\n",
    "    palette1 = sns.color_palette(\"colorblind\",9)\n",
    "    if type == 'obs':\n",
    "        arr = andata.obs[column].values\n",
    "    else:\n",
    "        arr = andata.var[column].values\n",
    "    bin_edges = np.histogram_bin_edges(arr, bins='auto')\n",
    "    # Calculate bin edges using NumPy's 'auto' method\n",
    "    # Calculate bin width\n",
    "    bin_width = bin_edges[1] - bin_edges[0]\n",
    "    set_image_para()\n",
    "    sns.histplot(arr, binwidth=bin_width,palette=palette1,ax = ax, kde=True)\n",
    "    ax.set_ylabel(ylab)\n",
    "    ax.set_xlabel(xlab)\n",
    "    ax.set_title(title)"
   ]
  },
  {
   "cell_type": "code",
   "execution_count": 39,
   "id": "b62f7725",
   "metadata": {},
   "outputs": [],
   "source": [
    "#andata.var_names_make_unique()\n",
    "adata.layers[\"count\"] = adata.X\n",
    "sc.pp.normalize_total(adata, target_sum = 1e4)\n",
    "sc.pp.log1p(adata)"
   ]
  },
  {
   "cell_type": "code",
   "execution_count": 40,
   "id": "195dcfde",
   "metadata": {},
   "outputs": [],
   "source": [
    "rdata = adata.copy()\n",
    "rdata = rdata[~rdata.obs.CellType.isna()]"
   ]
  },
  {
   "cell_type": "code",
   "execution_count": 41,
   "id": "60620e3e",
   "metadata": {},
   "outputs": [
    {
     "data": {
      "text/plain": [
       "array([[5554.1914 ],\n",
       "       [5980.73   ],\n",
       "       [5470.9233 ],\n",
       "       ...,\n",
       "       [1131.4521 ],\n",
       "       [1081.2574 ],\n",
       "       [1011.51495]], dtype=float32)"
      ]
     },
     "execution_count": 41,
     "metadata": {},
     "output_type": "execute_result"
    }
   ],
   "source": [
    "np.sort(np.array(rdata.X.sum(axis=1)))"
   ]
  },
  {
   "cell_type": "code",
   "execution_count": 42,
   "id": "855d31c2",
   "metadata": {},
   "outputs": [
    {
     "data": {
      "text/plain": [
       "View of AnnData object with n_obs × n_vars = 34162 × 18626\n",
       "    obs: 'CellType', 'nCount_RNA'\n",
       "    var: 'n_cells', 'feature_name'\n",
       "    uns: 'log1p'\n",
       "    layers: 'count'"
      ]
     },
     "execution_count": 42,
     "metadata": {},
     "output_type": "execute_result"
    }
   ],
   "source": [
    "rdata"
   ]
  },
  {
   "cell_type": "code",
   "execution_count": 43,
   "id": "7ec10cd5",
   "metadata": {},
   "outputs": [
    {
     "data": {
      "text/plain": [
       "Index(['SAMD11', 'NOC2L', 'KLHL17', 'PLEKHN1', 'PERM1', 'HES4', 'ISG15',\n",
       "       'AGRN', 'RNF223', 'C1orf159',\n",
       "       ...\n",
       "       'ENSG00000276017.1', 'ENSG00000278817.1', 'ENSG00000277196.4',\n",
       "       'ENSG00000277630.4', 'ENSG00000278384.1', 'ENSG00000278633.1',\n",
       "       'ENSG00000276345.1', 'ENSG00000275063.1', 'ENSG00000271254.7',\n",
       "       'ENSG00000268674.2'],\n",
       "      dtype='object', length=18626)"
      ]
     },
     "execution_count": 43,
     "metadata": {},
     "output_type": "execute_result"
    }
   ],
   "source": [
    "rdata.var_names"
   ]
  },
  {
   "cell_type": "code",
   "execution_count": 44,
   "id": "c05319db",
   "metadata": {},
   "outputs": [
    {
     "name": "stderr",
     "output_type": "stream",
     "text": [
      "🍳 Preparing data before training\n",
      "✂️ 665 non-expressed genes are filtered out\n",
      "🔬 Input data has 34162 cells and 17961 genes\n",
      "⚖️ Scaling input data\n",
      "🏋️ Training data using SGD logistic regression\n",
      "🔎 Selecting features\n",
      "🧬 1870 features are selected\n",
      "🏋️ Starting the second round of training\n",
      "🏋️ Training data using logistic regression\n",
      "✅ Model training done!\n"
     ]
    }
   ],
   "source": [
    "ref_model = celltypist.train(rdata, labels = 'CellType', n_jobs = 22,\n",
    "                            use_SGD = False,\n",
    "                            feature_selection = True, top_genes = 300)"
   ]
  },
  {
   "cell_type": "code",
   "execution_count": 45,
   "id": "9cd59877",
   "metadata": {},
   "outputs": [],
   "source": [
    "ref_path = \"/data/kanferg/Sptial_Omics/playGround/Data/Breast_Cancer/ref/\"\n",
    "ref_model.write(ref_path + 'ref.pkl')"
   ]
  },
  {
   "cell_type": "code",
   "execution_count": 46,
   "id": "c5977838",
   "metadata": {},
   "outputs": [],
   "source": [
    "model_low = models.Model.load(model=\"Immune_All_Low.pkl\")"
   ]
  },
  {
   "cell_type": "code",
   "execution_count": 83,
   "id": "505357b9",
   "metadata": {},
   "outputs": [],
   "source": [
    "pathout = \"/data/kanferg/Sptial_Omics/SpatialOmicsToolkit/out_4\"\n",
    "andata = sc.read_h5ad(os.path.join(pathout, \"adata_concat_BreastCancer_harmony.h5ad\"))"
   ]
  },
  {
   "cell_type": "code",
   "execution_count": 84,
   "id": "24599c27",
   "metadata": {},
   "outputs": [
    {
     "data": {
      "text/plain": [
       "AnnData object with n_obs × n_vars = 293960 × 1094\n",
       "    obs: 'in_tissue', 'array_row', 'array_col', 'n_genes_by_counts', 'total_counts', 'log1p_n_genes_by_counts', 'log1p_total_counts', 'total_counts_MT', 'pct_counts_MT', 'log1p_total_counts_MT', 'cluster', 'batch', 'cluster_harmony'\n",
       "    var: 'gene_ids', 'feature_types', 'genome', 'MT', 'highly_variable', 'n_cells_by_counts-0', 'total_counts-0', 'mean_counts-0', 'pct_dropout_by_counts-0', 'log1p_total_counts-0', 'log1p_mean_counts-0', 'highly_variable_rank-0', 'means-0', 'variances-0', 'variances_norm-0', 'mean-0', 'std-0', 'n_cells_by_counts-1', 'total_counts-1', 'mean_counts-1', 'pct_dropout_by_counts-1', 'log1p_total_counts-1', 'log1p_mean_counts-1', 'highly_variable_rank-1', 'means-1', 'variances-1', 'variances_norm-1', 'mean-1', 'std-1'\n",
       "    uns: 'before', 'harmony', 'leiden', 'pca', 'umap'\n",
       "    obsm: 'X_before_umap', 'X_pca', 'X_pca_before', 'X_umap', 'harmony_umap', 'spatial'\n",
       "    varm: 'PCs'\n",
       "    layers: 'counts', 'log'\n",
       "    obsp: 'before_connectivities', 'before_distances', 'harmony_connectivities', 'harmony_distances'"
      ]
     },
     "execution_count": 84,
     "metadata": {},
     "output_type": "execute_result"
    }
   ],
   "source": [
    "andata"
   ]
  },
  {
   "cell_type": "code",
   "execution_count": 48,
   "id": "6b16d3c7",
   "metadata": {},
   "outputs": [],
   "source": [
    "andata.X = andata.layers['counts']\n",
    "sc.pp.normalize_total(andata, target_sum = 1e4)\n",
    "sc.pp.log1p(andata)"
   ]
  },
  {
   "cell_type": "code",
   "execution_count": 49,
   "id": "bf573a4c",
   "metadata": {},
   "outputs": [
    {
     "name": "stderr",
     "output_type": "stream",
     "text": [
      "🔬 Input data has 293960 cells and 1094 genes\n",
      "🔗 Matching reference genes in the model\n",
      "🧬 687 features used for prediction\n",
      "⚖️ Scaling input data\n",
      "🖋️ Predicting labels\n",
      "✅ Prediction done!\n"
     ]
    }
   ],
   "source": [
    "predictions = celltypist.annotate(andata, model=model_low, majority_voting=False)"
   ]
  },
  {
   "cell_type": "code",
   "execution_count": 50,
   "id": "67538765",
   "metadata": {},
   "outputs": [
    {
     "data": {
      "text/plain": [
       "CellTypist model with 9 cell types and 1870 features\n",
       "    date: 2024-11-12 16:08:27.219132\n",
       "    cell types: T cell, adipocyte, ..., plasma cell\n",
       "    features: MXRA8, MORN1, ..., MT-ND3"
      ]
     },
     "execution_count": 50,
     "metadata": {},
     "output_type": "execute_result"
    }
   ],
   "source": [
    "ref_model"
   ]
  },
  {
   "cell_type": "code",
   "execution_count": 51,
   "id": "af571045",
   "metadata": {},
   "outputs": [],
   "source": [
    "predictions_adata = predictions.to_adata()\n",
    "andata.obs[\"low_label\"] = predictions_adata.obs.loc[andata.obs.index, \"predicted_labels\"]\n",
    "andata.obs[\"low_score\"] = predictions_adata.obs.loc[andata.obs.index, \"conf_score\"]"
   ]
  },
  {
   "cell_type": "code",
   "execution_count": 53,
   "id": "79560302",
   "metadata": {},
   "outputs": [
    {
     "name": "stderr",
     "output_type": "stream",
     "text": [
      "🔬 Input data has 293960 cells and 1094 genes\n",
      "🔗 Matching reference genes in the model\n",
      "🧬 452 features used for prediction\n",
      "⚖️ Scaling input data\n",
      "🖋️ Predicting labels\n",
      "✅ Prediction done!\n"
     ]
    }
   ],
   "source": [
    "predictions = celltypist.annotate(andata, model=ref_model, majority_voting=False)\n",
    "predictions_adata = predictions.to_adata()\n",
    "andata.obs[\"ref_label\"] = predictions_adata.obs.loc[andata.obs.index, \"predicted_labels\"]\n",
    "andata.obs[\"ref_score\"] = predictions_adata.obs.loc[andata.obs.index, \"conf_score\"]"
   ]
  },
  {
   "cell_type": "code",
   "execution_count": 56,
   "id": "7635c9c2",
   "metadata": {},
   "outputs": [
    {
     "data": {
      "text/html": [
       "<div>\n",
       "<style scoped>\n",
       "    .dataframe tbody tr th:only-of-type {\n",
       "        vertical-align: middle;\n",
       "    }\n",
       "\n",
       "    .dataframe tbody tr th {\n",
       "        vertical-align: top;\n",
       "    }\n",
       "\n",
       "    .dataframe thead th {\n",
       "        text-align: right;\n",
       "    }\n",
       "</style>\n",
       "<table border=\"1\" class=\"dataframe\">\n",
       "  <thead>\n",
       "    <tr style=\"text-align: right;\">\n",
       "      <th></th>\n",
       "      <th>low_label</th>\n",
       "      <th>low_score</th>\n",
       "      <th>ref_label</th>\n",
       "      <th>ref_score</th>\n",
       "    </tr>\n",
       "  </thead>\n",
       "  <tbody>\n",
       "    <tr>\n",
       "      <th>s_016um_00107_00066-1-0</th>\n",
       "      <td>Double-positive thymocytes</td>\n",
       "      <td>0.011057</td>\n",
       "      <td>malignant cell</td>\n",
       "      <td>0.882547</td>\n",
       "    </tr>\n",
       "    <tr>\n",
       "      <th>s_016um_00126_00213-1-0</th>\n",
       "      <td>Follicular helper T cells</td>\n",
       "      <td>0.043939</td>\n",
       "      <td>blood vessel endothelial cell</td>\n",
       "      <td>0.445729</td>\n",
       "    </tr>\n",
       "    <tr>\n",
       "      <th>s_016um_00329_00125-1-0</th>\n",
       "      <td>CD16- NK cells</td>\n",
       "      <td>0.050305</td>\n",
       "      <td>malignant cell</td>\n",
       "      <td>0.430702</td>\n",
       "    </tr>\n",
       "    <tr>\n",
       "      <th>s_016um_00184_00346-1-0</th>\n",
       "      <td>Epithelial cells</td>\n",
       "      <td>0.012153</td>\n",
       "      <td>malignant cell</td>\n",
       "      <td>0.881227</td>\n",
       "    </tr>\n",
       "    <tr>\n",
       "      <th>s_016um_00258_00092-1-0</th>\n",
       "      <td>Fibroblasts</td>\n",
       "      <td>0.984018</td>\n",
       "      <td>macrophage</td>\n",
       "      <td>0.999984</td>\n",
       "    </tr>\n",
       "    <tr>\n",
       "      <th>...</th>\n",
       "      <td>...</td>\n",
       "      <td>...</td>\n",
       "      <td>...</td>\n",
       "      <td>...</td>\n",
       "    </tr>\n",
       "    <tr>\n",
       "      <th>s_016um_00001_00157-1-1</th>\n",
       "      <td>Regulatory T cells</td>\n",
       "      <td>0.011739</td>\n",
       "      <td>malignant cell</td>\n",
       "      <td>0.970702</td>\n",
       "    </tr>\n",
       "    <tr>\n",
       "      <th>s_016um_00404_00257-1-1</th>\n",
       "      <td>Fibroblasts</td>\n",
       "      <td>0.981071</td>\n",
       "      <td>fibroblast</td>\n",
       "      <td>1.000000</td>\n",
       "    </tr>\n",
       "    <tr>\n",
       "      <th>s_016um_00412_00400-1-1</th>\n",
       "      <td>Double-positive thymocytes</td>\n",
       "      <td>0.017417</td>\n",
       "      <td>malignant cell</td>\n",
       "      <td>0.988538</td>\n",
       "    </tr>\n",
       "    <tr>\n",
       "      <th>s_016um_00361_00190-1-1</th>\n",
       "      <td>Fibroblasts</td>\n",
       "      <td>0.071051</td>\n",
       "      <td>fibroblast</td>\n",
       "      <td>0.067396</td>\n",
       "    </tr>\n",
       "    <tr>\n",
       "      <th>s_016um_00242_00130-1-1</th>\n",
       "      <td>Endothelial cells</td>\n",
       "      <td>0.726260</td>\n",
       "      <td>blood vessel endothelial cell</td>\n",
       "      <td>0.999995</td>\n",
       "    </tr>\n",
       "  </tbody>\n",
       "</table>\n",
       "<p>293960 rows × 4 columns</p>\n",
       "</div>"
      ],
      "text/plain": [
       "                                          low_label  low_score  \\\n",
       "s_016um_00107_00066-1-0  Double-positive thymocytes   0.011057   \n",
       "s_016um_00126_00213-1-0   Follicular helper T cells   0.043939   \n",
       "s_016um_00329_00125-1-0              CD16- NK cells   0.050305   \n",
       "s_016um_00184_00346-1-0            Epithelial cells   0.012153   \n",
       "s_016um_00258_00092-1-0                 Fibroblasts   0.984018   \n",
       "...                                             ...        ...   \n",
       "s_016um_00001_00157-1-1          Regulatory T cells   0.011739   \n",
       "s_016um_00404_00257-1-1                 Fibroblasts   0.981071   \n",
       "s_016um_00412_00400-1-1  Double-positive thymocytes   0.017417   \n",
       "s_016um_00361_00190-1-1                 Fibroblasts   0.071051   \n",
       "s_016um_00242_00130-1-1           Endothelial cells   0.726260   \n",
       "\n",
       "                                             ref_label  ref_score  \n",
       "s_016um_00107_00066-1-0                 malignant cell   0.882547  \n",
       "s_016um_00126_00213-1-0  blood vessel endothelial cell   0.445729  \n",
       "s_016um_00329_00125-1-0                 malignant cell   0.430702  \n",
       "s_016um_00184_00346-1-0                 malignant cell   0.881227  \n",
       "s_016um_00258_00092-1-0                     macrophage   0.999984  \n",
       "...                                                ...        ...  \n",
       "s_016um_00001_00157-1-1                 malignant cell   0.970702  \n",
       "s_016um_00404_00257-1-1                     fibroblast   1.000000  \n",
       "s_016um_00412_00400-1-1                 malignant cell   0.988538  \n",
       "s_016um_00361_00190-1-1                     fibroblast   0.067396  \n",
       "s_016um_00242_00130-1-1  blood vessel endothelial cell   0.999995  \n",
       "\n",
       "[293960 rows x 4 columns]"
      ]
     },
     "execution_count": 56,
     "metadata": {},
     "output_type": "execute_result"
    }
   ],
   "source": [
    "predictions = andata.obs[['low_label', 'low_score', 'ref_label', 'ref_score']]\n",
    "\n",
    "predictions"
   ]
  },
  {
   "cell_type": "markdown",
   "id": "1ebf8509",
   "metadata": {},
   "source": [
    "<center><H1>scVI"
   ]
  },
  {
   "cell_type": "code",
   "execution_count": 65,
   "id": "15a14168",
   "metadata": {},
   "outputs": [],
   "source": [
    "# needs row count data and celltype in ref dataset and query data set. also batch\n",
    "rdata.obs['batch'] = 'ref'\n",
    "rdata.X = rdata.layers['count']\n",
    "\n",
    "# load breastCancer data\n",
    "pathout = \"/data/kanferg/Sptial_Omics/SpatialOmicsToolkit/out_4\"\n",
    "andata_bc = sc.read_h5ad(os.path.join(pathout, \"adata_concat_BreastCancer_harmony.h5ad\"))\n",
    "andata_bc.obs['CellType'] = 'Unknown'\n",
    "andata_bc.X = andata_bc.layers['counts']"
   ]
  },
  {
   "cell_type": "code",
   "execution_count": 78,
   "id": "60284942",
   "metadata": {},
   "outputs": [
    {
     "name": "stderr",
     "output_type": "stream",
     "text": [
      "Trainer will use only 1 of 3 GPUs because it is running inside an interactive / notebook environment. You may try to set `Trainer(devices=3)` but please note that multi-GPU inside interactive / notebook environments is considered experimental and unstable. Your mileage may vary.\n",
      "GPU available: True (cuda), used: True\n",
      "TPU available: False, using: 0 TPU cores\n",
      "HPU available: False, using: 0 HPUs\n",
      "LOCAL_RANK: 0 - CUDA_VISIBLE_DEVICES: [0,1,2]\n"
     ]
    },
    {
     "data": {
      "application/vnd.jupyter.widget-view+json": {
       "model_id": "cc7379992a8f403193997dd2cf956225",
       "version_major": 2,
       "version_minor": 0
      },
      "text/plain": [
       "Training:   0%|          | 0/24 [00:00<?, ?it/s]"
      ]
     },
     "metadata": {},
     "output_type": "display_data"
    },
    {
     "name": "stderr",
     "output_type": "stream",
     "text": [
      "`Trainer.fit` stopped: `max_epochs=24` reached.\n"
     ]
    }
   ],
   "source": [
    "andata = sc.concat((andata_bc,rdata))\n",
    "scvi.model.SCVI.setup_anndata(andata, batch_key='batch')\n",
    "vae = scvi.model.SCVI(andata,use_gpu=True)\n",
    "vae.train()"
   ]
  },
  {
   "cell_type": "code",
   "execution_count": 79,
   "id": "83fc0fd8",
   "metadata": {},
   "outputs": [
    {
     "name": "stdout",
     "output_type": "stream",
     "text": [
      "\u001b[34mINFO    \u001b[0m Training for \u001b[1;36m20\u001b[0m epochs.                                                                                   \n"
     ]
    },
    {
     "name": "stderr",
     "output_type": "stream",
     "text": [
      "Trainer will use only 1 of 3 GPUs because it is running inside an interactive / notebook environment. You may try to set `Trainer(devices=3)` but please note that multi-GPU inside interactive / notebook environments is considered experimental and unstable. Your mileage may vary.\n",
      "GPU available: True (cuda), used: True\n",
      "TPU available: False, using: 0 TPU cores\n",
      "HPU available: False, using: 0 HPUs\n",
      "LOCAL_RANK: 0 - CUDA_VISIBLE_DEVICES: [0,1,2]\n"
     ]
    },
    {
     "data": {
      "application/vnd.jupyter.widget-view+json": {
       "model_id": "a9941ab61f1a4e6dbf9d14452a819374",
       "version_major": 2,
       "version_minor": 0
      },
      "text/plain": [
       "Training:   0%|          | 0/20 [00:00<?, ?it/s]"
      ]
     },
     "metadata": {},
     "output_type": "display_data"
    },
    {
     "name": "stderr",
     "output_type": "stream",
     "text": [
      "`Trainer.fit` stopped: `max_epochs=20` reached.\n"
     ]
    }
   ],
   "source": [
    "lvae = scvi.model.SCANVI.from_scvi_model(vae, adata = andata, unlabeled_category = 'Unknown',\n",
    "                                        labels_key = 'CellType')\n",
    "lvae.train(max_epochs=20, n_samples_per_label=100)"
   ]
  },
  {
   "cell_type": "code",
   "execution_count": 80,
   "id": "9216356b",
   "metadata": {},
   "outputs": [],
   "source": [
    "andata.obs['predicted'] = lvae.predict(andata)"
   ]
  },
  {
   "cell_type": "code",
   "execution_count": 81,
   "id": "c96636db",
   "metadata": {},
   "outputs": [],
   "source": [
    "andata.obs['transfer_score'] = lvae.predict(soft = True).max(axis = 1)"
   ]
  },
  {
   "cell_type": "code",
   "execution_count": 82,
   "id": "02376e71",
   "metadata": {},
   "outputs": [
    {
     "data": {
      "text/plain": [
       "AnnData object with n_obs × n_vars = 328122 × 1066\n",
       "    obs: 'batch', 'CellType', '_scvi_batch', '_scvi_labels', 'predicted', 'transfer_score'\n",
       "    uns: '_scvi_uuid', '_scvi_manager_uuid'"
      ]
     },
     "execution_count": 82,
     "metadata": {},
     "output_type": "execute_result"
    }
   ],
   "source": [
    "andata"
   ]
  },
  {
   "cell_type": "code",
   "execution_count": null,
   "id": "425da5c2",
   "metadata": {},
   "outputs": [],
   "source": [
    "andata_"
   ]
  }
 ],
 "metadata": {
  "kernelspec": {
   "display_name": "Python 3 (ipykernel)",
   "language": "python",
   "name": "python3"
  },
  "language_info": {
   "codemirror_mode": {
    "name": "ipython",
    "version": 3
   },
   "file_extension": ".py",
   "mimetype": "text/x-python",
   "name": "python",
   "nbconvert_exporter": "python",
   "pygments_lexer": "ipython3",
   "version": "3.12.7"
  }
 },
 "nbformat": 4,
 "nbformat_minor": 5
}
