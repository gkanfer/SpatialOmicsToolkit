{
 "cells": [
  {
   "cell_type": "code",
   "execution_count": null,
   "id": "b4446715-f3ed-44ad-9e33-b273d8149702",
   "metadata": {},
   "outputs": [],
   "source": [
    "import matplotlib.pyplot as plt\n",
    "from matplotlib.backends.backend_pdf import PdfPages\n",
    "from matplotlib.colors import ListedColormap\n",
    "import matplotlib.ticker as ticker\n",
    "import matplotlib.pyplot as plt\n",
    "import pandas as pd\n",
    "from matplotlib.ticker import MaxNLocator\n",
    "import seaborn as sns\n",
    "import os\n",
    "import gzip\n",
    "import numpy as np\n",
    "import scanpy as sc\n",
    "import squidpy as sq\n",
    "import cupy as cp\n",
    "import cupyx\n",
    "import os\n",
    "import time\n",
    "import rapids_singlecell as rsc\n",
    "import numpy as np\n",
    "import rmm\n",
    "from rmm.allocators.cupy import rmm_cupy_allocator\n",
    "import cupy\n",
    "\n",
    "rmm.reinitialize(\n",
    "    managed_memory=False,  # Allows oversubscription\n",
    "    pool_allocator=False,  # default is False\n",
    "    devices=0,  # GPU device IDs to register. By default registers only GPU 0.\n",
    ")\n",
    "cp.cuda.set_allocator(rmm_cupy_allocator)\n",
    "import zarr\n",
    "from collections import OrderedDict\n",
    "from scipy.sparse import csr_matrix\n",
    "import pandas as pd\n",
    "import scipy.stats as stats\n",
    "from statsmodels.stats.multitest import multipletests\n",
    "from scipy.sparse import csr_matrix\n",
    "import scipy\n",
    "import anndata\n",
    "from collections import OrderedDict\n",
    "path = \"/data/kanferg/Sptial_Omics/playGround/Data/Xenium/output_temp\"\n",
    "pathout = \"/data/kanferg/Sptial_Omics/SpatialOmicsToolkit/out_1\"\n",
    "FilePrefix = \"_072824\" \n",
    "path_xenium = os.path.join(path,\"cell_feature_matrix.h5\")\n",
    "path_cells = os.path.join(path,\"cells.zarr.zip\")\n",
    "adata = sc.read_10x_h5(path_xenium)\n",
    "rsc.get.anndata_to_GPU(adata)\n",
    "rsc.pp.flag_gene_family(adata, gene_family_name=\"MT\", gene_family_prefix=\"mt-\")\n",
    "rsc.pp.calculate_qc_metrics(adata, qc_vars=[\"MT\"])\n",
    "def open_zarr(path: str) -> zarr.Group:\n",
    "    store = (zarr.ZipStore(path, mode=\"r\") if path.endswith(\".zip\") else zarr.DirectoryStore(path))\n",
    "    return zarr.group(store=store)\n",
    "root = open_zarr(path_cells)\n",
    "column_names = dict(root['cell_summary'].attrs.items())['column_names']\n",
    "def build_obs(andata,root,column_names):\n",
    "    for i in range(len(column_names)):\n",
    "        andata.obs[str(column_names[i])] = np.array(root[\"cell_summary\"])[:,i]\n",
    "    spatial = andata.obs[[\"cell_centroid_x\", \"cell_centroid_y\"]]\n",
    "    adata.obsm[\"spatial\"] = spatial.values\n",
    "    return andata\n",
    "andata = build_obs(adata,root,column_names)\n",
    "andata.var_names_make_unique()\n",
    "\n",
    "sc.pp.subsample(andata,copy=False,n_obs=100_000)\n",
    "\n",
    "andata.obsm['spatial'] = np.array(andata.obsm['spatial'], dtype=np.float64)\n",
    "andata.uns['config'] = OrderedDict()\n",
    "andata.uns[\"config\"][\"secondary_var_names\"] = andata.var_names\n",
    "rsc.pp.flag_gene_family(andata, gene_family_name=\"MT\", gene_family_prefix=\"mt-\")\n",
    "rsc.pp.calculate_qc_metrics(andata, qc_vars=[\"MT\"])\n",
    "rsc.pp.filter_cells(andata, min_count=10,qc_var = 'total_counts')\n",
    "rsc.pp.filter_genes(andata, min_count=5)\n",
    "andata.layers['counts'] = andata.X.copy()\n",
    "rsc.pp.normalize_total(andata)\n",
    "rsc.pp.log1p(andata)\n",
    "andata.layers['log'] = andata.X.copy()\n",
    "rsc.pp.highly_variable_genes(andata, n_top_genes=1500, flavor=\"seurat_v3\", layer=\"log\")\n",
    "andata = andata[:, andata.var[\"highly_variable\"]]\n",
    "rsc.pp.scale(andata, max_value=10)\n",
    "rsc.pp.pca(andata, n_comps=30,random_state=1337, use_highly_variable=False)\n",
    "\n",
    "rsc.pp.neighbors(andata, n_pcs=15, use_rep='X_pca', n_neighbors=30)\n",
    "rsc.tl.leiden(andata, random_state=1337, resolution=0.5, key_added='cluster') \n",
    "\n",
    "rsc.tl.rank_genes_groups_logreg(andata, groupby=\"cluster\",groups='all')\n",
    "\n",
    "# andata = sc.read_h5ad(os.path.join(pathout, \"andata_save.h5ad\"))\n",
    "# # data is looged\n",
    "# rsc.tl.rank_genes_groups_logreg(andata, groupby=\"cluster\", use_raw=False)\n",
    "sc.pl.rank_genes_groups(andata, n_genes=20)\n"
   ]
  },
  {
   "cell_type": "code",
   "execution_count": null,
   "id": "c3db6329-80a1-4ab0-895e-0275bb9aada8",
   "metadata": {},
   "outputs": [],
   "source": [
    "rsc.get.anndata_to_CPU(andata)"
   ]
  },
  {
   "cell_type": "code",
   "execution_count": null,
   "id": "9f5c7706-f7ad-4761-8783-d7cf20ee853f",
   "metadata": {},
   "outputs": [],
   "source": [
    "sc.tl.rank_genes_groups(andata, groupby=\"cluster\", method=\"wilcoxon\", key_added=\"dea_clusters\")"
   ]
  },
  {
   "cell_type": "code",
   "execution_count": null,
   "id": "68af7751-6763-424c-aa17-bf6516eed3bc",
   "metadata": {},
   "outputs": [],
   "source": [
    "andata"
   ]
  },
  {
   "cell_type": "code",
   "execution_count": null,
   "id": "e4318717-3fc9-4fb8-b336-57bf10eb3df1",
   "metadata": {},
   "outputs": [],
   "source": [
    "sc.pl.rank_genes_groups_dotplot(andata, groupby=\"cluster\",n_genes=2)"
   ]
  },
  {
   "cell_type": "code",
   "execution_count": null,
   "id": "562982e7-e1ad-4eef-ac80-f9c130f57eb6",
   "metadata": {},
   "outputs": [],
   "source": [
    "sc.pl.rank_genes_groups(andata, n_genes=20)"
   ]
  },
  {
   "cell_type": "code",
   "execution_count": 1,
   "id": "3aa0eff4-513f-46c9-8b75-40b40bcea1d2",
   "metadata": {},
   "outputs": [],
   "source": [
    "import matplotlib.pyplot as plt\n",
    "from matplotlib.backends.backend_pdf import PdfPages\n",
    "from matplotlib.colors import ListedColormap\n",
    "import matplotlib.ticker as ticker\n",
    "import matplotlib.pyplot as plt\n",
    "import pandas as pd\n",
    "from matplotlib.ticker import MaxNLocator\n",
    "import seaborn as sns\n",
    "import os\n",
    "import gzip\n",
    "import numpy as np\n",
    "import scanpy as sc\n",
    "import squidpy as sq\n",
    "import cupy as cp\n",
    "import cupyx\n",
    "import os\n",
    "import time\n",
    "import rapids_singlecell as rsc\n",
    "import numpy as np\n",
    "import rmm\n",
    "from rmm.allocators.cupy import rmm_cupy_allocator\n",
    "import cupy\n",
    "\n",
    "rmm.reinitialize(\n",
    "    managed_memory=False,  # Allows oversubscription\n",
    "    pool_allocator=False,  # default is False\n",
    "    devices=0,  # GPU device IDs to register. By default registers only GPU 0.\n",
    ")\n",
    "cp.cuda.set_allocator(rmm_cupy_allocator)\n",
    "import zarr\n",
    "from collections import OrderedDict\n",
    "from scipy.sparse import csr_matrix\n",
    "import pandas as pd\n",
    "import scipy.stats as stats\n",
    "from statsmodels.stats.multitest import multipletests\n",
    "from scipy.sparse import csr_matrix\n",
    "import scipy\n",
    "import anndata\n",
    "from collections import OrderedDict\n",
    "from rsc_functions.utility.applyqc import applyqc\n",
    "from rsc_functions.reports.plot import plot_spatial,plot_spatial_data\n",
    "from rsc_functions.utility.rank_genes_groups import return_markers,rank_genes_groups\n",
    "from rsc_functions.reports.plot import plot_expression"
   ]
  },
  {
   "cell_type": "code",
   "execution_count": 2,
   "id": "cd187a49-8e98-4a4e-b7ab-a635c1d95e1a",
   "metadata": {},
   "outputs": [],
   "source": [
    "path = \"/data/kanferg/Sptial_Omics/playGround/Data/Xenium/output_temp\"\n",
    "pathout = \"/data/kanferg/Sptial_Omics/SpatialOmicsToolkit/out_1\"\n",
    "FilePrefix = \"_072824\" "
   ]
  },
  {
   "cell_type": "code",
   "execution_count": 3,
   "id": "262564cc-26e9-4c3d-9cd7-5e3a6604191f",
   "metadata": {},
   "outputs": [
    {
     "name": "stdout",
     "output_type": "stream",
     "text": [
      "filtered out 3685 cells\n",
      "filtered out 1 genes based on n_cells_by_counts\n"
     ]
    },
    {
     "name": "stderr",
     "output_type": "stream",
     "text": [
      "/usr/local/apps/rapids-singlecell/mamba/envs/rapids_singlecell/lib/python3.11/site-packages/rapids_singlecell/preprocessing/_hvg.py:517: UserWarning: `flavor='seurat_v3'` expects raw count data, but non-integers were found.\n",
      "  warnings.warn(\n",
      "/usr/local/apps/rapids-singlecell/mamba/envs/rapids_singlecell/lib/python3.11/site-packages/rapids_singlecell/preprocessing/_scale.py:71: UserWarning: Received a view of an AnnData. Making a copy.\n",
      "  view_to_actual(adata)\n",
      "/usr/local/apps/rapids-singlecell/mamba/envs/rapids_singlecell/lib/python3.11/site-packages/scanpy/preprocessing/_pca.py:374: FutureWarning: Argument `use_highly_variable` is deprecated, consider using the mask argument. Use_highly_variable=True can be called through mask_var=\"highly_variable\". Use_highly_variable=False can be called through mask_var=None\n",
      "  warn(msg, FutureWarning)\n"
     ]
    }
   ],
   "source": [
    "path_xenium = os.path.join(path,\"cell_feature_matrix.h5\")\n",
    "path_cells = os.path.join(path,\"cells.zarr.zip\")\n",
    "adata = sc.read_10x_h5(path_xenium)\n",
    "rsc.get.anndata_to_GPU(adata)\n",
    "rsc.pp.flag_gene_family(adata, gene_family_name=\"MT\", gene_family_prefix=\"mt-\")\n",
    "rsc.pp.calculate_qc_metrics(adata, qc_vars=[\"MT\"])\n",
    "def open_zarr(path: str) -> zarr.Group:\n",
    "    store = (zarr.ZipStore(path, mode=\"r\") if path.endswith(\".zip\") else zarr.DirectoryStore(path))\n",
    "    return zarr.group(store=store)\n",
    "root = open_zarr(path_cells)\n",
    "column_names = dict(root['cell_summary'].attrs.items())['column_names']\n",
    "def build_obs(andata,root,column_names):\n",
    "    for i in range(len(column_names)):\n",
    "        andata.obs[str(column_names[i])] = np.array(root[\"cell_summary\"])[:,i]\n",
    "    spatial = andata.obs[[\"cell_centroid_x\", \"cell_centroid_y\"]]\n",
    "    adata.obsm[\"spatial\"] = spatial.values\n",
    "    return andata\n",
    "andata = build_obs(adata,root,column_names)\n",
    "andata.var_names_make_unique()\n",
    "andata.obsm['spatial'] = np.array(andata.obsm['spatial'], dtype=np.float64)\n",
    "andata.uns['config'] = OrderedDict()\n",
    "andata.uns[\"config\"][\"secondary_var_names\"] = andata.var_names\n",
    "rsc.pp.flag_gene_family(andata, gene_family_name=\"MT\", gene_family_prefix=\"mt-\")\n",
    "rsc.pp.calculate_qc_metrics(andata, qc_vars=[\"MT\"])\n",
    "rsc.pp.filter_cells(andata, min_count=10,qc_var = 'total_counts')\n",
    "rsc.pp.filter_genes(andata, min_count=5)\n",
    "andata.layers['counts'] = andata.X.copy()\n",
    "rsc.pp.normalize_total(andata)\n",
    "rsc.pp.log1p(andata)\n",
    "andata.layers['log'] = andata.X.copy()\n",
    "rsc.pp.highly_variable_genes(andata, n_top_genes=1500, flavor=\"seurat_v3\", layer=\"log\")\n",
    "andata = andata[:, andata.var[\"highly_variable\"]]\n",
    "rsc.pp.scale(andata, max_value=10)\n",
    "rsc.pp.pca(andata, n_comps=30,random_state=1337, use_highly_variable=False)\n"
   ]
  },
  {
   "cell_type": "code",
   "execution_count": 4,
   "id": "0250dc4c-ac56-4415-b1fd-51e2db526709",
   "metadata": {},
   "outputs": [
    {
     "data": {
      "image/png": "[encoded data removed]",
      "text/plain": [
       "<Figure size 640x480 with 1 Axes>"
      ]
     },
     "metadata": {},
     "output_type": "display_data"
    }
   ],
   "source": [
    "sc.pl.pca_variance_ratio(andata, log=True, n_pcs=30)"
   ]
  },
  {
   "cell_type": "code",
   "execution_count": 5,
   "id": "d1f8437b-173d-4c0e-8d6e-285f7f763a2d",
   "metadata": {},
   "outputs": [],
   "source": [
    "rsc.pp.neighbors(andata, n_pcs=15, use_rep='X_pca', n_neighbors=30)\n",
    "rsc.tl.leiden(andata, random_state=1337, resolution=0.5, key_added='cluster') "
   ]
  },
  {
   "cell_type": "markdown",
   "id": "cb3c716e-9917-4237-b319-dbb14f00d19e",
   "metadata": {},
   "source": [
    "save subsample"
   ]
  },
  {
   "cell_type": "code",
   "execution_count": 6,
   "id": "df447928-c190-40f3-981b-f7dcaf01e7f3",
   "metadata": {},
   "outputs": [],
   "source": [
    "sc.pp.subsample(andata,copy=False,n_obs=100_000)"
   ]
  },
  {
   "cell_type": "code",
   "execution_count": 7,
   "id": "a634e914-70a4-4e0d-b912-af9c6262b514",
   "metadata": {},
   "outputs": [],
   "source": [
    "sparse_matrix = andata.obsp['distances']\n",
    "\n",
    "# Save the sparse matrix components\n",
    "cp.savez(os.path.join(pathout, \"obsp_distances.npz\"), \n",
    "         data=sparse_matrix.data, \n",
    "         indices=sparse_matrix.indices, \n",
    "         indptr=sparse_matrix.indptr, \n",
    "         shape=sparse_matrix.shape)"
   ]
  },
  {
   "cell_type": "code",
   "execution_count": 8,
   "id": "4234c91a-4b69-4626-899d-94f5ef55f30d",
   "metadata": {},
   "outputs": [],
   "source": [
    "sparse_matrix = andata.obsp['connectivities']\n",
    "\n",
    "# Save the sparse matrix components\n",
    "cp.savez(os.path.join(pathout, \"connectivities.npz\"), \n",
    "         data=sparse_matrix.data, \n",
    "         indices=sparse_matrix.indices, \n",
    "         indptr=sparse_matrix.indptr, \n",
    "         shape=sparse_matrix.shape)"
   ]
  },
  {
   "cell_type": "code",
   "execution_count": 9,
   "id": "e6a87002-b16b-4b17-a47f-f7ff2c8b51ed",
   "metadata": {},
   "outputs": [
    {
     "data": {
      "text/plain": [
       "AnnData object with n_obs × n_vars = 100000 × 1500\n",
       "    obs: 'n_genes_by_counts', 'total_counts', 'log1p_n_genes_by_counts', 'log1p_total_counts', 'total_counts_MT', 'pct_counts_MT', 'log1p_total_counts_MT', 'cell_centroid_x', 'cell_centroid_y', 'cell_area', 'nucleus_centroid_x', 'nucleus_centroid_y', 'nucleus_area', 'z_level', 'nucleus_count', 'cluster'\n",
       "    var: 'gene_ids', 'feature_types', 'genome', 'MT', 'n_cells_by_counts', 'total_counts', 'mean_counts', 'pct_dropout_by_counts', 'log1p_total_counts', 'log1p_mean_counts', 'highly_variable', 'highly_variable_rank', 'means', 'variances', 'variances_norm', 'mean', 'std'\n",
       "    uns: 'config', 'log1p', 'hvg', 'pca', 'neighbors', 'leiden'\n",
       "    obsm: 'spatial', 'X_pca'\n",
       "    varm: 'PCs'\n",
       "    layers: 'counts', 'log'\n",
       "    obsp: 'distances', 'connectivities'"
      ]
     },
     "execution_count": 9,
     "metadata": {},
     "output_type": "execute_result"
    }
   ],
   "source": [
    "andata"
   ]
  },
  {
   "cell_type": "code",
   "execution_count": 10,
   "id": "d80896c5-e105-49ce-9508-2f971fc60fa1",
   "metadata": {},
   "outputs": [],
   "source": [
    "andata_save = andata.copy()\n",
    "andata_save.X = andata_save.layers['log']\n",
    "del andata_save.uns\n",
    "# del andata_save.obsm\n",
    "del andata_save.varm\n",
    "del andata_save.layers\n",
    "del andata_save.obsp"
   ]
  },
  {
   "cell_type": "code",
   "execution_count": 11,
   "id": "783ccb62-923b-49f9-9fef-d7ba76ba58b8",
   "metadata": {},
   "outputs": [],
   "source": [
    "andata_save.write_h5ad(os.path.join(pathout, \"andata_save.h5ad\"))"
   ]
  },
  {
   "cell_type": "code",
   "execution_count": null,
   "id": "7f66feba-004b-43b8-9062-0f2b8bd90ce2",
   "metadata": {},
   "outputs": [],
   "source": [
    "import cupy as cp\n",
    "from cupyx.scipy.sparse import csr_matrix\n",
    "\n",
    "# Load the saved sparse matrix components\n",
    "npzfile = cp.load(os.path.join(pathout, \"obsp_distances.npz\"))\n",
    "data = cp.array(npzfile['data'])\n",
    "indices = cp.array(npzfile['indices'])\n",
    "indptr = cp.array(npzfile['indptr'])\n",
    "shape = tuple(npzfile['shape'])\n",
    "\n",
    "# Reconstruct the sparse matrix\n",
    "sparse_matrix_gpu = csr_matrix((data, indices, indptr), shape=shape)\n",
    "\n",
    "# Verify the result\n",
    "print(sparse_matrix_gpu)\n",
    "print(f\"Shape: {sparse_matrix_gpu.shape}\")"
   ]
  },
  {
   "cell_type": "code",
   "execution_count": null,
   "id": "877c929f-aa31-4c11-b1ad-73bfc369971e",
   "metadata": {},
   "outputs": [],
   "source": []
  },
  {
   "cell_type": "code",
   "execution_count": null,
   "id": "d92765a4-ac85-449f-90b1-5f9ea803503d",
   "metadata": {},
   "outputs": [],
   "source": []
  },
  {
   "cell_type": "code",
   "execution_count": null,
   "id": "ad9ea467-1f9c-4615-95ad-410ad080ca8c",
   "metadata": {},
   "outputs": [],
   "source": []
  },
  {
   "cell_type": "code",
   "execution_count": null,
   "id": "3955181e-bd4c-4d33-8e10-966d96257e7d",
   "metadata": {},
   "outputs": [],
   "source": []
  },
  {
   "cell_type": "code",
   "execution_count": null,
   "id": "b7dfee62-0e9c-431d-978f-560159c81107",
   "metadata": {},
   "outputs": [],
   "source": [
    "fig, ax = plt.subplots(1, 1, figsize=(5, 4))\n",
    "plot_spatial(andata,ax = ax, features = None, title = '', xlab = '',ylab ='',size = 1)"
   ]
  },
  {
   "cell_type": "code",
   "execution_count": null,
   "id": "e2379cee-dabc-432e-a206-b1b6a0eef707",
   "metadata": {},
   "outputs": [],
   "source": [
    "rsc.tl.umap(andata, min_dist=0.3)"
   ]
  },
  {
   "cell_type": "code",
   "execution_count": null,
   "id": "19e8c01d-b195-48a2-9cb4-e68c95d9aa00",
   "metadata": {},
   "outputs": [],
   "source": [
    "sc.pl.umap(andata, color=['cluster'], legend_loc=\"on data\")"
   ]
  },
  {
   "cell_type": "code",
   "execution_count": null,
   "id": "d162deae-da78-43b2-92cd-a748cc79e68f",
   "metadata": {},
   "outputs": [],
   "source": [
    "fig, ax = plt.subplots(2, 2, figsize=(12, 12))\n",
    "ax = ax.ravel()\n",
    "plot_spatial_data(andata, 'total_counts', fig = fig , ax = ax[0],set_xlabel_cbar = 'Total Count',size = 0.1)\n",
    "plot_spatial_data(andata, 'cell_area', fig = fig, ax = ax[1],set_xlabel_cbar = 'Cell Area',size = 0.1)\n",
    "plot_spatial_data(andata, 'nucleus_area', fig = fig , ax = ax[2],set_xlabel_cbar = 'Nucleus Area',size = 0.1)\n",
    "plot_spatial_data(andata, 'nucleus_count', fig = fig , ax = ax[3],set_xlabel_cbar = 'Nucleus Count',size = 0.1)"
   ]
  },
  {
   "cell_type": "code",
   "execution_count": null,
   "id": "a59aa28e-7782-4dc0-84f8-3f4a2c445802",
   "metadata": {},
   "outputs": [],
   "source": [
    "andata.X = andata.layers[\"log\"]\n",
    "rsc.tl.rank_genes_groups_logreg(andata, groupby=\"cluster\", use_raw=False)"
   ]
  },
  {
   "cell_type": "code",
   "execution_count": null,
   "id": "10c94d65-d58f-418d-ba58-498a0a729fa0",
   "metadata": {},
   "outputs": [],
   "source": [
    "marker_list = np.ravel(pd.DataFrame.from_records(andata.uns['rank_genes_groups']['names']).to_numpy())\n",
    "marker_sel = marker_list[0:9]\n",
    "unique_clusters = andata.obs['cluster'].unique()\n",
    "cluster_order = sorted(unique_clusters)"
   ]
  },
  {
   "cell_type": "code",
   "execution_count": null,
   "id": "dfd041bd-b87b-4766-8e26-fe263ebc35ad",
   "metadata": {},
   "outputs": [],
   "source": [
    "import warnings\n",
    "\n",
    "# Suppress warnings in this specific code chunk\n",
    "with warnings.catch_warnings():\n",
    "    warnings.simplefilter(\"ignore\")\n",
    "    plt.rcParams['figure.dpi'] = 150\n",
    "    plt.rcParams['font.family'] = ['serif']\n",
    "    plt.rcParams['font.size'] = 12\n",
    "    plt.rcParams['axes.labelsize'] = 12\n",
    "    plt.rcParams['axes.titlesize'] = 12\n",
    "    plt.rcParams['xtick.labelsize'] = 12\n",
    "    plt.rcParams['ytick.labelsize'] = 12\n",
    "    fig, ax = plt.subplots(3, 3, figsize=(20, 20),sharey=all)\n",
    "    ax = np.ravel(ax)\n",
    "    for i,marker in enumerate(marker_sel):\n",
    "        df_expression = pd.DataFrame({'cluster':andata.obs['cluster'].to_numpy()})\n",
    "        df_expression['cluster'] = pd.Categorical(df_expression['cluster'], categories=cluster_order, ordered=True)\n",
    "        df_expression[marker] = return_markers(andata = andata, marker= marker)\n",
    "        df_expression = df_expression.loc[df_expression[marker]>0,:]\n",
    "        # Set cluster order\n",
    "        plot_expression(df = df_expression, marker = marker,ax = ax[i],inner = None,fill = True,dodge = True, linecolor = 'black',linewidth = 2.2)\n",
    "    "
   ]
  },
  {
   "cell_type": "code",
   "execution_count": null,
   "id": "6fa4cede-3d90-477c-844c-83e3a18f5e16",
   "metadata": {},
   "outputs": [],
   "source": [
    "sc.pl.rank_genes_groups(andata, n_genes=20)"
   ]
  },
  {
   "cell_type": "code",
   "execution_count": null,
   "id": "1b18e76a-60fc-4513-a070-03d91c3f8acb",
   "metadata": {},
   "outputs": [],
   "source": [
    "rank_genes_groups(andata,return_andata = True)"
   ]
  },
  {
   "cell_type": "code",
   "execution_count": null,
   "id": "d2d3b478-7b85-4af5-96e7-3ec60a00ad04",
   "metadata": {},
   "outputs": [],
   "source": [
    "scores_df = pd.DataFrame.from_records(andata.uns['rank_genes_groups']['scores'])\n",
    "names_df = pd.DataFrame.from_records(andata.uns['rank_genes_groups']['names'])\n",
    "pvalues_df = pd.DataFrame.from_records(andata.uns['rank_genes_groups']['p_values'])\n",
    "\n",
    "scores_df.iloc[:,0].values"
   ]
  },
  {
   "cell_type": "code",
   "execution_count": null,
   "id": "8c22cabd-1f23-422c-8931-7953e3f2b64c",
   "metadata": {},
   "outputs": [],
   "source": [
    "import squidpy as sq\n",
    "sq.gr.spatial_neighbors(andata, coord_type=\"generic\",delaunay = True)\n",
    "sq.gr.nhood_enrichment(andata, cluster_key=\"cluster\")"
   ]
  },
  {
   "cell_type": "code",
   "execution_count": null,
   "id": "404070a2-69ec-4d81-a903-c7fc7d9c2e0c",
   "metadata": {},
   "outputs": [],
   "source": [
    "from matplotlib.colors import LinearSegmentedColormap\n",
    "\n",
    "colors = [(0, 0, 1), (1, 1, 1), (1, 0, 0)]  # Blue -> White -> Red\n",
    "n_bins = 100  # Discretize into 100 bins\n",
    "custom_cmap = LinearSegmentedColormap.from_list('custom_cmap', colors, N=n_bins)\n",
    "\n",
    "plt.rcParams['figure.dpi'] = 150\n",
    "plt.rcParams['font.family'] = ['serif']\n",
    "plt.rcParams['font.size'] = 12\n",
    "plt.rcParams['axes.labelsize'] = 12\n",
    "plt.rcParams['axes.titlesize'] = 12\n",
    "plt.rcParams['xtick.labelsize'] = 12\n",
    "plt.rcParams['ytick.labelsize'] = 12\n",
    "\n",
    "sq.pl.nhood_enrichment(\n",
    "    andata,\n",
    "    title = \"Neighborhood Enrichment generic\",\n",
    "    cluster_key=\"cluster\",\n",
    "    method=\"average\",\n",
    "    cmap=custom_cmap,\n",
    "    vmin=-200,\n",
    "    vmax=200,\n",
    "    figsize=(5, 5),\n",
    ")"
   ]
  },
  {
   "cell_type": "code",
   "execution_count": null,
   "id": "12c7f8c7-be44-47ee-89a7-6f34161e3c29",
   "metadata": {},
   "outputs": [],
   "source": [
    "rsc.pp.neighbors(andata, n_pcs=15, use_rep='X_pca', n_neighbors=30,key_added = 'knn')\n",
    "andata"
   ]
  },
  {
   "cell_type": "code",
   "execution_count": null,
   "id": "cb71f6e0-b959-492f-b6ec-daa73ca947b0",
   "metadata": {},
   "outputs": [],
   "source": [
    "sc.pp.subsample(andata,copy=False,n_obs=1000)"
   ]
  },
  {
   "cell_type": "code",
   "execution_count": null,
   "id": "860dd3d6-d837-4ad5-bd30-f5dbb34d8070",
   "metadata": {},
   "outputs": [],
   "source": [
    "from rsc_functions.reports.plot import plot_spatial, plot_spatial_data, plot_moran "
   ]
  },
  {
   "cell_type": "code",
   "execution_count": null,
   "id": "8bd0c600-05d6-484b-ae29-96ab8e596b42",
   "metadata": {},
   "outputs": [],
   "source": [
    "plot_moran(andata = andata,feature = 'total_counts', figsize =(5,4),xlabel = '',ylabel = '',title = 'sum count',s =1)"
   ]
  },
  {
   "cell_type": "code",
   "execution_count": null,
   "id": "519901ec-e797-477b-b4b8-7db6b0ba3513",
   "metadata": {},
   "outputs": [],
   "source": [
    "andata"
   ]
  },
  {
   "cell_type": "code",
   "execution_count": null,
   "id": "be01950c-b0f0-4c83-930a-06c120b7022e",
   "metadata": {},
   "outputs": [],
   "source": []
  }
 ],
 "metadata": {
  "kernelspec": {
   "display_name": "Python 3 (ipykernel)",
   "language": "python",
   "name": "python3"
  },
  "language_info": {
   "codemirror_mode": {
    "name": "ipython",
    "version": 3
   },
   "file_extension": ".py",
   "mimetype": "text/x-python",
   "name": "python",
   "nbconvert_exporter": "python",
   "pygments_lexer": "ipython3",
   "version": "3.8.19"
  }
 },
 "nbformat": 4,
 "nbformat_minor": 5
}
