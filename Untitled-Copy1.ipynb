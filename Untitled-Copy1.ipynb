{
 "cells": [
  {
   "cell_type": "code",
   "execution_count": 1,
   "id": "db48e9b2-b42e-46ce-8163-5c48bc27681a",
   "metadata": {},
   "outputs": [],
   "source": [
    "import matplotlib.pyplot as plt\n",
    "from matplotlib.backends.backend_pdf import PdfPages\n",
    "from matplotlib.colors import ListedColormap\n",
    "import matplotlib.ticker as ticker\n",
    "import matplotlib.pyplot as plt\n",
    "import pandas as pd\n",
    "from matplotlib.ticker import MaxNLocator\n",
    "import seaborn as sns\n",
    "import os\n",
    "import gzip\n",
    "import numpy as np\n",
    "import scanpy as sc\n",
    "import cupy as cp\n",
    "import os\n",
    "import time\n",
    "import rapids_singlecell as rsc\n",
    "import numpy as np\n",
    "import rmm\n",
    "from rmm.allocators.cupy import rmm_cupy_allocator\n",
    "\n",
    "rmm.reinitialize(\n",
    "    managed_memory=False,  # Allows oversubscription\n",
    "    pool_allocator=False,  # default is False\n",
    "    devices=0,  # GPU device IDs to register. By default registers only GPU 0.\n",
    ")\n",
    "cp.cuda.set_allocator(rmm_cupy_allocator)\n",
    "import zarr\n",
    "from collections import OrderedDict\n",
    "from scipy.sparse import csr_matrix\n",
    "import pandas as pd\n",
    "import scipy.stats as stats\n",
    "from statsmodels.stats.multitest import multipletests\n",
    "from scipy.sparse import csr_matrix\n",
    "import scipy\n",
    "import anndata\n",
    "from collections import OrderedDict"
   ]
  },
  {
   "cell_type": "code",
   "execution_count": 2,
   "id": "ad6f74ec-cf3b-4c1f-9846-dbe4606a54eb",
   "metadata": {},
   "outputs": [],
   "source": [
    "from rsc_functions.utility.applyqc import applyqc "
   ]
  },
  {
   "cell_type": "code",
   "execution_count": 3,
   "id": "2157b52a-c719-44bd-bc32-e4e5e1129da1",
   "metadata": {},
   "outputs": [],
   "source": [
    "from rsc_functions.utility.clustersMake import clustersMake "
   ]
  },
  {
   "cell_type": "code",
   "execution_count": 4,
   "id": "14ef0bcf-bd78-432e-97da-2e6463fae67b",
   "metadata": {},
   "outputs": [],
   "source": [
    "path = \"/data/kanferg/Sptial_Omics/playGround/Data/Xenium/output_temp\"\n",
    "pathout = \"/data/kanferg/Sptial_Omics/SpatialOmicsToolkit/out_1\"\n",
    "FilePrefix = \"_072824\" "
   ]
  },
  {
   "cell_type": "code",
   "execution_count": 5,
   "id": "6d745655-7df6-4b9d-8391-bc76b9fa9fc1",
   "metadata": {},
   "outputs": [],
   "source": [
    "path_xenium = os.path.join(path,\"cell_feature_matrix.h5\")\n",
    "path_cells = os.path.join(path,\"cells.zarr.zip\")\n",
    "adata = sc.read_10x_h5(path_xenium)\n",
    "rsc.get.anndata_to_GPU(adata)\n",
    "rsc.pp.flag_gene_family(adata, gene_family_name=\"MT\", gene_family_prefix=\"mt-\")\n",
    "rsc.pp.calculate_qc_metrics(adata, qc_vars=[\"MT\"])\n",
    "def open_zarr(path: str) -> zarr.Group:\n",
    "    store = (zarr.ZipStore(path, mode=\"r\") if path.endswith(\".zip\") else zarr.DirectoryStore(path))\n",
    "    return zarr.group(store=store)\n",
    "root = open_zarr(path_cells)\n",
    "column_names = dict(root['cell_summary'].attrs.items())['column_names']\n",
    "def build_obs(andata,root,column_names):\n",
    "    for i in range(len(column_names)):\n",
    "        andata.obs[str(column_names[i])] = np.array(root[\"cell_summary\"])[:,i]\n",
    "    spatial = andata.obs[[\"cell_centroid_x\", \"cell_centroid_y\"]]\n",
    "    adata.obsm[\"spatial\"] = spatial.values\n",
    "    return andata"
   ]
  },
  {
   "cell_type": "code",
   "execution_count": 6,
   "id": "320d63ac-1a2b-42f6-9107-9b9d8bc4e322",
   "metadata": {},
   "outputs": [],
   "source": [
    "andata = build_obs(adata,root,column_names)"
   ]
  },
  {
   "cell_type": "code",
   "execution_count": 7,
   "id": "a9c47cc0-8868-4974-8213-d13b09890f49",
   "metadata": {},
   "outputs": [],
   "source": [
    "andata.var_names_make_unique()\n",
    "andata.obsm['spatial'] = np.array(andata.obsm['spatial'], dtype=np.float64)\n",
    "andata.uns['config'] = OrderedDict()\n",
    "andata.uns[\"config\"][\"secondary_var_names\"] = andata.var_names\n",
    "rsc.pp.flag_gene_family(andata, gene_family_name=\"MT\", gene_family_prefix=\"mt-\")\n",
    "rsc.pp.calculate_qc_metrics(andata, qc_vars=[\"MT\"])"
   ]
  },
  {
   "cell_type": "code",
   "execution_count": 8,
   "id": "7d11c95d-040d-4743-9fc0-7275191cf9f7",
   "metadata": {},
   "outputs": [
    {
     "data": {
      "text/plain": [
       "AnnData object with n_obs × n_vars = 708983 × 4624\n",
       "    obs: 'n_genes_by_counts', 'total_counts', 'log1p_n_genes_by_counts', 'log1p_total_counts', 'total_counts_MT', 'pct_counts_MT', 'log1p_total_counts_MT', 'cell_centroid_x', 'cell_centroid_y', 'cell_area', 'nucleus_centroid_x', 'nucleus_centroid_y', 'nucleus_area', 'z_level', 'nucleus_count'\n",
       "    var: 'gene_ids', 'feature_types', 'genome', 'MT', 'n_cells_by_counts', 'total_counts', 'mean_counts', 'pct_dropout_by_counts', 'log1p_total_counts', 'log1p_mean_counts'\n",
       "    uns: 'config'\n",
       "    obsm: 'spatial'"
      ]
     },
     "execution_count": 8,
     "metadata": {},
     "output_type": "execute_result"
    }
   ],
   "source": [
    "andata"
   ]
  },
  {
   "cell_type": "code",
   "execution_count": 9,
   "id": "35848b3c-e8d4-4400-a84b-7cdcb52c73b1",
   "metadata": {},
   "outputs": [
    {
     "name": "stdout",
     "output_type": "stream",
     "text": [
      "filtered out 3685 cells\n",
      "filtered out 1 genes based on n_cells_by_counts\n"
     ]
    }
   ],
   "source": [
    "rsc.pp.filter_cells(andata, min_count=10,qc_var = 'total_counts')\n",
    "rsc.pp.filter_genes(andata, min_count=5)"
   ]
  },
  {
   "cell_type": "code",
   "execution_count": 10,
   "id": "962c5f26-0af9-472c-a434-f6867c1ecc42",
   "metadata": {},
   "outputs": [],
   "source": [
    "andata.layers['counts'] = andata.X.copy()"
   ]
  },
  {
   "cell_type": "code",
   "execution_count": 11,
   "id": "e40724c5-28f1-4761-b21b-b119f1c57762",
   "metadata": {},
   "outputs": [],
   "source": [
    "rsc.pp.normalize_total(andata)\n",
    "rsc.pp.log1p(andata)\n",
    "rsc.pp.highly_variable_genes(andata)"
   ]
  },
  {
   "cell_type": "code",
   "execution_count": 13,
   "id": "283a31db-cfd7-4e42-83de-6c9dbab49cae",
   "metadata": {},
   "outputs": [
    {
     "data": {
      "text/plain": [
       "True"
      ]
     },
     "execution_count": 13,
     "metadata": {},
     "output_type": "execute_result"
    }
   ],
   "source": [
    "isinstance(andata.X.todense(), cp.ndarray)"
   ]
  },
  {
   "cell_type": "code",
   "execution_count": 15,
   "id": "f9311f6f-010b-4a34-a180-1b0db1d5ccee",
   "metadata": {},
   "outputs": [
    {
     "data": {
      "text/plain": [
       "False"
      ]
     },
     "execution_count": 15,
     "metadata": {},
     "output_type": "execute_result"
    }
   ],
   "source": [
    "from cupyx.scipy.sparse import issparse, isspmatrix_csc, isspmatrix_csr, spmatrix\n",
    "issparse(andata.X.todense())"
   ]
  },
  {
   "cell_type": "code",
   "execution_count": 32,
   "id": "7e33b4ec-4d9e-4409-810c-377e6e0dcdb1",
   "metadata": {},
   "outputs": [
    {
     "ename": "MemoryError",
     "evalue": "std::bad_alloc: out_of_memory: CUDA error at: /opt/conda/conda-bld/work/include/rmm/mr/device/cuda_memory_resource.hpp:60: cudaErrorMemoryAllocation out of memory",
     "output_type": "error",
     "traceback": [
      "\u001b[0;31m---------------------------------------------------------------------------\u001b[0m",
      "\u001b[0;31mMemoryError\u001b[0m                               Traceback (most recent call last)",
      "Cell \u001b[0;32mIn[32], line 1\u001b[0m\n\u001b[0;32m----> 1\u001b[0m \u001b[43mandata\u001b[49m\u001b[38;5;241;43m.\u001b[39;49m\u001b[43mX\u001b[49m\u001b[38;5;241;43m.\u001b[39;49m\u001b[43mtodense\u001b[49m\u001b[43m(\u001b[49m\u001b[43m)\u001b[49m\n",
      "File \u001b[0;32m/usr/local/apps/rapids-singlecell/mamba/envs/rapids_singlecell/lib/python3.11/site-packages/cupyx/scipy/sparse/_base.py:554\u001b[0m, in \u001b[0;36mspmatrix.todense\u001b[0;34m(self, order, out)\u001b[0m\n\u001b[1;32m    552\u001b[0m \u001b[38;5;28;01mdef\u001b[39;00m \u001b[38;5;21mtodense\u001b[39m(\u001b[38;5;28mself\u001b[39m, order\u001b[38;5;241m=\u001b[39m\u001b[38;5;28;01mNone\u001b[39;00m, out\u001b[38;5;241m=\u001b[39m\u001b[38;5;28;01mNone\u001b[39;00m):\n\u001b[1;32m    553\u001b[0m \u001b[38;5;250m    \u001b[39m\u001b[38;5;124;03m\"\"\"Return a dense matrix representation of this matrix.\"\"\"\u001b[39;00m\n\u001b[0;32m--> 554\u001b[0m     \u001b[38;5;28;01mreturn\u001b[39;00m \u001b[38;5;28;43mself\u001b[39;49m\u001b[38;5;241;43m.\u001b[39;49m\u001b[43mtoarray\u001b[49m\u001b[43m(\u001b[49m\u001b[43morder\u001b[49m\u001b[38;5;241;43m=\u001b[39;49m\u001b[43morder\u001b[49m\u001b[43m,\u001b[49m\u001b[43m \u001b[49m\u001b[43mout\u001b[49m\u001b[38;5;241;43m=\u001b[39;49m\u001b[43mout\u001b[49m\u001b[43m)\u001b[49m\n",
      "File \u001b[0;32m/usr/local/apps/rapids-singlecell/mamba/envs/rapids_singlecell/lib/python3.11/site-packages/cupyx/scipy/sparse/_csr.py:413\u001b[0m, in \u001b[0;36mcsr_matrix.toarray\u001b[0;34m(self, order, out)\u001b[0m\n\u001b[1;32m    410\u001b[0m \u001b[38;5;28;01mif\u001b[39;00m \u001b[38;5;28mself\u001b[39m\u001b[38;5;241m.\u001b[39mdtype\u001b[38;5;241m.\u001b[39mchar \u001b[38;5;129;01mnot\u001b[39;00m \u001b[38;5;129;01min\u001b[39;00m \u001b[38;5;124m'\u001b[39m\u001b[38;5;124mfdFD\u001b[39m\u001b[38;5;124m'\u001b[39m:\n\u001b[1;32m    411\u001b[0m     \u001b[38;5;28;01mreturn\u001b[39;00m csr2dense(\u001b[38;5;28mself\u001b[39m, order)\n\u001b[0;32m--> 413\u001b[0m x \u001b[38;5;241m=\u001b[39m \u001b[38;5;28;43mself\u001b[39;49m\u001b[38;5;241;43m.\u001b[39;49m\u001b[43mcopy\u001b[49m\u001b[43m(\u001b[49m\u001b[43m)\u001b[49m\n\u001b[1;32m    414\u001b[0m x\u001b[38;5;241m.\u001b[39mhas_canonical_format \u001b[38;5;241m=\u001b[39m \u001b[38;5;28;01mFalse\u001b[39;00m  \u001b[38;5;66;03m# need to enforce sum_duplicates\u001b[39;00m\n\u001b[1;32m    415\u001b[0m x\u001b[38;5;241m.\u001b[39msum_duplicates()\n",
      "File \u001b[0;32m/usr/local/apps/rapids-singlecell/mamba/envs/rapids_singlecell/lib/python3.11/site-packages/cupyx/scipy/sparse/_data.py:61\u001b[0m, in \u001b[0;36m_data_matrix.copy\u001b[0;34m(self)\u001b[0m\n\u001b[1;32m     60\u001b[0m \u001b[38;5;28;01mdef\u001b[39;00m \u001b[38;5;21mcopy\u001b[39m(\u001b[38;5;28mself\u001b[39m):\n\u001b[0;32m---> 61\u001b[0m     \u001b[38;5;28;01mreturn\u001b[39;00m \u001b[38;5;28mself\u001b[39m\u001b[38;5;241m.\u001b[39m_with_data(\u001b[38;5;28;43mself\u001b[39;49m\u001b[38;5;241;43m.\u001b[39;49m\u001b[43mdata\u001b[49m\u001b[38;5;241;43m.\u001b[39;49m\u001b[43mcopy\u001b[49m\u001b[43m(\u001b[49m\u001b[43m)\u001b[49m, copy\u001b[38;5;241m=\u001b[39m\u001b[38;5;28;01mTrue\u001b[39;00m)\n",
      "File \u001b[0;32mcupy/_core/core.pyx:585\u001b[0m, in \u001b[0;36mcupy._core.core._ndarray_base.copy\u001b[0;34m()\u001b[0m\n",
      "File \u001b[0;32mcupy/_core/core.pyx:611\u001b[0m, in \u001b[0;36mcupy._core.core._ndarray_base.copy\u001b[0;34m()\u001b[0m\n",
      "File \u001b[0;32mcupy/_core/core.pyx:570\u001b[0m, in \u001b[0;36mcupy._core.core._ndarray_base.astype\u001b[0;34m()\u001b[0m\n",
      "File \u001b[0;32mcupy/_core/core.pyx:132\u001b[0m, in \u001b[0;36mcupy._core.core.ndarray.__new__\u001b[0;34m()\u001b[0m\n",
      "File \u001b[0;32mcupy/_core/core.pyx:220\u001b[0m, in \u001b[0;36mcupy._core.core._ndarray_base._init\u001b[0;34m()\u001b[0m\n",
      "File \u001b[0;32mcupy/cuda/memory.pyx:738\u001b[0m, in \u001b[0;36mcupy.cuda.memory.alloc\u001b[0;34m()\u001b[0m\n",
      "File \u001b[0;32m/usr/local/apps/rapids-singlecell/mamba/envs/rapids_singlecell/lib/python3.11/site-packages/rmm/allocators/cupy.py:37\u001b[0m, in \u001b[0;36mrmm_cupy_allocator\u001b[0;34m(nbytes)\u001b[0m\n\u001b[1;32m     34\u001b[0m     \u001b[38;5;28;01mraise\u001b[39;00m \u001b[38;5;167;01mModuleNotFoundError\u001b[39;00m(\u001b[38;5;124m\"\u001b[39m\u001b[38;5;124mNo module named \u001b[39m\u001b[38;5;124m'\u001b[39m\u001b[38;5;124mcupy\u001b[39m\u001b[38;5;124m'\u001b[39m\u001b[38;5;124m\"\u001b[39m)\n\u001b[1;32m     36\u001b[0m stream \u001b[38;5;241m=\u001b[39m Stream(obj\u001b[38;5;241m=\u001b[39mcupy\u001b[38;5;241m.\u001b[39mcuda\u001b[38;5;241m.\u001b[39mget_current_stream())\n\u001b[0;32m---> 37\u001b[0m buf \u001b[38;5;241m=\u001b[39m \u001b[43mlibrmm\u001b[49m\u001b[38;5;241;43m.\u001b[39;49m\u001b[43mdevice_buffer\u001b[49m\u001b[38;5;241;43m.\u001b[39;49m\u001b[43mDeviceBuffer\u001b[49m\u001b[43m(\u001b[49m\u001b[43msize\u001b[49m\u001b[38;5;241;43m=\u001b[39;49m\u001b[43mnbytes\u001b[49m\u001b[43m,\u001b[49m\u001b[43m \u001b[49m\u001b[43mstream\u001b[49m\u001b[38;5;241;43m=\u001b[39;49m\u001b[43mstream\u001b[49m\u001b[43m)\u001b[49m\n\u001b[1;32m     38\u001b[0m dev_id \u001b[38;5;241m=\u001b[39m \u001b[38;5;241m-\u001b[39m\u001b[38;5;241m1\u001b[39m \u001b[38;5;28;01mif\u001b[39;00m buf\u001b[38;5;241m.\u001b[39mptr \u001b[38;5;28;01melse\u001b[39;00m cupy\u001b[38;5;241m.\u001b[39mcuda\u001b[38;5;241m.\u001b[39mdevice\u001b[38;5;241m.\u001b[39mget_device_id()\n\u001b[1;32m     39\u001b[0m mem \u001b[38;5;241m=\u001b[39m cupy\u001b[38;5;241m.\u001b[39mcuda\u001b[38;5;241m.\u001b[39mUnownedMemory(\n\u001b[1;32m     40\u001b[0m     ptr\u001b[38;5;241m=\u001b[39mbuf\u001b[38;5;241m.\u001b[39mptr, size\u001b[38;5;241m=\u001b[39mbuf\u001b[38;5;241m.\u001b[39msize, owner\u001b[38;5;241m=\u001b[39mbuf, device_id\u001b[38;5;241m=\u001b[39mdev_id\n\u001b[1;32m     41\u001b[0m )\n",
      "File \u001b[0;32mdevice_buffer.pyx:85\u001b[0m, in \u001b[0;36mrmm._lib.device_buffer.DeviceBuffer.__cinit__\u001b[0;34m()\u001b[0m\n",
      "\u001b[0;31mMemoryError\u001b[0m: std::bad_alloc: out_of_memory: CUDA error at: /opt/conda/conda-bld/work/include/rmm/mr/device/cuda_memory_resource.hpp:60: cudaErrorMemoryAllocation out of memory"
     ]
    }
   ],
   "source": [
    "andata.X.todense()"
   ]
  },
  {
   "cell_type": "code",
   "execution_count": 23,
   "id": "01e48149-12a8-46c3-ae75-47430416c13c",
   "metadata": {},
   "outputs": [],
   "source": [
    "import rapids_singlecell\n",
    "from rapids_singlecell.preprocessing._kernels._mean_var_kernel import mean_sum, sq_sum\n",
    "var = sq_sum(andata.X.todense(), axis=0)"
   ]
  },
  {
   "cell_type": "code",
   "execution_count": 25,
   "id": "0834ea9f-b4df-4186-883d-61da64dd7938",
   "metadata": {},
   "outputs": [],
   "source": [
    "mean = mean_sum(andata.X.todense(), axis=0)"
   ]
  },
  {
   "cell_type": "code",
   "execution_count": 29,
   "id": "a7c26a55-71f5-458d-a9f6-413917c17225",
   "metadata": {},
   "outputs": [
    {
     "ename": "MemoryError",
     "evalue": "std::bad_alloc: out_of_memory: CUDA error at: /opt/conda/conda-bld/work/include/rmm/mr/device/cuda_memory_resource.hpp:60: cudaErrorMemoryAllocation out of memory",
     "output_type": "error",
     "traceback": [
      "\u001b[0;31m---------------------------------------------------------------------------\u001b[0m",
      "\u001b[0;31mMemoryError\u001b[0m                               Traceback (most recent call last)",
      "Cell \u001b[0;32mIn[29], line 1\u001b[0m\n\u001b[0;32m----> 1\u001b[0m mean \u001b[38;5;241m=\u001b[39m mean \u001b[38;5;241m/\u001b[39m \u001b[43mandata\u001b[49m\u001b[38;5;241;43m.\u001b[39;49m\u001b[43mX\u001b[49m\u001b[38;5;241;43m.\u001b[39;49m\u001b[43mtodense\u001b[49m\u001b[43m(\u001b[49m\u001b[43m)\u001b[49m\u001b[38;5;241m.\u001b[39mshape[\u001b[38;5;241m0\u001b[39m]\n\u001b[1;32m      2\u001b[0m var \u001b[38;5;241m=\u001b[39m var \u001b[38;5;241m/\u001b[39m andata\u001b[38;5;241m.\u001b[39mX\u001b[38;5;241m.\u001b[39mtodense()\u001b[38;5;241m.\u001b[39mshape[\u001b[38;5;241m0\u001b[39m]\n\u001b[1;32m      3\u001b[0m var \u001b[38;5;241m-\u001b[39m\u001b[38;5;241m=\u001b[39m cp\u001b[38;5;241m.\u001b[39mpower(mean, \u001b[38;5;241m2\u001b[39m)\n",
      "File \u001b[0;32m/usr/local/apps/rapids-singlecell/mamba/envs/rapids_singlecell/lib/python3.11/site-packages/cupyx/scipy/sparse/_base.py:554\u001b[0m, in \u001b[0;36mspmatrix.todense\u001b[0;34m(self, order, out)\u001b[0m\n\u001b[1;32m    552\u001b[0m \u001b[38;5;28;01mdef\u001b[39;00m \u001b[38;5;21mtodense\u001b[39m(\u001b[38;5;28mself\u001b[39m, order\u001b[38;5;241m=\u001b[39m\u001b[38;5;28;01mNone\u001b[39;00m, out\u001b[38;5;241m=\u001b[39m\u001b[38;5;28;01mNone\u001b[39;00m):\n\u001b[1;32m    553\u001b[0m \u001b[38;5;250m    \u001b[39m\u001b[38;5;124;03m\"\"\"Return a dense matrix representation of this matrix.\"\"\"\u001b[39;00m\n\u001b[0;32m--> 554\u001b[0m     \u001b[38;5;28;01mreturn\u001b[39;00m \u001b[38;5;28;43mself\u001b[39;49m\u001b[38;5;241;43m.\u001b[39;49m\u001b[43mtoarray\u001b[49m\u001b[43m(\u001b[49m\u001b[43morder\u001b[49m\u001b[38;5;241;43m=\u001b[39;49m\u001b[43morder\u001b[49m\u001b[43m,\u001b[49m\u001b[43m \u001b[49m\u001b[43mout\u001b[49m\u001b[38;5;241;43m=\u001b[39;49m\u001b[43mout\u001b[49m\u001b[43m)\u001b[49m\n",
      "File \u001b[0;32m/usr/local/apps/rapids-singlecell/mamba/envs/rapids_singlecell/lib/python3.11/site-packages/cupyx/scipy/sparse/_csr.py:413\u001b[0m, in \u001b[0;36mcsr_matrix.toarray\u001b[0;34m(self, order, out)\u001b[0m\n\u001b[1;32m    410\u001b[0m \u001b[38;5;28;01mif\u001b[39;00m \u001b[38;5;28mself\u001b[39m\u001b[38;5;241m.\u001b[39mdtype\u001b[38;5;241m.\u001b[39mchar \u001b[38;5;129;01mnot\u001b[39;00m \u001b[38;5;129;01min\u001b[39;00m \u001b[38;5;124m'\u001b[39m\u001b[38;5;124mfdFD\u001b[39m\u001b[38;5;124m'\u001b[39m:\n\u001b[1;32m    411\u001b[0m     \u001b[38;5;28;01mreturn\u001b[39;00m csr2dense(\u001b[38;5;28mself\u001b[39m, order)\n\u001b[0;32m--> 413\u001b[0m x \u001b[38;5;241m=\u001b[39m \u001b[38;5;28;43mself\u001b[39;49m\u001b[38;5;241;43m.\u001b[39;49m\u001b[43mcopy\u001b[49m\u001b[43m(\u001b[49m\u001b[43m)\u001b[49m\n\u001b[1;32m    414\u001b[0m x\u001b[38;5;241m.\u001b[39mhas_canonical_format \u001b[38;5;241m=\u001b[39m \u001b[38;5;28;01mFalse\u001b[39;00m  \u001b[38;5;66;03m# need to enforce sum_duplicates\u001b[39;00m\n\u001b[1;32m    415\u001b[0m x\u001b[38;5;241m.\u001b[39msum_duplicates()\n",
      "File \u001b[0;32m/usr/local/apps/rapids-singlecell/mamba/envs/rapids_singlecell/lib/python3.11/site-packages/cupyx/scipy/sparse/_data.py:61\u001b[0m, in \u001b[0;36m_data_matrix.copy\u001b[0;34m(self)\u001b[0m\n\u001b[1;32m     60\u001b[0m \u001b[38;5;28;01mdef\u001b[39;00m \u001b[38;5;21mcopy\u001b[39m(\u001b[38;5;28mself\u001b[39m):\n\u001b[0;32m---> 61\u001b[0m     \u001b[38;5;28;01mreturn\u001b[39;00m \u001b[38;5;28;43mself\u001b[39;49m\u001b[38;5;241;43m.\u001b[39;49m\u001b[43m_with_data\u001b[49m\u001b[43m(\u001b[49m\u001b[38;5;28;43mself\u001b[39;49m\u001b[38;5;241;43m.\u001b[39;49m\u001b[43mdata\u001b[49m\u001b[38;5;241;43m.\u001b[39;49m\u001b[43mcopy\u001b[49m\u001b[43m(\u001b[49m\u001b[43m)\u001b[49m\u001b[43m,\u001b[49m\u001b[43m \u001b[49m\u001b[43mcopy\u001b[49m\u001b[38;5;241;43m=\u001b[39;49m\u001b[38;5;28;43;01mTrue\u001b[39;49;00m\u001b[43m)\u001b[49m\n",
      "File \u001b[0;32m/usr/local/apps/rapids-singlecell/mamba/envs/rapids_singlecell/lib/python3.11/site-packages/cupyx/scipy/sparse/_compressed.py:303\u001b[0m, in \u001b[0;36m_compressed_sparse_matrix._with_data\u001b[0;34m(self, data, copy)\u001b[0m\n\u001b[1;32m    300\u001b[0m \u001b[38;5;28;01mdef\u001b[39;00m \u001b[38;5;21m_with_data\u001b[39m(\u001b[38;5;28mself\u001b[39m, data, copy\u001b[38;5;241m=\u001b[39m\u001b[38;5;28;01mTrue\u001b[39;00m):\n\u001b[1;32m    301\u001b[0m     \u001b[38;5;28;01mif\u001b[39;00m copy:\n\u001b[1;32m    302\u001b[0m         \u001b[38;5;28;01mreturn\u001b[39;00m \u001b[38;5;28mself\u001b[39m\u001b[38;5;241m.\u001b[39m\u001b[38;5;18m__class__\u001b[39m(\n\u001b[0;32m--> 303\u001b[0m             (data, \u001b[38;5;28;43mself\u001b[39;49m\u001b[38;5;241;43m.\u001b[39;49m\u001b[43mindices\u001b[49m\u001b[38;5;241;43m.\u001b[39;49m\u001b[43mcopy\u001b[49m\u001b[43m(\u001b[49m\u001b[43m)\u001b[49m, \u001b[38;5;28mself\u001b[39m\u001b[38;5;241m.\u001b[39mindptr\u001b[38;5;241m.\u001b[39mcopy()),\n\u001b[1;32m    304\u001b[0m             shape\u001b[38;5;241m=\u001b[39m\u001b[38;5;28mself\u001b[39m\u001b[38;5;241m.\u001b[39mshape,\n\u001b[1;32m    305\u001b[0m             dtype\u001b[38;5;241m=\u001b[39mdata\u001b[38;5;241m.\u001b[39mdtype)\n\u001b[1;32m    306\u001b[0m     \u001b[38;5;28;01melse\u001b[39;00m:\n\u001b[1;32m    307\u001b[0m         \u001b[38;5;28;01mreturn\u001b[39;00m \u001b[38;5;28mself\u001b[39m\u001b[38;5;241m.\u001b[39m\u001b[38;5;18m__class__\u001b[39m(\n\u001b[1;32m    308\u001b[0m             (data, \u001b[38;5;28mself\u001b[39m\u001b[38;5;241m.\u001b[39mindices, \u001b[38;5;28mself\u001b[39m\u001b[38;5;241m.\u001b[39mindptr),\n\u001b[1;32m    309\u001b[0m             shape\u001b[38;5;241m=\u001b[39m\u001b[38;5;28mself\u001b[39m\u001b[38;5;241m.\u001b[39mshape,\n\u001b[1;32m    310\u001b[0m             dtype\u001b[38;5;241m=\u001b[39mdata\u001b[38;5;241m.\u001b[39mdtype)\n",
      "File \u001b[0;32mcupy/_core/core.pyx:585\u001b[0m, in \u001b[0;36mcupy._core.core._ndarray_base.copy\u001b[0;34m()\u001b[0m\n",
      "File \u001b[0;32mcupy/_core/core.pyx:611\u001b[0m, in \u001b[0;36mcupy._core.core._ndarray_base.copy\u001b[0;34m()\u001b[0m\n",
      "File \u001b[0;32mcupy/_core/core.pyx:570\u001b[0m, in \u001b[0;36mcupy._core.core._ndarray_base.astype\u001b[0;34m()\u001b[0m\n",
      "File \u001b[0;32mcupy/_core/core.pyx:132\u001b[0m, in \u001b[0;36mcupy._core.core.ndarray.__new__\u001b[0;34m()\u001b[0m\n",
      "File \u001b[0;32mcupy/_core/core.pyx:220\u001b[0m, in \u001b[0;36mcupy._core.core._ndarray_base._init\u001b[0;34m()\u001b[0m\n",
      "File \u001b[0;32mcupy/cuda/memory.pyx:738\u001b[0m, in \u001b[0;36mcupy.cuda.memory.alloc\u001b[0;34m()\u001b[0m\n",
      "File \u001b[0;32m/usr/local/apps/rapids-singlecell/mamba/envs/rapids_singlecell/lib/python3.11/site-packages/rmm/allocators/cupy.py:37\u001b[0m, in \u001b[0;36mrmm_cupy_allocator\u001b[0;34m(nbytes)\u001b[0m\n\u001b[1;32m     34\u001b[0m     \u001b[38;5;28;01mraise\u001b[39;00m \u001b[38;5;167;01mModuleNotFoundError\u001b[39;00m(\u001b[38;5;124m\"\u001b[39m\u001b[38;5;124mNo module named \u001b[39m\u001b[38;5;124m'\u001b[39m\u001b[38;5;124mcupy\u001b[39m\u001b[38;5;124m'\u001b[39m\u001b[38;5;124m\"\u001b[39m)\n\u001b[1;32m     36\u001b[0m stream \u001b[38;5;241m=\u001b[39m Stream(obj\u001b[38;5;241m=\u001b[39mcupy\u001b[38;5;241m.\u001b[39mcuda\u001b[38;5;241m.\u001b[39mget_current_stream())\n\u001b[0;32m---> 37\u001b[0m buf \u001b[38;5;241m=\u001b[39m \u001b[43mlibrmm\u001b[49m\u001b[38;5;241;43m.\u001b[39;49m\u001b[43mdevice_buffer\u001b[49m\u001b[38;5;241;43m.\u001b[39;49m\u001b[43mDeviceBuffer\u001b[49m\u001b[43m(\u001b[49m\u001b[43msize\u001b[49m\u001b[38;5;241;43m=\u001b[39;49m\u001b[43mnbytes\u001b[49m\u001b[43m,\u001b[49m\u001b[43m \u001b[49m\u001b[43mstream\u001b[49m\u001b[38;5;241;43m=\u001b[39;49m\u001b[43mstream\u001b[49m\u001b[43m)\u001b[49m\n\u001b[1;32m     38\u001b[0m dev_id \u001b[38;5;241m=\u001b[39m \u001b[38;5;241m-\u001b[39m\u001b[38;5;241m1\u001b[39m \u001b[38;5;28;01mif\u001b[39;00m buf\u001b[38;5;241m.\u001b[39mptr \u001b[38;5;28;01melse\u001b[39;00m cupy\u001b[38;5;241m.\u001b[39mcuda\u001b[38;5;241m.\u001b[39mdevice\u001b[38;5;241m.\u001b[39mget_device_id()\n\u001b[1;32m     39\u001b[0m mem \u001b[38;5;241m=\u001b[39m cupy\u001b[38;5;241m.\u001b[39mcuda\u001b[38;5;241m.\u001b[39mUnownedMemory(\n\u001b[1;32m     40\u001b[0m     ptr\u001b[38;5;241m=\u001b[39mbuf\u001b[38;5;241m.\u001b[39mptr, size\u001b[38;5;241m=\u001b[39mbuf\u001b[38;5;241m.\u001b[39msize, owner\u001b[38;5;241m=\u001b[39mbuf, device_id\u001b[38;5;241m=\u001b[39mdev_id\n\u001b[1;32m     41\u001b[0m )\n",
      "File \u001b[0;32mdevice_buffer.pyx:85\u001b[0m, in \u001b[0;36mrmm._lib.device_buffer.DeviceBuffer.__cinit__\u001b[0;34m()\u001b[0m\n",
      "\u001b[0;31mMemoryError\u001b[0m: std::bad_alloc: out_of_memory: CUDA error at: /opt/conda/conda-bld/work/include/rmm/mr/device/cuda_memory_resource.hpp:60: cudaErrorMemoryAllocation out of memory"
     ]
    }
   ],
   "source": [
    "mean = mean / andata.X.todense().shape[0]\n",
    "var = var / andata.X.todense().shape[0]\n",
    "var -= cp.power(mean, 2)\n",
    "var *= andata.X.todense().shape[0] / (andata.X.todense().shape[0] - 1)"
   ]
  },
  {
   "cell_type": "code",
   "execution_count": 19,
   "id": "ffc00e6a-4f92-432b-ab12-05a761cab6ce",
   "metadata": {},
   "outputs": [
    {
     "ename": "MemoryError",
     "evalue": "std::bad_alloc: out_of_memory: CUDA error at: /opt/conda/conda-bld/work/include/rmm/mr/device/cuda_memory_resource.hpp:60: cudaErrorMemoryAllocation out of memory",
     "output_type": "error",
     "traceback": [
      "\u001b[0;31m---------------------------------------------------------------------------\u001b[0m",
      "\u001b[0;31mMemoryError\u001b[0m                               Traceback (most recent call last)",
      "Cell \u001b[0;32mIn[19], line 1\u001b[0m\n\u001b[0;32m----> 1\u001b[0m adata\u001b[38;5;241m.\u001b[39mX \u001b[38;5;241m=\u001b[39m scale(\u001b[43mandata\u001b[49m\u001b[38;5;241;43m.\u001b[39;49m\u001b[43mX\u001b[49m\u001b[38;5;241;43m.\u001b[39;49m\u001b[43mtodense\u001b[49m\u001b[43m(\u001b[49m\u001b[43m)\u001b[49m, center\u001b[38;5;241m=\u001b[39m\u001b[38;5;28;01mTrue\u001b[39;00m)\n",
      "File \u001b[0;32m/usr/local/apps/rapids-singlecell/mamba/envs/rapids_singlecell/lib/python3.11/site-packages/cupyx/scipy/sparse/_base.py:554\u001b[0m, in \u001b[0;36mspmatrix.todense\u001b[0;34m(self, order, out)\u001b[0m\n\u001b[1;32m    552\u001b[0m \u001b[38;5;28;01mdef\u001b[39;00m \u001b[38;5;21mtodense\u001b[39m(\u001b[38;5;28mself\u001b[39m, order\u001b[38;5;241m=\u001b[39m\u001b[38;5;28;01mNone\u001b[39;00m, out\u001b[38;5;241m=\u001b[39m\u001b[38;5;28;01mNone\u001b[39;00m):\n\u001b[1;32m    553\u001b[0m \u001b[38;5;250m    \u001b[39m\u001b[38;5;124;03m\"\"\"Return a dense matrix representation of this matrix.\"\"\"\u001b[39;00m\n\u001b[0;32m--> 554\u001b[0m     \u001b[38;5;28;01mreturn\u001b[39;00m \u001b[38;5;28;43mself\u001b[39;49m\u001b[38;5;241;43m.\u001b[39;49m\u001b[43mtoarray\u001b[49m\u001b[43m(\u001b[49m\u001b[43morder\u001b[49m\u001b[38;5;241;43m=\u001b[39;49m\u001b[43morder\u001b[49m\u001b[43m,\u001b[49m\u001b[43m \u001b[49m\u001b[43mout\u001b[49m\u001b[38;5;241;43m=\u001b[39;49m\u001b[43mout\u001b[49m\u001b[43m)\u001b[49m\n",
      "File \u001b[0;32m/usr/local/apps/rapids-singlecell/mamba/envs/rapids_singlecell/lib/python3.11/site-packages/cupyx/scipy/sparse/_csr.py:423\u001b[0m, in \u001b[0;36mcsr_matrix.toarray\u001b[0;34m(self, order, out)\u001b[0m\n\u001b[1;32m    421\u001b[0m     \u001b[38;5;28;01mreturn\u001b[39;00m y\n\u001b[1;32m    422\u001b[0m \u001b[38;5;28;01melif\u001b[39;00m order \u001b[38;5;241m==\u001b[39m \u001b[38;5;124m'\u001b[39m\u001b[38;5;124mC\u001b[39m\u001b[38;5;124m'\u001b[39m:\n\u001b[0;32m--> 423\u001b[0m     \u001b[38;5;28;01mreturn\u001b[39;00m \u001b[43mcupy\u001b[49m\u001b[38;5;241;43m.\u001b[39;49m\u001b[43mascontiguousarray\u001b[49m\u001b[43m(\u001b[49m\u001b[43my\u001b[49m\u001b[43m)\u001b[49m\n\u001b[1;32m    424\u001b[0m \u001b[38;5;28;01melse\u001b[39;00m:\n\u001b[1;32m    425\u001b[0m     \u001b[38;5;28;01mraise\u001b[39;00m \u001b[38;5;167;01mValueError\u001b[39;00m(\u001b[38;5;124m'\u001b[39m\u001b[38;5;124morder not understood\u001b[39m\u001b[38;5;124m'\u001b[39m)\n",
      "File \u001b[0;32m/usr/local/apps/rapids-singlecell/mamba/envs/rapids_singlecell/lib/python3.11/site-packages/cupy/_creation/from_data.py:119\u001b[0m, in \u001b[0;36mascontiguousarray\u001b[0;34m(a, dtype)\u001b[0m\n\u001b[1;32m    105\u001b[0m \u001b[38;5;28;01mdef\u001b[39;00m \u001b[38;5;21mascontiguousarray\u001b[39m(a, dtype\u001b[38;5;241m=\u001b[39m\u001b[38;5;28;01mNone\u001b[39;00m):\n\u001b[1;32m    106\u001b[0m \u001b[38;5;250m    \u001b[39m\u001b[38;5;124;03m\"\"\"Returns a C-contiguous array.\u001b[39;00m\n\u001b[1;32m    107\u001b[0m \n\u001b[1;32m    108\u001b[0m \u001b[38;5;124;03m    Args:\u001b[39;00m\n\u001b[0;32m   (...)\u001b[0m\n\u001b[1;32m    117\u001b[0m \n\u001b[1;32m    118\u001b[0m \u001b[38;5;124;03m    \"\"\"\u001b[39;00m\n\u001b[0;32m--> 119\u001b[0m     \u001b[38;5;28;01mreturn\u001b[39;00m \u001b[43m_core\u001b[49m\u001b[38;5;241;43m.\u001b[39;49m\u001b[43mascontiguousarray\u001b[49m\u001b[43m(\u001b[49m\u001b[43ma\u001b[49m\u001b[43m,\u001b[49m\u001b[43m \u001b[49m\u001b[43mdtype\u001b[49m\u001b[43m)\u001b[49m\n",
      "File \u001b[0;32mcupy/_core/core.pyx:2715\u001b[0m, in \u001b[0;36mcupy._core.core.ascontiguousarray\u001b[0;34m()\u001b[0m\n",
      "File \u001b[0;32mcupy/_core/core.pyx:2731\u001b[0m, in \u001b[0;36mcupy._core.core.ascontiguousarray\u001b[0;34m()\u001b[0m\n",
      "File \u001b[0;32mcupy/_core/core.pyx:132\u001b[0m, in \u001b[0;36mcupy._core.core.ndarray.__new__\u001b[0;34m()\u001b[0m\n",
      "File \u001b[0;32mcupy/_core/core.pyx:220\u001b[0m, in \u001b[0;36mcupy._core.core._ndarray_base._init\u001b[0;34m()\u001b[0m\n",
      "File \u001b[0;32mcupy/cuda/memory.pyx:738\u001b[0m, in \u001b[0;36mcupy.cuda.memory.alloc\u001b[0;34m()\u001b[0m\n",
      "File \u001b[0;32m/usr/local/apps/rapids-singlecell/mamba/envs/rapids_singlecell/lib/python3.11/site-packages/rmm/allocators/cupy.py:37\u001b[0m, in \u001b[0;36mrmm_cupy_allocator\u001b[0;34m(nbytes)\u001b[0m\n\u001b[1;32m     34\u001b[0m     \u001b[38;5;28;01mraise\u001b[39;00m \u001b[38;5;167;01mModuleNotFoundError\u001b[39;00m(\u001b[38;5;124m\"\u001b[39m\u001b[38;5;124mNo module named \u001b[39m\u001b[38;5;124m'\u001b[39m\u001b[38;5;124mcupy\u001b[39m\u001b[38;5;124m'\u001b[39m\u001b[38;5;124m\"\u001b[39m)\n\u001b[1;32m     36\u001b[0m stream \u001b[38;5;241m=\u001b[39m Stream(obj\u001b[38;5;241m=\u001b[39mcupy\u001b[38;5;241m.\u001b[39mcuda\u001b[38;5;241m.\u001b[39mget_current_stream())\n\u001b[0;32m---> 37\u001b[0m buf \u001b[38;5;241m=\u001b[39m \u001b[43mlibrmm\u001b[49m\u001b[38;5;241;43m.\u001b[39;49m\u001b[43mdevice_buffer\u001b[49m\u001b[38;5;241;43m.\u001b[39;49m\u001b[43mDeviceBuffer\u001b[49m\u001b[43m(\u001b[49m\u001b[43msize\u001b[49m\u001b[38;5;241;43m=\u001b[39;49m\u001b[43mnbytes\u001b[49m\u001b[43m,\u001b[49m\u001b[43m \u001b[49m\u001b[43mstream\u001b[49m\u001b[38;5;241;43m=\u001b[39;49m\u001b[43mstream\u001b[49m\u001b[43m)\u001b[49m\n\u001b[1;32m     38\u001b[0m dev_id \u001b[38;5;241m=\u001b[39m \u001b[38;5;241m-\u001b[39m\u001b[38;5;241m1\u001b[39m \u001b[38;5;28;01mif\u001b[39;00m buf\u001b[38;5;241m.\u001b[39mptr \u001b[38;5;28;01melse\u001b[39;00m cupy\u001b[38;5;241m.\u001b[39mcuda\u001b[38;5;241m.\u001b[39mdevice\u001b[38;5;241m.\u001b[39mget_device_id()\n\u001b[1;32m     39\u001b[0m mem \u001b[38;5;241m=\u001b[39m cupy\u001b[38;5;241m.\u001b[39mcuda\u001b[38;5;241m.\u001b[39mUnownedMemory(\n\u001b[1;32m     40\u001b[0m     ptr\u001b[38;5;241m=\u001b[39mbuf\u001b[38;5;241m.\u001b[39mptr, size\u001b[38;5;241m=\u001b[39mbuf\u001b[38;5;241m.\u001b[39msize, owner\u001b[38;5;241m=\u001b[39mbuf, device_id\u001b[38;5;241m=\u001b[39mdev_id\n\u001b[1;32m     41\u001b[0m )\n",
      "File \u001b[0;32mdevice_buffer.pyx:85\u001b[0m, in \u001b[0;36mrmm._lib.device_buffer.DeviceBuffer.__cinit__\u001b[0;34m()\u001b[0m\n",
      "\u001b[0;31mMemoryError\u001b[0m: std::bad_alloc: out_of_memory: CUDA error at: /opt/conda/conda-bld/work/include/rmm/mr/device/cuda_memory_resource.hpp:60: cudaErrorMemoryAllocation out of memory"
     ]
    }
   ],
   "source": [
    "adata.X = scale(andata.X.todense(), center=True)"
   ]
  },
  {
   "cell_type": "code",
   "execution_count": 24,
   "id": "ec266afb-5ec4-400e-8bff-c270c3a3f762",
   "metadata": {},
   "outputs": [],
   "source": [
    "rsc.pp.pca(andata, n_comps=15,random_state=1337)"
   ]
  },
  {
   "cell_type": "code",
   "execution_count": 25,
   "id": "ab160d66-e34e-4a33-84af-748999eddf62",
   "metadata": {},
   "outputs": [],
   "source": [
    "rsc.pp.neighbors(andata,n_pcs=15,use_rep='X_pca',n_neighbors=15)\n",
    "rsc.tl.leiden(andata,random_state=1337,resolution=1,key_added='cluster') "
   ]
  },
  {
   "cell_type": "code",
   "execution_count": 26,
   "id": "4159c7d8-6555-47df-a49a-ebc6d827bc9a",
   "metadata": {},
   "outputs": [
    {
     "data": {
      "text/plain": [
       "AnnData object with n_obs × n_vars = 705298 × 4623\n",
       "    obs: 'n_genes_by_counts', 'total_counts', 'log1p_n_genes_by_counts', 'log1p_total_counts', 'total_counts_MT', 'pct_counts_MT', 'log1p_total_counts_MT', 'cell_centroid_x', 'cell_centroid_y', 'cell_area', 'nucleus_centroid_x', 'nucleus_centroid_y', 'nucleus_area', 'z_level', 'nucleus_count', 'cluster'\n",
       "    var: 'gene_ids', 'feature_types', 'genome', 'MT', 'n_cells_by_counts', 'total_counts', 'mean_counts', 'pct_dropout_by_counts', 'log1p_total_counts', 'log1p_mean_counts', 'highly_variable', 'means', 'dispersions', 'dispersions_norm'\n",
       "    uns: 'config', 'log1p', 'hvg', 'pca', 'neighbors', 'leiden'\n",
       "    obsm: 'spatial', 'X_pca'\n",
       "    varm: 'PCs'\n",
       "    layers: 'counts'\n",
       "    obsp: 'distances', 'connectivities'"
      ]
     },
     "execution_count": 26,
     "metadata": {},
     "output_type": "execute_result"
    }
   ],
   "source": [
    "andata"
   ]
  },
  {
   "cell_type": "code",
   "execution_count": null,
   "id": "933111c1-2783-4296-b654-cae4b0f1e2cd",
   "metadata": {},
   "outputs": [],
   "source": [
    "df = pd.DataFrame({'total_counts':andata.obs['total_counts'],'cluster':andata.obs['cluster'],'x':andata.obs['total_counts'].obsm['spatial'][:,0],'y':andata.obs['total_counts'].obsm['spatial'][:,1]})"
   ]
  },
  {
   "cell_type": "code",
   "execution_count": 27,
   "id": "b3b84670-bc0b-4dc8-bb58-adbac8acb0be",
   "metadata": {},
   "outputs": [],
   "source": [
    "testan = andata.copy()\n",
    "sc.pp.subsample(testan, n_obs=1000)"
   ]
  },
  {
   "cell_type": "code",
   "execution_count": 29,
   "id": "c00bf4f2-2c77-42a7-8013-3e177771fa3e",
   "metadata": {},
   "outputs": [
    {
     "data": {
      "text/plain": [
       "AnnData object with n_obs × n_vars = 1000 × 4623\n",
       "    obs: 'n_genes_by_counts', 'total_counts', 'log1p_n_genes_by_counts', 'log1p_total_counts', 'total_counts_MT', 'pct_counts_MT', 'log1p_total_counts_MT', 'cell_centroid_x', 'cell_centroid_y', 'cell_area', 'nucleus_centroid_x', 'nucleus_centroid_y', 'nucleus_area', 'z_level', 'nucleus_count', 'cluster'\n",
       "    var: 'gene_ids', 'feature_types', 'genome', 'MT', 'n_cells_by_counts', 'total_counts', 'mean_counts', 'pct_dropout_by_counts', 'log1p_total_counts', 'log1p_mean_counts', 'highly_variable', 'means', 'dispersions', 'dispersions_norm'\n",
       "    uns: 'config', 'log1p', 'hvg', 'pca', 'neighbors', 'leiden'\n",
       "    obsm: 'spatial', 'X_pca'\n",
       "    varm: 'PCs'\n",
       "    layers: 'counts'\n",
       "    obsp: 'distances', 'connectivities'"
      ]
     },
     "execution_count": 29,
     "metadata": {},
     "output_type": "execute_result"
    }
   ],
   "source": [
    "testan"
   ]
  },
  {
   "cell_type": "code",
   "execution_count": 31,
   "id": "9ef23ed5-1f9f-45c2-bc21-5ab033063095",
   "metadata": {},
   "outputs": [],
   "source": [
    "df = pd.DataFrame({'total_counts':testan.obs['total_counts'],'cluster':testan.obs['cluster'],'x':testan.obsm['spatial'][:,0],'y':testan.obsm['spatial'][:,1]})"
   ]
  },
  {
   "cell_type": "code",
   "execution_count": 43,
   "id": "9e10705e-6068-485f-9085-5237bf5dce98",
   "metadata": {},
   "outputs": [
    {
     "data": {
      "text/plain": [
       "bfglbmda-1    20\n",
       "gcdcladl-1     5\n",
       "ldcfjjbo-1     2\n",
       "dfpkafmi-1    10\n",
       "cjlmfplp-1    27\n",
       "              ..\n",
       "lihiceog-1     8\n",
       "cpegahij-1    37\n",
       "kkahnkpe-1     7\n",
       "hhoilpom-1    15\n",
       "flebbfac-1     2\n",
       "Name: cluster, Length: 1000, dtype: category\n",
       "Categories (40, object): ['0', '1', '2', '3', ..., '36', '37', '38', '39']"
      ]
     },
     "execution_count": 43,
     "metadata": {},
     "output_type": "execute_result"
    }
   ],
   "source": [
    "df['cluster']"
   ]
  },
  {
   "cell_type": "code",
   "execution_count": 46,
   "id": "890d320a-575c-406b-9e97-a7c313408206",
   "metadata": {},
   "outputs": [
    {
     "data": {
      "text/html": [
       "<div>\n",
       "<style scoped>\n",
       "    .dataframe tbody tr th:only-of-type {\n",
       "        vertical-align: middle;\n",
       "    }\n",
       "\n",
       "    .dataframe tbody tr th {\n",
       "        vertical-align: top;\n",
       "    }\n",
       "\n",
       "    .dataframe thead th {\n",
       "        text-align: right;\n",
       "    }\n",
       "</style>\n",
       "<table border=\"1\" class=\"dataframe\">\n",
       "  <thead>\n",
       "    <tr style=\"text-align: right;\">\n",
       "      <th></th>\n",
       "      <th>total_counts</th>\n",
       "      <th>cluster</th>\n",
       "      <th>x</th>\n",
       "      <th>y</th>\n",
       "    </tr>\n",
       "  </thead>\n",
       "  <tbody>\n",
       "    <tr>\n",
       "      <th>hbaikhip-1</th>\n",
       "      <td>135.0</td>\n",
       "      <td>1</td>\n",
       "      <td>2791.498779</td>\n",
       "      <td>5005.889648</td>\n",
       "    </tr>\n",
       "    <tr>\n",
       "      <th>jbocaoki-1</th>\n",
       "      <td>46.0</td>\n",
       "      <td>1</td>\n",
       "      <td>2957.158691</td>\n",
       "      <td>3974.745361</td>\n",
       "    </tr>\n",
       "    <tr>\n",
       "      <th>apdiflje-1</th>\n",
       "      <td>338.0</td>\n",
       "      <td>1</td>\n",
       "      <td>2516.298584</td>\n",
       "      <td>600.050659</td>\n",
       "    </tr>\n",
       "    <tr>\n",
       "      <th>eiofkhjn-1</th>\n",
       "      <td>291.0</td>\n",
       "      <td>1</td>\n",
       "      <td>4843.649902</td>\n",
       "      <td>6164.504883</td>\n",
       "    </tr>\n",
       "    <tr>\n",
       "      <th>igfdenhn-1</th>\n",
       "      <td>162.0</td>\n",
       "      <td>1</td>\n",
       "      <td>4112.388672</td>\n",
       "      <td>1309.279297</td>\n",
       "    </tr>\n",
       "    <tr>\n",
       "      <th>dnfdnimh-1</th>\n",
       "      <td>207.0</td>\n",
       "      <td>1</td>\n",
       "      <td>5893.565918</td>\n",
       "      <td>3412.607910</td>\n",
       "    </tr>\n",
       "    <tr>\n",
       "      <th>djfdoejc-1</th>\n",
       "      <td>257.0</td>\n",
       "      <td>1</td>\n",
       "      <td>5213.004883</td>\n",
       "      <td>6232.997070</td>\n",
       "    </tr>\n",
       "    <tr>\n",
       "      <th>koikdmil-1</th>\n",
       "      <td>181.0</td>\n",
       "      <td>1</td>\n",
       "      <td>2515.155029</td>\n",
       "      <td>1049.729980</td>\n",
       "    </tr>\n",
       "    <tr>\n",
       "      <th>mihdnmmo-1</th>\n",
       "      <td>103.0</td>\n",
       "      <td>1</td>\n",
       "      <td>3933.769775</td>\n",
       "      <td>2977.404297</td>\n",
       "    </tr>\n",
       "    <tr>\n",
       "      <th>melffbkn-1</th>\n",
       "      <td>41.0</td>\n",
       "      <td>1</td>\n",
       "      <td>1129.909790</td>\n",
       "      <td>4040.246094</td>\n",
       "    </tr>\n",
       "    <tr>\n",
       "      <th>heohcnpa-1</th>\n",
       "      <td>171.0</td>\n",
       "      <td>1</td>\n",
       "      <td>3054.469238</td>\n",
       "      <td>4525.816895</td>\n",
       "    </tr>\n",
       "    <tr>\n",
       "      <th>kkkkdokf-1</th>\n",
       "      <td>48.0</td>\n",
       "      <td>1</td>\n",
       "      <td>4913.884766</td>\n",
       "      <td>148.837738</td>\n",
       "    </tr>\n",
       "    <tr>\n",
       "      <th>cmfholoe-1</th>\n",
       "      <td>221.0</td>\n",
       "      <td>1</td>\n",
       "      <td>6819.783203</td>\n",
       "      <td>4536.267090</td>\n",
       "    </tr>\n",
       "    <tr>\n",
       "      <th>cnfieeii-1</th>\n",
       "      <td>485.0</td>\n",
       "      <td>1</td>\n",
       "      <td>7005.136719</td>\n",
       "      <td>4678.311523</td>\n",
       "    </tr>\n",
       "    <tr>\n",
       "      <th>ijlljpfb-1</th>\n",
       "      <td>83.0</td>\n",
       "      <td>1</td>\n",
       "      <td>5616.015137</td>\n",
       "      <td>1731.519653</td>\n",
       "    </tr>\n",
       "    <tr>\n",
       "      <th>iplklnfj-1</th>\n",
       "      <td>68.0</td>\n",
       "      <td>1</td>\n",
       "      <td>2292.402832</td>\n",
       "      <td>3407.324463</td>\n",
       "    </tr>\n",
       "    <tr>\n",
       "      <th>mecmgnbo-1</th>\n",
       "      <td>121.0</td>\n",
       "      <td>1</td>\n",
       "      <td>1408.577881</td>\n",
       "      <td>4592.760742</td>\n",
       "    </tr>\n",
       "    <tr>\n",
       "      <th>lcbijojk-1</th>\n",
       "      <td>57.0</td>\n",
       "      <td>1</td>\n",
       "      <td>1595.355835</td>\n",
       "      <td>1932.698120</td>\n",
       "    </tr>\n",
       "    <tr>\n",
       "      <th>mekcopkg-1</th>\n",
       "      <td>114.0</td>\n",
       "      <td>1</td>\n",
       "      <td>1202.088623</td>\n",
       "      <td>4273.377441</td>\n",
       "    </tr>\n",
       "    <tr>\n",
       "      <th>bnjaogli-1</th>\n",
       "      <td>224.0</td>\n",
       "      <td>1</td>\n",
       "      <td>5289.615723</td>\n",
       "      <td>2329.329346</td>\n",
       "    </tr>\n",
       "    <tr>\n",
       "      <th>jjofjhbd-1</th>\n",
       "      <td>66.0</td>\n",
       "      <td>1</td>\n",
       "      <td>5710.946777</td>\n",
       "      <td>1838.721924</td>\n",
       "    </tr>\n",
       "    <tr>\n",
       "      <th>lcmkckgk-1</th>\n",
       "      <td>92.0</td>\n",
       "      <td>1</td>\n",
       "      <td>1738.370361</td>\n",
       "      <td>3055.455811</td>\n",
       "    </tr>\n",
       "    <tr>\n",
       "      <th>hlemlaof-1</th>\n",
       "      <td>192.0</td>\n",
       "      <td>1</td>\n",
       "      <td>984.451904</td>\n",
       "      <td>2576.329834</td>\n",
       "    </tr>\n",
       "  </tbody>\n",
       "</table>\n",
       "</div>"
      ],
      "text/plain": [
       "            total_counts cluster            x            y\n",
       "hbaikhip-1         135.0       1  2791.498779  5005.889648\n",
       "jbocaoki-1          46.0       1  2957.158691  3974.745361\n",
       "apdiflje-1         338.0       1  2516.298584   600.050659\n",
       "eiofkhjn-1         291.0       1  4843.649902  6164.504883\n",
       "igfdenhn-1         162.0       1  4112.388672  1309.279297\n",
       "dnfdnimh-1         207.0       1  5893.565918  3412.607910\n",
       "djfdoejc-1         257.0       1  5213.004883  6232.997070\n",
       "koikdmil-1         181.0       1  2515.155029  1049.729980\n",
       "mihdnmmo-1         103.0       1  3933.769775  2977.404297\n",
       "melffbkn-1          41.0       1  1129.909790  4040.246094\n",
       "heohcnpa-1         171.0       1  3054.469238  4525.816895\n",
       "kkkkdokf-1          48.0       1  4913.884766   148.837738\n",
       "cmfholoe-1         221.0       1  6819.783203  4536.267090\n",
       "cnfieeii-1         485.0       1  7005.136719  4678.311523\n",
       "ijlljpfb-1          83.0       1  5616.015137  1731.519653\n",
       "iplklnfj-1          68.0       1  2292.402832  3407.324463\n",
       "mecmgnbo-1         121.0       1  1408.577881  4592.760742\n",
       "lcbijojk-1          57.0       1  1595.355835  1932.698120\n",
       "mekcopkg-1         114.0       1  1202.088623  4273.377441\n",
       "bnjaogli-1         224.0       1  5289.615723  2329.329346\n",
       "jjofjhbd-1          66.0       1  5710.946777  1838.721924\n",
       "lcmkckgk-1          92.0       1  1738.370361  3055.455811\n",
       "hlemlaof-1         192.0       1   984.451904  2576.329834"
      ]
     },
     "execution_count": 46,
     "metadata": {},
     "output_type": "execute_result"
    }
   ],
   "source": [
    "df[df['cluster'].isin(['1'])]"
   ]
  },
  {
   "cell_type": "code",
   "execution_count": 36,
   "id": "0a071070-dc65-4025-88f3-92c9e2caadbe",
   "metadata": {},
   "outputs": [
    {
     "data": {
      "text/plain": [
       "(0.6823529411764706, 0.7803921568627451, 0.9098039215686274, 1.0)"
      ]
     },
     "execution_count": 36,
     "metadata": {},
     "output_type": "execute_result"
    }
   ],
   "source": [
    "palette = sns.color_palette(\"tab20\") + sns.color_palette(\"tab20b\") + sns.color_palette(\"tab20c\")\n",
    "num_classes = len(df['cluster'].unique())\n",
    "extended_palette = palette * (num_classes // len(palette) + 1)\n",
    "extended_palette = extended_palette[:num_classes]\n",
    "\n",
    "listed_cmap = ListedColormap(extended_palette)\n",
    "listed_cmap(1)"
   ]
  },
  {
   "cell_type": "code",
   "execution_count": 48,
   "id": "1d36a2f4-a3d1-447f-9831-ffdc1c00e7b9",
   "metadata": {},
   "outputs": [],
   "source": [
    "num_classes = 0"
   ]
  },
  {
   "cell_type": "code",
   "execution_count": 52,
   "id": "f3fd9aa2-6b02-4e5b-a345-fbb7664b053c",
   "metadata": {},
   "outputs": [
    {
     "data": {
      "text/plain": [
       "(0.12156862745098039, 0.4666666666666667, 0.7058823529411765)"
      ]
     },
     "execution_count": 52,
     "metadata": {},
     "output_type": "execute_result"
    }
   ],
   "source": [
    "extended_palette = palette * (num_classes // len(palette) + 1)\n",
    "palette[0]"
   ]
  },
  {
   "cell_type": "code",
   "execution_count": 7,
   "id": "d0c2007e-413d-457d-8e5b-60f62d698731",
   "metadata": {},
   "outputs": [],
   "source": [
    "from rsc_functions.reports.plot import plot_spatial"
   ]
  },
  {
   "cell_type": "code",
   "execution_count": 41,
   "id": "bb80be2b-02e8-46a8-a6be-93041a3211f9",
   "metadata": {
    "scrolled": true
   },
   "outputs": [
    {
     "data": {
      "image/png": "[encoded data removed]",
      "text/plain": [
       "<Figure size 500x400 with 1 Axes>"
      ]
     },
     "metadata": {},
     "output_type": "display_data"
    }
   ],
   "source": [
    "import matplotlib.pyplot as plt\n",
    "import pandas as pd\n",
    "from matplotlib.colors import ListedColormap\n",
    "import seaborn as sns\n",
    "\n",
    "\n",
    "\n",
    "# Create a blue gradient palette\n",
    "palette = sns.color_palette(\"tab20\") + sns.color_palette(\"tab20b\") + sns.color_palette(\"tab20c\")\n",
    "num_classes = len(df['cluster'].unique())\n",
    "extended_palette = palette * (num_classes // len(palette) + 1)\n",
    "extended_palette = extended_palette[:num_classes]\n",
    "\n",
    "listed_cmap = ListedColormap(extended_palette)\n",
    "\n",
    "fig, ax = plt.subplots(figsize=(5, 4))\n",
    "\n",
    "# Loop through each cluster and plot with a specific color\n",
    "for i, cluster in enumerate(df['cluster'].unique()):\n",
    "    cluster_data = df[df['cluster'] == cluster]\n",
    "    ax.scatter( x=cluster_data['x'], y=cluster_data['y'], color=listed_cmap(i), label=f'{cluster}', s=1, alpha=0.6)\n",
    "\n",
    "# Add a legend to differentiate the clusters\n",
    "ax.legend(title=\"\", bbox_to_anchor=(1.05, 1), loc='upper left',)\n",
    "\n",
    "ax.set_xticks([])\n",
    "ax.set_yticks([])\n",
    "ax.set_xlabel('')\n",
    "ax.set_ylabel('')\n",
    "\n",
    "plt.show()\n"
   ]
  },
  {
   "cell_type": "code",
   "execution_count": null,
   "id": "d1ece8d6-ff2c-4912-abe4-00495d43cc74",
   "metadata": {},
   "outputs": [],
   "source": [
    "andata"
   ]
  },
  {
   "cell_type": "code",
   "execution_count": null,
   "id": "92294264-1ad0-4c9e-b2a9-92cf0b8022f3",
   "metadata": {},
   "outputs": [],
   "source": [
    "def spatial_data_gen(andata):\n",
    "    return pd.DataFrame({'total_counts':andata.obs['total_counts'],'x':andata.obsm['spatial'][:,0],'y':andata.obsm['spatial'][:,1]})\n"
   ]
  },
  {
   "cell_type": "code",
   "execution_count": null,
   "id": "581bf03e-0a6c-486e-a674-4c1345956343",
   "metadata": {},
   "outputs": [],
   "source": [
    "df = spatial_data_gen(andata)"
   ]
  },
  {
   "cell_type": "code",
   "execution_count": null,
   "id": "f05a2b0e-5e97-45bc-a923-32db81d3cf0c",
   "metadata": {},
   "outputs": [],
   "source": [
    "custom_params = {\n",
    "    \"xtick.labelsize\": 0,      # Remove x-axis tick labels\n",
    "    \"ytick.labelsize\": 0,      # Remove y-axis tick labels\n",
    "    \"axes.labelsize\": 0,       # Remove axis labels\n",
    "    \"xtick.major.size\": 0,     # Remove x-axis major ticks\n",
    "    \"xtick.minor.size\": 0,     # Remove x-axis minor ticks\n",
    "    \"ytick.major.size\": 0,     # Remove y-axis major ticks\n",
    "    \"ytick.minor.size\": 0      # Remove y-axis minor ticks\n",
    "}\n",
    "\n",
    "# Set the theme with custom parameters\n",
    "sns.set_theme(style=\"whitegrid\", palette=\"pastel\", rc=custom_params)\n",
    "\n",
    "fig, ax = plt.subplots(figsize=(5, 4))\n",
    "scatter = sns.scatterplot(s=1, ax=ax, x='x', y='y', hue='total_counts', data=df, palette='Blues', legend=False)\n",
    "\n",
    "# Normalize the color scale\n",
    "norm = plt.Normalize(df['total_counts'].min(), df['total_counts'].max())\n",
    "sm = plt.cm.ScalarMappable(cmap=\"Blues\", norm=norm)\n",
    "sm.set_array([])\n",
    "\n",
    "cbar = fig.colorbar(sm, ax=ax)\n",
    "cbar.ax.set_title('Total Count', fontsize=12)\n",
    "\n",
    "# Automatically set tick locations and labels\n",
    "locator = MaxNLocator(nbins=5)  # Adjust the number of bins/ticks as desired\n",
    "cbar.locator = locator\n",
    "cbar.update_ticks()\n",
    "\n",
    "# Optionally, explicitly set the tick labels (to ensure they are shown)\n",
    "cbar.ax.yaxis.set_major_locator(locator)\n",
    "cbar.ax.yaxis.set_major_formatter(plt.FuncFormatter(lambda val, _: f'{int(val)}'))\n",
    "\n",
    "# Remove ticks and labels\n",
    "ax.set_xticks([])\n",
    "ax.set_yticks([])\n",
    "ax.set_xlabel('')\n",
    "ax.set_ylabel('')\n",
    "\n",
    "plt.show()"
   ]
  },
  {
   "cell_type": "code",
   "execution_count": null,
   "id": "51e6450d-ed86-446b-8908-b5a66509e1ff",
   "metadata": {},
   "outputs": [],
   "source": [
    "import seaborn as sns\n",
    "import matplotlib.pyplot as plt\n",
    "import pandas as pd\n",
    "from matplotlib.ticker import MaxNLocator\n",
    "\n",
    "# Sample DataFrame\n",
    "data = {\n",
    "    'x': [1, 2, 3, 4, 5],\n",
    "    'y': [1, 2, 3, 4, 5],\n",
    "    'total_counts': [10, 50, 30, 40, 20]\n",
    "}\n",
    "df = pd.DataFrame(data)\n",
    "\n",
    "# Define custom parameters to remove ticks and labels\n",
    "custom_params = {\n",
    "    \"xtick.labelsize\": 0,      # Remove x-axis tick labels\n",
    "    \"ytick.labelsize\": 0,      # Remove y-axis tick labels\n",
    "    \"axes.labelsize\": 0,       # Remove axis labels\n",
    "    \"xtick.major.size\": 0,     # Remove x-axis major ticks\n",
    "    \"xtick.minor.size\": 0,     # Remove x-axis minor ticks\n",
    "    \"ytick.major.size\": 0,     # Remove y-axis major ticks\n",
    "    \"ytick.minor.size\": 0      # Remove y-axis minor ticks\n",
    "}\n",
    "\n",
    "# Set the theme with custom parameters\n",
    "sns.set_theme(style=\"whitegrid\", palette=\"pastel\", rc=custom_params)\n",
    "\n",
    "fig, ax = plt.subplots(figsize=(5, 4))\n",
    "scatter = sns.scatterplot(s=100, ax=ax, x='x', y='y', hue='total_counts', data=df, palette='Blues', legend=False)\n",
    "\n",
    "# Normalize the color scale\n",
    "norm = plt.Normalize(df['total_counts'].min(), df['total_counts'].max())\n",
    "sm = plt.cm.ScalarMappable(cmap=\"Blues\", norm=norm)\n",
    "sm.set_array([])\n",
    "\n",
    "# Add color bar with title\n",
    "cbar = fig.colorbar(sm, ax=ax)\n",
    "cbar.ax.set_title('Total Count', fontsize=12)\n",
    "\n",
    "# Automatically set tick locations and labels\n",
    "locator = MaxNLocator(nbins=4)  # Adjust the number of bins/ticks as desired\n",
    "cbar.locator = locator\n",
    "cbar.update_ticks()\n",
    "\n",
    "# Explicitly set tick labels to ensure they show\n",
    "ticks = cbar.get_ticks()\n",
    "cbar.set_ticks(ticks)\n",
    "cbar.set_ticklabels([f'{int(tick)}' for tick in ticks])\n",
    "\n",
    "# Print the ticks to debug\n",
    "print(\"Colorbar ticks:\", cbar.get_ticks())\n",
    "print(\"Colorbar tick labels:\", cbar.ax.get_yticklabels())\n",
    "\n",
    "# Remove ticks and labels from the main plot\n",
    "ax.set_xticks([])\n",
    "ax.set_yticks([])\n",
    "ax.set_xlabel('')\n",
    "ax.set_ylabel('')\n",
    "\n",
    "plt.show()\n"
   ]
  },
  {
   "cell_type": "code",
   "execution_count": null,
   "id": "494de6ba-cf27-4615-bfa4-e809dc3cc92c",
   "metadata": {},
   "outputs": [],
   "source": []
  }
 ],
 "metadata": {
  "kernelspec": {
   "display_name": "Python 3 (ipykernel)",
   "language": "python",
   "name": "python3"
  },
  "language_info": {
   "codemirror_mode": {
    "name": "ipython",
    "version": 3
   },
   "file_extension": ".py",
   "mimetype": "text/x-python",
   "name": "python",
   "nbconvert_exporter": "python",
   "pygments_lexer": "ipython3",
   "version": "3.11.9"
  }
 },
 "nbformat": 4,
 "nbformat_minor": 5
}
