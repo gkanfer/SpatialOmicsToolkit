{
 "cells": [
  {
   "cell_type": "code",
   "execution_count": 1,
   "id": "c62025c3",
   "metadata": {},
   "outputs": [],
   "source": [
    "import os\n",
    "import glob\n",
    "import arviz as az\n",
    "import numpy as np\n",
    "import pandas as pd\n",
    "from pytensor.tensor import TensorVariable\n",
    "from typing import Optional, Tuple\n",
    "import pytensor.tensor as pt\n",
    "\n",
    "import pymc as pm\n",
    "import jax\n",
    "import seaborn as sns\n",
    "# import aesara\n",
    "# import aesara.tensor as at\n",
    "# import pytensor.tensor as pt\n",
    "import matplotlib.pyplot as plt\n",
    "import xarray as xr\n",
    "import re\n",
    "from scipy import stats\n",
    "from scipy.special import logit\n",
    "from scipy.special import expit as logist\n",
    "from matplotlib.axes import Axes\n",
    "import matplotlib.colors as mcolors\n",
    "import matplotlib.patches as mpatches\n",
    "from typing import List\n",
    "from pandas import DataFrame\n",
    "import sys\n",
    "import pickle\n",
    "\n",
    "RANDOM_SEED = 8927\n",
    "rng = np.random.default_rng(RANDOM_SEED)"
   ]
  },
  {
   "cell_type": "code",
   "execution_count": 2,
   "id": "033d4527",
   "metadata": {},
   "outputs": [],
   "source": [
    "path_out = './pymc_model'\n",
    "with open(os.path.join('pymc_model','brain_16mm_vshd.pkl'),'rb') as f:\n",
    "    inputBrain16um = pickle.load(f)"
   ]
  },
  {
   "cell_type": "code",
   "execution_count": 3,
   "id": "a799cf1b",
   "metadata": {},
   "outputs": [],
   "source": [
    "df = inputBrain16um['dsg']\n",
    "inf_aver = inputBrain16um['wsf']"
   ]
  },
  {
   "cell_type": "code",
   "execution_count": 40,
   "id": "80a37bef",
   "metadata": {},
   "outputs": [
    {
     "ename": "NameError",
     "evalue": "name 'df' is not defined",
     "output_type": "error",
     "traceback": [
      "\u001b[0;31m---------------------------------------------------------------------------\u001b[0m",
      "\u001b[0;31mNameError\u001b[0m                                 Traceback (most recent call last)",
      "Cell \u001b[0;32mIn[40], line 1\u001b[0m\n\u001b[0;32m----> 1\u001b[0m \u001b[43mdf\u001b[49m\n",
      "\u001b[0;31mNameError\u001b[0m: name 'df' is not defined"
     ]
    }
   ],
   "source": [
    "df"
   ]
  },
  {
   "cell_type": "markdown",
   "id": "d6eb6816",
   "metadata": {},
   "source": [
    "Test pymc dimensions model before model runing"
   ]
  },
  {
   "cell_type": "markdown",
   "id": "c7a22dd2",
   "metadata": {},
   "source": [
    "$ \n",
    "\\text{M_g}\\\\\n",
    "\\omega_{s,f}\\\\\n",
    "\\text{g_f,g} \\text{  ; input variable from sgRNA refference data}\\\\\n",
    "\\text{s_e,g}\\\\\n",
    "\\text{y_s}\\\\\n",
    "$\n",
    "\n",
    "Dmension to test:\n",
    "- [] Number of features: 13\n",
    "- [] Number of Genes: 200\n",
    "- [] Number of spots (cells):1000\n"
   ]
  },
  {
   "cell_type": "code",
   "execution_count": 2,
   "id": "282bcd01",
   "metadata": {},
   "outputs": [],
   "source": [
    "g_gf = pm.draw(pm.NegativeBinomial.dist(mu=100, alpha=12, size = 13), draws=200, random_seed=RANDOM_SEED)\n",
    "M_g = pm.draw(pm.NegativeBinomial.dist(mu=100, alpha=12), draws=200, random_seed=RANDOM_SEED)\n",
    "W_sf = pm.draw(pm.NegativeBinomial.dist(mu=100, alpha=12, size = 1000), draws=13, random_seed=RANDOM_SEED)\n",
    "S_eg = pm.draw(pm.NegativeBinomial.dist(mu=100, alpha=12), draws=200, random_seed=RANDOM_SEED)\n",
    "Y_s = pm.draw(pm.NegativeBinomial.dist(mu=100, alpha=12), draws=200, random_seed=RANDOM_SEED)"
   ]
  },
  {
   "cell_type": "code",
   "execution_count": 3,
   "id": "aafb7e49",
   "metadata": {},
   "outputs": [],
   "source": [
    "with pm.Model() as model:\n",
    "    M_g = pm.NegativeBinomial(\"M_g\",mu=100, alpha=12, size = (1,200))\n",
    "    W_sf = pm.NegativeBinomial(\"W_sf\",mu=100, alpha=12, size = (1000,13))\n",
    "    S_eg = pm.NegativeBinomial(\"S_eg\",mu=100, alpha=12, size = (1,200))\n",
    "    y_s = pm.NegativeBinomial(\"y_s\",mu=100, alpha=12, size = (1000,1))\n",
    "    w = pm.Deterministic(\"w\",pm.math.dot(W_sf,g_gf.T))\n",
    "    m = pm.Deterministic(\"m\",w*M_g)\n",
    "    mws = pm.Deterministic(\"mws\",m+S_eg)\n",
    "    mu = pm.Deterministic(\"mu\",mws*y_s)"
   ]
  },
  {
   "cell_type": "code",
   "execution_count": 61,
   "id": "6c98889f",
   "metadata": {},
   "outputs": [
    {
     "name": "stdout",
     "output_type": "stream",
     "text": [
      "g_gf = (200, 13) \n",
      " M_g = (1, 200) \n",
      " W_sf = (1000, 13) \n",
      " S_eg = (1, 200) \n",
      " y_s = (1000, 1) \n",
      " result: w = (1000, 200) \n"
     ]
    }
   ],
   "source": [
    "print(f'g_gf = {g_gf.shape} \\n M_g = {M_g.eval().shape} \\n W_sf = {W_sf.eval().shape} \\n S_eg = {S_eg.eval().shape} \\n y_s = {y_s.eval().shape} \\n result: w = {w.eval().shape} ')"
   ]
  },
  {
   "cell_type": "code",
   "execution_count": 64,
   "id": "4172ea4b",
   "metadata": {},
   "outputs": [
    {
     "name": "stdout",
     "output_type": "stream",
     "text": [
      "result: \n",
      " w = (1000, 200) \n",
      " m = (1000, 200) \n",
      " mws = (1000, 200) \n",
      " mu = (1000, 200)\n"
     ]
    }
   ],
   "source": [
    "print(f'result: \\n w = {w.eval().shape} \\n m = {m.eval().shape} \\n mws = {mws.eval().shape} \\n mu = {mu.eval().shape}')"
   ]
  },
  {
   "cell_type": "markdown",
   "id": "9d2507b2",
   "metadata": {},
   "source": [
    "<center>cell2loc model with simulate data"
   ]
  },
  {
   "cell_type": "code",
   "execution_count": 13,
   "id": "a54c696d",
   "metadata": {},
   "outputs": [],
   "source": [
    "#Inputs:\n",
    "g_gf = pm.draw(pm.NegativeBinomial.dist(mu=100, alpha=12, size = 13), draws=200, random_seed=RANDOM_SEED)\n",
    "d_sg = pm.draw(pm.NegativeBinomial.dist(mu=100, alpha=12, size = 200), draws=1000, random_seed=RANDOM_SEED)\n",
    "ngens = 200\n",
    "nspost = 1000\n",
    "nfeat = 13"
   ]
  },
  {
   "cell_type": "code",
   "execution_count": 37,
   "id": "c2d9a468",
   "metadata": {},
   "outputs": [],
   "source": [
    "with pm.Model() as simNB_model:\n",
    "    mu_m = pm.Gamma(\"mu_m\",1,1)\n",
    "    o_m = pm.Exponential(\"o_m\",3)\n",
    "    a_m = pm.Deterministic(\"a_m\",1/o_m**2)\n",
    "    m_g = pm.Gamma(\"m_g\",a_m,a_m/mu_m,shape = (1,200))\n",
    "    \n",
    "    a_y = pm.Gamma(\"a_y\",10,10/20)\n",
    "    y_s = pm.Gamma(\"y_s\",10,10/30,shape = (1000,1))\n",
    "    \n",
    "    b0 = pm.Gamma(\"b0\",9,3,shape = 2)\n",
    "    o_g = pm.Exponential(\"o_g\",b0[0], shape = (1000,1))\n",
    "    a_g = pm.Deterministic(\"a_g\",1/o_g**2)\n",
    "    \n",
    "    o_es = pm.Exponential(\"o_es\",b0[1])\n",
    "    a_es = pm.Deterministic(\"a_es\",1/o_es**2)\n",
    "    mu_es = pm.Gamma(\"mu_es\",1,100)\n",
    "    s_eg = pm.Gamma(\"s_eg\",a_es,a_es/mu_es,shape = (1,200))\n",
    "    \n",
    "    \n",
    "    k_r  = pm.Gamma(\"k_r\",7,1)\n",
    "    x_rf  = pm.Gamma(\"x_rf\",k_r/50,k_r,shape = (50,13))\n",
    "    B_s = pm.Gamma(\"B_s\",7,1) \n",
    "    N_s =pm.Gamma(\"N_s\",4*5,5) #4 cells per spot vn =5 acording to seggestion of section 2.1  \n",
    "    z_sr  = pm.Gamma(\"z_sr\",B_s/50,1/(N_s/B_s),shape = (1000,50))\n",
    "    mu_sf = pm.Deterministic(\"mu_sf\",pm.math.dot(z_sr,x_rf))\n",
    "    w_sf = pm.Gamma(\"w_sf\",alpha = mu_sf.eval()*10, beta =10)\n",
    "    \n",
    "    musg1_p1 = pm.math.dot(w_sf,g_gf.T)\n",
    "    musg1_p2 = m_g * musg1_p1\n",
    "    musg1_p3 = musg1_p2+s_eg\n",
    "    musg1_p4 = pm.Deterministic(\"musg1_p4\",musg1_p3*y_s)\n",
    "    \n",
    "    count = pm.NegativeBinomial(\"count\", mu=musg1_p4, alpha=a_g, observed=d_sg)"
   ]
  },
  {
   "cell_type": "code",
   "execution_count": 39,
   "id": "f293fe07",
   "metadata": {},
   "outputs": [
    {
     "data": {
      "text/plain": [
       "array([[ 81,  56,  50, ...,  94,  32,  48],\n",
       "       [  8,  17,  14, ...,  21,  16,  12],\n",
       "       [ 31,  29,  12, ...,  20,  13,  35],\n",
       "       ...,\n",
       "       [ 31,  45,  40, ...,  65,  48,  47],\n",
       "       [ 72,  70,  44, ...,  93,  79,  59],\n",
       "       [ 42,  94,  51, ...,  88, 102,  34]])"
      ]
     },
     "execution_count": 39,
     "metadata": {},
     "output_type": "execute_result"
    }
   ],
   "source": [
    "count.eval()"
   ]
  },
  {
   "cell_type": "code",
   "execution_count": null,
   "id": "3deb90b7",
   "metadata": {},
   "outputs": [],
   "source": []
  }
 ],
 "metadata": {
  "kernelspec": {
   "display_name": "Python 3 (ipykernel)",
   "language": "python",
   "name": "python3"
  },
  "language_info": {
   "codemirror_mode": {
    "name": "ipython",
    "version": 3
   },
   "file_extension": ".py",
   "mimetype": "text/x-python",
   "name": "python",
   "nbconvert_exporter": "python",
   "pygments_lexer": "ipython3",
   "version": "3.11.0"
  }
 },
 "nbformat": 4,
 "nbformat_minor": 5
}
