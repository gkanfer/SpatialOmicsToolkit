{
 "cells": [
  {
   "cell_type": "markdown",
   "id": "601bed1f",
   "metadata": {},
   "source": [
    "<center>Applying STAligner for Breast-Cancer data set from 10X genomics"
   ]
  },
  {
   "cell_type": "code",
   "execution_count": 30,
   "id": "cefbb634",
   "metadata": {},
   "outputs": [],
   "source": [
    "import STAligner\n",
    "import os\n",
    "\n",
    "import anndata as ad\n",
    "import scanpy as sc\n",
    "import pandas as pd\n",
    "import numpy as np\n",
    "import scipy.sparse as sp\n",
    "import scipy.linalg\n",
    "\n",
    "import scipy\n",
    "import networkx\n",
    "\n",
    "import torch\n",
    "\n",
    "used_device = torch.device('cuda')"
   ]
  },
  {
   "cell_type": "code",
   "execution_count": 31,
   "id": "4dd11f06",
   "metadata": {},
   "outputs": [],
   "source": [
    "pathout = \"/data/kanferg/Sptial_Omics/SpatialOmicsToolkit/out_4\"\n",
    "path_age_58 = \"/data/kanferg/Sptial_Omics/playGround/Data/Breast_Cancer/age_58/binned_outputs/square_016um\"\n",
    "path_age_76 = \"/data/kanferg/Sptial_Omics/playGround/Data/Breast_Cancer/age_76/binned_outputs/square_016um\"\n",
    "path_list = [path_age_58,path_age_76]"
   ]
  },
  {
   "cell_type": "code",
   "execution_count": 27,
   "id": "cdeba625",
   "metadata": {},
   "outputs": [],
   "source": [
    "def read_data(path_data):\n",
    "    def parquet_to_csv(path):\n",
    "        '''\n",
    "        Converts a Parquet file to a CSV file if the CSV file does not already exist.\n",
    "        '''\n",
    "        file_path = os.path.join(path,'spatial/tissue_positions_list.csv')\n",
    "        if not os.path.exists(file_path):\n",
    "            df = pd.read_parquet(os.path.join(path,'spatial/tissue_positions.parquet'))\n",
    "            # Write to a CSV file\n",
    "            df.to_csv(os.path.join(path,'spatial/tissue_positions_list.csv'), index=False)\n",
    "        return\n",
    "    parquet_to_csv(path_data)\n",
    "    andata = sc.read_visium(path=path_data,load_images=False)\n",
    "    positions = pd.read_csv(os.path.join(path_data,'spatial/tissue_positions_list.csv'),index_col=0,)\n",
    "    positions.columns = [\n",
    "                \"in_tissue\",\n",
    "                \"array_row\",\n",
    "                \"array_col\",\n",
    "                \"pxl_col_in_fullres\",\n",
    "                \"pxl_row_in_fullres\",\n",
    "            ]\n",
    "    andata.obs = andata.obs.join(positions, how=\"left\")\n",
    "    andata.obsm[\"spatial\"] = andata.obs[\n",
    "                [\"pxl_row_in_fullres\", \"pxl_col_in_fullres\"]\n",
    "            ].to_numpy()\n",
    "    andata.obs.drop(\n",
    "        columns=[\"pxl_row_in_fullres\", \"pxl_col_in_fullres\"],\n",
    "        inplace=True,\n",
    "    )\n",
    "    andata.obsm['spatial'] = np.array(andata.obsm['spatial'], dtype=np.float64)\n",
    "    andata.var_names_make_unique()\n",
    "    # for keeping the cell names for compitability with other programs\n",
    "    andata.obs[\"obs_names\"] = andata.obs_names\n",
    "    return andata"
   ]
  },
  {
   "cell_type": "markdown",
   "id": "a2b3fe9b",
   "metadata": {},
   "source": [
    "### Function Summary: Construct Spatial Neighbor Networks - Cal_Spatial_Net\n",
    "\n",
    "This function constructs spatial neighbor networks for the spots in an AnnData object based on either radius or nearest neighbors.\n",
    "\n",
    "**Parameters:**\n",
    "- `adata`: Input AnnData object.\n",
    "- `rad_cutoff`: Radius cutoff for connecting spots when `model='Radius'`.\n",
    "- `k_cutoff`: Number of nearest neighbors for connecting spots when `model='KNN'`.\n",
    "- `max_neigh`: Maximum number of neighbors to consider.\n",
    "- `model`: Network construction method. Options:\n",
    "  - `'Radius'`: Connects spots within a specified radius (`rad_cutoff`).\n",
    "  - `'KNN'`: Connects each spot to its `k_cutoff` nearest neighbors.\n",
    "- `verbose`: If True, outputs detailed progress.\n",
    "\n",
    "**Returns:**  \n",
    "The spatial networks are saved in `adata.uns['Spatial_Net']`.\n"
   ]
  },
  {
   "cell_type": "code",
   "execution_count": 35,
   "id": "edb808b3",
   "metadata": {},
   "outputs": [
    {
     "name": "stderr",
     "output_type": "stream",
     "text": [
      "Variable names are not unique. To make them unique, call `.var_names_make_unique`.\n",
      "Variable names are not unique. To make them unique, call `.var_names_make_unique`.\n"
     ]
    },
    {
     "name": "stdout",
     "output_type": "stream",
     "text": [
      "------Calculating spatial graph...\n",
      "The graph contains 0 edges, 119082 cells.\n",
      "0.0000 neighbors per cell on average.\n"
     ]
    },
    {
     "name": "stderr",
     "output_type": "stream",
     "text": [
      "Variable names are not unique. To make them unique, call `.var_names_make_unique`.\n",
      "Variable names are not unique. To make them unique, call `.var_names_make_unique`.\n"
     ]
    },
    {
     "name": "stdout",
     "output_type": "stream",
     "text": [
      "------Calculating spatial graph...\n",
      "The graph contains 0 edges, 175095 cells.\n",
      "0.0000 neighbors per cell on average.\n"
     ]
    }
   ],
   "source": [
    "Batch_list = []\n",
    "adj_list = []\n",
    "section_ids = ['0','1']\n",
    "for i,p in enumerate(path_list):\n",
    "    adata = read_data(p)\n",
    "    adata.obs_names = [x + '_' + section_ids[i] for x in adata.obs_names]\n",
    "    STAligner.Cal_Spatial_Net(adata)  \n",
    "    sc.pp.normalize_total(adata, target_sum=1e4)\n",
    "    sc.pp.log1p(adata)\n",
    "    sc.pp.highly_variable_genes(adata,flavor = 'cell_ranger',n_top_genes = 2000)\n",
    "    \n",
    "    adata = adata[:, adata.var['highly_variable']]\n",
    "    adj_list.append(adata.uns['adj'])\n",
    "    Batch_list.append(adata)"
   ]
  },
  {
   "cell_type": "code",
   "execution_count": 36,
   "id": "085b714a",
   "metadata": {},
   "outputs": [
    {
     "data": {
      "text/plain": [
       "View of AnnData object with n_obs × n_vars = 175095 × 2000\n",
       "    obs: 'in_tissue', 'array_row', 'array_col', 'obs_names'\n",
       "    var: 'gene_ids', 'feature_types', 'genome', 'highly_variable', 'means', 'dispersions', 'dispersions_norm'\n",
       "    uns: 'spatial', 'Spatial_Net', 'adj', 'log1p', 'hvg'\n",
       "    obsm: 'spatial'"
      ]
     },
     "execution_count": 36,
     "metadata": {},
     "output_type": "execute_result"
    }
   ],
   "source": [
    "adata"
   ]
  },
  {
   "cell_type": "code",
   "execution_count": 37,
   "id": "51e4b03e",
   "metadata": {},
   "outputs": [],
   "source": [
    "adata_concat = ad.concat(Batch_list, label=\"slice_name\", keys=section_ids)\n",
    "adata_concat.obs[\"batch_name\"] = adata_concat.obs[\"slice_name\"].astype('category')"
   ]
  },
  {
   "cell_type": "code",
   "execution_count": 38,
   "id": "2baa43a6",
   "metadata": {},
   "outputs": [
    {
     "data": {
      "text/plain": [
       "AnnData object with n_obs × n_vars = 294177 × 982\n",
       "    obs: 'in_tissue', 'array_row', 'array_col', 'obs_names', 'slice_name', 'batch_name'\n",
       "    obsm: 'spatial'"
      ]
     },
     "execution_count": 38,
     "metadata": {},
     "output_type": "execute_result"
    }
   ],
   "source": [
    "adata_concat"
   ]
  },
  {
   "cell_type": "code",
   "execution_count": 39,
   "id": "f208bea9",
   "metadata": {},
   "outputs": [],
   "source": [
    "def memory_efficient_block_diag(adj_list):\n",
    "    \"\"\"\n",
    "    Constructs a block diagonal matrix from a list of sparse adjacency matrices in a memory-efficient way.\n",
    "    \n",
    "    Parameters:\n",
    "        adj_list (list): A list of sparse matrices (scipy.sparse).\n",
    "\n",
    "    Returns:\n",
    "        scipy.sparse.csr_matrix: Block diagonal sparse matrix.\n",
    "    \"\"\"\n",
    "    # Calculate the total size of the final matrix\n",
    "    total_rows = sum(adj.shape[0] for adj in adj_list)\n",
    "    total_cols = sum(adj.shape[1] for adj in adj_list)\n",
    "\n",
    "    # Initialize sparse matrices for the data, row indices, and column indices\n",
    "    data = []\n",
    "    row_indices = []\n",
    "    col_indices = []\n",
    "\n",
    "    row_offset = 0\n",
    "    col_offset = 0\n",
    "\n",
    "    for adj in adj_list:\n",
    "        # Convert sparse matrix to COO format for efficient indexing\n",
    "        adj_coo = adj.tocoo()\n",
    "\n",
    "        # Append the data and adjusted indices\n",
    "        data.append(adj_coo.data)\n",
    "        row_indices.append(adj_coo.row + row_offset)\n",
    "        col_indices.append(adj_coo.col + col_offset)\n",
    "\n",
    "        # Update offsets for the next block\n",
    "        row_offset += adj.shape[0]\n",
    "        col_offset += adj.shape[1]\n",
    "\n",
    "    # Concatenate data and indices from all blocks\n",
    "    data = np.concatenate(data)\n",
    "    row_indices = np.concatenate(row_indices)\n",
    "    col_indices = np.concatenate(col_indices)\n",
    "\n",
    "    # Construct the final sparse matrix\n",
    "    block_diag_matrix = sp.csr_matrix((data, (row_indices, col_indices)), shape=(total_rows, total_cols))\n",
    "    return block_diag_matrix"
   ]
  },
  {
   "cell_type": "code",
   "execution_count": 40,
   "id": "d3bab221",
   "metadata": {},
   "outputs": [],
   "source": [
    "# Example usage\n",
    "adj_concat = memory_efficient_block_diag(adj_list)\n",
    "adata_concat.uns['edgeList'] = np.nonzero(adj_concat)"
   ]
  },
  {
   "cell_type": "code",
   "execution_count": 41,
   "id": "fd23b25b",
   "metadata": {},
   "outputs": [
    {
     "data": {
      "text/plain": [
       "AnnData object with n_obs × n_vars = 294177 × 982\n",
       "    obs: 'in_tissue', 'array_row', 'array_col', 'obs_names', 'slice_name', 'batch_name'\n",
       "    uns: 'edgeList'\n",
       "    obsm: 'spatial'"
      ]
     },
     "execution_count": 41,
     "metadata": {},
     "output_type": "execute_result"
    }
   ],
   "source": [
    "adata_concat"
   ]
  },
  {
   "cell_type": "markdown",
   "id": "f492ad53",
   "metadata": {},
   "source": [
    "### Function Summary: Train Graph Attention Auto-Encoder with Batch Correction\n",
    "\n",
    "This function trains a graph attention auto-encoder on an AnnData object and performs batch correction in the embedding space using spot triplets across slices.\n",
    "\n",
    "**Parameters:**\n",
    "- `adata`: Input AnnData object.\n",
    "- `hidden_dims`: Dimension of the encoder.\n",
    "- `n_epochs`: Number of training epochs.\n",
    "- `lr`: Learning rate for optimization.\n",
    "- `key_added`: Key to store latent embeddings in `adata.obsm`.\n",
    "- `gradient_clipping`: Applies gradient clipping during training.\n",
    "- `weight_decay`: Regularization parameter for Adam optimizer.\n",
    "- `margin`: Margin in triplet loss for batch correction; larger values enforce stronger correction.\n",
    "- `iter_comb`: Order of pairwise slice integration (e.g., `(0, 1)` aligns slice 0 with slice 1 as the reference).\n",
    "- `knn_neigh`: Number of nearest neighbors for constructing mutual nearest neighbors (MNNs).\n",
    "- `device`: Specifies the computation device (e.g., CPU or GPU).\n",
    "\n",
    "**Returns:**  \n",
    "Updated AnnData object with batch-corrected latent embeddings."
   ]
  },
  {
   "cell_type": "code",
   "execution_count": 42,
   "id": "ce0e3c07",
   "metadata": {},
   "outputs": [
    {
     "name": "stdout",
     "output_type": "stream",
     "text": [
      "STAligner(\n",
      "  (conv1): GATConv(982, 512, heads=1)\n",
      "  (conv2): GATConv(512, 30, heads=1)\n",
      "  (conv3): GATConv(30, 512, heads=1)\n",
      "  (conv4): GATConv(512, 982, heads=1)\n",
      ")\n",
      "Pretrain with STAGATE...\n"
     ]
    },
    {
     "name": "stderr",
     "output_type": "stream",
     "text": [
      "100%|█████████████████████████████████████████████████████████████████████████████| 500/500 [01:48<00:00,  4.62it/s]\n"
     ]
    },
    {
     "name": "stdout",
     "output_type": "stream",
     "text": [
      "Train with STAligner...\n"
     ]
    },
    {
     "name": "stderr",
     "output_type": "stream",
     "text": [
      "\r",
      "  0%|                                                                                       | 0/500 [00:00<?, ?it/s]"
     ]
    },
    {
     "name": "stdout",
     "output_type": "stream",
     "text": [
      "Update spot triplets at epoch 500\n"
     ]
    },
    {
     "name": "stderr",
     "output_type": "stream",
     "text": [
      "/gpfs/gsfs10/users/kanferg/conda/envs/STAligner_env/lib/python3.8/site-packages/STAligner-1.0.0-py3.8.egg/STAligner/mnn_utils.py:51: FutureWarning: adjacency_matrix will return a scipy.sparse array instead of a matrix in Networkx 3.0.\n",
      "  adj = nx.adjacency_matrix(G)\n",
      " 20%|███████████████▍                                                             | 100/500 [00:30<01:27,  4.55it/s]"
     ]
    },
    {
     "name": "stdout",
     "output_type": "stream",
     "text": [
      "Update spot triplets at epoch 600\n"
     ]
    },
    {
     "name": "stderr",
     "output_type": "stream",
     "text": [
      " 40%|██████████████████████████████▊                                              | 200/500 [01:02<01:05,  4.56it/s]"
     ]
    },
    {
     "name": "stdout",
     "output_type": "stream",
     "text": [
      "Update spot triplets at epoch 700\n"
     ]
    },
    {
     "name": "stderr",
     "output_type": "stream",
     "text": [
      " 60%|██████████████████████████████████████████████▏                              | 300/500 [01:33<00:43,  4.58it/s]"
     ]
    },
    {
     "name": "stdout",
     "output_type": "stream",
     "text": [
      "Update spot triplets at epoch 800\n"
     ]
    },
    {
     "name": "stderr",
     "output_type": "stream",
     "text": [
      " 80%|█████████████████████████████████████████████████████████████▌               | 400/500 [02:04<00:21,  4.56it/s]"
     ]
    },
    {
     "name": "stdout",
     "output_type": "stream",
     "text": [
      "Update spot triplets at epoch 900\n"
     ]
    },
    {
     "name": "stderr",
     "output_type": "stream",
     "text": [
      "100%|█████████████████████████████████████████████████████████████████████████████| 500/500 [02:36<00:00,  3.20it/s]\n"
     ]
    }
   ],
   "source": [
    "iter_comb = [(1, 0)] ## Fix slice 0 as reference to align\n",
    "adata_concat = STAligner.train_STAligner(adata_concat, verbose=True, knn_neigh = 10, iter_comb = iter_comb, margin=1,  device=used_device)"
   ]
  },
  {
   "cell_type": "code",
   "execution_count": 51,
   "id": "db766936",
   "metadata": {},
   "outputs": [
    {
     "name": "stdout",
     "output_type": "stream",
     "text": [
      "Column 'in_tissue' has data type: int64\n",
      "Column 'array_row' has data type: int64\n",
      "Column 'array_col' has data type: int64\n",
      "Column 'obs_names' has data type: object\n",
      "Column 'slice_name' has data type: category\n",
      "Column 'batch_name' has data type: category\n"
     ]
    }
   ],
   "source": [
    "andata_save = adata_concat.copy()\n",
    "for column in andata_save.obs.columns:\n",
    "    print(f\"Column '{column}' has data type: {andata_save.obs[column].dtype}\")"
   ]
  },
  {
   "cell_type": "code",
   "execution_count": 60,
   "id": "36e7cd79",
   "metadata": {},
   "outputs": [],
   "source": [
    "andata_save.obs['obs_names'] = andata_save.obs['obs_names'].astype(\"string\")\n",
    "andata_save.obs_names = andata_save.obs_names.astype(str)\n",
    "andata_save.uns['edgeList'] = np.column_stack(andata_save.uns['edgeList'])"
   ]
  },
  {
   "cell_type": "code",
   "execution_count": 63,
   "id": "38bd4358",
   "metadata": {},
   "outputs": [
    {
     "name": "stderr",
     "output_type": "stream",
     "text": [
      "... storing 'obs_names' as categorical\n"
     ]
    }
   ],
   "source": [
    "andata_save.write_h5ad(os.path.join(pathout, \"andata_bc_BreastCancer_STAlign.h5ad\"))"
   ]
  },
  {
   "cell_type": "code",
   "execution_count": null,
   "id": "a7d768fc",
   "metadata": {},
   "outputs": [],
   "source": []
  }
 ],
 "metadata": {
  "kernelspec": {
   "display_name": "Python 3 (ipykernel)",
   "language": "python",
   "name": "python3"
  },
  "language_info": {
   "codemirror_mode": {
    "name": "ipython",
    "version": 3
   },
   "file_extension": ".py",
   "mimetype": "text/x-python",
   "name": "python",
   "nbconvert_exporter": "python",
   "pygments_lexer": "ipython3",
   "version": "3.8.19"
  }
 },
 "nbformat": 4,
 "nbformat_minor": 5
}
