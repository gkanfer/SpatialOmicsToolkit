{
 "cells": [
  {
   "cell_type": "code",
   "execution_count": null,
   "id": "db48e9b2-b42e-46ce-8163-5c48bc27681a",
   "metadata": {},
   "outputs": [],
   "source": [
    "import matplotlib.pyplot as plt\n",
    "from matplotlib.backends.backend_pdf import PdfPages\n",
    "from matplotlib.colors import ListedColormap\n",
    "import matplotlib.ticker as ticker\n",
    "import matplotlib.pyplot as plt\n",
    "import pandas as pd\n",
    "from matplotlib.ticker import MaxNLocator\n",
    "import seaborn as sns\n",
    "import os\n",
    "import gzip\n",
    "import numpy as np\n",
    "import scanpy as sc\n",
    "import cupy as cp\n",
    "import os\n",
    "import time\n",
    "import rapids_singlecell as rsc\n",
    "import numpy as np\n",
    "import rmm\n",
    "from rmm.allocators.cupy import rmm_cupy_allocator\n",
    "\n",
    "rmm.reinitialize(\n",
    "    managed_memory=False,  # Allows oversubscription\n",
    "    pool_allocator=False,  # default is False\n",
    "    devices=0,  # GPU device IDs to register. By default registers only GPU 0.\n",
    ")\n",
    "cp.cuda.set_allocator(rmm_cupy_allocator)\n",
    "import zarr\n",
    "from collections import OrderedDict\n",
    "from scipy.sparse import csr_matrix\n",
    "import pandas as pd\n",
    "import scipy.stats as stats\n",
    "from statsmodels.stats.multitest import multipletests\n",
    "from scipy.sparse import csr_matrix\n",
    "import scipy\n",
    "import anndata\n",
    "from collections import OrderedDict"
   ]
  },
  {
   "cell_type": "code",
   "execution_count": null,
   "id": "ad6f74ec-cf3b-4c1f-9846-dbe4606a54eb",
   "metadata": {},
   "outputs": [],
   "source": [
    "from rsc_functions.utility.applyqc import applyqc "
   ]
  },
  {
   "cell_type": "code",
   "execution_count": null,
   "id": "0f679579-6ecb-4e94-8b2d-f4018dcf6c8c",
   "metadata": {},
   "outputs": [],
   "source": [
    "path = \"/data/kanferg/Sptial_Omics/playGround/Data/Xenium/output_temp\"\n",
    "pathout = \"/data/kanferg/Sptial_Omics/SpatialOmicsToolkit/out_1\"\n",
    "FilePrefix = \"_072824\" "
   ]
  },
  {
   "cell_type": "code",
   "execution_count": null,
   "id": "899d7c20-5bad-48bc-b334-649505473875",
   "metadata": {},
   "outputs": [],
   "source": [
    "path_xenium = os.path.join(path,\"cell_feature_matrix.h5\")\n",
    "path_cells = os.path.join(path,\"cells.zarr.zip\")\n",
    "adata = sc.read_10x_h5(path_xenium)\n",
    "rsc.get.anndata_to_GPU(adata)\n",
    "rsc.pp.flag_gene_family(adata, gene_family_name=\"MT\", gene_family_prefix=\"mt-\")\n",
    "rsc.pp.calculate_qc_metrics(adata, qc_vars=[\"MT\"])\n",
    "def open_zarr(path: str) -> zarr.Group:\n",
    "    store = (zarr.ZipStore(path, mode=\"r\") if path.endswith(\".zip\") else zarr.DirectoryStore(path))\n",
    "    return zarr.group(store=store)\n",
    "root = open_zarr(path_cells)\n",
    "column_names = dict(root['cell_summary'].attrs.items())['column_names']\n",
    "def build_obs(andata,root,column_names):\n",
    "    for i in range(len(column_names)):\n",
    "        andata.obs[str(column_names[i])] = np.array(root[\"cell_summary\"])[:,i]\n",
    "    spatial = andata.obs[[\"cell_centroid_x\", \"cell_centroid_y\"]]\n",
    "    adata.obsm[\"spatial\"] = spatial.values\n",
    "    return andata\n",
    "andata = build_obs(adata,root,column_names)\n",
    "andata.var_names_make_unique()\n",
    "andata.obsm['spatial'] = np.array(andata.obsm['spatial'], dtype=np.float64)\n",
    "andata.uns['config'] = OrderedDict()\n",
    "andata.uns[\"config\"][\"secondary_var_names\"] = andata.var_names\n",
    "rsc.pp.flag_gene_family(andata, gene_family_name=\"MT\", gene_family_prefix=\"mt-\")\n",
    "rsc.pp.calculate_qc_metrics(andata, qc_vars=[\"MT\"])\n",
    "rsc.pp.filter_cells(andata, min_count=10,qc_var = 'total_counts')\n",
    "rsc.pp.filter_genes(andata, min_count=5)\n",
    "andata.layers['counts'] = andata.X.copy()\n",
    "rsc.pp.normalize_total(andata)\n",
    "rsc.pp.log1p(andata)\n",
    "andata.layers['log'] = andata.X.copy()\n",
    "rsc.pp.highly_variable_genes(andata, n_top_genes=1700, flavor=\"seurat_v3\", layer=\"log\")"
   ]
  },
  {
   "cell_type": "code",
   "execution_count": null,
   "id": "b075dfba-486a-4e8a-a636-d2b46202595a",
   "metadata": {},
   "outputs": [],
   "source": [
    "andata = andata[:, andata.var[\"highly_variable\"]]\n",
    "andata"
   ]
  },
  {
   "cell_type": "code",
   "execution_count": null,
   "id": "cec3f797-61ac-4246-9af2-c69c0ab3cf02",
   "metadata": {},
   "outputs": [],
   "source": [
    "rsc.pp.scale(andata, max_value=10)"
   ]
  },
  {
   "cell_type": "code",
   "execution_count": null,
   "id": "45f62c59-8501-4b58-8418-4de4a70b5172",
   "metadata": {},
   "outputs": [],
   "source": [
    "rsc.pp.pca(andata, n_comps=30,random_state=1337, use_highly_variable=False)"
   ]
  },
  {
   "cell_type": "code",
   "execution_count": null,
   "id": "544bbf6f-f962-4a4d-a675-9fa054812a62",
   "metadata": {},
   "outputs": [],
   "source": [
    "sc.pl.pca_variance_ratio(andata, log=True, n_pcs=30)"
   ]
  },
  {
   "cell_type": "code",
   "execution_count": null,
   "id": "879a5791-6bdb-434d-87a2-380e19670313",
   "metadata": {},
   "outputs": [],
   "source": [
    "rsc.pp.neighbors(andata, n_pcs=18, use_rep='X_pca', n_neighbors=20)\n",
    "rsc.tl.leiden(andata, random_state=1337, resolution=0.9, key_added='cluster') "
   ]
  },
  {
   "cell_type": "code",
   "execution_count": null,
   "id": "21e85e41-1344-4227-857d-b86bc5906ce6",
   "metadata": {},
   "outputs": [],
   "source": [
    "from rsc_functions.reports.plot import plot_spatial"
   ]
  },
  {
   "cell_type": "code",
   "execution_count": null,
   "id": "b574e618-7e1f-4c96-b1b7-dcd6db97d63d",
   "metadata": {},
   "outputs": [],
   "source": [
    "fig, ax = plt.subplots(1, 1, figsize=(5, 4))\n",
    "plot_spatial(andata,ax = ax, features = None, title = '', xlab = '',ylab ='',size = 1,random_palette = True)"
   ]
  },
  {
   "cell_type": "code",
   "execution_count": null,
   "id": "a5b073a0-4dc8-4b14-8a69-57c531f4a2a3",
   "metadata": {},
   "outputs": [],
   "source": [
    "rsc.tl.umap(andata, min_dist=0.3)"
   ]
  },
  {
   "cell_type": "code",
   "execution_count": null,
   "id": "2e27c3c9-e4a8-4167-982b-a9157f8adb54",
   "metadata": {},
   "outputs": [],
   "source": [
    "umap_coordinates = andata.obsm['X_umap']\n",
    "print(\"UMAP Coordinate Ranges:\")\n",
    "print(f\"UMAP 1: {umap_coordinates[:, 0].min()} to {umap_coordinates[:, 0].max()}\")\n",
    "print(f\"UMAP 2: {umap_coordinates[:, 1].min()} to {umap_coordinates[:, 1].max()}\")\n"
   ]
  },
  {
   "cell_type": "code",
   "execution_count": null,
   "id": "98a774aa-6893-4c05-b363-b484bbab2165",
   "metadata": {},
   "outputs": [],
   "source": [
    "plt.rcParams['figure.dpi'] = 150\n",
    "plt.rcParams['font.family'] = ['serif']\n",
    "plt.rcParams['font.size'] = 12\n",
    "plt.rcParams['axes.labelsize'] = 12\n",
    "plt.rcParams['axes.titlesize'] = 12\n",
    "plt.rcParams['xtick.labelsize'] = 12\n",
    "plt.rcParams['ytick.labelsize'] = 12\n",
    "#fig, ax = plt.subplots(1, 1, figsize=(4, 3))\n",
    "sc.pl.umap(andata, color=['cluster'])"
   ]
  },
  {
   "cell_type": "code",
   "execution_count": null,
   "id": "b6a6384a-0033-43b4-9818-75e8dfdb21df",
   "metadata": {},
   "outputs": [],
   "source": [
    "andata.X = andata.layers[\"log\"]\n",
    "rsc.tl.rank_genes_groups_logreg(andata, groupby=\"cluster\", use_raw=False)"
   ]
  },
  {
   "cell_type": "code",
   "execution_count": null,
   "id": "2d425fc2-088c-4858-933a-fabf06da0442",
   "metadata": {},
   "outputs": [],
   "source": [
    "from rsc_functions.utility.rank_genes_groups import return_markers\n",
    "from rsc_functions.reports.plot import plot_expression"
   ]
  },
  {
   "cell_type": "code",
   "execution_count": null,
   "id": "90be316f-8ed2-4ed8-a4a2-55db5964d3b2",
   "metadata": {},
   "outputs": [],
   "source": [
    "marker_list = np.ravel(pd.DataFrame.from_records(andata.uns['rank_genes_groups']['names']).to_numpy())\n",
    "marker_sel = marker_list[0:9]\n",
    "len(marker_sel)"
   ]
  },
  {
   "cell_type": "code",
   "execution_count": null,
   "id": "45943cc8-c3ce-4a8b-b1de-fee073751df3",
   "metadata": {},
   "outputs": [],
   "source": [
    "unique_clusters = andata.obs['cluster'].unique()\n",
    "cluster_order = sorted(unique_clusters)"
   ]
  },
  {
   "cell_type": "code",
   "execution_count": null,
   "id": "b675f399-62cd-44a9-bdbc-c254825ccf29",
   "metadata": {},
   "outputs": [],
   "source": [
    "import warnings\n",
    "\n",
    "# Suppress warnings in this specific code chunk\n",
    "with warnings.catch_warnings():\n",
    "    warnings.simplefilter(\"ignore\")\n",
    "    plt.rcParams['figure.dpi'] = 150\n",
    "    plt.rcParams['font.family'] = ['serif']\n",
    "    plt.rcParams['font.size'] = 12\n",
    "    plt.rcParams['axes.labelsize'] = 12\n",
    "    plt.rcParams['axes.titlesize'] = 12\n",
    "    plt.rcParams['xtick.labelsize'] = 12\n",
    "    plt.rcParams['ytick.labelsize'] = 12\n",
    "    fig, ax = plt.subplots(3, 3, figsize=(20, 20),sharey=all)\n",
    "    ax = np.ravel(ax)\n",
    "    for i,marker in enumerate(marker_sel):\n",
    "        df_expression = pd.DataFrame({'cluster':andata.obs['cluster'].to_numpy()})\n",
    "        df_expression['cluster'] = pd.Categorical(df_expression['cluster'], categories=cluster_order, ordered=True)\n",
    "        df_expression[marker] = return_markers(andata = andata, marker= marker)\n",
    "        df_expression = df_expression.loc[df_expression[marker]>0,:]\n",
    "        # Set cluster order\n",
    "        plot_expression(df = df_expression, marker = marker,ax = ax[i],inner = None,fill = True,dodge = True, linecolor = 'black',linewidth = 2.2)\n",
    "    "
   ]
  },
  {
   "cell_type": "code",
   "execution_count": null,
   "id": "b726ff1f-7d8c-4568-a1ce-fbe5043f2fcd",
   "metadata": {},
   "outputs": [],
   "source": [
    "sc.pl.rank_genes_groups(andata, n_genes=20)"
   ]
  },
  {
   "cell_type": "code",
   "execution_count": null,
   "id": "ba0ddc67-cc37-4526-ad2e-d1a54d86268e",
   "metadata": {},
   "outputs": [],
   "source": [
    "andata"
   ]
  },
  {
   "cell_type": "code",
   "execution_count": null,
   "id": "f9cda891-e0cb-46ee-91ad-cd422de59c1c",
   "metadata": {},
   "outputs": [],
   "source": [
    "import squidpy as sq\n",
    "sq.gr.spatial_neighbors(andata, coord_type=\"generic\",delaunay = True)"
   ]
  },
  {
   "cell_type": "code",
   "execution_count": null,
   "id": "3e71c4b0-b2aa-4a72-adaa-6633ab548ed0",
   "metadata": {},
   "outputs": [],
   "source": [
    "sq.gr.nhood_enrichment(andata, cluster_key=\"cluster\")"
   ]
  },
  {
   "cell_type": "code",
   "execution_count": null,
   "id": "b0b1d7ea-02d7-42cc-9383-1d00afa4af7a",
   "metadata": {},
   "outputs": [],
   "source": [
    "from matplotlib.colors import LinearSegmentedColormap\n",
    "\n",
    "colors = [(0, 0, 1), (1, 1, 1), (1, 0, 0)]  # Blue -> White -> Red\n",
    "n_bins = 100  # Discretize into 100 bins\n",
    "custom_cmap = LinearSegmentedColormap.from_list('custom_cmap', colors, N=n_bins)\n",
    "\n",
    "plt.rcParams['figure.dpi'] = 150\n",
    "plt.rcParams['font.family'] = ['serif']\n",
    "plt.rcParams['font.size'] = 12\n",
    "plt.rcParams['axes.labelsize'] = 12\n",
    "plt.rcParams['axes.titlesize'] = 12\n",
    "plt.rcParams['xtick.labelsize'] = 12\n",
    "plt.rcParams['ytick.labelsize'] = 12\n",
    "\n",
    "sq.pl.nhood_enrichment(\n",
    "    andata,\n",
    "    title = \"Neighborhood Enrichment generic\",\n",
    "    cluster_key=\"cluster\",\n",
    "    method=\"average\",\n",
    "    cmap=custom_cmap,\n",
    "    vmin=-200,\n",
    "    vmax=200,\n",
    "    figsize=(3, 3),\n",
    ")"
   ]
  },
  {
   "cell_type": "code",
   "execution_count": null,
   "id": "2147eacf-957a-413a-9823-b5e5d236b314",
   "metadata": {},
   "outputs": [],
   "source": [
    "dist = andata.obsp['spatial_distances'].copy()\n",
    "dist.data = 1 / dist.data\n",
    "\n",
    "# row normalize the matrix, this makes the matrix dense.\n",
    "dist /= dist.sum(axis=1)\n",
    "\n",
    "# convert dist back to sparse matrix\n",
    "from scipy.sparse import csr_matrix\n",
    "andata.obsp[\"knn_weights\"] = csr_matrix(dist)\n",
    "\n",
    "del dist\n",
    "\n",
    "knn_graph = \"knn_weights\"\n",
    "andata.obsp[\"knn_connectivities\"] = (andata.obsp[knn_graph] > 0).astype(int)"
   ]
  },
  {
   "cell_type": "code",
   "execution_count": null,
   "id": "84e70104-6e73-458b-ad7c-8b1e3c5fd739",
   "metadata": {},
   "outputs": [],
   "source": [
    "andata"
   ]
  },
  {
   "cell_type": "code",
   "execution_count": null,
   "id": "db5c92d1-ae53-4ddb-bc9b-4dfa92fc29f2",
   "metadata": {},
   "outputs": [],
   "source": [
    "dists = andata.obsp['knn_connectivities']\n",
    "feat = 'total_counts'\n",
    "lagged_feat = f\"lagged_{feat}\"\n",
    "x = adata.obs[feat]\n",
    "andata.obs[lagged_feat] = dists.dot(x)"
   ]
  },
  {
   "cell_type": "code",
   "execution_count": null,
   "id": "5c7a4ad2-2f57-4eab-9e02-c40d5e42f222",
   "metadata": {},
   "outputs": [],
   "source": [
    "import matplotlib.pyplot as plt\n",
    "import numpy as np\n",
    "import pandas as pd\n",
    "from sklearn.linear_model import LinearRegression\n",
    "from sklearn.metrics import r2_score\n",
    "\n",
    "# Load the data\n",
    "data = andata.obs['total_counts'].values\n",
    "clusters = andata.obs['cluster'].astype('category').cat.codes.values  # Convert clusters to numerical codes\n",
    "\n",
    "# Convert to NumPy arrays for plotting and regression\n",
    "total_counts_np = np.asarray(data)\n",
    "lagged_total_counts_np = np.asarray(lagged_total_counts)\n",
    "clusters_np = np.asarray(clusters)\n",
    "\n",
    "# Unique clusters\n",
    "unique_clusters = np.unique(clusters_np)\n",
    "\n",
    "# Prepare the DataFrame for easier handling\n",
    "df = pd.DataFrame({\n",
    "    'total_counts': total_counts_np,\n",
    "    'lagged_total_counts': lagged_total_counts_np,\n",
    "    'cluster': clusters_np\n",
    "})\n",
    "\n",
    "# Plot for each cluster\n",
    "for cluster in unique_clusters:\n",
    "    # Filter the data for the current cluster\n",
    "    cluster_data = df[df['cluster'] == cluster]\n",
    "\n",
    "    # Scatter plot\n",
    "    plt.figure(figsize=(12, 6))\n",
    "    plt.scatter(cluster_data['total_counts'], cluster_data['lagged_total_counts'], label='Data Points', color='blue', alpha=0.5)\n",
    "\n",
    "    # Linear regression for the linear fit\n",
    "    model = LinearRegression()\n",
    "    model.fit(cluster_data['total_counts'].values.reshape(-1, 1), cluster_data['lagged_total_counts'].values)\n",
    "    line_x = np.linspace(cluster_data['total_counts'].min(), cluster_data['total_counts'].max(), 1000)\n",
    "    line_y = model.predict(line_x.reshape(-1, 1))\n",
    "\n",
    "    # Plot the linear fit\n",
    "    plt.plot(line_x, line_y, color='red', label='Linear Fit')\n",
    "\n",
    "    # Calculate R-squared value\n",
    "    r_squared = r2_score(cluster_data['lagged_total_counts'], model.predict(cluster_data['total_counts'].values.reshape(-1, 1)))\n",
    "\n",
    "    # Plot customization\n",
    "    plt.xlabel('Total Counts')\n",
    "    plt.ylabel('Lagged Total Counts')\n",
    "    plt.title(f'Lag Plot of Total Counts vs. Lagged Total Counts with Linear Fit (Cluster {cluster})\\nR-squared: {r_squared:.2f}')\n",
    "    plt.legend()\n",
    "    plt.grid(True)\n",
    "    plt.show()\n"
   ]
  },
  {
   "cell_type": "code",
   "execution_count": null,
   "id": "4263c24d-318a-409e-9ab9-c1ddd71b65f0",
   "metadata": {},
   "outputs": [],
   "source": [
    "import cupy as cp\n",
    "\n",
    "# Assuming knn_connectivities is your weight matrix and data is the total counts\n",
    "knn_connectivities = andata.obsp[\"knn_connectivities\"]\n",
    "data = andata.obs['total_counts'].values\n",
    "\n",
    "# Convert to CuPy arrays\n",
    "data_cupy = cp.asarray(data, dtype=cp.float32)\n",
    "knn_connectivities_cupy = cp.sparse.csr_matrix((cp.asarray(knn_connectivities.data), \n",
    "                                                cp.asarray(knn_connectivities.indices), \n",
    "                                                cp.asarray(knn_connectivities.indptr)), \n",
    "                                                shape=knn_connectivities.shape)\n",
    "\n",
    "# Calculate lagged total counts\n",
    "lagged_total_counts_cupy = knn_connectivities_cupy.dot(data_cupy)\n",
    "lagged_total_counts = cp.asnumpy(lagged_total_counts_cupy)\n"
   ]
  },
  {
   "cell_type": "code",
   "execution_count": null,
   "id": "e39d6a93-7e09-4c5f-b660-6e8b4509fae5",
   "metadata": {},
   "outputs": [],
   "source": [
    "import cupy as cp\n",
    "import numpy as np\n",
    "import matplotlib.pyplot as plt\n",
    "\n",
    "# Load the data\n",
    "data = andata.obs['total_counts'].values\n",
    "clusters = andata.obs['cluster'].astype(str).values  # Convert clusters to string (object) type\n",
    "weight_matrix = andata.obsp[\"knn_connectivities\"]\n",
    "\n",
    "# Convert to CuPy arrays\n",
    "data_cupy = cp.asarray(data, dtype=cp.float32)\n",
    "clusters_cupy = clusters  # Keep clusters as an array of strings\n",
    "weight_matrix_cupy = cp.sparse.csr_matrix((cp.asarray(weight_matrix.data), \n",
    "                                           cp.asarray(weight_matrix.indices), \n",
    "                                           cp.asarray(weight_matrix.indptr)), \n",
    "                                           shape=weight_matrix.shape)\n",
    "\n",
    "# Center the data\n",
    "data_centered_cupy = data_cupy - cp.mean(data_cupy)\n"
   ]
  },
  {
   "cell_type": "code",
   "execution_count": null,
   "id": "e224b103-1ac4-4dc5-9bf1-2c73e931bca1",
   "metadata": {},
   "outputs": [],
   "source": [
    "def morans_I_cupy(data, weight_matrix):\n",
    "    n_samples = data.shape[0]\n",
    "\n",
    "    # Compute the numerator using the custom kernel\n",
    "    num = cp.zeros(1, dtype=cp.float32)\n",
    "    \n",
    "    kernel_code = r\"\"\"\n",
    "    extern \"C\" __global__\n",
    "    void morans_I_num_dense(const float* data_centered, const int* adj_matrix_row_ptr, \n",
    "                            const int* adj_matrix_col_ind, const float* adj_matrix_data, \n",
    "                            float* num, int n_samples) {\n",
    "        int i = blockIdx.x * blockDim.x + threadIdx.x;\n",
    "\n",
    "        if (i >= n_samples) {\n",
    "            return;\n",
    "        }\n",
    "\n",
    "        int k_start = adj_matrix_row_ptr[i];\n",
    "        int k_end = adj_matrix_row_ptr[i + 1];\n",
    "\n",
    "        for (int k = k_start; k < k_end; ++k) {\n",
    "            int j = adj_matrix_col_ind[k];\n",
    "            float edge_weight = adj_matrix_data[k];\n",
    "            float product = data_centered[i] * data_centered[j];\n",
    "            atomicAdd(&num[0], edge_weight * product);\n",
    "        }\n",
    "    }\n",
    "    \"\"\"\n",
    "    \n",
    "    num_kernel = cp.RawKernel(kernel_code, \"morans_I_num_dense\")\n",
    "\n",
    "    block_size = 1024\n",
    "    grid_size = (n_samples // block_size + 1,)\n",
    "\n",
    "    num_kernel(\n",
    "        grid_size,\n",
    "        (block_size,),\n",
    "        (\n",
    "            data,\n",
    "            weight_matrix.indptr,\n",
    "            weight_matrix.indices,\n",
    "            weight_matrix.data,\n",
    "            num,\n",
    "            n_samples,\n",
    "        ),\n",
    "    )\n",
    "\n",
    "    # Compute the denominator\n",
    "    data_squared = cp.square(data)\n",
    "    denominator = cp.sum(data_squared)\n",
    "\n",
    "    morans_I = (n_samples / cp.sum(weight_matrix.data)) * (num / denominator)\n",
    "\n",
    "    return morans_I.item()  # Ensure it returns a scalar\n",
    "def morans_I_permutations(data, weight_matrix, clusters, n_permutations=100):\n",
    "    unique_clusters = np.unique(clusters.get())\n",
    "    cluster_results = {}\n",
    "\n",
    "    for cluster in unique_clusters:\n",
    "        cluster_indices = cp.where(clusters_cupy == cluster)[0]\n",
    "        cluster_data = data[cluster_indices]\n",
    "        cluster_weight_matrix = weight_matrix[cluster_indices][:, cluster_indices]\n",
    "\n",
    "        observed_I = morans_I_cupy(cluster_data, cluster_weight_matrix)\n",
    "\n",
    "        permuted_Is = cp.zeros(n_permutations, dtype=cp.float32)\n",
    "\n",
    "        for p in range(n_permutations):\n",
    "            permuted_data = cp.random.permutation(cluster_data)\n",
    "            permuted_I = morans_I_cupy(permuted_data, cluster_weight_matrix)\n",
    "            permuted_Is[p] = permuted_I  # This line expects a scalar\n",
    "\n",
    "        permuted_Is = permuted_Is.get()\n",
    "\n",
    "        # Calculate p-value\n",
    "        p_value = (np.sum(permuted_Is >= observed_I) + 1) / (n_permutations + 1)\n",
    "\n",
    "        cluster_results[int(cluster)] = (observed_I, p_value)\n",
    "\n",
    "    return cluster_results\n"
   ]
  },
  {
   "cell_type": "code",
   "execution_count": null,
   "id": "9b5a64cf-556c-4413-ab61-8df9ad551192",
   "metadata": {},
   "outputs": [],
   "source": [
    "# Compute Moran's I and P-Value for each cluster\n",
    "cluster_results = morans_I_permutations(data_centered_cupy, weight_matrix_cupy, clusters_cupy, n_permutations=1000)\n",
    "\n",
    "for cluster, (observed_I, p_value) in cluster_results.items():\n",
    "    print(f\"Cluster {cluster}: Observed Moran's I: {observed_I}, P-Value: {p_value}\")\n"
   ]
  },
  {
   "cell_type": "code",
   "execution_count": null,
   "id": "aadebe19-f3c3-44e1-ac63-ee36803b38aa",
   "metadata": {},
   "outputs": [],
   "source": []
  },
  {
   "cell_type": "code",
   "execution_count": null,
   "id": "b6e0260f-4f9b-4699-b5f3-5020a6ea4b66",
   "metadata": {
    "scrolled": true
   },
   "outputs": [],
   "source": [
    "features = [feature] if isinstance(feature, str) else feature[:]\n",
    "X = adata.X \n",
    "for feat in features:\n",
    "    lagged_feat = f\"lagged_{feat}\"\n",
    "    if feat in adata.var_names:\n",
    "        x = X[:, adata.var_names.get_loc(feat)]\n",
    "    else:\n",
    "        x = adata.obs[feat]\n",
    "\n",
    "    adata.obs[lagged_feat] = dists.dot(x)"
   ]
  },
  {
   "cell_type": "code",
   "execution_count": null,
   "id": "4e8c2e34-0571-4f6b-be4a-d952b205b7f5",
   "metadata": {},
   "outputs": [],
   "source": [
    "data = andata.obs['total_counts'].values"
   ]
  },
  {
   "cell_type": "code",
   "execution_count": null,
   "id": "d1bcba26-f8d3-4d56-bac7-5ba4e0f4b059",
   "metadata": {},
   "outputs": [],
   "source": [
    "#def _morans_I_cupy_dense(data, adj_matrix_cupy, n_permutations=100):\n",
    "n_samples, n_features = data.shape[0],1\n",
    "data_centered = data - data.mean(axis=0)\n",
    "data_centered_cupy = cp.asarray(data_centered)"
   ]
  },
  {
   "cell_type": "code",
   "execution_count": null,
   "id": "f4d7917b-17af-4926-be4d-b7e8598b92ce",
   "metadata": {},
   "outputs": [],
   "source": [
    "data_centered_cupy.shape"
   ]
  },
  {
   "cell_type": "code",
   "execution_count": null,
   "id": "3a18643a-a96a-4776-bb24-d6f24447ba26",
   "metadata": {},
   "outputs": [],
   "source": [
    "# Calculate the numerator and denominator for Moran's I\n",
    "num = cp.zeros(n_samples, dtype=cp.float32)\n",
    "block_size = 8\n",
    "fg = int(math.ceil(n_features / block_size))\n",
    "sg = int(math.ceil(n_samples / block_size))\n",
    "grid_size = (fg, sg, 1)"
   ]
  },
  {
   "cell_type": "code",
   "execution_count": null,
   "id": "2fa1f890-1a11-4059-a69f-b01617d18676",
   "metadata": {},
   "outputs": [],
   "source": [
    "dist = andata.obsp['spatial_distances'].copy()\n",
    "dist.data = 1 / dist.data\n",
    "dist /= dist.sum(axis=1)\n",
    "# Extract row, column, and data arrays from the SciPy sparse matrix\n",
    "row = dist.row\n",
    "col = dist.col\n",
    "data = dist.data\n",
    "\n",
    "# Convert these arrays to CuPy arrays\n",
    "row_gpu = cp.asarray(row)\n",
    "col_gpu = cp.asarray(col)\n",
    "data_gpu = cp.asarray(data)\n",
    "dist_gpu = cp.sparse.coo_matrix((data_gpu, (row_gpu, col_gpu)), shape=dist.shape).tocsr()"
   ]
  },
  {
   "cell_type": "code",
   "execution_count": null,
   "id": "3657c48e-f925-4ecc-967b-73faead3f232",
   "metadata": {},
   "outputs": [],
   "source": [
    "dist_gpu.indptr"
   ]
  },
  {
   "cell_type": "code",
   "execution_count": null,
   "id": "28ffc3d4-5748-40eb-a4c9-ffc1d6d062e1",
   "metadata": {},
   "outputs": [],
   "source": [
    "kernel_morans_I_num_dense = r\"\"\"\n",
    "extern \"C\" __global__\n",
    "void morans_I_num_dense(const float* data_centered, const int* adj_matrix_row_ptr, const int* adj_matrix_col_ind,\n",
    "                        const float* adj_matrix_data, float* num, int n_samples) {\n",
    "    int i = blockIdx.x * blockDim.x + threadIdx.x;\n",
    "\n",
    "    if (i >= n_samples) {\n",
    "        return;\n",
    "    }\n",
    "\n",
    "    int k_start = adj_matrix_row_ptr[i];\n",
    "    int k_end = adj_matrix_row_ptr[i + 1];\n",
    "\n",
    "    for (int k = k_start; k < k_end; ++k) {\n",
    "        int j = adj_matrix_col_ind[k];\n",
    "        float edge_weight = adj_matrix_data[k];\n",
    "        float product = data_centered[i] * data_centered[j];\n",
    "        atomicAdd(&num[0], edge_weight * product);\n",
    "    }\n",
    "}\n",
    "\"\"\""
   ]
  },
  {
   "cell_type": "code",
   "execution_count": null,
   "id": "f6347610-0389-45e8-ab11-aed82cd45f9d",
   "metadata": {},
   "outputs": [],
   "source": [
    "adj_matrix_cupy = dist_gpu"
   ]
  },
  {
   "cell_type": "code",
   "execution_count": null,
   "id": "43d355f3-30d9-4e8f-ac7a-9c4b27067c2e",
   "metadata": {},
   "outputs": [],
   "source": [
    "num_kernel = cp.RawKernel(kernel_morans_I_num_dense, \"morans_I_num_dense\")\n",
    "num_kernel(\n",
    "    grid_size,\n",
    "    (block_size, block_size, 1),\n",
    "    (\n",
    "        data_centered_cupy,\n",
    "        adj_matrix_cupy.indptr,\n",
    "        adj_matrix_cupy.indices,\n",
    "        adj_matrix_cupy.data,\n",
    "        num,\n",
    "        n_samples,\n",
    "        n_features,\n",
    "    ),\n",
    ")"
   ]
  },
  {
   "cell_type": "code",
   "execution_count": null,
   "id": "3939a510-9081-4e9a-87bf-5b45d1564474",
   "metadata": {},
   "outputs": [],
   "source": [
    "\n",
    "\n",
    "# Calculate the denominator for Moarn's I\n",
    "den = cp.sum(data_centered_cupy**2, axis=0)\n",
    "\n",
    "# Calculate Moarn's I\n",
    "morans_I = num / den\n",
    "# Calculate p-values using permutation tests\n",
    "if n_permutations:\n",
    "    morans_I_permutations = cp.zeros((n_permutations, n_features), dtype=cp.float32)\n",
    "    num_permuted = cp.zeros(n_features, dtype=cp.float32)\n",
    "    for p in range(n_permutations):\n",
    "        idx_shuffle = cp.random.permutation(adj_matrix_cupy.shape[0])\n",
    "        adj_matrix_permuted = adj_matrix_cupy[idx_shuffle, :]\n",
    "        num_kernel(\n",
    "            grid_size,\n",
    "            (block_size, block_size, 1),\n",
    "            (\n",
    "                data_centered_cupy,\n",
    "                adj_matrix_permuted.indptr,\n",
    "                adj_matrix_permuted.indices,\n",
    "                adj_matrix_permuted.data,\n",
    "                num_permuted,\n",
    "                n_samples,\n",
    "                n_features,\n",
    "            ),\n",
    "        )\n",
    "        morans_I_permutations[p, :] = num_permuted / den\n",
    "        num_permuted[:] = 0\n",
    "        cp.cuda.Stream.null.synchronize()\n",
    "else:\n",
    "    morans_I_permutations = None\n",
    "# return morans_I, morans_I_permutations"
   ]
  }
 ],
 "metadata": {
  "kernelspec": {
   "display_name": "Python 3 (ipykernel)",
   "language": "python",
   "name": "python3"
  },
  "language_info": {
   "codemirror_mode": {
    "name": "ipython",
    "version": 3
   },
   "file_extension": ".py",
   "mimetype": "text/x-python",
   "name": "python",
   "nbconvert_exporter": "python",
   "pygments_lexer": "ipython3",
   "version": "3.11.9"
  }
 },
 "nbformat": 4,
 "nbformat_minor": 5
}
