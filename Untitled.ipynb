{
 "cells": [
  {
   "cell_type": "code",
   "execution_count": 2,
   "id": "04090e3a-ccfb-41e3-97e9-cb4d85ce6511",
   "metadata": {},
   "outputs": [],
   "source": [
    "import cupy as cp\n",
    "import cupyx\n",
    "import scanpy as sc\n",
    "import numpy as np\n",
    "import pandas as pd\n",
    "from cupyx.scipy.sparse import csr_matrix\n",
    "import os\n",
    "from PIL import Image"
   ]
  },
  {
   "cell_type": "code",
   "execution_count": 3,
   "id": "fc1acb6e-3d66-409a-acca-ddae4ac6fa96",
   "metadata": {},
   "outputs": [],
   "source": [
    "import pickle\n",
    "import esda\n",
    "import pandas as pd\n",
    "import geopandas as gpd\n",
    "from geopandas import GeoDataFrame\n",
    "import libpysal as lps\n",
    "import numpy as np\n",
    "import matplotlib.pyplot as plt\n",
    "from shapely.geometry import Point"
   ]
  },
  {
   "cell_type": "code",
   "execution_count": 4,
   "id": "3ab0e515-557d-4524-af0b-08206a4f5baa",
   "metadata": {},
   "outputs": [],
   "source": [
    "path = \"/data/kanferg/Sptial_Omics/playGround/Data/Xenium/output_temp\"\n",
    "pathout = \"/data/kanferg/Sptial_Omics/SpatialOmicsToolkit/out_1\"\n",
    "FilePrefix = \"_072824\" "
   ]
  },
  {
   "cell_type": "code",
   "execution_count": 5,
   "id": "dc7b049f-4da4-448d-8d3d-b68e7f1255e0",
   "metadata": {},
   "outputs": [
    {
     "data": {
      "text/plain": [
       "AnnData object with n_obs × n_vars = 35389 × 1500\n",
       "    obs: 'imagecol', 'imagerow', 'n_cells', 'cluster'\n",
       "    obsm: '-log10(p_adjs)', 'lr_scores', 'lr_sig_scores', 'p_adjs', 'p_vals', 'spatial', 'spot_neigh_bcs', 'spot_neighbours'"
      ]
     },
     "execution_count": 5,
     "metadata": {},
     "output_type": "execute_result"
    }
   ],
   "source": [
    "grid = sc.read_h5ad(os.path.join(pathout, \"grid_save.h5ad\"))\n",
    "grid"
   ]
  },
  {
   "cell_type": "code",
   "execution_count": 6,
   "id": "d310663b-838e-4a10-9792-f0d40dab15ad",
   "metadata": {},
   "outputs": [],
   "source": [
    "from scipy.sparse import csr_matrix\n",
    "grid.X = csr_matrix(grid.X)"
   ]
  },
  {
   "cell_type": "code",
   "execution_count": 8,
   "id": "49aeab7c-65eb-4d0a-b933-246376a835f0",
   "metadata": {},
   "outputs": [],
   "source": [
    "import os\n",
    "import pickle\n",
    "\n",
    "file_path = os.path.join(pathout, \"grid_uns_mtracies.pkl\")\n",
    "\n",
    "if os.path.getsize(file_path) > 0:\n",
    "    with open(file_path, 'rb') as buff:\n",
    "        grid_uns_mtracies = pickle.load(buff)\n",
    "else:\n",
    "    print(\"File is empty. Cannot load data.\")\n",
    "    grid_uns_mtracies = None"
   ]
  },
  {
   "cell_type": "code",
   "execution_count": 9,
   "id": "8444b9ed-bbc2-4bb8-9e75-4b9c530314ac",
   "metadata": {},
   "outputs": [
    {
     "data": {
      "text/plain": [
       "dict_keys(['grid_counts', 'grid_xedges', 'grid_yedges'])"
      ]
     },
     "execution_count": 9,
     "metadata": {},
     "output_type": "execute_result"
    }
   ],
   "source": [
    "grid_uns_mtracies.keys()"
   ]
  },
  {
   "cell_type": "code",
   "execution_count": 10,
   "id": "5919723e-eda3-4e84-ac84-8a3371d7b84f",
   "metadata": {},
   "outputs": [],
   "source": [
    "grid.uns = {}\n",
    "grid.uns['cluster'] = pd.read_csv(os.path.join(pathout, \"cluster.csv\"))\n",
    "grid.uns['grid_counts'] = grid_uns_mtracies['grid_counts']\n",
    "grid.uns['grid_xedges'] = grid_uns_mtracies['grid_xedges']\n",
    "grid.uns['grid_yedges'] = grid_uns_mtracies['grid_yedges']\n",
    "grid.uns['lrfeatures'] = pd.read_csv(os.path.join(pathout, \"lrfeatures.csv\"))\n",
    "grid.uns['lr_summary'] = pd.read_csv(os.path.join(pathout, \"lr_summary.csv\"))"
   ]
  },
  {
   "cell_type": "code",
   "execution_count": 11,
   "id": "8f55b5f7-85fb-48a0-bb80-c539fab9216c",
   "metadata": {},
   "outputs": [
    {
     "data": {
      "text/plain": [
       "AnnData object with n_obs × n_vars = 35389 × 1500\n",
       "    obs: 'imagecol', 'imagerow', 'n_cells', 'cluster'\n",
       "    uns: 'cluster', 'grid_counts', 'grid_xedges', 'grid_yedges', 'lrfeatures', 'lr_summary'\n",
       "    obsm: '-log10(p_adjs)', 'lr_scores', 'lr_sig_scores', 'p_adjs', 'p_vals', 'spatial', 'spot_neigh_bcs', 'spot_neighbours'"
      ]
     },
     "execution_count": 11,
     "metadata": {},
     "output_type": "execute_result"
    }
   ],
   "source": [
    "grid"
   ]
  },
  {
   "cell_type": "code",
   "execution_count": 26,
   "id": "21bff93d-8a9f-45e6-90cf-e63da7c42870",
   "metadata": {
    "collapsed": true,
    "jupyter": {
     "outputs_hidden": true
    }
   },
   "outputs": [
    {
     "data": {
      "text/html": [
       "<div>\n",
       "<style scoped>\n",
       "    .dataframe tbody tr th:only-of-type {\n",
       "        vertical-align: middle;\n",
       "    }\n",
       "\n",
       "    .dataframe tbody tr th {\n",
       "        vertical-align: top;\n",
       "    }\n",
       "\n",
       "    .dataframe thead th {\n",
       "        text-align: right;\n",
       "    }\n",
       "</style>\n",
       "<table border=\"1\" class=\"dataframe\">\n",
       "  <thead>\n",
       "    <tr style=\"text-align: right;\">\n",
       "      <th></th>\n",
       "      <th>0</th>\n",
       "      <th>1</th>\n",
       "      <th>10</th>\n",
       "      <th>11</th>\n",
       "      <th>12</th>\n",
       "      <th>13</th>\n",
       "      <th>14</th>\n",
       "      <th>2</th>\n",
       "      <th>3</th>\n",
       "      <th>4</th>\n",
       "      <th>5</th>\n",
       "      <th>6</th>\n",
       "      <th>7</th>\n",
       "      <th>8</th>\n",
       "      <th>9</th>\n",
       "    </tr>\n",
       "  </thead>\n",
       "  <tbody>\n",
       "    <tr>\n",
       "      <th>grid_112</th>\n",
       "      <td>0.0</td>\n",
       "      <td>0.0</td>\n",
       "      <td>0.000000</td>\n",
       "      <td>0.000000</td>\n",
       "      <td>0.0</td>\n",
       "      <td>0.0</td>\n",
       "      <td>0.000000</td>\n",
       "      <td>0.0</td>\n",
       "      <td>0.0</td>\n",
       "      <td>0.0</td>\n",
       "      <td>0.0</td>\n",
       "      <td>0.0</td>\n",
       "      <td>0.0</td>\n",
       "      <td>0.0</td>\n",
       "      <td>1.0</td>\n",
       "    </tr>\n",
       "    <tr>\n",
       "      <th>grid_114</th>\n",
       "      <td>0.0</td>\n",
       "      <td>0.0</td>\n",
       "      <td>0.000000</td>\n",
       "      <td>0.500000</td>\n",
       "      <td>0.0</td>\n",
       "      <td>0.0</td>\n",
       "      <td>0.000000</td>\n",
       "      <td>0.0</td>\n",
       "      <td>0.0</td>\n",
       "      <td>0.0</td>\n",
       "      <td>0.5</td>\n",
       "      <td>0.0</td>\n",
       "      <td>0.0</td>\n",
       "      <td>0.0</td>\n",
       "      <td>0.0</td>\n",
       "    </tr>\n",
       "    <tr>\n",
       "      <th>grid_115</th>\n",
       "      <td>0.0</td>\n",
       "      <td>0.0</td>\n",
       "      <td>0.000000</td>\n",
       "      <td>1.000000</td>\n",
       "      <td>0.0</td>\n",
       "      <td>0.0</td>\n",
       "      <td>0.000000</td>\n",
       "      <td>0.0</td>\n",
       "      <td>0.0</td>\n",
       "      <td>0.0</td>\n",
       "      <td>0.0</td>\n",
       "      <td>0.0</td>\n",
       "      <td>0.0</td>\n",
       "      <td>0.0</td>\n",
       "      <td>0.0</td>\n",
       "    </tr>\n",
       "    <tr>\n",
       "      <th>grid_116</th>\n",
       "      <td>0.0</td>\n",
       "      <td>0.0</td>\n",
       "      <td>0.333333</td>\n",
       "      <td>0.333333</td>\n",
       "      <td>0.0</td>\n",
       "      <td>0.0</td>\n",
       "      <td>0.333333</td>\n",
       "      <td>0.0</td>\n",
       "      <td>0.0</td>\n",
       "      <td>0.0</td>\n",
       "      <td>0.0</td>\n",
       "      <td>0.0</td>\n",
       "      <td>0.0</td>\n",
       "      <td>0.0</td>\n",
       "      <td>0.0</td>\n",
       "    </tr>\n",
       "    <tr>\n",
       "      <th>grid_122</th>\n",
       "      <td>0.0</td>\n",
       "      <td>0.0</td>\n",
       "      <td>0.000000</td>\n",
       "      <td>0.000000</td>\n",
       "      <td>0.0</td>\n",
       "      <td>0.0</td>\n",
       "      <td>0.000000</td>\n",
       "      <td>0.0</td>\n",
       "      <td>0.0</td>\n",
       "      <td>0.0</td>\n",
       "      <td>0.0</td>\n",
       "      <td>1.0</td>\n",
       "      <td>0.0</td>\n",
       "      <td>0.0</td>\n",
       "      <td>0.0</td>\n",
       "    </tr>\n",
       "    <tr>\n",
       "      <th>...</th>\n",
       "      <td>...</td>\n",
       "      <td>...</td>\n",
       "      <td>...</td>\n",
       "      <td>...</td>\n",
       "      <td>...</td>\n",
       "      <td>...</td>\n",
       "      <td>...</td>\n",
       "      <td>...</td>\n",
       "      <td>...</td>\n",
       "      <td>...</td>\n",
       "      <td>...</td>\n",
       "      <td>...</td>\n",
       "      <td>...</td>\n",
       "      <td>...</td>\n",
       "      <td>...</td>\n",
       "    </tr>\n",
       "    <tr>\n",
       "      <th>grid_62417</th>\n",
       "      <td>0.0</td>\n",
       "      <td>0.0</td>\n",
       "      <td>0.000000</td>\n",
       "      <td>0.000000</td>\n",
       "      <td>0.0</td>\n",
       "      <td>0.0</td>\n",
       "      <td>0.000000</td>\n",
       "      <td>0.0</td>\n",
       "      <td>0.0</td>\n",
       "      <td>0.0</td>\n",
       "      <td>0.0</td>\n",
       "      <td>0.0</td>\n",
       "      <td>1.0</td>\n",
       "      <td>0.0</td>\n",
       "      <td>0.0</td>\n",
       "    </tr>\n",
       "    <tr>\n",
       "      <th>grid_62420</th>\n",
       "      <td>0.0</td>\n",
       "      <td>0.0</td>\n",
       "      <td>0.000000</td>\n",
       "      <td>0.000000</td>\n",
       "      <td>0.0</td>\n",
       "      <td>0.0</td>\n",
       "      <td>0.000000</td>\n",
       "      <td>0.0</td>\n",
       "      <td>0.0</td>\n",
       "      <td>0.0</td>\n",
       "      <td>0.5</td>\n",
       "      <td>0.0</td>\n",
       "      <td>0.5</td>\n",
       "      <td>0.0</td>\n",
       "      <td>0.0</td>\n",
       "    </tr>\n",
       "    <tr>\n",
       "      <th>grid_62422</th>\n",
       "      <td>0.0</td>\n",
       "      <td>0.0</td>\n",
       "      <td>0.000000</td>\n",
       "      <td>0.000000</td>\n",
       "      <td>0.0</td>\n",
       "      <td>0.0</td>\n",
       "      <td>0.000000</td>\n",
       "      <td>0.0</td>\n",
       "      <td>0.0</td>\n",
       "      <td>0.0</td>\n",
       "      <td>1.0</td>\n",
       "      <td>0.0</td>\n",
       "      <td>0.0</td>\n",
       "      <td>0.0</td>\n",
       "      <td>0.0</td>\n",
       "    </tr>\n",
       "    <tr>\n",
       "      <th>grid_62423</th>\n",
       "      <td>0.0</td>\n",
       "      <td>0.0</td>\n",
       "      <td>0.000000</td>\n",
       "      <td>0.000000</td>\n",
       "      <td>0.0</td>\n",
       "      <td>0.0</td>\n",
       "      <td>0.000000</td>\n",
       "      <td>0.0</td>\n",
       "      <td>0.0</td>\n",
       "      <td>0.0</td>\n",
       "      <td>1.0</td>\n",
       "      <td>0.0</td>\n",
       "      <td>0.0</td>\n",
       "      <td>0.0</td>\n",
       "      <td>0.0</td>\n",
       "    </tr>\n",
       "    <tr>\n",
       "      <th>grid_62444</th>\n",
       "      <td>0.0</td>\n",
       "      <td>0.0</td>\n",
       "      <td>0.000000</td>\n",
       "      <td>0.000000</td>\n",
       "      <td>0.0</td>\n",
       "      <td>0.0</td>\n",
       "      <td>0.000000</td>\n",
       "      <td>0.0</td>\n",
       "      <td>0.0</td>\n",
       "      <td>0.0</td>\n",
       "      <td>1.0</td>\n",
       "      <td>0.0</td>\n",
       "      <td>0.0</td>\n",
       "      <td>0.0</td>\n",
       "      <td>0.0</td>\n",
       "    </tr>\n",
       "  </tbody>\n",
       "</table>\n",
       "<p>35389 rows × 15 columns</p>\n",
       "</div>"
      ],
      "text/plain": [
       "              0    1        10        11   12   13        14    2    3    4  \\\n",
       "grid_112    0.0  0.0  0.000000  0.000000  0.0  0.0  0.000000  0.0  0.0  0.0   \n",
       "grid_114    0.0  0.0  0.000000  0.500000  0.0  0.0  0.000000  0.0  0.0  0.0   \n",
       "grid_115    0.0  0.0  0.000000  1.000000  0.0  0.0  0.000000  0.0  0.0  0.0   \n",
       "grid_116    0.0  0.0  0.333333  0.333333  0.0  0.0  0.333333  0.0  0.0  0.0   \n",
       "grid_122    0.0  0.0  0.000000  0.000000  0.0  0.0  0.000000  0.0  0.0  0.0   \n",
       "...         ...  ...       ...       ...  ...  ...       ...  ...  ...  ...   \n",
       "grid_62417  0.0  0.0  0.000000  0.000000  0.0  0.0  0.000000  0.0  0.0  0.0   \n",
       "grid_62420  0.0  0.0  0.000000  0.000000  0.0  0.0  0.000000  0.0  0.0  0.0   \n",
       "grid_62422  0.0  0.0  0.000000  0.000000  0.0  0.0  0.000000  0.0  0.0  0.0   \n",
       "grid_62423  0.0  0.0  0.000000  0.000000  0.0  0.0  0.000000  0.0  0.0  0.0   \n",
       "grid_62444  0.0  0.0  0.000000  0.000000  0.0  0.0  0.000000  0.0  0.0  0.0   \n",
       "\n",
       "              5    6    7    8    9  \n",
       "grid_112    0.0  0.0  0.0  0.0  1.0  \n",
       "grid_114    0.5  0.0  0.0  0.0  0.0  \n",
       "grid_115    0.0  0.0  0.0  0.0  0.0  \n",
       "grid_116    0.0  0.0  0.0  0.0  0.0  \n",
       "grid_122    0.0  1.0  0.0  0.0  0.0  \n",
       "...         ...  ...  ...  ...  ...  \n",
       "grid_62417  0.0  0.0  1.0  0.0  0.0  \n",
       "grid_62420  0.5  0.0  0.5  0.0  0.0  \n",
       "grid_62422  1.0  0.0  0.0  0.0  0.0  \n",
       "grid_62423  1.0  0.0  0.0  0.0  0.0  \n",
       "grid_62444  1.0  0.0  0.0  0.0  0.0  \n",
       "\n",
       "[35389 rows x 15 columns]"
      ]
     },
     "execution_count": 26,
     "metadata": {},
     "output_type": "execute_result"
    }
   ],
   "source": [
    "grid.uns['cluster']\n",
    "cell_id_list = grid.uns['cluster'].iloc[:,0].tolist()\n",
    "grid.uns['cluster'].index = cell_id_list\n",
    "grid.uns['cluster'] = grid.uns['cluster'].iloc[:,1:]"
   ]
  },
  {
   "cell_type": "code",
   "execution_count": 77,
   "id": "d8e53c5c-4c21-4d26-b258-41ce215021d4",
   "metadata": {},
   "outputs": [
    {
     "data": {
      "text/plain": [
       "array([ 9, 11, 11, ...,  5,  5,  5])"
      ]
     },
     "execution_count": 77,
     "metadata": {},
     "output_type": "execute_result"
    }
   ],
   "source": [
    "arr = grid.obs['cluster'].to_numpy().astype(int)\n",
    "arr"
   ]
  },
  {
   "cell_type": "code",
   "execution_count": 78,
   "id": "c12b2c29-117f-4110-8a33-45bc27af0059",
   "metadata": {},
   "outputs": [
    {
     "data": {
      "text/plain": [
       "array([    0,   179,   192, ..., 35154, 35193, 35337])"
      ]
     },
     "execution_count": 78,
     "metadata": {},
     "output_type": "execute_result"
    }
   ],
   "source": [
    "np.where(arr == 9)[0]"
   ]
  },
  {
   "cell_type": "code",
   "execution_count": 79,
   "id": "9f3cebd8-b88b-4b6c-b674-996122b6444d",
   "metadata": {},
   "outputs": [],
   "source": [
    "w_mat = np.zeros((len(arr),len(arr)),float)"
   ]
  },
  {
   "cell_type": "code",
   "execution_count": 80,
   "id": "d6c9d8b5-fd36-4ed9-94e2-aad31373d331",
   "metadata": {},
   "outputs": [],
   "source": [
    "for i,a in enumerate(arr):\n",
    "    w_mat[i,np.where(arr == a)[0]] = 1"
   ]
  },
  {
   "cell_type": "code",
   "execution_count": 46,
   "id": "42e5da4c-e915-4821-985f-8e55e2f207ee",
   "metadata": {},
   "outputs": [
    {
     "data": {
      "text/plain": [
       "<matplotlib.image.AxesImage at 0x1553d86fadc0>"
      ]
     },
     "execution_count": 46,
     "metadata": {},
     "output_type": "execute_result"
    },
    {
     "data": {
      "image/png": "[encoded data removed]",
      "text/plain": [
       "<Figure size 640x480 with 1 Axes>"
      ]
     },
     "metadata": {},
     "output_type": "display_data"
    }
   ],
   "source": [
    "plt.spy(w_mat)"
   ]
  },
  {
   "cell_type": "markdown",
   "id": "1689ab3d-1722-4f2a-ba87-37cc9b500e60",
   "metadata": {},
   "source": [
    "build a wight object to the libpysal librarey by genreating a dictonery like in the example. \n",
    "https://pysal.org/libpysal/generated/libpysal.weights.W.html\n",
    "\n",
    "```python\n",
    "from libpysal.weights import W\n",
    "neighbors = {0: [3, 1], 1: [0, 4, 2], 2: [1, 5], 3: [0, 6, 4], 4: [1, 3, 7, 5], 5: [2, 4, 8], 6: [3, 7], 7: [4, 6, 8], 8: [5, 7]}\n",
    "weights = {0: [1, 1], 1: [1, 1, 1], 2: [1, 1], 3: [1, 1, 1], 4: [1, 1, 1, 1], 5: [1, 1, 1], 6: [1, 1], 7: [1, 1, 1], 8: [1, 1]}\n",
    "w = W(neighbors, weights)\n",
    "```"
   ]
  },
  {
   "cell_type": "code",
   "execution_count": 107,
   "id": "369ab50f-5f9f-4230-9d6a-84488c47efc5",
   "metadata": {},
   "outputs": [],
   "source": [
    "arr = grid.obs['cluster'].to_numpy().astype(int)"
   ]
  },
  {
   "cell_type": "code",
   "execution_count": 108,
   "id": "263e3c14-b8f0-4820-813f-c705319e890c",
   "metadata": {},
   "outputs": [],
   "source": [
    "neighbors = {}\n",
    "weights = {}\n",
    "for i,a in enumerate(arr):\n",
    "    neighbors[i] = np.where(arr == a)[0].tolist()\n",
    "    if i in neighbors[i]:\n",
    "        neighbors[i].remove(i)\n",
    "    weights[i] = [1] * len(neighbors[i])\n"
   ]
  },
  {
   "cell_type": "code",
   "execution_count": 104,
   "id": "15e3bb2a-2ed1-49ca-92a9-ac50731c347b",
   "metadata": {},
   "outputs": [
    {
     "name": "stderr",
     "output_type": "stream",
     "text": [
      "/gpfs/gsfs10/users/kanferg/conda/envs/squidpy-voyagerpy/lib/python3.8/site-packages/libpysal/weights/weights.py:224: UserWarning: The weights matrix is not fully connected: \n",
      " There are 13 disconnected components.\n",
      " There is 1 island with id: 261.\n",
      "  warnings.warn(message)\n"
     ]
    }
   ],
   "source": [
    "from libpysal.weights import W\n",
    "w = W(neighbors, weights)"
   ]
  },
  {
   "cell_type": "markdown",
   "id": "233120c1-a8e9-48ee-befc-dbaed64fc3ae",
   "metadata": {},
   "source": [
    "<center>Attribute Similarity\n",
    "\n",
    "So the spatial weight between neighborhoods and indicates if the two are neighbors (i.e., geographically similar). What we also need is a measure of attribute similarity to pair up with this concept of spatial similarity. The spatial lag is a derived variable that accomplishes this for us. For neighborhood \n",
    " the spatial lag is defined as:\n",
    "\n",
    "$\n",
    "ylog_i = \\sum_j(w_i,jy_j)\n",
    "$\n",
    " "
   ]
  },
  {
   "cell_type": "markdown",
   "id": "e202a8f4-e7f8-419d-a732-d2e55c60ed9c",
   "metadata": {},
   "source": [
    "Lets try to use the LR results from the stLEarn anlysis"
   ]
  },
  {
   "cell_type": "code",
   "execution_count": null,
   "id": "fe16f523-770c-4593-8ddd-228a0294f1df",
   "metadata": {},
   "outputs": [],
   "source": []
  },
  {
   "cell_type": "markdown",
   "id": "5130d6a9-2d13-436f-aa75-f1a3a005a6c0",
   "metadata": {},
   "source": [
    "<center> Local Autocorrelation: Hot Spots, Cold Spots, and Spatial Outliers"
   ]
  },
  {
   "cell_type": "markdown",
   "id": "5236f16e-da4e-4f2a-b7e1-e5c738f9f90a",
   "metadata": {},
   "source": []
  },
  {
   "cell_type": "code",
   "execution_count": null,
   "id": "65e59a9c-aaa9-4e22-af2a-da01f834e06b",
   "metadata": {},
   "outputs": [],
   "source": [
    "np.random.seed(12345)\n",
    "import esda"
   ]
  },
  {
   "cell_type": "code",
   "execution_count": null,
   "id": "bc6d9b17-810c-479b-8c01-b791bb19bf60",
   "metadata": {},
   "outputs": [],
   "source": []
  },
  {
   "cell_type": "code",
   "execution_count": null,
   "id": "7efc4f19-8e00-48c4-be07-e3afb50f8f97",
   "metadata": {},
   "outputs": [],
   "source": []
  },
  {
   "cell_type": "code",
   "execution_count": null,
   "id": "ea6b940c-bebd-4f79-86bd-1ef4777000d0",
   "metadata": {},
   "outputs": [],
   "source": []
  }
 ],
 "metadata": {
  "kernelspec": {
   "display_name": "Python 3 (ipykernel)",
   "language": "python",
   "name": "python3"
  },
  "language_info": {
   "codemirror_mode": {
    "name": "ipython",
    "version": 3
   },
   "file_extension": ".py",
   "mimetype": "text/x-python",
   "name": "python",
   "nbconvert_exporter": "python",
   "pygments_lexer": "ipython3",
   "version": "3.8.19"
  }
 },
 "nbformat": 4,
 "nbformat_minor": 5
}
