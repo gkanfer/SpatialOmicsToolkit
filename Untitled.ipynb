{
 "cells": [
  {
   "cell_type": "markdown",
   "id": "601bed1f",
   "metadata": {},
   "source": [
    "<center>Applying STAligner for Breast-Cancer data set from 10X genomics"
   ]
  },
  {
   "cell_type": "markdown",
   "id": "ea7c5fb5",
   "metadata": {},
   "source": [
    "First we will load the BC data from the ```scvi_env``` since ```STAligner_env``` is not able to read the file most likely due to incompatible scanpy version."
   ]
  },
  {
   "cell_type": "code",
   "execution_count": 1,
   "id": "bc2fb1c3",
   "metadata": {},
   "outputs": [],
   "source": [
    "import warnings\n",
    "warnings.simplefilter(\"ignore\", FutureWarning)\n",
    "warnings.simplefilter(\"ignore\", UserWarning)\n",
    "warnings.simplefilter(\"ignore\", RuntimeWarning)"
   ]
  },
  {
   "cell_type": "code",
   "execution_count": 6,
   "id": "d38e1054",
   "metadata": {},
   "outputs": [],
   "source": [
    "import scanpy as sc\n",
    "import os\n",
    "import pandas as pd\n",
    "import numpy as np\n",
    "import matplotlib.pyplot as plt\n",
    "import seaborn as sns\n",
    "import scvi\n",
    "\n",
    "pathout = \"/data/kanferg/Sptial_Omics/SpatialOmicsToolkit/out_4\"\n",
    "andata_58 = sc.read_h5ad(os.path.join(pathout, \"andata_BreastCancer_58age.h5ad\"))\n",
    "andata_58.obs['batch'] = 'yes'\n",
    "andata_76 = sc.read_h5ad(os.path.join(pathout, \"andata_BreastCancer_76age.h5ad\"))\n",
    "andata_76.obs['batch'] = 'no'"
   ]
  },
  {
   "cell_type": "code",
   "execution_count": 9,
   "id": "4220a6f0",
   "metadata": {},
   "outputs": [
    {
     "data": {
      "text/plain": [
       "AnnData object with n_obs × n_vars = 175095 × 2000\n",
       "    obs: 'in_tissue', 'array_row', 'array_col', 'n_genes_by_counts', 'total_counts', 'log1p_n_genes_by_counts', 'log1p_total_counts', 'total_counts_MT', 'pct_counts_MT', 'log1p_total_counts_MT', 'cluster', 'batch'\n",
       "    var: 'gene_ids', 'feature_types', 'genome', 'MT', 'n_cells_by_counts', 'total_counts', 'mean_counts', 'pct_dropout_by_counts', 'log1p_total_counts', 'log1p_mean_counts', 'highly_variable', 'highly_variable_rank', 'means', 'variances', 'variances_norm', 'mean', 'std'\n",
       "    obsm: 'X_pca', 'spatial'\n",
       "    layers: 'counts', 'log'"
      ]
     },
     "execution_count": 9,
     "metadata": {},
     "output_type": "execute_result"
    }
   ],
   "source": [
    "andata_76"
   ]
  },
  {
   "cell_type": "code",
   "execution_count": 12,
   "id": "9fea52a7",
   "metadata": {},
   "outputs": [],
   "source": [
    "del andata_76.layers\n",
    "andata_76.write_h5ad(os.path.join(pathout, \"andata_BreastCancer_76age_STAligner_input.h5ad\"))\n",
    "del andata_58.layers\n",
    "andata_58.write_h5ad(os.path.join(pathout, \"andata_BreastCancer_58age_STAligner_input.h5ad\"))"
   ]
  },
  {
   "cell_type": "code",
   "execution_count": null,
   "id": "2ed03d4c",
   "metadata": {},
   "outputs": [],
   "source": []
  },
  {
   "cell_type": "code",
   "execution_count": 1,
   "id": "c8095b42",
   "metadata": {},
   "outputs": [
    {
     "name": "stderr",
     "output_type": "stream",
     "text": [
      "<frozen importlib._bootstrap>:219: RuntimeWarning: scipy._lib.messagestream.MessageStream size changed, may indicate binary incompatibility. Expected 56 from C header, got 64 from PyObject\n"
     ]
    },
    {
     "name": "stdout",
     "output_type": "stream",
     "text": [
      "3\n"
     ]
    }
   ],
   "source": [
    "import STAligner\n",
    "import os\n",
    "\n",
    "import anndata as ad\n",
    "import scanpy as sc\n",
    "import pandas as pd\n",
    "import numpy as np\n",
    "import scipy.sparse as sp\n",
    "import scipy.linalg\n",
    "\n",
    "import scipy\n",
    "import networkx\n",
    "\n",
    "import torch\n",
    "print(torch.cuda.device_count())"
   ]
  },
  {
   "cell_type": "code",
   "execution_count": 2,
   "id": "ca76d538",
   "metadata": {},
   "outputs": [],
   "source": [
    "used_device = torch.device('cuda')"
   ]
  },
  {
   "cell_type": "code",
   "execution_count": 3,
   "id": "26dd0d0b",
   "metadata": {},
   "outputs": [],
   "source": [
    "pathout = \"/data/kanferg/Sptial_Omics/SpatialOmicsToolkit/out_4\"\n",
    "path_age_58 = \"/data/kanferg/Sptial_Omics/playGround/Data/Breast_Cancer/age_58/binned_outputs/square_016um\"\n",
    "path_age_76 = \"/data/kanferg/Sptial_Omics/playGround/Data/Breast_Cancer/age_76/binned_outputs/square_016um\"\n",
    "path_list = [path_age_58,path_age_76]"
   ]
  },
  {
   "cell_type": "code",
   "execution_count": 7,
   "id": "e97bdd65",
   "metadata": {},
   "outputs": [
    {
     "name": "stderr",
     "output_type": "stream",
     "text": [
      "Variable names are not unique. To make them unique, call `.var_names_make_unique`.\n",
      "Variable names are not unique. To make them unique, call `.var_names_make_unique`.\n"
     ]
    }
   ],
   "source": [
    "def read_data(path_data):\n",
    "    def parquet_to_csv(path):\n",
    "        '''\n",
    "        Converts a Parquet file to a CSV file if the CSV file does not already exist.\n",
    "        '''\n",
    "        file_path = os.path.join(path,'spatial/tissue_positions_list.csv')\n",
    "        if not os.path.exists(file_path):\n",
    "            df = pd.read_parquet(os.path.join(path,'spatial/tissue_positions.parquet'))\n",
    "            # Write to a CSV file\n",
    "            df.to_csv(os.path.join(path,'spatial/tissue_positions_list.csv'), index=False)\n",
    "        return\n",
    "    parquet_to_csv(path_data)\n",
    "    andata = sc.read_visium(path=path_data,load_images=False)\n",
    "    positions = pd.read_csv(os.path.join(path_data,'spatial/tissue_positions_list.csv'),index_col=0,)\n",
    "    positions.columns = [\n",
    "                \"in_tissue\",\n",
    "                \"array_row\",\n",
    "                \"array_col\",\n",
    "                \"pxl_col_in_fullres\",\n",
    "                \"pxl_row_in_fullres\",\n",
    "            ]\n",
    "    andata.obs = andata.obs.join(positions, how=\"left\")\n",
    "    andata.obsm[\"spatial\"] = andata.obs[\n",
    "                [\"pxl_row_in_fullres\", \"pxl_col_in_fullres\"]\n",
    "            ].to_numpy()\n",
    "    andata.obs.drop(\n",
    "        columns=[\"pxl_row_in_fullres\", \"pxl_col_in_fullres\"],\n",
    "        inplace=True,\n",
    "    )\n",
    "    andata.obsm['spatial'] = np.array(andata.obsm['spatial'], dtype=np.float64)\n",
    "    andata.var_names_make_unique()\n",
    "    return andata\n",
    "adata = read_data(path_age_58)  "
   ]
  },
  {
   "cell_type": "code",
   "execution_count": 8,
   "id": "cbf0e148",
   "metadata": {},
   "outputs": [
    {
     "name": "stdout",
     "output_type": "stream",
     "text": [
      "------Calculating spatial graph...\n",
      "The graph contains 0 edges, 119082 cells.\n",
      "0.0000 neighbors per cell on average.\n"
     ]
    }
   ],
   "source": [
    "STAligner.Cal_Spatial_Net(adata, rad_cutoff=1.3)"
   ]
  },
  {
   "cell_type": "code",
   "execution_count": 9,
   "id": "4374891a",
   "metadata": {},
   "outputs": [
    {
     "data": {
      "text/plain": [
       "(119082, 119082)"
      ]
     },
     "execution_count": 9,
     "metadata": {},
     "output_type": "execute_result"
    }
   ],
   "source": [
    "adata.uns['adj'].shape"
   ]
  },
  {
   "cell_type": "code",
   "execution_count": 15,
   "id": "cfedb401",
   "metadata": {},
   "outputs": [
    {
     "data": {
      "text/plain": [
       "View of AnnData object with n_obs × n_vars = 119082 × 300\n",
       "    obs: 'in_tissue', 'array_row', 'array_col'\n",
       "    var: 'gene_ids', 'feature_types', 'genome', 'highly_variable', 'means', 'dispersions', 'dispersions_norm'\n",
       "    uns: 'spatial', 'Spatial_Net', 'adj', 'hvg'\n",
       "    obsm: 'spatial'"
      ]
     },
     "execution_count": 15,
     "metadata": {},
     "output_type": "execute_result"
    }
   ],
   "source": [
    "sc.pp.highly_variable_genes(adata,flavor = 'cell_ranger',n_top_genes = 300)\n",
    "adata = adata[:, adata.var['highly_variable']]\n",
    "adata"
   ]
  },
  {
   "cell_type": "code",
   "execution_count": 35,
   "id": "0f5d95b0",
   "metadata": {},
   "outputs": [
    {
     "ename": "ValueError",
     "evalue": "could not broadcast input array from shape (3,3) into shape (0,3)",
     "output_type": "error",
     "traceback": [
      "\u001b[0;31m---------------------------------------------------------------------------\u001b[0m",
      "\u001b[0;31mValueError\u001b[0m                                Traceback (most recent call last)",
      "Cell \u001b[0;32mIn[35], line 14\u001b[0m\n\u001b[1;32m     12\u001b[0m \u001b[38;5;28;01mfor\u001b[39;00m i \u001b[38;5;129;01min\u001b[39;00m \u001b[38;5;28mrange\u001b[39m(\u001b[38;5;241m1\u001b[39m, N):\n\u001b[1;32m     13\u001b[0m     rsl_p, rsl \u001b[38;5;241m=\u001b[39m rsl, \u001b[38;5;28mslice\u001b[39m(i \u001b[38;5;241m*\u001b[39m N, (i \u001b[38;5;241m+\u001b[39m \u001b[38;5;241m1\u001b[39m) \u001b[38;5;241m*\u001b[39m N)\n\u001b[0;32m---> 14\u001b[0m     \u001b[43mX\u001b[49m\u001b[43m[\u001b[49m\u001b[43mrsl\u001b[49m\u001b[43m,\u001b[49m\u001b[43m \u001b[49m\u001b[43m:\u001b[49m\u001b[43mM\u001b[49m\u001b[43m]\u001b[49m \u001b[38;5;241m=\u001b[39m A \u001b[38;5;241m@\u001b[39m X[rsl_p, :M]\n\u001b[1;32m     15\u001b[0m     X[rsl, M : (i \u001b[38;5;241m+\u001b[39m \u001b[38;5;241m1\u001b[39m) \u001b[38;5;241m*\u001b[39m M] \u001b[38;5;241m=\u001b[39m X[rsl_p, : i \u001b[38;5;241m*\u001b[39m M]\n",
      "\u001b[0;31mValueError\u001b[0m: could not broadcast input array from shape (3,3) into shape (0,3)"
     ]
    }
   ],
   "source": [
    "import numpy as np\n",
    "\n",
    "N = 3\n",
    "M = 3\n",
    "\n",
    "A = np.random.random((N, N))\n",
    "B = np.random.random((N, M))\n",
    "\n",
    "X = np.zeros((6, 6))\n",
    "rsl = slice(0, N)\n",
    "X[rsl, :M] = B\n",
    "for i in range(1, N):\n",
    "    rsl_p, rsl = rsl, slice(i * N, (i + 1) * N)\n",
    "    X[rsl, :M] = A @ X[rsl_p, :M]\n",
    "    X[rsl, M : (i + 1) * M] = X[rsl_p, : i * M]\n"
   ]
  },
  {
   "cell_type": "code",
   "execution_count": 40,
   "id": "7a799c3c",
   "metadata": {},
   "outputs": [
    {
     "data": {
      "text/plain": [
       "array([[0., 0., 0.],\n",
       "       [0., 0., 0.],\n",
       "       [0., 0., 0.]])"
      ]
     },
     "execution_count": 40,
     "metadata": {},
     "output_type": "execute_result"
    }
   ],
   "source": [
    "N = 3\n",
    "M = 3\n",
    "A = np.random.random((N, N))\n",
    "B = np.random.random((N, M))\n",
    "X = np.zeros((6, 6))\n",
    "rsl = slice(0, N)\n",
    "X[rsl, :M]"
   ]
  },
  {
   "cell_type": "code",
   "execution_count": 34,
   "id": "b1244829",
   "metadata": {},
   "outputs": [
    {
     "data": {
      "text/plain": [
       "array([[0.6, 0.3, 0.6, 0. , 0. , 0. ],\n",
       "       [0.7, 0.5, 0.5, 0. , 0. , 0. ],\n",
       "       [0.3, 1. , 0.9, 0. , 0. , 0. ],\n",
       "       [0.7, 0.6, 0.9, 0.6, 0.3, 0.6],\n",
       "       [0.8, 0.8, 1. , 0.7, 0.5, 0.5],\n",
       "       [1. , 0.6, 0.8, 0.3, 1. , 0.9]])"
      ]
     },
     "execution_count": 34,
     "metadata": {},
     "output_type": "execute_result"
    }
   ],
   "source": [
    "np.round(X,1)"
   ]
  },
  {
   "cell_type": "code",
   "execution_count": 36,
   "id": "2ce1e0c8",
   "metadata": {},
   "outputs": [
    {
     "data": {
      "text/plain": [
       "(array([[0.62505058, 0.17227822, 0.19042939],\n",
       "        [0.87745368, 0.95425636, 0.45237741],\n",
       "        [0.05946772, 0.25310164, 0.62260194]]),\n",
       " array([[0.42944643, 0.806345  , 0.96589686],\n",
       "        [0.79973375, 0.86163614, 0.36456597],\n",
       "        [0.4129038 , 0.39838383, 0.70629367]]))"
      ]
     },
     "execution_count": 36,
     "metadata": {},
     "output_type": "execute_result"
    }
   ],
   "source": [
    "A,B"
   ]
  },
  {
   "cell_type": "code",
   "execution_count": 24,
   "id": "b7e6e1d1",
   "metadata": {},
   "outputs": [
    {
     "data": {
      "text/plain": [
       "array([[0.5 , 0.12, 0.98, 0.  , 0.  , 0.  ],\n",
       "       [0.32, 0.11, 0.04, 0.  , 0.  , 0.  ],\n",
       "       [0.28, 0.87, 0.49, 0.  , 0.  , 0.  ],\n",
       "       [0.  , 0.  , 0.  , 0.45, 0.55, 0.8 ],\n",
       "       [0.  , 0.  , 0.  , 0.4 , 0.24, 0.65],\n",
       "       [0.  , 0.  , 0.  , 0.22, 0.96, 0.66]])"
      ]
     },
     "execution_count": 24,
     "metadata": {},
     "output_type": "execute_result"
    }
   ],
   "source": [
    "np.round(scipy.linalg.block_diag(A, B),2)"
   ]
  },
  {
   "cell_type": "code",
   "execution_count": 25,
   "id": "dc5ec3bc",
   "metadata": {},
   "outputs": [
    {
     "data": {
      "text/plain": [
       "array([0.31879382, 0.10713397, 0.04077272])"
      ]
     },
     "execution_count": 25,
     "metadata": {},
     "output_type": "execute_result"
    }
   ],
   "source": [
    "A[1]"
   ]
  },
  {
   "cell_type": "code",
   "execution_count": 46,
   "id": "198eb0cc",
   "metadata": {},
   "outputs": [],
   "source": [
    "from numpy.random import default_rng\n",
    "from anndata import AnnData\n",
    "rng = default_rng(42)\n",
    "counts = rng.integers(0, 15, size=(5, 4))  # feature matrix\n",
    "coordinates = rng.uniform(0, 4, size=(5, 2))  # spatial coordinates\n",
    "  # image\n",
    "adata_1 = AnnData(counts, obsm={\"spatial\": coordinates})\n",
    "\n",
    "counts = rng.integers(0, 15, size=(5, 4))  # feature matrix\n",
    "coordinates = rng.uniform(0, 4, size=(5, 2))  # spatial coordinates\n",
    "  # image\n",
    "adata_2 = AnnData(counts, obsm={\"spatial\": coordinates})"
   ]
  },
  {
   "cell_type": "code",
   "execution_count": 55,
   "id": "ff2a0fac",
   "metadata": {},
   "outputs": [],
   "source": [
    "from scipy.sparse import csr_matrix\n",
    "adata_1.X = csr_matrix(adata_1.X)\n",
    "adata_2.X = csr_matrix(adata_2.X)"
   ]
  },
  {
   "cell_type": "code",
   "execution_count": 48,
   "id": "2a000f43",
   "metadata": {},
   "outputs": [
    {
     "data": {
      "text/plain": [
       "(array([[ 1., 11.,  9.,  6.],\n",
       "        [ 6., 12.,  1., 10.],\n",
       "        [ 3.,  1.,  7., 14.],\n",
       "        [11., 11., 10., 11.],\n",
       "        [ 7.,  1., 12.,  6.]], dtype=float32),\n",
       " array([[ 2., 11., 10.,  5.],\n",
       "        [ 1., 14.,  6., 13.],\n",
       "        [10., 11., 11.,  2.],\n",
       "        [ 5.,  7.,  7.,  0.],\n",
       "        [ 8.,  2., 11., 10.]], dtype=float32))"
      ]
     },
     "execution_count": 48,
     "metadata": {},
     "output_type": "execute_result"
    }
   ],
   "source": [
    "adata_1.X, adata_2.X"
   ]
  },
  {
   "cell_type": "code",
   "execution_count": 60,
   "id": "df18e232",
   "metadata": {},
   "outputs": [
    {
     "name": "stdout",
     "output_type": "stream",
     "text": [
      "------Calculating spatial graph...\n",
      "The graph contains 6 edges, 5 cells.\n",
      "1.2000 neighbors per cell on average.\n",
      "------Calculating spatial graph...\n",
      "The graph contains 7 edges, 5 cells.\n",
      "1.4000 neighbors per cell on average.\n"
     ]
    },
    {
     "name": "stderr",
     "output_type": "stream",
     "text": [
      "/gpfs/gsfs10/users/kanferg/conda/envs/STAligner_env/lib/python3.8/site-packages/STAligner-1.0.0-py3.8.egg/STAligner/ST_utils.py:83: SettingWithCopyWarning: \n",
      "A value is trying to be set on a copy of a slice from a DataFrame.\n",
      "Try using .loc[row_indexer,col_indexer] = value instead\n",
      "\n",
      "See the caveats in the documentation: https://pandas.pydata.org/pandas-docs/stable/user_guide/indexing.html#returning-a-view-versus-a-copy\n",
      "  Spatial_Net['Cell1'] = Spatial_Net['Cell1'].map(id_cell_trans)\n",
      "/gpfs/gsfs10/users/kanferg/conda/envs/STAligner_env/lib/python3.8/site-packages/STAligner-1.0.0-py3.8.egg/STAligner/ST_utils.py:84: SettingWithCopyWarning: \n",
      "A value is trying to be set on a copy of a slice from a DataFrame.\n",
      "Try using .loc[row_indexer,col_indexer] = value instead\n",
      "\n",
      "See the caveats in the documentation: https://pandas.pydata.org/pandas-docs/stable/user_guide/indexing.html#returning-a-view-versus-a-copy\n",
      "  Spatial_Net['Cell2'] = Spatial_Net['Cell2'].map(id_cell_trans)\n",
      "/gpfs/gsfs10/users/kanferg/conda/envs/STAligner_env/lib/python3.8/site-packages/STAligner-1.0.0-py3.8.egg/STAligner/ST_utils.py:83: SettingWithCopyWarning: \n",
      "A value is trying to be set on a copy of a slice from a DataFrame.\n",
      "Try using .loc[row_indexer,col_indexer] = value instead\n",
      "\n",
      "See the caveats in the documentation: https://pandas.pydata.org/pandas-docs/stable/user_guide/indexing.html#returning-a-view-versus-a-copy\n",
      "  Spatial_Net['Cell1'] = Spatial_Net['Cell1'].map(id_cell_trans)\n",
      "/gpfs/gsfs10/users/kanferg/conda/envs/STAligner_env/lib/python3.8/site-packages/STAligner-1.0.0-py3.8.egg/STAligner/ST_utils.py:84: SettingWithCopyWarning: \n",
      "A value is trying to be set on a copy of a slice from a DataFrame.\n",
      "Try using .loc[row_indexer,col_indexer] = value instead\n",
      "\n",
      "See the caveats in the documentation: https://pandas.pydata.org/pandas-docs/stable/user_guide/indexing.html#returning-a-view-versus-a-copy\n",
      "  Spatial_Net['Cell2'] = Spatial_Net['Cell2'].map(id_cell_trans)\n"
     ]
    }
   ],
   "source": [
    "STAligner.Cal_Spatial_Net(adata_1, rad_cutoff=1.3,max_neigh=2)\n",
    "STAligner.Cal_Spatial_Net(adata_2, rad_cutoff=1.3,max_neigh=2)"
   ]
  },
  {
   "cell_type": "code",
   "execution_count": 63,
   "id": "ac513cdd",
   "metadata": {},
   "outputs": [
    {
     "data": {
      "text/plain": [
       "(matrix([[1., 1., 0., 0., 0.],\n",
       "         [1., 1., 0., 0., 1.],\n",
       "         [0., 0., 1., 1., 0.],\n",
       "         [0., 0., 1., 1., 0.],\n",
       "         [0., 1., 0., 0., 1.]]),\n",
       " matrix([[1., 0., 0., 0., 0.],\n",
       "         [0., 1., 1., 1., 0.],\n",
       "         [0., 1., 1., 0., 0.],\n",
       "         [0., 1., 0., 1., 1.],\n",
       "         [0., 1., 0., 1., 1.]]))"
      ]
     },
     "execution_count": 63,
     "metadata": {},
     "output_type": "execute_result"
    }
   ],
   "source": [
    "adata_1.uns['adj'].todense(),adata_2.uns['adj'].todense()"
   ]
  },
  {
   "cell_type": "code",
   "execution_count": null,
   "id": "67f67e74",
   "metadata": {},
   "outputs": [],
   "source": [
    "adj_list = [adata_1.uns['adj'],adata_2.uns['adj']]"
   ]
  },
  {
   "cell_type": "code",
   "execution_count": 77,
   "id": "f64d4c9f",
   "metadata": {},
   "outputs": [
    {
     "data": {
      "text/plain": [
       "matrix([[1., 1., 0., 0., 0., 0., 0., 0., 0., 0.],\n",
       "        [1., 1., 0., 0., 1., 0., 0., 0., 0., 0.],\n",
       "        [0., 0., 1., 1., 0., 0., 0., 0., 0., 0.],\n",
       "        [0., 0., 1., 1., 0., 0., 0., 0., 0., 0.],\n",
       "        [0., 1., 0., 0., 1., 0., 0., 0., 0., 0.],\n",
       "        [0., 0., 0., 0., 0., 1., 0., 0., 0., 0.],\n",
       "        [0., 0., 0., 0., 0., 0., 1., 1., 1., 0.],\n",
       "        [0., 0., 0., 0., 0., 0., 1., 1., 0., 0.],\n",
       "        [0., 0., 0., 0., 0., 0., 1., 0., 1., 1.],\n",
       "        [0., 0., 0., 0., 0., 0., 1., 0., 1., 1.]])"
      ]
     },
     "execution_count": 77,
     "metadata": {},
     "output_type": "execute_result"
    }
   ],
   "source": [
    "import numpy as np\n",
    "import scipy.sparse as sp\n",
    "\n",
    "def memory_efficient_block_diag(adj_list):\n",
    "    \"\"\"\n",
    "    Constructs a block diagonal matrix from a list of sparse adjacency matrices in a memory-efficient way.\n",
    "    \n",
    "    Parameters:\n",
    "        adj_list (list): A list of sparse matrices (scipy.sparse).\n",
    "\n",
    "    Returns:\n",
    "        scipy.sparse.csr_matrix: Block diagonal sparse matrix.\n",
    "    \"\"\"\n",
    "    # Calculate the total size of the final matrix\n",
    "    total_rows = sum(adj.shape[0] for adj in adj_list)\n",
    "    total_cols = sum(adj.shape[1] for adj in adj_list)\n",
    "\n",
    "    # Initialize sparse matrices for the data, row indices, and column indices\n",
    "    data = []\n",
    "    row_indices = []\n",
    "    col_indices = []\n",
    "\n",
    "    row_offset = 0\n",
    "    col_offset = 0\n",
    "\n",
    "    for adj in adj_list:\n",
    "        # Convert sparse matrix to COO format for efficient indexing\n",
    "        adj_coo = adj.tocoo()\n",
    "\n",
    "        # Append the data and adjusted indices\n",
    "        data.append(adj_coo.data)\n",
    "        row_indices.append(adj_coo.row + row_offset)\n",
    "        col_indices.append(adj_coo.col + col_offset)\n",
    "\n",
    "        # Update offsets for the next block\n",
    "        row_offset += adj.shape[0]\n",
    "        col_offset += adj.shape[1]\n",
    "\n",
    "    # Concatenate data and indices from all blocks\n",
    "    data = np.concatenate(data)\n",
    "    row_indices = np.concatenate(row_indices)\n",
    "    col_indices = np.concatenate(col_indices)\n",
    "\n",
    "    # Construct the final sparse matrix\n",
    "    block_diag_matrix = sp.csr_matrix((data, (row_indices, col_indices)), shape=(total_rows, total_cols))\n",
    "    return block_diag_matrix\n",
    "# Example usage\n",
    "adj_list = [adata_1.uns['adj'],adata_2.uns['adj']]\n",
    "memory_efficient_block_diag(adj_list).todense()\n",
    "\n"
   ]
  },
  {
   "cell_type": "code",
   "execution_count": 78,
   "id": "56aae13a",
   "metadata": {},
   "outputs": [
    {
     "data": {
      "text/plain": [
       "(matrix([[1., 1., 0., 0., 0.],\n",
       "         [1., 1., 0., 0., 1.],\n",
       "         [0., 0., 1., 1., 0.],\n",
       "         [0., 0., 1., 1., 0.],\n",
       "         [0., 1., 0., 0., 1.]]),\n",
       " matrix([[1., 0., 0., 0., 0.],\n",
       "         [0., 1., 1., 1., 0.],\n",
       "         [0., 1., 1., 0., 0.],\n",
       "         [0., 1., 0., 1., 1.],\n",
       "         [0., 1., 0., 1., 1.]]))"
      ]
     },
     "execution_count": 78,
     "metadata": {},
     "output_type": "execute_result"
    }
   ],
   "source": [
    "adata_1.uns['adj'].todense(),adata_2.uns['adj'].todense()"
   ]
  },
  {
   "cell_type": "code",
   "execution_count": 79,
   "id": "2dabe679",
   "metadata": {},
   "outputs": [
    {
     "data": {
      "text/plain": [
       "(array([0, 0, 1, 1, 1, 2, 2, 3, 3, 4, 4, 5, 6, 6, 6, 7, 7, 8, 8, 8, 9, 9,\n",
       "        9]),\n",
       " array([0, 1, 0, 1, 4, 2, 3, 2, 3, 1, 4, 5, 6, 7, 8, 6, 7, 6, 8, 9, 6, 8,\n",
       "        9]))"
      ]
     },
     "execution_count": 79,
     "metadata": {},
     "output_type": "execute_result"
    }
   ],
   "source": [
    "np.nonzero(memory_efficient_block_diag(adj_list).todense())"
   ]
  },
  {
   "cell_type": "code",
   "execution_count": 71,
   "id": "b4d067fd",
   "metadata": {},
   "outputs": [],
   "source": [
    "N = 10\n",
    "A = adata_1.uns['adj'].todense()\n",
    "B = adata_2.uns['adj'].todense()\n",
    "X = np.zeros((10, 10))\n",
    "rsl = slice(0, N)"
   ]
  },
  {
   "cell_type": "code",
   "execution_count": 72,
   "id": "b061042d",
   "metadata": {},
   "outputs": [
    {
     "data": {
      "text/plain": [
       "slice(0, 10, None)"
      ]
     },
     "execution_count": 72,
     "metadata": {},
     "output_type": "execute_result"
    }
   ],
   "source": [
    "slice(0, N)"
   ]
  },
  {
   "cell_type": "code",
   "execution_count": 74,
   "id": "d0d81d41",
   "metadata": {},
   "outputs": [
    {
     "ename": "ValueError",
     "evalue": "could not broadcast input array from shape (5,5) into shape (10,10)",
     "output_type": "error",
     "traceback": [
      "\u001b[0;31m---------------------------------------------------------------------------\u001b[0m",
      "\u001b[0;31mValueError\u001b[0m                                Traceback (most recent call last)",
      "Cell \u001b[0;32mIn[74], line 1\u001b[0m\n\u001b[0;32m----> 1\u001b[0m \u001b[43mX\u001b[49m\u001b[43m[\u001b[49m\u001b[43mrsl\u001b[49m\u001b[43m,\u001b[49m\u001b[43m \u001b[49m\u001b[43m:\u001b[49m\u001b[38;5;241;43m10\u001b[39;49m\u001b[43m]\u001b[49m \u001b[38;5;241m=\u001b[39m B\n",
      "\u001b[0;31mValueError\u001b[0m: could not broadcast input array from shape (5,5) into shape (10,10)"
     ]
    }
   ],
   "source": [
    "X[rsl, :10] = B"
   ]
  },
  {
   "cell_type": "code",
   "execution_count": null,
   "id": "1035dc03",
   "metadata": {},
   "outputs": [],
   "source": []
  }
 ],
 "metadata": {
  "kernelspec": {
   "display_name": "Python 3 (ipykernel)",
   "language": "python",
   "name": "python3"
  },
  "language_info": {
   "codemirror_mode": {
    "name": "ipython",
    "version": 3
   },
   "file_extension": ".py",
   "mimetype": "text/x-python",
   "name": "python",
   "nbconvert_exporter": "python",
   "pygments_lexer": "ipython3",
   "version": "3.8.19"
  }
 },
 "nbformat": 4,
 "nbformat_minor": 5
}
