{
 "cells": [
  {
   "cell_type": "markdown",
   "id": "72f0b8c6-a62f-4015-b7ae-2a5273b11b7c",
   "metadata": {},
   "source": [
    "<center><h1>Ovarian cancer example 10x - Xenium</center>"
   ]
  },
  {
   "cell_type": "markdown",
   "id": "4830c2f3-ac3a-4628-a73b-05cdd26c3954",
   "metadata": {},
   "source": [
    "This data is from the 10x Genomics website:\n",
    "\n",
    "- [Rep1](https://www.10xgenomics.com/datasets/xenium-prime-ffpe-human-ovarian-cancer)\n",
    "- [Rep2](https://www.10xgenomics.com/datasets/xenium-prime-fresh-frozen-human-ovary)\n"
   ]
  },
  {
   "cell_type": "code",
   "execution_count": 1,
   "id": "db96f27b-9cb5-4798-8ff5-29a4e2898bbf",
   "metadata": {},
   "outputs": [
    {
     "name": "stderr",
     "output_type": "stream",
     "text": [
      "/gpfs/gsfs10/users/kanferg/conda/envs/spatialdata_env/lib/python3.10/site-packages/dask/dataframe/__init__.py:31: FutureWarning: The legacy Dask DataFrame implementation is deprecated and will be removed in a future version. Set the configuration option `dataframe.query-planning` to `True` or None to enable the new Dask Dataframe implementation and silence this warning.\n",
      "  warnings.warn(\n",
      "/gpfs/gsfs10/users/kanferg/conda/envs/spatialdata_env/lib/python3.10/site-packages/anndata/utils.py:429: FutureWarning: Importing read_text from `anndata` is deprecated. Import anndata.io.read_text instead.\n",
      "  warnings.warn(msg, FutureWarning)\n",
      "/gpfs/gsfs10/users/kanferg/conda/envs/spatialdata_env/lib/python3.10/site-packages/anndata/utils.py:429: FutureWarning: Importing read_csv from `anndata` is deprecated. Import anndata.io.read_csv instead.\n",
      "  warnings.warn(msg, FutureWarning)\n",
      "/gpfs/gsfs10/users/kanferg/conda/envs/spatialdata_env/lib/python3.10/site-packages/anndata/utils.py:429: FutureWarning: Importing read_excel from `anndata` is deprecated. Import anndata.io.read_excel instead.\n",
      "  warnings.warn(msg, FutureWarning)\n",
      "/gpfs/gsfs10/users/kanferg/conda/envs/spatialdata_env/lib/python3.10/site-packages/anndata/utils.py:429: FutureWarning: Importing read_hdf from `anndata` is deprecated. Import anndata.io.read_hdf instead.\n",
      "  warnings.warn(msg, FutureWarning)\n",
      "/gpfs/gsfs10/users/kanferg/conda/envs/spatialdata_env/lib/python3.10/site-packages/anndata/utils.py:429: FutureWarning: Importing read_loom from `anndata` is deprecated. Import anndata.io.read_loom instead.\n",
      "  warnings.warn(msg, FutureWarning)\n",
      "/gpfs/gsfs10/users/kanferg/conda/envs/spatialdata_env/lib/python3.10/site-packages/anndata/utils.py:429: FutureWarning: Importing read_mtx from `anndata` is deprecated. Import anndata.io.read_mtx instead.\n",
      "  warnings.warn(msg, FutureWarning)\n",
      "/gpfs/gsfs10/users/kanferg/conda/envs/spatialdata_env/lib/python3.10/site-packages/anndata/utils.py:429: FutureWarning: Importing read_text from `anndata` is deprecated. Import anndata.io.read_text instead.\n",
      "  warnings.warn(msg, FutureWarning)\n",
      "/gpfs/gsfs10/users/kanferg/conda/envs/spatialdata_env/lib/python3.10/site-packages/anndata/utils.py:429: FutureWarning: Importing read_umi_tools from `anndata` is deprecated. Import anndata.io.read_umi_tools instead.\n",
      "  warnings.warn(msg, FutureWarning)\n"
     ]
    }
   ],
   "source": [
    "from spatialdata_io import xenium\n",
    "import spatialdata as sd"
   ]
  },
  {
   "cell_type": "code",
   "execution_count": 2,
   "id": "4fe666eb-fe3d-4966-976b-e12cb0a2d38f",
   "metadata": {},
   "outputs": [],
   "source": [
    "xenium_path = \"/data/kanferg/Sptial_Omics/playGround/Data/Xenium/Xenium_FFPE_Human_Breast_Cancer_Rep1_outs/outs\"\n",
    "path_write = \"/data/kanferg/Sptial_Omics/playGround/Data/Xenium/Xenium_FFPE_Human_Breast_Cancer_Rep1_outs/zarr_rep1\""
   ]
  },
  {
   "cell_type": "code",
   "execution_count": 3,
   "id": "2b806360-9e59-443f-9bd5-3292c0e2ad3b",
   "metadata": {},
   "outputs": [
    {
     "name": "stdout",
     "output_type": "stream",
     "text": [
      "\u001b[34mINFO    \u001b[0m reading                                                                                                   \n",
      "         \u001b[35m/data/kanferg/Sptial_Omics/playGround/Data/Xenium/Xenium_FFPE_Human_Breast_Cancer_Rep1_outs/outs/\u001b[0m\u001b[95mcell_feat\u001b[0m\n",
      "         \u001b[95mure_matrix.h5\u001b[0m                                                                                             \n"
     ]
    },
    {
     "ename": "TypeError",
     "evalue": "to_spatial_image() got an unexpected keyword argument 'rgb'",
     "output_type": "error",
     "traceback": [
      "\u001b[0;31m---------------------------------------------------------------------------\u001b[0m",
      "\u001b[0;31mTypeError\u001b[0m                                 Traceback (most recent call last)",
      "Cell \u001b[0;32mIn[3], line 1\u001b[0m\n\u001b[0;32m----> 1\u001b[0m sdata \u001b[38;5;241m=\u001b[39m \u001b[43mxenium\u001b[49m\u001b[43m(\u001b[49m\n\u001b[1;32m      2\u001b[0m \u001b[43m    \u001b[49m\u001b[43mpath\u001b[49m\u001b[38;5;241;43m=\u001b[39;49m\u001b[38;5;28;43mstr\u001b[39;49m\u001b[43m(\u001b[49m\u001b[43mxenium_path\u001b[49m\u001b[43m)\u001b[49m\u001b[43m,\u001b[49m\n\u001b[1;32m      3\u001b[0m \u001b[43m    \u001b[49m\u001b[43mn_jobs\u001b[49m\u001b[38;5;241;43m=\u001b[39;49m\u001b[38;5;241;43m8\u001b[39;49m\u001b[43m,\u001b[49m\n\u001b[1;32m      4\u001b[0m \u001b[43m    \u001b[49m\u001b[43mcells_boundaries\u001b[49m\u001b[38;5;241;43m=\u001b[39;49m\u001b[38;5;28;43;01mTrue\u001b[39;49;00m\u001b[43m,\u001b[49m\n\u001b[1;32m      5\u001b[0m \u001b[43m    \u001b[49m\u001b[43mnucleus_boundaries\u001b[49m\u001b[38;5;241;43m=\u001b[39;49m\u001b[38;5;28;43;01mTrue\u001b[39;49;00m\u001b[43m,\u001b[49m\n\u001b[1;32m      6\u001b[0m \u001b[43m    \u001b[49m\u001b[43mmorphology_focus\u001b[49m\u001b[38;5;241;43m=\u001b[39;49m\u001b[38;5;28;43;01mTrue\u001b[39;49;00m\u001b[43m,\u001b[49m\n\u001b[1;32m      7\u001b[0m \u001b[43m    \u001b[49m\u001b[43mcells_as_circles\u001b[49m\u001b[38;5;241;43m=\u001b[39;49m\u001b[38;5;28;43;01mFalse\u001b[39;49;00m\u001b[43m,\u001b[49m\n\u001b[1;32m      8\u001b[0m \u001b[43m)\u001b[49m\n\u001b[1;32m      9\u001b[0m \u001b[38;5;28mprint\u001b[39m(\u001b[38;5;124m\"\u001b[39m\u001b[38;5;124mdone\u001b[39m\u001b[38;5;124m\"\u001b[39m)\n",
      "File \u001b[0;32m/gpfs/gsfs10/users/kanferg/conda/envs/spatialdata_env/lib/python3.10/site-packages/spatialdata_io/_utils.py:46\u001b[0m, in \u001b[0;36mdeprecation_alias.<locals>.deprecation_decorator.<locals>.wrapper\u001b[0;34m(*args, **kwargs)\u001b[0m\n\u001b[1;32m     44\u001b[0m class_name \u001b[38;5;241m=\u001b[39m f\u001b[38;5;241m.\u001b[39m\u001b[38;5;18m__qualname__\u001b[39m\n\u001b[1;32m     45\u001b[0m rename_kwargs(f\u001b[38;5;241m.\u001b[39m\u001b[38;5;18m__name__\u001b[39m, kwargs, aliases, class_name)\n\u001b[0;32m---> 46\u001b[0m \u001b[38;5;28;01mreturn\u001b[39;00m \u001b[43mf\u001b[49m\u001b[43m(\u001b[49m\u001b[38;5;241;43m*\u001b[39;49m\u001b[43margs\u001b[49m\u001b[43m,\u001b[49m\u001b[43m \u001b[49m\u001b[38;5;241;43m*\u001b[39;49m\u001b[38;5;241;43m*\u001b[39;49m\u001b[43mkwargs\u001b[49m\u001b[43m)\u001b[49m\n",
      "File \u001b[0;32m/gpfs/gsfs10/users/kanferg/conda/envs/spatialdata_env/lib/python3.10/site-packages/spatialdata_io/readers/xenium.py:274\u001b[0m, in \u001b[0;36mxenium\u001b[0;34m(path, cells_boundaries, nucleus_boundaries, cells_as_circles, cells_labels, nucleus_labels, transcripts, morphology_mip, morphology_focus, aligned_images, cells_table, n_jobs, imread_kwargs, image_models_kwargs, labels_models_kwargs)\u001b[0m\n\u001b[1;32m    272\u001b[0m \u001b[38;5;28;01mif\u001b[39;00m version \u001b[38;5;129;01mis\u001b[39;00m \u001b[38;5;28;01mNone\u001b[39;00m \u001b[38;5;129;01mor\u001b[39;00m version \u001b[38;5;241m<\u001b[39m packaging\u001b[38;5;241m.\u001b[39mversion\u001b[38;5;241m.\u001b[39mparse(\u001b[38;5;124m\"\u001b[39m\u001b[38;5;124m2.0.0\u001b[39m\u001b[38;5;124m\"\u001b[39m):\n\u001b[1;32m    273\u001b[0m     \u001b[38;5;28;01mif\u001b[39;00m morphology_mip:\n\u001b[0;32m--> 274\u001b[0m         images[\u001b[38;5;124m\"\u001b[39m\u001b[38;5;124mmorphology_mip\u001b[39m\u001b[38;5;124m\"\u001b[39m] \u001b[38;5;241m=\u001b[39m \u001b[43m_get_images\u001b[49m\u001b[43m(\u001b[49m\n\u001b[1;32m    275\u001b[0m \u001b[43m            \u001b[49m\u001b[43mpath\u001b[49m\u001b[43m,\u001b[49m\n\u001b[1;32m    276\u001b[0m \u001b[43m            \u001b[49m\u001b[43mXeniumKeys\u001b[49m\u001b[38;5;241;43m.\u001b[39;49m\u001b[43mMORPHOLOGY_MIP_FILE\u001b[49m\u001b[43m,\u001b[49m\n\u001b[1;32m    277\u001b[0m \u001b[43m            \u001b[49m\u001b[43mimread_kwargs\u001b[49m\u001b[43m,\u001b[49m\n\u001b[1;32m    278\u001b[0m \u001b[43m            \u001b[49m\u001b[43mimage_models_kwargs\u001b[49m\u001b[43m,\u001b[49m\n\u001b[1;32m    279\u001b[0m \u001b[43m        \u001b[49m\u001b[43m)\u001b[49m\n\u001b[1;32m    280\u001b[0m     \u001b[38;5;28;01mif\u001b[39;00m morphology_focus:\n\u001b[1;32m    281\u001b[0m         images[\u001b[38;5;124m\"\u001b[39m\u001b[38;5;124mmorphology_focus\u001b[39m\u001b[38;5;124m\"\u001b[39m] \u001b[38;5;241m=\u001b[39m _get_images(\n\u001b[1;32m    282\u001b[0m             path,\n\u001b[1;32m    283\u001b[0m             XeniumKeys\u001b[38;5;241m.\u001b[39mMORPHOLOGY_FOCUS_FILE,\n\u001b[1;32m    284\u001b[0m             imread_kwargs,\n\u001b[1;32m    285\u001b[0m             image_models_kwargs,\n\u001b[1;32m    286\u001b[0m         )\n",
      "File \u001b[0;32m/gpfs/gsfs10/users/kanferg/conda/envs/spatialdata_env/lib/python3.10/site-packages/spatialdata_io/readers/xenium.py:564\u001b[0m, in \u001b[0;36m_get_images\u001b[0;34m(path, file, imread_kwargs, image_models_kwargs)\u001b[0m\n\u001b[1;32m    558\u001b[0m \u001b[38;5;28;01mif\u001b[39;00m \u001b[38;5;124m\"\u001b[39m\u001b[38;5;124mc_coords\u001b[39m\u001b[38;5;124m\"\u001b[39m \u001b[38;5;129;01min\u001b[39;00m image_models_kwargs \u001b[38;5;129;01mand\u001b[39;00m \u001b[38;5;124m\"\u001b[39m\u001b[38;5;124mdummy\u001b[39m\u001b[38;5;124m\"\u001b[39m \u001b[38;5;129;01min\u001b[39;00m image_models_kwargs[\u001b[38;5;124m\"\u001b[39m\u001b[38;5;124mc_coords\u001b[39m\u001b[38;5;124m\"\u001b[39m]:\n\u001b[1;32m    559\u001b[0m     \u001b[38;5;66;03m# Napari currently interprets 4 channel images as RGB; a series of PRs to fix this is almost ready but they will\u001b[39;00m\n\u001b[1;32m    560\u001b[0m     \u001b[38;5;66;03m# not be merged soon.\u001b[39;00m\n\u001b[1;32m    561\u001b[0m     \u001b[38;5;66;03m# Here, since the new data from the xenium analyzer version 2.0.0 gives 4-channel images that are not RGBA,\u001b[39;00m\n\u001b[1;32m    562\u001b[0m     \u001b[38;5;66;03m# let's add a dummy channel as a temporary workaround.\u001b[39;00m\n\u001b[1;32m    563\u001b[0m     image \u001b[38;5;241m=\u001b[39m da\u001b[38;5;241m.\u001b[39mconcatenate([image, da\u001b[38;5;241m.\u001b[39mzeros_like(image[\u001b[38;5;241m0\u001b[39m:\u001b[38;5;241m1\u001b[39m])], axis\u001b[38;5;241m=\u001b[39m\u001b[38;5;241m0\u001b[39m)\n\u001b[0;32m--> 564\u001b[0m \u001b[38;5;28;01mreturn\u001b[39;00m \u001b[43mImage2DModel\u001b[49m\u001b[38;5;241;43m.\u001b[39;49m\u001b[43mparse\u001b[49m\u001b[43m(\u001b[49m\n\u001b[1;32m    565\u001b[0m \u001b[43m    \u001b[49m\u001b[43mimage\u001b[49m\u001b[43m,\u001b[49m\u001b[43m \u001b[49m\u001b[43mtransformations\u001b[49m\u001b[38;5;241;43m=\u001b[39;49m\u001b[43m{\u001b[49m\u001b[38;5;124;43m\"\u001b[39;49m\u001b[38;5;124;43mglobal\u001b[39;49m\u001b[38;5;124;43m\"\u001b[39;49m\u001b[43m:\u001b[49m\u001b[43m \u001b[49m\u001b[43mIdentity\u001b[49m\u001b[43m(\u001b[49m\u001b[43m)\u001b[49m\u001b[43m}\u001b[49m\u001b[43m,\u001b[49m\u001b[43m \u001b[49m\u001b[43mdims\u001b[49m\u001b[38;5;241;43m=\u001b[39;49m\u001b[43m(\u001b[49m\u001b[38;5;124;43m\"\u001b[39;49m\u001b[38;5;124;43mc\u001b[39;49m\u001b[38;5;124;43m\"\u001b[39;49m\u001b[43m,\u001b[49m\u001b[43m \u001b[49m\u001b[38;5;124;43m\"\u001b[39;49m\u001b[38;5;124;43my\u001b[39;49m\u001b[38;5;124;43m\"\u001b[39;49m\u001b[43m,\u001b[49m\u001b[43m \u001b[49m\u001b[38;5;124;43m\"\u001b[39;49m\u001b[38;5;124;43mx\u001b[39;49m\u001b[38;5;124;43m\"\u001b[39;49m\u001b[43m)\u001b[49m\u001b[43m,\u001b[49m\u001b[43m \u001b[49m\u001b[43mrgb\u001b[49m\u001b[38;5;241;43m=\u001b[39;49m\u001b[38;5;28;43;01mNone\u001b[39;49;00m\u001b[43m,\u001b[49m\u001b[43m \u001b[49m\u001b[38;5;241;43m*\u001b[39;49m\u001b[38;5;241;43m*\u001b[39;49m\u001b[43mimage_models_kwargs\u001b[49m\n\u001b[1;32m    566\u001b[0m \u001b[43m\u001b[49m\u001b[43m)\u001b[49m\n",
      "File \u001b[0;32m/gpfs/gsfs10/users/kanferg/conda/envs/spatialdata_env/lib/python3.10/site-packages/spatialdata/models/models.py:189\u001b[0m, in \u001b[0;36mRasterSchema.parse\u001b[0;34m(cls, data, dims, transformations, scale_factors, method, chunks, **kwargs)\u001b[0m\n\u001b[1;32m    183\u001b[0m         \u001b[38;5;28;01mraise\u001b[39;00m \u001b[38;5;167;01mValueError\u001b[39;00m(\n\u001b[1;32m    184\u001b[0m             \u001b[38;5;124mf\u001b[39m\u001b[38;5;124m\"\u001b[39m\u001b[38;5;124mCannot transpose arrays to match `dims`: \u001b[39m\u001b[38;5;132;01m{\u001b[39;00mdims\u001b[38;5;132;01m}\u001b[39;00m\u001b[38;5;124m.\u001b[39m\u001b[38;5;124m\"\u001b[39m,\n\u001b[1;32m    185\u001b[0m             \u001b[38;5;124m\"\u001b[39m\u001b[38;5;124mTry to reshape `data` or `dims`.\u001b[39m\u001b[38;5;124m\"\u001b[39m,\n\u001b[1;32m    186\u001b[0m         ) \u001b[38;5;28;01mfrom\u001b[39;00m \u001b[38;5;21;01me\u001b[39;00m\n\u001b[1;32m    188\u001b[0m \u001b[38;5;66;03m# finally convert to spatial image\u001b[39;00m\n\u001b[0;32m--> 189\u001b[0m data \u001b[38;5;241m=\u001b[39m \u001b[43mto_spatial_image\u001b[49m\u001b[43m(\u001b[49m\u001b[43marray_like\u001b[49m\u001b[38;5;241;43m=\u001b[39;49m\u001b[43mdata\u001b[49m\u001b[43m,\u001b[49m\u001b[43m \u001b[49m\u001b[43mdims\u001b[49m\u001b[38;5;241;43m=\u001b[39;49m\u001b[38;5;28;43mcls\u001b[39;49m\u001b[38;5;241;43m.\u001b[39;49m\u001b[43mdims\u001b[49m\u001b[38;5;241;43m.\u001b[39;49m\u001b[43mdims\u001b[49m\u001b[43m,\u001b[49m\u001b[43m \u001b[49m\u001b[38;5;241;43m*\u001b[39;49m\u001b[38;5;241;43m*\u001b[39;49m\u001b[43mkwargs\u001b[49m\u001b[43m)\u001b[49m\n\u001b[1;32m    190\u001b[0m \u001b[38;5;66;03m# parse transformations\u001b[39;00m\n\u001b[1;32m    191\u001b[0m _parse_transformations(data, transformations)\n",
      "\u001b[0;31mTypeError\u001b[0m: to_spatial_image() got an unexpected keyword argument 'rgb'"
     ]
    }
   ],
   "source": [
    "sdata = xenium(\n",
    "    path=str(xenium_path),\n",
    "    n_jobs=8,\n",
    "    cells_boundaries=True,\n",
    "    nucleus_boundaries=True,\n",
    "    morphology_focus=True,\n",
    "    cells_as_circles=False,\n",
    ")\n",
    "print(\"done\")"
   ]
  },
  {
   "cell_type": "code",
   "execution_count": null,
   "id": "d57a230a-4e6a-4fa6-9ef9-5aef0d8f584b",
   "metadata": {},
   "outputs": [],
   "source": [
    "xenium_path = \"/data/kanferg/Sptial_Omics/playGround/Data/Ovarian/FFPE/Xenium_Prime_Ovarian_Cancer_FFPE_outs\"\n",
    "path_write =\"/data/kanferg/Sptial_Omics/playGround/Data/Ovarian/FFPE/Xenium_Prime_Ovarian_Cancer_FFPE_outs_zarr\""
   ]
  },
  {
   "cell_type": "code",
   "execution_count": null,
   "id": "1c7b0fe7-cc95-4d8b-9586-6ab6210d0b57",
   "metadata": {},
   "outputs": [],
   "source": [
    "sdata = xenium(\n",
    "    path=str(xenium_path),\n",
    "    n_jobs=8,\n",
    "    cells_boundaries=True,\n",
    "    nucleus_boundaries=True,\n",
    "    morphology_focus=True,\n",
    "    cells_as_circles=False,\n",
    ")\n",
    "print(\"done\")"
   ]
  },
  {
   "cell_type": "code",
   "execution_count": null,
   "id": "b9e0eda4-38d5-463a-9e59-4940e6d1df71",
   "metadata": {},
   "outputs": [],
   "source": [
    "sdata = xenium(xenium_path)"
   ]
  },
  {
   "cell_type": "code",
   "execution_count": null,
   "id": "d5e0cdfa-9f5c-4457-a439-7ed6f60baa59",
   "metadata": {},
   "outputs": [],
   "source": [
    "sdata.write(path_write)\n",
    "# read and print the Zarr data\n",
    "sdata = sd.read_zarr(path_write)\n",
    "print(sdata)"
   ]
  }
 ],
 "metadata": {
  "kernelspec": {
   "display_name": "Python 3 (ipykernel)",
   "language": "python",
   "name": "python3"
  },
  "language_info": {
   "codemirror_mode": {
    "name": "ipython",
    "version": 3
   },
   "file_extension": ".py",
   "mimetype": "text/x-python",
   "name": "python",
   "nbconvert_exporter": "python",
   "pygments_lexer": "ipython3",
   "version": "3.10.15"
  }
 },
 "nbformat": 4,
 "nbformat_minor": 5
}
