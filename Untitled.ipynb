{
 "cells": [
  {
   "cell_type": "code",
   "execution_count": 1,
   "id": "fd6f1526-5f09-4858-874d-3b4c9f148315",
   "metadata": {},
   "outputs": [],
   "source": [
    "import matplotlib.pyplot as plt\n",
    "from matplotlib.backends.backend_pdf import PdfPages\n",
    "from matplotlib.colors import ListedColormap\n",
    "import matplotlib.ticker as ticker\n",
    "import matplotlib.pyplot as plt\n",
    "import pandas as pd\n",
    "from matplotlib.ticker import MaxNLocator\n",
    "import seaborn as sns\n",
    "import os\n",
    "import gzip\n",
    "import numpy as np\n",
    "import scanpy as sc\n",
    "import squidpy as sq\n",
    "import cupy as cp\n",
    "import cupyx\n",
    "import os\n",
    "import time\n",
    "import rapids_singlecell as rsc\n",
    "import numpy as np\n",
    "import rmm\n",
    "from rmm.allocators.cupy import rmm_cupy_allocator\n",
    "import cupy\n",
    "\n",
    "rmm.reinitialize(\n",
    "    managed_memory=False,  # Allows oversubscription\n",
    "    pool_allocator=False,  # default is False\n",
    "    devices=0,  # GPU device IDs to register. By default registers only GPU 0.\n",
    ")\n",
    "cp.cuda.set_allocator(rmm_cupy_allocator)\n",
    "import zarr\n",
    "from collections import OrderedDict\n",
    "from scipy.sparse import csr_matrix\n",
    "import pandas as pd\n",
    "import scipy.stats as stats\n",
    "from statsmodels.stats.multitest import multipletests\n",
    "from scipy.sparse import csr_matrix\n",
    "import scipy\n",
    "import anndata\n",
    "from collections import OrderedDict\n",
    "from rsc_functions.utility.applyqc import applyqc\n",
    "from rsc_functions.reports.plot import plot_spatial,plot_spatial_data, plot_expression, plot_moran\n",
    "from rsc_functions.utility.rank_genes_groups import return_markers,rank_genes_groups"
   ]
  },
  {
   "cell_type": "code",
   "execution_count": 14,
   "id": "b223181a-7be5-4837-b20e-1167ea6a0405",
   "metadata": {},
   "outputs": [],
   "source": [
    "andata = sc.read(\n",
    "    f'3b899768-7843-40c9-9a0b-d3143c39a185.h5ad',\n",
    "    backup_url='https://datasets.cellxgene.cziscience.com/3b899768-7843-40c9-9a0b-d3143c39a185.h5ad'\n",
    ")"
   ]
  },
  {
   "cell_type": "code",
   "execution_count": 3,
   "id": "b5a77849-5219-4de0-821c-a3e366b873c0",
   "metadata": {},
   "outputs": [
    {
     "data": {
      "text/plain": [
       "AnnData object with n_obs × n_vars = 4992 × 36406\n",
       "    obs: 'in_tissue', 'array_row', 'array_col', 'mapped_reference_annotation', 'donor_id', 'self_reported_ethnicity_ontology_term_id', 'donor_living_at_sample_collection', 'organism_ontology_term_id', 'sample_uuid', 'sample_preservation_method', 'tissue_ontology_term_id', 'development_stage_ontology_term_id', 'sample_derivation_process', 'tissue_type', 'tissue_section_uuid', 'tissue_section_thickness', 'library_uuid', 'assay_ontology_term_id', 'sequencing_platform', 'is_primary_data', 'cell_type_ontology_term_id', 'author_cell_type', 'disease_ontology_term_id', 'reported_diseases', 'sex_ontology_term_id', 'percent.mt', 'nCount_Spatial', 'nFeature_Spatial', 'nCount_SCT', 'nFeature_SCT', 'suspension_type', 'cell_type', 'assay', 'disease', 'organism', 'sex', 'tissue', 'self_reported_ethnicity', 'development_stage', 'observation_joinid'\n",
       "    var: 'feature_is_filtered', 'sct.detection_rate', 'sct.gmean', 'sct.variance', 'sct.residual_mean', 'sct.residual_variance', 'vst.mean', 'vst.variance', 'vst.variance.expected', 'vst.variance.standardized', 'r.metric.5', 'markvariogram.spatially.variable.rank', 'feature_name', 'feature_reference', 'feature_biotype', 'feature_length'\n",
       "    uns: 'citation', 'default_embedding', 'schema_reference', 'schema_version', 'spatial', 'spatial_metadata', 'title'\n",
       "    obsm: 'X_pca', 'X_umap', 'spatial'"
      ]
     },
     "execution_count": 3,
     "metadata": {},
     "output_type": "execute_result"
    }
   ],
   "source": [
    "andata"
   ]
  },
  {
   "cell_type": "code",
   "execution_count": 15,
   "id": "c30bafd0-c03b-46fc-98ef-2e89aa9a832f",
   "metadata": {},
   "outputs": [],
   "source": [
    "andata.var_names_make_unique()\n",
    "andata.obsm['spatial'] = np.array(andata.obsm['spatial'], dtype=np.float64)\n",
    "andata.uns['config'] = OrderedDict()\n",
    "andata.uns[\"config\"][\"secondary_var_names\"] = andata.var_names"
   ]
  },
  {
   "cell_type": "code",
   "execution_count": null,
   "id": "1b1c43a2-3873-44e5-b792-4a96fc67c047",
   "metadata": {},
   "outputs": [],
   "source": []
  }
 ],
 "metadata": {
  "kernelspec": {
   "display_name": "Python 3 (ipykernel)",
   "language": "python",
   "name": "python3"
  },
  "language_info": {
   "codemirror_mode": {
    "name": "ipython",
    "version": 3
   },
   "file_extension": ".py",
   "mimetype": "text/x-python",
   "name": "python",
   "nbconvert_exporter": "python",
   "pygments_lexer": "ipython3",
   "version": "3.11.9"
  }
 },
 "nbformat": 4,
 "nbformat_minor": 5
}
