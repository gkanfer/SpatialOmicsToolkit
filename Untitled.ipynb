{
 "cells": [
  {
   "cell_type": "code",
   "execution_count": 95,
   "id": "db48e9b2-b42e-46ce-8163-5c48bc27681a",
   "metadata": {},
   "outputs": [],
   "source": [
    "import matplotlib.pyplot as plt\n",
    "from matplotlib.backends.backend_pdf import PdfPages\n",
    "from matplotlib.colors import ListedColormap\n",
    "import matplotlib.ticker as ticker\n",
    "import matplotlib.pyplot as plt\n",
    "import pandas as pd\n",
    "from matplotlib.ticker import MaxNLocator\n",
    "import seaborn as sns\n",
    "import os\n",
    "import gzip\n",
    "import numpy as np\n",
    "import scanpy as sc\n",
    "import cupy as cp\n",
    "import os\n",
    "import time\n",
    "import rapids_singlecell as rsc\n",
    "import numpy as np\n",
    "import rmm\n",
    "from rmm.allocators.cupy import rmm_cupy_allocator\n",
    "\n",
    "rmm.reinitialize(\n",
    "    managed_memory=False,  # Allows oversubscription\n",
    "    pool_allocator=False,  # default is False\n",
    "    devices=0,  # GPU device IDs to register. By default registers only GPU 0.\n",
    ")\n",
    "cp.cuda.set_allocator(rmm_cupy_allocator)\n",
    "import zarr\n",
    "from collections import OrderedDict\n",
    "from scipy.sparse import csr_matrix\n",
    "import pandas as pd\n",
    "import scipy.stats as stats\n",
    "from statsmodels.stats.multitest import multipletests\n",
    "from scipy.sparse import csr_matrix\n",
    "import scipy\n",
    "import anndata\n",
    "from collections import OrderedDict"
   ]
  },
  {
   "cell_type": "code",
   "execution_count": 2,
   "id": "ad6f74ec-cf3b-4c1f-9846-dbe4606a54eb",
   "metadata": {},
   "outputs": [],
   "source": [
    "from rsc_functions.utility.applyqc import applyqc "
   ]
  },
  {
   "cell_type": "code",
   "execution_count": 3,
   "id": "0f679579-6ecb-4e94-8b2d-f4018dcf6c8c",
   "metadata": {},
   "outputs": [],
   "source": [
    "path = \"/data/kanferg/Sptial_Omics/playGround/Data/Xenium/output_temp\"\n",
    "pathout = \"/data/kanferg/Sptial_Omics/SpatialOmicsToolkit/out_1\"\n",
    "FilePrefix = \"_072824\" "
   ]
  },
  {
   "cell_type": "code",
   "execution_count": 4,
   "id": "52cd20ce-fa22-4c7c-a258-bb41a36e73e2",
   "metadata": {},
   "outputs": [
    {
     "name": "stdout",
     "output_type": "stream",
     "text": [
      "filtered out 336 cells\n"
     ]
    }
   ],
   "source": [
    "SpatRep = applyqc(min_counts = 1, min_genes = 3, path = path,outPath = pathout,FilePrefix = FilePrefix, method = \"Xenium\")"
   ]
  },
  {
   "cell_type": "code",
   "execution_count": 5,
   "id": "ab97eff9-6763-4bce-8047-e2ac2a86ac74",
   "metadata": {},
   "outputs": [
    {
     "data": {
      "text/plain": [
       "AnnData object with n_obs × n_vars = 708647 × 4624\n",
       "    obs: 'n_genes_by_counts', 'total_counts', 'log1p_n_genes_by_counts', 'log1p_total_counts', 'total_counts_MT', 'pct_counts_MT', 'log1p_total_counts_MT', 'cell_centroid_x', 'cell_centroid_y', 'cell_area', 'nucleus_centroid_x', 'nucleus_centroid_y', 'nucleus_area', 'z_level', 'nucleus_count'\n",
       "    var: 'gene_ids', 'feature_types', 'genome', 'MT', 'n_cells_by_counts', 'total_counts', 'mean_counts', 'pct_dropout_by_counts', 'log1p_total_counts', 'log1p_mean_counts'\n",
       "    uns: 'config'\n",
       "    obsm: 'spatial'\n",
       "    layers: 'counts'"
      ]
     },
     "execution_count": 5,
     "metadata": {},
     "output_type": "execute_result"
    }
   ],
   "source": [
    "SpatRep.andata"
   ]
  },
  {
   "cell_type": "code",
   "execution_count": 6,
   "id": "4861897b-af80-4374-a0df-8c9a41ab5880",
   "metadata": {},
   "outputs": [
    {
     "data": {
      "text/html": [
       "<div>\n",
       "<style scoped>\n",
       "    .dataframe tbody tr th:only-of-type {\n",
       "        vertical-align: middle;\n",
       "    }\n",
       "\n",
       "    .dataframe tbody tr th {\n",
       "        vertical-align: top;\n",
       "    }\n",
       "\n",
       "    .dataframe thead th {\n",
       "        text-align: right;\n",
       "    }\n",
       "</style>\n",
       "<table border=\"1\" class=\"dataframe\">\n",
       "  <thead>\n",
       "    <tr style=\"text-align: right;\">\n",
       "      <th></th>\n",
       "      <th>n_genes_by_counts</th>\n",
       "      <th>total_counts</th>\n",
       "      <th>log1p_n_genes_by_counts</th>\n",
       "      <th>log1p_total_counts</th>\n",
       "      <th>total_counts_MT</th>\n",
       "      <th>pct_counts_MT</th>\n",
       "      <th>log1p_total_counts_MT</th>\n",
       "      <th>cell_centroid_x</th>\n",
       "      <th>cell_centroid_y</th>\n",
       "      <th>cell_area</th>\n",
       "      <th>nucleus_centroid_x</th>\n",
       "      <th>nucleus_centroid_y</th>\n",
       "      <th>nucleus_area</th>\n",
       "      <th>z_level</th>\n",
       "      <th>nucleus_count</th>\n",
       "    </tr>\n",
       "  </thead>\n",
       "  <tbody>\n",
       "    <tr>\n",
       "      <th>aaaaadoa-1</th>\n",
       "      <td>235</td>\n",
       "      <td>271.0</td>\n",
       "      <td>5.463832</td>\n",
       "      <td>5.605802</td>\n",
       "      <td>0.0</td>\n",
       "      <td>0.0</td>\n",
       "      <td>0.0</td>\n",
       "      <td>2871.859619</td>\n",
       "      <td>347.729767</td>\n",
       "      <td>87.332191</td>\n",
       "      <td>2872.301758</td>\n",
       "      <td>348.082520</td>\n",
       "      <td>46.646408</td>\n",
       "      <td>0.0</td>\n",
       "      <td>1.0</td>\n",
       "    </tr>\n",
       "    <tr>\n",
       "      <th>aaaaclhf-1</th>\n",
       "      <td>257</td>\n",
       "      <td>315.0</td>\n",
       "      <td>5.552960</td>\n",
       "      <td>5.755742</td>\n",
       "      <td>0.0</td>\n",
       "      <td>0.0</td>\n",
       "      <td>0.0</td>\n",
       "      <td>2882.301025</td>\n",
       "      <td>349.938110</td>\n",
       "      <td>43.530627</td>\n",
       "      <td>2882.376953</td>\n",
       "      <td>349.706879</td>\n",
       "      <td>21.900782</td>\n",
       "      <td>0.0</td>\n",
       "      <td>1.0</td>\n",
       "    </tr>\n",
       "    <tr>\n",
       "      <th>aaaafcfj-1</th>\n",
       "      <td>285</td>\n",
       "      <td>337.0</td>\n",
       "      <td>5.655992</td>\n",
       "      <td>5.823046</td>\n",
       "      <td>0.0</td>\n",
       "      <td>0.0</td>\n",
       "      <td>0.0</td>\n",
       "      <td>2880.217041</td>\n",
       "      <td>338.575897</td>\n",
       "      <td>58.206408</td>\n",
       "      <td>2880.387207</td>\n",
       "      <td>338.556702</td>\n",
       "      <td>27.996876</td>\n",
       "      <td>0.0</td>\n",
       "      <td>1.0</td>\n",
       "    </tr>\n",
       "    <tr>\n",
       "      <th>aaaagamp-1</th>\n",
       "      <td>207</td>\n",
       "      <td>235.0</td>\n",
       "      <td>5.337538</td>\n",
       "      <td>5.463832</td>\n",
       "      <td>0.0</td>\n",
       "      <td>0.0</td>\n",
       "      <td>0.0</td>\n",
       "      <td>2852.795166</td>\n",
       "      <td>356.880615</td>\n",
       "      <td>34.273595</td>\n",
       "      <td>2852.702148</td>\n",
       "      <td>357.078033</td>\n",
       "      <td>23.120001</td>\n",
       "      <td>0.0</td>\n",
       "      <td>1.0</td>\n",
       "    </tr>\n",
       "    <tr>\n",
       "      <th>aaaaiako-1</th>\n",
       "      <td>94</td>\n",
       "      <td>102.0</td>\n",
       "      <td>4.553877</td>\n",
       "      <td>4.634729</td>\n",
       "      <td>0.0</td>\n",
       "      <td>0.0</td>\n",
       "      <td>0.0</td>\n",
       "      <td>2854.036133</td>\n",
       "      <td>361.754639</td>\n",
       "      <td>19.823594</td>\n",
       "      <td>NaN</td>\n",
       "      <td>NaN</td>\n",
       "      <td>NaN</td>\n",
       "      <td>0.0</td>\n",
       "      <td>0.0</td>\n",
       "    </tr>\n",
       "    <tr>\n",
       "      <th>...</th>\n",
       "      <td>...</td>\n",
       "      <td>...</td>\n",
       "      <td>...</td>\n",
       "      <td>...</td>\n",
       "      <td>...</td>\n",
       "      <td>...</td>\n",
       "      <td>...</td>\n",
       "      <td>...</td>\n",
       "      <td>...</td>\n",
       "      <td>...</td>\n",
       "      <td>...</td>\n",
       "      <td>...</td>\n",
       "      <td>...</td>\n",
       "      <td>...</td>\n",
       "      <td>...</td>\n",
       "    </tr>\n",
       "    <tr>\n",
       "      <th>oikoinno-1</th>\n",
       "      <td>85</td>\n",
       "      <td>92.0</td>\n",
       "      <td>4.454347</td>\n",
       "      <td>4.532599</td>\n",
       "      <td>0.0</td>\n",
       "      <td>0.0</td>\n",
       "      <td>0.0</td>\n",
       "      <td>6281.145996</td>\n",
       "      <td>4459.715332</td>\n",
       "      <td>19.823594</td>\n",
       "      <td>6281.145996</td>\n",
       "      <td>4459.715332</td>\n",
       "      <td>19.823594</td>\n",
       "      <td>5.0</td>\n",
       "      <td>1.0</td>\n",
       "    </tr>\n",
       "    <tr>\n",
       "      <th>oikojopg-1</th>\n",
       "      <td>110</td>\n",
       "      <td>118.0</td>\n",
       "      <td>4.709530</td>\n",
       "      <td>4.779123</td>\n",
       "      <td>0.0</td>\n",
       "      <td>0.0</td>\n",
       "      <td>0.0</td>\n",
       "      <td>6231.592285</td>\n",
       "      <td>4434.088379</td>\n",
       "      <td>13.095313</td>\n",
       "      <td>6231.592285</td>\n",
       "      <td>4434.088379</td>\n",
       "      <td>13.095313</td>\n",
       "      <td>5.0</td>\n",
       "      <td>1.0</td>\n",
       "    </tr>\n",
       "    <tr>\n",
       "      <th>oikokaeg-1</th>\n",
       "      <td>40</td>\n",
       "      <td>43.0</td>\n",
       "      <td>3.713572</td>\n",
       "      <td>3.784190</td>\n",
       "      <td>0.0</td>\n",
       "      <td>0.0</td>\n",
       "      <td>0.0</td>\n",
       "      <td>6243.616211</td>\n",
       "      <td>4449.573730</td>\n",
       "      <td>7.676563</td>\n",
       "      <td>6243.616211</td>\n",
       "      <td>4449.573730</td>\n",
       "      <td>7.676563</td>\n",
       "      <td>6.0</td>\n",
       "      <td>1.0</td>\n",
       "    </tr>\n",
       "    <tr>\n",
       "      <th>oikooakd-1</th>\n",
       "      <td>19</td>\n",
       "      <td>20.0</td>\n",
       "      <td>2.995732</td>\n",
       "      <td>3.044523</td>\n",
       "      <td>0.0</td>\n",
       "      <td>0.0</td>\n",
       "      <td>0.0</td>\n",
       "      <td>6224.635254</td>\n",
       "      <td>4435.554688</td>\n",
       "      <td>13.275938</td>\n",
       "      <td>6224.635254</td>\n",
       "      <td>4435.554688</td>\n",
       "      <td>13.275938</td>\n",
       "      <td>4.0</td>\n",
       "      <td>1.0</td>\n",
       "    </tr>\n",
       "    <tr>\n",
       "      <th>oikoolfj-1</th>\n",
       "      <td>50</td>\n",
       "      <td>55.0</td>\n",
       "      <td>3.931826</td>\n",
       "      <td>4.025352</td>\n",
       "      <td>0.0</td>\n",
       "      <td>0.0</td>\n",
       "      <td>0.0</td>\n",
       "      <td>6228.200684</td>\n",
       "      <td>4432.040039</td>\n",
       "      <td>8.534532</td>\n",
       "      <td>6228.200684</td>\n",
       "      <td>4432.040039</td>\n",
       "      <td>8.534532</td>\n",
       "      <td>4.0</td>\n",
       "      <td>1.0</td>\n",
       "    </tr>\n",
       "  </tbody>\n",
       "</table>\n",
       "<p>708647 rows × 15 columns</p>\n",
       "</div>"
      ],
      "text/plain": [
       "            n_genes_by_counts  total_counts  log1p_n_genes_by_counts  \\\n",
       "aaaaadoa-1                235         271.0                 5.463832   \n",
       "aaaaclhf-1                257         315.0                 5.552960   \n",
       "aaaafcfj-1                285         337.0                 5.655992   \n",
       "aaaagamp-1                207         235.0                 5.337538   \n",
       "aaaaiako-1                 94         102.0                 4.553877   \n",
       "...                       ...           ...                      ...   \n",
       "oikoinno-1                 85          92.0                 4.454347   \n",
       "oikojopg-1                110         118.0                 4.709530   \n",
       "oikokaeg-1                 40          43.0                 3.713572   \n",
       "oikooakd-1                 19          20.0                 2.995732   \n",
       "oikoolfj-1                 50          55.0                 3.931826   \n",
       "\n",
       "            log1p_total_counts  total_counts_MT  pct_counts_MT  \\\n",
       "aaaaadoa-1            5.605802              0.0            0.0   \n",
       "aaaaclhf-1            5.755742              0.0            0.0   \n",
       "aaaafcfj-1            5.823046              0.0            0.0   \n",
       "aaaagamp-1            5.463832              0.0            0.0   \n",
       "aaaaiako-1            4.634729              0.0            0.0   \n",
       "...                        ...              ...            ...   \n",
       "oikoinno-1            4.532599              0.0            0.0   \n",
       "oikojopg-1            4.779123              0.0            0.0   \n",
       "oikokaeg-1            3.784190              0.0            0.0   \n",
       "oikooakd-1            3.044523              0.0            0.0   \n",
       "oikoolfj-1            4.025352              0.0            0.0   \n",
       "\n",
       "            log1p_total_counts_MT  cell_centroid_x  cell_centroid_y  \\\n",
       "aaaaadoa-1                    0.0      2871.859619       347.729767   \n",
       "aaaaclhf-1                    0.0      2882.301025       349.938110   \n",
       "aaaafcfj-1                    0.0      2880.217041       338.575897   \n",
       "aaaagamp-1                    0.0      2852.795166       356.880615   \n",
       "aaaaiako-1                    0.0      2854.036133       361.754639   \n",
       "...                           ...              ...              ...   \n",
       "oikoinno-1                    0.0      6281.145996      4459.715332   \n",
       "oikojopg-1                    0.0      6231.592285      4434.088379   \n",
       "oikokaeg-1                    0.0      6243.616211      4449.573730   \n",
       "oikooakd-1                    0.0      6224.635254      4435.554688   \n",
       "oikoolfj-1                    0.0      6228.200684      4432.040039   \n",
       "\n",
       "            cell_area  nucleus_centroid_x  nucleus_centroid_y  nucleus_area  \\\n",
       "aaaaadoa-1  87.332191         2872.301758          348.082520     46.646408   \n",
       "aaaaclhf-1  43.530627         2882.376953          349.706879     21.900782   \n",
       "aaaafcfj-1  58.206408         2880.387207          338.556702     27.996876   \n",
       "aaaagamp-1  34.273595         2852.702148          357.078033     23.120001   \n",
       "aaaaiako-1  19.823594                 NaN                 NaN           NaN   \n",
       "...               ...                 ...                 ...           ...   \n",
       "oikoinno-1  19.823594         6281.145996         4459.715332     19.823594   \n",
       "oikojopg-1  13.095313         6231.592285         4434.088379     13.095313   \n",
       "oikokaeg-1   7.676563         6243.616211         4449.573730      7.676563   \n",
       "oikooakd-1  13.275938         6224.635254         4435.554688     13.275938   \n",
       "oikoolfj-1   8.534532         6228.200684         4432.040039      8.534532   \n",
       "\n",
       "            z_level  nucleus_count  \n",
       "aaaaadoa-1      0.0            1.0  \n",
       "aaaaclhf-1      0.0            1.0  \n",
       "aaaafcfj-1      0.0            1.0  \n",
       "aaaagamp-1      0.0            1.0  \n",
       "aaaaiako-1      0.0            0.0  \n",
       "...             ...            ...  \n",
       "oikoinno-1      5.0            1.0  \n",
       "oikojopg-1      5.0            1.0  \n",
       "oikokaeg-1      6.0            1.0  \n",
       "oikooakd-1      4.0            1.0  \n",
       "oikoolfj-1      4.0            1.0  \n",
       "\n",
       "[708647 rows x 15 columns]"
      ]
     },
     "execution_count": 6,
     "metadata": {},
     "output_type": "execute_result"
    }
   ],
   "source": [
    "SpatRep.andata.obs"
   ]
  },
  {
   "cell_type": "code",
   "execution_count": 7,
   "id": "3c4f9ec5-5647-429e-b128-3621b880f303",
   "metadata": {},
   "outputs": [
    {
     "data": {
      "text/html": [
       "<div>\n",
       "<style scoped>\n",
       "    .dataframe tbody tr th:only-of-type {\n",
       "        vertical-align: middle;\n",
       "    }\n",
       "\n",
       "    .dataframe tbody tr th {\n",
       "        vertical-align: top;\n",
       "    }\n",
       "\n",
       "    .dataframe thead th {\n",
       "        text-align: right;\n",
       "    }\n",
       "</style>\n",
       "<table border=\"1\" class=\"dataframe\">\n",
       "  <thead>\n",
       "    <tr style=\"text-align: right;\">\n",
       "      <th></th>\n",
       "      <th>gene_ids</th>\n",
       "      <th>feature_types</th>\n",
       "      <th>genome</th>\n",
       "      <th>MT</th>\n",
       "      <th>n_cells_by_counts</th>\n",
       "      <th>total_counts</th>\n",
       "      <th>mean_counts</th>\n",
       "      <th>pct_dropout_by_counts</th>\n",
       "      <th>log1p_total_counts</th>\n",
       "      <th>log1p_mean_counts</th>\n",
       "    </tr>\n",
       "  </thead>\n",
       "  <tbody>\n",
       "    <tr>\n",
       "      <th>A2ML1</th>\n",
       "      <td>ENSG00000166535</td>\n",
       "      <td>Gene Expression</td>\n",
       "      <td>Unknown</td>\n",
       "      <td>False</td>\n",
       "      <td>734</td>\n",
       "      <td>739.0</td>\n",
       "      <td>0.001042</td>\n",
       "      <td>99.896471</td>\n",
       "      <td>6.606650</td>\n",
       "      <td>0.001042</td>\n",
       "    </tr>\n",
       "    <tr>\n",
       "      <th>AAMP</th>\n",
       "      <td>ENSG00000127837</td>\n",
       "      <td>Gene Expression</td>\n",
       "      <td>Unknown</td>\n",
       "      <td>False</td>\n",
       "      <td>57162</td>\n",
       "      <td>61940.0</td>\n",
       "      <td>0.087365</td>\n",
       "      <td>91.937465</td>\n",
       "      <td>11.033937</td>\n",
       "      <td>0.083757</td>\n",
       "    </tr>\n",
       "    <tr>\n",
       "      <th>AAR2</th>\n",
       "      <td>ENSG00000131043</td>\n",
       "      <td>Gene Expression</td>\n",
       "      <td>Unknown</td>\n",
       "      <td>False</td>\n",
       "      <td>17950</td>\n",
       "      <td>18681.0</td>\n",
       "      <td>0.026349</td>\n",
       "      <td>97.468204</td>\n",
       "      <td>9.835316</td>\n",
       "      <td>0.026008</td>\n",
       "    </tr>\n",
       "    <tr>\n",
       "      <th>AARSD1</th>\n",
       "      <td>ENSG00000266967</td>\n",
       "      <td>Gene Expression</td>\n",
       "      <td>Unknown</td>\n",
       "      <td>False</td>\n",
       "      <td>21433</td>\n",
       "      <td>22425.0</td>\n",
       "      <td>0.031630</td>\n",
       "      <td>96.976937</td>\n",
       "      <td>10.017977</td>\n",
       "      <td>0.031140</td>\n",
       "    </tr>\n",
       "    <tr>\n",
       "      <th>ABAT</th>\n",
       "      <td>ENSG00000183044</td>\n",
       "      <td>Gene Expression</td>\n",
       "      <td>Unknown</td>\n",
       "      <td>False</td>\n",
       "      <td>9165</td>\n",
       "      <td>9487.0</td>\n",
       "      <td>0.013381</td>\n",
       "      <td>98.707303</td>\n",
       "      <td>9.157784</td>\n",
       "      <td>0.013292</td>\n",
       "    </tr>\n",
       "    <tr>\n",
       "      <th>...</th>\n",
       "      <td>...</td>\n",
       "      <td>...</td>\n",
       "      <td>...</td>\n",
       "      <td>...</td>\n",
       "      <td>...</td>\n",
       "      <td>...</td>\n",
       "      <td>...</td>\n",
       "      <td>...</td>\n",
       "      <td>...</td>\n",
       "      <td>...</td>\n",
       "    </tr>\n",
       "    <tr>\n",
       "      <th>ZSCAN26</th>\n",
       "      <td>ENSG00000197062</td>\n",
       "      <td>Gene Expression</td>\n",
       "      <td>Unknown</td>\n",
       "      <td>False</td>\n",
       "      <td>25728</td>\n",
       "      <td>27055.0</td>\n",
       "      <td>0.038160</td>\n",
       "      <td>96.371140</td>\n",
       "      <td>10.205664</td>\n",
       "      <td>0.037450</td>\n",
       "    </tr>\n",
       "    <tr>\n",
       "      <th>ZSWIM6</th>\n",
       "      <td>ENSG00000130449</td>\n",
       "      <td>Gene Expression</td>\n",
       "      <td>Unknown</td>\n",
       "      <td>False</td>\n",
       "      <td>10264</td>\n",
       "      <td>10501.0</td>\n",
       "      <td>0.014811</td>\n",
       "      <td>98.552293</td>\n",
       "      <td>9.259321</td>\n",
       "      <td>0.014703</td>\n",
       "    </tr>\n",
       "    <tr>\n",
       "      <th>ZUP1</th>\n",
       "      <td>ENSG00000153975</td>\n",
       "      <td>Gene Expression</td>\n",
       "      <td>Unknown</td>\n",
       "      <td>False</td>\n",
       "      <td>18951</td>\n",
       "      <td>19759.0</td>\n",
       "      <td>0.027869</td>\n",
       "      <td>97.327016</td>\n",
       "      <td>9.891415</td>\n",
       "      <td>0.027488</td>\n",
       "    </tr>\n",
       "    <tr>\n",
       "      <th>ZYG11B</th>\n",
       "      <td>ENSG00000162378</td>\n",
       "      <td>Gene Expression</td>\n",
       "      <td>Unknown</td>\n",
       "      <td>False</td>\n",
       "      <td>22956</td>\n",
       "      <td>23680.0</td>\n",
       "      <td>0.033400</td>\n",
       "      <td>96.762123</td>\n",
       "      <td>10.072429</td>\n",
       "      <td>0.032854</td>\n",
       "    </tr>\n",
       "    <tr>\n",
       "      <th>ZYX</th>\n",
       "      <td>ENSG00000159840</td>\n",
       "      <td>Gene Expression</td>\n",
       "      <td>Unknown</td>\n",
       "      <td>False</td>\n",
       "      <td>129942</td>\n",
       "      <td>156587.0</td>\n",
       "      <td>0.220861</td>\n",
       "      <td>81.672057</td>\n",
       "      <td>11.961373</td>\n",
       "      <td>0.199557</td>\n",
       "    </tr>\n",
       "  </tbody>\n",
       "</table>\n",
       "<p>4624 rows × 10 columns</p>\n",
       "</div>"
      ],
      "text/plain": [
       "                gene_ids    feature_types   genome     MT  n_cells_by_counts  \\\n",
       "A2ML1    ENSG00000166535  Gene Expression  Unknown  False                734   \n",
       "AAMP     ENSG00000127837  Gene Expression  Unknown  False              57162   \n",
       "AAR2     ENSG00000131043  Gene Expression  Unknown  False              17950   \n",
       "AARSD1   ENSG00000266967  Gene Expression  Unknown  False              21433   \n",
       "ABAT     ENSG00000183044  Gene Expression  Unknown  False               9165   \n",
       "...                  ...              ...      ...    ...                ...   \n",
       "ZSCAN26  ENSG00000197062  Gene Expression  Unknown  False              25728   \n",
       "ZSWIM6   ENSG00000130449  Gene Expression  Unknown  False              10264   \n",
       "ZUP1     ENSG00000153975  Gene Expression  Unknown  False              18951   \n",
       "ZYG11B   ENSG00000162378  Gene Expression  Unknown  False              22956   \n",
       "ZYX      ENSG00000159840  Gene Expression  Unknown  False             129942   \n",
       "\n",
       "         total_counts  mean_counts  pct_dropout_by_counts  log1p_total_counts  \\\n",
       "A2ML1           739.0     0.001042              99.896471            6.606650   \n",
       "AAMP          61940.0     0.087365              91.937465           11.033937   \n",
       "AAR2          18681.0     0.026349              97.468204            9.835316   \n",
       "AARSD1        22425.0     0.031630              96.976937           10.017977   \n",
       "ABAT           9487.0     0.013381              98.707303            9.157784   \n",
       "...               ...          ...                    ...                 ...   \n",
       "ZSCAN26       27055.0     0.038160              96.371140           10.205664   \n",
       "ZSWIM6        10501.0     0.014811              98.552293            9.259321   \n",
       "ZUP1          19759.0     0.027869              97.327016            9.891415   \n",
       "ZYG11B        23680.0     0.033400              96.762123           10.072429   \n",
       "ZYX          156587.0     0.220861              81.672057           11.961373   \n",
       "\n",
       "         log1p_mean_counts  \n",
       "A2ML1             0.001042  \n",
       "AAMP              0.083757  \n",
       "AAR2              0.026008  \n",
       "AARSD1            0.031140  \n",
       "ABAT              0.013292  \n",
       "...                    ...  \n",
       "ZSCAN26           0.037450  \n",
       "ZSWIM6            0.014703  \n",
       "ZUP1              0.027488  \n",
       "ZYG11B            0.032854  \n",
       "ZYX               0.199557  \n",
       "\n",
       "[4624 rows x 10 columns]"
      ]
     },
     "execution_count": 7,
     "metadata": {},
     "output_type": "execute_result"
    }
   ],
   "source": [
    "SpatRep.andata.var"
   ]
  },
  {
   "cell_type": "code",
   "execution_count": 10,
   "id": "2157b52a-c719-44bd-bc32-e4e5e1129da1",
   "metadata": {},
   "outputs": [],
   "source": [
    "from rsc_functions.utility.clustersMake import clustersMake "
   ]
  },
  {
   "cell_type": "code",
   "execution_count": 12,
   "id": "2ae892f3-1ab3-4e26-9b51-442d23844cbf",
   "metadata": {},
   "outputs": [
    {
     "name": "stdout",
     "output_type": "stream",
     "text": [
      "filtered out 336 cells\n"
     ]
    },
    {
     "ename": "MemoryError",
     "evalue": "std::bad_alloc: out_of_memory: CUDA error at: /opt/conda/conda-bld/work/include/rmm/mr/device/cuda_memory_resource.hpp:60: cudaErrorMemoryAllocation out of memory",
     "output_type": "error",
     "traceback": [
      "\u001b[0;31m---------------------------------------------------------------------------\u001b[0m",
      "\u001b[0;31mMemoryError\u001b[0m                               Traceback (most recent call last)",
      "Cell \u001b[0;32mIn[12], line 1\u001b[0m\n\u001b[0;32m----> 1\u001b[0m SpatRep \u001b[38;5;241m=\u001b[39m \u001b[43mclustersMake\u001b[49m\u001b[43m(\u001b[49m\u001b[43mmin_counts\u001b[49m\u001b[43m \u001b[49m\u001b[38;5;241;43m=\u001b[39;49m\u001b[43m \u001b[49m\u001b[38;5;241;43m1\u001b[39;49m\u001b[43m,\u001b[49m\u001b[43m \u001b[49m\u001b[43mmin_genes\u001b[49m\u001b[43m \u001b[49m\u001b[38;5;241;43m=\u001b[39;49m\u001b[43m \u001b[49m\u001b[38;5;241;43m3\u001b[39;49m\u001b[43m,\u001b[49m\u001b[43m \u001b[49m\u001b[43mpath\u001b[49m\u001b[43m \u001b[49m\u001b[38;5;241;43m=\u001b[39;49m\u001b[43m \u001b[49m\u001b[43mpath\u001b[49m\u001b[43m,\u001b[49m\u001b[43moutPath\u001b[49m\u001b[43m \u001b[49m\u001b[38;5;241;43m=\u001b[39;49m\u001b[43m \u001b[49m\u001b[43mpathout\u001b[49m\u001b[43m,\u001b[49m\u001b[43mFilePrefix\u001b[49m\u001b[43m \u001b[49m\u001b[38;5;241;43m=\u001b[39;49m\u001b[43m \u001b[49m\u001b[43mFilePrefix\u001b[49m\u001b[43m,\u001b[49m\u001b[43m \u001b[49m\u001b[43mmethod\u001b[49m\u001b[43m \u001b[49m\u001b[38;5;241;43m=\u001b[39;49m\u001b[43m \u001b[49m\u001b[38;5;124;43m\"\u001b[39;49m\u001b[38;5;124;43mXenium\u001b[39;49m\u001b[38;5;124;43m\"\u001b[39;49m\u001b[43m)\u001b[49m\n",
      "File \u001b[0;32m/gpfs/gsfs10/users/kanferg/Sptial_Omics/SpatialOmicsToolkit/rsc_functions/utility/clustersMake.py:19\u001b[0m, in \u001b[0;36mclustersMake.__init__\u001b[0;34m(self, leiden_resolution, leiden_iterations, *args, **kwargs)\u001b[0m\n\u001b[1;32m     17\u001b[0m \u001b[38;5;28mself\u001b[39m\u001b[38;5;241m.\u001b[39mleiden_iterations \u001b[38;5;241m=\u001b[39m leiden_iterations\n\u001b[1;32m     18\u001b[0m \u001b[38;5;28msuper\u001b[39m()\u001b[38;5;241m.\u001b[39m\u001b[38;5;21m__init__\u001b[39m(\u001b[38;5;241m*\u001b[39margs, \u001b[38;5;241m*\u001b[39m\u001b[38;5;241m*\u001b[39mkwargs)\n\u001b[0;32m---> 19\u001b[0m \u001b[38;5;28;43mself\u001b[39;49m\u001b[38;5;241;43m.\u001b[39;49m\u001b[43mperform_analysis\u001b[49m\u001b[43m(\u001b[49m\u001b[43m)\u001b[49m\n",
      "File \u001b[0;32m/gpfs/gsfs10/users/kanferg/Sptial_Omics/SpatialOmicsToolkit/rsc_functions/utility/clustersMake.py:24\u001b[0m, in \u001b[0;36mclustersMake.perform_analysis\u001b[0;34m(self)\u001b[0m\n\u001b[1;32m     22\u001b[0m rsc\u001b[38;5;241m.\u001b[39mpp\u001b[38;5;241m.\u001b[39mnormalize_total(\u001b[38;5;28mself\u001b[39m\u001b[38;5;241m.\u001b[39mandata)\n\u001b[1;32m     23\u001b[0m rsc\u001b[38;5;241m.\u001b[39mpp\u001b[38;5;241m.\u001b[39mlog1p(\u001b[38;5;28mself\u001b[39m\u001b[38;5;241m.\u001b[39mandata)\n\u001b[0;32m---> 24\u001b[0m \u001b[43mrsc\u001b[49m\u001b[38;5;241;43m.\u001b[39;49m\u001b[43mpp\u001b[49m\u001b[38;5;241;43m.\u001b[39;49m\u001b[43mscale\u001b[49m\u001b[43m(\u001b[49m\u001b[38;5;28;43mself\u001b[39;49m\u001b[38;5;241;43m.\u001b[39;49m\u001b[43mandata\u001b[49m\u001b[43m)\u001b[49m\n\u001b[1;32m     25\u001b[0m rsc\u001b[38;5;241m.\u001b[39mpp\u001b[38;5;241m.\u001b[39mhighly_variable_genes(\u001b[38;5;28mself\u001b[39m\u001b[38;5;241m.\u001b[39mandata,flavor\u001b[38;5;241m=\u001b[39m\u001b[38;5;124m\"\u001b[39m\u001b[38;5;124mpearson_residuals\u001b[39m\u001b[38;5;124m\"\u001b[39m, layer\u001b[38;5;241m=\u001b[39m\u001b[38;5;124m\"\u001b[39m\u001b[38;5;124mcounts\u001b[39m\u001b[38;5;124m\"\u001b[39m)\n\u001b[1;32m     26\u001b[0m rsc\u001b[38;5;241m.\u001b[39mpp\u001b[38;5;241m.\u001b[39mpca(\u001b[38;5;28mself\u001b[39m\u001b[38;5;241m.\u001b[39mandata, n_comps\u001b[38;5;241m=\u001b[39m\u001b[38;5;28mself\u001b[39m\u001b[38;5;241m.\u001b[39mn_comps,random_state\u001b[38;5;241m=\u001b[39m\u001b[38;5;28mself\u001b[39m\u001b[38;5;241m.\u001b[39mrandom_state)\n",
      "File \u001b[0;32m/usr/local/apps/rapids-singlecell/mamba/envs/rapids_singlecell/lib/python3.11/site-packages/rapids_singlecell/preprocessing/_scale.py:93\u001b[0m, in \u001b[0;36mscale\u001b[0;34m(adata, zero_center, max_value, copy, layer, obsm, mask_obs, inplace)\u001b[0m\n\u001b[1;32m     85\u001b[0m     X, means, std \u001b[38;5;241m=\u001b[39m _scale_array(\n\u001b[1;32m     86\u001b[0m         X,\n\u001b[1;32m     87\u001b[0m         mask_obs\u001b[38;5;241m=\u001b[39mmask_obs,\n\u001b[0;32m   (...)\u001b[0m\n\u001b[1;32m     90\u001b[0m         max_value\u001b[38;5;241m=\u001b[39mmax_value,\n\u001b[1;32m     91\u001b[0m     )\n\u001b[1;32m     92\u001b[0m \u001b[38;5;28;01melif\u001b[39;00m \u001b[38;5;28misinstance\u001b[39m(X, sparse\u001b[38;5;241m.\u001b[39mcsr_matrix):\n\u001b[0;32m---> 93\u001b[0m     X, means, std \u001b[38;5;241m=\u001b[39m \u001b[43m_scale_sparse_csr\u001b[49m\u001b[43m(\u001b[49m\n\u001b[1;32m     94\u001b[0m \u001b[43m        \u001b[49m\u001b[43mX\u001b[49m\u001b[43m,\u001b[49m\n\u001b[1;32m     95\u001b[0m \u001b[43m        \u001b[49m\u001b[43mmask_obs\u001b[49m\u001b[38;5;241;43m=\u001b[39;49m\u001b[43mmask_obs\u001b[49m\u001b[43m,\u001b[49m\n\u001b[1;32m     96\u001b[0m \u001b[43m        \u001b[49m\u001b[43mzero_center\u001b[49m\u001b[38;5;241;43m=\u001b[39;49m\u001b[43mzero_center\u001b[49m\u001b[43m,\u001b[49m\n\u001b[1;32m     97\u001b[0m \u001b[43m        \u001b[49m\u001b[43minplace\u001b[49m\u001b[38;5;241;43m=\u001b[39;49m\u001b[43minplace\u001b[49m\u001b[43m,\u001b[49m\n\u001b[1;32m     98\u001b[0m \u001b[43m        \u001b[49m\u001b[43mmax_value\u001b[49m\u001b[38;5;241;43m=\u001b[39;49m\u001b[43mmax_value\u001b[49m\u001b[43m,\u001b[49m\n\u001b[1;32m     99\u001b[0m \u001b[43m    \u001b[49m\u001b[43m)\u001b[49m\n\u001b[1;32m    100\u001b[0m \u001b[38;5;28;01melif\u001b[39;00m \u001b[38;5;28misinstance\u001b[39m(X, sparse\u001b[38;5;241m.\u001b[39mcsc_matrix):\n\u001b[1;32m    101\u001b[0m     X, means, std \u001b[38;5;241m=\u001b[39m _scale_sparse_csc(\n\u001b[1;32m    102\u001b[0m         X,\n\u001b[1;32m    103\u001b[0m         mask_obs\u001b[38;5;241m=\u001b[39mmask_obs,\n\u001b[0;32m   (...)\u001b[0m\n\u001b[1;32m    106\u001b[0m         max_value\u001b[38;5;241m=\u001b[39mmax_value,\n\u001b[1;32m    107\u001b[0m     )\n",
      "File \u001b[0;32m/usr/local/apps/rapids-singlecell/mamba/envs/rapids_singlecell/lib/python3.11/site-packages/rapids_singlecell/preprocessing/_scale.py:214\u001b[0m, in \u001b[0;36m_scale_sparse_csr\u001b[0;34m(X, mask_obs, zero_center, inplace, max_value)\u001b[0m\n\u001b[1;32m    210\u001b[0m \u001b[38;5;28;01mdef\u001b[39;00m \u001b[38;5;21m_scale_sparse_csr\u001b[39m(\n\u001b[1;32m    211\u001b[0m     X, \u001b[38;5;241m*\u001b[39m, mask_obs\u001b[38;5;241m=\u001b[39m\u001b[38;5;28;01mNone\u001b[39;00m, zero_center\u001b[38;5;241m=\u001b[39m\u001b[38;5;28;01mTrue\u001b[39;00m, inplace\u001b[38;5;241m=\u001b[39m\u001b[38;5;28;01mTrue\u001b[39;00m, max_value\u001b[38;5;241m=\u001b[39m\u001b[38;5;28;01mNone\u001b[39;00m\n\u001b[1;32m    212\u001b[0m ):\n\u001b[1;32m    213\u001b[0m     \u001b[38;5;28;01mif\u001b[39;00m zero_center:\n\u001b[0;32m--> 214\u001b[0m         X \u001b[38;5;241m=\u001b[39m \u001b[43mX\u001b[49m\u001b[38;5;241;43m.\u001b[39;49m\u001b[43mtoarray\u001b[49m\u001b[43m(\u001b[49m\u001b[43m)\u001b[49m\n\u001b[1;32m    215\u001b[0m         \u001b[38;5;66;03m# inplace is True because we copied with `toarray`\u001b[39;00m\n\u001b[1;32m    216\u001b[0m         \u001b[38;5;28;01mreturn\u001b[39;00m _scale_array(\n\u001b[1;32m    217\u001b[0m             X,\n\u001b[1;32m    218\u001b[0m             mask_obs\u001b[38;5;241m=\u001b[39mmask_obs,\n\u001b[0;32m   (...)\u001b[0m\n\u001b[1;32m    221\u001b[0m             max_value\u001b[38;5;241m=\u001b[39mmax_value,\n\u001b[1;32m    222\u001b[0m         )\n",
      "File \u001b[0;32m/usr/local/apps/rapids-singlecell/mamba/envs/rapids_singlecell/lib/python3.11/site-packages/cupyx/scipy/sparse/_csr.py:423\u001b[0m, in \u001b[0;36mcsr_matrix.toarray\u001b[0;34m(self, order, out)\u001b[0m\n\u001b[1;32m    421\u001b[0m     \u001b[38;5;28;01mreturn\u001b[39;00m y\n\u001b[1;32m    422\u001b[0m \u001b[38;5;28;01melif\u001b[39;00m order \u001b[38;5;241m==\u001b[39m \u001b[38;5;124m'\u001b[39m\u001b[38;5;124mC\u001b[39m\u001b[38;5;124m'\u001b[39m:\n\u001b[0;32m--> 423\u001b[0m     \u001b[38;5;28;01mreturn\u001b[39;00m \u001b[43mcupy\u001b[49m\u001b[38;5;241;43m.\u001b[39;49m\u001b[43mascontiguousarray\u001b[49m\u001b[43m(\u001b[49m\u001b[43my\u001b[49m\u001b[43m)\u001b[49m\n\u001b[1;32m    424\u001b[0m \u001b[38;5;28;01melse\u001b[39;00m:\n\u001b[1;32m    425\u001b[0m     \u001b[38;5;28;01mraise\u001b[39;00m \u001b[38;5;167;01mValueError\u001b[39;00m(\u001b[38;5;124m'\u001b[39m\u001b[38;5;124morder not understood\u001b[39m\u001b[38;5;124m'\u001b[39m)\n",
      "File \u001b[0;32m/usr/local/apps/rapids-singlecell/mamba/envs/rapids_singlecell/lib/python3.11/site-packages/cupy/_creation/from_data.py:119\u001b[0m, in \u001b[0;36mascontiguousarray\u001b[0;34m(a, dtype)\u001b[0m\n\u001b[1;32m    105\u001b[0m \u001b[38;5;28;01mdef\u001b[39;00m \u001b[38;5;21mascontiguousarray\u001b[39m(a, dtype\u001b[38;5;241m=\u001b[39m\u001b[38;5;28;01mNone\u001b[39;00m):\n\u001b[1;32m    106\u001b[0m \u001b[38;5;250m    \u001b[39m\u001b[38;5;124;03m\"\"\"Returns a C-contiguous array.\u001b[39;00m\n\u001b[1;32m    107\u001b[0m \n\u001b[1;32m    108\u001b[0m \u001b[38;5;124;03m    Args:\u001b[39;00m\n\u001b[0;32m   (...)\u001b[0m\n\u001b[1;32m    117\u001b[0m \n\u001b[1;32m    118\u001b[0m \u001b[38;5;124;03m    \"\"\"\u001b[39;00m\n\u001b[0;32m--> 119\u001b[0m     \u001b[38;5;28;01mreturn\u001b[39;00m \u001b[43m_core\u001b[49m\u001b[38;5;241;43m.\u001b[39;49m\u001b[43mascontiguousarray\u001b[49m\u001b[43m(\u001b[49m\u001b[43ma\u001b[49m\u001b[43m,\u001b[49m\u001b[43m \u001b[49m\u001b[43mdtype\u001b[49m\u001b[43m)\u001b[49m\n",
      "File \u001b[0;32mcupy/_core/core.pyx:2715\u001b[0m, in \u001b[0;36mcupy._core.core.ascontiguousarray\u001b[0;34m()\u001b[0m\n",
      "File \u001b[0;32mcupy/_core/core.pyx:2731\u001b[0m, in \u001b[0;36mcupy._core.core.ascontiguousarray\u001b[0;34m()\u001b[0m\n",
      "File \u001b[0;32mcupy/_core/core.pyx:132\u001b[0m, in \u001b[0;36mcupy._core.core.ndarray.__new__\u001b[0;34m()\u001b[0m\n",
      "File \u001b[0;32mcupy/_core/core.pyx:220\u001b[0m, in \u001b[0;36mcupy._core.core._ndarray_base._init\u001b[0;34m()\u001b[0m\n",
      "File \u001b[0;32mcupy/cuda/memory.pyx:738\u001b[0m, in \u001b[0;36mcupy.cuda.memory.alloc\u001b[0;34m()\u001b[0m\n",
      "File \u001b[0;32m/usr/local/apps/rapids-singlecell/mamba/envs/rapids_singlecell/lib/python3.11/site-packages/rmm/allocators/cupy.py:37\u001b[0m, in \u001b[0;36mrmm_cupy_allocator\u001b[0;34m(nbytes)\u001b[0m\n\u001b[1;32m     34\u001b[0m     \u001b[38;5;28;01mraise\u001b[39;00m \u001b[38;5;167;01mModuleNotFoundError\u001b[39;00m(\u001b[38;5;124m\"\u001b[39m\u001b[38;5;124mNo module named \u001b[39m\u001b[38;5;124m'\u001b[39m\u001b[38;5;124mcupy\u001b[39m\u001b[38;5;124m'\u001b[39m\u001b[38;5;124m\"\u001b[39m)\n\u001b[1;32m     36\u001b[0m stream \u001b[38;5;241m=\u001b[39m Stream(obj\u001b[38;5;241m=\u001b[39mcupy\u001b[38;5;241m.\u001b[39mcuda\u001b[38;5;241m.\u001b[39mget_current_stream())\n\u001b[0;32m---> 37\u001b[0m buf \u001b[38;5;241m=\u001b[39m \u001b[43mlibrmm\u001b[49m\u001b[38;5;241;43m.\u001b[39;49m\u001b[43mdevice_buffer\u001b[49m\u001b[38;5;241;43m.\u001b[39;49m\u001b[43mDeviceBuffer\u001b[49m\u001b[43m(\u001b[49m\u001b[43msize\u001b[49m\u001b[38;5;241;43m=\u001b[39;49m\u001b[43mnbytes\u001b[49m\u001b[43m,\u001b[49m\u001b[43m \u001b[49m\u001b[43mstream\u001b[49m\u001b[38;5;241;43m=\u001b[39;49m\u001b[43mstream\u001b[49m\u001b[43m)\u001b[49m\n\u001b[1;32m     38\u001b[0m dev_id \u001b[38;5;241m=\u001b[39m \u001b[38;5;241m-\u001b[39m\u001b[38;5;241m1\u001b[39m \u001b[38;5;28;01mif\u001b[39;00m buf\u001b[38;5;241m.\u001b[39mptr \u001b[38;5;28;01melse\u001b[39;00m cupy\u001b[38;5;241m.\u001b[39mcuda\u001b[38;5;241m.\u001b[39mdevice\u001b[38;5;241m.\u001b[39mget_device_id()\n\u001b[1;32m     39\u001b[0m mem \u001b[38;5;241m=\u001b[39m cupy\u001b[38;5;241m.\u001b[39mcuda\u001b[38;5;241m.\u001b[39mUnownedMemory(\n\u001b[1;32m     40\u001b[0m     ptr\u001b[38;5;241m=\u001b[39mbuf\u001b[38;5;241m.\u001b[39mptr, size\u001b[38;5;241m=\u001b[39mbuf\u001b[38;5;241m.\u001b[39msize, owner\u001b[38;5;241m=\u001b[39mbuf, device_id\u001b[38;5;241m=\u001b[39mdev_id\n\u001b[1;32m     41\u001b[0m )\n",
      "File \u001b[0;32mdevice_buffer.pyx:85\u001b[0m, in \u001b[0;36mrmm._lib.device_buffer.DeviceBuffer.__cinit__\u001b[0;34m()\u001b[0m\n",
      "\u001b[0;31mMemoryError\u001b[0m: std::bad_alloc: out_of_memory: CUDA error at: /opt/conda/conda-bld/work/include/rmm/mr/device/cuda_memory_resource.hpp:60: cudaErrorMemoryAllocation out of memory"
     ]
    }
   ],
   "source": [
    "SpatRep = clustersMake(min_counts = 1, min_genes = 3, path = path,outPath = pathout,FilePrefix = FilePrefix, method = \"Xenium\")"
   ]
  },
  {
   "cell_type": "code",
   "execution_count": 6,
   "id": "34aba801-f533-4866-ae02-938d70463d81",
   "metadata": {},
   "outputs": [
    {
     "data": {
      "text/plain": [
       "AnnData object with n_obs × n_vars = 708647 × 4624\n",
       "    obs: 'n_genes_by_counts', 'total_counts', 'log1p_n_genes_by_counts', 'log1p_total_counts', 'total_counts_MT', 'pct_counts_MT', 'log1p_total_counts_MT', 'cell_centroid_x', 'cell_centroid_y', 'cell_area', 'nucleus_centroid_x', 'nucleus_centroid_y', 'nucleus_area', 'z_level', 'nucleus_count'\n",
       "    var: 'gene_ids', 'feature_types', 'genome', 'MT', 'n_cells_by_counts', 'total_counts', 'mean_counts', 'pct_dropout_by_counts', 'log1p_total_counts', 'log1p_mean_counts'\n",
       "    uns: 'config'\n",
       "    obsm: 'spatial'\n",
       "    layers: 'counts'"
      ]
     },
     "execution_count": 6,
     "metadata": {},
     "output_type": "execute_result"
    }
   ],
   "source": [
    "SpatRep.andata"
   ]
  },
  {
   "cell_type": "code",
   "execution_count": 8,
   "id": "4d98b30e-4174-4dbc-b9bf-f5b8d0fe35ff",
   "metadata": {},
   "outputs": [
    {
     "data": {
      "text/plain": [
       "(708647, 2)"
      ]
     },
     "execution_count": 8,
     "metadata": {},
     "output_type": "execute_result"
    }
   ],
   "source": [
    "SpatRep.andata.obsm['spatial'].shape"
   ]
  },
  {
   "cell_type": "code",
   "execution_count": null,
   "id": "ebf461d2-945d-47d5-9deb-dee456d06247",
   "metadata": {},
   "outputs": [],
   "source": []
  },
  {
   "cell_type": "code",
   "execution_count": null,
   "id": "10e1a0ac-c5dc-4025-8134-0339421a6dcb",
   "metadata": {},
   "outputs": [],
   "source": []
  },
  {
   "cell_type": "code",
   "execution_count": null,
   "id": "4b039bf7-4d69-4383-a9e1-bba89840ec92",
   "metadata": {},
   "outputs": [],
   "source": []
  },
  {
   "cell_type": "code",
   "execution_count": 66,
   "id": "6d745655-7df6-4b9d-8391-bc76b9fa9fc1",
   "metadata": {},
   "outputs": [],
   "source": [
    "path_xenium = os.path.join(path,\"cell_feature_matrix.h5\")\n",
    "path_cells = os.path.join(path,\"cells.zarr.zip\")\n",
    "adata = sc.read_10x_h5(path_xenium)\n",
    "rsc.get.anndata_to_GPU(adata)\n",
    "rsc.pp.flag_gene_family(adata, gene_family_name=\"MT\", gene_family_prefix=\"mt-\")\n",
    "rsc.pp.calculate_qc_metrics(adata, qc_vars=[\"MT\"])\n",
    "def open_zarr(path: str) -> zarr.Group:\n",
    "    store = (zarr.ZipStore(path, mode=\"r\") if path.endswith(\".zip\") else zarr.DirectoryStore(path))\n",
    "    return zarr.group(store=store)\n",
    "root = open_zarr(path_cells)\n",
    "column_names = dict(root['cell_summary'].attrs.items())['column_names']\n",
    "def build_obs(andata,root,column_names):\n",
    "    for i in range(len(column_names)):\n",
    "        andata.obs[str(column_names[i])] = np.array(root[\"cell_summary\"])[:,i]\n",
    "    spatial = andata.obs[[\"cell_centroid_x\", \"cell_centroid_y\"]]\n",
    "    adata.obsm[\"spatial\"] = spatial.values\n",
    "    return andata"
   ]
  },
  {
   "cell_type": "code",
   "execution_count": 67,
   "id": "320d63ac-1a2b-42f6-9107-9b9d8bc4e322",
   "metadata": {},
   "outputs": [],
   "source": [
    "andata = build_obs(adata,root,column_names)"
   ]
  },
  {
   "cell_type": "code",
   "execution_count": 68,
   "id": "a9c47cc0-8868-4974-8213-d13b09890f49",
   "metadata": {},
   "outputs": [],
   "source": [
    "andata.var_names_make_unique()\n",
    "andata.obsm['spatial'] = np.array(andata.obsm['spatial'], dtype=np.float64)\n",
    "andata.uns['config'] = OrderedDict()\n",
    "andata.uns[\"config\"][\"secondary_var_names\"] = andata.var_names\n",
    "rsc.pp.flag_gene_family(andata, gene_family_name=\"MT\", gene_family_prefix=\"mt-\")\n",
    "rsc.pp.calculate_qc_metrics(andata, qc_vars=[\"MT\"])"
   ]
  },
  {
   "cell_type": "code",
   "execution_count": 69,
   "id": "7d11c95d-040d-4743-9fc0-7275191cf9f7",
   "metadata": {},
   "outputs": [
    {
     "data": {
      "text/plain": [
       "AnnData object with n_obs × n_vars = 708983 × 4624\n",
       "    obs: 'n_genes_by_counts', 'total_counts', 'log1p_n_genes_by_counts', 'log1p_total_counts', 'total_counts_MT', 'pct_counts_MT', 'log1p_total_counts_MT', 'cell_centroid_x', 'cell_centroid_y', 'cell_area', 'nucleus_centroid_x', 'nucleus_centroid_y', 'nucleus_area', 'z_level', 'nucleus_count'\n",
       "    var: 'gene_ids', 'feature_types', 'genome', 'MT', 'n_cells_by_counts', 'total_counts', 'mean_counts', 'pct_dropout_by_counts', 'log1p_total_counts', 'log1p_mean_counts'\n",
       "    uns: 'config'\n",
       "    obsm: 'spatial'"
      ]
     },
     "execution_count": 69,
     "metadata": {},
     "output_type": "execute_result"
    }
   ],
   "source": [
    "andata"
   ]
  },
  {
   "cell_type": "code",
   "execution_count": 70,
   "id": "35848b3c-e8d4-4400-a84b-7cdcb52c73b1",
   "metadata": {},
   "outputs": [
    {
     "name": "stdout",
     "output_type": "stream",
     "text": [
      "filtered out 3685 cells\n",
      "filtered out 1 genes based on n_cells_by_counts\n"
     ]
    }
   ],
   "source": [
    "rsc.pp.filter_cells(andata, min_count=10,qc_var = 'total_counts')\n",
    "rsc.pp.filter_genes(andata, min_count=5)"
   ]
  },
  {
   "cell_type": "code",
   "execution_count": 71,
   "id": "962c5f26-0af9-472c-a434-f6867c1ecc42",
   "metadata": {},
   "outputs": [],
   "source": [
    "andata.uns['config'] = OrderedDict()\n",
    "andata.uns[\"config\"][\"secondary_var_names\"] = andata.var_names\n",
    "andata.layers['counts'] = andata.X.copy()"
   ]
  },
  {
   "cell_type": "code",
   "execution_count": 72,
   "id": "cec1e3a5-9cb0-460c-aa94-168e5dfeb711",
   "metadata": {},
   "outputs": [
    {
     "data": {
      "text/plain": [
       "array([[0., 0., 0., ..., 0., 0., 2.],\n",
       "       [0., 0., 0., ..., 0., 0., 0.],\n",
       "       [0., 0., 0., ..., 0., 0., 0.],\n",
       "       ...,\n",
       "       [0., 0., 0., ..., 0., 0., 2.],\n",
       "       [0., 0., 0., ..., 0., 0., 0.],\n",
       "       [0., 0., 0., ..., 0., 0., 0.]], dtype=float32)"
      ]
     },
     "execution_count": 72,
     "metadata": {},
     "output_type": "execute_result"
    }
   ],
   "source": [
    "testan.X.todense()"
   ]
  },
  {
   "cell_type": "code",
   "execution_count": 73,
   "id": "721eb7d3-6d31-4efa-a297-277267e0f6e7",
   "metadata": {},
   "outputs": [],
   "source": [
    "testan = andata.copy()\n",
    "sc.pp.subsample(testan, n_obs=1000)\n",
    "arr = testan.X.todense()\n",
    "# arr = testan.X\n",
    "arr = cupy.float32(arr.get())"
   ]
  },
  {
   "cell_type": "code",
   "execution_count": 74,
   "id": "e768a452-d11a-4de1-a11b-b208cec21b56",
   "metadata": {},
   "outputs": [
    {
     "data": {
      "text/plain": [
       "<Axes: ylabel='Count'>"
      ]
     },
     "execution_count": 74,
     "metadata": {},
     "output_type": "execute_result"
    },
    {
     "data": {
      "image/png": "[encoded data removed]",
      "text/plain": [
       "<Figure size 640x480 with 1 Axes>"
      ]
     },
     "metadata": {},
     "output_type": "display_data"
    }
   ],
   "source": [
    "sns.histplot(np.ravel(arr))"
   ]
  },
  {
   "cell_type": "code",
   "execution_count": 11,
   "id": "e40724c5-28f1-4761-b21b-b119f1c57762",
   "metadata": {},
   "outputs": [],
   "source": [
    "rsc.pp.normalize_total(andata)\n",
    "rsc.pp.log1p(andata)\n",
    "rsc.pp.highly_variable_genes(andata)\n",
    "\n"
   ]
  },
  {
   "cell_type": "code",
   "execution_count": 12,
   "id": "fc1d8d39-26b0-4bd6-8ead-0f48a2d27b98",
   "metadata": {},
   "outputs": [],
   "source": [
    "rsc.pp.scale(andata)"
   ]
  },
  {
   "cell_type": "code",
   "execution_count": 14,
   "id": "1429529b-a4fb-41c9-a061-614d2c54a25d",
   "metadata": {},
   "outputs": [
    {
     "data": {
      "text/plain": [
       "AnnData object with n_obs × n_vars = 708647 × 4624\n",
       "    obs: 'n_genes_by_counts', 'total_counts', 'log1p_n_genes_by_counts', 'log1p_total_counts', 'total_counts_MT', 'pct_counts_MT', 'log1p_total_counts_MT', 'cell_centroid_x', 'cell_centroid_y', 'cell_area', 'nucleus_centroid_x', 'nucleus_centroid_y', 'nucleus_area', 'z_level', 'nucleus_count'\n",
       "    var: 'gene_ids', 'feature_types', 'genome', 'MT', 'n_cells_by_counts', 'total_counts', 'mean_counts', 'pct_dropout_by_counts', 'log1p_total_counts', 'log1p_mean_counts', 'highly_variable', 'means', 'dispersions', 'dispersions_norm', 'mean', 'std'\n",
       "    uns: 'config', 'log1p', 'hvg'\n",
       "    obsm: 'spatial'\n",
       "    layers: 'counts'"
      ]
     },
     "execution_count": 14,
     "metadata": {},
     "output_type": "execute_result"
    }
   ],
   "source": [
    "andata"
   ]
  },
  {
   "cell_type": "code",
   "execution_count": 15,
   "id": "1d138137-06a3-4621-b502-b416a328fee3",
   "metadata": {},
   "outputs": [],
   "source": [
    "import seaborn as sns"
   ]
  },
  {
   "cell_type": "code",
   "execution_count": 17,
   "id": "3b9a9bc4-d307-4b2a-bc34-e38396cfa8dc",
   "metadata": {},
   "outputs": [],
   "source": [
    "testan = andata.copy()"
   ]
  },
  {
   "cell_type": "code",
   "execution_count": 41,
   "id": "73314ca8-2e3f-4ae8-aada-5bdbe258d95e",
   "metadata": {},
   "outputs": [],
   "source": [
    "sc.pp.subsample(testan, n_obs=10)"
   ]
  },
  {
   "cell_type": "code",
   "execution_count": 42,
   "id": "95a3743f-51ed-4843-972b-2887cae30c31",
   "metadata": {},
   "outputs": [],
   "source": [
    "import cupy"
   ]
  },
  {
   "cell_type": "code",
   "execution_count": 43,
   "id": "797efa49-b1a8-415a-9ab1-ee7ad3f4e1b1",
   "metadata": {},
   "outputs": [],
   "source": [
    "arr = testan.X\n",
    "arr = cupy.float32(arr.get())"
   ]
  },
  {
   "cell_type": "code",
   "execution_count": 46,
   "id": "f8f846e4-2174-4178-a339-e946bec906eb",
   "metadata": {},
   "outputs": [
    {
     "data": {
      "text/plain": [
       "<Axes: ylabel='Count'>"
      ]
     },
     "execution_count": 46,
     "metadata": {},
     "output_type": "execute_result"
    },
    {
     "data": {
      "image/png": "[encoded data removed]",
      "text/plain": [
       "<Figure size 640x480 with 1 Axes>"
      ]
     },
     "metadata": {},
     "output_type": "display_data"
    }
   ],
   "source": [
    "sns.histplot(np.ravel(arr),binrange=(-5,5))"
   ]
  },
  {
   "cell_type": "code",
   "execution_count": 13,
   "id": "ec266afb-5ec4-400e-8bff-c270c3a3f762",
   "metadata": {},
   "outputs": [
    {
     "ename": "MemoryError",
     "evalue": "std::bad_alloc: out_of_memory: CUDA error at: /opt/conda/conda-bld/work/include/rmm/mr/device/cuda_memory_resource.hpp:60: cudaErrorMemoryAllocation out of memory",
     "output_type": "error",
     "traceback": [
      "\u001b[0;31m---------------------------------------------------------------------------\u001b[0m",
      "\u001b[0;31mMemoryError\u001b[0m                               Traceback (most recent call last)",
      "Cell \u001b[0;32mIn[13], line 1\u001b[0m\n\u001b[0;32m----> 1\u001b[0m \u001b[43mrsc\u001b[49m\u001b[38;5;241;43m.\u001b[39;49m\u001b[43mpp\u001b[49m\u001b[38;5;241;43m.\u001b[39;49m\u001b[43mpca\u001b[49m\u001b[43m(\u001b[49m\u001b[43mandata\u001b[49m\u001b[43m,\u001b[49m\u001b[43m \u001b[49m\u001b[43mn_comps\u001b[49m\u001b[38;5;241;43m=\u001b[39;49m\u001b[38;5;241;43m15\u001b[39;49m\u001b[43m,\u001b[49m\u001b[43mrandom_state\u001b[49m\u001b[38;5;241;43m=\u001b[39;49m\u001b[38;5;241;43m1337\u001b[39;49m\u001b[43m)\u001b[49m\n",
      "File \u001b[0;32m/usr/local/apps/rapids-singlecell/mamba/envs/rapids_singlecell/lib/python3.11/site-packages/rapids_singlecell/preprocessing/_pca.py:118\u001b[0m, in \u001b[0;36mpca\u001b[0;34m(***failed resolving arguments***)\u001b[0m\n\u001b[1;32m    116\u001b[0m mask_var_param, mask_var \u001b[38;5;241m=\u001b[39m _handle_mask_var(adata, mask_var, use_highly_variable)\n\u001b[1;32m    117\u001b[0m \u001b[38;5;28;01mdel\u001b[39;00m use_highly_variable\n\u001b[0;32m--> 118\u001b[0m X \u001b[38;5;241m=\u001b[39m \u001b[43mX\u001b[49m\u001b[43m[\u001b[49m\u001b[43m:\u001b[49m\u001b[43m,\u001b[49m\u001b[43m \u001b[49m\u001b[43mmask_var\u001b[49m\u001b[43m]\u001b[49m \u001b[38;5;28;01mif\u001b[39;00m mask_var \u001b[38;5;129;01mis\u001b[39;00m \u001b[38;5;129;01mnot\u001b[39;00m \u001b[38;5;28;01mNone\u001b[39;00m \u001b[38;5;28;01melse\u001b[39;00m X\n\u001b[1;32m    120\u001b[0m \u001b[38;5;28;01mif\u001b[39;00m svd_solver \u001b[38;5;129;01mis\u001b[39;00m \u001b[38;5;28;01mNone\u001b[39;00m:\n\u001b[1;32m    121\u001b[0m     svd_solver \u001b[38;5;241m=\u001b[39m \u001b[38;5;124m\"\u001b[39m\u001b[38;5;124mauto\u001b[39m\u001b[38;5;124m\"\u001b[39m\n",
      "File \u001b[0;32mcupy/_core/core.pyx:1521\u001b[0m, in \u001b[0;36mcupy._core.core._ndarray_base.__getitem__\u001b[0;34m()\u001b[0m\n",
      "File \u001b[0;32mcupy/_core/_routines_indexing.pyx:40\u001b[0m, in \u001b[0;36mcupy._core._routines_indexing._ndarray_getitem\u001b[0;34m()\u001b[0m\n",
      "File \u001b[0;32mcupy/_core/_routines_indexing.pyx:768\u001b[0m, in \u001b[0;36mcupy._core._routines_indexing._getitem_mask_single\u001b[0;34m()\u001b[0m\n",
      "File \u001b[0;32mcupy/_core/_routines_indexing.pyx:758\u001b[0m, in \u001b[0;36mcupy._core._routines_indexing._prepare_mask_indexing_single\u001b[0;34m()\u001b[0m\n",
      "File \u001b[0;32mcupy/_core/_routines_math.pyx:455\u001b[0m, in \u001b[0;36mcupy._core._routines_math.scan\u001b[0;34m()\u001b[0m\n",
      "File \u001b[0;32mcupy/_core/core.pyx:2806\u001b[0m, in \u001b[0;36mcupy._core.core._ndarray_init\u001b[0;34m()\u001b[0m\n",
      "File \u001b[0;32mcupy/_core/core.pyx:237\u001b[0m, in \u001b[0;36mcupy._core.core._ndarray_base._init_fast\u001b[0;34m()\u001b[0m\n",
      "File \u001b[0;32mcupy/cuda/memory.pyx:738\u001b[0m, in \u001b[0;36mcupy.cuda.memory.alloc\u001b[0;34m()\u001b[0m\n",
      "File \u001b[0;32m/usr/local/apps/rapids-singlecell/mamba/envs/rapids_singlecell/lib/python3.11/site-packages/rmm/allocators/cupy.py:37\u001b[0m, in \u001b[0;36mrmm_cupy_allocator\u001b[0;34m(nbytes)\u001b[0m\n\u001b[1;32m     34\u001b[0m     \u001b[38;5;28;01mraise\u001b[39;00m \u001b[38;5;167;01mModuleNotFoundError\u001b[39;00m(\u001b[38;5;124m\"\u001b[39m\u001b[38;5;124mNo module named \u001b[39m\u001b[38;5;124m'\u001b[39m\u001b[38;5;124mcupy\u001b[39m\u001b[38;5;124m'\u001b[39m\u001b[38;5;124m\"\u001b[39m)\n\u001b[1;32m     36\u001b[0m stream \u001b[38;5;241m=\u001b[39m Stream(obj\u001b[38;5;241m=\u001b[39mcupy\u001b[38;5;241m.\u001b[39mcuda\u001b[38;5;241m.\u001b[39mget_current_stream())\n\u001b[0;32m---> 37\u001b[0m buf \u001b[38;5;241m=\u001b[39m \u001b[43mlibrmm\u001b[49m\u001b[38;5;241;43m.\u001b[39;49m\u001b[43mdevice_buffer\u001b[49m\u001b[38;5;241;43m.\u001b[39;49m\u001b[43mDeviceBuffer\u001b[49m\u001b[43m(\u001b[49m\u001b[43msize\u001b[49m\u001b[38;5;241;43m=\u001b[39;49m\u001b[43mnbytes\u001b[49m\u001b[43m,\u001b[49m\u001b[43m \u001b[49m\u001b[43mstream\u001b[49m\u001b[38;5;241;43m=\u001b[39;49m\u001b[43mstream\u001b[49m\u001b[43m)\u001b[49m\n\u001b[1;32m     38\u001b[0m dev_id \u001b[38;5;241m=\u001b[39m \u001b[38;5;241m-\u001b[39m\u001b[38;5;241m1\u001b[39m \u001b[38;5;28;01mif\u001b[39;00m buf\u001b[38;5;241m.\u001b[39mptr \u001b[38;5;28;01melse\u001b[39;00m cupy\u001b[38;5;241m.\u001b[39mcuda\u001b[38;5;241m.\u001b[39mdevice\u001b[38;5;241m.\u001b[39mget_device_id()\n\u001b[1;32m     39\u001b[0m mem \u001b[38;5;241m=\u001b[39m cupy\u001b[38;5;241m.\u001b[39mcuda\u001b[38;5;241m.\u001b[39mUnownedMemory(\n\u001b[1;32m     40\u001b[0m     ptr\u001b[38;5;241m=\u001b[39mbuf\u001b[38;5;241m.\u001b[39mptr, size\u001b[38;5;241m=\u001b[39mbuf\u001b[38;5;241m.\u001b[39msize, owner\u001b[38;5;241m=\u001b[39mbuf, device_id\u001b[38;5;241m=\u001b[39mdev_id\n\u001b[1;32m     41\u001b[0m )\n",
      "File \u001b[0;32mdevice_buffer.pyx:85\u001b[0m, in \u001b[0;36mrmm._lib.device_buffer.DeviceBuffer.__cinit__\u001b[0;34m()\u001b[0m\n",
      "\u001b[0;31mMemoryError\u001b[0m: std::bad_alloc: out_of_memory: CUDA error at: /opt/conda/conda-bld/work/include/rmm/mr/device/cuda_memory_resource.hpp:60: cudaErrorMemoryAllocation out of memory"
     ]
    }
   ],
   "source": [
    "rsc.pp.pca(andata, n_comps=15,random_state=1337)"
   ]
  },
  {
   "cell_type": "code",
   "execution_count": 25,
   "id": "ab160d66-e34e-4a33-84af-748999eddf62",
   "metadata": {},
   "outputs": [],
   "source": [
    "rsc.pp.neighbors(andata,n_pcs=15,use_rep='X_pca',n_neighbors=45)\n",
    "rsc.tl.leiden(andata,random_state=1337,resolution=1,key_added='cluster') "
   ]
  },
  {
   "cell_type": "code",
   "execution_count": 75,
   "id": "4159c7d8-6555-47df-a49a-ebc6d827bc9a",
   "metadata": {},
   "outputs": [
    {
     "data": {
      "text/plain": [
       "AnnData object with n_obs × n_vars = 705298 × 4623\n",
       "    obs: 'n_genes_by_counts', 'total_counts', 'log1p_n_genes_by_counts', 'log1p_total_counts', 'total_counts_MT', 'pct_counts_MT', 'log1p_total_counts_MT', 'cell_centroid_x', 'cell_centroid_y', 'cell_area', 'nucleus_centroid_x', 'nucleus_centroid_y', 'nucleus_area', 'z_level', 'nucleus_count'\n",
       "    var: 'gene_ids', 'feature_types', 'genome', 'MT', 'n_cells_by_counts', 'total_counts', 'mean_counts', 'pct_dropout_by_counts', 'log1p_total_counts', 'log1p_mean_counts'\n",
       "    uns: 'config'\n",
       "    obsm: 'spatial'\n",
       "    layers: 'counts'"
      ]
     },
     "execution_count": 75,
     "metadata": {},
     "output_type": "execute_result"
    }
   ],
   "source": [
    "andata"
   ]
  },
  {
   "cell_type": "code",
   "execution_count": 76,
   "id": "26057a2d-5f5f-40dd-aa18-271fc66cb1e0",
   "metadata": {},
   "outputs": [],
   "source": [
    "testan = andata.copy()\n",
    "sc.pp.subsample(testan, n_obs=100)"
   ]
  },
  {
   "cell_type": "code",
   "execution_count": 103,
   "id": "933111c1-2783-4296-b654-cae4b0f1e2cd",
   "metadata": {},
   "outputs": [],
   "source": [
    "df = pd.DataFrame({'total_counts':testan.obs['total_counts'],'x':testan.obsm['spatial'][:,0],'y':testan.obsm['spatial'][:,1]})"
   ]
  },
  {
   "cell_type": "code",
   "execution_count": 125,
   "id": "bb80be2b-02e8-46a8-a6be-93041a3211f9",
   "metadata": {
    "scrolled": true
   },
   "outputs": [
    {
     "data": {
      "image/png": "[encoded data removed]",
      "text/plain": [
       "<Figure size 500x500 with 1 Axes>"
      ]
     },
     "metadata": {},
     "output_type": "display_data"
    }
   ],
   "source": [
    "import matplotlib.pyplot as plt\n",
    "import pandas as pd\n",
    "from matplotlib.colors import ListedColormap\n",
    "import seaborn as sns\n",
    "\n",
    "# Sample DataFrame\n",
    "data = {\n",
    "    'x': [1, 2, 3, 4, 5],\n",
    "    'y': [1, 2, 3, 4, 5],\n",
    "    'total_counts': [10, 50, 30, 40, 20]\n",
    "}\n",
    "df = pd.DataFrame(data)\n",
    "\n",
    "# Create a blue gradient palette\n",
    "palette = sns.color_palette(\"Blues\", as_cmap=True)\n",
    "listed_cmap = ListedColormap(palette(np.linspace(0, 1, 256)))\n",
    "\n",
    "# Plot using Matplotlib\n",
    "fig, ax = plt.subplots(figsize=(5, 5))\n",
    "sc = ax.scatter(x=df['x'], y=df['y'], c=df['total_counts'], cmap=listed_cmap)\n",
    "\n",
    "# Add color bar with title\n",
    "cbar = fig.colorbar(sc)\n",
    "#cbar.set_label('Total Count', fontsize=12)\n",
    "\n",
    "# Automatically set tick locations and labels\n",
    "locator = MaxNLocator(nbins=5)\n",
    "cbar.locator = locator\n",
    "cbar.update_ticks()\n",
    "\n",
    "# Explicitly set tick labels to ensure they show\n",
    "ticks = cbar.get_ticks()\n",
    "cbar.set_ticks(ticks)\n",
    "cbar.set_ticklabels([f'{int(tick)}' for tick in ticks])\n",
    "\n",
    "# Remove ticks and labels from the main plot\n",
    "ax.set_xticks([])\n",
    "ax.set_yticks([])\n",
    "ax.set_xlabel('')\n",
    "ax.set_ylabel('')\n",
    "\n",
    "plt.show()\n"
   ]
  },
  {
   "cell_type": "code",
   "execution_count": 126,
   "id": "d1ece8d6-ff2c-4912-abe4-00495d43cc74",
   "metadata": {},
   "outputs": [
    {
     "data": {
      "text/plain": [
       "AnnData object with n_obs × n_vars = 705298 × 4623\n",
       "    obs: 'n_genes_by_counts', 'total_counts', 'log1p_n_genes_by_counts', 'log1p_total_counts', 'total_counts_MT', 'pct_counts_MT', 'log1p_total_counts_MT', 'cell_centroid_x', 'cell_centroid_y', 'cell_area', 'nucleus_centroid_x', 'nucleus_centroid_y', 'nucleus_area', 'z_level', 'nucleus_count'\n",
       "    var: 'gene_ids', 'feature_types', 'genome', 'MT', 'n_cells_by_counts', 'total_counts', 'mean_counts', 'pct_dropout_by_counts', 'log1p_total_counts', 'log1p_mean_counts'\n",
       "    uns: 'config'\n",
       "    obsm: 'spatial'\n",
       "    layers: 'counts'"
      ]
     },
     "execution_count": 126,
     "metadata": {},
     "output_type": "execute_result"
    }
   ],
   "source": [
    "andata"
   ]
  },
  {
   "cell_type": "code",
   "execution_count": 90,
   "id": "92294264-1ad0-4c9e-b2a9-92cf0b8022f3",
   "metadata": {},
   "outputs": [],
   "source": [
    "def spatial_data_gen(andata):\n",
    "    return pd.DataFrame({'total_counts':andata.obs['total_counts'],'x':andata.obsm['spatial'][:,0],'y':andata.obsm['spatial'][:,1]})\n"
   ]
  },
  {
   "cell_type": "code",
   "execution_count": 91,
   "id": "581bf03e-0a6c-486e-a674-4c1345956343",
   "metadata": {},
   "outputs": [],
   "source": [
    "df = spatial_data_gen(andata)"
   ]
  },
  {
   "cell_type": "code",
   "execution_count": 98,
   "id": "f05a2b0e-5e97-45bc-a923-32db81d3cf0c",
   "metadata": {},
   "outputs": [
    {
     "data": {
      "image/png": "[encoded data removed]",
      "text/plain": [
       "<Figure size 500x400 with 2 Axes>"
      ]
     },
     "metadata": {},
     "output_type": "display_data"
    }
   ],
   "source": [
    "custom_params = {\n",
    "    \"xtick.labelsize\": 0,      # Remove x-axis tick labels\n",
    "    \"ytick.labelsize\": 0,      # Remove y-axis tick labels\n",
    "    \"axes.labelsize\": 0,       # Remove axis labels\n",
    "    \"xtick.major.size\": 0,     # Remove x-axis major ticks\n",
    "    \"xtick.minor.size\": 0,     # Remove x-axis minor ticks\n",
    "    \"ytick.major.size\": 0,     # Remove y-axis major ticks\n",
    "    \"ytick.minor.size\": 0      # Remove y-axis minor ticks\n",
    "}\n",
    "\n",
    "# Set the theme with custom parameters\n",
    "sns.set_theme(style=\"whitegrid\", palette=\"pastel\", rc=custom_params)\n",
    "\n",
    "fig, ax = plt.subplots(figsize=(5, 4))\n",
    "scatter = sns.scatterplot(s=1, ax=ax, x='x', y='y', hue='total_counts', data=df, palette='Blues', legend=False)\n",
    "\n",
    "# Normalize the color scale\n",
    "norm = plt.Normalize(df['total_counts'].min(), df['total_counts'].max())\n",
    "sm = plt.cm.ScalarMappable(cmap=\"Blues\", norm=norm)\n",
    "sm.set_array([])\n",
    "\n",
    "cbar = fig.colorbar(sm, ax=ax)\n",
    "cbar.ax.set_title('Total Count', fontsize=12)\n",
    "\n",
    "# Automatically set tick locations and labels\n",
    "locator = MaxNLocator(nbins=5)  # Adjust the number of bins/ticks as desired\n",
    "cbar.locator = locator\n",
    "cbar.update_ticks()\n",
    "\n",
    "# Optionally, explicitly set the tick labels (to ensure they are shown)\n",
    "cbar.ax.yaxis.set_major_locator(locator)\n",
    "cbar.ax.yaxis.set_major_formatter(plt.FuncFormatter(lambda val, _: f'{int(val)}'))\n",
    "\n",
    "# Remove ticks and labels\n",
    "ax.set_xticks([])\n",
    "ax.set_yticks([])\n",
    "ax.set_xlabel('')\n",
    "ax.set_ylabel('')\n",
    "\n",
    "plt.show()"
   ]
  },
  {
   "cell_type": "code",
   "execution_count": 102,
   "id": "51e6450d-ed86-446b-8908-b5a66509e1ff",
   "metadata": {},
   "outputs": [
    {
     "name": "stdout",
     "output_type": "stream",
     "text": [
      "Colorbar ticks: [ 8. 16. 24. 32. 40. 48. 56.]\n",
      "Colorbar tick labels: [Text(1, 8.0, '8'), Text(1, 16.0, '16'), Text(1, 24.0, '24'), Text(1, 32.0, '32'), Text(1, 40.0, '40'), Text(1, 48.0, '48'), Text(1, 56.0, '56')]\n"
     ]
    },
    {
     "data": {
      "image/png": "[encoded data removed]",
      "text/plain": [
       "<Figure size 500x400 with 2 Axes>"
      ]
     },
     "metadata": {},
     "output_type": "display_data"
    }
   ],
   "source": [
    "import seaborn as sns\n",
    "import matplotlib.pyplot as plt\n",
    "import pandas as pd\n",
    "from matplotlib.ticker import MaxNLocator\n",
    "\n",
    "# Sample DataFrame\n",
    "data = {\n",
    "    'x': [1, 2, 3, 4, 5],\n",
    "    'y': [1, 2, 3, 4, 5],\n",
    "    'total_counts': [10, 50, 30, 40, 20]\n",
    "}\n",
    "df = pd.DataFrame(data)\n",
    "\n",
    "# Define custom parameters to remove ticks and labels\n",
    "custom_params = {\n",
    "    \"xtick.labelsize\": 0,      # Remove x-axis tick labels\n",
    "    \"ytick.labelsize\": 0,      # Remove y-axis tick labels\n",
    "    \"axes.labelsize\": 0,       # Remove axis labels\n",
    "    \"xtick.major.size\": 0,     # Remove x-axis major ticks\n",
    "    \"xtick.minor.size\": 0,     # Remove x-axis minor ticks\n",
    "    \"ytick.major.size\": 0,     # Remove y-axis major ticks\n",
    "    \"ytick.minor.size\": 0      # Remove y-axis minor ticks\n",
    "}\n",
    "\n",
    "# Set the theme with custom parameters\n",
    "sns.set_theme(style=\"whitegrid\", palette=\"pastel\", rc=custom_params)\n",
    "\n",
    "fig, ax = plt.subplots(figsize=(5, 4))\n",
    "scatter = sns.scatterplot(s=100, ax=ax, x='x', y='y', hue='total_counts', data=df, palette='Blues', legend=False)\n",
    "\n",
    "# Normalize the color scale\n",
    "norm = plt.Normalize(df['total_counts'].min(), df['total_counts'].max())\n",
    "sm = plt.cm.ScalarMappable(cmap=\"Blues\", norm=norm)\n",
    "sm.set_array([])\n",
    "\n",
    "# Add color bar with title\n",
    "cbar = fig.colorbar(sm, ax=ax)\n",
    "cbar.ax.set_title('Total Count', fontsize=12)\n",
    "\n",
    "# Automatically set tick locations and labels\n",
    "locator = MaxNLocator(nbins=4)  # Adjust the number of bins/ticks as desired\n",
    "cbar.locator = locator\n",
    "cbar.update_ticks()\n",
    "\n",
    "# Explicitly set tick labels to ensure they show\n",
    "ticks = cbar.get_ticks()\n",
    "cbar.set_ticks(ticks)\n",
    "cbar.set_ticklabels([f'{int(tick)}' for tick in ticks])\n",
    "\n",
    "# Print the ticks to debug\n",
    "print(\"Colorbar ticks:\", cbar.get_ticks())\n",
    "print(\"Colorbar tick labels:\", cbar.ax.get_yticklabels())\n",
    "\n",
    "# Remove ticks and labels from the main plot\n",
    "ax.set_xticks([])\n",
    "ax.set_yticks([])\n",
    "ax.set_xlabel('')\n",
    "ax.set_ylabel('')\n",
    "\n",
    "plt.show()\n"
   ]
  },
  {
   "cell_type": "code",
   "execution_count": null,
   "id": "494de6ba-cf27-4615-bfa4-e809dc3cc92c",
   "metadata": {},
   "outputs": [],
   "source": []
  }
 ],
 "metadata": {
  "kernelspec": {
   "display_name": "Python 3 (ipykernel)",
   "language": "python",
   "name": "python3"
  },
  "language_info": {
   "codemirror_mode": {
    "name": "ipython",
    "version": 3
   },
   "file_extension": ".py",
   "mimetype": "text/x-python",
   "name": "python",
   "nbconvert_exporter": "python",
   "pygments_lexer": "ipython3",
   "version": "3.11.9"
  }
 },
 "nbformat": 4,
 "nbformat_minor": 5
}
