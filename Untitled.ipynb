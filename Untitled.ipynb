{
 "cells": [
  {
   "cell_type": "code",
   "execution_count": 1,
   "id": "4f343e49-146f-4d5d-aab2-4883ef1b0a55",
   "metadata": {},
   "outputs": [],
   "source": [
    "import cupy as cp\n",
    "import cupyx\n",
    "import scanpy as sc\n",
    "import scanpy as sc\n",
    "import numpy as np\n",
    "from cupyx.scipy.sparse import csr_matrix\n",
    "import os\n",
    "from PIL import Image\n",
    "import matplotlib.pyplot as plt\n",
    "from matplotlib.colors import ListedColormap\n",
    "from matplotlib.colors import LinearSegmentedColormap\n",
    "from matplotlib.backends.backend_pdf import PdfPages\n",
    "import seaborn as sns\n",
    "import random\n",
    "import pandas as pd\n",
    "import voyagerpy as vp\n",
    "import geopandas as gpd\n",
    "import libpysal as lps\n",
    "from collections import OrderedDict\n",
    "import scipy.sparse as sp"
   ]
  },
  {
   "cell_type": "code",
   "execution_count": 3,
   "id": "5d6a04a0-2dea-41f6-bdf7-091dac648973",
   "metadata": {},
   "outputs": [],
   "source": [
    "path_016 = \"/data/kanferg/Sptial_Omics/playGround/Data/Visium_HD_Human_Colon_Cancer_binned_outputs/binned_outputs/square_016um\"\n",
    "pathout = \"/data/kanferg/Sptial_Omics/SpatialOmicsToolkit/out_2\"\n",
    "andata = sc.read_h5ad(os.path.join(pathout, \"andata_save_colon.h5ad\"))\n",
    "andata.uns['config'] = OrderedDict()\n",
    "andata.uns['config'] = OrderedDict()\n",
    "andata.uns[\"config\"][\"secondary_var_names\"] = andata.var_names\n",
    "\n",
    "import os\n",
    "import pickle\n",
    "\n",
    "file_path = os.path.join(pathout, \"andata_uns_mtracies__colon.pkl\")\n",
    "\n",
    "if os.path.getsize(file_path) > 0:\n",
    "    with open(file_path, 'rb') as buff:\n",
    "        andata_uns_mtracies = pickle.load(buff)\n",
    "else:\n",
    "    print(\"File is empty. Cannot load data.\")\n",
    "    andata_uns_mtracies = None"
   ]
  },
  {
   "cell_type": "code",
   "execution_count": 4,
   "id": "af1628f0-0d51-47d9-b5ba-c19d01c73db2",
   "metadata": {},
   "outputs": [],
   "source": [
    "andata.uns['clusterColorMap'] = andata_uns_mtracies['clusterColorMap']\n",
    "andata.uns['rank_genes_groups'] = andata_uns_mtracies['rank_genes_groups']"
   ]
  },
  {
   "cell_type": "code",
   "execution_count": 5,
   "id": "08af062d-b1a4-4c0c-b139-7177fbfc4530",
   "metadata": {},
   "outputs": [],
   "source": [
    "from scipy.sparse import csr_matrix\n",
    "andata_sub = andata.copy()\n",
    "andata_sub.X = csr_matrix(andata_sub.X)\n",
    "andata_sub = sc.pp.subsample(andata_sub, n_obs=7000,copy=True)"
   ]
  },
  {
   "cell_type": "code",
   "execution_count": 6,
   "id": "fc2c8a96-08b6-4a64-84f2-937bbd03f148",
   "metadata": {},
   "outputs": [],
   "source": [
    "# andata_sub.obs.index = np.arange(len(andata_sub.obs.index))\n",
    "# andata_sub.obs_names = andata_sub.obs_names.astype(str)\n",
    "scale = 1\n",
    "visium_spots = gpd.GeoSeries.from_xy(andata_sub.obsm['spatial'][:,0], andata_sub.obsm['spatial'][:,1]).scale(scale, scale, origin=(0, 0))\n",
    "_ = vp.spatial.set_geometry(andata_sub, geom=\"spot_poly\", values=visium_spots)"
   ]
  },
  {
   "cell_type": "code",
   "execution_count": 7,
   "id": "27ce9159-5c3b-4514-8984-71e595bbcb70",
   "metadata": {},
   "outputs": [],
   "source": [
    "andata_sub.X = andata_sub.layers['log']\n",
    "sc.pp.scale(andata_sub, max_value=10)"
   ]
  },
  {
   "cell_type": "code",
   "execution_count": 8,
   "id": "f2e44617-0d9f-4ef0-b594-0db65cf07b5d",
   "metadata": {},
   "outputs": [],
   "source": [
    "sc.pp.pca(andata_sub, n_comps=15)"
   ]
  },
  {
   "cell_type": "code",
   "execution_count": 9,
   "id": "c08f50a4-1638-4ac4-b76f-4d2def904617",
   "metadata": {},
   "outputs": [],
   "source": [
    "sc.pp.neighbors(\n",
    "    andata_sub,\n",
    "    n_neighbors=25,\n",
    "    n_pcs=15,\n",
    "    use_rep='X_pca',\n",
    "    knn=True,\n",
    "    random_state=29403943,\n",
    "    method='umap', # one of umap, gauss, rapids\n",
    "    metric='cosine', # many metrics available,\n",
    "    key_added='knn'\n",
    ")"
   ]
  },
  {
   "cell_type": "code",
   "execution_count": 12,
   "id": "3fbdb85c-78fc-4986-a666-305bf13e4009",
   "metadata": {},
   "outputs": [],
   "source": [
    "sparse_dist_matrix = andata_sub.obsp['knn_distances'].tocsr()\n",
    "sparse_inv_matrix = sparse_dist_matrix.copy()\n",
    "sparse_inv_matrix.data = 1 / sparse_inv_matrix.data\n",
    "sparse_inv_matrix.data[sparse_inv_matrix.data == float('inf')] = 0\n",
    "# Convert the sparse matrix to COOrdinate format\n",
    "sparse_inv_matrix_coo = sparse_inv_matrix.tocoo()\n",
    "\n",
    "# Extract the row (focal) and column (neighbor) indices of non-zero entries\n",
    "focal = sparse_inv_matrix_coo.row\n",
    "neighbors = sparse_inv_matrix_coo.col\n",
    "\n",
    "# focal = focal.get()\n",
    "# neighbors = neighbors.get() \n",
    "\n",
    "idx = np.array(andata.obs_names,dtype=str) # Assuming this is a pandas Index or a list-like structure\n",
    "\n",
    "# Convert sparse matrix values to a 1D array explicitly\n",
    "weights = sparse_inv_matrix_coo.data\n",
    "# weights = weights.get()\n",
    "\n",
    "\n",
    "\n",
    "# Create a DataFrame with focal, neighbor, and weight information\n",
    "graph_df = pd.DataFrame({\n",
    "    \"focal\": idx[focal],\n",
    "    \"neighbor\": idx[neighbors],\n",
    "    \"weight\": weights  # The actual non-zero values (inverted distances)\n",
    "})\n",
    "\n",
    "# Display the DataFrame to check\n",
    "graph_df.head()\n",
    "\n",
    "graph_df_filtered = graph_df[graph_df['weight'] != 0]"
   ]
  },
  {
   "cell_type": "code",
   "execution_count": 13,
   "id": "f1a6f881-2204-4266-9824-26e5c041f04a",
   "metadata": {},
   "outputs": [],
   "source": [
    "W = lps.weights.W.from_adjlist(graph_df_filtered)\n",
    "W.set_transform(\"r\")"
   ]
  },
  {
   "cell_type": "code",
   "execution_count": 15,
   "id": "0e47c257-fa98-4510-b48c-46ca8e556fac",
   "metadata": {},
   "outputs": [],
   "source": [
    "andata_sub.obsp[\"knn_weights\"] = sparse_inv_matrix"
   ]
  },
  {
   "cell_type": "code",
   "execution_count": 17,
   "id": "0f916b25-7934-4c1c-9df7-d86464f24374",
   "metadata": {},
   "outputs": [],
   "source": [
    "vp.spatial.set_default_graph(andata_sub, \"knn_weights\")"
   ]
  },
  {
   "cell_type": "code",
   "execution_count": 20,
   "id": "470a79ee-973c-4b5d-9744-ff1f63a84993",
   "metadata": {},
   "outputs": [],
   "source": [
    "andata_sub.uns.setdefault(\"spatial\", {})\n",
    "andata_sub.uns[\"spatial\"][\"knn_weights\"] = W"
   ]
  },
  {
   "cell_type": "code",
   "execution_count": 21,
   "id": "5eb0d3fd-1641-43a6-b721-654246328a01",
   "metadata": {},
   "outputs": [
    {
     "data": {
      "text/html": [
       "<div>\n",
       "<style scoped>\n",
       "    .dataframe tbody tr th:only-of-type {\n",
       "        vertical-align: middle;\n",
       "    }\n",
       "\n",
       "    .dataframe tbody tr th {\n",
       "        vertical-align: top;\n",
       "    }\n",
       "\n",
       "    .dataframe thead th {\n",
       "        text-align: right;\n",
       "    }\n",
       "</style>\n",
       "<table border=\"1\" class=\"dataframe\">\n",
       "  <thead>\n",
       "    <tr style=\"text-align: right;\">\n",
       "      <th></th>\n",
       "      <th>I</th>\n",
       "    </tr>\n",
       "  </thead>\n",
       "  <tbody>\n",
       "    <tr>\n",
       "      <th>total_counts</th>\n",
       "      <td>-0.002896</td>\n",
       "    </tr>\n",
       "  </tbody>\n",
       "</table>\n",
       "</div>"
      ],
      "text/plain": [
       "                     I\n",
       "total_counts -0.002896"
      ]
     },
     "execution_count": 21,
     "metadata": {},
     "output_type": "execute_result"
    }
   ],
   "source": [
    "qc_features = [\"total_counts\"]\n",
    "morans = vp.spatial.moran(andata_sub, qc_features, graph_name=\"knn_weights\")\n",
    "andata_sub.uns['spatial']['moran'][\"knn_weights\"].loc[qc_features, [\"I\"]]"
   ]
  },
  {
   "cell_type": "code",
   "execution_count": 27,
   "id": "b3958a44-f1d0-4139-83c0-f387d70d797b",
   "metadata": {},
   "outputs": [
    {
     "data": {
      "text/plain": [
       "AnnData object with n_obs × n_vars = 7000 × 1500\n",
       "    obs: 'n_genes_by_counts', 'total_counts', 'log1p_n_genes_by_counts', 'log1p_total_counts', 'total_counts_MT', 'pct_counts_MT', 'log1p_total_counts_MT', 'cluster', 'lagged_total_counts'\n",
       "    var: 'gene_ids', 'feature_types', 'genome', 'MT', 'n_cells_by_counts', 'total_counts', 'mean_counts', 'pct_dropout_by_counts', 'log1p_total_counts', 'log1p_mean_counts', 'highly_variable', 'highly_variable_rank', 'means', 'variances', 'variances_norm', 'mean', 'std'\n",
       "    uns: 'config', 'clusterColorMap', 'rank_genes_groups', 'pca', 'knn', 'spatial'\n",
       "    obsm: 'X_pca', 'spatial', 'geometry'\n",
       "    varm: 'PCs'\n",
       "    layers: 'counts', 'log'\n",
       "    obsp: 'knn_distances', 'knn_connectivities', 'knn_weights'"
      ]
     },
     "execution_count": 27,
     "metadata": {},
     "output_type": "execute_result"
    }
   ],
   "source": [
    "vp.spatial.compute_spatial_lag(\n",
    "    andata_sub,\n",
    "    qc_features,\n",
    "    graph_name=\"knn_weights\",\n",
    "    inplace=True\n",
    ")"
   ]
  },
  {
   "cell_type": "code",
   "execution_count": 28,
   "id": "0ce8af33-a25f-44bb-b5fd-b5ef1bb4a047",
   "metadata": {},
   "outputs": [
    {
     "data": {
      "image/png": "[encoded data removed]",
      "text/plain": [
       "<Figure size 640x480 with 2 Axes>"
      ]
     },
     "metadata": {},
     "output_type": "display_data"
    }
   ],
   "source": [
    "ax = vp.plt.moran_plot(andata_sub, feature=\"total_counts\", color_by='cluster', alpha=0.8,s = 3)"
   ]
  },
  {
   "cell_type": "code",
   "execution_count": 29,
   "id": "870cc57b-db56-436f-aebc-2c97bad26dc7",
   "metadata": {},
   "outputs": [
    {
     "data": {
      "text/plain": [
       "AnnData object with n_obs × n_vars = 7000 × 1500\n",
       "    obs: 'n_genes_by_counts', 'total_counts', 'log1p_n_genes_by_counts', 'log1p_total_counts', 'total_counts_MT', 'pct_counts_MT', 'log1p_total_counts_MT', 'cluster', 'lagged_total_counts'\n",
       "    var: 'gene_ids', 'feature_types', 'genome', 'MT', 'n_cells_by_counts', 'total_counts', 'mean_counts', 'pct_dropout_by_counts', 'log1p_total_counts', 'log1p_mean_counts', 'highly_variable', 'highly_variable_rank', 'means', 'variances', 'variances_norm', 'mean', 'std'\n",
       "    uns: 'config', 'clusterColorMap', 'rank_genes_groups', 'pca', 'knn', 'spatial'\n",
       "    obsm: 'X_pca', 'spatial', 'geometry'\n",
       "    varm: 'PCs'\n",
       "    layers: 'counts', 'log'\n",
       "    obsp: 'knn_distances', 'knn_connectivities', 'knn_weights'"
      ]
     },
     "execution_count": 29,
     "metadata": {},
     "output_type": "execute_result"
    }
   ],
   "source": [
    "andata_sub"
   ]
  },
  {
   "cell_type": "code",
   "execution_count": 32,
   "id": "71bca214-c113-4f14-a277-33f30b88b1f9",
   "metadata": {},
   "outputs": [
    {
     "data": {
      "text/plain": [
       "s_016um_00018_00208-1    6.828182e+05\n",
       "s_016um_00185_00137-1    5.522218e+05\n",
       "s_016um_00336_00316-1    2.959895e+07\n",
       "s_016um_00281_00315-1    2.103894e+07\n",
       "s_016um_00205_00402-1    2.344588e+06\n",
       "                             ...     \n",
       "s_016um_00011_00271-1    5.761822e+05\n",
       "s_016um_00230_00000-1    9.374627e+05\n",
       "s_016um_00287_00017-1    6.336291e+05\n",
       "s_016um_00297_00225-1    2.090400e+07\n",
       "s_016um_00128_00199-1    4.049524e+05\n",
       "Name: lagged_total_counts, Length: 7000, dtype: float64"
      ]
     },
     "execution_count": 32,
     "metadata": {},
     "output_type": "execute_result"
    }
   ],
   "source": [
    "andata_sub.obs['lagged_total_counts']"
   ]
  },
  {
   "cell_type": "code",
   "execution_count": 33,
   "id": "fc9315db-7562-458d-9f7c-9ead7081196e",
   "metadata": {},
   "outputs": [
    {
     "ename": "KeyError",
     "evalue": "'connectivities'",
     "output_type": "error",
     "traceback": [
      "\u001b[0;31m---------------------------------------------------------------------------\u001b[0m",
      "\u001b[0;31mKeyError\u001b[0m                                  Traceback (most recent call last)",
      "Cell \u001b[0;32mIn[33], line 1\u001b[0m\n\u001b[0;32m----> 1\u001b[0m ax \u001b[38;5;241m=\u001b[39m \u001b[43mvp\u001b[49m\u001b[38;5;241;43m.\u001b[39;49m\u001b[43mplt\u001b[49m\u001b[38;5;241;43m.\u001b[39;49m\u001b[43mmoran_plot\u001b[49m\u001b[43m(\u001b[49m\u001b[43mandata\u001b[49m\u001b[43m,\u001b[49m\u001b[43m \u001b[49m\u001b[43mfeature\u001b[49m\u001b[38;5;241;43m=\u001b[39;49m\u001b[38;5;124;43m\"\u001b[39;49m\u001b[38;5;124;43mtotal_counts\u001b[39;49m\u001b[38;5;124;43m\"\u001b[39;49m\u001b[43m,\u001b[49m\u001b[43m \u001b[49m\u001b[43mcolor_by\u001b[49m\u001b[38;5;241;43m=\u001b[39;49m\u001b[38;5;124;43m'\u001b[39;49m\u001b[38;5;124;43mcluster\u001b[39;49m\u001b[38;5;124;43m'\u001b[39;49m\u001b[43m,\u001b[49m\u001b[43m \u001b[49m\u001b[43malpha\u001b[49m\u001b[38;5;241;43m=\u001b[39;49m\u001b[38;5;241;43m0.8\u001b[39;49m\u001b[43m,\u001b[49m\u001b[43ms\u001b[49m\u001b[43m \u001b[49m\u001b[38;5;241;43m=\u001b[39;49m\u001b[43m \u001b[49m\u001b[38;5;241;43m1\u001b[39;49m\u001b[43m)\u001b[49m\n",
      "File \u001b[0;32m/gpfs/gsfs10/users/kanferg/conda/envs/squidpy-voyagerpy/lib/python3.8/site-packages/voyagerpy/plotting/plot.py:2435\u001b[0m, in \u001b[0;36mmoran_plot\u001b[0;34m(adata, feature, graph_name, color_by, xlim, ylim, ax, contour_kwargs, show_symbol, ncol, legend, subplot_kwargs, layer, **scatter_kwargs)\u001b[0m\n\u001b[1;32m   2433\u001b[0m lagged_feature \u001b[38;5;241m=\u001b[39m \u001b[38;5;124mf\u001b[39m\u001b[38;5;124m\"\u001b[39m\u001b[38;5;124mlagged_\u001b[39m\u001b[38;5;132;01m{\u001b[39;00mfeature\u001b[38;5;132;01m}\u001b[39;00m\u001b[38;5;124m\"\u001b[39m\n\u001b[1;32m   2434\u001b[0m \u001b[38;5;28;01mif\u001b[39;00m lagged_feature \u001b[38;5;129;01mnot\u001b[39;00m \u001b[38;5;129;01min\u001b[39;00m adata\u001b[38;5;241m.\u001b[39mobs:\n\u001b[0;32m-> 2435\u001b[0m     \u001b[43mspatial\u001b[49m\u001b[38;5;241;43m.\u001b[39;49m\u001b[43mcompute_spatial_lag\u001b[49m\u001b[43m(\u001b[49m\u001b[43madata\u001b[49m\u001b[43m,\u001b[49m\u001b[43m \u001b[49m\u001b[43mfeature\u001b[49m\u001b[43m,\u001b[49m\u001b[43m \u001b[49m\u001b[43mgraph_name\u001b[49m\u001b[38;5;241;43m=\u001b[39;49m\u001b[43mgraph_name\u001b[49m\u001b[43m,\u001b[49m\u001b[43m \u001b[49m\u001b[43minplace\u001b[49m\u001b[38;5;241;43m=\u001b[39;49m\u001b[38;5;28;43;01mTrue\u001b[39;49;00m\u001b[43m)\u001b[49m\n\u001b[1;32m   2437\u001b[0m rc_context \u001b[38;5;241m=\u001b[39m {\n\u001b[1;32m   2438\u001b[0m     \u001b[38;5;124m\"\u001b[39m\u001b[38;5;124maxes.grid\u001b[39m\u001b[38;5;124m\"\u001b[39m: \u001b[38;5;28;01mTrue\u001b[39;00m,\n\u001b[1;32m   2439\u001b[0m     \u001b[38;5;124m\"\u001b[39m\u001b[38;5;124maxes.spines.bottom\u001b[39m\u001b[38;5;124m\"\u001b[39m: \u001b[38;5;28;01mTrue\u001b[39;00m,\n\u001b[0;32m   (...)\u001b[0m\n\u001b[1;32m   2442\u001b[0m     \u001b[38;5;124m\"\u001b[39m\u001b[38;5;124maxes.spines.right\u001b[39m\u001b[38;5;124m\"\u001b[39m: \u001b[38;5;28;01mTrue\u001b[39;00m,\n\u001b[1;32m   2443\u001b[0m }\n\u001b[1;32m   2445\u001b[0m y_label \u001b[38;5;241m=\u001b[39m \u001b[38;5;124mf\u001b[39m\u001b[38;5;124m\"\u001b[39m\u001b[38;5;124mSpatially lagged \u001b[39m\u001b[38;5;132;01m{\u001b[39;00mfeature\u001b[38;5;132;01m}\u001b[39;00m\u001b[38;5;124m\"\u001b[39m\n",
      "File \u001b[0;32m/gpfs/gsfs10/users/kanferg/conda/envs/squidpy-voyagerpy/lib/python3.8/site-packages/voyagerpy/spatial/spatial.py:1071\u001b[0m, in \u001b[0;36mcompute_spatial_lag\u001b[0;34m(adata, feature, graph_name, inplace, layer)\u001b[0m\n\u001b[1;32m   1068\u001b[0m     graph_name \u001b[38;5;241m=\u001b[39m get_default_graph(adata)\n\u001b[1;32m   1070\u001b[0m \u001b[38;5;28;01mif\u001b[39;00m \u001b[38;5;28misinstance\u001b[39m(graph_name, \u001b[38;5;28mstr\u001b[39m):\n\u001b[0;32m-> 1071\u001b[0m     dists \u001b[38;5;241m=\u001b[39m \u001b[43madata\u001b[49m\u001b[38;5;241;43m.\u001b[39;49m\u001b[43mobsp\u001b[49m\u001b[43m[\u001b[49m\u001b[43mgraph_name\u001b[49m\u001b[43m]\u001b[49m\n\u001b[1;32m   1072\u001b[0m \u001b[38;5;28;01melif\u001b[39;00m \u001b[38;5;28misinstance\u001b[39m(graph_name, np\u001b[38;5;241m.\u001b[39mndarray):\n\u001b[1;32m   1073\u001b[0m     dists \u001b[38;5;241m=\u001b[39m graph_name\n",
      "File \u001b[0;32m/gpfs/gsfs10/users/kanferg/conda/envs/squidpy-voyagerpy/lib/python3.8/site-packages/anndata/_core/aligned_mapping.py:178\u001b[0m, in \u001b[0;36mAlignedActualMixin.__getitem__\u001b[0;34m(self, key)\u001b[0m\n\u001b[1;32m    177\u001b[0m \u001b[38;5;28;01mdef\u001b[39;00m \u001b[38;5;21m__getitem__\u001b[39m(\u001b[38;5;28mself\u001b[39m, key: \u001b[38;5;28mstr\u001b[39m) \u001b[38;5;241m-\u001b[39m\u001b[38;5;241m>\u001b[39m V:\n\u001b[0;32m--> 178\u001b[0m     \u001b[38;5;28;01mreturn\u001b[39;00m \u001b[38;5;28;43mself\u001b[39;49m\u001b[38;5;241;43m.\u001b[39;49m\u001b[43m_data\u001b[49m\u001b[43m[\u001b[49m\u001b[43mkey\u001b[49m\u001b[43m]\u001b[49m\n",
      "\u001b[0;31mKeyError\u001b[0m: 'connectivities'"
     ]
    },
    {
     "data": {
      "image/png": "[encoded data removed]",
      "text/plain": [
       "<Figure size 640x480 with 2 Axes>"
      ]
     },
     "metadata": {},
     "output_type": "display_data"
    }
   ],
   "source": [
    "ax = vp.plt.moran_plot(andata, feature=\"total_counts\", color_by='cluster', alpha=0.8,s = 1)"
   ]
  },
  {
   "cell_type": "code",
   "execution_count": null,
   "id": "5b4bc1f4-324e-4d33-b5bb-44121d3d4757",
   "metadata": {},
   "outputs": [],
   "source": []
  }
 ],
 "metadata": {
  "kernelspec": {
   "display_name": "Python 3 (ipykernel)",
   "language": "python",
   "name": "python3"
  },
  "language_info": {
   "codemirror_mode": {
    "name": "ipython",
    "version": 3
   },
   "file_extension": ".py",
   "mimetype": "text/x-python",
   "name": "python",
   "nbconvert_exporter": "python",
   "pygments_lexer": "ipython3",
   "version": "3.8.19"
  }
 },
 "nbformat": 4,
 "nbformat_minor": 5
}
