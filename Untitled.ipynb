{
 "cells": [
  {
   "cell_type": "markdown",
   "id": "7dca516a-9344-443e-84c7-133896070da8",
   "metadata": {},
   "source": [
    "| File type                                | File and description                                                                                                                                                                         | Read in Xenium Explorer |\n",
    "|------------------------------------------|----------------------------------------------------------------------------------------------------------------------------------------------------------------------------------------------|-------------------------|\n",
    "| **Experiment file**                      | `experiment.xenium`: Experiment manifest file.                                                                                                                                               | Required                |\n",
    "| **Interactive summary**                  | `analysis_summary.html`: Summary metrics, graphs, and images to QC your run data in HTML format.                                                                                              |                         |\n",
    "| **Image files**                          | `morphology.ome.tif`: The 3D nuclei-stained (DAPI) morphology image in OME-TIFF format.                                                                                                       |                         |\n",
    "|                                          | `morphology_focus/`: A directory containing the multi-focus projection of morphology image(s) in a multi-file OME-TIFF format (2D). The directory will contain the nuclei DAPI stain image, as well as three additional stain images for Xenium outputs generated with the multimodal cell segmentation assay workflow. |                         |\n",
    "| **Cell summary**                         | `cells.csv.gz`: Cell summary file.                                                                                                                                                           |                         |\n",
    "|                                          | `cells.parquet`: Cell summary file in Parquet format.                                                                                                                                        |                         |\n",
    "| **Cell segmentation masks and polygons** | `cells.zarr.zip`: Cell summary file in zipped Zarr format, only file that contains the nucleus and cell segmentation masks and boundaries used for transcript assignment.                     |                         |\n",
    "| **Cell boundary polygons**               | `cell_boundaries.csv.gz`: Cell boundary file.                                                                                                                                                |                         |\n",
    "|                                          | `cell_boundaries.parquet`: Cell boundary file in Parquet format.                                                                                                                             |                         |\n",
    "| **Nucleus boundary polygons**            | `nucleus_boundaries.csv.gz`: Nucleus boundary file.                                                                                                                                          |                         |\n",
    "|                                          | `nucleus_boundaries.parquet`: Nucleus boundary file in Parquet format.                                                                                                                       |                         |\n",
    "| **Transcript data**                      | `transcripts.parquet`: Transcripts data in Parquet format.                                                                                                                                   |                         |\n",
    "|                                          | `transcripts.zarr.zip`: Transcript data in zipped Zarr format.                                                                                                                               |                         |\n",
    "| **Cell-feature matrix**                  | `cell_feature_matrix/`: Directory of the cell-feature matrix files in Market Exchange format.                                                                                                |                         |\n",
    "|                                          | `cell_feature_matrix.h5`: Cell-feature matrix file in HDF5 format.                                                                                                                           |                         |\n",
    "|                                          | `cell_feature_matrix.zarr.zip`: Cell-feature matrix file in zipped Zarr format.                                                                                                              |                         |\n",
    "| **Metric summary**                       | `metrics_summary.csv`: Summary of key metrics.                                                                                                                                               |                         |\n",
    "| **Secondary analysis**                   | `analysis/`: Directory of secondary analysis results.                                                                                                                                        |                         |\n",
    "|                                          | `analysis.zarr.zip`: Secondary analysis outputs in zipped Zarr format.                                                                                                                       |                         |\n",
    "| **Gene panel**                           | `gene_panel.json`: Copy of input gene panel file.                                                                                                                                            |                         |\n",
    "| **Auxiliary data (aux_outputs/)**        | `morphology_fov_locations.json`: Field of view (FOV) name and position information (in microns).                                                                                             |                         |\n",
    "|                                          | `overview_scan_fov_locations.json`: FOV name and position information (in pixels).                                                                                                           |                         |\n",
    "|                                          | `per_cycle_channel_images/`: Directory of downsampled RNA image files in TIFF format from each cycle and channel.                                                                             |                         |\n",
    "|                                          | `overview_scan.png`: Full resolution image of entire slide sample.                                                                                                                           |                         |\n",
    "|                                          | `background_qc_images/`: Directory of autofluorescence images in TIFF format that correspond to morphology_focus/ images if generated.                                                        |                         |\n"
   ]
  },
  {
   "cell_type": "markdown",
   "id": "4f4655ab-817d-4b98-8fc7-2be99378d823",
   "metadata": {},
   "source": [
    "Here is the code translate from **stLearn** ```ReadXenium``` function, where the corsponding 10X xenium file is downloaded from the 10x website:\n",
    "\n",
    "```python\n",
    "metadata = pd.read_csv(cell_summary_file)\n",
    "spatial = metadata[[\"x_centroid\", \"y_centroid\"]]\n",
    "spatial.columns = [\"imagecol\", \"imagerow\"]\n",
    "````\n",
    "\n",
    "cell_summary_file -> cells.zarr.zip\n",
    "\n",
    "```python\n",
    "adata = scanpy.read_10x_h5(feature_cell_matrix_file)\n",
    "adata.obsm[\"spatial\"] = spatial.values\n",
    "```\n",
    "\n",
    "feature_cell_matrix_file -> cell_feature_matrix.zarr.zip\n",
    "\n",
    "**Stracture of andata**\n",
    "AnnData object with n_obs × n_vars = 21445 × 6350\n",
    "- **obs**: `'in_tissue'`, `'array_row'`, `'array_col'`, `'n_counts'`, `'n_genes'`, `'sum'`, `'detected'`, `'subsets_mito_sum'`, `'subsets_mito_detected'`, `'subsets_mito_percent'`, `'cluster'`\n",
    "- **var**: `'gene_ids'`, `'feature_types'`, `'genome'`, `'n_counts'`, `'highly_variable'`\n",
    "- **uns**: `'spatial'`, `'config'`, `'pca'`, `'neighbors'`, `'leiden'`\n",
    "- **obsm**: `'spatial'`, `'geometry'`, `'X_pca'`\n",
    "- **varm**: `'PCs'`\n",
    "- **layers**: `'counts'`, `'logcounts'`\n",
    "- **obsp**: `'distances'`, `'connectivities'`\n"
   ]
  },
  {
   "cell_type": "markdown",
   "id": "553b4e06-8969-4414-9045-173d8ca48f5c",
   "metadata": {},
   "source": [
    "<ceneter>Multi-file OME-TIFF images<center>"
   ]
  },
  {
   "cell_type": "code",
   "execution_count": 1,
   "id": "eb2cd20a-9155-4337-8670-7cf23a3f1b89",
   "metadata": {},
   "outputs": [
    {
     "name": "stderr",
     "output_type": "stream",
     "text": [
      "<tifffile.TiffFile 'morphology_focus_0000.ome.tif'> OME series cannot read multi-file pyramids\n"
     ]
    },
    {
     "data": {
      "text/plain": [
       "(4, 34119, 39776)"
      ]
     },
     "execution_count": 1,
     "metadata": {},
     "output_type": "execute_result"
    }
   ],
   "source": [
    "import tifffile\n",
    "import matplotlib.pyplot as plt\n",
    "import os\n",
    "import seaborn as sns\n",
    "\n",
    "path_morphology_focus =\"/data/kanferg/Sptial_Omics/playGround/Data/Xenium/Xenium_Prime_Human_Lymph_Node_Reactive_FFPE/morphology_focus\"\n",
    "file_name = \"morphology_focus_0000.ome.tif\"\n",
    "file_path = os.path.join(path_morphology_focus, file_name)\n",
    "\n",
    "# Option 1: Load full resolution image channels\n",
    "# The following may produce a warning: 'OME series cannot read multi-file pyramids'. This is because tifffile does not support loading a pyramidal multi-file OME-TIFF file. Only the full resolution (level=0) data will load for all channels in the directory.\n",
    "fullres_multich_img = tifffile.imread(file_path, is_ome=True, level=0, aszarr=False)\n",
    "\n",
    "# Examine shape of array (number of channels, height, width), e.g. (4, 34119, 39776)\n",
    "fullres_multich_img.shape"
   ]
  },
  {
   "cell_type": "code",
   "execution_count": 5,
   "id": "3b2f6a95-398d-4c42-a5e7-ae7e1155dbe8",
   "metadata": {},
   "outputs": [
    {
     "data": {
      "text/plain": [
       "(array([[1175, 1012,  998, ..., 2065, 2124, 2353],\n",
       "        [1239, 1006,  945, ..., 2376, 2346, 2443],\n",
       "        [1286, 1015,  898, ..., 2802, 2711, 2719],\n",
       "        ...,\n",
       "        [1252, 1190, 1188, ..., 2802, 2705, 2632],\n",
       "        [1176, 1150, 1130, ..., 2630, 2573, 2543],\n",
       "        [1108, 1105, 1123, ..., 2526, 2492, 2401]], dtype=uint16),\n",
       " (3000, 3000))"
      ]
     },
     "execution_count": 5,
     "metadata": {},
     "output_type": "execute_result"
    }
   ],
   "source": [
    "section = fullres_multich_img[0,25000:28000,25000:28000]\n",
    "section,section.shape"
   ]
  },
  {
   "cell_type": "code",
   "execution_count": 6,
   "id": "83970b7e-5afa-49b8-aeca-e99f8a298b20",
   "metadata": {},
   "outputs": [],
   "source": [
    "from skimage import io, filters, measure, color, img_as_ubyte\n",
    "section_ubyte = img_as_ubyte(section)"
   ]
  },
  {
   "cell_type": "code",
   "execution_count": 8,
   "id": "fe53a4fa-d52d-4303-8b60-50bb65655110",
   "metadata": {},
   "outputs": [
    {
     "ename": "SyntaxError",
     "evalue": "invalid syntax (2354929518.py, line 5)",
     "output_type": "error",
     "traceback": [
      "\u001b[0;36m  Cell \u001b[0;32mIn[8], line 5\u001b[0;36m\u001b[0m\n\u001b[0;31m    sns.histplot(x = section_ubyte.ravel(),  color=\"blue\",ax = axes[1],kde = True)\u001b[0m\n\u001b[0m    ^\u001b[0m\n\u001b[0;31mSyntaxError\u001b[0m\u001b[0;31m:\u001b[0m invalid syntax\n"
     ]
    }
   ],
   "source": [
    "import seaborn as sns\n",
    "fig, axes = plt.subplots(1, 2,figsize=(5, 10))\n",
    "axes = axes.ravel()\n",
    "sns.histplot(x = section.ravel(),  color=\"blue\",ax = axes[0],kde = True\n",
    "sns.histplot(x = section_ubyte.ravel(),  color=\"blue\",ax = axes[1],kde = True)"
   ]
  },
  {
   "cell_type": "code",
   "execution_count": null,
   "id": "4f3afac3-d7c2-4319-a184-3729080d042e",
   "metadata": {},
   "outputs": [],
   "source": [
    "section"
   ]
  },
  {
   "cell_type": "code",
   "execution_count": null,
   "id": "cacd3665-d974-4152-a8c3-1575b0e3b292",
   "metadata": {},
   "outputs": [],
   "source": [
    "%%timeit\n",
    "import os\n",
    "import skimage.io\n"
   ]
  },
  {
   "cell_type": "code",
   "execution_count": null,
   "id": "295fe1bb-b4b9-46c7-b367-c938b91c1ac6",
   "metadata": {},
   "outputs": [],
   "source": []
  },
  {
   "cell_type": "code",
   "execution_count": 2,
   "id": "fc3218f6-1249-40f5-b98e-50daeae1290f",
   "metadata": {},
   "outputs": [
    {
     "name": "stderr",
     "output_type": "stream",
     "text": [
      "<tifffile.TiffFile 'morphology_focus_0000.ome.tif'> OME series cannot read multi-file pyramids\n"
     ]
    },
    {
     "ename": "IndexError",
     "evalue": "too many indices for array: array is 3-dimensional, but 4 were indexed",
     "output_type": "error",
     "traceback": [
      "\u001b[0;31m---------------------------------------------------------------------------\u001b[0m",
      "\u001b[0;31mIndexError\u001b[0m                                Traceback (most recent call last)",
      "Cell \u001b[0;32mIn[2], line 18\u001b[0m\n\u001b[1;32m     16\u001b[0m     series \u001b[38;5;241m=\u001b[39m tif\u001b[38;5;241m.\u001b[39mseries[\u001b[38;5;241m0\u001b[39m]\n\u001b[1;32m     17\u001b[0m     \u001b[38;5;66;03m# Extract only the required region\u001b[39;00m\n\u001b[0;32m---> 18\u001b[0m     extracted_region \u001b[38;5;241m=\u001b[39m \u001b[43mseries\u001b[49m\u001b[38;5;241;43m.\u001b[39;49m\u001b[43masarray\u001b[49m\u001b[43m(\u001b[49m\u001b[43m)\u001b[49m\u001b[43m[\u001b[49m\u001b[38;5;241;43m0\u001b[39;49m\u001b[43m,\u001b[49m\u001b[43m \u001b[49m\u001b[43m:\u001b[49m\u001b[43m,\u001b[49m\u001b[43m \u001b[49m\u001b[43my_start\u001b[49m\u001b[43m:\u001b[49m\u001b[43my_end\u001b[49m\u001b[43m,\u001b[49m\u001b[43m \u001b[49m\u001b[43mx_start\u001b[49m\u001b[43m:\u001b[49m\u001b[43mx_end\u001b[49m\u001b[43m]\u001b[49m\n\u001b[1;32m     20\u001b[0m \u001b[38;5;66;03m# Check the shape to ensure it is as expected\u001b[39;00m\n\u001b[1;32m     21\u001b[0m \u001b[38;5;28mprint\u001b[39m(extracted_region\u001b[38;5;241m.\u001b[39mshape)\n",
      "\u001b[0;31mIndexError\u001b[0m: too many indices for array: array is 3-dimensional, but 4 were indexed"
     ]
    }
   ],
   "source": [
    "import tifffile\n",
    "import numpy as np\n",
    "import os\n",
    "\n",
    "path_morphology_focus =\"/data/kanferg/Sptial_Omics/playGround/Data/Xenium/Xenium_Prime_Human_Lymph_Node_Reactive_FFPE/morphology_focus\"\n",
    "file_name = \"morphology_focus_0000.ome.tif\"\n",
    "\n",
    "# Define the path to your file and the region of interest\n",
    "file_path = os.path.join(path_morphology_focus, file_name)\n",
    "x_start, x_end = 2000, 4000\n",
    "y_start, y_end = 2000, 40000\n",
    "\n",
    "# Open the TIFF file\n",
    "with tifffile.TiffFile(file_path) as tif:\n",
    "    # Check the series info\n",
    "    series = tif.series[0]\n",
    "    # Extract only the required region\n",
    "    extracted_region = series.asarray()[0, :, y_start:y_end, x_start:x_end]\n",
    "\n",
    "# Check the shape to ensure it is as expected\n",
    "print(extracted_region.shape)\n"
   ]
  },
  {
   "cell_type": "code",
   "execution_count": 1,
   "id": "7e1e0482-9c2a-41eb-b797-aa4216ca3bcc",
   "metadata": {},
   "outputs": [
    {
     "name": "stdout",
     "output_type": "stream",
     "text": [
      "Unexpected exception formatting exception. Falling back to standard exception\n"
     ]
    },
    {
     "name": "stderr",
     "output_type": "stream",
     "text": [
      "Traceback (most recent call last):\n",
      "  File \"/gpfs/gsfs10/users/kanferg/conda/envs/squidpy-voyagerpy/lib/python3.8/site-packages/IPython/core/interactiveshell.py\", line 3508, in run_code\n",
      "    exec(code_obj, self.user_global_ns, self.user_ns)\n",
      "  File \"/tmp/ipykernel_2777218/1405966989.py\", line 1, in <module>\n",
      "    get_ipython().run_cell_magic('timeit', '', 'import os\\nimport tifffile\\nimport matplotlib.pyplot as plt\\n\\npath_morphology_focus =\"/data/kanferg/Sptial_Omics/playGround/Data/Xenium/Xenium_Prime_Human_Lymph_Node_Reactive_FFPE/morphology_focus\"\\nfile_name = \"morphology_focus_0000.ome.tif\"\\nfullres_multich_img = tifffile.imread(os.path.join(path_morphology_focus,file_name),is_ome=False, is_mmstack=False, is_imagej=False)\\n')\n",
      "  File \"/gpfs/gsfs10/users/kanferg/conda/envs/squidpy-voyagerpy/lib/python3.8/site-packages/IPython/core/interactiveshell.py\", line 2478, in run_cell_magic\n",
      "    result = fn(*args, **kwargs)\n",
      "  File \"/gpfs/gsfs10/users/kanferg/conda/envs/squidpy-voyagerpy/lib/python3.8/site-packages/IPython/core/magics/execution.py\", line 1170, in timeit\n",
      "    time_number = timer.timeit(number)\n",
      "  File \"/gpfs/gsfs10/users/kanferg/conda/envs/squidpy-voyagerpy/lib/python3.8/site-packages/IPython/core/magics/execution.py\", line 158, in timeit\n",
      "    timing = self.inner(it, self.timer)\n",
      "  File \"<magic-timeit>\", line 7, in inner\n",
      "  File \"/gpfs/gsfs10/users/kanferg/conda/envs/squidpy-voyagerpy/lib/python3.8/site-packages/tifffile/tifffile.py\", line 1040, in imread\n",
      "    with TiffFile(\n",
      "  File \"/gpfs/gsfs10/users/kanferg/conda/envs/squidpy-voyagerpy/lib/python3.8/site-packages/tifffile/tifffile.py\", line 3928, in __init__\n",
      "    raise TypeError(f'unexpected keyword argument: {key}')\n",
      "TypeError: unexpected keyword argument: is_mmstack\n",
      "\n",
      "During handling of the above exception, another exception occurred:\n",
      "\n",
      "Traceback (most recent call last):\n",
      "  File \"/gpfs/gsfs10/users/kanferg/conda/envs/squidpy-voyagerpy/lib/python3.8/site-packages/IPython/core/interactiveshell.py\", line 2105, in showtraceback\n",
      "    stb = self.InteractiveTB.structured_traceback(\n",
      "  File \"/gpfs/gsfs10/users/kanferg/conda/envs/squidpy-voyagerpy/lib/python3.8/site-packages/IPython/core/ultratb.py\", line 1396, in structured_traceback\n",
      "    return FormattedTB.structured_traceback(\n",
      "  File \"/gpfs/gsfs10/users/kanferg/conda/envs/squidpy-voyagerpy/lib/python3.8/site-packages/IPython/core/ultratb.py\", line 1287, in structured_traceback\n",
      "    return VerboseTB.structured_traceback(\n",
      "  File \"/gpfs/gsfs10/users/kanferg/conda/envs/squidpy-voyagerpy/lib/python3.8/site-packages/IPython/core/ultratb.py\", line 1140, in structured_traceback\n",
      "    formatted_exception = self.format_exception_as_a_whole(etype, evalue, etb, number_of_lines_of_context,\n",
      "  File \"/gpfs/gsfs10/users/kanferg/conda/envs/squidpy-voyagerpy/lib/python3.8/site-packages/IPython/core/ultratb.py\", line 1030, in format_exception_as_a_whole\n",
      "    self.get_records(etb, number_of_lines_of_context, tb_offset) if etb else []\n",
      "  File \"/gpfs/gsfs10/users/kanferg/conda/envs/squidpy-voyagerpy/lib/python3.8/site-packages/IPython/core/ultratb.py\", line 1122, in get_records\n",
      "    FrameInfo(\n",
      "  File \"/gpfs/gsfs10/users/kanferg/conda/envs/squidpy-voyagerpy/lib/python3.8/site-packages/IPython/core/ultratb.py\", line 766, in __init__\n",
      "    ix = inspect.getsourcelines(frame)\n",
      "  File \"/gpfs/gsfs10/users/kanferg/conda/envs/squidpy-voyagerpy/lib/python3.8/inspect.py\", line 979, in getsourcelines\n",
      "    lines, lnum = findsource(object)\n",
      "  File \"/gpfs/gsfs10/users/kanferg/conda/envs/squidpy-voyagerpy/lib/python3.8/inspect.py\", line 798, in findsource\n",
      "    raise OSError('could not get source code')\n",
      "OSError: could not get source code\n"
     ]
    }
   ],
   "source": [
    "%%timeit\n",
    "import os\n",
    "import tifffile\n",
    "import matplotlib.pyplot as plt\n",
    "\n",
    "path_morphology_focus =\"/data/kanferg/Sptial_Omics/playGround/Data/Xenium/Xenium_Prime_Human_Lymph_Node_Reactive_FFPE/morphology_focus\"\n",
    "file_name = \"morphology_focus_0000.ome.tif\"\n",
    "fullres_multich_img = tifffile.imread(os.path.join(path_morphology_focus,file_name),is_ome=False, is_mmstack=False, is_imagej=False)"
   ]
  },
  {
   "cell_type": "code",
   "execution_count": 10,
   "id": "724bc201-3762-4539-8518-d36ecdfcd6ac",
   "metadata": {
    "scrolled": true
   },
   "outputs": [
    {
     "name": "stderr",
     "output_type": "stream",
     "text": [
      "<tifffile.TiffFile 'morphology_focus_0000.ome.tif'> OME series cannot read multi-file pyramids\n",
      "<tifffile.TiffFile 'morphology_focus_0000.ome.tif'> OME series cannot read multi-file pyramids\n",
      "<tifffile.TiffFile 'morphology_focus_0000.ome.tif'> OME series cannot read multi-file pyramids\n",
      "<tifffile.TiffFile 'morphology_focus_0000.ome.tif'> OME series cannot read multi-file pyramids\n",
      "<tifffile.TiffFile 'morphology_focus_0000.ome.tif'> OME series cannot read multi-file pyramids\n",
      "<tifffile.TiffFile 'morphology_focus_0000.ome.tif'> OME series cannot read multi-file pyramids\n",
      "<tifffile.TiffFile 'morphology_focus_0000.ome.tif'> OME series cannot read multi-file pyramids\n",
      "<tifffile.TiffFile 'morphology_focus_0000.ome.tif'> OME series cannot read multi-file pyramids\n",
      "<tifffile.TiffFile 'morphology_focus_0000.ome.tif'> OME series cannot read multi-file pyramids\n",
      "<tifffile.TiffFile 'morphology_focus_0000.ome.tif'> OME series cannot read multi-file pyramids\n",
      "<tifffile.TiffFile 'morphology_focus_0000.ome.tif'> OME series cannot read multi-file pyramids\n",
      "<tifffile.TiffFile 'morphology_focus_0000.ome.tif'> OME series cannot read multi-file pyramids\n",
      "<tifffile.TiffFile 'morphology_focus_0000.ome.tif'> OME series cannot read multi-file pyramids\n",
      "<tifffile.TiffFile 'morphology_focus_0000.ome.tif'> OME series cannot read multi-file pyramids\n",
      "<tifffile.TiffFile 'morphology_focus_0000.ome.tif'> OME series cannot read multi-file pyramids\n",
      "<tifffile.TiffFile 'morphology_focus_0000.ome.tif'> OME series cannot read multi-file pyramids\n",
      "<tifffile.TiffFile 'morphology_focus_0000.ome.tif'> OME series cannot read multi-file pyramids\n",
      "<tifffile.TiffFile 'morphology_focus_0000.ome.tif'> OME series cannot read multi-file pyramids\n",
      "<tifffile.TiffFile 'morphology_focus_0000.ome.tif'> OME series cannot read multi-file pyramids\n",
      "<tifffile.TiffFile 'morphology_focus_0000.ome.tif'> OME series cannot read multi-file pyramids\n",
      "<tifffile.TiffFile 'morphology_focus_0000.ome.tif'> OME series cannot read multi-file pyramids\n",
      "<tifffile.TiffFile 'morphology_focus_0000.ome.tif'> OME series cannot read multi-file pyramids\n",
      "<tifffile.TiffFile 'morphology_focus_0000.ome.tif'> OME series cannot read multi-file pyramids\n",
      "<tifffile.TiffFile 'morphology_focus_0000.ome.tif'> OME series cannot read multi-file pyramids\n",
      "<tifffile.TiffFile 'morphology_focus_0000.ome.tif'> OME series cannot read multi-file pyramids\n",
      "<tifffile.TiffFile 'morphology_focus_0000.ome.tif'> OME series cannot read multi-file pyramids\n",
      "<tifffile.TiffFile 'morphology_focus_0000.ome.tif'> OME series cannot read multi-file pyramids\n",
      "<tifffile.TiffFile 'morphology_focus_0000.ome.tif'> OME series cannot read multi-file pyramids\n",
      "<tifffile.TiffFile 'morphology_focus_0000.ome.tif'> OME series cannot read multi-file pyramids\n",
      "<tifffile.TiffFile 'morphology_focus_0000.ome.tif'> OME series cannot read multi-file pyramids\n",
      "<tifffile.TiffFile 'morphology_focus_0000.ome.tif'> OME series cannot read multi-file pyramids\n",
      "<tifffile.TiffFile 'morphology_focus_0000.ome.tif'> OME series cannot read multi-file pyramids\n",
      "<tifffile.TiffFile 'morphology_focus_0000.ome.tif'> OME series cannot read multi-file pyramids\n",
      "<tifffile.TiffFile 'morphology_focus_0000.ome.tif'> OME series cannot read multi-file pyramids\n",
      "<tifffile.TiffFile 'morphology_focus_0000.ome.tif'> OME series cannot read multi-file pyramids\n",
      "<tifffile.TiffFile 'morphology_focus_0000.ome.tif'> OME series cannot read multi-file pyramids\n",
      "<tifffile.TiffFile 'morphology_focus_0000.ome.tif'> OME series cannot read multi-file pyramids\n",
      "<tifffile.TiffFile 'morphology_focus_0000.ome.tif'> OME series cannot read multi-file pyramids\n",
      "<tifffile.TiffFile 'morphology_focus_0000.ome.tif'> OME series cannot read multi-file pyramids\n",
      "<tifffile.TiffFile 'morphology_focus_0000.ome.tif'> OME series cannot read multi-file pyramids\n",
      "<tifffile.TiffFile 'morphology_focus_0000.ome.tif'> OME series cannot read multi-file pyramids\n",
      "<tifffile.TiffFile 'morphology_focus_0000.ome.tif'> OME series cannot read multi-file pyramids\n",
      "<tifffile.TiffFile 'morphology_focus_0000.ome.tif'> OME series cannot read multi-file pyramids\n",
      "<tifffile.TiffFile 'morphology_focus_0000.ome.tif'> OME series cannot read multi-file pyramids\n",
      "<tifffile.TiffFile 'morphology_focus_0000.ome.tif'> OME series cannot read multi-file pyramids\n",
      "<tifffile.TiffFile 'morphology_focus_0000.ome.tif'> OME series cannot read multi-file pyramids\n",
      "<tifffile.TiffFile 'morphology_focus_0000.ome.tif'> OME series cannot read multi-file pyramids\n",
      "<tifffile.TiffFile 'morphology_focus_0000.ome.tif'> OME series cannot read multi-file pyramids\n",
      "<tifffile.TiffFile 'morphology_focus_0000.ome.tif'> OME series cannot read multi-file pyramids\n",
      "<tifffile.TiffFile 'morphology_focus_0000.ome.tif'> OME series cannot read multi-file pyramids\n",
      "<tifffile.TiffFile 'morphology_focus_0000.ome.tif'> OME series cannot read multi-file pyramids\n",
      "<tifffile.TiffFile 'morphology_focus_0000.ome.tif'> OME series cannot read multi-file pyramids\n",
      "<tifffile.TiffFile 'morphology_focus_0000.ome.tif'> OME series cannot read multi-file pyramids\n",
      "<tifffile.TiffFile 'morphology_focus_0000.ome.tif'> OME series cannot read multi-file pyramids\n",
      "<tifffile.TiffFile 'morphology_focus_0000.ome.tif'> OME series cannot read multi-file pyramids\n",
      "<tifffile.TiffFile 'morphology_focus_0000.ome.tif'> OME series cannot read multi-file pyramids\n",
      "<tifffile.TiffFile 'morphology_focus_0000.ome.tif'> OME series cannot read multi-file pyramids\n",
      "<tifffile.TiffFile 'morphology_focus_0000.ome.tif'> OME series cannot read multi-file pyramids\n",
      "<tifffile.TiffFile 'morphology_focus_0000.ome.tif'> OME series cannot read multi-file pyramids\n",
      "<tifffile.TiffFile 'morphology_focus_0000.ome.tif'> OME series cannot read multi-file pyramids\n",
      "<tifffile.TiffFile 'morphology_focus_0000.ome.tif'> OME series cannot read multi-file pyramids\n",
      "<tifffile.TiffFile 'morphology_focus_0000.ome.tif'> OME series cannot read multi-file pyramids\n",
      "<tifffile.TiffFile 'morphology_focus_0000.ome.tif'> OME series cannot read multi-file pyramids\n",
      "<tifffile.TiffFile 'morphology_focus_0000.ome.tif'> OME series cannot read multi-file pyramids\n",
      "<tifffile.TiffFile 'morphology_focus_0000.ome.tif'> OME series cannot read multi-file pyramids\n",
      "<tifffile.TiffFile 'morphology_focus_0000.ome.tif'> OME series cannot read multi-file pyramids\n",
      "<tifffile.TiffFile 'morphology_focus_0000.ome.tif'> OME series cannot read multi-file pyramids\n",
      "<tifffile.TiffFile 'morphology_focus_0000.ome.tif'> OME series cannot read multi-file pyramids\n",
      "<tifffile.TiffFile 'morphology_focus_0000.ome.tif'> OME series cannot read multi-file pyramids\n",
      "<tifffile.TiffFile 'morphology_focus_0000.ome.tif'> OME series cannot read multi-file pyramids\n",
      "<tifffile.TiffFile 'morphology_focus_0000.ome.tif'> OME series cannot read multi-file pyramids\n",
      "<tifffile.TiffFile 'morphology_focus_0000.ome.tif'> OME series cannot read multi-file pyramids\n",
      "<tifffile.TiffFile 'morphology_focus_0000.ome.tif'> OME series cannot read multi-file pyramids\n",
      "<tifffile.TiffFile 'morphology_focus_0000.ome.tif'> OME series cannot read multi-file pyramids\n",
      "<tifffile.TiffFile 'morphology_focus_0000.ome.tif'> OME series cannot read multi-file pyramids\n",
      "<tifffile.TiffFile 'morphology_focus_0000.ome.tif'> OME series cannot read multi-file pyramids\n",
      "<tifffile.TiffFile 'morphology_focus_0000.ome.tif'> OME series cannot read multi-file pyramids\n",
      "<tifffile.TiffFile 'morphology_focus_0000.ome.tif'> OME series cannot read multi-file pyramids\n",
      "<tifffile.TiffFile 'morphology_focus_0000.ome.tif'> OME series cannot read multi-file pyramids\n",
      "<tifffile.TiffFile 'morphology_focus_0000.ome.tif'> OME series cannot read multi-file pyramids\n",
      "<tifffile.TiffFile 'morphology_focus_0000.ome.tif'> OME series cannot read multi-file pyramids\n"
     ]
    },
    {
     "name": "stdout",
     "output_type": "stream",
     "text": [
      "53.8 ms ± 365 µs per loop (mean ± std. dev. of 7 runs, 10 loops each)\n"
     ]
    }
   ],
   "source": [
    "%%timeit\n",
    "import os\n",
    "from aicsimageio import AICSImage\n",
    "path_morphology_focus =\"/data/kanferg/Sptial_Omics/playGround/Data/Xenium/Xenium_Prime_Human_Lymph_Node_Reactive_FFPE/morphology_focus\"\n",
    "file_name = \"morphology_focus_0000.ome.tif\"\n",
    "img = AICSImage(os.path.join(path_morphology_focus,file_name))\n",
    "#img.dask_data  # returns 5D TCZYX dask array\n",
    "img.xarray_dask_data  # returns 5D TCZYX xarray data array backed by dask array\n",
    "img.dims  # returns a Dimensions object\n",
    "img.dims.order  # returns string \"TCZYX\"\n",
    "img.dims.X  # returns size of X dimension\n",
    "img.shape  # returns tuple of dimension sizes in TCZYX order"
   ]
  },
  {
   "cell_type": "code",
   "execution_count": null,
   "id": "57d2e2b5-0652-4912-9bb5-d8891f429e1c",
   "metadata": {},
   "outputs": [],
   "source": [
    "%%timeit\n",
    "import os\n",
    "import skimage.io\n",
    "path_morphology_focus =\"/data/kanferg/Sptial_Omics/playGround/Data/Xenium/Xenium_Prime_Human_Lymph_Node_Reactive_FFPE/morphology_focus\"\n",
    "file_name = \"morphology_focus_0000.ome.tif\"\n",
    "fullres_img_tiff = skimage.io.imread(os.path.join(path_morphology_focus,file_name))\n",
    "#fullres_img_tiff.shape"
   ]
  },
  {
   "cell_type": "code",
   "execution_count": 4,
   "id": "d8935408-d253-4a0d-abe6-76a2d3d08b59",
   "metadata": {},
   "outputs": [
    {
     "ename": "NameError",
     "evalue": "name 'file_name' is not defined",
     "output_type": "error",
     "traceback": [
      "\u001b[0;31m---------------------------------------------------------------------------\u001b[0m",
      "\u001b[0;31mNameError\u001b[0m                                 Traceback (most recent call last)",
      "Cell \u001b[0;32mIn[4], line 1\u001b[0m\n\u001b[0;32m----> 1\u001b[0m \u001b[43mfile_name\u001b[49m\n",
      "\u001b[0;31mNameError\u001b[0m: name 'file_name' is not defined"
     ]
    }
   ],
   "source": [
    "fullres_img_tiff.shape"
   ]
  },
  {
   "cell_type": "code",
   "execution_count": null,
   "id": "3ff0d003-dd5e-4132-998f-e97e29ad132c",
   "metadata": {},
   "outputs": [],
   "source": [
    "from skimage.util import img_as_ubyte\n"
   ]
  },
  {
   "cell_type": "code",
   "execution_count": null,
   "id": "dcae1354-4346-43f5-822c-d8d0834641f8",
   "metadata": {},
   "outputs": [],
   "source": [
    "%%timeit\n",
    "from skimage import data, color\n",
    "from skimage.transform import rescale, resize, downscale_local_mean\n",
    "image_rescaled = rescale(fullres_img_tiff, 0.25, anti_aliasing=True)\n",
    "image_rescaled.shape"
   ]
  },
  {
   "cell_type": "code",
   "execution_count": null,
   "id": "c05f847c-3a36-4698-9162-701b1621c182",
   "metadata": {},
   "outputs": [],
   "source": [
    "fig, axes = plt.subplots(nrows=1, ncols=1)\n",
    "ax.imshow(image, cmap='gray')\n",
    "ax.set_title(\"Original image\")"
   ]
  },
  {
   "cell_type": "code",
   "execution_count": 7,
   "id": "86d4a515-85e3-4421-b8b6-49edba8cbc12",
   "metadata": {},
   "outputs": [
    {
     "ename": "NameError",
     "evalue": "name 'image' is not defined",
     "output_type": "error",
     "traceback": [
      "\u001b[0;31m---------------------------------------------------------------------------\u001b[0m",
      "\u001b[0;31mNameError\u001b[0m                                 Traceback (most recent call last)",
      "Cell \u001b[0;32mIn[7], line 2\u001b[0m\n\u001b[1;32m      1\u001b[0m image_resized \u001b[38;5;241m=\u001b[39m resize(\n\u001b[0;32m----> 2\u001b[0m     \u001b[43mimage\u001b[49m, (image\u001b[38;5;241m.\u001b[39mshape[\u001b[38;5;241m0\u001b[39m] \u001b[38;5;241m/\u001b[39m\u001b[38;5;241m/\u001b[39m \u001b[38;5;241m10\u001b[39m, image\u001b[38;5;241m.\u001b[39mshape[\u001b[38;5;241m1\u001b[39m] \u001b[38;5;241m/\u001b[39m\u001b[38;5;241m/\u001b[39m \u001b[38;5;241m10\u001b[39m), anti_aliasing\u001b[38;5;241m=\u001b[39m\u001b[38;5;28;01mTrue\u001b[39;00m\n\u001b[1;32m      3\u001b[0m )\n\u001b[1;32m      4\u001b[0m image_downscaled \u001b[38;5;241m=\u001b[39m downscale_local_mean(image, (\u001b[38;5;241m4\u001b[39m, \u001b[38;5;241m3\u001b[39m))\n\u001b[1;32m      6\u001b[0m fig, axes \u001b[38;5;241m=\u001b[39m plt\u001b[38;5;241m.\u001b[39msubplots(nrows\u001b[38;5;241m=\u001b[39m\u001b[38;5;241m2\u001b[39m, ncols\u001b[38;5;241m=\u001b[39m\u001b[38;5;241m2\u001b[39m)\n",
      "\u001b[0;31mNameError\u001b[0m: name 'image' is not defined"
     ]
    }
   ],
   "source": [
    "image_resized = resize(\n",
    "    image, (image.shape[0] // 10, image.shape[1] // 10), anti_aliasing=True\n",
    ")\n",
    "image_downscaled = downscale_local_mean(image, (4, 3))\n",
    "\n",
    "fig, axes = plt.subplots(nrows=2, ncols=2)\n",
    "\n",
    "ax = axes.ravel()\n",
    "\n",
    "ax[0].imshow(image, cmap='gray')\n",
    "ax[0].set_title(\"Original image\")\n",
    "\n",
    "ax[1].imshow(image_rescaled, cmap='gray')\n",
    "ax[1].set_title(\"Rescaled image (aliasing)\")\n",
    "\n",
    "ax[2].imshow(image_resized, cmap='gray')\n",
    "ax[2].set_title(\"Resized image (no aliasing)\")\n",
    "\n",
    "ax[3].imshow(image_downscaled, cmap='gray')\n",
    "ax[3].set_title(\"Downscaled image (no aliasing)\")\n",
    "\n",
    "ax[0].set_xlim(0, 512)\n",
    "ax[0].set_ylim(512, 0)\n",
    "plt.tight_layout()\n",
    "plt.show()"
   ]
  },
  {
   "cell_type": "code",
   "execution_count": 1,
   "id": "602283e7-a4ba-463e-8beb-4f6cf1b9e07d",
   "metadata": {},
   "outputs": [
    {
     "ename": "TypeError",
     "evalue": "asarray() got an unexpected keyword argument 'level'",
     "output_type": "error",
     "traceback": [
      "\u001b[0;31m---------------------------------------------------------------------------\u001b[0m",
      "\u001b[0;31mTypeError\u001b[0m                                 Traceback (most recent call last)",
      "\u001b[0;32m/tmp/ipykernel_2761153/1292983636.py\u001b[0m in \u001b[0;36m?\u001b[0;34m()\u001b[0m\n\u001b[0;32m----> 6\u001b[0;31m \u001b[0;32mimport\u001b[0m \u001b[0mtifffile\u001b[0m\u001b[0;34m\u001b[0m\u001b[0;34m\u001b[0m\u001b[0m\n\u001b[0m\u001b[1;32m      7\u001b[0m \u001b[0;32mimport\u001b[0m \u001b[0mmatplotlib\u001b[0m\u001b[0;34m.\u001b[0m\u001b[0mpyplot\u001b[0m \u001b[0;32mas\u001b[0m \u001b[0mplt\u001b[0m\u001b[0;34m\u001b[0m\u001b[0;34m\u001b[0m\u001b[0m\n\u001b[1;32m      8\u001b[0m \u001b[0;32mimport\u001b[0m \u001b[0mos\u001b[0m\u001b[0;34m\u001b[0m\u001b[0;34m\u001b[0m\u001b[0m\n\u001b[1;32m      9\u001b[0m \u001b[0mpath_morphology_focus\u001b[0m \u001b[0;34m=\u001b[0m\u001b[0;34m\"/data/kanferg/Sptial_Omics/playGround/Data/Xenium/Xenium_Prime_Human_Lymph_Node_Reactive_FFPE/morphology_focus\"\u001b[0m\u001b[0;34m\u001b[0m\u001b[0;34m\u001b[0m\u001b[0m\n",
      "\u001b[0;32m/gpfs/gsfs10/users/kanferg/conda/envs/squidpy-voyagerpy/lib/python3.8/site-packages/tifffile/tifffile.py\u001b[0m in \u001b[0;36m?\u001b[0;34m(files, **kwargs)\u001b[0m\n\u001b[1;32m    628\u001b[0m             \u001b[0mfiles\u001b[0m \u001b[0;34m=\u001b[0m \u001b[0mfiles\u001b[0m\u001b[0;34m[\u001b[0m\u001b[0;36m0\u001b[0m\u001b[0;34m]\u001b[0m\u001b[0;34m\u001b[0m\u001b[0;34m\u001b[0m\u001b[0m\n\u001b[1;32m    629\u001b[0m \u001b[0;34m\u001b[0m\u001b[0m\n\u001b[1;32m    630\u001b[0m         \u001b[0;32mif\u001b[0m \u001b[0misinstance\u001b[0m\u001b[0;34m(\u001b[0m\u001b[0mfiles\u001b[0m\u001b[0;34m,\u001b[0m \u001b[0;34m(\u001b[0m\u001b[0mstr\u001b[0m\u001b[0;34m,\u001b[0m \u001b[0mos\u001b[0m\u001b[0;34m.\u001b[0m\u001b[0mPathLike\u001b[0m\u001b[0;34m)\u001b[0m\u001b[0;34m)\u001b[0m \u001b[0;32mor\u001b[0m \u001b[0mhasattr\u001b[0m\u001b[0;34m(\u001b[0m\u001b[0mfiles\u001b[0m\u001b[0;34m,\u001b[0m \u001b[0;34m'seek'\u001b[0m\u001b[0;34m)\u001b[0m\u001b[0;34m:\u001b[0m\u001b[0;34m\u001b[0m\u001b[0;34m\u001b[0m\u001b[0m\n\u001b[1;32m    631\u001b[0m             \u001b[0;32mwith\u001b[0m \u001b[0mTiffFile\u001b[0m\u001b[0;34m(\u001b[0m\u001b[0mfiles\u001b[0m\u001b[0;34m,\u001b[0m \u001b[0;34m**\u001b[0m\u001b[0mkwargs_file\u001b[0m\u001b[0;34m)\u001b[0m \u001b[0;32mas\u001b[0m \u001b[0mtif\u001b[0m\u001b[0;34m:\u001b[0m\u001b[0;34m\u001b[0m\u001b[0;34m\u001b[0m\u001b[0m\n\u001b[0;32m--> 632\u001b[0;31m                 \u001b[0;32mreturn\u001b[0m \u001b[0mtif\u001b[0m\u001b[0;34m.\u001b[0m\u001b[0masarray\u001b[0m\u001b[0;34m(\u001b[0m\u001b[0;34m**\u001b[0m\u001b[0mkwargs\u001b[0m\u001b[0;34m)\u001b[0m\u001b[0;34m\u001b[0m\u001b[0;34m\u001b[0m\u001b[0m\n\u001b[0m\u001b[1;32m    633\u001b[0m \u001b[0;34m\u001b[0m\u001b[0m\n\u001b[1;32m    634\u001b[0m     \u001b[0;32mwith\u001b[0m \u001b[0mTiffSequence\u001b[0m\u001b[0;34m(\u001b[0m\u001b[0mfiles\u001b[0m\u001b[0;34m,\u001b[0m \u001b[0;34m**\u001b[0m\u001b[0mkwargs_seq\u001b[0m\u001b[0;34m)\u001b[0m \u001b[0;32mas\u001b[0m \u001b[0mimseq\u001b[0m\u001b[0;34m:\u001b[0m\u001b[0;34m\u001b[0m\u001b[0;34m\u001b[0m\u001b[0m\n\u001b[1;32m    635\u001b[0m         \u001b[0;32mreturn\u001b[0m \u001b[0mimseq\u001b[0m\u001b[0;34m.\u001b[0m\u001b[0masarray\u001b[0m\u001b[0;34m(\u001b[0m\u001b[0;34m**\u001b[0m\u001b[0mkwargs\u001b[0m\u001b[0;34m)\u001b[0m\u001b[0;34m\u001b[0m\u001b[0;34m\u001b[0m\u001b[0m\n",
      "\u001b[0;31mTypeError\u001b[0m: asarray() got an unexpected keyword argument 'level'"
     ]
    }
   ],
   "source": [
    "import tifffile\n",
    "import matplotlib.pyplot as plt\n",
    "import os\n",
    "path_morphology_focus =\"/data/kanferg/Sptial_Omics/playGround/Data/Xenium/Xenium_Prime_Human_Lymph_Node_Reactive_FFPE/morphology_focus\"\n",
    "file_name = \"morphology_focus_0000.ome.tif\"\n",
    "fullres_img_tiff = tifffile.imread(os.path.join(path_morphology_focus,file_name), is_ome=False, level=0)\n",
    "\n",
    "# Now load the file at downsampled resolution\n",
    "downsampled_img = tifffile.imread(os.path.join(path_morphology_focus,file_name), is_ome=False, level=1)\n",
    "\n",
    "# Plot the full resolution and downsampled images side-by-side\n",
    "fig, axes = plt.subplots(ncols=2, nrows=1, squeeze=False)\n",
    "axes[0, 0].imshow(fullres_img_tiff, cmap=\"gray\")\n",
    "axes[0, 0].set_title(f\"Full resolution: {fullres_img_tiff.shape}\")\n",
    "axes[0, 1].imshow(downsampled_img, cmap=\"gray\")\n",
    "axes[0, 1].set_title(f\"Downsampled: {downsampled_img.shape}\")"
   ]
  },
  {
   "cell_type": "code",
   "execution_count": null,
   "id": "f74d56cb-a351-477b-ad0d-73783c0af154",
   "metadata": {},
   "outputs": [],
   "source": []
  }
 ],
 "metadata": {
  "kernelspec": {
   "display_name": "Python 3 (ipykernel)",
   "language": "python",
   "name": "python3"
  },
  "language_info": {
   "codemirror_mode": {
    "name": "ipython",
    "version": 3
   },
   "file_extension": ".py",
   "mimetype": "text/x-python",
   "name": "python",
   "nbconvert_exporter": "python",
   "pygments_lexer": "ipython3",
   "version": "3.8.19"
  }
 },
 "nbformat": 4,
 "nbformat_minor": 5
}
