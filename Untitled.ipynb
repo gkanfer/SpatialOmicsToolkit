{
 "cells": [
  {
   "cell_type": "code",
   "execution_count": 1,
   "id": "db48e9b2-b42e-46ce-8163-5c48bc27681a",
   "metadata": {},
   "outputs": [],
   "source": [
    "import matplotlib.pyplot as plt\n",
    "from matplotlib.backends.backend_pdf import PdfPages\n",
    "from matplotlib.colors import ListedColormap\n",
    "import matplotlib.ticker as ticker\n",
    "import matplotlib.pyplot as plt\n",
    "import pandas as pd\n",
    "from matplotlib.ticker import MaxNLocator\n",
    "import seaborn as sns\n",
    "import os\n",
    "import gzip\n",
    "import numpy as np\n",
    "import scanpy as sc\n",
    "import cupy as cp\n",
    "import os\n",
    "import time\n",
    "import rapids_singlecell as rsc\n",
    "import numpy as np\n",
    "import rmm\n",
    "from rmm.allocators.cupy import rmm_cupy_allocator\n",
    "\n",
    "rmm.reinitialize(\n",
    "    managed_memory=False,  # Allows oversubscription\n",
    "    pool_allocator=False,  # default is False\n",
    "    devices=0,  # GPU device IDs to register. By default registers only GPU 0.\n",
    ")\n",
    "cp.cuda.set_allocator(rmm_cupy_allocator)\n",
    "import zarr\n",
    "from collections import OrderedDict\n",
    "from scipy.sparse import csr_matrix\n",
    "import pandas as pd\n",
    "import scipy.stats as stats\n",
    "from statsmodels.stats.multitest import multipletests\n",
    "from scipy.sparse import csr_matrix\n",
    "import scipy\n",
    "import anndata\n",
    "from collections import OrderedDict"
   ]
  },
  {
   "cell_type": "code",
   "execution_count": 2,
   "id": "ad6f74ec-cf3b-4c1f-9846-dbe4606a54eb",
   "metadata": {},
   "outputs": [],
   "source": [
    "from rsc_functions.utility.applyqc import applyqc "
   ]
  },
  {
   "cell_type": "code",
   "execution_count": 3,
   "id": "0f679579-6ecb-4e94-8b2d-f4018dcf6c8c",
   "metadata": {},
   "outputs": [],
   "source": [
    "path = \"/data/kanferg/Sptial_Omics/playGround/Data/Xenium/output_temp\"\n",
    "pathout = \"/data/kanferg/Sptial_Omics/SpatialOmicsToolkit/out_1\"\n",
    "FilePrefix = \"_072824\" "
   ]
  },
  {
   "cell_type": "code",
   "execution_count": 4,
   "id": "899d7c20-5bad-48bc-b334-649505473875",
   "metadata": {},
   "outputs": [
    {
     "name": "stdout",
     "output_type": "stream",
     "text": [
      "filtered out 3685 cells\n",
      "filtered out 1 genes based on n_cells_by_counts\n"
     ]
    }
   ],
   "source": [
    "path_xenium = os.path.join(path,\"cell_feature_matrix.h5\")\n",
    "path_cells = os.path.join(path,\"cells.zarr.zip\")\n",
    "adata = sc.read_10x_h5(path_xenium)\n",
    "rsc.get.anndata_to_GPU(adata)\n",
    "rsc.pp.flag_gene_family(adata, gene_family_name=\"MT\", gene_family_prefix=\"mt-\")\n",
    "rsc.pp.calculate_qc_metrics(adata, qc_vars=[\"MT\"])\n",
    "def open_zarr(path: str) -> zarr.Group:\n",
    "    store = (zarr.ZipStore(path, mode=\"r\") if path.endswith(\".zip\") else zarr.DirectoryStore(path))\n",
    "    return zarr.group(store=store)\n",
    "root = open_zarr(path_cells)\n",
    "column_names = dict(root['cell_summary'].attrs.items())['column_names']\n",
    "def build_obs(andata,root,column_names):\n",
    "    for i in range(len(column_names)):\n",
    "        andata.obs[str(column_names[i])] = np.array(root[\"cell_summary\"])[:,i]\n",
    "    spatial = andata.obs[[\"cell_centroid_x\", \"cell_centroid_y\"]]\n",
    "    adata.obsm[\"spatial\"] = spatial.values\n",
    "    return andata\n",
    "andata = build_obs(adata,root,column_names)\n",
    "andata.var_names_make_unique()\n",
    "andata.obsm['spatial'] = np.array(andata.obsm['spatial'], dtype=np.float64)\n",
    "andata.uns['config'] = OrderedDict()\n",
    "andata.uns[\"config\"][\"secondary_var_names\"] = andata.var_names\n",
    "rsc.pp.flag_gene_family(andata, gene_family_name=\"MT\", gene_family_prefix=\"mt-\")\n",
    "rsc.pp.calculate_qc_metrics(andata, qc_vars=[\"MT\"])\n",
    "rsc.pp.filter_cells(andata, min_count=10,qc_var = 'total_counts')\n",
    "rsc.pp.filter_genes(andata, min_count=5)\n",
    "andata.layers['counts'] = andata.X.copy()\n",
    "rsc.pp.normalize_total(andata)\n",
    "rsc.pp.log1p(andata)\n",
    "andata.layers['log'] = andata.X.copy()\n",
    "rsc.pp.highly_variable_genes(andata, n_top_genes=5000, flavor=\"seurat_v3\", layer=\"counts\")"
   ]
  },
  {
   "cell_type": "code",
   "execution_count": 5,
   "id": "b075dfba-486a-4e8a-a636-d2b46202595a",
   "metadata": {},
   "outputs": [
    {
     "data": {
      "text/plain": [
       "View of AnnData object with n_obs × n_vars = 705298 × 4623\n",
       "    obs: 'n_genes_by_counts', 'total_counts', 'log1p_n_genes_by_counts', 'log1p_total_counts', 'total_counts_MT', 'pct_counts_MT', 'log1p_total_counts_MT', 'cell_centroid_x', 'cell_centroid_y', 'cell_area', 'nucleus_centroid_x', 'nucleus_centroid_y', 'nucleus_area', 'z_level', 'nucleus_count'\n",
       "    var: 'gene_ids', 'feature_types', 'genome', 'MT', 'n_cells_by_counts', 'total_counts', 'mean_counts', 'pct_dropout_by_counts', 'log1p_total_counts', 'log1p_mean_counts', 'highly_variable', 'highly_variable_rank', 'means', 'variances', 'variances_norm'\n",
       "    uns: 'config', 'log1p', 'hvg'\n",
       "    obsm: 'spatial'\n",
       "    layers: 'counts', 'log'"
      ]
     },
     "execution_count": 5,
     "metadata": {},
     "output_type": "execute_result"
    }
   ],
   "source": [
    "andata = andata[:, andata.var[\"highly_variable\"]]\n",
    "andata"
   ]
  },
  {
   "cell_type": "code",
   "execution_count": 6,
   "id": "cec3f797-61ac-4246-9af2-c69c0ab3cf02",
   "metadata": {},
   "outputs": [
    {
     "name": "stderr",
     "output_type": "stream",
     "text": [
      "/usr/local/apps/rapids-singlecell/mamba/envs/rapids_singlecell/lib/python3.11/site-packages/rapids_singlecell/preprocessing/_scale.py:71: UserWarning: Received a view of an AnnData. Making a copy.\n",
      "  view_to_actual(adata)\n"
     ]
    },
    {
     "ename": "MemoryError",
     "evalue": "std::bad_alloc: out_of_memory: CUDA error at: /opt/conda/conda-bld/work/include/rmm/mr/device/cuda_memory_resource.hpp:60: cudaErrorMemoryAllocation out of memory",
     "output_type": "error",
     "traceback": [
      "\u001b[0;31m---------------------------------------------------------------------------\u001b[0m",
      "\u001b[0;31mMemoryError\u001b[0m                               Traceback (most recent call last)",
      "Cell \u001b[0;32mIn[6], line 1\u001b[0m\n\u001b[0;32m----> 1\u001b[0m \u001b[43mrsc\u001b[49m\u001b[38;5;241;43m.\u001b[39;49m\u001b[43mpp\u001b[49m\u001b[38;5;241;43m.\u001b[39;49m\u001b[43mscale\u001b[49m\u001b[43m(\u001b[49m\u001b[43mandata\u001b[49m\u001b[43m,\u001b[49m\u001b[43m \u001b[49m\u001b[43mmax_value\u001b[49m\u001b[38;5;241;43m=\u001b[39;49m\u001b[38;5;241;43m10\u001b[39;49m\u001b[43m)\u001b[49m\n",
      "File \u001b[0;32m/usr/local/apps/rapids-singlecell/mamba/envs/rapids_singlecell/lib/python3.11/site-packages/rapids_singlecell/preprocessing/_scale.py:93\u001b[0m, in \u001b[0;36mscale\u001b[0;34m(adata, zero_center, max_value, copy, layer, obsm, mask_obs, inplace)\u001b[0m\n\u001b[1;32m     85\u001b[0m     X, means, std \u001b[38;5;241m=\u001b[39m _scale_array(\n\u001b[1;32m     86\u001b[0m         X,\n\u001b[1;32m     87\u001b[0m         mask_obs\u001b[38;5;241m=\u001b[39mmask_obs,\n\u001b[0;32m   (...)\u001b[0m\n\u001b[1;32m     90\u001b[0m         max_value\u001b[38;5;241m=\u001b[39mmax_value,\n\u001b[1;32m     91\u001b[0m     )\n\u001b[1;32m     92\u001b[0m \u001b[38;5;28;01melif\u001b[39;00m \u001b[38;5;28misinstance\u001b[39m(X, sparse\u001b[38;5;241m.\u001b[39mcsr_matrix):\n\u001b[0;32m---> 93\u001b[0m     X, means, std \u001b[38;5;241m=\u001b[39m \u001b[43m_scale_sparse_csr\u001b[49m\u001b[43m(\u001b[49m\n\u001b[1;32m     94\u001b[0m \u001b[43m        \u001b[49m\u001b[43mX\u001b[49m\u001b[43m,\u001b[49m\n\u001b[1;32m     95\u001b[0m \u001b[43m        \u001b[49m\u001b[43mmask_obs\u001b[49m\u001b[38;5;241;43m=\u001b[39;49m\u001b[43mmask_obs\u001b[49m\u001b[43m,\u001b[49m\n\u001b[1;32m     96\u001b[0m \u001b[43m        \u001b[49m\u001b[43mzero_center\u001b[49m\u001b[38;5;241;43m=\u001b[39;49m\u001b[43mzero_center\u001b[49m\u001b[43m,\u001b[49m\n\u001b[1;32m     97\u001b[0m \u001b[43m        \u001b[49m\u001b[43minplace\u001b[49m\u001b[38;5;241;43m=\u001b[39;49m\u001b[43minplace\u001b[49m\u001b[43m,\u001b[49m\n\u001b[1;32m     98\u001b[0m \u001b[43m        \u001b[49m\u001b[43mmax_value\u001b[49m\u001b[38;5;241;43m=\u001b[39;49m\u001b[43mmax_value\u001b[49m\u001b[43m,\u001b[49m\n\u001b[1;32m     99\u001b[0m \u001b[43m    \u001b[49m\u001b[43m)\u001b[49m\n\u001b[1;32m    100\u001b[0m \u001b[38;5;28;01melif\u001b[39;00m \u001b[38;5;28misinstance\u001b[39m(X, sparse\u001b[38;5;241m.\u001b[39mcsc_matrix):\n\u001b[1;32m    101\u001b[0m     X, means, std \u001b[38;5;241m=\u001b[39m _scale_sparse_csc(\n\u001b[1;32m    102\u001b[0m         X,\n\u001b[1;32m    103\u001b[0m         mask_obs\u001b[38;5;241m=\u001b[39mmask_obs,\n\u001b[0;32m   (...)\u001b[0m\n\u001b[1;32m    106\u001b[0m         max_value\u001b[38;5;241m=\u001b[39mmax_value,\n\u001b[1;32m    107\u001b[0m     )\n",
      "File \u001b[0;32m/usr/local/apps/rapids-singlecell/mamba/envs/rapids_singlecell/lib/python3.11/site-packages/rapids_singlecell/preprocessing/_scale.py:214\u001b[0m, in \u001b[0;36m_scale_sparse_csr\u001b[0;34m(X, mask_obs, zero_center, inplace, max_value)\u001b[0m\n\u001b[1;32m    210\u001b[0m \u001b[38;5;28;01mdef\u001b[39;00m \u001b[38;5;21m_scale_sparse_csr\u001b[39m(\n\u001b[1;32m    211\u001b[0m     X, \u001b[38;5;241m*\u001b[39m, mask_obs\u001b[38;5;241m=\u001b[39m\u001b[38;5;28;01mNone\u001b[39;00m, zero_center\u001b[38;5;241m=\u001b[39m\u001b[38;5;28;01mTrue\u001b[39;00m, inplace\u001b[38;5;241m=\u001b[39m\u001b[38;5;28;01mTrue\u001b[39;00m, max_value\u001b[38;5;241m=\u001b[39m\u001b[38;5;28;01mNone\u001b[39;00m\n\u001b[1;32m    212\u001b[0m ):\n\u001b[1;32m    213\u001b[0m     \u001b[38;5;28;01mif\u001b[39;00m zero_center:\n\u001b[0;32m--> 214\u001b[0m         X \u001b[38;5;241m=\u001b[39m \u001b[43mX\u001b[49m\u001b[38;5;241;43m.\u001b[39;49m\u001b[43mtoarray\u001b[49m\u001b[43m(\u001b[49m\u001b[43m)\u001b[49m\n\u001b[1;32m    215\u001b[0m         \u001b[38;5;66;03m# inplace is True because we copied with `toarray`\u001b[39;00m\n\u001b[1;32m    216\u001b[0m         \u001b[38;5;28;01mreturn\u001b[39;00m _scale_array(\n\u001b[1;32m    217\u001b[0m             X,\n\u001b[1;32m    218\u001b[0m             mask_obs\u001b[38;5;241m=\u001b[39mmask_obs,\n\u001b[0;32m   (...)\u001b[0m\n\u001b[1;32m    221\u001b[0m             max_value\u001b[38;5;241m=\u001b[39mmax_value,\n\u001b[1;32m    222\u001b[0m         )\n",
      "File \u001b[0;32m/usr/local/apps/rapids-singlecell/mamba/envs/rapids_singlecell/lib/python3.11/site-packages/cupyx/scipy/sparse/_csr.py:423\u001b[0m, in \u001b[0;36mcsr_matrix.toarray\u001b[0;34m(self, order, out)\u001b[0m\n\u001b[1;32m    421\u001b[0m     \u001b[38;5;28;01mreturn\u001b[39;00m y\n\u001b[1;32m    422\u001b[0m \u001b[38;5;28;01melif\u001b[39;00m order \u001b[38;5;241m==\u001b[39m \u001b[38;5;124m'\u001b[39m\u001b[38;5;124mC\u001b[39m\u001b[38;5;124m'\u001b[39m:\n\u001b[0;32m--> 423\u001b[0m     \u001b[38;5;28;01mreturn\u001b[39;00m \u001b[43mcupy\u001b[49m\u001b[38;5;241;43m.\u001b[39;49m\u001b[43mascontiguousarray\u001b[49m\u001b[43m(\u001b[49m\u001b[43my\u001b[49m\u001b[43m)\u001b[49m\n\u001b[1;32m    424\u001b[0m \u001b[38;5;28;01melse\u001b[39;00m:\n\u001b[1;32m    425\u001b[0m     \u001b[38;5;28;01mraise\u001b[39;00m \u001b[38;5;167;01mValueError\u001b[39;00m(\u001b[38;5;124m'\u001b[39m\u001b[38;5;124morder not understood\u001b[39m\u001b[38;5;124m'\u001b[39m)\n",
      "File \u001b[0;32m/usr/local/apps/rapids-singlecell/mamba/envs/rapids_singlecell/lib/python3.11/site-packages/cupy/_creation/from_data.py:119\u001b[0m, in \u001b[0;36mascontiguousarray\u001b[0;34m(a, dtype)\u001b[0m\n\u001b[1;32m    105\u001b[0m \u001b[38;5;28;01mdef\u001b[39;00m \u001b[38;5;21mascontiguousarray\u001b[39m(a, dtype\u001b[38;5;241m=\u001b[39m\u001b[38;5;28;01mNone\u001b[39;00m):\n\u001b[1;32m    106\u001b[0m \u001b[38;5;250m    \u001b[39m\u001b[38;5;124;03m\"\"\"Returns a C-contiguous array.\u001b[39;00m\n\u001b[1;32m    107\u001b[0m \n\u001b[1;32m    108\u001b[0m \u001b[38;5;124;03m    Args:\u001b[39;00m\n\u001b[0;32m   (...)\u001b[0m\n\u001b[1;32m    117\u001b[0m \n\u001b[1;32m    118\u001b[0m \u001b[38;5;124;03m    \"\"\"\u001b[39;00m\n\u001b[0;32m--> 119\u001b[0m     \u001b[38;5;28;01mreturn\u001b[39;00m \u001b[43m_core\u001b[49m\u001b[38;5;241;43m.\u001b[39;49m\u001b[43mascontiguousarray\u001b[49m\u001b[43m(\u001b[49m\u001b[43ma\u001b[49m\u001b[43m,\u001b[49m\u001b[43m \u001b[49m\u001b[43mdtype\u001b[49m\u001b[43m)\u001b[49m\n",
      "File \u001b[0;32mcupy/_core/core.pyx:2715\u001b[0m, in \u001b[0;36mcupy._core.core.ascontiguousarray\u001b[0;34m()\u001b[0m\n",
      "File \u001b[0;32mcupy/_core/core.pyx:2731\u001b[0m, in \u001b[0;36mcupy._core.core.ascontiguousarray\u001b[0;34m()\u001b[0m\n",
      "File \u001b[0;32mcupy/_core/core.pyx:132\u001b[0m, in \u001b[0;36mcupy._core.core.ndarray.__new__\u001b[0;34m()\u001b[0m\n",
      "File \u001b[0;32mcupy/_core/core.pyx:220\u001b[0m, in \u001b[0;36mcupy._core.core._ndarray_base._init\u001b[0;34m()\u001b[0m\n",
      "File \u001b[0;32mcupy/cuda/memory.pyx:738\u001b[0m, in \u001b[0;36mcupy.cuda.memory.alloc\u001b[0;34m()\u001b[0m\n",
      "File \u001b[0;32m/usr/local/apps/rapids-singlecell/mamba/envs/rapids_singlecell/lib/python3.11/site-packages/rmm/allocators/cupy.py:37\u001b[0m, in \u001b[0;36mrmm_cupy_allocator\u001b[0;34m(nbytes)\u001b[0m\n\u001b[1;32m     34\u001b[0m     \u001b[38;5;28;01mraise\u001b[39;00m \u001b[38;5;167;01mModuleNotFoundError\u001b[39;00m(\u001b[38;5;124m\"\u001b[39m\u001b[38;5;124mNo module named \u001b[39m\u001b[38;5;124m'\u001b[39m\u001b[38;5;124mcupy\u001b[39m\u001b[38;5;124m'\u001b[39m\u001b[38;5;124m\"\u001b[39m)\n\u001b[1;32m     36\u001b[0m stream \u001b[38;5;241m=\u001b[39m Stream(obj\u001b[38;5;241m=\u001b[39mcupy\u001b[38;5;241m.\u001b[39mcuda\u001b[38;5;241m.\u001b[39mget_current_stream())\n\u001b[0;32m---> 37\u001b[0m buf \u001b[38;5;241m=\u001b[39m \u001b[43mlibrmm\u001b[49m\u001b[38;5;241;43m.\u001b[39;49m\u001b[43mdevice_buffer\u001b[49m\u001b[38;5;241;43m.\u001b[39;49m\u001b[43mDeviceBuffer\u001b[49m\u001b[43m(\u001b[49m\u001b[43msize\u001b[49m\u001b[38;5;241;43m=\u001b[39;49m\u001b[43mnbytes\u001b[49m\u001b[43m,\u001b[49m\u001b[43m \u001b[49m\u001b[43mstream\u001b[49m\u001b[38;5;241;43m=\u001b[39;49m\u001b[43mstream\u001b[49m\u001b[43m)\u001b[49m\n\u001b[1;32m     38\u001b[0m dev_id \u001b[38;5;241m=\u001b[39m \u001b[38;5;241m-\u001b[39m\u001b[38;5;241m1\u001b[39m \u001b[38;5;28;01mif\u001b[39;00m buf\u001b[38;5;241m.\u001b[39mptr \u001b[38;5;28;01melse\u001b[39;00m cupy\u001b[38;5;241m.\u001b[39mcuda\u001b[38;5;241m.\u001b[39mdevice\u001b[38;5;241m.\u001b[39mget_device_id()\n\u001b[1;32m     39\u001b[0m mem \u001b[38;5;241m=\u001b[39m cupy\u001b[38;5;241m.\u001b[39mcuda\u001b[38;5;241m.\u001b[39mUnownedMemory(\n\u001b[1;32m     40\u001b[0m     ptr\u001b[38;5;241m=\u001b[39mbuf\u001b[38;5;241m.\u001b[39mptr, size\u001b[38;5;241m=\u001b[39mbuf\u001b[38;5;241m.\u001b[39msize, owner\u001b[38;5;241m=\u001b[39mbuf, device_id\u001b[38;5;241m=\u001b[39mdev_id\n\u001b[1;32m     41\u001b[0m )\n",
      "File \u001b[0;32mdevice_buffer.pyx:85\u001b[0m, in \u001b[0;36mrmm._lib.device_buffer.DeviceBuffer.__cinit__\u001b[0;34m()\u001b[0m\n",
      "\u001b[0;31mMemoryError\u001b[0m: std::bad_alloc: out_of_memory: CUDA error at: /opt/conda/conda-bld/work/include/rmm/mr/device/cuda_memory_resource.hpp:60: cudaErrorMemoryAllocation out of memory"
     ]
    }
   ],
   "source": [
    "rsc.pp.scale(andata, max_value=10)"
   ]
  },
  {
   "cell_type": "code",
   "execution_count": null,
   "id": "45f62c59-8501-4b58-8418-4de4a70b5172",
   "metadata": {},
   "outputs": [],
   "source": [
    "rsc.pp.pca(andata, n_comps=30,random_state=1337, use_highly_variable=False)"
   ]
  },
  {
   "cell_type": "code",
   "execution_count": null,
   "id": "544bbf6f-f962-4a4d-a675-9fa054812a62",
   "metadata": {},
   "outputs": [],
   "source": [
    "sc.pl.pca_variance_ratio(andata, log=True, n_pcs=30)"
   ]
  },
  {
   "cell_type": "code",
   "execution_count": null,
   "id": "879a5791-6bdb-434d-87a2-380e19670313",
   "metadata": {},
   "outputs": [],
   "source": [
    "rsc.pp.neighbors(andata, n_pcs=20, use_rep='X_pca', n_neighbors=15)\n",
    "rsc.tl.leiden(andata, random_state=1337, resolution=0.3, key_added='cluster') "
   ]
  },
  {
   "cell_type": "code",
   "execution_count": null,
   "id": "21e85e41-1344-4227-857d-b86bc5906ce6",
   "metadata": {},
   "outputs": [],
   "source": [
    "from rsc_functions.reports.plot import plot_spatial"
   ]
  },
  {
   "cell_type": "code",
   "execution_count": null,
   "id": "b574e618-7e1f-4c96-b1b7-dcd6db97d63d",
   "metadata": {},
   "outputs": [],
   "source": [
    "fig, ax = plt.subplots(1, 1, figsize=(5, 4))\n",
    "plot_spatial(andata,ax = ax, features = None, title = '', xlab = '',ylab ='',size = 1)"
   ]
  },
  {
   "cell_type": "code",
   "execution_count": null,
   "id": "a5b073a0-4dc8-4b14-8a69-57c531f4a2a3",
   "metadata": {},
   "outputs": [],
   "source": [
    "rsc.tl.umap(andata, min_dist=0.3)"
   ]
  },
  {
   "cell_type": "code",
   "execution_count": null,
   "id": "a8f4b198-84ad-4e90-9c3d-e28475109de2",
   "metadata": {},
   "outputs": [],
   "source": [
    "sc.pl.umap(andata, color=['cluster'], legend_loc=\"on data\")"
   ]
  },
  {
   "cell_type": "code",
   "execution_count": null,
   "id": "2e528183-ecf4-4dfa-adc0-b99f170b60f5",
   "metadata": {},
   "outputs": [],
   "source": [
    "def custom_paramsForSPatialPlot():\n",
    "    custom_params = {\"xtick.labelsize\": 0,      \n",
    "                    \"ytick.labelsize\": 0,      \n",
    "                    \"axes.labelsize\": 0,       \n",
    "                    \"xtick.major.size\": 0,     \n",
    "                    \"xtick.minor.size\": 0,     \n",
    "                    \"ytick.major.size\": 0,    \n",
    "                    \"ytick.minor.size\": 0 }\n",
    "    return custom_params\n",
    "\n",
    "\n",
    "def _plot_spatial(andata,ax,features = None,title = '',xlab = '',ylab ='',size = 2):\n",
    "    palette = sns.color_palette(\"tab20\") + sns.color_palette(\"tab20b\") + sns.color_palette(\"tab20c\")\n",
    "    df = pd.DataFrame({'cluster':andata.obs['cluster'],'x':andata.obsm['spatial'][:,0],'y':andata.obsm['spatial'][:,1]})\n",
    "    if features:\n",
    "        df[df['cluster'].isin([features])]\n",
    "    num_classes = len(df['cluster'].unique())\n",
    "    if num_classes==1:\n",
    "        listed_cmap = ListedColormap(palette)\n",
    "    else:\n",
    "        num_classes = len(df['cluster'].unique())\n",
    "        extended_palette = palette * (num_classes // len(palette) + 1)\n",
    "        extended_palette = extended_palette[:num_classes]\n",
    "        listed_cmap = ListedColormap(extended_palette)\n",
    "        \n",
    "    custom_params = custom_paramsForSPatialPlot()\n",
    "    sns.set_theme(style=\"whitegrid\", palette=\"pastel\", rc=custom_params)\n",
    "    for i, cluster in enumerate(df['cluster'].unique()):\n",
    "        cluster_data = df[df['cluster'] == cluster]\n",
    "        ax.scatter( x=cluster_data['x'], y=cluster_data['y'], color=listed_cmap(i), label=f'{cluster}', s=1, alpha=0.6)\n",
    "    ax.set_xticks([])\n",
    "    ax.set_yticks([])\n",
    "    ax.set_xlabel('')\n",
    "    ax.set_ylabel('')\n",
    "    legend = ax.legend(\n",
    "    title=\"Cluster\",\n",
    "    bbox_to_anchor=(1.05, 1),  # Position the legend outside the plot\n",
    "    loc='upper left',\n",
    "    fontsize='small',  # Control the font size\n",
    "    title_fontsize='medium',\n",
    "    markerscale=5,  # Increase the size of the legend markers\n",
    "    frameon=False# Control the title font size)\n",
    "    )"
   ]
  },
  {
   "cell_type": "code",
   "execution_count": null,
   "id": "68163752-4259-4982-9341-0377fade9cf1",
   "metadata": {},
   "outputs": [],
   "source": [
    "fig, ax = plt.subplots(1, 1, figsize=(5, 4))\n",
    "_plot_spatial(andata,ax = ax, features = None, title = '', xlab = '',ylab ='',size = 1)"
   ]
  },
  {
   "cell_type": "code",
   "execution_count": null,
   "id": "a31a677f-2897-43ff-874d-94ae5ff01656",
   "metadata": {},
   "outputs": [],
   "source": [
    "andata"
   ]
  },
  {
   "cell_type": "code",
   "execution_count": 87,
   "id": "b675f399-62cd-44a9-bdbc-c254825ccf29",
   "metadata": {},
   "outputs": [],
   "source": [
    "andata.X = andata.layers[\"counts\"]"
   ]
  },
  {
   "cell_type": "code",
   "execution_count": 88,
   "id": "463412a3-b906-4d66-9088-8e46b39f9051",
   "metadata": {},
   "outputs": [
    {
     "name": "stdout",
     "output_type": "stream",
     "text": [
      "[W] [18:16:10.602458] L-BFGS: max iterations reached\n",
      "[W] [18:16:10.603636] Maximum iterations reached before solver is converged. To increase model accuracy you can increase the number of iterations (max_iter) or improve the scaling of the input data.\n"
     ]
    }
   ],
   "source": [
    "rsc.tl.rank_genes_groups_logreg(andata, groupby=\"cluster\", use_raw=False)"
   ]
  },
  {
   "cell_type": "code",
   "execution_count": 91,
   "id": "8b1e7130-97b9-4dd1-98bb-b4f0c14edf50",
   "metadata": {},
   "outputs": [],
   "source": [
    "markers = np.ravel(pd.DataFrame.from_records(andata.uns['rank_genes_groups']['names']).to_numpy())\n",
    "intToId = {i:ind for i,ind in enumerate(andata.var_names)}\n",
    "IdToint = {ind:i for i,ind in enumerate(andata.var_names)}"
   ]
  },
  {
   "cell_type": "code",
   "execution_count": 90,
   "id": "4c6d38a6-85b6-4a65-95e4-92237ebc74ad",
   "metadata": {},
   "outputs": [
    {
     "data": {
      "text/plain": [
       "array(['INSL4', 'MS4A2', 'TNFRSF17', ..., 'XCR1', 'ANPEP', 'SH2D1B'],\n",
       "      dtype=object)"
      ]
     },
     "execution_count": 90,
     "metadata": {},
     "output_type": "execute_result"
    }
   ],
   "source": [
    "markers"
   ]
  },
  {
   "cell_type": "code",
   "execution_count": 100,
   "id": "015b0e96-44ab-40e9-b9e9-c5300c07a7c5",
   "metadata": {},
   "outputs": [],
   "source": [
    "def sparseTonp(data_matrix):\n",
    "    if isinstance(data_matrix, (np.ndarray, np.matrix)):\n",
    "        dense_data = np.array(data_matrix)\n",
    "    else:\n",
    "        dense_data = data_matrix.toarray()\n",
    "    return dense_data"
   ]
  },
  {
   "cell_type": "code",
   "execution_count": 115,
   "id": "f42b62d2-bbc6-403e-aa9b-d8a956c025a4",
   "metadata": {},
   "outputs": [
    {
     "data": {
      "text/plain": [
       "False"
      ]
     },
     "execution_count": 115,
     "metadata": {},
     "output_type": "execute_result"
    }
   ],
   "source": [
    "import scipy.sparse as sp\n",
    "sp.issparse(andata[:,andata.var.index.isin(['WT1'])].X)"
   ]
  },
  {
   "cell_type": "code",
   "execution_count": 136,
   "id": "6322d9c5-a297-4263-9db8-19efda0f8e34",
   "metadata": {},
   "outputs": [],
   "source": [
    "arr = sparseTonp(andata[:,andata.var.index.isin([markers[1]])].X)\n",
    "arr = np.ravel(arr)"
   ]
  },
  {
   "cell_type": "code",
   "execution_count": 137,
   "id": "08dcec9f-b688-46ff-8b0b-e3c49edead4f",
   "metadata": {},
   "outputs": [
    {
     "data": {
      "text/plain": [
       "array(['6', '9', '9', ..., '0', '0', '8'], dtype=object)"
      ]
     },
     "execution_count": 137,
     "metadata": {},
     "output_type": "execute_result"
    }
   ],
   "source": [
    "andata.obs['cluster'].to_numpy()"
   ]
  },
  {
   "cell_type": "code",
   "execution_count": 138,
   "id": "bb586c12-d878-486c-b335-6ddd05bda176",
   "metadata": {},
   "outputs": [],
   "source": [
    "import cupy\n",
    "arr = cupy.float32(arr.get())"
   ]
  },
  {
   "cell_type": "code",
   "execution_count": 139,
   "id": "9118eaf1-d3f6-40e0-a709-d77df6d9af91",
   "metadata": {
    "scrolled": true
   },
   "outputs": [
    {
     "data": {
      "text/html": [
       "<div>\n",
       "<style scoped>\n",
       "    .dataframe tbody tr th:only-of-type {\n",
       "        vertical-align: middle;\n",
       "    }\n",
       "\n",
       "    .dataframe tbody tr th {\n",
       "        vertical-align: top;\n",
       "    }\n",
       "\n",
       "    .dataframe thead th {\n",
       "        text-align: right;\n",
       "    }\n",
       "</style>\n",
       "<table border=\"1\" class=\"dataframe\">\n",
       "  <thead>\n",
       "    <tr style=\"text-align: right;\">\n",
       "      <th></th>\n",
       "      <th>cluster</th>\n",
       "      <th>MS4A2</th>\n",
       "    </tr>\n",
       "  </thead>\n",
       "  <tbody>\n",
       "    <tr>\n",
       "      <th>336</th>\n",
       "      <td>1</td>\n",
       "      <td>1.0</td>\n",
       "    </tr>\n",
       "    <tr>\n",
       "      <th>1282</th>\n",
       "      <td>1</td>\n",
       "      <td>3.0</td>\n",
       "    </tr>\n",
       "    <tr>\n",
       "      <th>1472</th>\n",
       "      <td>1</td>\n",
       "      <td>1.0</td>\n",
       "    </tr>\n",
       "    <tr>\n",
       "      <th>1732</th>\n",
       "      <td>9</td>\n",
       "      <td>1.0</td>\n",
       "    </tr>\n",
       "    <tr>\n",
       "      <th>1934</th>\n",
       "      <td>1</td>\n",
       "      <td>7.0</td>\n",
       "    </tr>\n",
       "    <tr>\n",
       "      <th>...</th>\n",
       "      <td>...</td>\n",
       "      <td>...</td>\n",
       "    </tr>\n",
       "    <tr>\n",
       "      <th>704166</th>\n",
       "      <td>1</td>\n",
       "      <td>1.0</td>\n",
       "    </tr>\n",
       "    <tr>\n",
       "      <th>704558</th>\n",
       "      <td>1</td>\n",
       "      <td>2.0</td>\n",
       "    </tr>\n",
       "    <tr>\n",
       "      <th>705107</th>\n",
       "      <td>1</td>\n",
       "      <td>2.0</td>\n",
       "    </tr>\n",
       "    <tr>\n",
       "      <th>705142</th>\n",
       "      <td>0</td>\n",
       "      <td>1.0</td>\n",
       "    </tr>\n",
       "    <tr>\n",
       "      <th>705284</th>\n",
       "      <td>1</td>\n",
       "      <td>2.0</td>\n",
       "    </tr>\n",
       "  </tbody>\n",
       "</table>\n",
       "<p>2569 rows × 2 columns</p>\n",
       "</div>"
      ],
      "text/plain": [
       "       cluster  MS4A2\n",
       "336          1    1.0\n",
       "1282         1    3.0\n",
       "1472         1    1.0\n",
       "1732         9    1.0\n",
       "1934         1    7.0\n",
       "...        ...    ...\n",
       "704166       1    1.0\n",
       "704558       1    2.0\n",
       "705107       1    2.0\n",
       "705142       0    1.0\n",
       "705284       1    2.0\n",
       "\n",
       "[2569 rows x 2 columns]"
      ]
     },
     "execution_count": 139,
     "metadata": {},
     "output_type": "execute_result"
    }
   ],
   "source": [
    "df_expression = pd.DataFrame({'cluster':andata.obs['cluster'].to_numpy()})\n",
    "df_expression[markers[1]] = arr\n",
    "df_expression = df_expression.loc[df_expression[markers[1]]>0,:]\n",
    "df_expression"
   ]
  },
  {
   "cell_type": "code",
   "execution_count": 141,
   "id": "f1b6d685-d3ff-4457-9c4b-725d8b2ea7b5",
   "metadata": {},
   "outputs": [
    {
     "data": {
      "text/plain": [
       "<Axes: xlabel='cluster', ylabel='MS4A2'>"
      ]
     },
     "execution_count": 141,
     "metadata": {},
     "output_type": "execute_result"
    },
    {
     "data": {
      "image/png": "[encoded data removed]",
      "text/plain": [
       "<Figure size 640x480 with 1 Axes>"
      ]
     },
     "metadata": {},
     "output_type": "display_data"
    }
   ],
   "source": [
    "sns.violinplot(data=df_expression, x=\"cluster\", y=markers[1], hue=\"cluster\")"
   ]
  },
  {
   "cell_type": "code",
   "execution_count": null,
   "id": "e2dd07db-7065-4465-b61b-b4f1768494a7",
   "metadata": {},
   "outputs": [],
   "source": [
    "andata[:,andata.var.index.isin(['WT1'])].X.todense()"
   ]
  },
  {
   "cell_type": "code",
   "execution_count": 96,
   "id": "cbdf9d32-2a05-4b00-801a-8a0192c14e02",
   "metadata": {},
   "outputs": [
    {
     "data": {
      "text/plain": [
       "array([0., 0., 0., ..., 0., 0., 0.], dtype=float32)"
      ]
     },
     "execution_count": 96,
     "metadata": {},
     "output_type": "execute_result"
    }
   ],
   "source": [
    "np.ravel(andata[:,andata.var.index.isin([markers[0]])].X.todense())"
   ]
  },
  {
   "cell_type": "code",
   "execution_count": 47,
   "id": "fe8d41ac-67d0-48df-bd7d-3675e2af7456",
   "metadata": {},
   "outputs": [
    {
     "data": {
      "text/plain": [
       "array(['WT1', 'MAT1A', 'HTR1A', ..., 'MZB1', 'CTSG', 'IGFBP1'],\n",
       "      dtype=object)"
      ]
     },
     "execution_count": 47,
     "metadata": {},
     "output_type": "execute_result"
    }
   ],
   "source": [
    "# reversed_markers = markers[::-1]\n",
    "# reversed_markers"
   ]
  },
  {
   "cell_type": "code",
   "execution_count": 63,
   "id": "db68b6f5-a5b0-4b83-801f-0a7cec09eb1e",
   "metadata": {},
   "outputs": [
    {
     "data": {
      "text/plain": [
       "array(['0', '1', '10', '11', '2', '3', '4', '5', '6', '7', '8', '9'],\n",
       "      dtype=object)"
      ]
     },
     "execution_count": 63,
     "metadata": {},
     "output_type": "execute_result"
    }
   ],
   "source": [
    "np.unique(andata.obs['cluster'].to_numpy())"
   ]
  },
  {
   "cell_type": "code",
   "execution_count": 71,
   "id": "edb9d286-56ee-4e7a-811f-3fd3d802e35c",
   "metadata": {},
   "outputs": [
    {
     "data": {
      "text/plain": [
       "array([-0.01517315, -0.01517315, -0.01517315, ..., -0.01517315,\n",
       "       -0.01517315, -0.01517315], dtype=float32)"
      ]
     },
     "execution_count": 71,
     "metadata": {},
     "output_type": "execute_result"
    }
   ],
   "source": [
    "np.ravel(andata[andata.obs['cluster'].isin(['1']),andata.var.index.isin(['WT1'])].X)"
   ]
  },
  {
   "cell_type": "code",
   "execution_count": 75,
   "id": "7c48ecb8-c0ee-47d6-8d04-f48392718350",
   "metadata": {},
   "outputs": [
    {
     "data": {
      "text/plain": [
       "<cupyx.scipy.sparse._csr.csr_matrix at 0x1553be407790>"
      ]
     },
     "execution_count": 75,
     "metadata": {},
     "output_type": "execute_result"
    }
   ],
   "source": [
    "andata.layers['counts']"
   ]
  },
  {
   "cell_type": "code",
   "execution_count": 50,
   "id": "af323ded-cda4-4a13-a316-778c66fd530a",
   "metadata": {
    "scrolled": true
   },
   "outputs": [
    {
     "ename": "TypeError",
     "evalue": "only list-like objects are allowed to be passed to isin(), you passed a `str`",
     "output_type": "error",
     "traceback": [
      "\u001b[0;31m---------------------------------------------------------------------------\u001b[0m",
      "\u001b[0;31mTypeError\u001b[0m                                 Traceback (most recent call last)",
      "Cell \u001b[0;32mIn[50], line 1\u001b[0m\n\u001b[0;32m----> 1\u001b[0m cluster \u001b[38;5;241m=\u001b[39m andata[:,\u001b[43mandata\u001b[49m\u001b[38;5;241;43m.\u001b[39;49m\u001b[43mvar\u001b[49m\u001b[43m[\u001b[49m\u001b[38;5;124;43m'\u001b[39;49m\u001b[38;5;124;43mgene_ids\u001b[39;49m\u001b[38;5;124;43m'\u001b[39;49m\u001b[43m]\u001b[49m\u001b[38;5;241;43m.\u001b[39;49m\u001b[43misin\u001b[49m\u001b[43m(\u001b[49m\u001b[38;5;124;43m'\u001b[39;49m\u001b[38;5;124;43mWT1\u001b[39;49m\u001b[38;5;124;43m'\u001b[39;49m\u001b[43m)\u001b[49m]\n\u001b[1;32m      2\u001b[0m cluster\n",
      "File \u001b[0;32m/usr/local/apps/rapids-singlecell/mamba/envs/rapids_singlecell/lib/python3.11/site-packages/pandas/core/series.py:5550\u001b[0m, in \u001b[0;36mSeries.isin\u001b[0;34m(self, values)\u001b[0m\n\u001b[1;32m   5477\u001b[0m \u001b[38;5;28;01mdef\u001b[39;00m \u001b[38;5;21misin\u001b[39m(\u001b[38;5;28mself\u001b[39m, values) \u001b[38;5;241m-\u001b[39m\u001b[38;5;241m>\u001b[39m Series:\n\u001b[1;32m   5478\u001b[0m \u001b[38;5;250m    \u001b[39m\u001b[38;5;124;03m\"\"\"\u001b[39;00m\n\u001b[1;32m   5479\u001b[0m \u001b[38;5;124;03m    Whether elements in Series are contained in `values`.\u001b[39;00m\n\u001b[1;32m   5480\u001b[0m \n\u001b[0;32m   (...)\u001b[0m\n\u001b[1;32m   5548\u001b[0m \u001b[38;5;124;03m    dtype: bool\u001b[39;00m\n\u001b[1;32m   5549\u001b[0m \u001b[38;5;124;03m    \"\"\"\u001b[39;00m\n\u001b[0;32m-> 5550\u001b[0m     result \u001b[38;5;241m=\u001b[39m \u001b[43malgorithms\u001b[49m\u001b[38;5;241;43m.\u001b[39;49m\u001b[43misin\u001b[49m\u001b[43m(\u001b[49m\u001b[38;5;28;43mself\u001b[39;49m\u001b[38;5;241;43m.\u001b[39;49m\u001b[43m_values\u001b[49m\u001b[43m,\u001b[49m\u001b[43m \u001b[49m\u001b[43mvalues\u001b[49m\u001b[43m)\u001b[49m\n\u001b[1;32m   5551\u001b[0m     \u001b[38;5;28;01mreturn\u001b[39;00m \u001b[38;5;28mself\u001b[39m\u001b[38;5;241m.\u001b[39m_constructor(result, index\u001b[38;5;241m=\u001b[39m\u001b[38;5;28mself\u001b[39m\u001b[38;5;241m.\u001b[39mindex, copy\u001b[38;5;241m=\u001b[39m\u001b[38;5;28;01mFalse\u001b[39;00m)\u001b[38;5;241m.\u001b[39m__finalize__(\n\u001b[1;32m   5552\u001b[0m         \u001b[38;5;28mself\u001b[39m, method\u001b[38;5;241m=\u001b[39m\u001b[38;5;124m\"\u001b[39m\u001b[38;5;124misin\u001b[39m\u001b[38;5;124m\"\u001b[39m\n\u001b[1;32m   5553\u001b[0m     )\n",
      "File \u001b[0;32m/usr/local/apps/rapids-singlecell/mamba/envs/rapids_singlecell/lib/python3.11/site-packages/pandas/core/algorithms.py:477\u001b[0m, in \u001b[0;36misin\u001b[0;34m(comps, values)\u001b[0m\n\u001b[1;32m    472\u001b[0m     \u001b[38;5;28;01mraise\u001b[39;00m \u001b[38;5;167;01mTypeError\u001b[39;00m(\n\u001b[1;32m    473\u001b[0m         \u001b[38;5;124m\"\u001b[39m\u001b[38;5;124monly list-like objects are allowed to be passed \u001b[39m\u001b[38;5;124m\"\u001b[39m\n\u001b[1;32m    474\u001b[0m         \u001b[38;5;124mf\u001b[39m\u001b[38;5;124m\"\u001b[39m\u001b[38;5;124mto isin(), you passed a `\u001b[39m\u001b[38;5;132;01m{\u001b[39;00m\u001b[38;5;28mtype\u001b[39m(comps)\u001b[38;5;241m.\u001b[39m\u001b[38;5;18m__name__\u001b[39m\u001b[38;5;132;01m}\u001b[39;00m\u001b[38;5;124m`\u001b[39m\u001b[38;5;124m\"\u001b[39m\n\u001b[1;32m    475\u001b[0m     )\n\u001b[1;32m    476\u001b[0m \u001b[38;5;28;01mif\u001b[39;00m \u001b[38;5;129;01mnot\u001b[39;00m is_list_like(values):\n\u001b[0;32m--> 477\u001b[0m     \u001b[38;5;28;01mraise\u001b[39;00m \u001b[38;5;167;01mTypeError\u001b[39;00m(\n\u001b[1;32m    478\u001b[0m         \u001b[38;5;124m\"\u001b[39m\u001b[38;5;124monly list-like objects are allowed to be passed \u001b[39m\u001b[38;5;124m\"\u001b[39m\n\u001b[1;32m    479\u001b[0m         \u001b[38;5;124mf\u001b[39m\u001b[38;5;124m\"\u001b[39m\u001b[38;5;124mto isin(), you passed a `\u001b[39m\u001b[38;5;132;01m{\u001b[39;00m\u001b[38;5;28mtype\u001b[39m(values)\u001b[38;5;241m.\u001b[39m\u001b[38;5;18m__name__\u001b[39m\u001b[38;5;132;01m}\u001b[39;00m\u001b[38;5;124m`\u001b[39m\u001b[38;5;124m\"\u001b[39m\n\u001b[1;32m    480\u001b[0m     )\n\u001b[1;32m    482\u001b[0m \u001b[38;5;28;01mif\u001b[39;00m \u001b[38;5;129;01mnot\u001b[39;00m \u001b[38;5;28misinstance\u001b[39m(values, (ABCIndex, ABCSeries, ABCExtensionArray, np\u001b[38;5;241m.\u001b[39mndarray)):\n\u001b[1;32m    483\u001b[0m     orig_values \u001b[38;5;241m=\u001b[39m \u001b[38;5;28mlist\u001b[39m(values)\n",
      "\u001b[0;31mTypeError\u001b[0m: only list-like objects are allowed to be passed to isin(), you passed a `str`"
     ]
    }
   ],
   "source": [
    "cluster = andata[:,andata.var['gene_ids'].isin('WT1')]\n",
    "cluster"
   ]
  },
  {
   "cell_type": "code",
   "execution_count": 99,
   "id": "787dab79-afbe-45d5-bb59-b6efff031d56",
   "metadata": {},
   "outputs": [
    {
     "data": {
      "text/plain": [
       "array([0., 0., 0., ..., 0., 0., 0.], dtype=float32)"
      ]
     },
     "execution_count": 99,
     "metadata": {},
     "output_type": "execute_result"
    }
   ],
   "source": [
    "np.ravel(andata[:,andata.var.index.isin([markers[0]])].X.todense())\n"
   ]
  },
  {
   "cell_type": "code",
   "execution_count": 85,
   "id": "1dd508fa-0306-4960-ba16-361fbd5ce623",
   "metadata": {},
   "outputs": [
    {
     "data": {
      "text/html": [
       "<div>\n",
       "<style scoped>\n",
       "    .dataframe tbody tr th:only-of-type {\n",
       "        vertical-align: middle;\n",
       "    }\n",
       "\n",
       "    .dataframe tbody tr th {\n",
       "        vertical-align: top;\n",
       "    }\n",
       "\n",
       "    .dataframe thead th {\n",
       "        text-align: right;\n",
       "    }\n",
       "</style>\n",
       "<table border=\"1\" class=\"dataframe\">\n",
       "  <thead>\n",
       "    <tr style=\"text-align: right;\">\n",
       "      <th></th>\n",
       "      <th>0</th>\n",
       "      <th>1</th>\n",
       "      <th>2</th>\n",
       "      <th>3</th>\n",
       "      <th>4</th>\n",
       "      <th>5</th>\n",
       "      <th>6</th>\n",
       "      <th>7</th>\n",
       "      <th>8</th>\n",
       "      <th>9</th>\n",
       "      <th>10</th>\n",
       "      <th>11</th>\n",
       "    </tr>\n",
       "  </thead>\n",
       "  <tbody>\n",
       "    <tr>\n",
       "      <th>0</th>\n",
       "      <td>1.036470</td>\n",
       "      <td>4.074120</td>\n",
       "      <td>1.541273</td>\n",
       "      <td>2.993958</td>\n",
       "      <td>4.372195</td>\n",
       "      <td>3.714128</td>\n",
       "      <td>1.628041</td>\n",
       "      <td>1.052367</td>\n",
       "      <td>1.745566</td>\n",
       "      <td>1.099458</td>\n",
       "      <td>1.376574</td>\n",
       "      <td>1.503446</td>\n",
       "    </tr>\n",
       "    <tr>\n",
       "      <th>1</th>\n",
       "      <td>1.010377</td>\n",
       "      <td>3.793213</td>\n",
       "      <td>1.388454</td>\n",
       "      <td>2.740102</td>\n",
       "      <td>4.019303</td>\n",
       "      <td>3.228041</td>\n",
       "      <td>1.545728</td>\n",
       "      <td>1.001400</td>\n",
       "      <td>1.458746</td>\n",
       "      <td>1.073312</td>\n",
       "      <td>0.961935</td>\n",
       "      <td>1.500165</td>\n",
       "    </tr>\n",
       "    <tr>\n",
       "      <th>2</th>\n",
       "      <td>0.985519</td>\n",
       "      <td>3.605386</td>\n",
       "      <td>1.229405</td>\n",
       "      <td>2.283158</td>\n",
       "      <td>2.314303</td>\n",
       "      <td>2.887815</td>\n",
       "      <td>1.324786</td>\n",
       "      <td>0.963515</td>\n",
       "      <td>1.448006</td>\n",
       "      <td>1.070037</td>\n",
       "      <td>0.936756</td>\n",
       "      <td>1.358590</td>\n",
       "    </tr>\n",
       "    <tr>\n",
       "      <th>3</th>\n",
       "      <td>0.983633</td>\n",
       "      <td>3.558998</td>\n",
       "      <td>1.222301</td>\n",
       "      <td>2.091318</td>\n",
       "      <td>2.284787</td>\n",
       "      <td>2.784596</td>\n",
       "      <td>1.207064</td>\n",
       "      <td>0.948808</td>\n",
       "      <td>1.414786</td>\n",
       "      <td>1.062740</td>\n",
       "      <td>0.936405</td>\n",
       "      <td>1.356084</td>\n",
       "    </tr>\n",
       "    <tr>\n",
       "      <th>4</th>\n",
       "      <td>0.962195</td>\n",
       "      <td>3.514557</td>\n",
       "      <td>1.210410</td>\n",
       "      <td>1.876039</td>\n",
       "      <td>2.210683</td>\n",
       "      <td>2.420844</td>\n",
       "      <td>1.084323</td>\n",
       "      <td>0.943974</td>\n",
       "      <td>1.258477</td>\n",
       "      <td>0.990268</td>\n",
       "      <td>0.929392</td>\n",
       "      <td>1.301793</td>\n",
       "    </tr>\n",
       "    <tr>\n",
       "      <th>...</th>\n",
       "      <td>...</td>\n",
       "      <td>...</td>\n",
       "      <td>...</td>\n",
       "      <td>...</td>\n",
       "      <td>...</td>\n",
       "      <td>...</td>\n",
       "      <td>...</td>\n",
       "      <td>...</td>\n",
       "      <td>...</td>\n",
       "      <td>...</td>\n",
       "      <td>...</td>\n",
       "      <td>...</td>\n",
       "    </tr>\n",
       "    <tr>\n",
       "      <th>4618</th>\n",
       "      <td>-1.092249</td>\n",
       "      <td>-0.762390</td>\n",
       "      <td>-1.509292</td>\n",
       "      <td>-1.214603</td>\n",
       "      <td>-1.138280</td>\n",
       "      <td>-1.119765</td>\n",
       "      <td>-1.620983</td>\n",
       "      <td>-1.087984</td>\n",
       "      <td>-1.005259</td>\n",
       "      <td>-0.850075</td>\n",
       "      <td>-1.175688</td>\n",
       "      <td>-1.869372</td>\n",
       "    </tr>\n",
       "    <tr>\n",
       "      <th>4619</th>\n",
       "      <td>-1.111196</td>\n",
       "      <td>-0.768831</td>\n",
       "      <td>-1.616725</td>\n",
       "      <td>-1.419524</td>\n",
       "      <td>-1.417231</td>\n",
       "      <td>-1.131963</td>\n",
       "      <td>-1.925052</td>\n",
       "      <td>-1.092356</td>\n",
       "      <td>-1.047566</td>\n",
       "      <td>-0.861263</td>\n",
       "      <td>-1.253667</td>\n",
       "      <td>-1.889344</td>\n",
       "    </tr>\n",
       "    <tr>\n",
       "      <th>4620</th>\n",
       "      <td>-1.130665</td>\n",
       "      <td>-0.780486</td>\n",
       "      <td>-1.673795</td>\n",
       "      <td>-1.435166</td>\n",
       "      <td>-1.466682</td>\n",
       "      <td>-1.137789</td>\n",
       "      <td>-1.995545</td>\n",
       "      <td>-1.095667</td>\n",
       "      <td>-1.088919</td>\n",
       "      <td>-1.371111</td>\n",
       "      <td>-1.507975</td>\n",
       "      <td>-1.933207</td>\n",
       "    </tr>\n",
       "    <tr>\n",
       "      <th>4621</th>\n",
       "      <td>-1.168275</td>\n",
       "      <td>-0.818416</td>\n",
       "      <td>-1.725924</td>\n",
       "      <td>-1.566615</td>\n",
       "      <td>-1.521689</td>\n",
       "      <td>-1.171235</td>\n",
       "      <td>-2.107846</td>\n",
       "      <td>-1.160085</td>\n",
       "      <td>-1.190991</td>\n",
       "      <td>-1.436841</td>\n",
       "      <td>-1.774897</td>\n",
       "      <td>-2.255667</td>\n",
       "    </tr>\n",
       "    <tr>\n",
       "      <th>4622</th>\n",
       "      <td>-1.289172</td>\n",
       "      <td>-1.172290</td>\n",
       "      <td>-1.984440</td>\n",
       "      <td>-1.700307</td>\n",
       "      <td>-1.650642</td>\n",
       "      <td>-1.607749</td>\n",
       "      <td>-2.401338</td>\n",
       "      <td>-1.217784</td>\n",
       "      <td>-1.318738</td>\n",
       "      <td>-1.608184</td>\n",
       "      <td>-1.879254</td>\n",
       "      <td>-2.417547</td>\n",
       "    </tr>\n",
       "  </tbody>\n",
       "</table>\n",
       "<p>4623 rows × 12 columns</p>\n",
       "</div>"
      ],
      "text/plain": [
       "             0         1         2         3         4         5         6  \\\n",
       "0     1.036470  4.074120  1.541273  2.993958  4.372195  3.714128  1.628041   \n",
       "1     1.010377  3.793213  1.388454  2.740102  4.019303  3.228041  1.545728   \n",
       "2     0.985519  3.605386  1.229405  2.283158  2.314303  2.887815  1.324786   \n",
       "3     0.983633  3.558998  1.222301  2.091318  2.284787  2.784596  1.207064   \n",
       "4     0.962195  3.514557  1.210410  1.876039  2.210683  2.420844  1.084323   \n",
       "...        ...       ...       ...       ...       ...       ...       ...   \n",
       "4618 -1.092249 -0.762390 -1.509292 -1.214603 -1.138280 -1.119765 -1.620983   \n",
       "4619 -1.111196 -0.768831 -1.616725 -1.419524 -1.417231 -1.131963 -1.925052   \n",
       "4620 -1.130665 -0.780486 -1.673795 -1.435166 -1.466682 -1.137789 -1.995545   \n",
       "4621 -1.168275 -0.818416 -1.725924 -1.566615 -1.521689 -1.171235 -2.107846   \n",
       "4622 -1.289172 -1.172290 -1.984440 -1.700307 -1.650642 -1.607749 -2.401338   \n",
       "\n",
       "             7         8         9        10        11  \n",
       "0     1.052367  1.745566  1.099458  1.376574  1.503446  \n",
       "1     1.001400  1.458746  1.073312  0.961935  1.500165  \n",
       "2     0.963515  1.448006  1.070037  0.936756  1.358590  \n",
       "3     0.948808  1.414786  1.062740  0.936405  1.356084  \n",
       "4     0.943974  1.258477  0.990268  0.929392  1.301793  \n",
       "...        ...       ...       ...       ...       ...  \n",
       "4618 -1.087984 -1.005259 -0.850075 -1.175688 -1.869372  \n",
       "4619 -1.092356 -1.047566 -0.861263 -1.253667 -1.889344  \n",
       "4620 -1.095667 -1.088919 -1.371111 -1.507975 -1.933207  \n",
       "4621 -1.160085 -1.190991 -1.436841 -1.774897 -2.255667  \n",
       "4622 -1.217784 -1.318738 -1.608184 -1.879254 -2.417547  \n",
       "\n",
       "[4623 rows x 12 columns]"
      ]
     },
     "execution_count": 85,
     "metadata": {},
     "output_type": "execute_result"
    }
   ],
   "source": [
    "pd.DataFrame.from_records(andata.uns['rank_genes_groups']['scores'])"
   ]
  },
  {
   "cell_type": "code",
   "execution_count": 86,
   "id": "c610cbb3-a86c-433c-b675-a0ffb5fa4a89",
   "metadata": {},
   "outputs": [
    {
     "name": "stderr",
     "output_type": "stream",
     "text": [
      "/tmp/ipykernel_462431/3136613327.py:3: FutureWarning: DataFrame.applymap has been deprecated. Use DataFrame.map instead.\n",
      "  p_values = pd.DataFrame.from_records(andata.uns['rank_genes_groups']['scores']).applymap(z_to_p)\n"
     ]
    },
    {
     "data": {
      "text/html": [
       "<div>\n",
       "<style scoped>\n",
       "    .dataframe tbody tr th:only-of-type {\n",
       "        vertical-align: middle;\n",
       "    }\n",
       "\n",
       "    .dataframe tbody tr th {\n",
       "        vertical-align: top;\n",
       "    }\n",
       "\n",
       "    .dataframe thead th {\n",
       "        text-align: right;\n",
       "    }\n",
       "</style>\n",
       "<table border=\"1\" class=\"dataframe\">\n",
       "  <thead>\n",
       "    <tr style=\"text-align: right;\">\n",
       "      <th></th>\n",
       "      <th>0</th>\n",
       "      <th>1</th>\n",
       "      <th>2</th>\n",
       "      <th>3</th>\n",
       "      <th>4</th>\n",
       "      <th>5</th>\n",
       "      <th>6</th>\n",
       "      <th>7</th>\n",
       "      <th>8</th>\n",
       "      <th>9</th>\n",
       "      <th>10</th>\n",
       "      <th>11</th>\n",
       "    </tr>\n",
       "  </thead>\n",
       "  <tbody>\n",
       "    <tr>\n",
       "      <th>0</th>\n",
       "      <td>0.299983</td>\n",
       "      <td>0.000046</td>\n",
       "      <td>0.123250</td>\n",
       "      <td>0.002754</td>\n",
       "      <td>0.000012</td>\n",
       "      <td>0.000204</td>\n",
       "      <td>0.103516</td>\n",
       "      <td>0.292631</td>\n",
       "      <td>0.080886</td>\n",
       "      <td>0.271569</td>\n",
       "      <td>0.168644</td>\n",
       "      <td>0.132724</td>\n",
       "    </tr>\n",
       "    <tr>\n",
       "      <th>1</th>\n",
       "      <td>0.312315</td>\n",
       "      <td>0.000149</td>\n",
       "      <td>0.164999</td>\n",
       "      <td>0.006142</td>\n",
       "      <td>0.000058</td>\n",
       "      <td>0.001246</td>\n",
       "      <td>0.122170</td>\n",
       "      <td>0.316633</td>\n",
       "      <td>0.144635</td>\n",
       "      <td>0.283131</td>\n",
       "      <td>0.336082</td>\n",
       "      <td>0.133572</td>\n",
       "    </tr>\n",
       "    <tr>\n",
       "      <th>2</th>\n",
       "      <td>0.324369</td>\n",
       "      <td>0.000312</td>\n",
       "      <td>0.218920</td>\n",
       "      <td>0.022421</td>\n",
       "      <td>0.020651</td>\n",
       "      <td>0.003879</td>\n",
       "      <td>0.185242</td>\n",
       "      <td>0.335289</td>\n",
       "      <td>0.147615</td>\n",
       "      <td>0.284603</td>\n",
       "      <td>0.348884</td>\n",
       "      <td>0.174276</td>\n",
       "    </tr>\n",
       "    <tr>\n",
       "      <th>3</th>\n",
       "      <td>0.325296</td>\n",
       "      <td>0.000372</td>\n",
       "      <td>0.221594</td>\n",
       "      <td>0.036500</td>\n",
       "      <td>0.022325</td>\n",
       "      <td>0.005359</td>\n",
       "      <td>0.227407</td>\n",
       "      <td>0.342718</td>\n",
       "      <td>0.157131</td>\n",
       "      <td>0.287900</td>\n",
       "      <td>0.349065</td>\n",
       "      <td>0.175073</td>\n",
       "    </tr>\n",
       "    <tr>\n",
       "      <th>4</th>\n",
       "      <td>0.335952</td>\n",
       "      <td>0.000440</td>\n",
       "      <td>0.226122</td>\n",
       "      <td>0.060650</td>\n",
       "      <td>0.027058</td>\n",
       "      <td>0.015485</td>\n",
       "      <td>0.278222</td>\n",
       "      <td>0.345183</td>\n",
       "      <td>0.208219</td>\n",
       "      <td>0.322043</td>\n",
       "      <td>0.352686</td>\n",
       "      <td>0.192987</td>\n",
       "    </tr>\n",
       "    <tr>\n",
       "      <th>...</th>\n",
       "      <td>...</td>\n",
       "      <td>...</td>\n",
       "      <td>...</td>\n",
       "      <td>...</td>\n",
       "      <td>...</td>\n",
       "      <td>...</td>\n",
       "      <td>...</td>\n",
       "      <td>...</td>\n",
       "      <td>...</td>\n",
       "      <td>...</td>\n",
       "      <td>...</td>\n",
       "      <td>...</td>\n",
       "    </tr>\n",
       "    <tr>\n",
       "      <th>4618</th>\n",
       "      <td>0.274724</td>\n",
       "      <td>0.445828</td>\n",
       "      <td>0.131224</td>\n",
       "      <td>0.224517</td>\n",
       "      <td>0.255004</td>\n",
       "      <td>0.262814</td>\n",
       "      <td>0.105021</td>\n",
       "      <td>0.276602</td>\n",
       "      <td>0.314772</td>\n",
       "      <td>0.395283</td>\n",
       "      <td>0.239720</td>\n",
       "      <td>0.061571</td>\n",
       "    </tr>\n",
       "    <tr>\n",
       "      <th>4619</th>\n",
       "      <td>0.266484</td>\n",
       "      <td>0.441994</td>\n",
       "      <td>0.105938</td>\n",
       "      <td>0.155746</td>\n",
       "      <td>0.156416</td>\n",
       "      <td>0.257650</td>\n",
       "      <td>0.054223</td>\n",
       "      <td>0.274677</td>\n",
       "      <td>0.294839</td>\n",
       "      <td>0.389093</td>\n",
       "      <td>0.209963</td>\n",
       "      <td>0.058846</td>\n",
       "    </tr>\n",
       "    <tr>\n",
       "      <th>4620</th>\n",
       "      <td>0.258196</td>\n",
       "      <td>0.435105</td>\n",
       "      <td>0.094171</td>\n",
       "      <td>0.151240</td>\n",
       "      <td>0.142462</td>\n",
       "      <td>0.255209</td>\n",
       "      <td>0.045984</td>\n",
       "      <td>0.273224</td>\n",
       "      <td>0.276190</td>\n",
       "      <td>0.170340</td>\n",
       "      <td>0.131561</td>\n",
       "      <td>0.053211</td>\n",
       "    </tr>\n",
       "    <tr>\n",
       "      <th>4621</th>\n",
       "      <td>0.242696</td>\n",
       "      <td>0.413120</td>\n",
       "      <td>0.084361</td>\n",
       "      <td>0.117205</td>\n",
       "      <td>0.128087</td>\n",
       "      <td>0.241504</td>\n",
       "      <td>0.035044</td>\n",
       "      <td>0.246014</td>\n",
       "      <td>0.233657</td>\n",
       "      <td>0.150763</td>\n",
       "      <td>0.075915</td>\n",
       "      <td>0.024091</td>\n",
       "    </tr>\n",
       "    <tr>\n",
       "      <th>4622</th>\n",
       "      <td>0.197338</td>\n",
       "      <td>0.241081</td>\n",
       "      <td>0.047207</td>\n",
       "      <td>0.089073</td>\n",
       "      <td>0.098812</td>\n",
       "      <td>0.107890</td>\n",
       "      <td>0.016335</td>\n",
       "      <td>0.223306</td>\n",
       "      <td>0.187257</td>\n",
       "      <td>0.107795</td>\n",
       "      <td>0.060210</td>\n",
       "      <td>0.015625</td>\n",
       "    </tr>\n",
       "  </tbody>\n",
       "</table>\n",
       "<p>4623 rows × 12 columns</p>\n",
       "</div>"
      ],
      "text/plain": [
       "             0         1         2         3         4         5         6  \\\n",
       "0     0.299983  0.000046  0.123250  0.002754  0.000012  0.000204  0.103516   \n",
       "1     0.312315  0.000149  0.164999  0.006142  0.000058  0.001246  0.122170   \n",
       "2     0.324369  0.000312  0.218920  0.022421  0.020651  0.003879  0.185242   \n",
       "3     0.325296  0.000372  0.221594  0.036500  0.022325  0.005359  0.227407   \n",
       "4     0.335952  0.000440  0.226122  0.060650  0.027058  0.015485  0.278222   \n",
       "...        ...       ...       ...       ...       ...       ...       ...   \n",
       "4618  0.274724  0.445828  0.131224  0.224517  0.255004  0.262814  0.105021   \n",
       "4619  0.266484  0.441994  0.105938  0.155746  0.156416  0.257650  0.054223   \n",
       "4620  0.258196  0.435105  0.094171  0.151240  0.142462  0.255209  0.045984   \n",
       "4621  0.242696  0.413120  0.084361  0.117205  0.128087  0.241504  0.035044   \n",
       "4622  0.197338  0.241081  0.047207  0.089073  0.098812  0.107890  0.016335   \n",
       "\n",
       "             7         8         9        10        11  \n",
       "0     0.292631  0.080886  0.271569  0.168644  0.132724  \n",
       "1     0.316633  0.144635  0.283131  0.336082  0.133572  \n",
       "2     0.335289  0.147615  0.284603  0.348884  0.174276  \n",
       "3     0.342718  0.157131  0.287900  0.349065  0.175073  \n",
       "4     0.345183  0.208219  0.322043  0.352686  0.192987  \n",
       "...        ...       ...       ...       ...       ...  \n",
       "4618  0.276602  0.314772  0.395283  0.239720  0.061571  \n",
       "4619  0.274677  0.294839  0.389093  0.209963  0.058846  \n",
       "4620  0.273224  0.276190  0.170340  0.131561  0.053211  \n",
       "4621  0.246014  0.233657  0.150763  0.075915  0.024091  \n",
       "4622  0.223306  0.187257  0.107795  0.060210  0.015625  \n",
       "\n",
       "[4623 rows x 12 columns]"
      ]
     },
     "execution_count": 86,
     "metadata": {},
     "output_type": "execute_result"
    }
   ],
   "source": [
    "def z_to_p(z):\n",
    "    return 2 * (1 - stats.norm.cdf(abs(z)))\n",
    "p_values = pd.DataFrame.from_records(andata.uns['rank_genes_groups']['scores']).applymap(z_to_p)\n",
    "p_values"
   ]
  },
  {
   "cell_type": "code",
   "execution_count": 79,
   "id": "3f9935f6-944b-4562-9477-c5577cacc079",
   "metadata": {},
   "outputs": [],
   "source": [
    "from rsc_functions.utility.rank_genes_groups import rank_genes_groups"
   ]
  },
  {
   "cell_type": "code",
   "execution_count": 80,
   "id": "e8c420e5-631d-4de2-abcd-69083750cb8f",
   "metadata": {},
   "outputs": [
    {
     "name": "stdout",
     "output_type": "stream",
     "text": [
      "[W] [18:08:10.886645] L-BFGS: max iterations reached\n",
      "[W] [18:08:10.887235] Maximum iterations reached before solver is converged. To increase model accuracy you can increase the number of iterations (max_iter) or improve the scaling of the input data.\n"
     ]
    },
    {
     "name": "stderr",
     "output_type": "stream",
     "text": [
      "/gpfs/gsfs10/users/kanferg/Sptial_Omics/SpatialOmicsToolkit/rsc_functions/utility/rank_genes_groups.py:10: FutureWarning: DataFrame.applymap has been deprecated. Use DataFrame.map instead.\n",
      "  p_values = pd.DataFrame.from_records(andata.uns['rank_genes_groups']['scores']).applymap(z_to_p)\n"
     ]
    }
   ],
   "source": [
    "p_values, pvals_corrected_df = rank_genes_groups(andata,return_andata = False)"
   ]
  },
  {
   "cell_type": "code",
   "execution_count": 81,
   "id": "1793491b-d9d7-4d3b-8b67-715782535642",
   "metadata": {},
   "outputs": [
    {
     "data": {
      "text/plain": [
       "(4623, 12)"
      ]
     },
     "execution_count": 81,
     "metadata": {},
     "output_type": "execute_result"
    }
   ],
   "source": [
    "pvals_corrected_df.shape"
   ]
  },
  {
   "cell_type": "code",
   "execution_count": 83,
   "id": "e64fcb4d-e29b-43cc-b6d5-a7b4a2fda1f0",
   "metadata": {},
   "outputs": [
    {
     "ename": "AttributeError",
     "evalue": "'DataFrame' object has no attribute 't'",
     "output_type": "error",
     "traceback": [
      "\u001b[0;31m---------------------------------------------------------------------------\u001b[0m",
      "\u001b[0;31mAttributeError\u001b[0m                            Traceback (most recent call last)",
      "Cell \u001b[0;32mIn[83], line 1\u001b[0m\n\u001b[0;32m----> 1\u001b[0m \u001b[43mpd\u001b[49m\u001b[38;5;241;43m.\u001b[39;49m\u001b[43mDataFrame\u001b[49m\u001b[38;5;241;43m.\u001b[39;49m\u001b[43mfrom_records\u001b[49m\u001b[43m(\u001b[49m\u001b[43mandata\u001b[49m\u001b[38;5;241;43m.\u001b[39;49m\u001b[43muns\u001b[49m\u001b[43m[\u001b[49m\u001b[38;5;124;43m'\u001b[39;49m\u001b[38;5;124;43mrank_genes_groups\u001b[39;49m\u001b[38;5;124;43m'\u001b[39;49m\u001b[43m]\u001b[49m\u001b[43m[\u001b[49m\u001b[38;5;124;43m'\u001b[39;49m\u001b[38;5;124;43mnames\u001b[39;49m\u001b[38;5;124;43m'\u001b[39;49m\u001b[43m]\u001b[49m\u001b[43m)\u001b[49m\u001b[38;5;241;43m.\u001b[39;49m\u001b[43mt\u001b[49m\n",
      "File \u001b[0;32m/usr/local/apps/rapids-singlecell/mamba/envs/rapids_singlecell/lib/python3.11/site-packages/pandas/core/generic.py:6296\u001b[0m, in \u001b[0;36mNDFrame.__getattr__\u001b[0;34m(self, name)\u001b[0m\n\u001b[1;32m   6289\u001b[0m \u001b[38;5;28;01mif\u001b[39;00m (\n\u001b[1;32m   6290\u001b[0m     name \u001b[38;5;129;01mnot\u001b[39;00m \u001b[38;5;129;01min\u001b[39;00m \u001b[38;5;28mself\u001b[39m\u001b[38;5;241m.\u001b[39m_internal_names_set\n\u001b[1;32m   6291\u001b[0m     \u001b[38;5;129;01mand\u001b[39;00m name \u001b[38;5;129;01mnot\u001b[39;00m \u001b[38;5;129;01min\u001b[39;00m \u001b[38;5;28mself\u001b[39m\u001b[38;5;241m.\u001b[39m_metadata\n\u001b[1;32m   6292\u001b[0m     \u001b[38;5;129;01mand\u001b[39;00m name \u001b[38;5;129;01mnot\u001b[39;00m \u001b[38;5;129;01min\u001b[39;00m \u001b[38;5;28mself\u001b[39m\u001b[38;5;241m.\u001b[39m_accessors\n\u001b[1;32m   6293\u001b[0m     \u001b[38;5;129;01mand\u001b[39;00m \u001b[38;5;28mself\u001b[39m\u001b[38;5;241m.\u001b[39m_info_axis\u001b[38;5;241m.\u001b[39m_can_hold_identifiers_and_holds_name(name)\n\u001b[1;32m   6294\u001b[0m ):\n\u001b[1;32m   6295\u001b[0m     \u001b[38;5;28;01mreturn\u001b[39;00m \u001b[38;5;28mself\u001b[39m[name]\n\u001b[0;32m-> 6296\u001b[0m \u001b[38;5;28;01mreturn\u001b[39;00m \u001b[38;5;28;43mobject\u001b[39;49m\u001b[38;5;241;43m.\u001b[39;49m\u001b[38;5;21;43m__getattribute__\u001b[39;49m\u001b[43m(\u001b[49m\u001b[38;5;28;43mself\u001b[39;49m\u001b[43m,\u001b[49m\u001b[43m \u001b[49m\u001b[43mname\u001b[49m\u001b[43m)\u001b[49m\n",
      "\u001b[0;31mAttributeError\u001b[0m: 'DataFrame' object has no attribute 't'"
     ]
    }
   ],
   "source": [
    "pd.DataFrame.from_records(andata.uns['rank_genes_groups']['names']).t"
   ]
  },
  {
   "cell_type": "code",
   "execution_count": 41,
   "id": "1f44e018-1f32-4598-b97e-e3d1ce05b15a",
   "metadata": {},
   "outputs": [
    {
     "data": {
      "text/plain": [
       "array(['IGFBP1', 'CTSG', 'MZB1', ..., 'HTR1A', 'MAT1A', 'WT1'],\n",
       "      dtype=object)"
      ]
     },
     "execution_count": 41,
     "metadata": {},
     "output_type": "execute_result"
    }
   ],
   "source": [
    "np.ravel(pd.DataFrame.from_records(andata.uns['rank_genes_groups']['names']).to_numpy())"
   ]
  },
  {
   "cell_type": "code",
   "execution_count": 26,
   "id": "470ef2b7-8a09-46cb-a898-7e145893a1ab",
   "metadata": {},
   "outputs": [],
   "source": [
    "intToId = {i:ind for i,ind in enumerate(andata.var_names)}\n",
    "IdToint = {ind:i for i,ind in enumerate(andata.var_names)}"
   ]
  },
  {
   "cell_type": "code",
   "execution_count": 84,
   "id": "03d45707-2a00-4a92-a460-08089aa31424",
   "metadata": {},
   "outputs": [
    {
     "data": {
      "text/html": [
       "<div>\n",
       "<style scoped>\n",
       "    .dataframe tbody tr th:only-of-type {\n",
       "        vertical-align: middle;\n",
       "    }\n",
       "\n",
       "    .dataframe tbody tr th {\n",
       "        vertical-align: top;\n",
       "    }\n",
       "\n",
       "    .dataframe thead th {\n",
       "        text-align: right;\n",
       "    }\n",
       "</style>\n",
       "<table border=\"1\" class=\"dataframe\">\n",
       "  <thead>\n",
       "    <tr style=\"text-align: right;\">\n",
       "      <th></th>\n",
       "      <th>0</th>\n",
       "      <th>1</th>\n",
       "      <th>2</th>\n",
       "      <th>3</th>\n",
       "      <th>4</th>\n",
       "      <th>5</th>\n",
       "      <th>6</th>\n",
       "      <th>7</th>\n",
       "      <th>8</th>\n",
       "      <th>9</th>\n",
       "      <th>10</th>\n",
       "      <th>11</th>\n",
       "    </tr>\n",
       "  </thead>\n",
       "  <tbody>\n",
       "    <tr>\n",
       "      <th>0</th>\n",
       "      <td>0.299983</td>\n",
       "      <td>0.000046</td>\n",
       "      <td>0.123250</td>\n",
       "      <td>0.002754</td>\n",
       "      <td>0.000012</td>\n",
       "      <td>0.000204</td>\n",
       "      <td>0.103516</td>\n",
       "      <td>0.292631</td>\n",
       "      <td>0.080886</td>\n",
       "      <td>0.271569</td>\n",
       "      <td>0.168644</td>\n",
       "      <td>0.132724</td>\n",
       "    </tr>\n",
       "    <tr>\n",
       "      <th>1</th>\n",
       "      <td>0.312315</td>\n",
       "      <td>0.000149</td>\n",
       "      <td>0.164999</td>\n",
       "      <td>0.006142</td>\n",
       "      <td>0.000058</td>\n",
       "      <td>0.001246</td>\n",
       "      <td>0.122170</td>\n",
       "      <td>0.316633</td>\n",
       "      <td>0.144635</td>\n",
       "      <td>0.283131</td>\n",
       "      <td>0.336082</td>\n",
       "      <td>0.133572</td>\n",
       "    </tr>\n",
       "    <tr>\n",
       "      <th>2</th>\n",
       "      <td>0.324369</td>\n",
       "      <td>0.000312</td>\n",
       "      <td>0.218920</td>\n",
       "      <td>0.022421</td>\n",
       "      <td>0.020651</td>\n",
       "      <td>0.003879</td>\n",
       "      <td>0.185242</td>\n",
       "      <td>0.335289</td>\n",
       "      <td>0.147615</td>\n",
       "      <td>0.284603</td>\n",
       "      <td>0.348884</td>\n",
       "      <td>0.174276</td>\n",
       "    </tr>\n",
       "    <tr>\n",
       "      <th>3</th>\n",
       "      <td>0.325296</td>\n",
       "      <td>0.000372</td>\n",
       "      <td>0.221594</td>\n",
       "      <td>0.036500</td>\n",
       "      <td>0.022325</td>\n",
       "      <td>0.005359</td>\n",
       "      <td>0.227407</td>\n",
       "      <td>0.342718</td>\n",
       "      <td>0.157131</td>\n",
       "      <td>0.287900</td>\n",
       "      <td>0.349065</td>\n",
       "      <td>0.175073</td>\n",
       "    </tr>\n",
       "    <tr>\n",
       "      <th>4</th>\n",
       "      <td>0.335952</td>\n",
       "      <td>0.000440</td>\n",
       "      <td>0.226122</td>\n",
       "      <td>0.060650</td>\n",
       "      <td>0.027058</td>\n",
       "      <td>0.015485</td>\n",
       "      <td>0.278222</td>\n",
       "      <td>0.345183</td>\n",
       "      <td>0.208219</td>\n",
       "      <td>0.322043</td>\n",
       "      <td>0.352686</td>\n",
       "      <td>0.192987</td>\n",
       "    </tr>\n",
       "    <tr>\n",
       "      <th>...</th>\n",
       "      <td>...</td>\n",
       "      <td>...</td>\n",
       "      <td>...</td>\n",
       "      <td>...</td>\n",
       "      <td>...</td>\n",
       "      <td>...</td>\n",
       "      <td>...</td>\n",
       "      <td>...</td>\n",
       "      <td>...</td>\n",
       "      <td>...</td>\n",
       "      <td>...</td>\n",
       "      <td>...</td>\n",
       "    </tr>\n",
       "    <tr>\n",
       "      <th>4618</th>\n",
       "      <td>0.274724</td>\n",
       "      <td>0.445828</td>\n",
       "      <td>0.131224</td>\n",
       "      <td>0.224517</td>\n",
       "      <td>0.255004</td>\n",
       "      <td>0.262814</td>\n",
       "      <td>0.105021</td>\n",
       "      <td>0.276602</td>\n",
       "      <td>0.314772</td>\n",
       "      <td>0.395283</td>\n",
       "      <td>0.239720</td>\n",
       "      <td>0.061571</td>\n",
       "    </tr>\n",
       "    <tr>\n",
       "      <th>4619</th>\n",
       "      <td>0.266484</td>\n",
       "      <td>0.441994</td>\n",
       "      <td>0.105938</td>\n",
       "      <td>0.155746</td>\n",
       "      <td>0.156416</td>\n",
       "      <td>0.257650</td>\n",
       "      <td>0.054223</td>\n",
       "      <td>0.274677</td>\n",
       "      <td>0.294839</td>\n",
       "      <td>0.389093</td>\n",
       "      <td>0.209963</td>\n",
       "      <td>0.058846</td>\n",
       "    </tr>\n",
       "    <tr>\n",
       "      <th>4620</th>\n",
       "      <td>0.258196</td>\n",
       "      <td>0.435105</td>\n",
       "      <td>0.094171</td>\n",
       "      <td>0.151240</td>\n",
       "      <td>0.142462</td>\n",
       "      <td>0.255209</td>\n",
       "      <td>0.045984</td>\n",
       "      <td>0.273224</td>\n",
       "      <td>0.276190</td>\n",
       "      <td>0.170340</td>\n",
       "      <td>0.131561</td>\n",
       "      <td>0.053211</td>\n",
       "    </tr>\n",
       "    <tr>\n",
       "      <th>4621</th>\n",
       "      <td>0.242696</td>\n",
       "      <td>0.413120</td>\n",
       "      <td>0.084361</td>\n",
       "      <td>0.117205</td>\n",
       "      <td>0.128087</td>\n",
       "      <td>0.241504</td>\n",
       "      <td>0.035044</td>\n",
       "      <td>0.246014</td>\n",
       "      <td>0.233657</td>\n",
       "      <td>0.150763</td>\n",
       "      <td>0.075915</td>\n",
       "      <td>0.024091</td>\n",
       "    </tr>\n",
       "    <tr>\n",
       "      <th>4622</th>\n",
       "      <td>0.197338</td>\n",
       "      <td>0.241081</td>\n",
       "      <td>0.047207</td>\n",
       "      <td>0.089073</td>\n",
       "      <td>0.098812</td>\n",
       "      <td>0.107890</td>\n",
       "      <td>0.016335</td>\n",
       "      <td>0.223306</td>\n",
       "      <td>0.187257</td>\n",
       "      <td>0.107795</td>\n",
       "      <td>0.060210</td>\n",
       "      <td>0.015625</td>\n",
       "    </tr>\n",
       "  </tbody>\n",
       "</table>\n",
       "<p>4623 rows × 12 columns</p>\n",
       "</div>"
      ],
      "text/plain": [
       "             0         1         2         3         4         5         6  \\\n",
       "0     0.299983  0.000046  0.123250  0.002754  0.000012  0.000204  0.103516   \n",
       "1     0.312315  0.000149  0.164999  0.006142  0.000058  0.001246  0.122170   \n",
       "2     0.324369  0.000312  0.218920  0.022421  0.020651  0.003879  0.185242   \n",
       "3     0.325296  0.000372  0.221594  0.036500  0.022325  0.005359  0.227407   \n",
       "4     0.335952  0.000440  0.226122  0.060650  0.027058  0.015485  0.278222   \n",
       "...        ...       ...       ...       ...       ...       ...       ...   \n",
       "4618  0.274724  0.445828  0.131224  0.224517  0.255004  0.262814  0.105021   \n",
       "4619  0.266484  0.441994  0.105938  0.155746  0.156416  0.257650  0.054223   \n",
       "4620  0.258196  0.435105  0.094171  0.151240  0.142462  0.255209  0.045984   \n",
       "4621  0.242696  0.413120  0.084361  0.117205  0.128087  0.241504  0.035044   \n",
       "4622  0.197338  0.241081  0.047207  0.089073  0.098812  0.107890  0.016335   \n",
       "\n",
       "             7         8         9        10        11  \n",
       "0     0.292631  0.080886  0.271569  0.168644  0.132724  \n",
       "1     0.316633  0.144635  0.283131  0.336082  0.133572  \n",
       "2     0.335289  0.147615  0.284603  0.348884  0.174276  \n",
       "3     0.342718  0.157131  0.287900  0.349065  0.175073  \n",
       "4     0.345183  0.208219  0.322043  0.352686  0.192987  \n",
       "...        ...       ...       ...       ...       ...  \n",
       "4618  0.276602  0.314772  0.395283  0.239720  0.061571  \n",
       "4619  0.274677  0.294839  0.389093  0.209963  0.058846  \n",
       "4620  0.273224  0.276190  0.170340  0.131561  0.053211  \n",
       "4621  0.246014  0.233657  0.150763  0.075915  0.024091  \n",
       "4622  0.223306  0.187257  0.107795  0.060210  0.015625  \n",
       "\n",
       "[4623 rows x 12 columns]"
      ]
     },
     "execution_count": 84,
     "metadata": {},
     "output_type": "execute_result"
    }
   ],
   "source": [
    "p_values"
   ]
  },
  {
   "cell_type": "code",
   "execution_count": 35,
   "id": "7a5da23d-338f-4438-ae38-569910cc3344",
   "metadata": {},
   "outputs": [
    {
     "data": {
      "text/plain": [
       "array([4622, 4621, 4620, ..., 1317, 1319, 1318])"
      ]
     },
     "execution_count": 35,
     "metadata": {},
     "output_type": "execute_result"
    }
   ],
   "source": [
    "np.argsort(p_values.iloc[:,0].to_numpy())"
   ]
  },
  {
   "cell_type": "code",
   "execution_count": null,
   "id": "2a287ee0-8516-4c07-8ea5-830b262ec91a",
   "metadata": {},
   "outputs": [],
   "source": []
  }
 ],
 "metadata": {
  "kernelspec": {
   "display_name": "Python 3 (ipykernel)",
   "language": "python",
   "name": "python3"
  },
  "language_info": {
   "codemirror_mode": {
    "name": "ipython",
    "version": 3
   },
   "file_extension": ".py",
   "mimetype": "text/x-python",
   "name": "python",
   "nbconvert_exporter": "python",
   "pygments_lexer": "ipython3",
   "version": "3.11.9"
  }
 },
 "nbformat": 4,
 "nbformat_minor": 5
}
