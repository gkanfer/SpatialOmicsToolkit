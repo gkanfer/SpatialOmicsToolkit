{
 "cells": [
  {
   "cell_type": "markdown",
   "id": "762dd945-3799-40d3-bdee-d6b31da7da09",
   "metadata": {},
   "source": [
    "https://github.com/Teichlab/celltypist"
   ]
  },
  {
   "cell_type": "code",
   "execution_count": 11,
   "id": "e849b844-f481-4e82-95ea-57e7d71c0c58",
   "metadata": {},
   "outputs": [],
   "source": [
    "import celltypist\n",
    "import celltypist as ct\n",
    "from celltypist import models"
   ]
  },
  {
   "cell_type": "code",
   "execution_count": 4,
   "id": "eb586dbe-5b5f-460b-900e-990656c68122",
   "metadata": {},
   "outputs": [
    {
     "name": "stderr",
     "output_type": "stream",
     "text": [
      "📂 Storing models in /home/kanferg/.celltypist/data/models\n",
      "⏩ Skipping [1/50]: Immune_All_Low.pkl (file exists)\n",
      "⏩ Skipping [2/50]: Immune_All_High.pkl (file exists)\n",
      "💾 Downloading model [3/50]: Adult_COVID19_PBMC.pkl\n",
      "⏩ Skipping [4/50]: Adult_CynomolgusMacaque_Hippocampus.pkl (file exists)\n",
      "⏩ Skipping [5/50]: Adult_Human_PancreaticIslet.pkl (file exists)\n",
      "⏩ Skipping [6/50]: Adult_Human_Skin.pkl (file exists)\n",
      "⏩ Skipping [7/50]: Adult_Mouse_Gut.pkl (file exists)\n",
      "⏩ Skipping [8/50]: Adult_Mouse_OlfactoryBulb.pkl (file exists)\n",
      "⏩ Skipping [9/50]: Adult_Pig_Hippocampus.pkl (file exists)\n",
      "⏩ Skipping [10/50]: Adult_RhesusMacaque_Hippocampus.pkl (file exists)\n",
      "⏩ Skipping [11/50]: Autopsy_COVID19_Lung.pkl (file exists)\n",
      "⏩ Skipping [12/50]: COVID19_HumanChallenge_Blood.pkl (file exists)\n",
      "⏩ Skipping [13/50]: COVID19_Immune_Landscape.pkl (file exists)\n",
      "⏩ Skipping [14/50]: Cells_Adult_Breast.pkl (file exists)\n",
      "⏩ Skipping [15/50]: Cells_Fetal_Lung.pkl (file exists)\n",
      "⏩ Skipping [16/50]: Cells_Human_Tonsil.pkl (file exists)\n",
      "⏩ Skipping [17/50]: Cells_Intestinal_Tract.pkl (file exists)\n",
      "⏩ Skipping [18/50]: Cells_Lung_Airway.pkl (file exists)\n",
      "⏩ Skipping [19/50]: Developing_Human_Brain.pkl (file exists)\n",
      "⏩ Skipping [20/50]: Developing_Human_Gonads.pkl (file exists)\n",
      "⏩ Skipping [21/50]: Developing_Human_Hippocampus.pkl (file exists)\n",
      "⏩ Skipping [22/50]: Developing_Human_Organs.pkl (file exists)\n",
      "⏩ Skipping [23/50]: Developing_Human_Thymus.pkl (file exists)\n",
      "⏩ Skipping [24/50]: Developing_Mouse_Brain.pkl (file exists)\n",
      "⏩ Skipping [25/50]: Developing_Mouse_Hippocampus.pkl (file exists)\n",
      "⏩ Skipping [26/50]: Fetal_Human_AdrenalGlands.pkl (file exists)\n",
      "⏩ Skipping [27/50]: Fetal_Human_Pancreas.pkl (file exists)\n",
      "⏩ Skipping [28/50]: Fetal_Human_Pituitary.pkl (file exists)\n",
      "⏩ Skipping [29/50]: Fetal_Human_Retina.pkl (file exists)\n",
      "⏩ Skipping [30/50]: Fetal_Human_Skin.pkl (file exists)\n",
      "⏩ Skipping [31/50]: Healthy_Adult_Heart.pkl (file exists)\n",
      "⏩ Skipping [32/50]: Healthy_COVID19_PBMC.pkl (file exists)\n",
      "⏩ Skipping [33/50]: Healthy_Human_Liver.pkl (file exists)\n",
      "⏩ Skipping [34/50]: Healthy_Mouse_Liver.pkl (file exists)\n",
      "⏩ Skipping [35/50]: Human_AdultAged_Hippocampus.pkl (file exists)\n",
      "⏩ Skipping [36/50]: Human_Colorectal_Cancer.pkl (file exists)\n",
      "⏩ Skipping [37/50]: Human_Developmental_Retina.pkl (file exists)\n",
      "⏩ Skipping [38/50]: Human_Embryonic_YolkSac.pkl (file exists)\n",
      "⏩ Skipping [39/50]: Human_IPF_Lung.pkl (file exists)\n",
      "⏩ Skipping [40/50]: Human_Longitudinal_Hippocampus.pkl (file exists)\n",
      "⏩ Skipping [41/50]: Human_Lung_Atlas.pkl (file exists)\n",
      "⏩ Skipping [42/50]: Human_PF_Lung.pkl (file exists)\n",
      "💾 Downloading model [43/50]: Human_Placenta_Decidua.pkl\n",
      "⏩ Skipping [44/50]: Lethal_COVID19_Lung.pkl (file exists)\n",
      "⏩ Skipping [45/50]: Mouse_Dentate_Gyrus.pkl (file exists)\n",
      "⏩ Skipping [46/50]: Mouse_Isocortex_Hippocampus.pkl (file exists)\n",
      "⏩ Skipping [47/50]: Mouse_Postnatal_DentateGyrus.pkl (file exists)\n",
      "⏩ Skipping [48/50]: Mouse_Whole_Brain.pkl (file exists)\n",
      "⏩ Skipping [49/50]: Nuclei_Lung_Airway.pkl (file exists)\n",
      "⏩ Skipping [50/50]: Pan_Fetal_Human.pkl (file exists)\n",
      "📜 Retrieving model list from server https://celltypist.cog.sanger.ac.uk/models/models.json\n",
      "📚 Total models in list: 50\n",
      "📂 Storing models in /home/kanferg/.celltypist/data/models\n",
      "💾 Downloading model [1/50]: Immune_All_Low.pkl\n",
      "💾 Downloading model [2/50]: Immune_All_High.pkl\n",
      "💾 Downloading model [3/50]: Adult_COVID19_PBMC.pkl\n",
      "💾 Downloading model [4/50]: Adult_CynomolgusMacaque_Hippocampus.pkl\n",
      "💾 Downloading model [5/50]: Adult_Human_PancreaticIslet.pkl\n",
      "💾 Downloading model [6/50]: Adult_Human_Skin.pkl\n",
      "💾 Downloading model [7/50]: Adult_Mouse_Gut.pkl\n",
      "💾 Downloading model [8/50]: Adult_Mouse_OlfactoryBulb.pkl\n",
      "💾 Downloading model [9/50]: Adult_Pig_Hippocampus.pkl\n",
      "💾 Downloading model [10/50]: Adult_RhesusMacaque_Hippocampus.pkl\n",
      "💾 Downloading model [11/50]: Autopsy_COVID19_Lung.pkl\n",
      "💾 Downloading model [12/50]: COVID19_HumanChallenge_Blood.pkl\n",
      "💾 Downloading model [13/50]: COVID19_Immune_Landscape.pkl\n",
      "💾 Downloading model [14/50]: Cells_Adult_Breast.pkl\n",
      "💾 Downloading model [15/50]: Cells_Fetal_Lung.pkl\n",
      "💾 Downloading model [16/50]: Cells_Human_Tonsil.pkl\n",
      "💾 Downloading model [17/50]: Cells_Intestinal_Tract.pkl\n",
      "💾 Downloading model [18/50]: Cells_Lung_Airway.pkl\n",
      "💾 Downloading model [19/50]: Developing_Human_Brain.pkl\n",
      "💾 Downloading model [20/50]: Developing_Human_Gonads.pkl\n",
      "💾 Downloading model [21/50]: Developing_Human_Hippocampus.pkl\n",
      "💾 Downloading model [22/50]: Developing_Human_Organs.pkl\n",
      "💾 Downloading model [23/50]: Developing_Human_Thymus.pkl\n",
      "💾 Downloading model [24/50]: Developing_Mouse_Brain.pkl\n",
      "💾 Downloading model [25/50]: Developing_Mouse_Hippocampus.pkl\n",
      "💾 Downloading model [26/50]: Fetal_Human_AdrenalGlands.pkl\n",
      "💾 Downloading model [27/50]: Fetal_Human_Pancreas.pkl\n",
      "💾 Downloading model [28/50]: Fetal_Human_Pituitary.pkl\n",
      "💾 Downloading model [29/50]: Fetal_Human_Retina.pkl\n",
      "💾 Downloading model [30/50]: Fetal_Human_Skin.pkl\n",
      "💾 Downloading model [31/50]: Healthy_Adult_Heart.pkl\n",
      "💾 Downloading model [32/50]: Healthy_COVID19_PBMC.pkl\n",
      "💾 Downloading model [33/50]: Healthy_Human_Liver.pkl\n",
      "💾 Downloading model [34/50]: Healthy_Mouse_Liver.pkl\n",
      "💾 Downloading model [35/50]: Human_AdultAged_Hippocampus.pkl\n",
      "💾 Downloading model [36/50]: Human_Colorectal_Cancer.pkl\n",
      "💾 Downloading model [37/50]: Human_Developmental_Retina.pkl\n",
      "💾 Downloading model [38/50]: Human_Embryonic_YolkSac.pkl\n",
      "💾 Downloading model [39/50]: Human_IPF_Lung.pkl\n",
      "💾 Downloading model [40/50]: Human_Longitudinal_Hippocampus.pkl\n",
      "💾 Downloading model [41/50]: Human_Lung_Atlas.pkl\n",
      "💾 Downloading model [42/50]: Human_PF_Lung.pkl\n",
      "💾 Downloading model [43/50]: Human_Placenta_Decidua.pkl\n",
      "💾 Downloading model [44/50]: Lethal_COVID19_Lung.pkl\n",
      "💾 Downloading model [45/50]: Mouse_Dentate_Gyrus.pkl\n",
      "💾 Downloading model [46/50]: Mouse_Isocortex_Hippocampus.pkl\n",
      "💾 Downloading model [47/50]: Mouse_Postnatal_DentateGyrus.pkl\n",
      "💾 Downloading model [48/50]: Mouse_Whole_Brain.pkl\n",
      "💾 Downloading model [49/50]: Nuclei_Lung_Airway.pkl\n",
      "💾 Downloading model [50/50]: Pan_Fetal_Human.pkl\n"
     ]
    }
   ],
   "source": [
    "#Download all the available models.\n",
    "models.download_models()\n",
    "#Update all models by re-downloading the latest versions if you think they may be outdated.\n",
    "models.download_models(force_update = True)"
   ]
  },
  {
   "cell_type": "code",
   "execution_count": 6,
   "id": "f1317362-1672-47f5-beba-a08915710595",
   "metadata": {},
   "outputs": [],
   "source": [
    "model = models.Model.load()"
   ]
  },
  {
   "cell_type": "code",
   "execution_count": 8,
   "id": "4a78d3b7-5e3d-4a33-8db3-95c0c1f30afa",
   "metadata": {},
   "outputs": [],
   "source": [
    "import cupy as cp\n",
    "import cupyx\n",
    "import scanpy as sc\n",
    "import numpy as np\n",
    "import pandas as pd\n",
    "from cupyx.scipy.sparse import csr_matrix\n",
    "import os\n",
    "from PIL import Image\n",
    "from sklearn.linear_model import LinearRegression\n",
    "import pickle\n",
    "import pickle\n",
    "import esda\n",
    "import pandas as pd\n",
    "import geopandas as gpd\n",
    "from geopandas import GeoDataFrame\n",
    "import libpysal as lps\n",
    "from libpysal.weights import W\n",
    "import numpy as np\n",
    "import matplotlib.pyplot as plt\n",
    "from shapely.geometry import Point\n",
    "import seaborn as sns \n",
    "from scipy.sparse import csr_matrix\n",
    "import pickle\n",
    "path = \"/data/kanferg/Sptial_Omics/playGround/Data/Xenium/output_temp\"\n",
    "pathout = \"/data/kanferg/Sptial_Omics/SpatialOmicsToolkit/out_1\"\n",
    "FilePrefix = \"_072824\" \n",
    "grid = sc.read_h5ad(os.path.join(pathout, \"grid_save.h5ad\"))\n",
    "file_path = os.path.join(pathout, \"grid_uns_mtracies.pkl\")\n",
    "\n",
    "if os.path.getsize(file_path) > 0:\n",
    "    with open(file_path, 'rb') as buff:\n",
    "        grid_uns_mtracies = pickle.load(buff)\n",
    "else:\n",
    "    print(\"File is empty. Cannot load data.\")\n",
    "    grid_uns_mtracies = None\n",
    "grid.uns = {}\n",
    "grid.uns['cluster'] = pd.read_csv(os.path.join(pathout, \"cluster.csv\"))\n",
    "grid.uns['grid_counts'] = grid_uns_mtracies['grid_counts']\n",
    "grid.uns['grid_xedges'] = grid_uns_mtracies['grid_xedges']\n",
    "grid.uns['grid_yedges'] = grid_uns_mtracies['grid_yedges']\n",
    "grid.uns['lrfeatures'] = pd.read_csv(os.path.join(pathout, \"lrfeatures.csv\"))\n",
    "grid.uns['lr_summary'] = pd.read_csv(os.path.join(pathout, \"lr_summary.csv\"))\n",
    "sparse_matrix = grid.X\n",
    "row_sums = sparse_matrix.sum(axis=1)\n",
    "grid.obs['n_counts'] = np.array(row_sums).flatten()"
   ]
  },
  {
   "cell_type": "code",
   "execution_count": 13,
   "id": "ec682ebb-3dd3-4d80-a020-54b3001321cb",
   "metadata": {},
   "outputs": [],
   "source": [
    "grid.layers['counts'] = grid.X.copy()\n",
    "sc.pp.normalize_total(grid)\n",
    "sc.pp.log1p(grid)\n",
    "grid.layers['log'] = grid.X.copy()"
   ]
  },
  {
   "cell_type": "code",
   "execution_count": 17,
   "id": "13c2be07-6a30-4f55-9a93-7212fcb1e9cd",
   "metadata": {},
   "outputs": [
    {
     "name": "stderr",
     "output_type": "stream",
     "text": [
      "⚠️ Warning: invalid expression matrix, expect ALL genes and log1p normalized expression to 10000 counts per cell. The prediction result may not be accurate\n",
      "🔬 Input data has 35389 cells and 1500 genes\n",
      "🔗 Matching reference genes in the model\n",
      "🧬 775 features used for prediction\n",
      "⚖️ Scaling input data\n",
      "🖋️ Predicting labels\n",
      "✅ Prediction done!\n"
     ]
    }
   ],
   "source": [
    "predictions = ct.annotate(grid, model=model, majority_voting=False, over_clustering=\"cluster\")\n",
    "# convert back to anndata||\n",
    "adata = predictions.to_adata()"
   ]
  },
  {
   "cell_type": "code",
   "execution_count": 18,
   "id": "010d15e0-4dc2-441f-aa0f-73e711b49f3b",
   "metadata": {},
   "outputs": [
    {
     "data": {
      "text/plain": [
       "grid_112      Endothelial cells\n",
       "grid_114      Endothelial cells\n",
       "grid_115      Endothelial cells\n",
       "grid_116      Endothelial cells\n",
       "grid_122      Endothelial cells\n",
       "                    ...        \n",
       "grid_62417    Endothelial cells\n",
       "grid_62420          Fibroblasts\n",
       "grid_62422          Fibroblasts\n",
       "grid_62423          Fibroblasts\n",
       "grid_62444          Fibroblasts\n",
       "Name: majority_voting, Length: 35389, dtype: category\n",
       "Categories (3, object): ['Endothelial cells', 'Fibroblasts', 'Mast cells']"
      ]
     },
     "execution_count": 18,
     "metadata": {},
     "output_type": "execute_result"
    }
   ],
   "source": [
    "adata.obs['majority_voting']"
   ]
  },
  {
   "cell_type": "code",
   "execution_count": null,
   "id": "41560dd2-12a3-4186-8e2d-13c90296b10d",
   "metadata": {},
   "outputs": [],
   "source": []
  }
 ],
 "metadata": {
  "kernelspec": {
   "display_name": "Python 3 (ipykernel)",
   "language": "python",
   "name": "python3"
  },
  "language_info": {
   "codemirror_mode": {
    "name": "ipython",
    "version": 3
   },
   "file_extension": ".py",
   "mimetype": "text/x-python",
   "name": "python",
   "nbconvert_exporter": "python",
   "pygments_lexer": "ipython3",
   "version": "3.8.19"
  }
 },
 "nbformat": 4,
 "nbformat_minor": 5
}
