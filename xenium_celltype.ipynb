{
 "cells": [
  {
   "cell_type": "markdown",
   "id": "065621eb-6901-4af4-9d8d-e76e96957073",
   "metadata": {},
   "source": [
    "In this notebook, I will demonstrate an example using melanoma data and assign gene information from the 5k panel.\n"
   ]
  },
  {
   "cell_type": "markdown",
   "id": "3a4db36a-2193-4b97-94cf-9b6757a10636",
   "metadata": {},
   "source": [
    "```bash\n",
    "source myconda \n",
    "mamba activate stlearn-env  \n",
    "jupyter notebook --ip localhost --port $PORT1 --no-browser \n",
    "```"
   ]
  },
  {
   "cell_type": "code",
   "execution_count": 2,
   "id": "c039c404-97a7-4737-b76a-24e961c1b68c",
   "metadata": {},
   "outputs": [],
   "source": [
    "import cupy as cp\n",
    "import cupyx\n",
    "import scanpy as sc\n",
    "import numpy as np\n",
    "import pandas as pd\n",
    "#from cupyx.scipy.sparse import csr_matrix\n",
    "import os\n",
    "from PIL import Image\n",
    "from sklearn.linear_model import LinearRegression\n",
    "import pickle\n",
    "import pickle\n",
    "import matplotlib.pyplot as plt\n",
    "import seaborn as sns \n",
    "from scipy.sparse import csr_matrix\n",
    "import pickle"
   ]
  },
  {
   "cell_type": "code",
   "execution_count": 3,
   "id": "3d2386e9-e01c-4edf-ac87-e6204a710fdd",
   "metadata": {},
   "outputs": [],
   "source": [
    "xenium_5k_pan_file_csv = \"/data/kanferg/Sptial_Omics/projects/NguyenLab/spatialomicstoolkit/metadata_5kpan/XeniumPrimeMouse5Kpan_tissue_pathways_metadata.csv\"\n",
    "xenium_file = \"/data/kanferg/Sptial_Omics/projects/NguyenLab/spatialomicstoolkit/data_out/andata_save_batch_51.h5ad\"\n",
    "pathout = \"/data/kanferg/Sptial_Omics/SpatialOmicsToolkit/out_5\""
   ]
  },
  {
   "cell_type": "code",
   "execution_count": 4,
   "id": "0fd658f0-b963-4a19-b145-afad70e95d82",
   "metadata": {},
   "outputs": [
    {
     "data": {
      "text/html": [
       "<div>\n",
       "<style scoped>\n",
       "    .dataframe tbody tr th:only-of-type {\n",
       "        vertical-align: middle;\n",
       "    }\n",
       "\n",
       "    .dataframe tbody tr th {\n",
       "        vertical-align: top;\n",
       "    }\n",
       "\n",
       "    .dataframe thead th {\n",
       "        text-align: right;\n",
       "    }\n",
       "</style>\n",
       "<table border=\"1\" class=\"dataframe\">\n",
       "  <thead>\n",
       "    <tr style=\"text-align: right;\">\n",
       "      <th></th>\n",
       "      <th>gene_name</th>\n",
       "      <th>gene_id</th>\n",
       "      <th>num_codewords</th>\n",
       "      <th>num_probesets</th>\n",
       "      <th>protein_name</th>\n",
       "      <th>location</th>\n",
       "      <th>cell_type</th>\n",
       "      <th>cellchat_pathway</th>\n",
       "    </tr>\n",
       "  </thead>\n",
       "  <tbody>\n",
       "    <tr>\n",
       "      <th>0</th>\n",
       "      <td>A1cf</td>\n",
       "      <td>ENSMUSG00000052595</td>\n",
       "      <td>2</td>\n",
       "      <td>2</td>\n",
       "      <td>APOBEC1 complementation factor (APOBEC1-stimul...</td>\n",
       "      <td>Nucleus</td>\n",
       "      <td>NaN</td>\n",
       "      <td>NaN</td>\n",
       "    </tr>\n",
       "    <tr>\n",
       "      <th>1</th>\n",
       "      <td>A2m</td>\n",
       "      <td>ENSMUSG00000030111</td>\n",
       "      <td>2</td>\n",
       "      <td>2</td>\n",
       "      <td>Alpha-2-macroglobulin-P (Alpha-2-macroglobulin)</td>\n",
       "      <td>Secreted</td>\n",
       "      <td>glioblast;Bergmann glial cell</td>\n",
       "      <td>NaN</td>\n",
       "    </tr>\n",
       "    <tr>\n",
       "      <th>2</th>\n",
       "      <td>Aatf</td>\n",
       "      <td>ENSMUSG00000018697</td>\n",
       "      <td>2</td>\n",
       "      <td>2</td>\n",
       "      <td>Protein AATF (Apoptosis-antagonizing transcrip...</td>\n",
       "      <td>Nucleus</td>\n",
       "      <td>NaN</td>\n",
       "      <td>NaN</td>\n",
       "    </tr>\n",
       "  </tbody>\n",
       "</table>\n",
       "</div>"
      ],
      "text/plain": [
       "  gene_name             gene_id  num_codewords  num_probesets  \\\n",
       "0      A1cf  ENSMUSG00000052595              2              2   \n",
       "1       A2m  ENSMUSG00000030111              2              2   \n",
       "2      Aatf  ENSMUSG00000018697              2              2   \n",
       "\n",
       "                                        protein_name  location  \\\n",
       "0  APOBEC1 complementation factor (APOBEC1-stimul...   Nucleus   \n",
       "1    Alpha-2-macroglobulin-P (Alpha-2-macroglobulin)  Secreted   \n",
       "2  Protein AATF (Apoptosis-antagonizing transcrip...   Nucleus   \n",
       "\n",
       "                       cell_type cellchat_pathway  \n",
       "0                            NaN              NaN  \n",
       "1  glioblast;Bergmann glial cell              NaN  \n",
       "2                            NaN              NaN  "
      ]
     },
     "execution_count": 4,
     "metadata": {},
     "output_type": "execute_result"
    }
   ],
   "source": [
    "pan_5k = pd.read_csv(xenium_5k_pan_file_csv)\n",
    "pan_5k.head(3)"
   ]
  },
  {
   "cell_type": "code",
   "execution_count": 5,
   "id": "69a82506-ebec-44b9-b7f4-944bc251ae7d",
   "metadata": {},
   "outputs": [
    {
     "data": {
      "text/plain": [
       "2124"
      ]
     },
     "execution_count": 5,
     "metadata": {},
     "output_type": "execute_result"
    }
   ],
   "source": [
    "# remove all the cell_type is na\n",
    "pan_5k[\"anoonat\"] = pd.notna(pan_5k['cell_type']).values\n",
    "pan_5k_filter_na = pan_5k.loc[pan_5k[\"anoonat\"],:]\n",
    "len(pan_5k_filter_na)"
   ]
  },
  {
   "cell_type": "code",
   "execution_count": 6,
   "id": "45cc44a0-e5fd-4a1c-bc23-497b014b6da7",
   "metadata": {},
   "outputs": [
    {
     "name": "stderr",
     "output_type": "stream",
     "text": [
      "2124it [00:01, 1286.09it/s]\n"
     ]
    }
   ],
   "source": [
    "from tqdm import tqdm\n",
    "df_pan5k = pd.DataFrame({\"gene\":[],\"ctype\":[]})\n",
    "for index, row in tqdm(pan_5k_filter_na.iterrows()):\n",
    "    cell_type_compressed = pd.unique(row[\"cell_type\"])\n",
    "    cell_type_uncompressed = cell_type_compressed[0].split(';')\n",
    "    test_temp = pd.DataFrame({\"gene\":[row[\"gene_name\"]]*len(cell_type_uncompressed),\"ctype\":cell_type_uncompressed})\n",
    "    df_pan5k = pd.concat([df_pan5k,test_temp])"
   ]
  },
  {
   "cell_type": "code",
   "execution_count": 7,
   "id": "fe6b9132-39f4-43b3-bd4e-7d9938cdf1ed",
   "metadata": {},
   "outputs": [],
   "source": [
    "ctyp_curr = pd.unique(df_pan5k['ctype'])[0]\n",
    "curr_gene = df_pan5k.loc[df_pan5k['ctype']==ctyp_curr,'gene'].to_list()\n"
   ]
  },
  {
   "cell_type": "code",
   "execution_count": 8,
   "id": "d8f962f8-b825-47ff-9832-41e7e13513f7",
   "metadata": {},
   "outputs": [
    {
     "name": "stderr",
     "output_type": "stream",
     "text": [
      "100%|██████████████████████████████████████████████████████████████████████████| 310/310 [00:00<00:00, 1028.29it/s]\n"
     ]
    }
   ],
   "source": [
    "marker_genes_5kp = {}\n",
    "for ctyp_curr in tqdm(pd.unique(df_pan5k['ctype'])):\n",
    "    marker_genes_5kp[ctyp_curr] = list(set(df_pan5k.loc[df_pan5k['ctype']==ctyp_curr,'gene'].to_list()))"
   ]
  },
  {
   "cell_type": "code",
   "execution_count": 9,
   "id": "55479a54-26e5-4e7f-b500-3fe5e9f0baff",
   "metadata": {},
   "outputs": [
    {
     "name": "stderr",
     "output_type": "stream",
     "text": [
      "/gpfs/gsfs10/users/kanferg/conda/envs/stlearn-env/lib/python3.8/site-packages/scanpy/preprocessing/_normalization.py:196: UserWarning: Some cells have zero counts\n",
      "  warn(UserWarning('Some cells have zero counts'))\n"
     ]
    }
   ],
   "source": [
    "andata = sc.read_h5ad(xenium_file)\n",
    "sc.pp.normalize_total(andata)\n",
    "sc.pp.log1p(andata)\n",
    "sc.pp.scale(andata, max_value=10)\n",
    "sc.pp.pca(andata, n_comps=30,random_state=1337)"
   ]
  },
  {
   "cell_type": "code",
   "execution_count": 10,
   "id": "3ffcc71b-faad-47a4-b6f8-fc0d17c5108d",
   "metadata": {},
   "outputs": [
    {
     "name": "stderr",
     "output_type": "stream",
     "text": [
      "2024-12-03 12:35:04.583873: I tensorflow/core/platform/cpu_feature_guard.cc:193] This TensorFlow binary is optimized with oneAPI Deep Neural Network Library (oneDNN) to use the following CPU instructions in performance-critical operations:  SSE4.1 SSE4.2 AVX AVX2 AVX512F FMA\n",
      "To enable them in other operations, rebuild TensorFlow with the appropriate compiler flags.\n"
     ]
    }
   ],
   "source": [
    "sc.pp.neighbors(andata, n_pcs=15, use_rep='X_pca', n_neighbors=25)\n",
    "sc.tl.leiden(andata, random_state=1337, resolution=0.5, key_added='cluster')"
   ]
  },
  {
   "cell_type": "code",
   "execution_count": 14,
   "id": "5b7f2e0c-f557-44f5-a22e-26b6458a0472",
   "metadata": {},
   "outputs": [
    {
     "data": {
      "text/plain": [
       "310"
      ]
     },
     "execution_count": 14,
     "metadata": {},
     "output_type": "execute_result"
    }
   ],
   "source": [
    "marker_genes_5kp.keys()"
   ]
  },
  {
   "cell_type": "code",
   "execution_count": 11,
   "id": "de96cb23-7a21-482f-a3e2-7aee449cb82f",
   "metadata": {},
   "outputs": [
    {
     "name": "stderr",
     "output_type": "stream",
     "text": [
      "/gpfs/gsfs10/users/kanferg/conda/envs/stlearn-env/lib/python3.8/site-packages/scanpy/plotting/_dotplot.py:747: UserWarning: No data for colormapping provided via 'c'. Parameters 'cmap', 'norm' will be ignored\n",
      "  dot_ax.scatter(x, y, **kwds)\n"
     ]
    },
    {
     "ename": "ValueError",
     "evalue": "Image size of 342992x519 pixels is too large. It must be less than 2^16 in each direction.",
     "output_type": "error",
     "traceback": [
      "\u001b[0;31m---------------------------------------------------------------------------\u001b[0m",
      "\u001b[0;31mValueError\u001b[0m                                Traceback (most recent call last)",
      "File \u001b[0;32m/gpfs/gsfs10/users/kanferg/conda/envs/stlearn-env/lib/python3.8/site-packages/IPython/core/formatters.py:340\u001b[0m, in \u001b[0;36mBaseFormatter.__call__\u001b[0;34m(self, obj)\u001b[0m\n\u001b[1;32m    338\u001b[0m     \u001b[38;5;28;01mpass\u001b[39;00m\n\u001b[1;32m    339\u001b[0m \u001b[38;5;28;01melse\u001b[39;00m:\n\u001b[0;32m--> 340\u001b[0m     \u001b[38;5;28;01mreturn\u001b[39;00m \u001b[43mprinter\u001b[49m\u001b[43m(\u001b[49m\u001b[43mobj\u001b[49m\u001b[43m)\u001b[49m\n\u001b[1;32m    341\u001b[0m \u001b[38;5;66;03m# Finally look for special method names\u001b[39;00m\n\u001b[1;32m    342\u001b[0m method \u001b[38;5;241m=\u001b[39m get_real_method(obj, \u001b[38;5;28mself\u001b[39m\u001b[38;5;241m.\u001b[39mprint_method)\n",
      "File \u001b[0;32m/gpfs/gsfs10/users/kanferg/conda/envs/stlearn-env/lib/python3.8/site-packages/IPython/core/pylabtools.py:152\u001b[0m, in \u001b[0;36mprint_figure\u001b[0;34m(fig, fmt, bbox_inches, base64, **kwargs)\u001b[0m\n\u001b[1;32m    149\u001b[0m     \u001b[38;5;28;01mfrom\u001b[39;00m \u001b[38;5;21;01mmatplotlib\u001b[39;00m\u001b[38;5;21;01m.\u001b[39;00m\u001b[38;5;21;01mbackend_bases\u001b[39;00m \u001b[38;5;28;01mimport\u001b[39;00m FigureCanvasBase\n\u001b[1;32m    150\u001b[0m     FigureCanvasBase(fig)\n\u001b[0;32m--> 152\u001b[0m \u001b[43mfig\u001b[49m\u001b[38;5;241;43m.\u001b[39;49m\u001b[43mcanvas\u001b[49m\u001b[38;5;241;43m.\u001b[39;49m\u001b[43mprint_figure\u001b[49m\u001b[43m(\u001b[49m\u001b[43mbytes_io\u001b[49m\u001b[43m,\u001b[49m\u001b[43m \u001b[49m\u001b[38;5;241;43m*\u001b[39;49m\u001b[38;5;241;43m*\u001b[39;49m\u001b[43mkw\u001b[49m\u001b[43m)\u001b[49m\n\u001b[1;32m    153\u001b[0m data \u001b[38;5;241m=\u001b[39m bytes_io\u001b[38;5;241m.\u001b[39mgetvalue()\n\u001b[1;32m    154\u001b[0m \u001b[38;5;28;01mif\u001b[39;00m fmt \u001b[38;5;241m==\u001b[39m \u001b[38;5;124m'\u001b[39m\u001b[38;5;124msvg\u001b[39m\u001b[38;5;124m'\u001b[39m:\n",
      "File \u001b[0;32m/gpfs/gsfs10/users/kanferg/conda/envs/stlearn-env/lib/python3.8/site-packages/matplotlib/backend_bases.py:2336\u001b[0m, in \u001b[0;36mFigureCanvasBase.print_figure\u001b[0;34m(self, filename, dpi, facecolor, edgecolor, orientation, format, bbox_inches, pad_inches, bbox_extra_artists, backend, **kwargs)\u001b[0m\n\u001b[1;32m   2329\u001b[0m     bbox_inches \u001b[38;5;241m=\u001b[39m rcParams[\u001b[38;5;124m'\u001b[39m\u001b[38;5;124msavefig.bbox\u001b[39m\u001b[38;5;124m'\u001b[39m]\n\u001b[1;32m   2331\u001b[0m \u001b[38;5;28;01mif\u001b[39;00m (\u001b[38;5;28mself\u001b[39m\u001b[38;5;241m.\u001b[39mfigure\u001b[38;5;241m.\u001b[39mget_layout_engine() \u001b[38;5;129;01mis\u001b[39;00m \u001b[38;5;129;01mnot\u001b[39;00m \u001b[38;5;28;01mNone\u001b[39;00m \u001b[38;5;129;01mor\u001b[39;00m\n\u001b[1;32m   2332\u001b[0m         bbox_inches \u001b[38;5;241m==\u001b[39m \u001b[38;5;124m\"\u001b[39m\u001b[38;5;124mtight\u001b[39m\u001b[38;5;124m\"\u001b[39m):\n\u001b[1;32m   2333\u001b[0m     \u001b[38;5;66;03m# we need to trigger a draw before printing to make sure\u001b[39;00m\n\u001b[1;32m   2334\u001b[0m     \u001b[38;5;66;03m# CL works.  \"tight\" also needs a draw to get the right\u001b[39;00m\n\u001b[1;32m   2335\u001b[0m     \u001b[38;5;66;03m# locations:\u001b[39;00m\n\u001b[0;32m-> 2336\u001b[0m     renderer \u001b[38;5;241m=\u001b[39m \u001b[43m_get_renderer\u001b[49m\u001b[43m(\u001b[49m\n\u001b[1;32m   2337\u001b[0m \u001b[43m        \u001b[49m\u001b[38;5;28;43mself\u001b[39;49m\u001b[38;5;241;43m.\u001b[39;49m\u001b[43mfigure\u001b[49m\u001b[43m,\u001b[49m\n\u001b[1;32m   2338\u001b[0m \u001b[43m        \u001b[49m\u001b[43mfunctools\u001b[49m\u001b[38;5;241;43m.\u001b[39;49m\u001b[43mpartial\u001b[49m\u001b[43m(\u001b[49m\n\u001b[1;32m   2339\u001b[0m \u001b[43m            \u001b[49m\u001b[43mprint_method\u001b[49m\u001b[43m,\u001b[49m\u001b[43m \u001b[49m\u001b[43morientation\u001b[49m\u001b[38;5;241;43m=\u001b[39;49m\u001b[43morientation\u001b[49m\u001b[43m)\u001b[49m\n\u001b[1;32m   2340\u001b[0m \u001b[43m    \u001b[49m\u001b[43m)\u001b[49m\n\u001b[1;32m   2341\u001b[0m     \u001b[38;5;28;01mwith\u001b[39;00m \u001b[38;5;28mgetattr\u001b[39m(renderer, \u001b[38;5;124m\"\u001b[39m\u001b[38;5;124m_draw_disabled\u001b[39m\u001b[38;5;124m\"\u001b[39m, nullcontext)():\n\u001b[1;32m   2342\u001b[0m         \u001b[38;5;28mself\u001b[39m\u001b[38;5;241m.\u001b[39mfigure\u001b[38;5;241m.\u001b[39mdraw(renderer)\n",
      "File \u001b[0;32m/gpfs/gsfs10/users/kanferg/conda/envs/stlearn-env/lib/python3.8/site-packages/matplotlib/backend_bases.py:1598\u001b[0m, in \u001b[0;36m_get_renderer\u001b[0;34m(figure, print_method)\u001b[0m\n\u001b[1;32m   1595\u001b[0m     print_method \u001b[38;5;241m=\u001b[39m stack\u001b[38;5;241m.\u001b[39menter_context(\n\u001b[1;32m   1596\u001b[0m         figure\u001b[38;5;241m.\u001b[39mcanvas\u001b[38;5;241m.\u001b[39m_switch_canvas_and_return_print_method(fmt))\n\u001b[1;32m   1597\u001b[0m \u001b[38;5;28;01mtry\u001b[39;00m:\n\u001b[0;32m-> 1598\u001b[0m     \u001b[43mprint_method\u001b[49m\u001b[43m(\u001b[49m\u001b[43mio\u001b[49m\u001b[38;5;241;43m.\u001b[39;49m\u001b[43mBytesIO\u001b[49m\u001b[43m(\u001b[49m\u001b[43m)\u001b[49m\u001b[43m)\u001b[49m\n\u001b[1;32m   1599\u001b[0m \u001b[38;5;28;01mexcept\u001b[39;00m Done \u001b[38;5;28;01mas\u001b[39;00m exc:\n\u001b[1;32m   1600\u001b[0m     renderer, \u001b[38;5;241m=\u001b[39m exc\u001b[38;5;241m.\u001b[39margs\n",
      "File \u001b[0;32m/gpfs/gsfs10/users/kanferg/conda/envs/stlearn-env/lib/python3.8/site-packages/matplotlib/backend_bases.py:2232\u001b[0m, in \u001b[0;36mFigureCanvasBase._switch_canvas_and_return_print_method.<locals>.<lambda>\u001b[0;34m(*args, **kwargs)\u001b[0m\n\u001b[1;32m   2228\u001b[0m     optional_kws \u001b[38;5;241m=\u001b[39m {  \u001b[38;5;66;03m# Passed by print_figure for other renderers.\u001b[39;00m\n\u001b[1;32m   2229\u001b[0m         \u001b[38;5;124m\"\u001b[39m\u001b[38;5;124mdpi\u001b[39m\u001b[38;5;124m\"\u001b[39m, \u001b[38;5;124m\"\u001b[39m\u001b[38;5;124mfacecolor\u001b[39m\u001b[38;5;124m\"\u001b[39m, \u001b[38;5;124m\"\u001b[39m\u001b[38;5;124medgecolor\u001b[39m\u001b[38;5;124m\"\u001b[39m, \u001b[38;5;124m\"\u001b[39m\u001b[38;5;124morientation\u001b[39m\u001b[38;5;124m\"\u001b[39m,\n\u001b[1;32m   2230\u001b[0m         \u001b[38;5;124m\"\u001b[39m\u001b[38;5;124mbbox_inches_restore\u001b[39m\u001b[38;5;124m\"\u001b[39m}\n\u001b[1;32m   2231\u001b[0m     skip \u001b[38;5;241m=\u001b[39m optional_kws \u001b[38;5;241m-\u001b[39m {\u001b[38;5;241m*\u001b[39minspect\u001b[38;5;241m.\u001b[39msignature(meth)\u001b[38;5;241m.\u001b[39mparameters}\n\u001b[0;32m-> 2232\u001b[0m     print_method \u001b[38;5;241m=\u001b[39m functools\u001b[38;5;241m.\u001b[39mwraps(meth)(\u001b[38;5;28;01mlambda\u001b[39;00m \u001b[38;5;241m*\u001b[39margs, \u001b[38;5;241m*\u001b[39m\u001b[38;5;241m*\u001b[39mkwargs: \u001b[43mmeth\u001b[49m\u001b[43m(\u001b[49m\n\u001b[1;32m   2233\u001b[0m \u001b[43m        \u001b[49m\u001b[38;5;241;43m*\u001b[39;49m\u001b[43margs\u001b[49m\u001b[43m,\u001b[49m\u001b[43m \u001b[49m\u001b[38;5;241;43m*\u001b[39;49m\u001b[38;5;241;43m*\u001b[39;49m\u001b[43m{\u001b[49m\u001b[43mk\u001b[49m\u001b[43m:\u001b[49m\u001b[43m \u001b[49m\u001b[43mv\u001b[49m\u001b[43m \u001b[49m\u001b[38;5;28;43;01mfor\u001b[39;49;00m\u001b[43m \u001b[49m\u001b[43mk\u001b[49m\u001b[43m,\u001b[49m\u001b[43m \u001b[49m\u001b[43mv\u001b[49m\u001b[43m \u001b[49m\u001b[38;5;129;43;01min\u001b[39;49;00m\u001b[43m \u001b[49m\u001b[43mkwargs\u001b[49m\u001b[38;5;241;43m.\u001b[39;49m\u001b[43mitems\u001b[49m\u001b[43m(\u001b[49m\u001b[43m)\u001b[49m\u001b[43m \u001b[49m\u001b[38;5;28;43;01mif\u001b[39;49;00m\u001b[43m \u001b[49m\u001b[43mk\u001b[49m\u001b[43m \u001b[49m\u001b[38;5;129;43;01mnot\u001b[39;49;00m\u001b[43m \u001b[49m\u001b[38;5;129;43;01min\u001b[39;49;00m\u001b[43m \u001b[49m\u001b[43mskip\u001b[49m\u001b[43m}\u001b[49m\u001b[43m)\u001b[49m)\n\u001b[1;32m   2234\u001b[0m \u001b[38;5;28;01melse\u001b[39;00m:  \u001b[38;5;66;03m# Let third-parties do as they see fit.\u001b[39;00m\n\u001b[1;32m   2235\u001b[0m     print_method \u001b[38;5;241m=\u001b[39m meth\n",
      "File \u001b[0;32m/gpfs/gsfs10/users/kanferg/conda/envs/stlearn-env/lib/python3.8/site-packages/matplotlib/backends/backend_agg.py:509\u001b[0m, in \u001b[0;36mFigureCanvasAgg.print_png\u001b[0;34m(self, filename_or_obj, metadata, pil_kwargs)\u001b[0m\n\u001b[1;32m    462\u001b[0m \u001b[38;5;28;01mdef\u001b[39;00m \u001b[38;5;21mprint_png\u001b[39m(\u001b[38;5;28mself\u001b[39m, filename_or_obj, \u001b[38;5;241m*\u001b[39m, metadata\u001b[38;5;241m=\u001b[39m\u001b[38;5;28;01mNone\u001b[39;00m, pil_kwargs\u001b[38;5;241m=\u001b[39m\u001b[38;5;28;01mNone\u001b[39;00m):\n\u001b[1;32m    463\u001b[0m \u001b[38;5;250m    \u001b[39m\u001b[38;5;124;03m\"\"\"\u001b[39;00m\n\u001b[1;32m    464\u001b[0m \u001b[38;5;124;03m    Write the figure to a PNG file.\u001b[39;00m\n\u001b[1;32m    465\u001b[0m \n\u001b[0;32m   (...)\u001b[0m\n\u001b[1;32m    507\u001b[0m \u001b[38;5;124;03m        *metadata*, including the default 'Software' key.\u001b[39;00m\n\u001b[1;32m    508\u001b[0m \u001b[38;5;124;03m    \"\"\"\u001b[39;00m\n\u001b[0;32m--> 509\u001b[0m     \u001b[38;5;28;43mself\u001b[39;49m\u001b[38;5;241;43m.\u001b[39;49m\u001b[43m_print_pil\u001b[49m\u001b[43m(\u001b[49m\u001b[43mfilename_or_obj\u001b[49m\u001b[43m,\u001b[49m\u001b[43m \u001b[49m\u001b[38;5;124;43m\"\u001b[39;49m\u001b[38;5;124;43mpng\u001b[39;49m\u001b[38;5;124;43m\"\u001b[39;49m\u001b[43m,\u001b[49m\u001b[43m \u001b[49m\u001b[43mpil_kwargs\u001b[49m\u001b[43m,\u001b[49m\u001b[43m \u001b[49m\u001b[43mmetadata\u001b[49m\u001b[43m)\u001b[49m\n",
      "File \u001b[0;32m/gpfs/gsfs10/users/kanferg/conda/envs/stlearn-env/lib/python3.8/site-packages/matplotlib/backends/backend_agg.py:457\u001b[0m, in \u001b[0;36mFigureCanvasAgg._print_pil\u001b[0;34m(self, filename_or_obj, fmt, pil_kwargs, metadata)\u001b[0m\n\u001b[1;32m    452\u001b[0m \u001b[38;5;28;01mdef\u001b[39;00m \u001b[38;5;21m_print_pil\u001b[39m(\u001b[38;5;28mself\u001b[39m, filename_or_obj, fmt, pil_kwargs, metadata\u001b[38;5;241m=\u001b[39m\u001b[38;5;28;01mNone\u001b[39;00m):\n\u001b[1;32m    453\u001b[0m \u001b[38;5;250m    \u001b[39m\u001b[38;5;124;03m\"\"\"\u001b[39;00m\n\u001b[1;32m    454\u001b[0m \u001b[38;5;124;03m    Draw the canvas, then save it using `.image.imsave` (to which\u001b[39;00m\n\u001b[1;32m    455\u001b[0m \u001b[38;5;124;03m    *pil_kwargs* and *metadata* are forwarded).\u001b[39;00m\n\u001b[1;32m    456\u001b[0m \u001b[38;5;124;03m    \"\"\"\u001b[39;00m\n\u001b[0;32m--> 457\u001b[0m     \u001b[43mFigureCanvasAgg\u001b[49m\u001b[38;5;241;43m.\u001b[39;49m\u001b[43mdraw\u001b[49m\u001b[43m(\u001b[49m\u001b[38;5;28;43mself\u001b[39;49m\u001b[43m)\u001b[49m\n\u001b[1;32m    458\u001b[0m     mpl\u001b[38;5;241m.\u001b[39mimage\u001b[38;5;241m.\u001b[39mimsave(\n\u001b[1;32m    459\u001b[0m         filename_or_obj, \u001b[38;5;28mself\u001b[39m\u001b[38;5;241m.\u001b[39mbuffer_rgba(), \u001b[38;5;28mformat\u001b[39m\u001b[38;5;241m=\u001b[39mfmt, origin\u001b[38;5;241m=\u001b[39m\u001b[38;5;124m\"\u001b[39m\u001b[38;5;124mupper\u001b[39m\u001b[38;5;124m\"\u001b[39m,\n\u001b[1;32m    460\u001b[0m         dpi\u001b[38;5;241m=\u001b[39m\u001b[38;5;28mself\u001b[39m\u001b[38;5;241m.\u001b[39mfigure\u001b[38;5;241m.\u001b[39mdpi, metadata\u001b[38;5;241m=\u001b[39mmetadata, pil_kwargs\u001b[38;5;241m=\u001b[39mpil_kwargs)\n",
      "File \u001b[0;32m/gpfs/gsfs10/users/kanferg/conda/envs/stlearn-env/lib/python3.8/site-packages/matplotlib/backends/backend_agg.py:394\u001b[0m, in \u001b[0;36mFigureCanvasAgg.draw\u001b[0;34m(self)\u001b[0m\n\u001b[1;32m    392\u001b[0m \u001b[38;5;28;01mdef\u001b[39;00m \u001b[38;5;21mdraw\u001b[39m(\u001b[38;5;28mself\u001b[39m):\n\u001b[1;32m    393\u001b[0m     \u001b[38;5;66;03m# docstring inherited\u001b[39;00m\n\u001b[0;32m--> 394\u001b[0m     \u001b[38;5;28mself\u001b[39m\u001b[38;5;241m.\u001b[39mrenderer \u001b[38;5;241m=\u001b[39m \u001b[38;5;28;43mself\u001b[39;49m\u001b[38;5;241;43m.\u001b[39;49m\u001b[43mget_renderer\u001b[49m\u001b[43m(\u001b[49m\u001b[43m)\u001b[49m\n\u001b[1;32m    395\u001b[0m     \u001b[38;5;28mself\u001b[39m\u001b[38;5;241m.\u001b[39mrenderer\u001b[38;5;241m.\u001b[39mclear()\n\u001b[1;32m    396\u001b[0m     \u001b[38;5;66;03m# Acquire a lock on the shared font cache.\u001b[39;00m\n",
      "File \u001b[0;32m/gpfs/gsfs10/users/kanferg/conda/envs/stlearn-env/lib/python3.8/site-packages/matplotlib/_api/deprecation.py:384\u001b[0m, in \u001b[0;36mdelete_parameter.<locals>.wrapper\u001b[0;34m(*inner_args, **inner_kwargs)\u001b[0m\n\u001b[1;32m    379\u001b[0m \u001b[38;5;129m@functools\u001b[39m\u001b[38;5;241m.\u001b[39mwraps(func)\n\u001b[1;32m    380\u001b[0m \u001b[38;5;28;01mdef\u001b[39;00m \u001b[38;5;21mwrapper\u001b[39m(\u001b[38;5;241m*\u001b[39minner_args, \u001b[38;5;241m*\u001b[39m\u001b[38;5;241m*\u001b[39minner_kwargs):\n\u001b[1;32m    381\u001b[0m     \u001b[38;5;28;01mif\u001b[39;00m \u001b[38;5;28mlen\u001b[39m(inner_args) \u001b[38;5;241m<\u001b[39m\u001b[38;5;241m=\u001b[39m name_idx \u001b[38;5;129;01mand\u001b[39;00m name \u001b[38;5;129;01mnot\u001b[39;00m \u001b[38;5;129;01min\u001b[39;00m inner_kwargs:\n\u001b[1;32m    382\u001b[0m         \u001b[38;5;66;03m# Early return in the simple, non-deprecated case (much faster than\u001b[39;00m\n\u001b[1;32m    383\u001b[0m         \u001b[38;5;66;03m# calling bind()).\u001b[39;00m\n\u001b[0;32m--> 384\u001b[0m         \u001b[38;5;28;01mreturn\u001b[39;00m \u001b[43mfunc\u001b[49m\u001b[43m(\u001b[49m\u001b[38;5;241;43m*\u001b[39;49m\u001b[43minner_args\u001b[49m\u001b[43m,\u001b[49m\u001b[43m \u001b[49m\u001b[38;5;241;43m*\u001b[39;49m\u001b[38;5;241;43m*\u001b[39;49m\u001b[43minner_kwargs\u001b[49m\u001b[43m)\u001b[49m\n\u001b[1;32m    385\u001b[0m     arguments \u001b[38;5;241m=\u001b[39m signature\u001b[38;5;241m.\u001b[39mbind(\u001b[38;5;241m*\u001b[39minner_args, \u001b[38;5;241m*\u001b[39m\u001b[38;5;241m*\u001b[39minner_kwargs)\u001b[38;5;241m.\u001b[39marguments\n\u001b[1;32m    386\u001b[0m     \u001b[38;5;28;01mif\u001b[39;00m is_varargs \u001b[38;5;129;01mand\u001b[39;00m arguments\u001b[38;5;241m.\u001b[39mget(name):\n",
      "File \u001b[0;32m/gpfs/gsfs10/users/kanferg/conda/envs/stlearn-env/lib/python3.8/site-packages/matplotlib/backends/backend_agg.py:411\u001b[0m, in \u001b[0;36mFigureCanvasAgg.get_renderer\u001b[0;34m(self, cleared)\u001b[0m\n\u001b[1;32m    409\u001b[0m reuse_renderer \u001b[38;5;241m=\u001b[39m (\u001b[38;5;28mself\u001b[39m\u001b[38;5;241m.\u001b[39m_lastKey \u001b[38;5;241m==\u001b[39m key)\n\u001b[1;32m    410\u001b[0m \u001b[38;5;28;01mif\u001b[39;00m \u001b[38;5;129;01mnot\u001b[39;00m reuse_renderer:\n\u001b[0;32m--> 411\u001b[0m     \u001b[38;5;28mself\u001b[39m\u001b[38;5;241m.\u001b[39mrenderer \u001b[38;5;241m=\u001b[39m \u001b[43mRendererAgg\u001b[49m\u001b[43m(\u001b[49m\u001b[43mw\u001b[49m\u001b[43m,\u001b[49m\u001b[43m \u001b[49m\u001b[43mh\u001b[49m\u001b[43m,\u001b[49m\u001b[43m \u001b[49m\u001b[38;5;28;43mself\u001b[39;49m\u001b[38;5;241;43m.\u001b[39;49m\u001b[43mfigure\u001b[49m\u001b[38;5;241;43m.\u001b[39;49m\u001b[43mdpi\u001b[49m\u001b[43m)\u001b[49m\n\u001b[1;32m    412\u001b[0m     \u001b[38;5;28mself\u001b[39m\u001b[38;5;241m.\u001b[39m_lastKey \u001b[38;5;241m=\u001b[39m key\n\u001b[1;32m    413\u001b[0m \u001b[38;5;28;01melif\u001b[39;00m cleared:\n",
      "File \u001b[0;32m/gpfs/gsfs10/users/kanferg/conda/envs/stlearn-env/lib/python3.8/site-packages/matplotlib/backends/backend_agg.py:84\u001b[0m, in \u001b[0;36mRendererAgg.__init__\u001b[0;34m(self, width, height, dpi)\u001b[0m\n\u001b[1;32m     82\u001b[0m \u001b[38;5;28mself\u001b[39m\u001b[38;5;241m.\u001b[39mwidth \u001b[38;5;241m=\u001b[39m width\n\u001b[1;32m     83\u001b[0m \u001b[38;5;28mself\u001b[39m\u001b[38;5;241m.\u001b[39mheight \u001b[38;5;241m=\u001b[39m height\n\u001b[0;32m---> 84\u001b[0m \u001b[38;5;28mself\u001b[39m\u001b[38;5;241m.\u001b[39m_renderer \u001b[38;5;241m=\u001b[39m \u001b[43m_RendererAgg\u001b[49m\u001b[43m(\u001b[49m\u001b[38;5;28;43mint\u001b[39;49m\u001b[43m(\u001b[49m\u001b[43mwidth\u001b[49m\u001b[43m)\u001b[49m\u001b[43m,\u001b[49m\u001b[43m \u001b[49m\u001b[38;5;28;43mint\u001b[39;49m\u001b[43m(\u001b[49m\u001b[43mheight\u001b[49m\u001b[43m)\u001b[49m\u001b[43m,\u001b[49m\u001b[43m \u001b[49m\u001b[43mdpi\u001b[49m\u001b[43m)\u001b[49m\n\u001b[1;32m     85\u001b[0m \u001b[38;5;28mself\u001b[39m\u001b[38;5;241m.\u001b[39m_filter_renderers \u001b[38;5;241m=\u001b[39m []\n\u001b[1;32m     87\u001b[0m \u001b[38;5;28mself\u001b[39m\u001b[38;5;241m.\u001b[39m_update_methods()\n",
      "\u001b[0;31mValueError\u001b[0m: Image size of 342992x519 pixels is too large. It must be less than 2^16 in each direction."
     ]
    },
    {
     "data": {
      "text/plain": [
       "<Figure size 342992x520 with 5 Axes>"
      ]
     },
     "metadata": {},
     "output_type": "display_data"
    }
   ],
   "source": [
    "sc.pl.dotplot(andata, marker_genes_5kp, groupby=\"cluster\")"
   ]
  },
  {
   "cell_type": "code",
   "execution_count": 69,
   "id": "e14ab2ad-defe-4956-bb65-3709949ec50b",
   "metadata": {},
   "outputs": [
    {
     "data": {
      "text/html": [
       "<div>\n",
       "<style scoped>\n",
       "    .dataframe tbody tr th:only-of-type {\n",
       "        vertical-align: middle;\n",
       "    }\n",
       "\n",
       "    .dataframe tbody tr th {\n",
       "        vertical-align: top;\n",
       "    }\n",
       "\n",
       "    .dataframe thead th {\n",
       "        text-align: right;\n",
       "    }\n",
       "</style>\n",
       "<table border=\"1\" class=\"dataframe\">\n",
       "  <thead>\n",
       "    <tr style=\"text-align: right;\">\n",
       "      <th></th>\n",
       "      <th>gene_ids</th>\n",
       "      <th>feature_types</th>\n",
       "      <th>genome</th>\n",
       "      <th>mean</th>\n",
       "      <th>std</th>\n",
       "    </tr>\n",
       "  </thead>\n",
       "  <tbody>\n",
       "    <tr>\n",
       "      <th>A1cf</th>\n",
       "      <td>ENSMUSG00000052595</td>\n",
       "      <td>Gene Expression</td>\n",
       "      <td>Unknown</td>\n",
       "      <td>0.000164</td>\n",
       "      <td>0.013814</td>\n",
       "    </tr>\n",
       "    <tr>\n",
       "      <th>A2m</th>\n",
       "      <td>ENSMUSG00000030111</td>\n",
       "      <td>Gene Expression</td>\n",
       "      <td>Unknown</td>\n",
       "      <td>0.001768</td>\n",
       "      <td>0.043983</td>\n",
       "    </tr>\n",
       "    <tr>\n",
       "      <th>Aatf</th>\n",
       "      <td>ENSMUSG00000018697</td>\n",
       "      <td>Gene Expression</td>\n",
       "      <td>Unknown</td>\n",
       "      <td>0.100744</td>\n",
       "      <td>0.254069</td>\n",
       "    </tr>\n",
       "    <tr>\n",
       "      <th>Abca1</th>\n",
       "      <td>ENSMUSG00000015243</td>\n",
       "      <td>Gene Expression</td>\n",
       "      <td>Unknown</td>\n",
       "      <td>0.091430</td>\n",
       "      <td>0.254412</td>\n",
       "    </tr>\n",
       "    <tr>\n",
       "      <th>Abca13</th>\n",
       "      <td>ENSMUSG00000004668</td>\n",
       "      <td>Gene Expression</td>\n",
       "      <td>Unknown</td>\n",
       "      <td>0.002636</td>\n",
       "      <td>0.049034</td>\n",
       "    </tr>\n",
       "    <tr>\n",
       "      <th>...</th>\n",
       "      <td>...</td>\n",
       "      <td>...</td>\n",
       "      <td>...</td>\n",
       "      <td>...</td>\n",
       "      <td>...</td>\n",
       "    </tr>\n",
       "    <tr>\n",
       "      <th>Zswim9</th>\n",
       "      <td>ENSMUSG00000070814</td>\n",
       "      <td>Gene Expression</td>\n",
       "      <td>Unknown</td>\n",
       "      <td>0.007130</td>\n",
       "      <td>0.066430</td>\n",
       "    </tr>\n",
       "    <tr>\n",
       "      <th>Zup1</th>\n",
       "      <td>ENSMUSG00000039531</td>\n",
       "      <td>Gene Expression</td>\n",
       "      <td>Unknown</td>\n",
       "      <td>0.049494</td>\n",
       "      <td>0.190927</td>\n",
       "    </tr>\n",
       "    <tr>\n",
       "      <th>Zyx</th>\n",
       "      <td>ENSMUSG00000029860</td>\n",
       "      <td>Gene Expression</td>\n",
       "      <td>Unknown</td>\n",
       "      <td>0.213926</td>\n",
       "      <td>0.411522</td>\n",
       "    </tr>\n",
       "    <tr>\n",
       "      <th>Zzef1</th>\n",
       "      <td>ENSMUSG00000055670</td>\n",
       "      <td>Gene Expression</td>\n",
       "      <td>Unknown</td>\n",
       "      <td>0.070107</td>\n",
       "      <td>0.222990</td>\n",
       "    </tr>\n",
       "    <tr>\n",
       "      <th>a</th>\n",
       "      <td>ENSMUSG00000027596</td>\n",
       "      <td>Gene Expression</td>\n",
       "      <td>Unknown</td>\n",
       "      <td>0.000764</td>\n",
       "      <td>0.027909</td>\n",
       "    </tr>\n",
       "  </tbody>\n",
       "</table>\n",
       "<p>5006 rows × 5 columns</p>\n",
       "</div>"
      ],
      "text/plain": [
       "                  gene_ids    feature_types   genome      mean       std\n",
       "A1cf    ENSMUSG00000052595  Gene Expression  Unknown  0.000164  0.013814\n",
       "A2m     ENSMUSG00000030111  Gene Expression  Unknown  0.001768  0.043983\n",
       "Aatf    ENSMUSG00000018697  Gene Expression  Unknown  0.100744  0.254069\n",
       "Abca1   ENSMUSG00000015243  Gene Expression  Unknown  0.091430  0.254412\n",
       "Abca13  ENSMUSG00000004668  Gene Expression  Unknown  0.002636  0.049034\n",
       "...                    ...              ...      ...       ...       ...\n",
       "Zswim9  ENSMUSG00000070814  Gene Expression  Unknown  0.007130  0.066430\n",
       "Zup1    ENSMUSG00000039531  Gene Expression  Unknown  0.049494  0.190927\n",
       "Zyx     ENSMUSG00000029860  Gene Expression  Unknown  0.213926  0.411522\n",
       "Zzef1   ENSMUSG00000055670  Gene Expression  Unknown  0.070107  0.222990\n",
       "a       ENSMUSG00000027596  Gene Expression  Unknown  0.000764  0.027909\n",
       "\n",
       "[5006 rows x 5 columns]"
      ]
     },
     "execution_count": 69,
     "metadata": {},
     "output_type": "execute_result"
    }
   ],
   "source": [
    "andata.var"
   ]
  },
  {
   "attachments": {},
   "cell_type": "markdown",
   "id": "7bf628e3-b064-497c-870b-aba8cce1cd58",
   "metadata": {},
   "source": [
    "Using xenium provided annotation list was not helpful. So let’s try a different strategy. \n",
    "## Melanoma infiltration of stromal and immune cells - Human Cell Atlas"
   ]
  },
  {
   "cell_type": "code",
   "execution_count": 47,
   "id": "ecf9ac40-659d-40ee-99ec-fe5a81254abf",
   "metadata": {},
   "outputs": [],
   "source": [
    "path_mtx = \"/data/kanferg/Sptial_Omics/projects/NguyenLab/data/reference_scrnaseq/human_cell_atlas/E-EHCA-2-quantification-filtered-files/E-EHCA-2.expression_tpm.mtx\"\n",
    "path_obs = \"/data/kanferg/Sptial_Omics/projects/NguyenLab/data/reference_scrnaseq/human_cell_atlas/E-EHCA-2-normalised-files/E-EHCA-2.aggregated_filtered_normalised_counts.mtx_rows\"\n",
    "path_var = \"/data/kanferg/Sptial_Omics/projects/NguyenLab/data/reference_scrnaseq/human_cell_atlas/E-EHCA-2-normalised-files/E-EHCA-2.aggregated_filtered_normalised_counts.mtx_cols\"\n",
    "base_path = \"/data/kanferg/Sptial_Omics/projects/NguyenLab/data/reference_scrnaseq/human_cell_atlas\"\n",
    "path_celltype = base_path+\"/ExpDesign-E-EHCA-2.tsv\""
   ]
  },
  {
   "cell_type": "code",
   "execution_count": 48,
   "id": "6fe593f4-eec3-4c25-8348-76ff17f94216",
   "metadata": {},
   "outputs": [
    {
     "data": {
      "text/plain": [
       "6638"
      ]
     },
     "execution_count": 48,
     "metadata": {},
     "output_type": "execute_result"
    }
   ],
   "source": [
    "# celltype matrix\n",
    "mtx_ctype = pd.read_csv(path_celltype, sep='\\t')\n",
    "len(mtx_ctype)"
   ]
  },
  {
   "cell_type": "code",
   "execution_count": 49,
   "id": "050a35c3-90ff-42da-b0a2-4ea5e04963fe",
   "metadata": {},
   "outputs": [
    {
     "data": {
      "text/plain": [
       "AnnData object with n_obs × n_vars = 26760 × 5914"
      ]
     },
     "execution_count": 49,
     "metadata": {},
     "output_type": "execute_result"
    }
   ],
   "source": [
    "# Load the matrix\n",
    "rdata = sc.read_mtx(path_mtx)\n",
    "rdata"
   ]
  },
  {
   "cell_type": "code",
   "execution_count": 50,
   "id": "3ddffafb-5506-4972-8f62-639f783775e2",
   "metadata": {},
   "outputs": [
    {
     "data": {
      "text/plain": [
       "Index(['0', '1', '2', '3', '4', '5', '6', '7', '8', '9',\n",
       "       ...\n",
       "       '5904', '5905', '5906', '5907', '5908', '5909', '5910', '5911', '5912',\n",
       "       '5913'],\n",
       "      dtype='object', length=5914)"
      ]
     },
     "execution_count": 50,
     "metadata": {},
     "output_type": "execute_result"
    }
   ],
   "source": [
    "rdata.var_names"
   ]
  },
  {
   "cell_type": "code",
   "execution_count": 44,
   "id": "a035c99b-9171-44d8-8dc8-4d7b7dd3dad1",
   "metadata": {},
   "outputs": [
    {
     "data": {
      "text/html": [
       "<div>\n",
       "<style scoped>\n",
       "    .dataframe tbody tr th:only-of-type {\n",
       "        vertical-align: middle;\n",
       "    }\n",
       "\n",
       "    .dataframe tbody tr th {\n",
       "        vertical-align: top;\n",
       "    }\n",
       "\n",
       "    .dataframe thead th {\n",
       "        text-align: right;\n",
       "    }\n",
       "</style>\n",
       "<table border=\"1\" class=\"dataframe\">\n",
       "  <thead>\n",
       "    <tr style=\"text-align: right;\">\n",
       "      <th></th>\n",
       "      <th>0</th>\n",
       "    </tr>\n",
       "  </thead>\n",
       "  <tbody>\n",
       "    <tr>\n",
       "      <th>0</th>\n",
       "      <td>21784_6_10</td>\n",
       "    </tr>\n",
       "    <tr>\n",
       "      <th>1</th>\n",
       "      <td>21784_6_100</td>\n",
       "    </tr>\n",
       "    <tr>\n",
       "      <th>2</th>\n",
       "      <td>21784_6_101</td>\n",
       "    </tr>\n",
       "    <tr>\n",
       "      <th>3</th>\n",
       "      <td>21784_6_102</td>\n",
       "    </tr>\n",
       "    <tr>\n",
       "      <th>4</th>\n",
       "      <td>21784_6_103</td>\n",
       "    </tr>\n",
       "    <tr>\n",
       "      <th>...</th>\n",
       "      <td>...</td>\n",
       "    </tr>\n",
       "    <tr>\n",
       "      <th>5909</th>\n",
       "      <td>22467_8_95</td>\n",
       "    </tr>\n",
       "    <tr>\n",
       "      <th>5910</th>\n",
       "      <td>22467_8_96</td>\n",
       "    </tr>\n",
       "    <tr>\n",
       "      <th>5911</th>\n",
       "      <td>22467_8_97</td>\n",
       "    </tr>\n",
       "    <tr>\n",
       "      <th>5912</th>\n",
       "      <td>22467_8_98</td>\n",
       "    </tr>\n",
       "    <tr>\n",
       "      <th>5913</th>\n",
       "      <td>22467_8_99</td>\n",
       "    </tr>\n",
       "  </tbody>\n",
       "</table>\n",
       "<p>5914 rows × 1 columns</p>\n",
       "</div>"
      ],
      "text/plain": [
       "                0\n",
       "0      21784_6_10\n",
       "1     21784_6_100\n",
       "2     21784_6_101\n",
       "3     21784_6_102\n",
       "4     21784_6_103\n",
       "...           ...\n",
       "5909   22467_8_95\n",
       "5910   22467_8_96\n",
       "5911   22467_8_97\n",
       "5912   22467_8_98\n",
       "5913   22467_8_99\n",
       "\n",
       "[5914 rows x 1 columns]"
      ]
     },
     "execution_count": 44,
     "metadata": {},
     "output_type": "execute_result"
    }
   ],
   "source": [
    "cell_obs = pd.read_csv(path_var, sep='\\t', header=None)\n",
    "cell_obs"
   ]
  },
  {
   "cell_type": "code",
   "execution_count": null,
   "id": "cb02baf0-683c-449f-89eb-4f5946a18cc9",
   "metadata": {},
   "outputs": [],
   "source": [
    "adata.obs = "
   ]
  },
  {
   "cell_type": "code",
   "execution_count": null,
   "id": "558cb1f9-4f32-40b9-866c-ce331c065583",
   "metadata": {},
   "outputs": [],
   "source": []
  },
  {
   "cell_type": "code",
   "execution_count": null,
   "id": "d8dbaaf2-1f9f-4a32-b1b3-8b8c083cf52a",
   "metadata": {},
   "outputs": [],
   "source": []
  },
  {
   "cell_type": "code",
   "execution_count": null,
   "id": "c653ab6c-faa0-46b4-aebc-48f375f09451",
   "metadata": {},
   "outputs": [],
   "source": []
  },
  {
   "cell_type": "markdown",
   "id": "762dd945-3799-40d3-bdee-d6b31da7da09",
   "metadata": {},
   "source": [
    "https://github.com/Teichlab/celltypist"
   ]
  },
  {
   "cell_type": "code",
   "execution_count": 11,
   "id": "e849b844-f481-4e82-95ea-57e7d71c0c58",
   "metadata": {},
   "outputs": [],
   "source": [
    "import celltypist\n",
    "import celltypist as ct\n",
    "from celltypist import models"
   ]
  },
  {
   "cell_type": "code",
   "execution_count": 4,
   "id": "eb586dbe-5b5f-460b-900e-990656c68122",
   "metadata": {},
   "outputs": [
    {
     "name": "stderr",
     "output_type": "stream",
     "text": [
      "📂 Storing models in /home/kanferg/.celltypist/data/models\n",
      "⏩ Skipping [1/50]: Immune_All_Low.pkl (file exists)\n",
      "⏩ Skipping [2/50]: Immune_All_High.pkl (file exists)\n",
      "💾 Downloading model [3/50]: Adult_COVID19_PBMC.pkl\n",
      "⏩ Skipping [4/50]: Adult_CynomolgusMacaque_Hippocampus.pkl (file exists)\n",
      "⏩ Skipping [5/50]: Adult_Human_PancreaticIslet.pkl (file exists)\n",
      "⏩ Skipping [6/50]: Adult_Human_Skin.pkl (file exists)\n",
      "⏩ Skipping [7/50]: Adult_Mouse_Gut.pkl (file exists)\n",
      "⏩ Skipping [8/50]: Adult_Mouse_OlfactoryBulb.pkl (file exists)\n",
      "⏩ Skipping [9/50]: Adult_Pig_Hippocampus.pkl (file exists)\n",
      "⏩ Skipping [10/50]: Adult_RhesusMacaque_Hippocampus.pkl (file exists)\n",
      "⏩ Skipping [11/50]: Autopsy_COVID19_Lung.pkl (file exists)\n",
      "⏩ Skipping [12/50]: COVID19_HumanChallenge_Blood.pkl (file exists)\n",
      "⏩ Skipping [13/50]: COVID19_Immune_Landscape.pkl (file exists)\n",
      "⏩ Skipping [14/50]: Cells_Adult_Breast.pkl (file exists)\n",
      "⏩ Skipping [15/50]: Cells_Fetal_Lung.pkl (file exists)\n",
      "⏩ Skipping [16/50]: Cells_Human_Tonsil.pkl (file exists)\n",
      "⏩ Skipping [17/50]: Cells_Intestinal_Tract.pkl (file exists)\n",
      "⏩ Skipping [18/50]: Cells_Lung_Airway.pkl (file exists)\n",
      "⏩ Skipping [19/50]: Developing_Human_Brain.pkl (file exists)\n",
      "⏩ Skipping [20/50]: Developing_Human_Gonads.pkl (file exists)\n",
      "⏩ Skipping [21/50]: Developing_Human_Hippocampus.pkl (file exists)\n",
      "⏩ Skipping [22/50]: Developing_Human_Organs.pkl (file exists)\n",
      "⏩ Skipping [23/50]: Developing_Human_Thymus.pkl (file exists)\n",
      "⏩ Skipping [24/50]: Developing_Mouse_Brain.pkl (file exists)\n",
      "⏩ Skipping [25/50]: Developing_Mouse_Hippocampus.pkl (file exists)\n",
      "⏩ Skipping [26/50]: Fetal_Human_AdrenalGlands.pkl (file exists)\n",
      "⏩ Skipping [27/50]: Fetal_Human_Pancreas.pkl (file exists)\n",
      "⏩ Skipping [28/50]: Fetal_Human_Pituitary.pkl (file exists)\n",
      "⏩ Skipping [29/50]: Fetal_Human_Retina.pkl (file exists)\n",
      "⏩ Skipping [30/50]: Fetal_Human_Skin.pkl (file exists)\n",
      "⏩ Skipping [31/50]: Healthy_Adult_Heart.pkl (file exists)\n",
      "⏩ Skipping [32/50]: Healthy_COVID19_PBMC.pkl (file exists)\n",
      "⏩ Skipping [33/50]: Healthy_Human_Liver.pkl (file exists)\n",
      "⏩ Skipping [34/50]: Healthy_Mouse_Liver.pkl (file exists)\n",
      "⏩ Skipping [35/50]: Human_AdultAged_Hippocampus.pkl (file exists)\n",
      "⏩ Skipping [36/50]: Human_Colorectal_Cancer.pkl (file exists)\n",
      "⏩ Skipping [37/50]: Human_Developmental_Retina.pkl (file exists)\n",
      "⏩ Skipping [38/50]: Human_Embryonic_YolkSac.pkl (file exists)\n",
      "⏩ Skipping [39/50]: Human_IPF_Lung.pkl (file exists)\n",
      "⏩ Skipping [40/50]: Human_Longitudinal_Hippocampus.pkl (file exists)\n",
      "⏩ Skipping [41/50]: Human_Lung_Atlas.pkl (file exists)\n",
      "⏩ Skipping [42/50]: Human_PF_Lung.pkl (file exists)\n",
      "💾 Downloading model [43/50]: Human_Placenta_Decidua.pkl\n",
      "⏩ Skipping [44/50]: Lethal_COVID19_Lung.pkl (file exists)\n",
      "⏩ Skipping [45/50]: Mouse_Dentate_Gyrus.pkl (file exists)\n",
      "⏩ Skipping [46/50]: Mouse_Isocortex_Hippocampus.pkl (file exists)\n",
      "⏩ Skipping [47/50]: Mouse_Postnatal_DentateGyrus.pkl (file exists)\n",
      "⏩ Skipping [48/50]: Mouse_Whole_Brain.pkl (file exists)\n",
      "⏩ Skipping [49/50]: Nuclei_Lung_Airway.pkl (file exists)\n",
      "⏩ Skipping [50/50]: Pan_Fetal_Human.pkl (file exists)\n",
      "📜 Retrieving model list from server https://celltypist.cog.sanger.ac.uk/models/models.json\n",
      "📚 Total models in list: 50\n",
      "📂 Storing models in /home/kanferg/.celltypist/data/models\n",
      "💾 Downloading model [1/50]: Immune_All_Low.pkl\n",
      "💾 Downloading model [2/50]: Immune_All_High.pkl\n",
      "💾 Downloading model [3/50]: Adult_COVID19_PBMC.pkl\n",
      "💾 Downloading model [4/50]: Adult_CynomolgusMacaque_Hippocampus.pkl\n",
      "💾 Downloading model [5/50]: Adult_Human_PancreaticIslet.pkl\n",
      "💾 Downloading model [6/50]: Adult_Human_Skin.pkl\n",
      "💾 Downloading model [7/50]: Adult_Mouse_Gut.pkl\n",
      "💾 Downloading model [8/50]: Adult_Mouse_OlfactoryBulb.pkl\n",
      "💾 Downloading model [9/50]: Adult_Pig_Hippocampus.pkl\n",
      "💾 Downloading model [10/50]: Adult_RhesusMacaque_Hippocampus.pkl\n",
      "💾 Downloading model [11/50]: Autopsy_COVID19_Lung.pkl\n",
      "💾 Downloading model [12/50]: COVID19_HumanChallenge_Blood.pkl\n",
      "💾 Downloading model [13/50]: COVID19_Immune_Landscape.pkl\n",
      "💾 Downloading model [14/50]: Cells_Adult_Breast.pkl\n",
      "💾 Downloading model [15/50]: Cells_Fetal_Lung.pkl\n",
      "💾 Downloading model [16/50]: Cells_Human_Tonsil.pkl\n",
      "💾 Downloading model [17/50]: Cells_Intestinal_Tract.pkl\n",
      "💾 Downloading model [18/50]: Cells_Lung_Airway.pkl\n",
      "💾 Downloading model [19/50]: Developing_Human_Brain.pkl\n",
      "💾 Downloading model [20/50]: Developing_Human_Gonads.pkl\n",
      "💾 Downloading model [21/50]: Developing_Human_Hippocampus.pkl\n",
      "💾 Downloading model [22/50]: Developing_Human_Organs.pkl\n",
      "💾 Downloading model [23/50]: Developing_Human_Thymus.pkl\n",
      "💾 Downloading model [24/50]: Developing_Mouse_Brain.pkl\n",
      "💾 Downloading model [25/50]: Developing_Mouse_Hippocampus.pkl\n",
      "💾 Downloading model [26/50]: Fetal_Human_AdrenalGlands.pkl\n",
      "💾 Downloading model [27/50]: Fetal_Human_Pancreas.pkl\n",
      "💾 Downloading model [28/50]: Fetal_Human_Pituitary.pkl\n",
      "💾 Downloading model [29/50]: Fetal_Human_Retina.pkl\n",
      "💾 Downloading model [30/50]: Fetal_Human_Skin.pkl\n",
      "💾 Downloading model [31/50]: Healthy_Adult_Heart.pkl\n",
      "💾 Downloading model [32/50]: Healthy_COVID19_PBMC.pkl\n",
      "💾 Downloading model [33/50]: Healthy_Human_Liver.pkl\n",
      "💾 Downloading model [34/50]: Healthy_Mouse_Liver.pkl\n",
      "💾 Downloading model [35/50]: Human_AdultAged_Hippocampus.pkl\n",
      "💾 Downloading model [36/50]: Human_Colorectal_Cancer.pkl\n",
      "💾 Downloading model [37/50]: Human_Developmental_Retina.pkl\n",
      "💾 Downloading model [38/50]: Human_Embryonic_YolkSac.pkl\n",
      "💾 Downloading model [39/50]: Human_IPF_Lung.pkl\n",
      "💾 Downloading model [40/50]: Human_Longitudinal_Hippocampus.pkl\n",
      "💾 Downloading model [41/50]: Human_Lung_Atlas.pkl\n",
      "💾 Downloading model [42/50]: Human_PF_Lung.pkl\n",
      "💾 Downloading model [43/50]: Human_Placenta_Decidua.pkl\n",
      "💾 Downloading model [44/50]: Lethal_COVID19_Lung.pkl\n",
      "💾 Downloading model [45/50]: Mouse_Dentate_Gyrus.pkl\n",
      "💾 Downloading model [46/50]: Mouse_Isocortex_Hippocampus.pkl\n",
      "💾 Downloading model [47/50]: Mouse_Postnatal_DentateGyrus.pkl\n",
      "💾 Downloading model [48/50]: Mouse_Whole_Brain.pkl\n",
      "💾 Downloading model [49/50]: Nuclei_Lung_Airway.pkl\n",
      "💾 Downloading model [50/50]: Pan_Fetal_Human.pkl\n"
     ]
    }
   ],
   "source": [
    "#Download all the available models.\n",
    "models.download_models()\n",
    "#Update all models by re-downloading the latest versions if you think they may be outdated.\n",
    "models.download_models(force_update = True)"
   ]
  },
  {
   "cell_type": "code",
   "execution_count": 6,
   "id": "f1317362-1672-47f5-beba-a08915710595",
   "metadata": {},
   "outputs": [],
   "source": [
    "model = models.Model.load()"
   ]
  },
  {
   "cell_type": "code",
   "execution_count": 8,
   "id": "4a78d3b7-5e3d-4a33-8db3-95c0c1f30afa",
   "metadata": {},
   "outputs": [],
   "source": [
    "import cupy as cp\n",
    "import cupyx\n",
    "import scanpy as sc\n",
    "import numpy as np\n",
    "import pandas as pd\n",
    "from cupyx.scipy.sparse import csr_matrix\n",
    "import os\n",
    "from PIL import Image\n",
    "from sklearn.linear_model import LinearRegression\n",
    "import pickle\n",
    "import pickle\n",
    "import esda\n",
    "import pandas as pd\n",
    "import geopandas as gpd\n",
    "from geopandas import GeoDataFrame\n",
    "import libpysal as lps\n",
    "from libpysal.weights import W\n",
    "import numpy as np\n",
    "import matplotlib.pyplot as plt\n",
    "from shapely.geometry import Point\n",
    "import seaborn as sns \n",
    "from scipy.sparse import csr_matrix\n",
    "import pickle\n",
    "path = \"/data/kanferg/Sptial_Omics/playGround/Data/Xenium/output_temp\"\n",
    "pathout = \"/data/kanferg/Sptial_Omics/SpatialOmicsToolkit/out_1\"\n",
    "FilePrefix = \"_072824\" \n",
    "grid = sc.read_h5ad(os.path.join(pathout, \"grid_save.h5ad\"))\n",
    "file_path = os.path.join(pathout, \"grid_uns_mtracies.pkl\")\n",
    "\n",
    "if os.path.getsize(file_path) > 0:\n",
    "    with open(file_path, 'rb') as buff:\n",
    "        grid_uns_mtracies = pickle.load(buff)\n",
    "else:\n",
    "    print(\"File is empty. Cannot load data.\")\n",
    "    grid_uns_mtracies = None\n",
    "grid.uns = {}\n",
    "grid.uns['cluster'] = pd.read_csv(os.path.join(pathout, \"cluster.csv\"))\n",
    "grid.uns['grid_counts'] = grid_uns_mtracies['grid_counts']\n",
    "grid.uns['grid_xedges'] = grid_uns_mtracies['grid_xedges']\n",
    "grid.uns['grid_yedges'] = grid_uns_mtracies['grid_yedges']\n",
    "grid.uns['lrfeatures'] = pd.read_csv(os.path.join(pathout, \"lrfeatures.csv\"))\n",
    "grid.uns['lr_summary'] = pd.read_csv(os.path.join(pathout, \"lr_summary.csv\"))\n",
    "sparse_matrix = grid.X\n",
    "row_sums = sparse_matrix.sum(axis=1)\n",
    "grid.obs['n_counts'] = np.array(row_sums).flatten()"
   ]
  },
  {
   "cell_type": "code",
   "execution_count": 13,
   "id": "ec682ebb-3dd3-4d80-a020-54b3001321cb",
   "metadata": {},
   "outputs": [],
   "source": [
    "grid.layers['counts'] = grid.X.copy()\n",
    "sc.pp.normalize_total(grid)\n",
    "sc.pp.log1p(grid)\n",
    "grid.layers['log'] = grid.X.copy()"
   ]
  },
  {
   "cell_type": "code",
   "execution_count": 17,
   "id": "13c2be07-6a30-4f55-9a93-7212fcb1e9cd",
   "metadata": {},
   "outputs": [
    {
     "name": "stderr",
     "output_type": "stream",
     "text": [
      "⚠️ Warning: invalid expression matrix, expect ALL genes and log1p normalized expression to 10000 counts per cell. The prediction result may not be accurate\n",
      "🔬 Input data has 35389 cells and 1500 genes\n",
      "🔗 Matching reference genes in the model\n",
      "🧬 775 features used for prediction\n",
      "⚖️ Scaling input data\n",
      "🖋️ Predicting labels\n",
      "✅ Prediction done!\n"
     ]
    }
   ],
   "source": [
    "predictions = ct.annotate(grid, model=model, majority_voting=False, over_clustering=\"cluster\")\n",
    "# convert back to anndata||\n",
    "adata = predictions.to_adata()"
   ]
  },
  {
   "cell_type": "code",
   "execution_count": 18,
   "id": "010d15e0-4dc2-441f-aa0f-73e711b49f3b",
   "metadata": {},
   "outputs": [
    {
     "data": {
      "text/plain": [
       "grid_112      Endothelial cells\n",
       "grid_114      Endothelial cells\n",
       "grid_115      Endothelial cells\n",
       "grid_116      Endothelial cells\n",
       "grid_122      Endothelial cells\n",
       "                    ...        \n",
       "grid_62417    Endothelial cells\n",
       "grid_62420          Fibroblasts\n",
       "grid_62422          Fibroblasts\n",
       "grid_62423          Fibroblasts\n",
       "grid_62444          Fibroblasts\n",
       "Name: majority_voting, Length: 35389, dtype: category\n",
       "Categories (3, object): ['Endothelial cells', 'Fibroblasts', 'Mast cells']"
      ]
     },
     "execution_count": 18,
     "metadata": {},
     "output_type": "execute_result"
    }
   ],
   "source": [
    "adata.obs['majority_voting']"
   ]
  },
  {
   "cell_type": "code",
   "execution_count": null,
   "id": "41560dd2-12a3-4186-8e2d-13c90296b10d",
   "metadata": {},
   "outputs": [],
   "source": []
  }
 ],
 "metadata": {
  "kernelspec": {
   "display_name": "Python 3 (ipykernel)",
   "language": "python",
   "name": "python3"
  },
  "language_info": {
   "codemirror_mode": {
    "name": "ipython",
    "version": 3
   },
   "file_extension": ".py",
   "mimetype": "text/x-python",
   "name": "python",
   "nbconvert_exporter": "python",
   "pygments_lexer": "ipython3",
   "version": "3.8.19"
  }
 },
 "nbformat": 4,
 "nbformat_minor": 5
}
